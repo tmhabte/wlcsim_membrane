{
 "cells": [
  {
   "cell_type": "markdown",
   "metadata": {},
   "source": [
    "Epigenetic Reader Protein Binding  \n",
    "============================\n",
    "\n",
    "Self-consistent field theory for multiple marks\n",
    "------------------------------------------------------"
   ]
  },
  {
   "cell_type": "markdown",
   "metadata": {},
   "source": [
    "Questions:\n",
    "\n",
    "    -in eval_f_bind why introduce j_int. In theory had (0 marks 2 bound) = (0 marks 0 bound). Is it to take self-interaction into account? \n",
    "    - based on overleaf doc, only need <s> to get f bar, which can then use to get <s_i s_j>, correct? similar to what was done below with s2_bind\n",
    "    - how to verify <s_i s_j>, or (eventually) structure factor? simulation data to compare to?"
   ]
  },
  {
   "cell_type": "code",
   "execution_count": 1,
   "metadata": {},
   "outputs": [],
   "source": [
    "import sys\n",
    "sys.path.insert(1, './wlcstat/')"
   ]
  },
  {
   "cell_type": "code",
   "execution_count": 2,
   "metadata": {},
   "outputs": [],
   "source": [
    "import numpy as np\n",
    "import scipy.special as sp\n",
    "import scipy.optimize as opt\n",
    "import matplotlib.pyplot as plt"
   ]
  },
  {
   "cell_type": "code",
   "execution_count": 3,
   "metadata": {},
   "outputs": [],
   "source": [
    "def eval_f_bind(n_b, n_m, e_m = -1.5, j_int = -3.92):\n",
    "    r\"\"\"\n",
    "    eval_f_bind - Evaluate the binding free energy\n",
    "    \n",
    "    Parameters\n",
    "    ----------\n",
    "    n_b : integer\n",
    "        Number of reader proteins bound to the nucleosome\n",
    "    n_m : integer\n",
    "        Number of marked tails\n",
    "    e_me3 : float\n",
    "        Favorable binding free energy to tri-methylated tails\n",
    "        \n",
    "    Returns\n",
    "    -------\n",
    "    f_bind : float\n",
    "        Binding free energy\n",
    "    \n",
    "    \"\"\"\n",
    "    # Calculate the cases for the binding free energy\n",
    "    f_bind = 0\n",
    "\n",
    "    if n_b == 0:\n",
    "        f_bind = 0\n",
    "    elif n_b == 1:\n",
    "        if n_m == 0:\n",
    "            f_bind = -np.log(2)\n",
    "        elif n_m == 1:\n",
    "            f_bind = -np.log(1. + np.exp(-e_m))\n",
    "        elif n_m == 2:\n",
    "            f_bind = e_m - np.log(2)\n",
    "    elif n_b == 2:\n",
    "        if n_m == 0:\n",
    "            f_bind = j_int\n",
    "        elif n_m == 1:\n",
    "            f_bind = e_m + j_int\n",
    "        elif n_m == 2:\n",
    "            f_bind = 2 * e_m + j_int\n",
    "    \n",
    "    return f_bind"
   ]
  },
  {
   "cell_type": "code",
   "execution_count": 42,
   "metadata": {},
   "outputs": [],
   "source": [
    "def eval_opt_func(x, mu, e_m, v_int, f_om, phi_c):\n",
    "    r\"\"\"\n",
    "    eval_opt_func - Evaluate the binding state for \n",
    "    \n",
    "    \"\"\"\n",
    "\n",
    "    # Convert to average bound variable and phi variable\n",
    "    n_bind = len(mu) # number of reader protein types\n",
    "    s_bind = 2. * np.exp(x) / (1 + np.exp(x))\n",
    "    \n",
    "    phi_bind = np.zeros(n_bind)\n",
    "    for mark in range(n_bind):\n",
    "        ind0 = mark * 3 \n",
    "#         phi_bind[mark] = phi_c * np.sum(f_om[ind0:(ind0 + 2)] * s_bind[ind0:(ind0 + 2)]) # ORGINAL. OBOE\n",
    "        phi_bind[mark] = phi_c * np.sum(f_om[ind0:(ind0 + 3)] * s_bind[ind0:(ind0 + 3)]) # MINE\n",
    "    erg_int = np.matmul(v_int, phi_bind)\n",
    "    \n",
    "    # Evaluate the optimization function\n",
    "    opt_func = np.zeros(n_bind * 3)\n",
    "    \n",
    "    ind = 0\n",
    "    for mark in range(n_bind): # for each reader protein/ mark type\n",
    "        for om in range(3): # for each possible number of marked tails on nucl\n",
    "            f_bind_1 = eval_f_bind(1, om, e_m[mark], v_int[mark, mark])\n",
    "            f_bind_2 = eval_f_bind(2, om, e_m[mark], v_int[mark, mark])\n",
    "            q = 1 + np.exp(mu[mark] - f_bind_1 - erg_int[mark]) + np.exp(2 * mu[mark] - f_bind_2 - 2 * erg_int[mark])\n",
    "            #calculate the difference b/w new and previous avg binding state \n",
    "            # FOR opt.fsolve:\n",
    "            opt_func[ind] = s_bind[ind] - (np.exp(mu[mark] - f_bind_1 - erg_int[mark]) + \n",
    "                                             2 * np.exp(2 * mu[mark] - f_bind_2 - 2 * erg_int[mark])) / q        \n",
    "#             # FOR opt.minimize\n",
    "#             opt_func[ind] = (s_bind[ind] - (np.exp(mu[mark] - f_bind_1 - erg_int[mark]) + \n",
    "#                                              2 * np.exp(2 * mu[mark] - f_bind_2 - 2 * erg_int[mark])) / q)**2            \n",
    "            \n",
    "    \n",
    "            ind += 1\n",
    "    \n",
    "    return opt_func"
   ]
  },
  {
   "cell_type": "code",
   "execution_count": 43,
   "metadata": {},
   "outputs": [],
   "source": [
    "def eval_opt_func_wrapper(x, mu, e_m, v_int, f_om, phi_c):\n",
    "    opt_func = eval_opt_func(x, mu, e_m, v_int, f_om, phi_c)\n",
    "#     if sigma ==0:\n",
    "#         return [opt_func, x[1], x[2]]\n",
    "#     elif sigma ==1:\n",
    "#         return [x[0], opt_func, x[2]]\n",
    "#     elif sigma ==2:\n",
    "#         return [x[0], x[1], opt_func]\n",
    "    return np.sum(opt_func)"
   ]
  },
  {
   "cell_type": "code",
   "execution_count": 56,
   "metadata": {},
   "outputs": [],
   "source": [
    "def eval_s_bind(mu, e_m, v_int, f_om, phi_c, x0, mu_fail_arr):\n",
    "    # Convert to average bound variable and phi variable\n",
    "    n_bind = len(mu)\n",
    "    for mark in range(n_bind):\n",
    "        ind0 = mark * 3\n",
    "#         indf = ind0 + 2 # ORGINAL OBOE\n",
    "        indf = ind0 + 3 # MINE\n",
    "        f_om[ind0:indf] /= np.sum(f_om[ind0:indf])\n",
    "    \n",
    "    x = np.zeros(n_bind * 3)\n",
    "    \n",
    "#     x0 = np.zeros(n_bind * 3)\n",
    "#     x0 = np.ones(n_bind * 3) * -20\n",
    "    \n",
    "#     data = (mu, e_m, v_int, f_om, phi_c)\n",
    "    data = [mu, e_m, v_int, f_om, phi_c]\n",
    "\n",
    "    #doing unbounded non-linear solver for x, then calc (bounded) var s_bind\n",
    "    \n",
    "    #OPTION 1: fsolve. failing\n",
    "#     x = opt.fsolve(eval_opt_func, x0=x0, args=tuple(data), full_output = 0, maxfev = 100000, xtol = 1e-9)\n",
    "#     x = ot[0]\n",
    "\n",
    "#     #OPTION 2: minimize. NOT GOOD dealing w/local vs global min\n",
    "\n",
    "#     x = opt.minimize(eval_opt_func_wrapper, x0=x0, args=tuple(data))\n",
    "#     suc = x.success\n",
    "#     msg = x.message\n",
    "#     x = x.x\n",
    "    \n",
    "    #OPTION 3: least squares, same s fsolve\n",
    "#     x = opt.least_squares(eval_opt_func, x0=x0, args=tuple(data))\n",
    "#     x = x.x\n",
    "    \n",
    "#     #OPTION 4: root\n",
    "    \n",
    "    x = opt.root(eval_opt_func, x0=x0, args=tuple(data), method  =\"df-sane\")#, options={\"maxiter\":1e6})\n",
    "    suc = x.success\n",
    "    msg = x.message\n",
    "    x = x.x\n",
    "    \n",
    "    test = eval_opt_func(x, mu, e_m, v_int, f_om, phi_c)\n",
    "#     if test[0]>0.001:\n",
    "    if not suc:\n",
    "        print(\"test:\", test)\n",
    "        mu_fail_arr= np.append(mu, mu_fail_arr)\n",
    "        print(\"failure at mu = \", str(mu))\n",
    "        print(msg)\n",
    "#         print(test)\n",
    "#         print(\"int var- 1 if soln was found: \", ot[2])\n",
    "#         print(ot[3])\n",
    "#         print(ot[1])\n",
    "        print(\"------------------\")\n",
    "#         return [np.nan, np.nan, np.nan]\n",
    "    s_bind = 2. * np.exp(x) / (1 + np.exp(x))\n",
    "    \n",
    "    return s_bind, mu_fail_arr"
   ]
  },
  {
   "cell_type": "code",
   "execution_count": 45,
   "metadata": {},
   "outputs": [],
   "source": [
    "def eval_opt_func_direct(x, mu, e_m, v_int, f_om, phi_c):\n",
    "    r\"\"\"\n",
    "    eval_opt_func - Evaluate the binding state for \n",
    "    \n",
    "    \"\"\"\n",
    "\n",
    "    # Convert to average bound variable and phi variable\n",
    "    n_bind = len(mu) # number of reader protein types\n",
    "    s_bind = x#2. * np.exp(x) / (1 + np.exp(x))\n",
    "    \n",
    "    phi_bind = np.zeros(n_bind)\n",
    "    for mark in range(n_bind):\n",
    "        ind0 = mark * 3 \n",
    "#         phi_bind[mark] = phi_c * np.sum(f_om[ind0:(ind0 + 2)] * s_bind[ind0:(ind0 + 2)]) # ORGINAL. OBOE\n",
    "        phi_bind[mark] = phi_c * np.sum(f_om[ind0:(ind0 + 3)] * s_bind[ind0:(ind0 + 3)]) # MINE\n",
    "    erg_int = np.matmul(v_int, phi_bind)\n",
    "    \n",
    "    # Evaluate the optimization function\n",
    "    opt_func = np.zeros(n_bind * 3)\n",
    "    \n",
    "    ind = 0\n",
    "    for mark in range(n_bind): # for each reader protein/ mark type\n",
    "        for om in range(3): # for each possible number of marked tails on nucl\n",
    "            f_bind_1 = eval_f_bind(1, om, e_m[mark], v_int[mark, mark])\n",
    "            f_bind_2 = eval_f_bind(2, om, e_m[mark], v_int[mark, mark])\n",
    "            q = 1 + np.exp(mu[mark] - f_bind_1 - erg_int[mark]) + np.exp(2 * mu[mark] - f_bind_2 - 2 * erg_int[mark])\n",
    "            #calculate the difference b/w new and previous avg binding state \n",
    "            # FOR opt.fsolve:\n",
    "#             opt_func[ind] = s_bind[ind] - (np.exp(mu[mark] - f_bind_1 - erg_int[mark]) + \n",
    "#                                              2 * np.exp(2 * mu[mark] - f_bind_2 - 2 * erg_int[mark])) / q        \n",
    "#             # FOR opt.minimize\n",
    "            opt_func[ind] = (s_bind[ind] - (np.exp(mu[mark] - f_bind_1 - erg_int[mark]) + \n",
    "                                             2 * np.exp(2 * mu[mark] - f_bind_2 - 2 * erg_int[mark])) / q)**2            \n",
    "            ind += 1\n",
    "    \n",
    "    return opt_func"
   ]
  },
  {
   "cell_type": "code",
   "execution_count": 46,
   "metadata": {},
   "outputs": [],
   "source": [
    "def eval_s_bind_direct(mu, e_m, v_int, f_om, phi_c, s_bind_prev):\n",
    "    # Minimizing wrt s_bind directly, using a bounded nonlinear solver. \n",
    "    # Convert to average bound variable and phi variable\n",
    "    n_bind = len(mu)\n",
    "    for mark in range(n_bind):\n",
    "        ind0 = mark * 3\n",
    "#         indf = ind0 + 2 # ORGINAL OBOE\n",
    "        indf = ind0 + 3 # MINE\n",
    "        f_om[ind0:indf] /= np.sum(f_om[ind0:indf])\n",
    "    \n",
    "    x = np.zeros(n_bind * 3)\n",
    "    \n",
    "#     x0 = np.zeros(n_bind * 3)\n",
    "#     x0 = np.ones(n_bind * 3) * -20\n",
    "    \n",
    "#     data = (mu, e_m, v_int, f_om, phi_c)\n",
    "    data = [mu, e_m, v_int, f_om, phi_c]\n",
    "\n",
    "    #doing BOUNDED non-linear solver for x, then calc (bounded) var s_bind\n",
    "\n",
    "#     #OPTION 2: minimize. NOT GOOD doesn't accept vectors, need to minimze simultaneously\n",
    "#     x_0 = opt.minimize(eval_opt_func_wrapper, x0=x0, args=tuple(data+ [0])) #doesnt work b/c requires scalar result \n",
    "#     x_0 = x_0.x\n",
    "#     x_1 = opt.minimize(eval_opt_func_wrapper, x0=x0, args=tuple(data+ [1])) #doesnt work b/c requires scalar result \n",
    "#     x_1 = x_1.x\n",
    "#     x_2 = opt.minimize(eval_opt_func_wrapper, x0=x0, args=tuple(data+ [2])) #doesnt work b/c requires scalar result \n",
    "#     x_2 = x_2.x\n",
    "#     x = [x_0,x_1,x_2]\n",
    "    \n",
    "    #OPTION 3: least squares\n",
    "    x = opt.least_squares(eval_opt_func, x0=s_bind_prev, args=tuple(data), bounds =((0,0,0),(2,2,2)))\n",
    "    x = x.x\n",
    "    \n",
    "    test = eval_opt_func_direct(x, mu, e_m, v_int, f_om, phi_c)\n",
    "#     if test[0]>0.001:\n",
    "#         print(\"failure at mu = \", str(mu))\n",
    "#         print(test)\n",
    "#         print(\"------------------\")\n",
    "#         return [np.nan, np.nan, np.nan]\n",
    "    s_bind = x#2. * np.exp(x) / (1 + np.exp(x))\n",
    "    \n",
    "    return s_bind"
   ]
  },
  {
   "cell_type": "code",
   "execution_count": 47,
   "metadata": {},
   "outputs": [],
   "source": [
    "# def eval_s2_bind(s_bind, mu, e_m, v_int, f_om, phi_c):\n",
    "#     r\"\"\"\n",
    "#     eval_s2_bind - Evaluate the binding state for \n",
    "    \n",
    "#     \"\"\"\n",
    "\n",
    "#     # Convert to average bound variable and phi variable\n",
    "#     n_bind = len(mu)\n",
    "#     s2_bind = np.zeros(n_bind * 3)\n",
    "    \n",
    "#     phi_bind = np.zeros(n_bind)\n",
    "#     for mark in range(n_bind):\n",
    "#         ind0 = mark * 3\n",
    "#         phi_bind[mark] = phi_c * np.sum(f_om[ind0:(ind0 + 3)] * s_bind[ind0:(ind0 + 3)]) \n",
    "#     erg_int = np.matmul(v_int, phi_bind)\n",
    "    \n",
    "    \n",
    "#     # Evaluate the optimization function\n",
    "#     opt_func = np.zeros(n_bind * 3)\n",
    "    \n",
    "#     ind = 0\n",
    "#     for mark in range(n_bind):\n",
    "#         for om in range(3):\n",
    "# #            f_bind_1 = eval_f_bind(1, om, e_m[mark], v_int[mark, mark])\n",
    "# #            f_bind_2 = eval_f_bind(2, om, e_m[mark], v_int[mark, mark])\n",
    "#             f_bind_1 = eval_f_bind(1, om, e_m[mark], 0 * v_int[mark, mark])\n",
    "#             f_bind_2 = eval_f_bind(2, om, e_m[mark], 0 * v_int[mark, mark])\n",
    "#             q = 1 + np.exp(mu[mark] - f_bind_1 - erg_int[mark]) + np.exp(2 * mu[mark] - f_bind_2 - 2 * erg_int[mark])\n",
    "#             s2_bind[ind] = (np.exp(mu[mark] - f_bind_1 - erg_int[mark]) + \n",
    "#                                              4 * np.exp(2 * mu[mark] - f_bind_2 - 2 * erg_int[mark])) / q        \n",
    "#             ind += 1\n",
    "    \n",
    "#     return s2_bind"
   ]
  },
  {
   "cell_type": "markdown",
   "metadata": {},
   "source": [
    "Test the optimization procedure"
   ]
  },
  {
   "cell_type": "code",
   "execution_count": 48,
   "metadata": {},
   "outputs": [],
   "source": [
    "# n_bind = 2 #types of proteins/marks\n",
    "\n",
    "# mu = np.array([-4.5, -5]) #chemical potential in solution\n",
    "# e_m = np.array([-1.5, -1.5]) #binding energy\n",
    "# f_om = np.array([0.5, 0, 0.5, 0.75, 0, 0.25]) # fraction of nucleosomes with 0,1,2 marks per protein type\n",
    "# v_int = np.array([[-3.92, 3.0],[3.0, -3.92]]) # protein-protein interaction param\n",
    "# phi_c = 0.6 # avg amount of chromosome \n",
    "\n",
    "# x = np.zeros(n_bind * 3)\n",
    "\n",
    "# eval_opt_func(x, mu, e_m, v_int, f_om, phi_c)\n",
    "\n",
    "# s_bind = eval_s_bind(mu, e_m, v_int, f_om, phi_c) #average binding state for protein 1 marks = 0,1,2 ; protein 2 marks = 0,1,2\n",
    "# s2_bind = eval_s2_bind(s_bind, mu, e_m, v_int, f_om, phi_c)\n",
    "\n",
    "# s2_bind - s_bind ** 2"
   ]
  },
  {
   "cell_type": "code",
   "execution_count": 49,
   "metadata": {},
   "outputs": [
    {
     "data": {
      "text/plain": [
       "array([nan])"
      ]
     },
     "execution_count": 49,
     "metadata": {},
     "output_type": "execute_result"
    }
   ],
   "source": [
    "# x,di,i,me = \n",
    "opt.fsolve(lambda x: (x+1)**4+5, [np.nan])"
   ]
  },
  {
   "cell_type": "markdown",
   "metadata": {},
   "source": [
    "## Langmuir isotherm analysis single protein"
   ]
  },
  {
   "cell_type": "markdown",
   "metadata": {},
   "source": [
    "1) (COMPLETED) calculate strating at multiple points- only way to get multiple points per signle chemical potential \n",
    "\n",
    "1b) Play with solver settings/ use different vector-friendly unbounded nonlinear solver. look at why x0 = 10 mu_start = 10 rtl dips donw then back up. Issue woth solver??\n",
    "\n",
    "2) optimize wrt s directly ( using bounded solver)\\\n",
    "3) change back OBOE change. (tried didnt work) "
   ]
  },
  {
   "cell_type": "markdown",
   "metadata": {},
   "source": [
    "Deep dive into a single mu-error. for both x and direct, at known solution mu = 10 and unknown mu = (-5.2), look at how optfunc changes (plot optfunc vs x or s_bind, manually idenftify root)"
   ]
  },
  {
   "cell_type": "code",
   "execution_count": 57,
   "metadata": {},
   "outputs": [],
   "source": [
    "n_bind = 1 #types of proteins/marks\n",
    "\n",
    "e_m = np.array([-1.5]) #binding energy\n",
    "# e_m = np.array([0]) #binding energy\n",
    "f_om = np.array([1/3, 1/3, 1/3]) # fraction of nucleosomes with 0,1,2 marks per protein type\n",
    "v_int = np.array([[-3.92]]) # protein-protein interaction param\n",
    "# v_int = np.array([[-1.8]]) # protein-protein interaction param\n",
    "# v_int = np.array([[-5]])\n",
    "phi_c = 0.6# avg amount of chromosome \n",
    "\n",
    "x = np.zeros(n_bind * 3)\n",
    "\n",
    "# eval_opt_func(x, mu, e_m, v_int, f_om, phi_c)"
   ]
  },
  {
   "cell_type": "code",
   "execution_count": 58,
   "metadata": {},
   "outputs": [],
   "source": [
    "# # SINGLE STARTING CONDITION\n",
    "# mu_array = np.arange(-10, 10, .1)\n",
    "# # mu_array = np.arange(-6, -1, 2)\n",
    "# f_bar_arr = np.zeros(len(mu_array))\n",
    "# s_bind_0sig = np.zeros(len(mu_array))\n",
    "# s_bind_1sig = np.zeros(len(mu_array))\n",
    "# s_bind_2sig = np.zeros(len(mu_array)) \n",
    "# x0 = np.ones(n_bind * 3) * -10\n",
    "# for i,mu in enumerate(mu_array):\n",
    "#     s_bind = eval_s_bind([mu], e_m, v_int, f_om, phi_c, x0)\n",
    "# #     print(\"s_bind:\")\n",
    "# #     print(s_bind)\n",
    "# #     print(s_bind[0:(0 + 3)])\n",
    "# #     f_bar = np.sum(f_om[0:(0 + 3)] * s_bind[0:(0 + 3)])\n",
    "#     f_bar = np.sum(f_om * s_bind)\n",
    "#     s_bind_0sig[i] = s_bind[0]\n",
    "#     s_bind_1sig[i] = s_bind[1]\n",
    "#     s_bind_2sig[i] = s_bind[2]\n",
    "#     f_bar_arr[i] = f_bar\n",
    "#     x0 = [s_bind[0], s_bind[1], s_bind[2]]\n",
    "# # f_bar_arr"
   ]
  },
  {
   "cell_type": "code",
   "execution_count": 158,
   "metadata": {
    "scrolled": true
   },
   "outputs": [
    {
     "name": "stdout",
     "output_type": "stream",
     "text": [
      "0\n",
      "mu arr [0]:  -10.0\n",
      "xxxxxxxxxx end of one iter xxxx\n",
      "1\n",
      "mu arr [0]:  -5.400000000000016\n",
      "xxxxxxxxxx end of one iter xxxx\n",
      "2\n",
      "mu arr [0]:  -5.400000000000016\n",
      "xxxxxxxxxx end of one iter xxxx\n",
      "3\n",
      "mu arr [0]:  -5.500000000000016\n",
      "test: [-0.00976902 -0.02918366 -0.06686627]\n",
      "failure at mu =  [-5.500000000000016]\n",
      "too many function evaluations required\n",
      "------------------\n"
     ]
    },
    {
     "name": "stderr",
     "output_type": "stream",
     "text": [
      "C:\\Users\\tmhab\\AppData\\Local\\Temp\\ipykernel_273916\\963874357.py:9: RuntimeWarning: overflow encountered in exp\n",
      "  s_bind = 2. * np.exp(x) / (1 + np.exp(x))\n",
      "C:\\Users\\tmhab\\AppData\\Local\\Temp\\ipykernel_273916\\963874357.py:9: RuntimeWarning: invalid value encountered in divide\n",
      "  s_bind = 2. * np.exp(x) / (1 + np.exp(x))\n"
     ]
    },
    {
     "name": "stdout",
     "output_type": "stream",
     "text": [
      "xxxxxxxxxx end of one iter xxxx\n",
      "4\n",
      "mu arr [0]:  -5.500000000000016\n",
      "xxxxxxxxxx end of one iter xxxx\n",
      "5\n",
      "mu arr [0]:  9.899999999999928\n",
      "test: [-0.00976902 -0.02918366 -0.06686627]\n",
      "failure at mu =  [-5.500000000000016]\n",
      "too many function evaluations required\n",
      "------------------\n",
      "xxxxxxxxxx end of one iter xxxx\n"
     ]
    }
   ],
   "source": [
    "# MULTIPLE STARTING CONDITIONS, UNBOUNDED\n",
    " \n",
    "mu_array = np.arange(-10, 10, .1)\n",
    "# mu_array = np.arange(-8, -3, 1)\n",
    "mul = len(mu_array)\n",
    "ones = np.ones(n_bind * 3)\n",
    "x0_min = -4\n",
    "x0_mid = 0\n",
    "x0_max = 4\n",
    "# x0_arr = np.array([ones * x0_min, ones * x0_mid, ones * x0_mid, ones * x0_max])\n",
    "\n",
    "#                   ltr -4 low  ,  ltr mid low ,ltr mid high, rtl mid high , rtl mid low,  rtl 4 high\n",
    "x0_arr = np.array([ones * x0_min, ones * x0_min, ones*x0_max, ones * x0_max, ones * x0_min, ones * x0_max])\n",
    "#need mu split at mu = -7.75\n",
    "mu_mid = -5.5\n",
    "# mu_mid = -6.2\n",
    "mu_arrs = [mu_array, mu_array[np.where(mu_array > mu_mid)],  mu_array[np.where(mu_array > mu_mid)], \\\n",
    "           mu_array[np.where(mu_array < mu_mid)][::-1], mu_array[np.where(mu_array < mu_mid)][::-1], mu_array[::-1]]\n",
    "mu_fail_arr_arr = np.zeros(len(x0_arr), dtype = object)\n",
    "f_bar_arr_arr = np.zeros(len(x0_arr), dtype = object)\n",
    "\n",
    "for j,x0 in enumerate(x0_arr):\n",
    "    mu_ar = mu_arrs[j]\n",
    "    print(j)\n",
    "    print(\"mu arr [0]: \", mu_ar[0])\n",
    "    f_bar_arr = np.zeros(len(mu_ar))\n",
    "    s_bind_0sig = np.zeros(len(mu_ar))\n",
    "    s_bind_1sig = np.zeros(len(mu_ar))\n",
    "    s_bind_2sig = np.zeros(len(mu_ar)) \n",
    "    mu_fail_arr = np.array([])\n",
    "    x00 = x0\n",
    "    for i,mu in enumerate(mu_ar):\n",
    "        if mu > -5.6 and mu < -4.9:\n",
    "            x00 = x0\n",
    "#             print(\"reset x00 to: \", x00)\n",
    "#             print(\"~~~~~~~~~~~~~~~~~~\")\n",
    "#             print(\"mu = \", mu)\n",
    "#             print(\"x0 for mu:\", x0)\n",
    "#             print(\"~~~~~~~~~~~~~~~~~~\")\n",
    "#         print(\"x0: \", x0)\n",
    "\n",
    "        s_bind, mu_fail_arr = eval_s_bind([mu], e_m, v_int, f_om, phi_c, x00, mu_fail_arr)\n",
    "    #     print(\"s_bind:\")\n",
    "    #     print(s_bind)\n",
    "    #     print(s_bind[0:(0 + 3)])\n",
    "    #     f_bar = np.sum(f_om[0:(0 + 3)] * s_bind[0:(0 + 3)])\n",
    "        f_bar = np.sum(f_om * s_bind)\n",
    "        s_bind_0sig[i] = s_bind[0]\n",
    "        s_bind_1sig[i] = s_bind[1]\n",
    "        s_bind_2sig[i] = s_bind[2]\n",
    "        f_bar_arr[i] = f_bar\n",
    "        x00 = [s_bind[0], s_bind[1], s_bind[2]]\n",
    "    \n",
    "    f_bar_arr_arr[j] = f_bar_arr\n",
    "    mu_fail_arr_arr[j] = mu_fail_arr\n",
    "    print(\"xxxxxxxxxx end of one iter xxxx\")"
   ]
  },
  {
   "cell_type": "code",
   "execution_count": null,
   "metadata": {},
   "outputs": [],
   "source": []
  },
  {
   "cell_type": "code",
   "execution_count": 53,
   "metadata": {
    "scrolled": false
   },
   "outputs": [],
   "source": [
    "# # MULTIPLE STARTING CONDITIONS, BOUNDED\n",
    "\n",
    "# mu_array = np.arange(-10, 10, .1)\n",
    "# # mu_array = np.arange(-8, -3, 1)\n",
    "# mul = len(mu_array)\n",
    "# ones = np.ones(n_bind * 3)\n",
    "# # x0_min = -10\n",
    "# # x0_mid = 0\n",
    "# # x0_max = 10\n",
    "\n",
    "# x0_min = 0\n",
    "# x0_mid = 1\n",
    "# x0_max = 2\n",
    "\n",
    "# x0_arr_direct = np.array([ones * x0_min, ones * x0_mid, ones * x0_mid, ones * x0_max])\n",
    "\n",
    "# #need mu split at mu = -7.75\n",
    "# mu_mid = -6.3\n",
    "# mu_arrs = [mu_array, mu_array[np.where(mu_array > mu_mid)], mu_array[np.where(mu_array < mu_mid)][::-1], mu_array[::-1]]\n",
    "\n",
    "# f_bar_arr_arr_direct = np.zeros(len(x0_arr), dtype = object)\n",
    "\n",
    "# for j,x0 in enumerate(x0_arr_direct):\n",
    "#     mu_ar = mu_arrs[j]\n",
    "# #     print(\"mu arr: \", mu_ar)\n",
    "#     f_bar_arr = np.zeros(len(mu_ar))\n",
    "#     s_bind_0sig = np.zeros(len(mu_ar))\n",
    "#     s_bind_1sig = np.zeros(len(mu_ar))\n",
    "#     s_bind_2sig = np.zeros(len(mu_ar)) \n",
    "#     for i,mu in enumerate(mu_ar):\n",
    "# #         print(\"x0: \", x0)\n",
    "#         s_bind = eval_s_bind_direct([mu], e_m, v_int, f_om, phi_c, x0)\n",
    "#         f_bar = np.sum(f_om * s_bind)\n",
    "#         s_bind_0sig[i] = s_bind[0]\n",
    "#         s_bind_1sig[i] = s_bind[1]\n",
    "#         s_bind_2sig[i] = s_bind[2]\n",
    "#         f_bar_arr[i] = f_bar\n",
    "#         x0 = [s_bind[0], s_bind[1], s_bind[2]]\n",
    "    \n",
    "#     f_bar_arr_arr_direct[j] = f_bar_arr"
   ]
  },
  {
   "cell_type": "code",
   "execution_count": null,
   "metadata": {},
   "outputs": [],
   "source": []
  },
  {
   "cell_type": "code",
   "execution_count": 165,
   "metadata": {
    "scrolled": false
   },
   "outputs": [
    {
     "name": "stdout",
     "output_type": "stream",
     "text": [
      "[-4. -4. -4.]\n",
      "[-4. -4. -4.]\n",
      "[4. 4. 4.]\n",
      "[4. 4. 4.]\n",
      "[-4. -4. -4.]\n",
      "[4. 4. 4.]\n"
     ]
    },
    {
     "data": {
      "text/plain": [
       "<matplotlib.legend.Legend at 0x28c67b70670>"
      ]
     },
     "execution_count": 165,
     "metadata": {},
     "output_type": "execute_result"
    },
    {
     "data": {
      "text/plain": [
       "<Figure size 640x480 with 0 Axes>"
      ]
     },
     "metadata": {},
     "output_type": "display_data"
    },
    {
     "data": {
      "image/png": "[encoded data removed]",
      "text/plain": [
       "<Figure size 1000x800 with 1 Axes>"
      ]
     },
     "metadata": {},
     "output_type": "display_data"
    }
   ],
   "source": [
    "fig = plt.figure()\n",
    "plt.figure(figsize=(10,8))\n",
    "\n",
    "font = {'family' : 'serif',\n",
    "        'weight':'normal',\n",
    "        'size': 18}\n",
    "plt.rc('font', **font)\n",
    "# lins = [\"-\", \":\", \"-.\", \"--\"]\n",
    "# lins_bnd = [\":\", \"-\", \"--\", \"-.\"]\n",
    "lins = [\"-\"]*6\n",
    "\n",
    "colors = [\"blue\",\"orange\",\"green\",\"red\", \"pink\", \"purple\"]\n",
    "for j,x0 in enumerate(x0_arr[:]):\n",
    "    print(x0)\n",
    "#     x0_direct = x0_arr_direct[j]\n",
    "    if j <= 2:\n",
    "        msg = \", ltr\"\n",
    "    else:\n",
    "        msg = \", rtl\"\n",
    "    if j == 1 or j == 2 or j ==3 or j == 4:\n",
    "        msg2 = \", $\\mu_{start} = $\"+ str(mu_mid)\n",
    "    elif j ==0:\n",
    "        msg2 =  \", $\\mu_{start} = -10$\"\n",
    "    elif j ==5:\n",
    "         msg2 = \", $\\mu_{start} = 10$\"\n",
    "#     if x0[0] > -2 and x0[0] < 2:\n",
    "#     if j >= 3 and j<= 4:\n",
    "    plt.plot(mu_arrs[j], f_bar_arr_arr[j], label = \"<$ f_{\\gamma} $>, x0 = \" + str(x0[0]) + msg +msg2, linestyle = lins[j], alpha = 0.5, color = colors[j])\n",
    "#     plt.vlines(mu_fail_arr_arr[j], 0,2,color = colors[j])\n",
    "#     if j == 3:\n",
    "#         plt.plot(mu_arrs[j], f_bar_arr_arr[j], label = \"<$ f_{\\gamma} $>, x0 = \" + str(x0[0]) + msg +msg2, color = colors[j])\n",
    "#         plt.vlines(mu_fail_arr_arr[j], 0,2, linestyle = \":\")\n",
    "#     plt.plot(mu_arrs[j], f_bar_arr_arr_direct[j], label = \"drct bndd, <$ f_{\\gamma} $>, x0 = \" + str(x0_direct[0]) + msg +msg2, linestyle = lins_bnd[j], alpha = 0.5)\n",
    "\n",
    "\n",
    "plt.ylabel(\"<$ s_{bind}^{(\\sigma = n)}$> | <$ f_{\\gamma} $>\")\n",
    "plt.xlabel(\"$\\mu$\")\n",
    "plt.title(\"$v_{int} = $\" + str(v_int[0][0]) +  \" $,e_B = $\" + str(e_m[0]) + \", $\\phi_c = $\" + str(phi_c))\n",
    "plt.hlines(1, -10, 10, color = \"black\", alpha = 0.3)\n",
    "# plt.vlines(-.75, 0,2, color = \"black\", alpha = 0.3, label = \"$\\mu = -0.75$\")\n",
    "plt.vlines(-0, 0,2, color = \"black\", alpha = 0.3, label = \"$\\mu = 0$\")\n",
    "plt.legend()\n",
    "\n",
    "# why is s_bind = 2 * (exp(x \\ (1 + exp)))? how did that realtion come about. it is to allow for unbounded minimizationq\n",
    "#check solver- intial conditions? "
   ]
  },
  {
   "cell_type": "code",
   "execution_count": 119,
   "metadata": {},
   "outputs": [
    {
     "data": {
      "text/plain": [
       "array([array([-4.9, -5.1, -5.2, -5.3]), array([], dtype=float64),\n",
       "       array([-5.5]), array([-5.5])], dtype=object)"
      ]
     },
     "execution_count": 119,
     "metadata": {},
     "output_type": "execute_result"
    }
   ],
   "source": [
    "mu_fail_arr_arr"
   ]
  },
  {
   "cell_type": "markdown",
   "metadata": {},
   "source": []
  },
  {
   "cell_type": "code",
   "execution_count": 55,
   "metadata": {},
   "outputs": [],
   "source": [
    "# plt.plot(mu_array, f_bar_arr, label = \"<$ f_{\\gamma} $>\", color = \"blue\", alpha = 0.5, linestyle= \":\")\n",
    "# plt.xlabel(\"$\\mu$\")\n",
    "# plt.ylabel(\"<$ f_{\\gamma} $>\")\n",
    "\n",
    "# plt.plot(mu_array, s_bind_0sig, linestyle = \"--\", label = \"n = 0\", color = \"green\")\n",
    "# # plt.xlabel(\"$\\mu$\")\n",
    "# # plt.ylabel(\"<$ s_{bind}^{(\\sigma = 0)}$>\")\n",
    "\n",
    "# plt.plot(mu_array, s_bind_1sig, linestyle = \"--\", label = \"n = 1\", color = \"red\")\n",
    "# # plt.xlabel(\"$\\mu$\")\n",
    "# # plt.ylabel(\"<$ s_{bind}^{(\\sigma = 1)}$>\")\n",
    "\n",
    "# plt.plot(mu_array, s_bind_2sig, linestyle = \"--\", label = \"n = 2\", color = \"orange\")\n",
    "# # plt.xlabel(\"$\\mu$\")\n",
    "# plt.ylabel(\"<$ s_{bind}^{(\\sigma = 2)}$>\")\n",
    "\n",
    "# LANGMUIR. Assumptions only valid when v_int = 0, and for sigma =0 or 2 (all sites identical)\n",
    "# K = np.exp(-e_m)\n",
    "# plt.plot(mu_array, 2*K*np.exp(mu_array) / (1+ K*np.exp(mu_array)), label = \"langmuir\", linestyle = \":\", color = \"black\")\n",
    "\n",
    "# K = np.exp(-0)  # sigma = 0 - all binding energies are 0\n",
    "# plt.plot(mu_array, 2*K*np.exp(mu_array) / (1+ K*np.exp(mu_array)), label = \"langmuir, e_b = 0\", linestyle = \"-.\", color = \"black\")\n"
   ]
  },
  {
   "cell_type": "markdown",
   "metadata": {},
   "source": [
    "### single mu analysis"
   ]
  },
  {
   "cell_type": "code",
   "execution_count": null,
   "metadata": {},
   "outputs": [],
   "source": [
    "n_bind = 1 #types of proteins/marks\n",
    "\n",
    "e_m = np.array([-1.5]) #binding energy\n",
    "# e_m = np.array([0]) #binding energy\n",
    "f_om = np.array([1/3, 1/3, 1/3]) # fraction of nucleosomes with 0,1,2 marks per protein type\n",
    "v_int = np.array([[-3.92]]) # protein-protein interaction param\n",
    "# v_int = np.array([[-1.8]]) # protein-protein interaction param\n",
    "# v_int = np.array([[-5]])\n",
    "phi_c = 0.6# avg amount of chromosome \n",
    "\n",
    "x = np.zeros(n_bind * 3)\n",
    "\n",
    "# eval_opt_func(x, mu, e_m, v_int, f_om, phi_c)"
   ]
  },
  {
   "cell_type": "code",
   "execution_count": 154,
   "metadata": {},
   "outputs": [
    {
     "name": "stdout",
     "output_type": "stream",
     "text": [
      "x0:  -6.0\n",
      "test: [-0.00976902 -0.02918366 -0.06686627]\n",
      "failure at mu =  [-5.5]\n",
      "too many function evaluations required\n",
      "------------------\n",
      "f_bar:  0.0\n",
      "xxxxxxxxxx end of one iter xxxxxxxxxxxxxxxx\n",
      "x0:  -5.0\n",
      "f_bar:  0.040035100675227725\n",
      "xxxxxxxxxx end of one iter xxxxxxxxxxxxxxxx\n",
      "x0:  -4.0\n",
      "f_bar:  0.0400351004600703\n",
      "xxxxxxxxxx end of one iter xxxxxxxxxxxxxxxx\n",
      "x0:  -3.0\n",
      "f_bar:  0.040035100623956876\n",
      "xxxxxxxxxx end of one iter xxxxxxxxxxxxxxxx\n",
      "x0:  -2.0\n",
      "f_bar:  0.04003510063343441\n",
      "xxxxxxxxxx end of one iter xxxxxxxxxxxxxxxx\n",
      "x0:  -1.0\n",
      "f_bar:  0.04003510051818538\n",
      "xxxxxxxxxx end of one iter xxxxxxxxxxxxxxxx\n",
      "x0:  0.0\n",
      "f_bar:  0.04003510097701434\n",
      "xxxxxxxxxx end of one iter xxxxxxxxxxxxxxxx\n",
      "x0:  1.0\n",
      "test: [-0.00976902 -0.02918366 -0.06686627]\n",
      "failure at mu =  [-5.5]\n",
      "too many function evaluations required\n",
      "------------------\n",
      "f_bar:  6.04463310143e-312\n",
      "xxxxxxxxxx end of one iter xxxxxxxxxxxxxxxx\n",
      "x0:  2.0\n",
      "f_bar:  0.040035100988102784\n",
      "xxxxxxxxxx end of one iter xxxxxxxxxxxxxxxx\n",
      "x0:  3.0\n"
     ]
    },
    {
     "name": "stderr",
     "output_type": "stream",
     "text": [
      "C:\\Users\\tmhab\\AppData\\Local\\Temp\\ipykernel_273916\\963874357.py:9: RuntimeWarning: overflow encountered in exp\n",
      "  s_bind = 2. * np.exp(x) / (1 + np.exp(x))\n",
      "C:\\Users\\tmhab\\AppData\\Local\\Temp\\ipykernel_273916\\963874357.py:9: RuntimeWarning: invalid value encountered in divide\n",
      "  s_bind = 2. * np.exp(x) / (1 + np.exp(x))\n"
     ]
    },
    {
     "name": "stdout",
     "output_type": "stream",
     "text": [
      "test: [-0.00976902 -0.02918366 -0.06686627]\n",
      "failure at mu =  [-5.5]\n",
      "too many function evaluations required\n",
      "------------------\n",
      "f_bar:  0.0\n",
      "xxxxxxxxxx end of one iter xxxxxxxxxxxxxxxx\n",
      "x0:  4.0\n",
      "test: [-0.00976902 -0.02918366 -0.06686627]\n",
      "failure at mu =  [-5.5]\n",
      "too many function evaluations required\n",
      "------------------\n",
      "f_bar:  0.0\n",
      "xxxxxxxxxx end of one iter xxxxxxxxxxxxxxxx\n",
      "x0:  5.0\n",
      "test: [-0.00976902 -0.02918366 -0.06686627]\n",
      "failure at mu =  [-5.5]\n",
      "too many function evaluations required\n",
      "------------------\n",
      "f_bar:  0.0\n",
      "xxxxxxxxxx end of one iter xxxxxxxxxxxxxxxx\n"
     ]
    }
   ],
   "source": [
    "# UNBOUNDED. Test if any initial condition can lead to a found solution\n",
    "mu_array = [-5.5]\n",
    "mul = len(mu_array)\n",
    "ones = np.ones(n_bind * 3)\n",
    "\n",
    "x0_min = -10\n",
    "x0_mid = 0\n",
    "x0_max = 10\n",
    "\n",
    "#for -5.2\n",
    "x0_min = -6\n",
    "x0_max = 6\n",
    "\n",
    "# x0_arr = np.array([ones * x0_min, ones * x0_mid, ones * x0_mid, ones * x0_max])\n",
    "x0_rng = np.arange(x0_min, x0_max, 1)\n",
    "x0_arr = (np.ones((len(x0_rng), n_bind*3)).T * x0_rng).T\n",
    "# #need mu split at mu = -7.75\n",
    "# mu_mid = -6.3\n",
    "# mu_arrs = [mu_array, mu_array[np.where(mu_array > mu_mid)], mu_array[np.where(mu_array < mu_mid)][::-1], mu_array[::-1]]\n",
    "# mu_fail_arr_arr = np.zeros(len(x0_arr), dtype = object)\n",
    "# f_bar_arr_arr = np.zeros(len(x0_arr), dtype = object)\n",
    "\n",
    "f_bar_arr = np.zeros(len(x0_arr))\n",
    "# mu_fail_arr_arr = np.zeros(len(x0_arr), dtype = object)\n",
    "\n",
    "for j,x0 in enumerate(x0_arr):\n",
    "    print(\"x0: \", x0[0])\n",
    "#     print(\"mu arr [0]: \", mu_ar[0])\n",
    "#     s_bind_0sig = np.zeros(len(mu_ar))\n",
    "#     s_bind_1sig = np.zeros(len(mu_ar))\n",
    "#     s_bind_2sig = np.zeros(len(mu_ar)) \n",
    "#     mu_fail_arr = np.array([])\n",
    "#     for i,mu in enumerate(mu_ar):\n",
    "#         print(\"x0: \", x0)\n",
    "    s_bind, mu_fail_arr = eval_s_bind(mu_array, e_m, v_int, f_om, phi_c, x0, mu_fail_arr)\n",
    "    #     print(\"s_bind:\")\n",
    "    #     print(s_bind)\n",
    "    #     print(s_bind[0:(0 + 3)])\n",
    "    #     f_bar = np.sum(f_om[0:(0 + 3)] * s_bind[0:(0 + 3)])\n",
    "    f_bar = np.sum(f_om * s_bind)\n",
    "#         s_bind_0sig[i] = s_bind[0]\n",
    "#         s_bind_1sig[i] = s_bind[1]\n",
    "#         s_bind_2sig[i] = s_bind[2]\n",
    "#         f_bar_arr[i] = f_bar\n",
    "#         x0 = [s_bind[0], s_bind[1], s_bind[2]]\n",
    "    \n",
    "    f_bar_arr[j] = f_bar\n",
    "    print(\"f_bar: \", f_bar)\n",
    "    print(\"xxxxxxxxxx end of one iter xxxxxxxxxxxxxxxx\")\n",
    "\n",
    "#     mu_fail_arr_arr[j] = mu_fail_arr"
   ]
  },
  {
   "cell_type": "code",
   "execution_count": null,
   "metadata": {},
   "outputs": [],
   "source": [
    "#SEE TWO SOLUTINS!!! yessirrr. change so NOT using previous binding state, always resetting to +3 or -3"
   ]
  },
  {
   "cell_type": "markdown",
   "metadata": {},
   "source": [
    "## Langmuir isotherm analysis two proteins"
   ]
  },
  {
   "cell_type": "code",
   "execution_count": null,
   "metadata": {},
   "outputs": [],
   "source": [
    "n_bind = 2 #types of proteins/marks\n",
    "\n",
    "# e_m = np.array([-1.5, -1.5]) #binding energy\n",
    "e_m = np.array([0,-1.5]) #binding energy\n",
    "f_om = np.array([1/3, 1/3, 1/3, 1/3, 1/3, 1/3]) # fraction of nucleosomes with 0,1,2 marks per protein type\n",
    "# v_int = np.array([[-3.92, 3.0],[3.0, -3.92]])\n",
    "# v_int = np.array([[-1,1],[1,-1]]) # protein-protein interaction param\n",
    "v_int = np.array([[0,0],[0,0]]) # protein-protein interaction param\n",
    "phi_c = 1# avg amount of chromosome \n",
    "\n",
    "x = np.zeros(n_bind * 3)\n",
    "\n",
    "# eval_opt_func(x, mu, e_m, v_int, f_om, phi_c)"
   ]
  },
  {
   "cell_type": "code",
   "execution_count": null,
   "metadata": {},
   "outputs": [],
   "source": [
    "#2d mu array??\n",
    "mu1_array = np.arange(-10, 10, .1)\n",
    "mu2_array = [0,10,-10]#np.arange(-10, 10, .1)\n",
    "\n",
    "f_bar1_arr = np.zeros((len(mu1_array), len(mu2_array)))\n",
    "f_bar2_arr = np.zeros((len(mu1_array), len(mu2_array)))\n",
    "f_bar_arrs = [f_bar1_arr, f_bar2_arr]\n",
    "\n",
    "s_bind1_0sig = np.zeros((len(mu1_array), len(mu2_array)))\n",
    "s_bind1_1sig = np.zeros((len(mu1_array), len(mu2_array)))\n",
    "s_bind1_2sig = np.zeros((len(mu1_array), len(mu2_array)))\n",
    "\n",
    "s_bind2_0sig = np.zeros((len(mu1_array), len(mu2_array)))\n",
    "s_bind2_1sig = np.zeros((len(mu1_array), len(mu2_array)))\n",
    "s_bind2_2sig = np.zeros((len(mu1_array), len(mu2_array)))\n",
    "\n",
    "for i, mu1 in enumerate(mu1_array):\n",
    "    for j, mu2 in enumerate(mu2_array):\n",
    "        s_bind = eval_s_bind([mu1, mu2], e_m, v_int, f_om, phi_c)\n",
    "        for mark in range(n_bind):\n",
    "            f_bar_array = f_bar_arrs[mark]\n",
    "            ind0 = mark * 3\n",
    "            f_bar_array[i,j] = np.sum(f_om[ind0:(ind0 + 3)] * s_bind[ind0:(ind0 + 3)])\n",
    "            f_bar_arrs[mark] = f_bar_array\n",
    "            \n",
    "        s_bind1_0sig[i,j] = s_bind[0]\n",
    "        s_bind1_1sig[i,j] = s_bind[1]\n",
    "        s_bind1_2sig[i,j] = s_bind[2]\n",
    "        \n",
    "        s_bind2_0sig[i,j] = s_bind[3]\n",
    "        s_bind2_1sig[i,j] = s_bind[4]\n",
    "        s_bind2_2sig[i,j] = s_bind[5]\n",
    "\n",
    "f_bar1_arr = f_bar_arrs[0]\n",
    "f_bar2_arr = f_bar_arrs[1]"
   ]
  },
  {
   "cell_type": "code",
   "execution_count": null,
   "metadata": {},
   "outputs": [],
   "source": [
    "# s_bind2_0sig"
   ]
  },
  {
   "cell_type": "code",
   "execution_count": null,
   "metadata": {},
   "outputs": [],
   "source": [
    "# s_bind1_0sig"
   ]
  },
  {
   "cell_type": "code",
   "execution_count": null,
   "metadata": {
    "scrolled": true
   },
   "outputs": [],
   "source": [
    "# f_bar1_arr#[:,0]"
   ]
  },
  {
   "cell_type": "code",
   "execution_count": null,
   "metadata": {
    "scrolled": true
   },
   "outputs": [],
   "source": [
    "# f_bar1_arr[:,2]"
   ]
  },
  {
   "cell_type": "code",
   "execution_count": null,
   "metadata": {
    "scrolled": false
   },
   "outputs": [],
   "source": [
    "fig = plt.figure()\n",
    "plt.figure(figsize=(10,8))\n",
    "\n",
    "font = {'family' : 'serif',\n",
    "        'weight':'normal',\n",
    "        'size': 18}\n",
    "plt.rc('font', **font)\n",
    "\n",
    "plt.plot(mu1_array, f_bar1_arr[:,0], label = \"<$ f_{\\gamma}^{(1)} $>, $\\mu^{(2)} = 0$\", color = \"blue\")\n",
    "# plt.xlabel(\"$\\mu$\")\n",
    "# plt.ylabel(\"<$ f_{\\gamma} $>\")\n",
    "\n",
    "plt.plot(mu1_array, f_bar1_arr[:,1], label = \"<$ f_{\\gamma}^{(1)} $>, $\\mu^{(2)} = 10$\", color = \"green\", linestyle = \"-.\")\n",
    "\n",
    "plt.plot(mu1_array, f_bar1_arr[:,2], label = \"<$ f_{\\gamma}^{(1)} $>, $\\mu^{(2)} = -10$\", color = \"red\", linestyle = \"--\", zorder = 4)\n",
    "\n",
    "# plt.plot(mu1_array, f_bar_arr, label = \"<$ f_{\\gamma}^{(1)} $> single protein\", color = \"black\")\n",
    "\n",
    "# LANGMUIR. Assumptions only valid when v_int = 0, and for sigma =0 or 2 (all sites identical)\n",
    "K = np.exp(-e_m[0])\n",
    "plt.plot(mu1_array, 2*K*np.exp(mu1_array) / (1+ K*np.exp(mu1_array)), label = \"langmuir\", linestyle = \":\", color = \"black\")\n",
    "\n",
    "# K = np.exp(-0)  # sigma = 0 - all binding energies are 0\n",
    "# plt.plot(mu_array, 2*K*np.exp(mu_array) / (1+ K*np.exp(mu_array)), label = \"langmuir, e_b = 0\", linestyle = \"-.\", color = \"black\")\n",
    "\n",
    "# plt.ylabel(\"<$ s_{bind}^{(\\sigma = n)}$> | <$ f_{\\gamma} $>\")\n",
    "# plt.xlabel(\"$\\mu$\")\n",
    "\n",
    "plt.ylabel(\"<$ s_{bind}^{(\\sigma = n)}$> | <$ f_{\\gamma} $>\")\n",
    "plt.xlabel(\"$\\mu^{(1)}$\")\n",
    "plt.title(\"$v_{int} = $\" + str(v_int) +  \", $e_B^{(1)} = $\" + str(e_m[0]) + \", $e_B^{(2)} = $\" + str(e_m[1]))\n",
    "plt.hlines(1, -10, 10, color = \"black\", alpha = 0.3)\n",
    "# plt.vlines(-.75, 0,2, color = \"black\", alpha = 0.3, label = \"$\\mu = -0.75$\")\n",
    "plt.vlines(-0, 0,2, color = \"black\", alpha = 0.3, label = \"$\\mu = 0$\")\n",
    "plt.legend()\n",
    "\n",
    "# why is s_bind = 2 * (exp(x \\ (1 + exp)))? how did that realtion come about. it is to allow for unbounded minimizationq\n",
    "#check solver- intial conditions? "
   ]
  },
  {
   "cell_type": "markdown",
   "metadata": {},
   "source": [
    "## $\\langle s_{i}^{(\\gamma_1)} s_{j}^{(\\gamma_1')} \\rangle$ calculation"
   ]
  },
  {
   "cell_type": "code",
   "execution_count": null,
   "metadata": {},
   "outputs": [],
   "source": [
    "def eval_f_bind_vec(n_b, n_m_arr, e_m = -1.5, j_int = -3.92):\n",
    "    r\"\"\"\n",
    "    eval_f_bind - Evaluate the binding free energy\n",
    "    \n",
    "    Parameters\n",
    "    ----------\n",
    "    n_b : integer\n",
    "        array of Number of reader proteins bound to the nucleosome\n",
    "    n_m_arr : arr of integer\n",
    "        Number of marked tails\n",
    "    e_me3 : float\n",
    "        Favorable binding free energy to tri-methylated tails\n",
    "        \n",
    "    Returns\n",
    "    -------\n",
    "    f_bind : float\n",
    "        Binding free energy\n",
    "    \n",
    "    \"\"\"\n",
    "    # Calculate the cases for the binding free energy\n",
    "    f_bind_arr = np.zeros(len(n_m_arr))\n",
    "    for i,n_m in enumerate(n_m_arr):\n",
    "        f_bind = 0\n",
    "        if n_b == 0:\n",
    "            f_bind = 0\n",
    "        elif n_b == 1:\n",
    "            if n_m == 0:\n",
    "                f_bind = -np.log(2)\n",
    "            elif n_m == 1:\n",
    "                f_bind = -np.log(1. + np.exp(-e_m))\n",
    "            elif n_m == 2:\n",
    "                f_bind = e_m - np.log(2)\n",
    "        elif n_b == 2:\n",
    "            if n_m == 0:\n",
    "                f_bind = j_int\n",
    "            elif n_m == 1:\n",
    "                f_bind = e_m + j_int\n",
    "            elif n_m == 2:\n",
    "                f_bind = 2 * e_m + j_int\n",
    "        f_bind_arr[i] = f_bind\n",
    "    return f_bind_arr"
   ]
  },
  {
   "cell_type": "code",
   "execution_count": null,
   "metadata": {},
   "outputs": [],
   "source": [
    "# need to produce rank 2 tensor that, given two protein types, \n",
    "# find avg of product of s for index ij\n",
    "def eval_sisj_bind(s_bind, mu, e_m, v_int, f_om, phi_c, poly_marks, gam1_ind, gam2_ind):\n",
    "    '''\n",
    "    poly marks (array of arrays) contains an array of marks per nucleosome for each protein type\n",
    "    gam1_ind (int) is the index of first protein\n",
    "    gam2_ind (int) is the index of second protein\n",
    "    '''\n",
    "    \n",
    "    n_bind = len(mu)\n",
    "    # evaluate eqn 85 for each index ij\n",
    " \n",
    "    phi_bind = np.zeros(n_bind) #phi_c times f_gamma\n",
    "    for mark in range(n_bind):\n",
    "        ind0 = mark * 3             # VVV calc of bar{f}_\\gamma (eqn 86) VVV\n",
    "        phi_bind[mark] = phi_c * np.sum(f_om[ind0:(ind0 + 3)] * s_bind[ind0:(ind0 + 3)]) \n",
    "    erg_int = np.matmul(v_int, phi_bind) #sum over gamma 2 of int and phi and f\n",
    "    \n",
    "    coef1 = erg_int[gam1_ind] + mu[gam1_ind] \n",
    "    coef2 = erg_int[gam2_ind] + mu[gam2_ind]\n",
    "    \n",
    "    #make vector form of f_bind\n",
    "    f_bind_g1_s1 = eval_f_bind_vec(1, poly_marks[gam1_ind], e_m[gam1_ind])\n",
    "    f_bind_g1_s2 = eval_f_bind_vec(2, poly_marks[gam1_ind], e_m[gam1_ind])\n",
    "    f_bind_g2_s1 = eval_f_bind_vec(1, poly_marks[gam2_ind], e_m[gam2_ind])\n",
    "    f_bind_g2_s2 = eval_f_bind_vec(2, poly_marks[gam2_ind], e_m[gam2_ind])\n",
    "    \n",
    "    #combine coef and f_bind to create 4 dif energies needed\n",
    "#     - each should be rank 2 tensors\n",
    "    \n",
    "    exp_g1_s1 = np.exp(coef1 + f_bind_g1_s1)\n",
    "    exp_g1_s2 = np.exp(2*coef1 + f_bind_g1_s2)\n",
    "    exp_g2_s1 = np.exp(coef2 + f_bind_g2_s1)\n",
    "    exp_g2_s2 = np.exp(2*coef2 + f_bind_g2_s2)\n",
    "    \n",
    "    exp_11 = np.outer(exp_g1_s1, exp_g2_s1)\n",
    "    exp_12 = np.outer(exp_g1_s1, exp_g2_s2)\n",
    "    exp_21 = np.outer(exp_g1_s2, exp_g2_s1)\n",
    "    exp_22 = np.outer(exp_g1_s2, exp_g2_s2)\n",
    "    \n",
    "#     # calc q_0 (all probabilities)\n",
    "    q = 1 + np.outer(exp_g1_s1, exp_g1_s1) + np.outer(exp_g2_s1, exp_g2_s1)\\\n",
    "    + np.outer(exp_g1_s2, exp_g1_s2) + np.outer(exp_g2_s2, exp_g2_s2)\\\n",
    "    + exp_11 + exp_12 + exp_21 + exp_22\n",
    "    \n",
    "    #calculate average matrix (eq 85)\n",
    "    sisj_bind = (exp_11 + exp_12 + exp_21 + exp_22) / q\n",
    "    return sisj_bind "
   ]
  },
  {
   "cell_type": "code",
   "execution_count": null,
   "metadata": {},
   "outputs": [],
   "source": [
    "n_bind = 2 #types of proteins/marks\n",
    "\n",
    "mu = np.array([-4.5, -5]) #chemical potential in solution\n",
    "e_m = np.array([-1.5, -1.5]) #binding energy\n",
    "f_om = np.array([0.5, 0, 0.5, 0.75, 0, 0.25]) # fraction of nucleosomes with 0,1,2 marks per protein type\n",
    "v_int = np.array([[-3.92, 3.0],[3.0, -3.92]]) # protein-protein interaction param\n",
    "phi_c = 0.6 # avg amount of chromosome \n",
    "\n",
    "x = np.zeros(n_bind * 3)\n",
    "\n",
    "marks_1 = [0,2,0,2] # marks for protein 1\n",
    "marks_2 = [0,0,0,2] # marks for protein 2\n",
    "poly_marks = [marks_1, marks_2]\n",
    "eval_opt_func(x, mu, e_m, v_int, f_om, phi_c)"
   ]
  },
  {
   "cell_type": "code",
   "execution_count": null,
   "metadata": {},
   "outputs": [],
   "source": [
    "s_bind = eval_s_bind(mu, e_m, v_int, f_om, phi_c)\n",
    "s2_bind = eval_s2_bind(s_bind, mu, e_m, v_int, f_om, phi_c)"
   ]
  },
  {
   "cell_type": "code",
   "execution_count": null,
   "metadata": {
    "scrolled": true
   },
   "outputs": [],
   "source": [
    "eval_sisj_bind(s_bind, mu, e_m, v_int, f_om, phi_c, poly_marks, 0, 0)"
   ]
  },
  {
   "cell_type": "markdown",
   "metadata": {},
   "source": [
    "## Determine the effective $\\chi$-parameter matrix (andy)"
   ]
  },
  {
   "cell_type": "code",
   "execution_count": null,
   "metadata": {},
   "outputs": [],
   "source": [
    "def eval_chi_mat(mu, e_m, v_int, f_om, phi_c):\n",
    "    n_bind = len(mu)\n",
    "    chi_mat = np.zeros((3 * n_bind, 3 * n_bind))\n",
    "    \n",
    "    s_bind = eval_s_bind(mu, e_m, v_int, f_om, phi_c)\n",
    "    \n",
    "    for m1 in range(n_bind):\n",
    "        for s1 in range(3):\n",
    "            i1 = m1 * 3 + s1\n",
    "            for m2 in range(n_bind):\n",
    "                for s2 in range(3):\n",
    "                    i2 = m2 * 3 + s2\n",
    "                    e12 = 0.5 * s_bind[i1] * v_int[m1, m2] * s_bind[i2]\n",
    "                    e11 = 0.5 * s_bind[i1] * v_int[m1, m1] * s_bind[i1]\n",
    "                    e22 = 0.5 * s_bind[i2] * v_int[m2, m2] * s_bind[i2]\n",
    "                    chi_mat[i1, i2] = e12 - 0.5 * (e11 + e22)\n",
    "    \n",
    "    return chi_mat"
   ]
  },
  {
   "cell_type": "code",
   "execution_count": null,
   "metadata": {},
   "outputs": [],
   "source": [
    "n_bind = 2\n",
    "\n",
    "mu = np.array([-5, -5])\n",
    "e_m = np.array([-1.5, -1.5])\n",
    "f_om = np.array([0.5, 0, 0.5, 0.5, 0, 0.5])\n",
    "v_int = np.array([[-3.92, .0],[.0, -3.92]])\n",
    "phi_c = 0.6\n",
    "\n",
    "s_bind = eval_s_bind(mu, e_m, v_int, f_om, phi_c)\n",
    "chi_mat = eval_chi_mat(mu, e_m, v_int, f_om, phi_c)"
   ]
  },
  {
   "cell_type": "code",
   "execution_count": null,
   "metadata": {},
   "outputs": [],
   "source": [
    "print(chi_mat[0, 2])\n",
    "print(chi_mat[3, 5])\n",
    "print(chi_mat[2, 5])"
   ]
  },
  {
   "cell_type": "code",
   "execution_count": null,
   "metadata": {},
   "outputs": [],
   "source": [
    "s_bind"
   ]
  },
  {
   "cell_type": "code",
   "execution_count": null,
   "metadata": {},
   "outputs": [],
   "source": [
    "chi_mat"
   ]
  },
  {
   "cell_type": "code",
   "execution_count": null,
   "metadata": {},
   "outputs": [],
   "source": []
  }
 ],
 "metadata": {
  "kernelspec": {
   "display_name": "Python 3 (ipykernel)",
   "language": "python",
   "name": "python3"
  },
  "language_info": {
   "codemirror_mode": {
    "name": "ipython",
    "version": 3
   },
   "file_extension": ".py",
   "mimetype": "text/x-python",
   "name": "python",
   "nbconvert_exporter": "python",
   "pygments_lexer": "ipython3",
   "version": "3.10.9"
  }
 },
 "nbformat": 4,
 "nbformat_minor": 4
}
