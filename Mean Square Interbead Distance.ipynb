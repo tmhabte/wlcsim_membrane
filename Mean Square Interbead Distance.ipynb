{
 "cells": [
  {
   "cell_type": "code",
   "execution_count": 23,
   "metadata": {
    "scrolled": true
   },
   "outputs": [
    {
     "name": "stderr",
     "output_type": "stream",
     "text": [
      "C:\\Users\\tmhab\\anaconda3\\lib\\importlib\\_bootstrap.py:219: RuntimeWarning: divide by zero encountered in add\n",
      "  return f(*args, **kwds)\n",
      "C:\\Users\\tmhab\\anaconda3\\lib\\site-packages\\pandas\\tseries\\offsets.py:2547: RuntimeWarning: divide by zero encountered in add\n",
      "  _inc = Timedelta(microseconds=1000)\n",
      "C:\\Users\\tmhab\\anaconda3\\lib\\site-packages\\pandas\\tseries\\offsets.py:2679: RuntimeWarning: divide by zero encountered in add\n",
      "  _inc = Timedelta(days=1)\n",
      "C:\\Users\\tmhab\\anaconda3\\lib\\site-packages\\pandas\\tseries\\offsets.py:2684: RuntimeWarning: divide by zero encountered in add\n",
      "  _inc = Timedelta(hours=1)\n",
      "C:\\Users\\tmhab\\anaconda3\\lib\\site-packages\\pandas\\tseries\\offsets.py:2689: RuntimeWarning: divide by zero encountered in add\n",
      "  _inc = Timedelta(minutes=1)\n",
      "C:\\Users\\tmhab\\anaconda3\\lib\\site-packages\\pandas\\tseries\\offsets.py:2694: RuntimeWarning: divide by zero encountered in add\n",
      "  _inc = Timedelta(seconds=1)\n",
      "C:\\Users\\tmhab\\anaconda3\\lib\\site-packages\\pandas\\tseries\\offsets.py:2699: RuntimeWarning: divide by zero encountered in add\n",
      "  _inc = Timedelta(milliseconds=1)\n",
      "C:\\Users\\tmhab\\anaconda3\\lib\\site-packages\\pandas\\tseries\\offsets.py:2704: RuntimeWarning: divide by zero encountered in add\n",
      "  _inc = Timedelta(microseconds=1)\n",
      "C:\\Users\\tmhab\\anaconda3\\lib\\site-packages\\pandas\\tseries\\offsets.py:2709: RuntimeWarning: divide by zero encountered in add\n",
      "  _inc = Timedelta(nanoseconds=1)\n"
     ]
    }
   ],
   "source": [
    "import numpy as np\n",
    "import matplotlib.pyplot as plt\n",
    "from mpl_toolkits import mplot3d\n",
    "import pandas as pd"
   ]
  },
  {
   "cell_type": "markdown",
   "metadata": {},
   "source": [
    "## Import Files From Simulation:"
   ]
  },
  {
   "cell_type": "code",
   "execution_count": 2,
   "metadata": {},
   "outputs": [],
   "source": [
    "file = \"C:\\\\users/tmhab/wlcsim_membrane/data/2.10.21_NoInteractions_2hrs_r11v0.txt\"\n",
    "data = np.loadtxt(file) #D:\\\\myfiles\\welcome.txt\n"
   ]
  },
  {
   "cell_type": "markdown",
   "metadata": {},
   "source": [
    "## Our Approach to Calculating Percolation Paths Through a Polymer Membrane:\n",
    "\n",
    "### Defining The System:\n",
    "\n",
    "In our system we have random copolymers with solvent molecules. Polymers are represented by beads of types 1 and 2 and solvent molecules are individual beads of type 0. No bead can overlap another. \n",
    "\n",
    "### Defining Percolation:\n",
    "\n",
    "A percolation is a pathway through the polymer network that solvent molecules can move through. To form a percolation a solvent molecule will need to have at least one other solvent molecule adjacent to it within some path radius $r$\n",
    "\n",
    "### What are we trying to learn from the system:\n",
    "\n",
    "The goal in developing this code is to determine quantitatively the amount of percolation in a membrane. \n",
    "\n",
    "### Models for Percolation:\n",
    "**1. Fire Spread Model:** In this model we measure the percolation paths by tracing the spots where the solvent molecules continue to be adjacent to the previous... It's easier to explain with a picture"
   ]
  },
  {
   "cell_type": "markdown",
   "metadata": {},
   "source": [
    "## What we need to calculate:\n",
    "\n",
    "Starting with the final equilibrium state we have x,y,z postion of a bead and it's identity (and also methylation state). We want to calculate percolation paths which will be represented by root mean square. \n",
    "\n",
    "#### What Percolation Model do we want to use:\n",
    "\n",
    "1. Fire spead model:\n",
    "\n",
    "Proceedure:\n",
    "1. Pick a bead type\n",
    "2. pick a random bead of that bead type\n",
    "3. Check surround bead types to see if they are the same\n",
    "    a. Pick a radius to search in\n"
   ]
  },
  {
   "cell_type": "code",
   "execution_count": 3,
   "metadata": {},
   "outputs": [
    {
     "name": "stderr",
     "output_type": "stream",
     "text": [
      "C:\\Users\\tmhab\\anaconda3\\lib\\site-packages\\ipykernel_launcher.py:2: RuntimeWarning: divide by zero encountered in multiply\n",
      "  \n",
      "C:\\Users\\tmhab\\anaconda3\\lib\\site-packages\\ipykernel_launcher.py:3: RuntimeWarning: divide by zero encountered in multiply\n",
      "  This is separate from the ipykernel package so we can avoid doing imports until\n",
      "C:\\Users\\tmhab\\anaconda3\\lib\\site-packages\\ipykernel_launcher.py:4: RuntimeWarning: divide by zero encountered in multiply\n",
      "  after removing the cwd from sys.path.\n",
      "C:\\Users\\tmhab\\anaconda3\\lib\\site-packages\\numpy\\core\\fromnumeric.py:90: RuntimeWarning: divide by zero encountered in reduce\n",
      "  return ufunc.reduce(obj, axis, dtype, out, **passkwargs)\n",
      "C:\\Users\\tmhab\\anaconda3\\lib\\site-packages\\numpy\\core\\arrayprint.py:885: RuntimeWarning: divide by zero encountered in isfinite\n",
      "  finite_vals = data[isfinite(data)]\n",
      "C:\\Users\\tmhab\\anaconda3\\lib\\site-packages\\numpy\\core\\arrayprint.py:888: RuntimeWarning: divide by zero encountered in not_equal\n",
      "  abs_non_zero = absolute(finite_vals[finite_vals != 0])\n",
      "C:\\Users\\tmhab\\anaconda3\\lib\\site-packages\\numpy\\core\\arrayprint.py:888: RuntimeWarning: divide by zero encountered in absolute\n",
      "  abs_non_zero = absolute(finite_vals[finite_vals != 0])\n",
      "C:\\Users\\tmhab\\anaconda3\\lib\\site-packages\\numpy\\core\\arrayprint.py:894: RuntimeWarning: divide by zero encountered in double_scalars\n",
      "  (min_val < 0.0001 or max_val/min_val > 1000.)):\n",
      "C:\\Users\\tmhab\\anaconda3\\lib\\site-packages\\numpy\\core\\arrayprint.py:968: RuntimeWarning: divide by zero encountered in isfinite\n",
      "  if not np.isfinite(x):\n"
     ]
    },
    {
     "data": {
      "text/plain": [
       "(array([9.60690521, 2.57654843, 9.76846541, 2.17424356, 7.93952997,\n",
       "        7.31563887, 5.0555424 , 2.45383638, 8.0243156 , 0.82638458,\n",
       "        8.49558114, 8.93988722, 5.29061312, 6.37212815, 9.29719126,\n",
       "        8.73574779, 8.76370704, 4.3963401 , 5.99235968, 6.39966758,\n",
       "        6.8597524 , 5.99759523, 2.22530451, 3.96729175, 6.9845253 ,\n",
       "        2.54140316, 9.02190064, 1.20604032, 5.03479539, 2.30358726,\n",
       "        6.37256655, 6.70112783, 7.43043419, 7.14929504, 4.82717904,\n",
       "        4.92628296, 6.7544717 , 9.21099036, 3.76250581, 2.7844163 ,\n",
       "        7.57603049, 8.14252238, 0.73694223, 1.69484761, 8.5600752 ,\n",
       "        4.10860418, 0.23037294, 0.57008199, 0.05728708, 8.1853997 ]),\n",
       " array([0.94359528, 2.95359315, 3.11340401, 2.56484244, 4.73534713,\n",
       "        4.77712817, 9.21386356, 4.02815455, 6.19557789, 0.58536096,\n",
       "        9.35515799, 3.68851418, 1.684745  , 2.62268489, 5.62132229,\n",
       "        0.19342031, 2.44413379, 0.42387444, 9.293501  , 0.01350537,\n",
       "        7.35306608, 2.17984823, 6.32364764, 7.86307563, 6.31720798,\n",
       "        8.96684446, 6.12291024, 2.30898074, 3.90788803, 6.15195674,\n",
       "        7.31696352, 1.4561291 , 1.74406501, 7.79271309, 3.17741587,\n",
       "        5.25226648, 3.65565481, 9.93638528, 8.68058761, 2.76309978,\n",
       "        5.85876978, 9.53086299, 8.13884962, 7.45514079, 7.4198061 ,\n",
       "        4.82589824, 4.05158795, 7.03497329, 4.99518226, 8.50397499]),\n",
       " array([2.97173862, 9.38847996, 0.74528588, 2.48515212, 0.82986744,\n",
       "        4.81711301, 1.11083744, 3.13553949, 6.91413089, 1.46950194,\n",
       "        5.32302251, 8.6989836 , 5.46386235, 6.54112058, 4.78971802,\n",
       "        1.78622627, 6.9818059 , 7.82577901, 3.52765646, 0.66190678,\n",
       "        5.1612059 , 3.92350318, 7.14089207, 7.28040092, 8.98170252,\n",
       "        2.33167517, 4.61241508, 0.65863975, 5.79151709, 7.54723193,\n",
       "        2.47217445, 0.38818139, 8.80282393, 9.79901834, 2.06877108,\n",
       "        8.76890259, 5.39772796, 2.94901378, 4.1889755 , 6.62933928,\n",
       "        1.63786877, 4.88071341, 7.69111843, 3.21162157, 0.38509783,\n",
       "        3.69046154, 8.48890061, 7.79004928, 5.17564146, 8.91756776]),\n",
       " array([1, 0, 1, 2, 1, 1, 0, 1, 1, 0, 2, 2, 0, 2, 0, 0, 0, 2, 2, 1, 1, 0,\n",
       "        2, 2, 0, 1, 1, 1, 0, 1, 2, 0, 2, 2, 0, 0, 2, 0, 1, 2, 2, 1, 0, 2,\n",
       "        1, 1, 2, 2, 2, 0], dtype=uint8))"
      ]
     },
     "execution_count": 3,
     "metadata": {},
     "output_type": "execute_result"
    }
   ],
   "source": [
    "def generate_test_data(length=10,width=10,height=10,datapoints=50):\n",
    "    X = np.random.random(datapoints)*length\n",
    "    Y = np.random.random(datapoints)*width\n",
    "    Z = np.random.random(datapoints)*height\n",
    "    Beads = np.random.randint(3,size=(datapoints)).astype('uint8')\n",
    "    Beads\n",
    "    return X,Y,Z,Beads\n",
    "\n",
    "generate_test_data()"
   ]
  },
  {
   "cell_type": "code",
   "execution_count": 4,
   "metadata": {},
   "outputs": [],
   "source": [
    "class Bead:\n",
    "    def __init__(self, x, y, z, bead_type):\n",
    "        self.x = x\n",
    "        self.y = y\n",
    "        self.z = z\n",
    "        self.bead_type = bead_type\n",
    "        \n"
   ]
  },
  {
   "cell_type": "code",
   "execution_count": 5,
   "metadata": {},
   "outputs": [],
   "source": [
    "class PolymerNetwork:\n",
    "    \"\"\"\n",
    "    This represents the postions of bead and their type (time invariant)\n",
    "    \n",
    "    Parameters\n",
    "    ----------\n",
    "    X : float [array] X \n",
    "    \"\"\"\n",
    "    \n",
    "    def __init__(self,X,Y,Z, Beads, bead_list=[]):\n",
    "        self.X = X\n",
    "        self.Y = Y\n",
    "        self.Z = Z\n",
    "        self.Beads = Beads\n",
    "        self.bead_list = bead_list\n",
    "        \n",
    "        self.density = Beads.shape[0]/((max(X)-min(X)) * (max(Y)-min(Y)) * (max(Z)-min(Z)))\n",
    "        \n",
    "    def visualize(self):\n",
    "        fig = plt.figure()\n",
    "        ax = plt.axes(projection='3d')\n",
    "        ax.scatter3D(self.X[Beads==0], self.Y[Beads==0], self.Z[Beads==0],color='y')\n",
    "        ax.scatter3D(self.X[Beads==1], self.Y[Beads==1], self.Z[Beads==1],color='r')\n",
    "        ax.scatter3D(self.X[Beads==2], self.Y[Beads==2], self.Z[Beads==2],color='b')\n",
    "        \n",
    "    def nearest_neighbor(self,bead_num,radius):\n",
    "        '''\n",
    "        Find the average number of beads that surround a bead of the same type within the radius specified\n",
    "        '''\n",
    "        X_bead = self.X[Beads==bead_num]\n",
    "        Y_bead = self.Y[Beads==bead_num]\n",
    "        Z_bead = self.Z[Beads==bead_num]\n",
    "        \n",
    "        total_neighbors = 0\n",
    "        for i in range(Beads[Beads==bead_num].shape[0]):\n",
    "            point = np.array([X_bead[i],Y_bead[i],Z_bead[i]])\n",
    "            displacement = np.sqrt((X_bead - point[0])**2 + (Y_bead - point[1])**2 + (Z_bead - point[2])**2)\n",
    "            num_neighbor_points = displacement[displacement<=radius].shape[0] -1\n",
    "            \n",
    "            total_neighbors += num_neighbor_points\n",
    "\n",
    "        return total_neighbors/(i+1)\n",
    "    def create_beads(self):\n",
    "        if len(self.bead_list) != 0:\n",
    "            raise Exception(\"bead list already populated\")\n",
    "        for i in range(len(self.X)):\n",
    "            bead = Bead(self.X[i], self.Y[i], self.Z[i], self.Beads[i])\n",
    "            self.bead_list.append(bead)\n",
    "    \n",
    "    def print_bead_list(self):\n",
    "        for i, bead in enumerate(self.bead_list):\n",
    "            print(\"Bead \" + str(i) + \": \" + str(bead.x) + \", \" + str(bead.y) + \", \" + str(bead.z) + \" Type: \" + str(bead.bead_type))\n"
   ]
  },
  {
   "cell_type": "code",
   "execution_count": 6,
   "metadata": {},
   "outputs": [
    {
     "name": "stderr",
     "output_type": "stream",
     "text": [
      "C:\\Users\\tmhab\\anaconda3\\lib\\site-packages\\ipykernel_launcher.py:2: RuntimeWarning: divide by zero encountered in multiply\n",
      "  \n",
      "C:\\Users\\tmhab\\anaconda3\\lib\\site-packages\\ipykernel_launcher.py:3: RuntimeWarning: divide by zero encountered in multiply\n",
      "  This is separate from the ipykernel package so we can avoid doing imports until\n",
      "C:\\Users\\tmhab\\anaconda3\\lib\\site-packages\\ipykernel_launcher.py:4: RuntimeWarning: divide by zero encountered in multiply\n",
      "  after removing the cwd from sys.path.\n"
     ]
    }
   ],
   "source": [
    "X,Y,Z,Beads = generate_test_data()\n",
    "#PNet_Test = PolymerNetwork(X,Y,Z,Beads)\n",
    "\n",
    "#PNet_Test.density"
   ]
  },
  {
   "cell_type": "code",
   "execution_count": 7,
   "metadata": {},
   "outputs": [],
   "source": [
    "#PNet_Test.visualize()"
   ]
  },
  {
   "cell_type": "code",
   "execution_count": 8,
   "metadata": {},
   "outputs": [],
   "source": [
    "#PNet_Test.nearest_neighbor(bead_num=0,radius=0.4)"
   ]
  },
  {
   "cell_type": "code",
   "execution_count": 9,
   "metadata": {},
   "outputs": [],
   "source": [
    "\n",
    "#PNet_Test.create_beads()\n",
    "#PNet_Test.print_bead_list()\n"
   ]
  },
  {
   "cell_type": "code",
   "execution_count": 10,
   "metadata": {},
   "outputs": [],
   "source": [
    "#radii = np.linspace(0,15,100)\n",
    "#for r in radii:\n",
    "#    plt.plot(r,PNet_Test.nearest_neighbor(bead_num=0,radius=r),'y.')\n",
    "#plt.xlabel('Radius')\n",
    "#plt.ylabel('Average Number of Neighbor Points')"
   ]
  },
  {
   "cell_type": "code",
   "execution_count": 11,
   "metadata": {},
   "outputs": [],
   "source": [
    "'''\n",
    "Determine the mean square interbead distance\n",
    "Input: PolymerNetwork\n",
    "Return: mean square distance b/w beads (?? issue w/ beads not on polymer chains)\n",
    "TODO: convert to pd dataframes? may not need to once working w/ chains\n",
    "TODO: change to using polymer chains, not just random beads\n",
    "'''\n",
    "def r2(polymer_network):\n",
    "    number_beads = len(polymer_network.bead_list)\n",
    "    bead_dist = np.zeros((number_beads, number_beads))\n",
    "    for i, bead1 in enumerate(polymer_network.bead_list):\n",
    "        for j, bead2 in enumerate(polymer_network.bead_list):\n",
    "            position1 = np.array([bead1.x, bead1.y, bead1.z])\n",
    "            position2 = np.array([bead2.x, bead2.y, bead2.z])\n",
    "            displacement_squared = np.sum((position2 - position1)**2)\n",
    "            bead_dist[i][j] = displacement_squared\n",
    "            \n",
    "    #print(bead_dist)\n",
    "    #get diagonals, average them\n",
    "    num_diagonals = (number_beads * 2) - 1\n",
    "    n_jump_dist_avg = np.zeros(num_diagonals)\n",
    "    for d in range(num_diagonals):\n",
    "        diag = np.diag(bead_dist, d)\n",
    "        n_jump_dist_avg[d] = np.average(diag)    # populated with average displacements of d jumps\n",
    "    avg_r2_diagonal = np.average(n_jump_dist_avg)\n",
    "\n",
    "    return avg_r2_diagonal\n",
    "    "
   ]
  },
  {
   "cell_type": "code",
   "execution_count": 12,
   "metadata": {},
   "outputs": [],
   "source": [
    "#x = r2(PNet_Test)\n",
    "#print(x)"
   ]
  },
  {
   "cell_type": "code",
   "execution_count": 13,
   "metadata": {},
   "outputs": [
    {
     "name": "stderr",
     "output_type": "stream",
     "text": [
      "C:\\Users\\tmhab\\anaconda3\\lib\\site-packages\\ipykernel_launcher.py:17: RuntimeWarning: divide by zero encountered in double_scalars\n"
     ]
    }
   ],
   "source": [
    "beads = np.zeros(len(data[:, 0]))   #no chemical identity data\n",
    "no_interactions = PolymerNetwork(data[:, 0], data[:, 1], data[:, 2], beads)"
   ]
  },
  {
   "cell_type": "code",
   "execution_count": 15,
   "metadata": {},
   "outputs": [
    {
     "data": {
      "text/plain": [
       "80000"
      ]
     },
     "execution_count": 15,
     "metadata": {},
     "output_type": "execute_result"
    }
   ],
   "source": [
    "no_interactions.create_beads()\n",
    "#no_interactions.print_bead_list()\n",
    "len(no_interactions.bead_list)  # should be 80,000"
   ]
  },
  {
   "cell_type": "code",
   "execution_count": 20,
   "metadata": {},
   "outputs": [],
   "source": [
    "#no_interactions.visualize()  #too many beads?"
   ]
  },
  {
   "cell_type": "code",
   "execution_count": 21,
   "metadata": {},
   "outputs": [
    {
     "ename": "ValueError",
     "evalue": "array is too big; `arr.size * arr.dtype.itemsize` is larger than the maximum possible size.",
     "output_type": "error",
     "traceback": [
      "\u001b[1;31m---------------------------------------------------------------------------\u001b[0m",
      "\u001b[1;31mValueError\u001b[0m                                Traceback (most recent call last)",
      "\u001b[1;32m<ipython-input-21-0cbed0f4197f>\u001b[0m in \u001b[0;36m<module>\u001b[1;34m\u001b[0m\n\u001b[1;32m----> 1\u001b[1;33m \u001b[0mr2\u001b[0m\u001b[1;33m(\u001b[0m\u001b[0mno_interactions\u001b[0m\u001b[1;33m)\u001b[0m\u001b[1;33m\u001b[0m\u001b[1;33m\u001b[0m\u001b[0m\n\u001b[0m",
      "\u001b[1;32m<ipython-input-11-af103d68b5cf>\u001b[0m in \u001b[0;36mr2\u001b[1;34m(polymer_network)\u001b[0m\n\u001b[0;32m      6\u001b[0m \u001b[1;32mdef\u001b[0m \u001b[0mr2\u001b[0m\u001b[1;33m(\u001b[0m\u001b[0mpolymer_network\u001b[0m\u001b[1;33m)\u001b[0m\u001b[1;33m:\u001b[0m\u001b[1;33m\u001b[0m\u001b[1;33m\u001b[0m\u001b[0m\n\u001b[0;32m      7\u001b[0m     \u001b[0mnumber_beads\u001b[0m \u001b[1;33m=\u001b[0m \u001b[0mlen\u001b[0m\u001b[1;33m(\u001b[0m\u001b[0mpolymer_network\u001b[0m\u001b[1;33m.\u001b[0m\u001b[0mbead_list\u001b[0m\u001b[1;33m)\u001b[0m\u001b[1;33m\u001b[0m\u001b[1;33m\u001b[0m\u001b[0m\n\u001b[1;32m----> 8\u001b[1;33m     \u001b[0mbead_dist\u001b[0m \u001b[1;33m=\u001b[0m \u001b[0mnp\u001b[0m\u001b[1;33m.\u001b[0m\u001b[0mzeros\u001b[0m\u001b[1;33m(\u001b[0m\u001b[1;33m(\u001b[0m\u001b[0mnumber_beads\u001b[0m\u001b[1;33m,\u001b[0m \u001b[0mnumber_beads\u001b[0m\u001b[1;33m)\u001b[0m\u001b[1;33m)\u001b[0m\u001b[1;33m\u001b[0m\u001b[1;33m\u001b[0m\u001b[0m\n\u001b[0m\u001b[0;32m      9\u001b[0m     \u001b[1;32mfor\u001b[0m \u001b[0mi\u001b[0m\u001b[1;33m,\u001b[0m \u001b[0mbead1\u001b[0m \u001b[1;32min\u001b[0m \u001b[0menumerate\u001b[0m\u001b[1;33m(\u001b[0m\u001b[0mpolymer_network\u001b[0m\u001b[1;33m.\u001b[0m\u001b[0mbead_list\u001b[0m\u001b[1;33m)\u001b[0m\u001b[1;33m:\u001b[0m\u001b[1;33m\u001b[0m\u001b[1;33m\u001b[0m\u001b[0m\n\u001b[0;32m     10\u001b[0m         \u001b[1;32mfor\u001b[0m \u001b[0mj\u001b[0m\u001b[1;33m,\u001b[0m \u001b[0mbead2\u001b[0m \u001b[1;32min\u001b[0m \u001b[0menumerate\u001b[0m\u001b[1;33m(\u001b[0m\u001b[0mpolymer_network\u001b[0m\u001b[1;33m.\u001b[0m\u001b[0mbead_list\u001b[0m\u001b[1;33m)\u001b[0m\u001b[1;33m:\u001b[0m\u001b[1;33m\u001b[0m\u001b[1;33m\u001b[0m\u001b[0m\n",
      "\u001b[1;31mValueError\u001b[0m: array is too big; `arr.size * arr.dtype.itemsize` is larger than the maximum possible size."
     ]
    }
   ],
   "source": [
    "#r2(no_interactions)"
   ]
  },
  {
   "cell_type": "code",
   "execution_count": 27,
   "metadata": {},
   "outputs": [
    {
     "ename": "ValueError",
     "evalue": "array is too big; `arr.size * arr.dtype.itemsize` is larger than the maximum possible size.",
     "output_type": "error",
     "traceback": [
      "\u001b[1;31m---------------------------------------------------------------------------\u001b[0m",
      "\u001b[1;31mValueError\u001b[0m                                Traceback (most recent call last)",
      "\u001b[1;32m<ipython-input-27-46997c4ef178>\u001b[0m in \u001b[0;36m<module>\u001b[1;34m\u001b[0m\n\u001b[1;32m----> 1\u001b[1;33m \u001b[0mnp\u001b[0m\u001b[1;33m.\u001b[0m\u001b[0mzeros\u001b[0m\u001b[1;33m(\u001b[0m\u001b[1;33m(\u001b[0m\u001b[1;36m80000\u001b[0m\u001b[1;33m,\u001b[0m \u001b[1;36m80000\u001b[0m\u001b[1;33m)\u001b[0m\u001b[1;33m)\u001b[0m\u001b[1;33m\u001b[0m\u001b[1;33m\u001b[0m\u001b[0m\n\u001b[0m",
      "\u001b[1;31mValueError\u001b[0m: array is too big; `arr.size * arr.dtype.itemsize` is larger than the maximum possible size."
     ]
    }
   ],
   "source": [
    "np.zeros((80000, 80000))"
   ]
  },
  {
   "cell_type": "code",
   "execution_count": null,
   "metadata": {},
   "outputs": [],
   "source": []
  }
 ],
 "metadata": {
  "kernelspec": {
   "display_name": "Python 3",
   "language": "python",
   "name": "python3"
  },
  "language_info": {
   "codemirror_mode": {
    "name": "ipython",
    "version": 3
   },
   "file_extension": ".py",
   "mimetype": "text/x-python",
   "name": "python",
   "nbconvert_exporter": "python",
   "pygments_lexer": "ipython3",
   "version": "3.7.6"
  }
 },
 "nbformat": 4,
 "nbformat_minor": 4
}
