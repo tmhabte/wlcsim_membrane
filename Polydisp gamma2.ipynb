{
 "cells": [
  {
   "cell_type": "code",
   "execution_count": 2,
   "metadata": {},
   "outputs": [],
   "source": [
    "import numpy as np\n",
    "import wlcstat.wlc_copoly as wlc_copoly\n",
    "from scipy.interpolate import interp1d"
   ]
  },
  {
   "cell_type": "code",
   "execution_count": 3,
   "metadata": {},
   "outputs": [],
   "source": [
    "#FOR VERTEX:\n",
    "import sys\n",
    "sys.path.append(\"./vertex_subroutines\")\n",
    "from GAMcalc import *  # Code for calculating vertex functions\n",
    "import propagator  # propagator object used to store pre-calculated values\n",
    "import wignerD as wd # wigner D object used to store pre-calculated values"
   ]
  },
  {
   "cell_type": "code",
   "execution_count": 4,
   "metadata": {},
   "outputs": [],
   "source": [
    "pset=propagator.prop_set(nlam=10) \n",
    "wigset = wd.wigner_d_vals()"
   ]
  },
  {
   "cell_type": "code",
   "execution_count": null,
   "metadata": {},
   "outputs": [],
   "source": [
    "#TODO\n",
    "# 1) do single component for a range of FA, confirm it matches vertex.\n",
    "\n",
    "# In vertex, reduce 2x2 matrix to 1x1 using incompressiblity (sum of fluctuations = 0, so Del A = - Del B). but I want to \n",
    "# solve the single polymer case without that assumption, maintaining matrix form. This way, I can solve systems where \n",
    "# that assumption is not true (multi polymer ensembles)\n",
    "    # ISSUE need to fix matrix; something wrong with matrix construction\n",
    "    # - Not an issue with k; even when I use KS from Vertex, get wrong answer.\n",
    "    # - Tried to create a 2x2 matrix that matches the post-incompressibility 1x1 solution in \"polymer semiflexibility induces..\",\n",
    "    # but it does not give the correct answer either.\n",
    "    # - Vertex is identical to wlcstat, but the latter is divided by a factor of N**2, which slightly changes the math.\n",
    "    # THINK why does inaccuracy increase at extreme FAs- must be something with strucutre factors\n",
    "    \n",
    "# 2) do multicomponent at limit of PHI_2 = 0, confirm is same as monodisperse\n",
    "# 3) vectorize?\n",
    "# 4) do multicomponent!!"
   ]
  },
  {
   "cell_type": "code",
   "execution_count": 13,
   "metadata": {},
   "outputs": [
    {
     "name": "stdout",
     "output_type": "stream",
     "text": [
      "Wall time: 33.8 s\n"
     ]
    }
   ],
   "source": [
    "%%time\n",
    "#single component G2 matrix stability analysis\n",
    "\n",
    "N_1 = 10.\n",
    "\n",
    "k0 = 1e-2\n",
    "kf = 1e2\n",
    "nk = 50\n",
    "k_vec = np.logspace(np.log10(k0), np.log10(kf), nk)\n",
    "\n",
    "FA_arr = np.arange(0.3, 0.71, 0.1)\n",
    "chi_range = np.arange(8, 13, .01)/N_1\n",
    "\n",
    "spinodal_arr = np.array([]) \n",
    "\n",
    "for FA_1 in FA_arr:\n",
    "    s2_1 = wlc_copoly.s2_wlc_diblock(k_vec, N_1, FA_1, dimensions=3, alpha_max=25)\n",
    "\n",
    "    s2_AA_1 = s2_1[0]\n",
    "    s2_AB_1 = s2_1[1]\n",
    "    s2_BB_1 = s2_1[2]\n",
    "    for chi in chi_range:\n",
    "        chi_spin_bool = False #means spinodal has not been reached\n",
    "        for k_ind in range(len(k_vec)):\n",
    "            det_1 = s2_AA_1[k_ind] * s2_BB_1[k_ind] - s2_AB_1[k_ind]**2 #determinant of s2 matrix\n",
    "            prefactor_1 = 1/(det_1*2)[0] #1/2 from taylor expansion, which remains after performing gaussian integral\n",
    "\n",
    "            s2inv_AA_1 = s2_1[0][k_ind][0]*prefactor_1\n",
    "            s2inv_AB_1 = s2_1[1][k_ind][0]*prefactor_1\n",
    "            s2inv_BB_1 = s2_1[2][k_ind][0]*prefactor_1\n",
    "\n",
    "            G2 = (1/N_1)*np.array([[s2inv_BB_1, -s2inv_AB_1 + 0.5*chi*N_1], [-s2inv_AB_1 + 0.5*chi*N_1, s2inv_AA_1]]) #single poly type\n",
    "            \n",
    "            eigvalues,eigvectors = np.linalg.eigh(G2)\n",
    "            min_eig = np.min(eigvalues)\n",
    "            if min_eig <= 0:\n",
    "                chi_spin_bool = True\n",
    "                break\n",
    "#             if eigvalues[0] < 0 and eigvalues[1] < 0:\n",
    "#                 chi_spin_bool = True\n",
    "#                 break\n",
    "    #         determ = np.linalg.det(G2)\n",
    "    #         if determ <= 0 :\n",
    "\n",
    "    #             chi_spin_bool = True\n",
    "    #             break\n",
    "        if chi_spin_bool == True:\n",
    "            spinodal_arr = np.append(spinodal_arr,  chi*N_1)\n",
    "            break"
   ]
  },
  {
   "cell_type": "code",
   "execution_count": 14,
   "metadata": {},
   "outputs": [
    {
     "data": {
      "text/plain": [
       "array([10.75,  9.33,  8.94,  9.33, 10.75])"
      ]
     },
     "execution_count": 14,
     "metadata": {},
     "output_type": "execute_result"
    }
   ],
   "source": [
    "spinodal_arr"
   ]
  },
  {
   "cell_type": "code",
   "execution_count": 15,
   "metadata": {},
   "outputs": [
    {
     "name": "stderr",
     "output_type": "stream",
     "text": [
      "<timed exec>:15: ComplexWarning: Casting complex values to real discards the imaginary part\n"
     ]
    },
    {
     "name": "stdout",
     "output_type": "stream",
     "text": [
      "Wall time: 3.42 s\n"
     ]
    }
   ],
   "source": [
    "%%time\n",
    "#single component Vertex spinodal\n",
    "\n",
    "\n",
    "#generate spinodal\n",
    "N = N_1\n",
    "f_as = FA_arr #= np.arange(0.2, 0.505, .02)#np.arange(0.1, 1, 0.1)\n",
    "spin_array_vertex = np.zeros(len(f_as))\n",
    "for i, FA in enumerate(f_as):\n",
    "    chis = chi_range \n",
    "    min_G_vals = np.zeros(len(chis))\n",
    "    KS = spinodal(pset, N, FA)\n",
    "    for j,CHI in enumerate(chis):\n",
    "        #evaluate gamma2 at the chi k_spinodal for appropriate length, find when equals zero\n",
    "        G = gamma2(pset, N, FA, KS, CHI)\n",
    "        min_G_vals[j] = G # b/c g2 is 1x1 matrix, eigenvalue is the value of g2 itself. \n",
    "#     print(\"chis: \", chis)\n",
    "#     print(\"g val/ eigv: \", min_G_vals)\n",
    "    spin_array_vertex[i] = chis[np.argmin((abs(min_G_vals)))]\n"
   ]
  },
  {
   "cell_type": "code",
   "execution_count": 16,
   "metadata": {},
   "outputs": [
    {
     "data": {
      "text/plain": [
       "array([10.75,  9.33,  8.94,  9.33, 10.75])"
      ]
     },
     "execution_count": 16,
     "metadata": {},
     "output_type": "execute_result"
    }
   ],
   "source": [
    "spinodal_arr"
   ]
  },
  {
   "cell_type": "code",
   "execution_count": 17,
   "metadata": {},
   "outputs": [
    {
     "data": {
      "text/plain": [
       "array([12.44,  9.65,  8.93,  9.65, 12.44])"
      ]
     },
     "execution_count": 17,
     "metadata": {},
     "output_type": "execute_result"
    }
   ],
   "source": [
    "spin_array_vertex*N_1"
   ]
  },
  {
   "cell_type": "code",
   "execution_count": 18,
   "metadata": {},
   "outputs": [],
   "source": [
    "matrixG2_spin_mono_interp = interp1d(FA_arr, spinodal_arr, kind=\"quadratic\") \n",
    "vertex_spin_mono_interp = interp1d(FA_arr, spin_array_vertex*N_1, kind=\"quadratic\") "
   ]
  },
  {
   "cell_type": "code",
   "execution_count": 23,
   "metadata": {},
   "outputs": [
    {
     "data": {
      "text/plain": [
       "Text(0.5, 0, '$f_A$')"
      ]
     },
     "execution_count": 23,
     "metadata": {},
     "output_type": "execute_result"
    },
    {
     "data": {
      "text/plain": [
       "<Figure size 432x288 with 0 Axes>"
      ]
     },
     "metadata": {},
     "output_type": "display_data"
    },
    {
     "data": {
      "image/png": "[encoded data removed]",
      "text/plain": [
       "<Figure size 720x576 with 1 Axes>"
      ]
     },
     "metadata": {
      "needs_background": "light"
     },
     "output_type": "display_data"
    }
   ],
   "source": [
    "fig = plt.figure()\n",
    "plt.figure(figsize=(10,8))\n",
    "\n",
    "font = {'family' : 'serif',\n",
    "        'weight':'normal',\n",
    "        'size': 18}\n",
    "plt.rc('font', **font)\n",
    "ax = plt.subplot(111)\n",
    "\n",
    "new_x = np.arange(0.301, 0.7, 0.001)\n",
    "ax.plot(new_x, matrixG2_spin_mono_interp(new_x), color = \"blue\", label = \"G2 matrix\")\n",
    "ax.plot(new_x, vertex_spin_mono_interp(new_x), color = \"orange\", label = \"vertex\")\n",
    "\n",
    "ax.scatter(FA_arr, spinodal_arr, color = \"blue\")\n",
    "ax.scatter(FA_arr, spin_array_vertex*N_1, color = \"orange\")\n",
    "plt.legend()\n",
    "plt.title(\"monodisperse spinodal\")\n",
    "ax.set_ylabel(\"$\\chi N$\")\n",
    "ax.set_xlabel(\"$f_A$\")"
   ]
  },
  {
   "cell_type": "code",
   "execution_count": null,
   "metadata": {},
   "outputs": [],
   "source": [
    "#binary mix- boneheaded, non-generalized code\n",
    "#TODO- make for a range of F_A\n",
    "N_1 = 10.\n",
    "FA_1 = 0.5\n",
    "PHI_1 = 1.0\n",
    "\n",
    "N_2 = 10.\n",
    "FA_2 = 0.7\n",
    "PHI_2 = 0.0\n",
    "\n",
    "k0 = 1e-2\n",
    "kf = 1e2\n",
    "nk = 50\n",
    "\n",
    "chi_range = np.arange(5.5, 20, 0.1)/N_1\n",
    "\n",
    "k_vec = np.logspace(np.log10(k0), np.log10(kf), nk)\n",
    "# choose k based on sf_2 index\n",
    "\n",
    "s2_1 = wlc_copoly.s2_wlc_diblock(k_vec, N_1, FA_1, dimensions=3, alpha_max=25)\n",
    "\n",
    "s2_AA_1 = s2_1[0]\n",
    "s2_AB_1 = s2_1[1]\n",
    "s2_BB_1 = s2_1[2]\n",
    "\n",
    "s2_2 = wlc_copoly.s2_wlc_diblock(k_vec, N_2, FA_2, dimensions=3, alpha_max=25)\n",
    "\n",
    "s2_AA_2 = s2_2[0]\n",
    "s2_AB_2 = s2_2[1]\n",
    "s2_BB_2 = s2_2[2]\n",
    "\n",
    "spinodal_arr = np.array([]) \n",
    "\n",
    "for chi in chi_range:\n",
    "    print(\"chi: \", chi)\n",
    "    chi_spin_bool = False #means spinodal has not been reached\n",
    "    for k_ind in range(len(k_vec)):\n",
    "        det_1 = s2_AA_1[k_ind] * s2_BB_1[k_ind] - s2_AB_1[k_ind]**2\n",
    "        prefactor_1 = PHI_1/(det_1 * 2)[0]\n",
    "\n",
    "        det_2 = s2_AA_2[k_ind] * s2_BB_2[k_ind] - s2_AB_2[k_ind]**2\n",
    "        prefactor_2 = PHI_2/(det_2 * 2)[0]\n",
    "        print(\"pref_2: \", prefactor_2)\n",
    "\n",
    "        s2inv_AA_1 = s2_1[0][k_ind][0]*prefactor_1\n",
    "        s2inv_AB_1 = s2_1[1][k_ind][0]*prefactor_1\n",
    "        s2inv_BB_1 = s2_1[2][k_ind][0]*prefactor_1\n",
    "\n",
    "        s2inv_AA_2 = s2_2[0][k_ind][0]*prefactor_2\n",
    "        s2inv_AB_2 = s2_2[1][k_ind][0]*prefactor_2\n",
    "        s2inv_BB_2 = s2_2[2][k_ind][0]*prefactor_2\n",
    "\n",
    "        G2 = [[s2inv_BB_1, -s2inv_AB_1 + chi/2, 0, chi/2],[-s2inv_AB_1 + chi/2, s2inv_AA_1, chi/2, 0],[0, chi/2, s2inv_BB_2, -s2inv_AB_2 + chi/2],[chi/2, 0, -s2inv_AB_2 + chi/2, s2inv_AA_2]]\n",
    "        determ = np.linalg.det(G2)\n",
    "        print(\"determ: \", determ)\n",
    "        if determ <= 0 :\n",
    "            chi_spin_bool = True\n",
    "            break\n",
    "    print(\"spino?: \", chi_spin_bool)\n",
    "    if chi_spin_bool == True:\n",
    "        spinodal_arr = np.append(spinodal_arr, chi)\n",
    "        break"
   ]
  },
  {
   "cell_type": "code",
   "execution_count": null,
   "metadata": {},
   "outputs": [],
   "source": []
  },
  {
   "cell_type": "code",
   "execution_count": null,
   "metadata": {},
   "outputs": [],
   "source": [
    "#TEST RUNS"
   ]
  },
  {
   "cell_type": "code",
   "execution_count": 140,
   "metadata": {},
   "outputs": [
    {
     "name": "stdout",
     "output_type": "stream",
     "text": [
      "chi:  0.0\n",
      "eigv:  [0.20945685 0.81548768]\n",
      "\n",
      "chi:  0.0\n",
      "eigv:  [0.23659584 0.53248752]\n",
      "\n",
      "chi:  0.0\n",
      "eigv:  [0.25731948 0.44643462]\n",
      "\n",
      "chi:  0.0\n",
      "eigv:  [0.23659584 0.53248752]\n",
      "\n",
      "chi:  0.0\n",
      "eigv:  [0.20945685 0.81548768]\n",
      "\n",
      "Wall time: 1.03 s\n"
     ]
    }
   ],
   "source": [
    "%%time\n",
    "#test if k identification is issue. Conclusion- it isn't!\n",
    "\n",
    "\n",
    "#single component G2 matrix stability analysis\n",
    "\n",
    "N_1 = 10.\n",
    "\n",
    "# k0 = 1e-2\n",
    "# kf = 1e2\n",
    "# nk = 50\n",
    "# k_vec = np.logspace(np.log10(k0), np.log10(kf), nk)\n",
    "\n",
    "# FA_arr = np.arange(0.3, 0.71, 0.1)\n",
    "# chi_range = np.arange(8, 12, .1)/N_1\n",
    "\n",
    "spinodal_arr = np.array([]) \n",
    "\n",
    "for FA_1 in FA_arr:\n",
    "    KS = spinodal(pset, N_1, FA_1)\n",
    "\n",
    "    s2_1 = wlc_copoly.s2_wlc_diblock(KS, N_1, FA_1, dimensions=3, alpha_max=25)\n",
    "\n",
    "    s2_AA_1 = s2_1[0][0][0]\n",
    "    s2_AB_1 = s2_1[1][0][0]\n",
    "    s2_BB_1 = s2_1[2][0][0]\n",
    "    for chi in [0.]:#chi_range:\n",
    "        \n",
    "        \n",
    "        chi_spin_bool = False #means spinodal has not been reached\n",
    "        det_1 = s2_AA_1 * s2_BB_1 - s2_AB_1**2 #determinant of s2 matrix\n",
    "        prefactor_1 = 1/(det_1*2) #1/2 from taylor expansion, which remains after performing gaussian integral\n",
    "        \n",
    "        s2inv_AA_1 = s2_AA_1*prefactor_1\n",
    "        s2inv_AB_1 = s2_AB_1*prefactor_1\n",
    "        s2inv_BB_1 = s2_BB_1*prefactor_1\n",
    "\n",
    "        G2 = (1/N_1)*np.array([[s2inv_BB_1, -s2inv_AB_1 + 0.5*chi*N_1], [-s2inv_AB_1 + 0.5*chi*N_1, s2inv_AA_1]]) #single poly type\n",
    "\n",
    "        eigvalues,eigvectors = np.linalg.eigh(G2)\n",
    "        print(\"chi: \", chi)\n",
    "        print(\"eigv: \", eigvalues)\n",
    "        print(\"\")\n",
    "        min_eig = np.min(eigvalues)\n",
    "        if min_eig <= 0:\n",
    "            spinodal_arr = np.append(spinodal_arr,  chi*N_1)\n",
    "            break\n",
    "#         if eigvalues[0] < 0 and eigvalues[1] < 0:\n",
    "#             chi_spin_bool = True\n",
    "#             break"
   ]
  },
  {
   "cell_type": "code",
   "execution_count": 137,
   "metadata": {},
   "outputs": [
    {
     "data": {
      "text/plain": [
       "array([], dtype=float64)"
      ]
     },
     "execution_count": 137,
     "metadata": {},
     "output_type": "execute_result"
    }
   ],
   "source": [
    "spinodal_arr"
   ]
  },
  {
   "cell_type": "code",
   "execution_count": 86,
   "metadata": {},
   "outputs": [
    {
     "data": {
      "text/plain": [
       "array([12.4,  9.6,  8.9,  9.6, 12.4])"
      ]
     },
     "execution_count": 86,
     "metadata": {},
     "output_type": "execute_result"
    }
   ],
   "source": [
    "spin_array_vertex*N_1"
   ]
  },
  {
   "cell_type": "code",
   "execution_count": null,
   "metadata": {},
   "outputs": [],
   "source": [
    "%%time\n",
    "#test to recreate 2x2 matrix that matches \"Polymer semiflexibility induces...\" 1x1 result pre incompressibility\n",
    "\n",
    "\n",
    "#single component G2 matrix stability analysis\n",
    "\n",
    "N_1 = 10.\n",
    "\n",
    "# k0 = 1e-2\n",
    "# kf = 1e2\n",
    "# nk = 50\n",
    "# k_vec = np.logspace(np.log10(k0), np.log10(kf), nk)\n",
    "\n",
    "FA_arr = np.arange(0.3, 0.51, 0.05)\n",
    "chi_range = np.arange(8, 20, .1)/N_1\n",
    "\n",
    "spinodal_arr = np.array([]) \n",
    "\n",
    "for FA_1 in FA_arr:\n",
    "    KS = spinodal(pset, N_1, FA_1)\n",
    "\n",
    "    s2_1 = wlc_copoly.s2_wlc_diblock(KS, N_1, FA_1, dimensions=3, alpha_max=25)\n",
    "\n",
    "    s2_AA_1 = s2_1[0][0][0]\n",
    "    s2_AB_1 = s2_1[1][0][0]\n",
    "    s2_BB_1 = s2_1[2][0][0]\n",
    "    for chi in chi_range:\n",
    "        \n",
    "        \n",
    "        chi_spin_bool = False #means spinodal has not been reached\n",
    "        det_1 = s2_AA_1 * s2_BB_1 - s2_AB_1**2 #determinant of s2 matrix\n",
    "        prefactor_1 = 1/(det_1) \n",
    "\n",
    "        s2inv_AA_1 = s2_AA_1*prefactor_1\n",
    "        s2inv_AB_1 = s2_AB_1*prefactor_1\n",
    "        s2inv_BB_1 = s2_BB_1*prefactor_1\n",
    "\n",
    "        G2 = (1/N_1)*np.array([[s2inv_BB_1, s2inv_AB_1 + chi*N_1], [s2inv_AB_1 + chi*N_1, s2inv_AA_1]]) #single poly type\n",
    "\n",
    "        eigvalues,eigvectors = np.linalg.eigh(G2)\n",
    "        min_eig = np.min(eigvalues)\n",
    "        if min_eig <= 0:\n",
    "            spinodal_arr = np.append(spinodal_arr,  chi*N_1)\n",
    "            break"
   ]
  },
  {
   "cell_type": "code",
   "execution_count": null,
   "metadata": {},
   "outputs": [],
   "source": [
    "spinodal_arr"
   ]
  },
  {
   "cell_type": "code",
   "execution_count": null,
   "metadata": {},
   "outputs": [],
   "source": [
    "%%time\n",
    "#test to use Vertex-defined structure factors instead of wlcstat\n",
    "\n",
    "#single component G2 matrix stability analysis\n",
    "\n",
    "N_1 = 10.\n",
    "\n",
    "# k0 = 1e-2\n",
    "# kf = 1e2\n",
    "# nk = 50\n",
    "# k_vec = np.logspace(np.log10(k0), np.log10(kf), nk)\n",
    "\n",
    "FA_arr = np.arange(0.3, 0.51, 0.05)\n",
    "chi_range = np.arange(8, 20, .1)/N_1\n",
    "\n",
    "spinodal_arr = np.array([]) \n",
    "\n",
    "for FA_1 in FA_arr:\n",
    "    KS = spinodal(pset, N_1, FA_1)\n",
    "\n",
    "    s2_1 = s2wlc(pset, N_1, FA_1, KS, sequence='all')\n",
    "\n",
    "    s2_AA_1 = s2_1[0][0]*(1/N_1**2)\n",
    "    s2_AB_1 = s2_1[1][0]*(1/N_1**2)\n",
    "    s2_BB_1 = s2_1[1][1]*(1/N_1**2)\n",
    "    for chi in chi_range:\n",
    "        \n",
    "        \n",
    "        chi_spin_bool = False #means spinodal has not been reached\n",
    "        det_1 = s2_AA_1 * s2_BB_1 - s2_AB_1**2 #determinant of s2 matrix\n",
    "        prefactor_1 = 1/(det_1) #1/2 from taylor expansion, which remains after performing gaussian integral\n",
    "\n",
    "        s2inv_AA_1 = s2_AA_1*prefactor_1\n",
    "        s2inv_AB_1 = s2_AB_1*prefactor_1\n",
    "        s2inv_BB_1 = s2_BB_1*prefactor_1\n",
    "\n",
    "        G2 = (1/N_1)*np.array([[s2inv_BB_1, -s2inv_AB_1 + chi*N_1], [-s2inv_AB_1 + chi*N_1, s2inv_AA_1]]) #single poly type\n",
    "\n",
    "        eigvalues,eigvectors = np.linalg.eigh(G2)\n",
    "        min_eig = np.min(eigvalues)\n",
    "        if min_eig <= 0:\n",
    "            spinodal_arr = np.append(spinodal_arr,  chi*N_1)\n",
    "            break"
   ]
  },
  {
   "cell_type": "code",
   "execution_count": null,
   "metadata": {},
   "outputs": [],
   "source": [
    "spinodal_arr"
   ]
  },
  {
   "cell_type": "code",
   "execution_count": 97,
   "metadata": {},
   "outputs": [
    {
     "name": "stdout",
     "output_type": "stream",
     "text": [
      "Wall time: 294 ms\n"
     ]
    }
   ],
   "source": [
    "%%time\n",
    "#test to use Vertex-defined structure factors instead of wlcstat, copying GAMcalc solution\n",
    "\n",
    "#single component G2 matrix stability analysis\n",
    "\n",
    "N_1 = 10.\n",
    "\n",
    "# k0 = 1e-2\n",
    "# kf = 1e2\n",
    "# nk = 50\n",
    "# k_vec = np.logspace(np.log10(k0), np.log10(kf), nk)\n",
    "\n",
    "FA_arr = np.arange(0.3, 0.71, 0.1)\n",
    "chi_range = np.arange(8, 20, .1)/N_1\n",
    "\n",
    "spinodal_arr = np.array([]) \n",
    "\n",
    "for FA_1 in FA_arr:\n",
    "    KS = spinodal(pset, N_1, FA_1)\n",
    "\n",
    "    s2_1 = s2wlc(pset, N_1, FA_1, KS, sequence='all')\n",
    "\n",
    "    s2_AA_1 = s2_1[0][0]\n",
    "    s2_AB_1 = s2_1[1][0]\n",
    "    s2_BB_1 = s2_1[1][1]\n",
    "    for chi in chi_range:\n",
    "        \n",
    "        \n",
    "        chi_spin_bool = False #means spinodal has not been reached\n",
    "        det_1 = s2_AA_1 * s2_BB_1 - s2_AB_1**2 #determinant of s2 matrix\n",
    "        prefactor_1 = 1/(det_1) #1/2 from taylor expansion, which remains after performing gaussian integral\n",
    "\n",
    "        s2inv_AA_1 = s2_AA_1*prefactor_1*N_1\n",
    "        s2inv_AB_1 = -s2_AB_1*prefactor_1*N_1\n",
    "        s2inv_BB_1 = s2_BB_1*prefactor_1*N_1\n",
    "\n",
    "        G2 = (1/N_1)*(1/2)*np.array([[s2inv_BB_1, s2inv_AB_1 + chi], [s2inv_AB_1 + chi, s2inv_AA_1]]) #single poly type\n",
    "\n",
    "        eigvalues,eigvectors = np.linalg.eigh(G2)\n",
    "        min_eig = np.min(eigvalues)\n",
    "        if min_eig <= 0:\n",
    "            spinodal_arr = np.append(spinodal_arr,  chi*N_1)\n",
    "            break"
   ]
  },
  {
   "cell_type": "code",
   "execution_count": 98,
   "metadata": {},
   "outputs": [
    {
     "data": {
      "text/plain": [
       "array([10.8,  9.4,  9. ,  9.4, 10.8])"
      ]
     },
     "execution_count": 98,
     "metadata": {},
     "output_type": "execute_result"
    }
   ],
   "source": [
    "spinodal_arr"
   ]
  },
  {
   "cell_type": "code",
   "execution_count": null,
   "metadata": {},
   "outputs": [],
   "source": [
    "s2inverse(pset, N_1, FA_1, KS)"
   ]
  },
  {
   "cell_type": "code",
   "execution_count": null,
   "metadata": {},
   "outputs": [],
   "source": [
    "s2inv_AB_1"
   ]
  },
  {
   "cell_type": "code",
   "execution_count": null,
   "metadata": {},
   "outputs": [],
   "source": [
    "spinodal_arr"
   ]
  },
  {
   "cell_type": "code",
   "execution_count": null,
   "metadata": {},
   "outputs": [],
   "source": [
    "FA_1 = 0.3"
   ]
  },
  {
   "cell_type": "code",
   "execution_count": null,
   "metadata": {},
   "outputs": [],
   "source": [
    "s2wlc(pset, N_1, FA_1, KS, sequence='all') #vertex"
   ]
  },
  {
   "cell_type": "code",
   "execution_count": null,
   "metadata": {},
   "outputs": [],
   "source": [
    "wlc_copoly.s2_wlc_diblock(KS, N_1, FA_1, dimensions=3, alpha_max=25)"
   ]
  },
  {
   "cell_type": "code",
   "execution_count": null,
   "metadata": {},
   "outputs": [],
   "source": [
    "#differ"
   ]
  }
 ],
 "metadata": {
  "kernelspec": {
   "display_name": "Python 3",
   "language": "python",
   "name": "python3"
  },
  "language_info": {
   "codemirror_mode": {
    "name": "ipython",
    "version": 3
   },
   "file_extension": ".py",
   "mimetype": "text/x-python",
   "name": "python",
   "nbconvert_exporter": "python",
   "pygments_lexer": "ipython3",
   "version": "3.8.5"
  }
 },
 "nbformat": 4,
 "nbformat_minor": 4
}
