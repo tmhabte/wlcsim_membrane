{
 "cells": [
  {
   "cell_type": "code",
   "execution_count": 1,
   "metadata": {},
   "outputs": [],
   "source": [
    "import numpy as np\n",
    "import wlcstat.wlc_copoly as wlc_copoly\n",
    "from scipy.interpolate import interp1d"
   ]
  },
  {
   "cell_type": "code",
   "execution_count": 2,
   "metadata": {},
   "outputs": [],
   "source": [
    "#FOR VERTEX:\n",
    "import sys\n",
    "sys.path.append(\"./vertex_subroutines\")\n",
    "from GAMcalc import *  # Code for calculating vertex functions\n",
    "import propagator  # propagator object used to store pre-calculated values\n",
    "import wignerD as wd # wigner D object used to store pre-calculated values"
   ]
  },
  {
   "cell_type": "code",
   "execution_count": 3,
   "metadata": {},
   "outputs": [],
   "source": [
    "pset=propagator.prop_set(nlam=10) \n",
    "wigset = wd.wigner_d_vals()"
   ]
  },
  {
   "cell_type": "code",
   "execution_count": 20,
   "metadata": {},
   "outputs": [],
   "source": [
    "def s2inverse_polyd(pset, N_1, N_2, FA_1, FA_2, PHI_1, PHI_2, K):\n",
    "    \"returns the annealed disorder average of the 2 point sf inverse of a binary mixture of diblock copolymers\"\n",
    "    \"CURRENTLY ONLY HANDLES POLYS OF SAME LENGTH\"\n",
    "    if (N_1 != N_2):\n",
    "        raise Exception(\"Can only handle binary mix of polymers with same length\")\n",
    "        \n",
    "    if norm(K) < 1e-5:\n",
    "        s2inv = s2inverse_zeroq_polyd(N_1, N_2, PHI_1, PHI_2) #TODO change so handles dif length polys\n",
    "        return s2inv\n",
    "    \n",
    "    #PHI_2 = 1 - PHI_1\n",
    "    s2_1 = s2wlc(pset, N_1, FA_1, K)\n",
    "    s2_2 = s2wlc(pset, N_2, FA_2, K)\n",
    "    \n",
    "    s2inv = np.zeros((2,2),dtype=type(1+1j))\n",
    "    \n",
    "    [s2aa_1, s2ab_1], [s2ba_1, s2bb_1] = s2_1\n",
    "    [s2aa_2, s2ab_2], [s2ba_2, s2bb_2] = s2_2\n",
    "    \n",
    "    s2aa = PHI_1*s2aa_1+PHI_2*s2aa_2 # TODO: update these averages to consider N_1 != N_2\n",
    "    s2ab = PHI_1*s2ab_1+PHI_2*s2ab_2\n",
    "    s2ba = PHI_1*s2ba_1+PHI_2*s2ba_2\n",
    "    s2bb = PHI_1*s2bb_1+PHI_2*s2bb_2\n",
    "    \n",
    "    det = s2aa*s2bb - s2ab*s2ba\n",
    "    \n",
    "    s2inv[0,0] = s2bb/det\n",
    "    s2inv[0,1] = -s2ab/det\n",
    "    s2inv[1,0] = -s2ba/det\n",
    "    s2inv[1,1] = s2aa/det\n",
    "    \n",
    "    return s2inv"
   ]
  },
  {
   "cell_type": "code",
   "execution_count": 25,
   "metadata": {},
   "outputs": [],
   "source": [
    "def spinodal_polyd(pset, N_1, N_2, FA_1, FA_2, PHI_1, PHI_2):\n",
    "    CHI = 0\n",
    "    if (N_1 != N_2):\n",
    "        raise Exception(\"Can only handle binary mix of polymers with same length\")\n",
    "    K0 = 1/np.sqrt(r2(N_1))\n",
    "    \n",
    "    KS = optimize.fmin(lambda K: np.real(gamma2_polyd(pset, N_1, N_2, FA_1, FA_2, PHI_1, PHI_2, K, CHI)), K0,\\\n",
    "                      disp=False)\n",
    "    \n",
    "    return KS"
   ]
  },
  {
   "cell_type": "code",
   "execution_count": 22,
   "metadata": {},
   "outputs": [],
   "source": [
    "# chemically averaged\n",
    "\n",
    "def gamma2_polyd(pset, N_1, N_2, FA_1, FA_2, PHI_1, PHI_2, K, CHI):\n",
    "    #Only accepts two polymer types of same length\n",
    "    #PHI_2 = 1 - PHI_1\n",
    "    \n",
    "    s2inv = s2inverse_polyd(pset, N_1, N_2, FA_1, FA_2, PHI_1, PHI_2, K)\n",
    "\n",
    "    D = [1,-1]    # sign indicator\n",
    "    G = 0\n",
    "    for I0, I1 in product([0,1], repeat=2):\n",
    "        G += s2inv[I0, I1]*D[I0]*D[I1]\n",
    "        \n",
    "    return -2*CHI + (PHI_1*N_1 + PHI_2*N_2)*G #TODO: fix this averaging for polys w different length\n",
    "# calc spinodal!"
   ]
  },
  {
   "cell_type": "code",
   "execution_count": 23,
   "metadata": {},
   "outputs": [],
   "source": [
    "def s2inverse_zeroq_polyd(N_1, N_2, PHI_1, PHI_2):\n",
    "    s2 = np.ones((2,2),dtype='complex')\n",
    "    N_ave = N_1 * PHI_1 + N_2 * PHI_2\n",
    "    return s2/(N_ave**2)"
   ]
  },
  {
   "cell_type": "code",
   "execution_count": null,
   "metadata": {},
   "outputs": [],
   "source": []
  },
  {
   "cell_type": "code",
   "execution_count": null,
   "metadata": {},
   "outputs": [],
   "source": []
  },
  {
   "cell_type": "code",
   "execution_count": null,
   "metadata": {},
   "outputs": [],
   "source": []
  },
  {
   "cell_type": "code",
   "execution_count": null,
   "metadata": {},
   "outputs": [],
   "source": []
  },
  {
   "cell_type": "code",
   "execution_count": null,
   "metadata": {},
   "outputs": [],
   "source": []
  },
  {
   "cell_type": "code",
   "execution_count": null,
   "metadata": {},
   "outputs": [],
   "source": []
  },
  {
   "cell_type": "code",
   "execution_count": 13,
   "metadata": {},
   "outputs": [],
   "source": [
    "N_1 = 10.\n",
    "\n",
    "FA_1_arr = np.arange(0.3, 0.71, 0.1)\n",
    "chi_range = np.arange(8, 20, .01)/N_1\n",
    "\n",
    "k0 = 1e-2\n",
    "kf = 1e2\n",
    "nk = 50\n",
    "k_vec = np.logspace(np.log10(k0), np.log10(kf), nk)\n"
   ]
  },
  {
   "cell_type": "markdown",
   "metadata": {},
   "source": [
    "# Monodisperse "
   ]
  },
  {
   "cell_type": "code",
   "execution_count": 14,
   "metadata": {},
   "outputs": [
    {
     "name": "stdout",
     "output_type": "stream",
     "text": [
      "Wall time: 28.6 s\n"
     ]
    }
   ],
   "source": [
    "%%time\n",
    "#single component G2 matrix stability analysis, POST INCOMPRESSIBILITY\n",
    "\n",
    "spinodal_arr = np.array([]) \n",
    "\n",
    "for FA_1 in FA_1_arr:\n",
    "    s2_1 = wlc_copoly.s2_wlc_diblock(k_vec, N_1, FA_1, dimensions=3, alpha_max=25)\n",
    "\n",
    "    s2_AA_1 = s2_1[0]\n",
    "    s2_AB_1 = s2_1[1]\n",
    "    s2_BB_1 = s2_1[2]\n",
    "    for chi in chi_range:\n",
    "        chi_spin_bool = False #means spinodal has not been reached\n",
    "        for k_ind in range(len(k_vec)):\n",
    "            det_1 = s2_AA_1[k_ind] * s2_BB_1[k_ind] - s2_AB_1[k_ind]**2 #determinant of s2 matrix\n",
    "            prefactor_1 = 1/(det_1)[0] #1/2 from taylor expansion, which remains after performing gaussian integral\n",
    "\n",
    "            s2inv_AA_1 = s2_1[0][k_ind][0]*prefactor_1\n",
    "            s2inv_AB_1 = s2_1[1][k_ind][0]*prefactor_1\n",
    "            s2inv_BB_1 = s2_1[2][k_ind][0]*prefactor_1\n",
    "            \n",
    "            G2 = (s2inv_AA_1 + 2*s2inv_AB_1 + s2inv_BB_1)-2*chi*N_1\n",
    "            if G2 <= 0:\n",
    "                chi_spin_bool = True\n",
    "                break\n",
    "        if chi_spin_bool == True:\n",
    "            spinodal_arr = np.append(spinodal_arr,  chi*N_1)\n",
    "            break"
   ]
  },
  {
   "cell_type": "code",
   "execution_count": 15,
   "metadata": {},
   "outputs": [
    {
     "name": "stderr",
     "output_type": "stream",
     "text": [
      "<timed exec>:15: ComplexWarning: Casting complex values to real discards the imaginary part\n"
     ]
    },
    {
     "name": "stdout",
     "output_type": "stream",
     "text": [
      "Wall time: 10.7 s\n"
     ]
    }
   ],
   "source": [
    "%%time\n",
    "#single component Vertex spinodal\n",
    "\n",
    "\n",
    "#generate spinodal\n",
    "# N = N_1\n",
    "# f_as = FA_1_arr #= np.arange(0.2, 0.505, .02)#np.arange(0.1, 1, 0.1)\n",
    "spin_array_vertex = np.zeros(len(FA_1_arr))\n",
    "for i, FA in enumerate(FA_1_arr):\n",
    "    chis = chi_range \n",
    "    min_G_vals = np.zeros(len(chis))\n",
    "    KS = spinodal(pset, N_1, FA)\n",
    "    for j,CHI in enumerate(chis):\n",
    "        #evaluate gamma2 at the chi k_spinodal for appropriate length, find when equals zero\n",
    "        G = gamma2(pset, N_1, FA, KS, CHI)\n",
    "        min_G_vals[j] = G # b/c g2 is 1x1 matrix, eigenvalue is the value of g2 itself. \n",
    "#     print(\"chis: \", chis)\n",
    "#     print(\"g val/ eigv: \", min_G_vals)\n",
    "    spin_array_vertex[i] = chis[np.argmin((abs(min_G_vals)))]\n"
   ]
  },
  {
   "cell_type": "code",
   "execution_count": 16,
   "metadata": {
    "scrolled": false
   },
   "outputs": [
    {
     "data": {
      "text/plain": [
       "Text(0.5, 0, '$f_A$')"
      ]
     },
     "execution_count": 16,
     "metadata": {},
     "output_type": "execute_result"
    },
    {
     "data": {
      "text/plain": [
       "<Figure size 432x288 with 0 Axes>"
      ]
     },
     "metadata": {},
     "output_type": "display_data"
    },
    {
     "data": {
      "image/png": "[encoded data removed]",
      "text/plain": [
       "<Figure size 720x576 with 1 Axes>"
      ]
     },
     "metadata": {
      "needs_background": "light"
     },
     "output_type": "display_data"
    }
   ],
   "source": [
    "matrixG2_spin_mono_interp = interp1d(FA_1_arr, spinodal_arr, kind=\"quadratic\") \n",
    "vertex_spin_mono_interp = interp1d(FA_1_arr, spin_array_vertex*N_1, kind=\"quadratic\") \n",
    "\n",
    "fig = plt.figure()\n",
    "plt.figure(figsize=(10,8))\n",
    "\n",
    "font = {'family' : 'serif',\n",
    "        'weight':'normal',\n",
    "        'size': 18}\n",
    "plt.rc('font', **font)\n",
    "ax = plt.subplot(111)\n",
    "\n",
    "new_x = np.arange(0.301, 0.7, 0.001)\n",
    "ax.plot(new_x, matrixG2_spin_mono_interp(new_x), color = \"blue\", label = \"G2 matrix\", zorder=1)\n",
    "# ax.plot(new_x, vertex_spin_mono_interp(new_x), color = \"orange\", label = \"vertex\")\n",
    "\n",
    "ax.scatter(FA_1_arr, spinodal_arr, color = \"blue\", zorder = 2)\n",
    "ax.scatter(FA_1_arr, spin_array_vertex*N_1, color = \"orange\", label = \"vertex\", zorder = 3)\n",
    "plt.legend()\n",
    "plt.title(\"monodisperse spinodal, N = \" + str(N_1))\n",
    "ax.set_ylabel(\"$\\chi N$\")\n",
    "ax.set_xlabel(\"$f_A$\")"
   ]
  },
  {
   "cell_type": "markdown",
   "metadata": {},
   "source": [
    "# Polydisperse binary mix"
   ]
  },
  {
   "cell_type": "code",
   "execution_count": 63,
   "metadata": {},
   "outputs": [],
   "source": [
    "N_1 = 10.\n",
    "FA_1_arr = np.arange(0.1, 0.701, 0.1)\n",
    "PHI_1 = 0.5\n",
    "\n",
    "N_2 = N_1\n",
    "FA_2 = 0.7\n",
    "PHI_2 = 0.5\n",
    "\n",
    "k0 = 1e-2\n",
    "kf = 1e2\n",
    "nk = 50\n",
    "\n",
    "k_vec = np.logspace(np.log10(k0), np.log10(kf), nk)\n",
    "\n",
    "chi_range = np.arange(4, 20, 0.01)/N_1"
   ]
  },
  {
   "cell_type": "code",
   "execution_count": 147,
   "metadata": {},
   "outputs": [
    {
     "data": {
      "text/plain": [
       "[[3, 4], [5, 6]]"
      ]
     },
     "execution_count": 147,
     "metadata": {},
     "output_type": "execute_result"
    }
   ],
   "source": [
    "arr_1 = []\n",
    "arr_2 = np.array([3, 4], dtype = object)\n",
    "arr_1.append([3, 4])\n",
    "arr_1.append([5, 6])\n",
    "arr_1"
   ]
  },
  {
   "cell_type": "code",
   "execution_count": 153,
   "metadata": {},
   "outputs": [
    {
     "name": "stdout",
     "output_type": "stream",
     "text": [
      "Wall time: 1min 26s\n"
     ]
    }
   ],
   "source": [
    "%%time\n",
    "#binary mix- Vectorized, ASSUMING SAME LENGTH\n",
    "#TODO- interpreting eigenvalues\n",
    "\n",
    "\n",
    "# chi_range = np.arange(5.5, 20, 0.001)/N_1\n",
    "\n",
    "\n",
    "polyd_spinodal_arr = np.array([])\n",
    "eigvects_arr = []\n",
    "eigvals_arr = []\n",
    "\n",
    "for FA_1 in FA_1_arr:\n",
    "    s2_1 = wlc_copoly.s2_wlc_diblock(k_vec, N_1, FA_1, dimensions=3, alpha_max=25)\n",
    "\n",
    "    s2_AA_1 = s2_1[0]\n",
    "    s2_AB_1 = s2_1[1]\n",
    "    s2_BB_1 = s2_1[2]\n",
    "\n",
    "    s2_2 = wlc_copoly.s2_wlc_diblock(k_vec, N_2, FA_2, dimensions=3, alpha_max=25)\n",
    "\n",
    "    s2_AA_2 = s2_2[0]\n",
    "    s2_AB_2 = s2_2[1]\n",
    "    s2_BB_2 = s2_2[2]\n",
    "\n",
    "    for chi in chi_range:\n",
    "    #     print(\"chi: \", chi)\n",
    "        chi_spin_bool = False #means spinodal has not been reached\n",
    "#         chiN = chi * N\n",
    "        \n",
    "        det_1_arr = s2_AA_1 * s2_BB_1 - s2_AB_1**2\n",
    "        prefactor_1_arr = 1/(det_1_arr*2*PHI_1)\n",
    "        \n",
    "        det_2_arr = s2_AA_2 * s2_BB_2 - s2_AB_2**2\n",
    "        prefactor_2_arr = 1/(det_2_arr*2*PHI_2)\n",
    "        \n",
    "        s2inv_AA_1_arr = s2_AA_1*prefactor_1_arr\n",
    "        s2inv_AB_1_arr = s2_AB_1*prefactor_1_arr\n",
    "        s2inv_BB_1_arr = s2_BB_1*prefactor_1_arr\n",
    "        \n",
    "        s2inv_AA_2_arr = s2_AA_2*prefactor_2_arr\n",
    "        s2inv_AB_2_arr = s2_AB_2*prefactor_2_arr\n",
    "        s2inv_BB_2_arr = s2_BB_2*prefactor_2_arr\n",
    "        \n",
    "        #matrix indices\n",
    "        \n",
    "        zero_zero = s2inv_BB_1_arr - (chi*N_1) + s2inv_AA_2_arr\n",
    "        zero_one = -s2inv_AB_1_arr + s2inv_AA_2_arr\n",
    "        zero_two = -(chi*N_1) + s2inv_AB_2_arr + s2inv_AA_2_arr\n",
    "        \n",
    "        one_zero = zero_one\n",
    "        one_one = s2inv_AA_1_arr + s2inv_AA_2_arr\n",
    "        one_two = s2inv_AB_2_arr + s2inv_AA_2_arr\n",
    "        \n",
    "        two_zero = zero_two\n",
    "        two_one = one_two\n",
    "        two_two = s2inv_BB_2_arr + 2*s2inv_AB_2_arr - (chi*N_1) + s2inv_AA_2_arr\n",
    "        \n",
    "        G2 = np.array([zero_zero, zero_one, zero_two, one_zero, one_one, one_two, two_zero, two_one, two_two]).T.reshape(len(k_vec), 3, 3)\n",
    "        eigvalues,eigvectors = np.linalg.eigh(G2)\n",
    "        eigvalues_lst = np.concatenate(eigvalues)\n",
    "        min_eig = np.min(eigvalues_lst)\n",
    "        if min_eig <= 0:\n",
    "            chi_spin_bool = True\n",
    "            eigvects = eigvectors[np.where(eigvalues_lst==min_eig)[0]//3][0]\n",
    "            eigvals = eigvalues[np.where(eigvalues_lst==min_eig)[0]//3][0]\n",
    "            break\n",
    "    if chi_spin_bool == True:\n",
    "        polyd_spinodal_arr = np.append(polyd_spinodal_arr, chi*N_1)\n",
    "#         if len(eigvals_arr) == 0:\n",
    "#             eigvals_arr = eigvals\n",
    "#         if len(eigvects_arr) == 0:\n",
    "#             eigvals_arr = eigvects\n",
    "#         eigvals_arr = np.vstack((eigvals_arr, eigvals))\n",
    "#         eigvects_arr = np.append(eigvects_arr, eigvects)\n",
    "        eigvals_arr.append(eigvals)\n",
    "        eigvects_arr.append(eigvects)\n",
    "    else:\n",
    "        raise Exception(\"chi range not high enough\")\n",
    "eigvals_arr = np.array(eigvals_arr)\n",
    "eigvects_arr = np.array(eigvects_arr)\n",
    "#NON VECT- 2min 52 sec\n",
    "# VECT - 1min 15 sec"
   ]
  },
  {
   "cell_type": "code",
   "execution_count": 154,
   "metadata": {},
   "outputs": [
    {
     "data": {
      "text/plain": [
       "array([[-1.21955251e-03,  2.86505081e+05,  9.53584501e+05],\n",
       "       [-2.78489095e-03,  3.41726810e+01,  8.08083213e+01],\n",
       "       [-1.36502738e-03,  1.29218028e+01,  5.01154529e+01],\n",
       "       [-1.74933297e-03,  7.94165281e+00,  4.63601220e+01],\n",
       "       [-3.79383548e-03,  5.82391036e+00,  4.58035302e+01],\n",
       "       [-2.44250240e-03,  4.65172578e+00,  4.58307422e+01],\n",
       "       [-1.03043920e-03,  3.97438316e+00,  4.76379906e+01]])"
      ]
     },
     "execution_count": 154,
     "metadata": {},
     "output_type": "execute_result"
    }
   ],
   "source": [
    "eigvals_arr"
   ]
  },
  {
   "cell_type": "code",
   "execution_count": 155,
   "metadata": {},
   "outputs": [
    {
     "data": {
      "text/plain": [
       "array([[[-0.08736471+0.j, -0.1810202 -0.j, -0.97959129+0.j],\n",
       "        [-0.7863279 +0.j,  0.6162583 +0.j, -0.04375079+0.j],\n",
       "        [ 0.61160104+0.j,  0.76645769+0.j, -0.19618047+0.j]],\n",
       "\n",
       "       [[-0.08074504+0.j, -0.66601087-0.j, -0.74155901+0.j],\n",
       "        [-0.72127131+0.j,  0.55253106+0.j, -0.4177046 +0.j],\n",
       "        [ 0.68793019+0.j,  0.50113766+0.j, -0.52498868+0.j]],\n",
       "\n",
       "       [[ 0.03859715+0.j, -0.83428231-0.j, -0.5499848 +0.j],\n",
       "        [-0.7065789 +0.j,  0.36640209+0.j, -0.60538894+0.j],\n",
       "        [ 0.70658087+0.j,  0.41197395+0.j, -0.5753442 +0.j]],\n",
       "\n",
       "       [[ 0.19504857+0.j, -0.84948497-0.j, -0.490236  +0.j],\n",
       "        [-0.70920737+0.j,  0.22310435+0.j, -0.66876704+0.j],\n",
       "        [ 0.67748133+0.j,  0.47812104+0.j, -0.55894482+0.j]],\n",
       "\n",
       "       [[ 0.29896266+0.j, -0.84278128-0.j, -0.44759472+0.j],\n",
       "        [-0.69999436+0.j,  0.12510256+0.j, -0.70310543+0.j],\n",
       "        [ 0.64855935+0.j,  0.52351605+0.j, -0.55254115+0.j]],\n",
       "\n",
       "       [[ 0.41997158+0.j, -0.81314716-0.j, -0.40300814+0.j],\n",
       "        [-0.66433258+0.j,  0.02708561+0.j, -0.74694618+0.j],\n",
       "        [ 0.61829289+0.j,  0.58142761+0.j, -0.52882496+0.j]],\n",
       "\n",
       "       [[-0.57736863+0.j,  0.74338152+0.j, -0.33768236-0.j],\n",
       "        [ 0.57733649+0.j,  0.07925705+0.j, -0.81265054+0.j],\n",
       "        [-0.57734568+0.j, -0.66415528+0.j, -0.47494181+0.j]]])"
      ]
     },
     "execution_count": 155,
     "metadata": {},
     "output_type": "execute_result"
    }
   ],
   "source": [
    "eigvects_arr"
   ]
  },
  {
   "cell_type": "markdown",
   "metadata": {},
   "source": [
    "# Annealed disorder avg results"
   ]
  },
  {
   "cell_type": "code",
   "execution_count": 65,
   "metadata": {},
   "outputs": [
    {
     "name": "stderr",
     "output_type": "stream",
     "text": [
      "<timed exec>:15: ComplexWarning: Casting complex values to real discards the imaginary part\n"
     ]
    },
    {
     "name": "stdout",
     "output_type": "stream",
     "text": [
      "Wall time: 18.6 s\n"
     ]
    }
   ],
   "source": [
    "%%time\n",
    "#annealed disorder avg binary mix Vertex spinodal\n",
    "\n",
    "\n",
    "#generate spinodal\n",
    "# N = N_1\n",
    "# f_as = FA_1_arr #= np.arange(0.2, 0.505, .02)#np.arange(0.1, 1, 0.1)\n",
    "spin_array_vertex_polyd_anneal = np.zeros(len(FA_1_arr))\n",
    "for i, FA_1 in enumerate(FA_1_arr):\n",
    "    chis = chi_range \n",
    "    min_G_vals = np.zeros(len(chis))\n",
    "    KS = spinodal_polyd(pset, N_1, N_2, FA_1, FA_2, PHI_1, PHI_2)\n",
    "    for j,CHI in enumerate(chis):\n",
    "        #evaluate gamma2 at the chi k_spinodal for appropriate length, find when equals zero\n",
    "        G = gamma2_polyd(pset, N_1, N_2, FA_1, FA_2, PHI_1, PHI_2, KS, CHI)\n",
    "        min_G_vals[j] = G # b/c g2 is 1x1 matrix, eigenvalue is the value of g2 itself. \n",
    "#     print(\"chis: \", chis)\n",
    "#     print(\"g val/ eigv: \", min_G_vals)\n",
    "    spin_array_vertex_polyd_anneal[i] = chis[np.argmin((abs(min_G_vals)))]\n"
   ]
  },
  {
   "cell_type": "markdown",
   "metadata": {},
   "source": [
    "# Monodisperse Vertex spinodal \n",
    "for comparison"
   ]
  },
  {
   "cell_type": "code",
   "execution_count": 66,
   "metadata": {},
   "outputs": [
    {
     "name": "stderr",
     "output_type": "stream",
     "text": [
      "<timed exec>:15: ComplexWarning: Casting complex values to real discards the imaginary part\n"
     ]
    },
    {
     "name": "stdout",
     "output_type": "stream",
     "text": [
      "Wall time: 15.5 s\n"
     ]
    }
   ],
   "source": [
    "%%time\n",
    "#single component Vertex spinodal\n",
    "\n",
    "\n",
    "#generate spinodal\n",
    "# N = N_1\n",
    "# f_as = FA_1_arr #= np.arange(0.2, 0.505, .02)#np.arange(0.1, 1, 0.1)\n",
    "spin_array_vertex = np.zeros(len(FA_1_arr))\n",
    "for i, FA_1 in enumerate(FA_1_arr):\n",
    "    chis = chi_range \n",
    "    min_G_vals = np.zeros(len(chis))\n",
    "    KS = spinodal(pset, N_1, FA_1)\n",
    "    for j,CHI in enumerate(chis):\n",
    "        #evaluate gamma2 at the chi k_spinodal for appropriate length, find when equals zero\n",
    "        G = gamma2(pset, N_1, FA_1, KS, CHI)\n",
    "        min_G_vals[j] = G # b/c g2 is 1x1 matrix, eigenvalue is the value of g2 itself. \n",
    "#     print(\"chis: \", chis)\n",
    "#     print(\"g val/ eigv: \", min_G_vals)\n",
    "    spin_array_vertex[i] = chis[np.argmin((abs(min_G_vals)))]\n"
   ]
  },
  {
   "cell_type": "markdown",
   "metadata": {},
   "source": [
    "# Plotting"
   ]
  },
  {
   "cell_type": "code",
   "execution_count": 80,
   "metadata": {
    "scrolled": false
   },
   "outputs": [
    {
     "data": {
      "text/plain": [
       "Text(0.5, 0, '$f_A^{\\\\ eff}$')"
      ]
     },
     "execution_count": 80,
     "metadata": {},
     "output_type": "execute_result"
    },
    {
     "data": {
      "text/plain": [
       "<Figure size 432x288 with 0 Axes>"
      ]
     },
     "metadata": {},
     "output_type": "display_data"
    },
    {
     "data": {
      "image/png": "[encoded data removed]",
      "text/plain": [
       "<Figure size 720x576 with 1 Axes>"
      ]
     },
     "metadata": {
      "needs_background": "light"
     },
     "output_type": "display_data"
    }
   ],
   "source": [
    "#FA EFF\n",
    "matrixG2_spin_polyd_interp = interp1d(FA_1_arr, polyd_spinodal_arr, kind=\"quadratic\") \n",
    "vertex_spin_mono_interp = interp1d(FA_1_arr, spin_array_vertex*N_1, kind=\"quadratic\")\n",
    "vertex_spin_interp_polyd_anneal = interp1d(FA_1_arr, spin_array_vertex_polyd_anneal*N_1, kind=\"quadratic\")\n",
    "\n",
    "fig = plt.figure()\n",
    "plt.figure(figsize=(10,8))\n",
    "\n",
    "font = {'family' : 'serif',\n",
    "        'weight':'normal',\n",
    "        'size': 18}\n",
    "plt.rc('font', **font)\n",
    "ax = plt.subplot(111)\n",
    "\n",
    "new_x = np.arange(0.300, 0.70, 0.001)\n",
    "\n",
    "fa_eff = PHI_1 * new_x + PHI_2 * FA_2\n",
    "# ax.plot(fa_eff, matrixG2_spin_polyd_interp(new_x), color = \"blue\", label = \"exact\", zorder = 0)\n",
    "ax.plot(new_x, vertex_spin_mono_interp(new_x), color = \"black\", linestyle = \"--\", label = \"monodisperse\", alpha = 0.8)\n",
    "# ax.plot(fa_eff, vertex_spin_interp_polyd_anneal(new_x), color = \"orange\",  label = \"annealed\")\n",
    "\n",
    "ax.scatter( PHI_1 * FA_1_arr + PHI_2 * FA_2, polyd_spinodal_arr, color = \"blue\", label = \"exact\")\n",
    "# ax.scatter(FA_1_arr, spin_array_vertex*N_1, color = \"black\", label = \"monodisperse\", zorder = 1)\n",
    "ax.scatter(PHI_1 * FA_1_arr + PHI_2 * FA_2, spin_array_vertex_polyd_anneal*N_1, color = \"orange\", label = \"annealed\", zorder = 1)\n",
    "\n",
    "ax.plot( PHI_1 * FA_1_arr + PHI_2 * FA_2, polyd_spinodal_arr, color = \"blue\")#, label = \"exact\")\n",
    "ax.plot(PHI_1 * FA_1_arr + PHI_2 * FA_2, spin_array_vertex_polyd_anneal*N_1, color = \"orange\")#, label = \"annealed\", zorder = 1)\n",
    "\n",
    "\n",
    "plt.legend()\n",
    "plt.title(\"polydisperse spinodal, N1 = N2 = \" + str(N_1) + \", $\\phi^{(2)} = $\" + str(PHI_2) + \", $f_A^{(2)} = $\" + str(FA_2))\n",
    "ax.set_ylabel(\"$\\chi N$\")\n",
    "ax.set_xlabel(\"$f_A^{\\ eff}$\")\n",
    "\n",
    "# plt.ylim(10, 12.5)\n",
    "# plt.xlim(0.3, 0.5)"
   ]
  },
  {
   "cell_type": "code",
   "execution_count": null,
   "metadata": {
    "scrolled": false
   },
   "outputs": [],
   "source": [
    "#F_A 1\n",
    "matrixG2_spin_polyd_interp = interp1d(FA_1_arr, polyd_spinodal_arr, kind=\"quadratic\") \n",
    "vertex_spin_mono_interp = interp1d(FA_1_arr, spin_array_vertex*N_1, kind=\"quadratic\")\n",
    "# vertex_spin_interp_polyd_anneal = interp1d(FA_1_arr, spin_array_vertex_polyd_anneal*N_1, kind=\"quadratic\")\n",
    "\n",
    "fig = plt.figure()\n",
    "plt.figure(figsize=(10,8))\n",
    "\n",
    "font = {'family' : 'serif',\n",
    "        'weight':'normal',\n",
    "        'size': 18}\n",
    "plt.rc('font', **font)\n",
    "ax = plt.subplot(111)\n",
    "\n",
    "new_x = np.arange(0.300, 0.50, 0.001)\n",
    "\n",
    "ax.plot(new_x, matrixG2_spin_polyd_interp(new_x), color = \"blue\", label = \"exact\", zorder = 0)\n",
    "ax.plot(new_x, vertex_spin_mono_interp(new_x), color = \"black\", linestyle = \"--\", label = \"monodisperse\", alpha = 0.8)\n",
    "# ax.plot(fa_eff, vertex_spin_interp_polyd_anneal(new_x), color = \"orange\",  label = \"annealed\")\n",
    "\n",
    "# ax.scatter(FA_1_arr, polyd_spinodal_arr, color = \"blue\", label = \"exact\")\n",
    "# ax.scatter(FA_1_arr, spin_array_vertex*N_1, color = \"black\", label = \"monodisperse\", zorder = 1)\n",
    "# ax.scatter(PHI_1 * FA_1_arr + PHI_2 * FA_2, spin_array_vertex_polyd_anneal*N_1, color = \"orange\", label = \"annealed\", zorder = 1)\n",
    "\n",
    "plt.legend()\n",
    "plt.title(\"polydisperse spinodal, N1 = N2 = \" + str(N_1) + \", $\\phi^{(2)} = $\" + str(PHI_2) + \", $f_A^{(2)} = $\" + str(FA_2))\n",
    "ax.set_ylabel(\"$\\chi N$\")\n",
    "ax.set_xlabel(\"$f_A^{(1)}$\")\n",
    "\n",
    "# plt.ylim(10, 13)\n",
    "# plt.xlim(0.3, 0.5)"
   ]
  },
  {
   "cell_type": "code",
   "execution_count": null,
   "metadata": {},
   "outputs": [],
   "source": []
  },
  {
   "cell_type": "code",
   "execution_count": 86,
   "metadata": {},
   "outputs": [
    {
     "data": {
      "text/plain": [
       "array([-0.72015325,  9.72015325])"
      ]
     },
     "execution_count": 86,
     "metadata": {},
     "output_type": "execute_result"
    }
   ],
   "source": [
    "M1 = np.array([[3, 4], [5, 6]])\n",
    "M2 = np.array([[1, 2], [3, 4]])\n",
    "matarr = np.array([M1, M2])\n",
    "eigval, eigvec = np.linalg.eigh(matarr)\n",
    "eigval[0]"
   ]
  },
  {
   "cell_type": "code",
   "execution_count": 89,
   "metadata": {},
   "outputs": [
    {
     "data": {
      "text/plain": [
       "array([-0.72015325,  9.72015325, -0.85410197,  5.85410197])"
      ]
     },
     "execution_count": 89,
     "metadata": {},
     "output_type": "execute_result"
    }
   ],
   "source": [
    "eigvalflat = eigval.flatten()\n",
    "eigvalflat"
   ]
  },
  {
   "cell_type": "code",
   "execution_count": 87,
   "metadata": {},
   "outputs": [
    {
     "data": {
      "text/plain": [
       "array([[-0.80229293,  0.59693053],\n",
       "       [ 0.59693053,  0.80229293]])"
      ]
     },
     "execution_count": 87,
     "metadata": {},
     "output_type": "execute_result"
    }
   ],
   "source": [
    "eigvec[0]"
   ]
  },
  {
   "cell_type": "code",
   "execution_count": null,
   "metadata": {},
   "outputs": [],
   "source": []
  },
  {
   "cell_type": "code",
   "execution_count": null,
   "metadata": {},
   "outputs": [],
   "source": []
  },
  {
   "cell_type": "code",
   "execution_count": null,
   "metadata": {},
   "outputs": [],
   "source": []
  },
  {
   "cell_type": "code",
   "execution_count": null,
   "metadata": {},
   "outputs": [],
   "source": []
  },
  {
   "cell_type": "code",
   "execution_count": null,
   "metadata": {},
   "outputs": [],
   "source": [
    "#old cells"
   ]
  },
  {
   "cell_type": "code",
   "execution_count": null,
   "metadata": {},
   "outputs": [],
   "source": [
    "%%time\n",
    "#single component G2 matrix stability analysis. ISSUE: needed to apply incompressibility\n",
    "\n",
    "N_1 = 10.\n",
    "\n",
    "k0 = 1e-2\n",
    "kf = 1e2\n",
    "nk = 50\n",
    "k_vec = np.logspace(np.log10(k0), np.log10(kf), nk)\n",
    "\n",
    "FA_arr = np.arange(0.3, 0.71, 0.1)\n",
    "chi_range = np.arange(8, 13, .01)/N_1\n",
    "\n",
    "spinodal_arr = np.array([]) \n",
    "\n",
    "for FA_1 in FA_arr:\n",
    "    s2_1 = wlc_copoly.s2_wlc_diblock(k_vec, N_1, FA_1, dimensions=3, alpha_max=25)\n",
    "\n",
    "    s2_AA_1 = s2_1[0]\n",
    "    s2_AB_1 = s2_1[1]\n",
    "    s2_BB_1 = s2_1[2]\n",
    "    for chi in chi_range:\n",
    "        chi_spin_bool = False #means spinodal has not been reached\n",
    "        for k_ind in range(len(k_vec)):\n",
    "            det_1 = s2_AA_1[k_ind] * s2_BB_1[k_ind] - s2_AB_1[k_ind]**2 #determinant of s2 matrix\n",
    "            prefactor_1 = 1/(det_1*2)[0] #1/2 from taylor expansion, which remains after performing gaussian integral\n",
    "\n",
    "            s2inv_AA_1 = s2_1[0][k_ind][0]*prefactor_1\n",
    "            s2inv_AB_1 = s2_1[1][k_ind][0]*prefactor_1\n",
    "            s2inv_BB_1 = s2_1[2][k_ind][0]*prefactor_1\n",
    "\n",
    "            G2 = (1/N_1)*np.array([[s2inv_BB_1, -s2inv_AB_1 + 0.5*chi*N_1], [-s2inv_AB_1 + 0.5*chi*N_1, s2inv_AA_1]]) #single poly type\n",
    "            \n",
    "            eigvalues,eigvectors = np.linalg.eigh(G2)\n",
    "            min_eig = np.min(eigvalues)\n",
    "            if min_eig <= 0:\n",
    "                chi_spin_bool = True\n",
    "                break\n",
    "#             if eigvalues[0] < 0 and eigvalues[1] < 0:\n",
    "#                 chi_spin_bool = True\n",
    "#                 break\n",
    "    #         determ = np.linalg.det(G2)\n",
    "    #         if determ <= 0 :\n",
    "\n",
    "    #             chi_spin_bool = True\n",
    "    #             break\n",
    "        if chi_spin_bool == True:\n",
    "            spinodal_arr = np.append(spinodal_arr,  chi*N_1)\n",
    "            break"
   ]
  },
  {
   "cell_type": "code",
   "execution_count": null,
   "metadata": {},
   "outputs": [],
   "source": [
    "%%time\n",
    "#binary mix- incompressibility applied, 4x4 -> 3x3. ASSUMING SAME LENGTH. NON vectorized\n",
    "#TODO- make for a range of F_A\n",
    "N_1 = 10.\n",
    "# FA_1 = 0.7\n",
    "FA_1_arr = np.arange(0.3, 0.71, 0.1)\n",
    "PHI_1 = 0.99999\n",
    "\n",
    "N_2 = N_1\n",
    "FA_2 = 0.7\n",
    "PHI_2 = 0.00001\n",
    "\n",
    "k0 = 1e-2\n",
    "kf = 1e2\n",
    "nk = 50\n",
    "\n",
    "chi_range = np.arange(5.5, 20, 0.001)/N_1\n",
    "\n",
    "k_vec = np.logspace(np.log10(k0), np.log10(kf), nk)\n",
    "\n",
    "polyd_spinodal_arr = np.array([]) \n",
    "\n",
    "for FA_1 in FA_1_arr:\n",
    "    s2_1 = wlc_copoly.s2_wlc_diblock(k_vec, N_1, FA_1, dimensions=3, alpha_max=25)\n",
    "\n",
    "    s2_AA_1 = s2_1[0]\n",
    "    s2_AB_1 = s2_1[1]\n",
    "    s2_BB_1 = s2_1[2]\n",
    "\n",
    "    s2_2 = wlc_copoly.s2_wlc_diblock(k_vec, N_2, FA_2, dimensions=3, alpha_max=25)\n",
    "\n",
    "    s2_AA_2 = s2_2[0]\n",
    "    s2_AB_2 = s2_2[1]\n",
    "    s2_BB_2 = s2_2[2]\n",
    "\n",
    "\n",
    "    for chi in chi_range:\n",
    "    #     print(\"chi: \", chi)\n",
    "        chi_spin_bool = False #means spinodal has not been reached\n",
    "        chiN = chi * N\n",
    "        for k_ind in range(len(k_vec)):\n",
    "            det_1 = s2_AA_1[k_ind] * s2_BB_1[k_ind] - s2_AB_1[k_ind]**2\n",
    "            prefactor_1 = 1/(det_1 * 2 * PHI_1)[0]\n",
    "\n",
    "            det_2 = s2_AA_2[k_ind] * s2_BB_2[k_ind] - s2_AB_2[k_ind]**2\n",
    "            prefactor_2 = 1/(det_2 * 2 * PHI_2)[0]\n",
    "\n",
    "            s2inv_AA_1 = s2_1[0][k_ind][0]*prefactor_1\n",
    "            s2inv_AB_1 = s2_1[1][k_ind][0]*prefactor_1\n",
    "            s2inv_BB_1 = s2_1[2][k_ind][0]*prefactor_1\n",
    "\n",
    "            s2inv_AA_2 = s2_2[0][k_ind][0]*prefactor_2\n",
    "            s2inv_AB_2 = s2_2[1][k_ind][0]*prefactor_2\n",
    "            s2inv_BB_2 = s2_2[2][k_ind][0]*prefactor_2\n",
    "\n",
    "            G2 = [[s2inv_BB_1 - (chi*N_1) + s2inv_AA_2, -s2inv_AB_1 + s2inv_AA_2, -(chi*N_1) + s2inv_AB_2 + s2inv_AA_2], \\\n",
    "                  [-s2inv_AB_1 + s2inv_AA_2, s2inv_AA_1 + s2inv_AA_2, s2inv_AB_2 + s2inv_AA_2], \\\n",
    "                  [-(chi*N_1) + s2inv_AB_2 + s2inv_AA_2, s2inv_AB_2 + s2inv_AA_2, s2inv_BB_2 + 2*s2inv_AB_2 - (chi*N_1) + s2inv_AA_2]]\n",
    "\n",
    "            eigvalues,eigvectors = np.linalg.eigh(G2)\n",
    "            min_eig = np.min(eigvalues)\n",
    "            if min_eig <= 0:\n",
    "                chi_spin_bool = True\n",
    "                break\n",
    "        if chi_spin_bool == True:\n",
    "            polyd_spinodal_arr = np.append(polyd_spinodal_arr, chi*N_1)\n",
    "            break"
   ]
  },
  {
   "cell_type": "code",
   "execution_count": null,
   "metadata": {},
   "outputs": [],
   "source": [
    "%%time\n",
    "#binary mix- Vectorized, ASSUMING SAME LENGTH but can handle different lengths- dont know how to deal with XN y-axis\n",
    "#TODO- make for a range of F_A\n",
    "N_1 = 10.\n",
    "# FA_1 = 0.7\n",
    "FA_1_arr = np.arange(0.3, 0.71, 0.1)\n",
    "PHI_1 = 0.99999\n",
    "\n",
    "N_2 = N_1\n",
    "FA_2 = 0.7\n",
    "PHI_2 = 0.00001\n",
    "\n",
    "k0 = 1e-2\n",
    "kf = 1e2\n",
    "nk = 50\n",
    "\n",
    "# chi_range = np.arange(5.5, 20, 0.001)/N_1\n",
    "\n",
    "chi_range = np.arange(7, 15, 0.01)/N_1\n",
    "\n",
    "k_vec = np.logspace(np.log10(k0), np.log10(kf), nk)\n",
    "\n",
    "polyd_spinodal_arr = np.array([]) \n",
    "\n",
    "for FA_1 in FA_1_arr:\n",
    "    s2_1 = wlc_copoly.s2_wlc_diblock(k_vec, N_1, FA_1, dimensions=3, alpha_max=25)\n",
    "\n",
    "    s2_AA_1 = s2_1[0]\n",
    "    s2_AB_1 = s2_1[1]\n",
    "    s2_BB_1 = s2_1[2]\n",
    "\n",
    "    s2_2 = wlc_copoly.s2_wlc_diblock(k_vec, N_2, FA_2, dimensions=3, alpha_max=25)\n",
    "\n",
    "    s2_AA_2 = s2_2[0]\n",
    "    s2_AB_2 = s2_2[1]\n",
    "    s2_BB_2 = s2_2[2]\n",
    "\n",
    "    for chi in chi_range:\n",
    "    #     print(\"chi: \", chi)\n",
    "        chi_spin_bool = False #means spinodal has not been reached\n",
    "        chiN = chi * N\n",
    "        \n",
    "        det_1_arr = s2_AA_1 * s2_BB_1 - s2_AB_1**2\n",
    "        prefactor_1_arr = 1/(det_1_arr*2*PHI_1)\n",
    "        \n",
    "        det_2_arr = s2_AA_2 * s2_BB_2 - s2_AB_2**2\n",
    "        prefactor_2_arr = 1/(det_2_arr*2*PHI_2)\n",
    "        \n",
    "        s2inv_AA_1_arr = s2_AA_1*prefactor_1_arr/N_1\n",
    "        s2inv_AB_1_arr = s2_AB_1*prefactor_1_arr/N_1\n",
    "        s2inv_BB_1_arr = s2_BB_1*prefactor_1_arr/N_1\n",
    "        \n",
    "        s2inv_AA_2_arr = s2_AA_2*prefactor_2_arr/N_2\n",
    "        s2inv_AB_2_arr = s2_AB_2*prefactor_2_arr/N_2\n",
    "        s2inv_BB_2_arr = s2_BB_2*prefactor_2_arr/N_2\n",
    "        \n",
    "        #matrix indices\n",
    "        \n",
    "        zero_zero = s2inv_BB_1_arr - (chi) + s2inv_AA_2_arr\n",
    "        zero_one = -s2inv_AB_1_arr + s2inv_AA_2_arr\n",
    "        zero_two = -(chi) + s2inv_AB_2_arr + s2inv_AA_2_arr\n",
    "        \n",
    "        one_zero = zero_one\n",
    "        one_one = s2inv_AA_1_arr + s2inv_AA_2_arr\n",
    "        one_two = s2inv_AB_2_arr + s2inv_AA_2_arr\n",
    "        \n",
    "        two_zero = zero_two\n",
    "        two_one = one_two\n",
    "        two_two = s2inv_BB_2_arr + 2*s2inv_AB_2_arr - (chi) + s2inv_AA_2_arr\n",
    "        \n",
    "        G2 = np.array([zero_zero, zero_one, zero_two, one_zero, one_one, one_two, two_zero, two_one, two_two]).T.reshape(len(k_vec), 3, 3)\n",
    "        eigvalues,eigvectors = np.linalg.eigh(G2)\n",
    "        eigvalues = np.concatenate(eigvalues)\n",
    "        min_eig = np.min(eigvalues)\n",
    "        if min_eig <= 0:\n",
    "            chi_spin_bool = True\n",
    "            break\n",
    "    if chi_spin_bool == True:\n",
    "        polyd_spinodal_arr = np.append(polyd_spinodal_arr, chi*N_1)\n",
    "#         for k_ind in range(len(k_vec)):\n",
    "#             det_1 = s2_AA_1[k_ind] * s2_BB_1[k_ind] - s2_AB_1[k_ind]**2\n",
    "#             prefactor_1 = 1/(det_1 * 2 * PHI_1)[0]\n",
    "\n",
    "#             det_2 = s2_AA_2[k_ind] * s2_BB_2[k_ind] - s2_AB_2[k_ind]**2\n",
    "#             prefactor_2 = 1/(det_2 * 2 * PHI_2)[0]\n",
    "\n",
    "#             s2inv_AA_1 = s2_1[0][k_ind][0]*prefactor_1\n",
    "#             s2inv_AB_1 = s2_1[1][k_ind][0]*prefactor_1\n",
    "#             s2inv_BB_1 = s2_1[2][k_ind][0]*prefactor_1\n",
    "\n",
    "#             s2inv_AA_2 = s2_2[0][k_ind][0]*prefactor_2\n",
    "#             s2inv_AB_2 = s2_2[1][k_ind][0]*prefactor_2\n",
    "#             s2inv_BB_2 = s2_2[2][k_ind][0]*prefactor_2\n",
    "\n",
    "#             G2 = [[s2inv_BB_1 - (chi*N_1) + s2inv_AA_2, -s2inv_AB_1 + s2inv_AA_2, -(chi*N_1) + s2inv_AB_2 + s2inv_AA_2], \\\n",
    "#                   [-s2inv_AB_1 + s2inv_AA_2, s2inv_AA_1 + s2inv_AA_2, s2inv_AB_2 + s2inv_AA_2], \\\n",
    "#                   [-(chi*N_1) + s2inv_AB_2 + s2inv_AA_2, s2inv_AB_2 + s2inv_AA_2, s2inv_BB_2 + 2*s2inv_AB_2 - (chi*N_1) + s2inv_AA_2]]\n",
    "\n",
    "#             eigvalues,eigvectors = np.linalg.eigh(G2)\n",
    "#             min_eig = np.min(eigvalues)\n",
    "#             if min_eig <= 0:\n",
    "#                 chi_spin_bool = True\n",
    "#                 break\n",
    "#         if chi_spin_bool == True:\n",
    "#             polyd_spinodal_arr = np.append(polyd_spinodal_arr, chi*N_1)\n",
    "#             break\n",
    "#NON VECT- 2min 52 sec\n",
    "# VECT - 1min 15 sec\n",
    "\n",
    "polyd_spinodal_arr"
   ]
  }
 ],
 "metadata": {
  "kernelspec": {
   "display_name": "Python 3",
   "language": "python",
   "name": "python3"
  },
  "language_info": {
   "codemirror_mode": {
    "name": "ipython",
    "version": 3
   },
   "file_extension": ".py",
   "mimetype": "text/x-python",
   "name": "python",
   "nbconvert_exporter": "python",
   "pygments_lexer": "ipython3",
   "version": "3.8.5"
  }
 },
 "nbformat": 4,
 "nbformat_minor": 4
}
