{
 "cells": [
  {
   "cell_type": "markdown",
   "metadata": {},
   "source": [
    "Generate images"
   ]
  },
  {
   "cell_type": "code",
   "execution_count": 49,
   "metadata": {},
   "outputs": [],
   "source": [
    "import numpy as np\n",
    "import sys\n",
    "sys.path.append('../')\n",
    "import matplotlib.pyplot as plt\n",
    "import image_box as image\n",
    "import importlib"
   ]
  },
  {
   "cell_type": "code",
   "execution_count": 50,
   "metadata": {},
   "outputs": [
    {
     "data": {
      "text/plain": [
       "<module 'image_box' from 'C:\\\\Users\\\\Thomas\\\\wlcsim_membrane\\\\visualization\\\\image_box.py'>"
      ]
     },
     "execution_count": 50,
     "metadata": {},
     "output_type": "execute_result"
    }
   ],
   "source": [
    "importlib.reload(image)"
   ]
  },
  {
   "cell_type": "code",
   "execution_count": 51,
   "metadata": {},
   "outputs": [],
   "source": [
    "#file = open(\"data/configurations/art_demeth_seghalf_\" + str(width) + \"/gen\" + str(gen) + \"/r85v0\", \"r\")\n",
    "\n",
    "#edited, chi = 1\n",
    "file = open(\"C:\\\\users/Thomas/wlcsim_membrane/data/AB_solution/edited/5.15.2021_ABsolution_EDITED_rigid_kappa=20_1000poly_24hrs/all_rs/r14v62\")\n",
    "\n",
    "# #edited, chi = 0\n",
    "# file = open(\"C:\\\\users/Thomas/wlcsim_membrane/data/AB_solution/edited/5.15.2021_ABsolution_EDITED_rigid_kappa=20_1000poly_24hrs/all_rs/r14v1\")\n",
    "\n",
    "# #unedited, chi = 1\n",
    "# file = open(\"C:\\\\users/Thomas/wlcsim_membrane/data/AB_solution/unedited/5.12.2021_ABsolution_ORIGINAL_rigid_kappa=20_1000poly_24hrs/all_rs/r15v62\")\n",
    "\n",
    "#unedited, chi = 0\n",
    "#file = open(\"C:\\\\users/Thomas/wlcsim_membrane/data/AB_solution/unedited/5.12.2021_ABsolution_ORIGINAL_rigid_kappa=20_1000poly_24hrs/all_rs/r15v1\")\n"
   ]
  },
  {
   "cell_type": "code",
   "execution_count": 52,
   "metadata": {},
   "outputs": [],
   "source": [
    "width = 60\n",
    "gen = 4\n",
    "l_box = 20 \n",
    "if width == 60:\n",
    "    ind0 = 37631\n",
    "    indf = 37752\n",
    "elif width == 75:\n",
    "    ind0 = 37616\n",
    "    indf = 37767\n",
    "elif width == 90:\n",
    "    ind0 = 37601\n",
    "    indf = 37782\n",
    "\n",
    "r_poly_raw = file.readlines()\n",
    "n_pt = len(r_poly_raw)\n",
    "r_poly = np.zeros((n_pt,3))\n",
    "meth_seq = np.zeros(n_pt)\n",
    "hp1_seq = np.zeros(n_pt)\n",
    "for i in range(n_pt):\n",
    "    line = r_poly_raw[i].split()\n",
    "    r_poly[i, 0] = float(line[0])# - np.floor(float(line[0])/l_box) * l_box\n",
    "    r_poly[i, 1] = float(line[1])#- np.floor(float(line[1])/l_box) * l_box\n",
    "    r_poly[i, 2] = float(line[2])#- np.floor(float(line[2])/l_box) * l_box\n",
    "    #hp1_seq[i] = float(line[3])\n",
    "    meth_seq[i] = float(line[3])  \n"
   ]
  },
  {
   "cell_type": "code",
   "execution_count": 53,
   "metadata": {},
   "outputs": [],
   "source": [
    "#create box adjust array to prevent connections across periodic boundary\n",
    "box_adjust_left = np.ones(n_pt)\n",
    "box_adjust_right = np.ones(n_pt)\n",
    "\n",
    "x_adjust = np.floor(r_poly[:,0]/l_box)\n",
    "y_adjust = np.floor(r_poly[:,1]/l_box)\n",
    "z_adjust = np.floor(r_poly[:,2]/l_box)\n",
    "\n",
    "for i in range(n_pt):\n",
    "    if i == 0:\n",
    "        if (x_adjust[i+1] != x_adjust[i]) or (y_adjust[i+1] != y_adjust[i]) or (z_adjust[i+1] != z_adjust[i]):\n",
    "            box_adjust_right[i] = 0\n",
    "    elif i == (n_pt - 1):\n",
    "        if (x_adjust[i-1] != x_adjust[i]) or (y_adjust[i-1] != y_adjust[i]) or (z_adjust[i-1] != z_adjust[i]):\n",
    "            box_adjust_left[i] = 0\n",
    "    else:\n",
    "        if (x_adjust[i+1] != x_adjust[i]) or (y_adjust[i+1] != y_adjust[i]) or (z_adjust[i+1] != z_adjust[i]):\n",
    "            box_adjust_right[i] = 0\n",
    "        if (x_adjust[i-1] != x_adjust[i]) or (y_adjust[i-1] != y_adjust[i]) or (z_adjust[i-1] != z_adjust[i]):\n",
    "            box_adjust_left[i] = 0"
   ]
  },
  {
   "cell_type": "code",
   "execution_count": 54,
   "metadata": {
    "scrolled": true
   },
   "outputs": [
    {
     "name": "stdout",
     "output_type": "stream",
     "text": [
      "[1. 1. 1. 0. 1. 0.]\n",
      "[1. 1. 0. 1. 0. 1.]\n"
     ]
    }
   ],
   "source": [
    "# example of box adjust\n",
    "ls = [0, 0, 0, 1, 1, 0] # example x_adjust array\n",
    "adjust_l = np.ones(6)\n",
    "adjust_r = np.ones(6)\n",
    "for i in range(len(ls)):\n",
    "    if i == 0:\n",
    "        if ls[i+1] != ls[i]:\n",
    "            adjust_r[i] = 0\n",
    "    elif i == (len(ls) - 1):\n",
    "        if ls[i-1] != ls[i]:\n",
    "            adjust_l[i] = 0\n",
    "    else:\n",
    "        if ls[i+1] != ls[i]:\n",
    "            adjust_r[i] = 0\n",
    "        if ls[i-1] != ls[i]:\n",
    "            adjust_l[i] = 0\n",
    "\n",
    "print(adjust_l)\n",
    "print(adjust_r)"
   ]
  },
  {
   "cell_type": "code",
   "execution_count": 55,
   "metadata": {},
   "outputs": [],
   "source": [
    "r_poly_box = np.zeros((n_pt,3))    \n",
    "r_poly_box[:,0] = r_poly[:,0] - np.floor(r_poly[:,0]/l_box) * l_box\n",
    "r_poly_box[:,1] = r_poly[:,1] - np.floor(r_poly[:,1]/l_box) * l_box\n",
    "r_poly_box[:,2] = r_poly[:,2] - np.floor(r_poly[:,2]/l_box) * l_box\n",
    "\n",
    "r_poly_art = r_poly_box[ind0:indf, :]\n",
    "hp1_seq_art = hp1_seq[ind0:indf]\n",
    "meth_seq_art = meth_seq[ind0:indf]"
   ]
  },
  {
   "cell_type": "code",
   "execution_count": 56,
   "metadata": {},
   "outputs": [],
   "source": [
    "r_poly = r_poly_box"
   ]
  },
  {
   "cell_type": "markdown",
   "metadata": {},
   "source": [
    "Rotate the frame to the com of the artificial region"
   ]
  },
  {
   "cell_type": "code",
   "execution_count": 57,
   "metadata": {},
   "outputs": [],
   "source": [
    "# r_com = np.mean(r_poly, axis= 0)\n",
    "# r_poly = r_poly - r_com\n",
    "# r_poly_art = r_poly_art - r_com\n",
    "\n",
    "# r_com_art = np.mean(r_poly_art, axis= 0)\n",
    "# t_3 = r_com_art / np.sqrt(np.sum(r_com_art ** 2))\n",
    "# t_1 = np.array([1, 0, 0])\n",
    "# t_1 = t_1 - np.dot(t_1, t_3) * t_3\n",
    "# t_1 = t_1 / np.sqrt(np.sum(t_1 ** 2))\n",
    "# t_2 = np.cross(t_3, t_1)\n",
    "\n",
    "# r_poly_rot = np.zeros((n_pt, 3))\n",
    "# r_poly_art_rot = np.zeros((len(r_poly_art[:,0]), 3))\n",
    "\n",
    "# for i_b in range(n_pt):\n",
    "#     r_poly_rot[i_b, 0] = np.dot(r_poly[i_b, :], t_1)\n",
    "#     r_poly_rot[i_b, 1] = np.dot(r_poly[i_b, :], t_2)\n",
    "#     r_poly_rot[i_b, 2] = np.dot(r_poly[i_b, :], t_3)\n",
    "\n",
    "# for i_b in range(len(r_poly_art[:,0])):\n",
    "#     r_poly_art_rot[i_b, 0] = np.dot(r_poly_art[i_b, :], t_1)\n",
    "#     r_poly_art_rot[i_b, 1] = np.dot(r_poly_art[i_b, :], t_2)\n",
    "#     r_poly_art_rot[i_b, 2] = np.dot(r_poly_art[i_b, :], t_3)\n",
    "\n",
    "# r_poly = r_poly_rot\n",
    "# r_poly_art = r_poly_art_rot"
   ]
  },
  {
   "cell_type": "code",
   "execution_count": 58,
   "metadata": {},
   "outputs": [
    {
     "data": {
      "text/plain": [
       "40000"
      ]
     },
     "execution_count": 58,
     "metadata": {},
     "output_type": "execute_result"
    }
   ],
   "source": [
    "len(r_poly[:,0])"
   ]
  },
  {
   "cell_type": "markdown",
   "metadata": {},
   "source": [
    "Create the conformation of the confining circle"
   ]
  },
  {
   "cell_type": "code",
   "execution_count": 59,
   "metadata": {},
   "outputs": [],
   "source": [
    "# n_circle = 200\n",
    "# r_circle = np.zeros((n_circle,3))\n",
    "# r_com = np.mean(r_poly, axis= 0)\n",
    "# r_com[1] = r_com[1] + 0.85\n",
    "# r_com[2] = r_com[2] - 0.75\n",
    "# r_com_0 = r_com\n",
    "# r_com[1] = (np.min(r_poly[:,1]) + np.max(r_poly[:,1])) / 2\n",
    "# r_com[2] = (np.min(r_poly[:,2]) + np.max(r_poly[:,2])) / 2\n",
    "# radius = 31 #np.max(np.sqrt(np.sum((r_poly - r_com) ** 2, axis = 1)))\n",
    "# for i in range(n_circle):\n",
    "#     r_circle[i, 0] = r_com[0]\n",
    "#     r_circle[i, 1] = r_com[1] + radius * np.cos(2 * np.pi * i / n_circle)\n",
    "#     r_circle[i, 2] = r_com[2] + radius * np.sin(2 * np.pi * i / n_circle)    "
   ]
  },
  {
   "cell_type": "code",
   "execution_count": 60,
   "metadata": {},
   "outputs": [],
   "source": [
    "file = 'r_poly_w' + str(width) + 'g' + str(gen) + '.pdb'\n",
    "image.gen_pymol_file(r_poly, meth_seq, hp1_seq, limit_n = True, n_max = int(n_pt / 2), add_com = False, filename = file,\n",
    "                     box_adjust_l = box_adjust_left, box_adjust_r = box_adjust_right)\n",
    "file = 'r_poly_art_w' + str(width) + 'g' + str(gen) + '.pdb'\n",
    "#image.gen_pymol_file(r_poly_art, meth_seq_art, hp1_seq_art, limit_n = False, filename=file)\n",
    "file = 'r_circle_w' + str(width) + 'g' + str(gen) + '.pdb'\n",
    "#image.gen_pymol_file(r_circle, limit_n = False, filename=file, ring = True)"
   ]
  },
  {
   "cell_type": "code",
   "execution_count": null,
   "metadata": {},
   "outputs": [],
   "source": []
  }
 ],
 "metadata": {
  "kernelspec": {
   "display_name": "Python 3",
   "language": "python",
   "name": "python3"
  },
  "language_info": {
   "codemirror_mode": {
    "name": "ipython",
    "version": 3
   },
   "file_extension": ".py",
   "mimetype": "text/x-python",
   "name": "python",
   "nbconvert_exporter": "python",
   "pygments_lexer": "ipython3",
   "version": "3.8.5"
  }
 },
 "nbformat": 4,
 "nbformat_minor": 4
}
