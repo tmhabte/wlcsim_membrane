{
 "cells": [
  {
   "cell_type": "code",
   "execution_count": 30,
   "metadata": {},
   "outputs": [],
   "source": [
    "import numpy as np\n",
    "import matplotlib.pyplot as plt\n",
    "import random"
   ]
  },
  {
   "cell_type": "code",
   "execution_count": 31,
   "metadata": {},
   "outputs": [
    {
     "data": {
      "text/plain": [
       "0.8708776493948649"
      ]
     },
     "execution_count": 31,
     "metadata": {},
     "output_type": "execute_result"
    }
   ],
   "source": [
    "random.uniform(0, 1)"
   ]
  },
  {
   "cell_type": "code",
   "execution_count": 82,
   "metadata": {},
   "outputs": [
    {
     "name": "stdout",
     "output_type": "stream",
     "text": [
      "Wall time: 12 s\n"
     ]
    }
   ],
   "source": [
    "%%time\n",
    "n_p = 2000\n",
    "n_b = 40\n",
    "l_0 = 1\n",
    "l_p = 1\n",
    "kappa = l_p/l_0\n",
    "\n",
    "output = np.zeros([n_p*n_b, 3])\n",
    "\n",
    "for poly in range(n_p):\n",
    "    #first bead\n",
    "    r1 = np.array([0, 0, 0])\n",
    "    output[poly*n_b] = r1\n",
    "    phi = 2*np.pi*random.uniform(0, 1)\n",
    "    theta = np.arccos(random.uniform(-1, 1))\n",
    "    u_2 = np.array([np.sin(theta)*np.cos(phi), np.sin(theta)*np.sin(phi), np.cos(theta)])\n",
    "    r2 = u_2 * l_0\n",
    "    output[poly*n_b + 1] = r2\n",
    "    \n",
    "    prev_r = r2\n",
    "    for bead in range(n_b-2):\n",
    "        r = random.uniform(0, 1)\n",
    "        rho = (1/kappa)*np.log(np.exp(-kappa)+r*(np.exp(kappa)-np.exp(-kappa)))\n",
    "        theta = np.arccos(rho)\n",
    "        phi = 2*np.pi*random.uniform(0, 1)\n",
    "        \n",
    "        #define z' as previous r\n",
    "        z_prime = output[poly*n_b + bead + 1]\n",
    "        z_prime = z_prime / np.linalg.norm(z_prime)\n",
    "        \n",
    "        #define x' and y' using rotation matrix wrt phi about z axis (random phi angle)\n",
    "        \n",
    "        #rot_mat = np.array([[np.cos(phi), -np.sin(phi), 0], [np.sin(phi), np.cos(phi), 0], [0, 0, 1]])\n",
    "        x_prime = np.random.randn(3)  # take a random vector (phi = random angle)\n",
    "        x_prime -= x_prime.dot(z_prime) * z_prime      # make it orthogonal to z_prime\n",
    "        x_prime /= np.linalg.norm(x_prime)\n",
    "        \n",
    "        y_prime = np.cross(z_prime, x_prime)\n",
    "        \n",
    "        #calculate new r_prime in x'y'z' axes\n",
    "        \n",
    "        r_prime = np.array([l_0 * np.sin(theta), 0, l_0 * np.cos(theta)])\n",
    "        \n",
    "        #covert r_prime from x'y'z' to xyz\n",
    "        \n",
    "        axes_1 = np.array([[1, 0, 0], [0, 1, 0], [0, 0, 1]])\n",
    "        origin_1 = np.array([0, 0, 0])\n",
    "        \n",
    "        axes_2 = np.array([x_prime, y_prime, z_prime])\n",
    "        origin_2 = output[poly*n_b + bead + 1]\n",
    "        \n",
    "        r_bead = np.dot(np.transpose(axes_1), (origin_2 - origin_1 + np.dot(axes_2, r_prime)))\n",
    "        \n",
    "        \n",
    "        #u_bead = np.array([np.sin(theta)*np.cos(phi), np.sin(theta)*np.sin(phi), np.cos(theta)])\n",
    "        #r_bead = u_bead * l_0\n",
    "        \n",
    "        output[poly*n_b + bead + 2] = output[poly*n_b + bead + 1] + r_bead #how to find next x y z coordinates\n",
    "        \n",
    "    #do all other beads- vectorize!"
   ]
  },
  {
   "cell_type": "code",
   "execution_count": 88,
   "metadata": {
    "scrolled": true
   },
   "outputs": [
    {
     "data": {
      "text/plain": [
       "array([[ 0.        ,  0.        ,  0.        ],\n",
       "       [ 0.78257464,  0.09422281, -0.61538524],\n",
       "       [ 1.99113823, -0.31663392, -0.48015203]])"
      ]
     },
     "execution_count": 88,
     "metadata": {},
     "output_type": "execute_result"
    }
   ],
   "source": [
    "output[0:3,:]"
   ]
  },
  {
   "cell_type": "code",
   "execution_count": 89,
   "metadata": {},
   "outputs": [],
   "source": [
    "import sys\n",
    "sys.path.insert(1, '../wlcstat/')"
   ]
  },
  {
   "cell_type": "code",
   "execution_count": 90,
   "metadata": {},
   "outputs": [],
   "source": [
    "import numpy as np\n",
    "import scipy.special as sp\n",
    "import matplotlib.pyplot as plt\n",
    "import wlcstat.wlcave as wlcave\n",
    "import wlcstat.wlcgreen as wlcgreen\n",
    "import wlcstat.wlcstruc as wlcstruc\n",
    "import wlcstat.poly_dyn as poly_dyn\n",
    "import wlcstat.wlc_lcpoly as wlc_lcpoly\n",
    "import wlcstat.poly_confine as poly_confine\n",
    "import wlcstat.active_brown as active_brown\n",
    "import wlcstat.util.wlc_vertex as vertex\n",
    "import importlib"
   ]
  },
  {
   "cell_type": "code",
   "execution_count": 91,
   "metadata": {},
   "outputs": [
    {
     "data": {
      "text/plain": [
       "<module 'wlcstat.active_brown' from 'C:\\\\Users\\\\Thomas\\\\wlcsim_membrane\\\\wlcstat\\\\active_brown.py'>"
      ]
     },
     "execution_count": 91,
     "metadata": {},
     "output_type": "execute_result"
    }
   ],
   "source": [
    "import importlib\n",
    "importlib.reload(wlcave)\n",
    "importlib.reload(wlcgreen)\n",
    "importlib.reload(wlcstruc)\n",
    "importlib.reload(poly_dyn)\n",
    "importlib.reload(poly_confine)\n",
    "importlib.reload(wlc_lcpoly)\n",
    "importlib.reload(active_brown)"
   ]
  },
  {
   "cell_type": "code",
   "execution_count": 92,
   "metadata": {},
   "outputs": [
    {
     "ename": "OSError",
     "evalue": "sim_data/u9000 not found.",
     "output_type": "error",
     "traceback": [
      "\u001b[1;31m---------------------------------------------------------------------------\u001b[0m",
      "\u001b[1;31mOSError\u001b[0m                                   Traceback (most recent call last)",
      "\u001b[1;32m<ipython-input-92-19fff571de13>\u001b[0m in \u001b[0;36m<module>\u001b[1;34m\u001b[0m\n\u001b[0;32m     14\u001b[0m \u001b[1;33m\u001b[0m\u001b[0m\n\u001b[0;32m     15\u001b[0m \u001b[1;32mfor\u001b[0m \u001b[0mi_snap\u001b[0m \u001b[1;32min\u001b[0m \u001b[0mrange\u001b[0m\u001b[1;33m(\u001b[0m\u001b[0mi_snap_0\u001b[0m\u001b[1;33m,\u001b[0m \u001b[0mi_snap_f\u001b[0m \u001b[1;33m+\u001b[0m \u001b[1;36m1\u001b[0m\u001b[1;33m)\u001b[0m\u001b[1;33m:\u001b[0m\u001b[1;33m\u001b[0m\u001b[1;33m\u001b[0m\u001b[0m\n\u001b[1;32m---> 16\u001b[1;33m     \u001b[0mu_snap\u001b[0m \u001b[1;33m=\u001b[0m \u001b[0mnp\u001b[0m\u001b[1;33m.\u001b[0m\u001b[0mloadtxt\u001b[0m\u001b[1;33m(\u001b[0m\u001b[1;34m'sim_data/u'\u001b[0m \u001b[1;33m+\u001b[0m \u001b[0mstr\u001b[0m\u001b[1;33m(\u001b[0m\u001b[0mi_snap\u001b[0m\u001b[1;33m)\u001b[0m\u001b[1;33m)\u001b[0m\u001b[1;33m\u001b[0m\u001b[1;33m\u001b[0m\u001b[0m\n\u001b[0m\u001b[0;32m     17\u001b[0m     \u001b[0mr_snap\u001b[0m \u001b[1;33m=\u001b[0m \u001b[0mnp\u001b[0m\u001b[1;33m.\u001b[0m\u001b[0mloadtxt\u001b[0m\u001b[1;33m(\u001b[0m\u001b[1;34m'sim_data/r'\u001b[0m \u001b[1;33m+\u001b[0m \u001b[0mstr\u001b[0m\u001b[1;33m(\u001b[0m\u001b[0mi_snap\u001b[0m\u001b[1;33m)\u001b[0m\u001b[1;33m)\u001b[0m\u001b[1;33m\u001b[0m\u001b[1;33m\u001b[0m\u001b[0m\n\u001b[0;32m     18\u001b[0m     \u001b[1;32mfor\u001b[0m \u001b[0mi_p\u001b[0m \u001b[1;32min\u001b[0m \u001b[0mrange\u001b[0m\u001b[1;33m(\u001b[0m\u001b[0mn_p\u001b[0m\u001b[1;33m)\u001b[0m\u001b[1;33m:\u001b[0m\u001b[1;33m\u001b[0m\u001b[1;33m\u001b[0m\u001b[0m\n",
      "\u001b[1;32m~\\anaconda3\\lib\\site-packages\\numpy\\lib\\npyio.py\u001b[0m in \u001b[0;36mloadtxt\u001b[1;34m(fname, dtype, comments, delimiter, converters, skiprows, usecols, unpack, ndmin, encoding, max_rows)\u001b[0m\n\u001b[0;32m    959\u001b[0m             \u001b[0mfname\u001b[0m \u001b[1;33m=\u001b[0m \u001b[0mos_fspath\u001b[0m\u001b[1;33m(\u001b[0m\u001b[0mfname\u001b[0m\u001b[1;33m)\u001b[0m\u001b[1;33m\u001b[0m\u001b[1;33m\u001b[0m\u001b[0m\n\u001b[0;32m    960\u001b[0m         \u001b[1;32mif\u001b[0m \u001b[0m_is_string_like\u001b[0m\u001b[1;33m(\u001b[0m\u001b[0mfname\u001b[0m\u001b[1;33m)\u001b[0m\u001b[1;33m:\u001b[0m\u001b[1;33m\u001b[0m\u001b[1;33m\u001b[0m\u001b[0m\n\u001b[1;32m--> 961\u001b[1;33m             \u001b[0mfh\u001b[0m \u001b[1;33m=\u001b[0m \u001b[0mnp\u001b[0m\u001b[1;33m.\u001b[0m\u001b[0mlib\u001b[0m\u001b[1;33m.\u001b[0m\u001b[0m_datasource\u001b[0m\u001b[1;33m.\u001b[0m\u001b[0mopen\u001b[0m\u001b[1;33m(\u001b[0m\u001b[0mfname\u001b[0m\u001b[1;33m,\u001b[0m \u001b[1;34m'rt'\u001b[0m\u001b[1;33m,\u001b[0m \u001b[0mencoding\u001b[0m\u001b[1;33m=\u001b[0m\u001b[0mencoding\u001b[0m\u001b[1;33m)\u001b[0m\u001b[1;33m\u001b[0m\u001b[1;33m\u001b[0m\u001b[0m\n\u001b[0m\u001b[0;32m    962\u001b[0m             \u001b[0mfencoding\u001b[0m \u001b[1;33m=\u001b[0m \u001b[0mgetattr\u001b[0m\u001b[1;33m(\u001b[0m\u001b[0mfh\u001b[0m\u001b[1;33m,\u001b[0m \u001b[1;34m'encoding'\u001b[0m\u001b[1;33m,\u001b[0m \u001b[1;34m'latin1'\u001b[0m\u001b[1;33m)\u001b[0m\u001b[1;33m\u001b[0m\u001b[1;33m\u001b[0m\u001b[0m\n\u001b[0;32m    963\u001b[0m             \u001b[0mfh\u001b[0m \u001b[1;33m=\u001b[0m \u001b[0miter\u001b[0m\u001b[1;33m(\u001b[0m\u001b[0mfh\u001b[0m\u001b[1;33m)\u001b[0m\u001b[1;33m\u001b[0m\u001b[1;33m\u001b[0m\u001b[0m\n",
      "\u001b[1;32m~\\anaconda3\\lib\\site-packages\\numpy\\lib\\_datasource.py\u001b[0m in \u001b[0;36mopen\u001b[1;34m(path, mode, destpath, encoding, newline)\u001b[0m\n\u001b[0;32m    193\u001b[0m \u001b[1;33m\u001b[0m\u001b[0m\n\u001b[0;32m    194\u001b[0m     \u001b[0mds\u001b[0m \u001b[1;33m=\u001b[0m \u001b[0mDataSource\u001b[0m\u001b[1;33m(\u001b[0m\u001b[0mdestpath\u001b[0m\u001b[1;33m)\u001b[0m\u001b[1;33m\u001b[0m\u001b[1;33m\u001b[0m\u001b[0m\n\u001b[1;32m--> 195\u001b[1;33m     \u001b[1;32mreturn\u001b[0m \u001b[0mds\u001b[0m\u001b[1;33m.\u001b[0m\u001b[0mopen\u001b[0m\u001b[1;33m(\u001b[0m\u001b[0mpath\u001b[0m\u001b[1;33m,\u001b[0m \u001b[0mmode\u001b[0m\u001b[1;33m,\u001b[0m \u001b[0mencoding\u001b[0m\u001b[1;33m=\u001b[0m\u001b[0mencoding\u001b[0m\u001b[1;33m,\u001b[0m \u001b[0mnewline\u001b[0m\u001b[1;33m=\u001b[0m\u001b[0mnewline\u001b[0m\u001b[1;33m)\u001b[0m\u001b[1;33m\u001b[0m\u001b[1;33m\u001b[0m\u001b[0m\n\u001b[0m\u001b[0;32m    196\u001b[0m \u001b[1;33m\u001b[0m\u001b[0m\n\u001b[0;32m    197\u001b[0m \u001b[1;33m\u001b[0m\u001b[0m\n",
      "\u001b[1;32m~\\anaconda3\\lib\\site-packages\\numpy\\lib\\_datasource.py\u001b[0m in \u001b[0;36mopen\u001b[1;34m(self, path, mode, encoding, newline)\u001b[0m\n\u001b[0;32m    533\u001b[0m                                       encoding=encoding, newline=newline)\n\u001b[0;32m    534\u001b[0m         \u001b[1;32melse\u001b[0m\u001b[1;33m:\u001b[0m\u001b[1;33m\u001b[0m\u001b[1;33m\u001b[0m\u001b[0m\n\u001b[1;32m--> 535\u001b[1;33m             \u001b[1;32mraise\u001b[0m \u001b[0mIOError\u001b[0m\u001b[1;33m(\u001b[0m\u001b[1;34m\"%s not found.\"\u001b[0m \u001b[1;33m%\u001b[0m \u001b[0mpath\u001b[0m\u001b[1;33m)\u001b[0m\u001b[1;33m\u001b[0m\u001b[1;33m\u001b[0m\u001b[0m\n\u001b[0m\u001b[0;32m    536\u001b[0m \u001b[1;33m\u001b[0m\u001b[0m\n\u001b[0;32m    537\u001b[0m \u001b[1;33m\u001b[0m\u001b[0m\n",
      "\u001b[1;31mOSError\u001b[0m: sim_data/u9000 not found."
     ]
    }
   ],
   "source": [
    "n_p = 15\n",
    "n_b = 200\n",
    "n_b_calc = 200 \n",
    "length_kuhn = 10\n",
    "i_snap_0 = 9000\n",
    "i_snap_f = 10000\n",
    "\n",
    "k0 = 1e-2\n",
    "kf = 1e2\n",
    "nk = 50\n",
    "k_vec = np.logspace(np.log10(k0), np.log10(kf), nk)\n",
    "\n",
    "s2_sim = np.zeros(nk)\n",
    "\n",
    "for i_snap in range(i_snap_0, i_snap_f + 1):\n",
    "    u_snap = np.loadtxt('sim_data/u' + str(i_snap))\n",
    "    r_snap = np.loadtxt('sim_data/r' + str(i_snap))\n",
    "    for i_p in range(n_p):\n",
    "        i_0 = n_b * i_p\n",
    "        i_f = i_0 + n_b_calc\n",
    "        u_i = u_snap[i_0:i_f, :]\n",
    "        r_i = r_snap[i_0:i_f, :]\n",
    "        \n",
    "        #why can you separate by x, y, z?\n",
    "        s_mat = np.exp(1j * np.outer(k_vec, r_i[:,0]) / 2)        \n",
    "        s2_sim += np.abs(np.sum(s_mat, axis = 1)) ** 2 / (n_b_calc ** 2 * (i_snap_f - i_snap_0 + 1) * n_p * 3)\n",
    "        s_mat = np.exp(1j * np.outer(k_vec, r_i[:,1]) / 2)        \n",
    "        s2_sim += np.abs(np.sum(s_mat, axis = 1)) ** 2 / (n_b_calc ** 2 * (i_snap_f - i_snap_0 + 1) * n_p * 3)\n",
    "        s_mat = np.exp(1j * np.outer(k_vec, r_i[:,2]) / 2)        \n",
    "        s2_sim += np.abs(np.sum(s_mat, axis = 1)) ** 2 / (n_b_calc ** 2 * (i_snap_f - i_snap_0 + 1) * n_p * 3)"
   ]
  },
  {
   "cell_type": "code",
   "execution_count": null,
   "metadata": {},
   "outputs": [],
   "source": [
    "plt.figure(figsize=(10,8))\n",
    "font = {'family' : 'serif',\n",
    "        'weight':'normal',\n",
    "        'size': 18}\n",
    "plt.rc('font', **font)\n",
    "    \n",
    "plt.plot(k_vec, 1-s2_sim,'o')\n",
    "#plt.plot(k_vec, 1-s2_th,'-')    \n",
    "#plt.plot(k_vec, 1-s2_asymp,'--')    \n",
    "\n",
    "plt.xscale('log')\n",
    "plt.yscale('log')\n",
    "\n",
    "plt.xlabel(r'$K$')\n",
    "plt.ylabel(r'Structure Factor $S_{2}(K;N)$')\n",
    "plt.xlim((1e-2, 1e2))\n",
    "plt.tight_layout()\n",
    "plt.show()"
   ]
  },
  {
   "cell_type": "code",
   "execution_count": null,
   "metadata": {},
   "outputs": [],
   "source": []
  }
 ],
 "metadata": {
  "kernelspec": {
   "display_name": "Python 3",
   "language": "python",
   "name": "python3"
  },
  "language_info": {
   "codemirror_mode": {
    "name": "ipython",
    "version": 3
   },
   "file_extension": ".py",
   "mimetype": "text/x-python",
   "name": "python",
   "nbconvert_exporter": "python",
   "pygments_lexer": "ipython3",
   "version": "3.8.5"
  }
 },
 "nbformat": 4,
 "nbformat_minor": 4
}
