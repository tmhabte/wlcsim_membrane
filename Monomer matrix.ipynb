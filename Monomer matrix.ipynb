{
 "cells": [
  {
   "cell_type": "code",
   "execution_count": 468,
   "metadata": {},
   "outputs": [],
   "source": [
    "import numpy as np\n",
    "import wlcstat.wlc_copoly as wlc_copoly\n",
    "import wlcstat.wlcstruc as wlcstruc\n",
    "\n",
    "import sys\n",
    "sys.path.append(\"./vertex_subroutines\")\n",
    "from GAMcalc import *  # Code for calculating vertex functions\n",
    "import propagator  # propagator object used to store pre-calculated values\n",
    "import wignerD as wd # wigner D object used to store pre-calculated values\n",
    "\n",
    "import matplotlib.pyplot as plt\n",
    "from matplotlib.collections import LineCollection\n",
    "from matplotlib.colors import ListedColormap, BoundaryNorm\n",
    "\n",
    "pset=propagator.prop_set(nlam=10) "
   ]
  },
  {
   "cell_type": "code",
   "execution_count": 469,
   "metadata": {},
   "outputs": [],
   "source": [
    "def calc_monomer_matrix(poly_mat):\n",
    "    # calculates the AA monomer identity cross correlation matrix\n",
    "    # assumes all polymers same length/ # of monomers, equal volume fraction of each\n",
    "    \n",
    "    if len(np.shape(poly_mat)) == 1: #single poly\n",
    "        n_p = 1\n",
    "        M = len(poly)\n",
    "        alph1 =np.zeros(M)\n",
    "        alph2 =np.zeros(M)\n",
    "        sig1 = 1*(poly == alph1)\n",
    "        sig2 = 1*(poly == alph2)\n",
    "        M2_AA = np.outer(sig1, sig2)\n",
    "        return M2_AA\n",
    "    \n",
    "    n_p = poly_mat.shape[0]\n",
    "    M = poly_mat.shape[1]\n",
    "    alph1 =np.zeros((n_p, M))\n",
    "    alph2 =np.zeros((n_p, M))\n",
    "\n",
    "    sigma1 = 1*((poly_mat == alph1))#.sum(axis = 0) #sigma. could multiply each\n",
    "    sigma2 = 1*((poly_mat == alph2))#.sum(axis = 0)\n",
    "\n",
    "    #need to do each row outer product with corresponding row, get n_p MxM matrices, then sum the results\n",
    "    prods = np.einsum('bi,bo->bio', sigma1, sigma2) # performing row wise cross product (each poly contribution)\n",
    "    M2_AA = np.sum(prods, axis = 0) / n_p # averaging each contribution\n",
    "    return M2_AA"
   ]
  },
  {
   "cell_type": "code",
   "execution_count": 470,
   "metadata": {},
   "outputs": [],
   "source": [
    "def calc_sf2(poly_mat, N_m=1, b=1, k_vec = np.logspace(-2, 2, 50)):\n",
    "    #calculates all variations of the S(2) AA AB BB for a range of k\n",
    "    M2_AA = calc_monomer_matrix(poly_mat)\n",
    "    M = np.shape(M2_AA)[0]\n",
    "    nk = len(k_vec)\n",
    "\n",
    "    one = np.ones((M,M))\n",
    "    grid = np.indices((M, M))\n",
    "    S2_AA_arr = np.zeros(nk)\n",
    "    S2_AB_arr_fast = np.zeros(nk)\n",
    "    S2_BB_arr_fast = np.zeros(nk)\n",
    "\n",
    "\n",
    "    H_AA = np.diag(M2_AA)\n",
    "    H_AA_mat = (H_AA * one).T\n",
    "    for i, k in enumerate(k_vec):\n",
    "        C = np.zeros((M, M))\n",
    "        x_m = (1/6) * N_m * b**2 * k**2\n",
    "\n",
    "        #j1 = j2\n",
    "        debye = (2/(x_m**2)) * (x_m + np.exp(-x_m) - 1) * (1/M**2)\n",
    "\n",
    "        np.fill_diagonal(C, np.diag(one * debye))\n",
    "\n",
    "        integral = (1/(x_m**2)) * (np.exp(x_m) + np.exp(-x_m) - 2) #for off-diagonal terms\n",
    "\n",
    "        #j1 > j2\n",
    "        j1minusj2_mat = grid[0] - grid[1]\n",
    "        C += np.tril(one * np.exp(-x_m*(j1minusj2_mat)) * integral * (1/M**2), k = -1)\n",
    "\n",
    "        #j2 > j1\n",
    "        j2minusj1_mat = -1 * j1minusj2_mat\n",
    "        C += np.triu(one * np.exp(-x_m*(j2minusj1_mat)) * integral * (1/M**2), k = 1) \n",
    "        \n",
    "        \n",
    "        S2_AA_arr[i] = np.sum(C * M2_AA)\n",
    "\n",
    "\n",
    "        C_AB = H_AA_mat * C\n",
    "        S2_AB_arr_fast[i] = np.sum(C_AB) - S2_AA_arr[i]\n",
    "        S2_BB_arr_fast[i] = np.sum(C) + S2_AA_arr[i] - 2*np.sum(C_AB)\n",
    "    return (S2_AA_arr, S2_AB_arr_fast, S2_BB_arr_fast)"
   ]
  },
  {
   "cell_type": "markdown",
   "metadata": {},
   "source": [
    "### Identical homopolymers"
   ]
  },
  {
   "cell_type": "code",
   "execution_count": 478,
   "metadata": {},
   "outputs": [
    {
     "name": "stdout",
     "output_type": "stream",
     "text": [
      "Wall time: 6.51 ms\n"
     ]
    },
    {
     "name": "stderr",
     "output_type": "stream",
     "text": [
      "<ipython-input-470-7d00c2f5fefd>:29: RuntimeWarning: overflow encountered in multiply\n",
      "  C += np.tril(one * np.exp(-x_m*(j1minusj2_mat)) * integral * (1/M**2), k = -1)\n",
      "<ipython-input-470-7d00c2f5fefd>:33: RuntimeWarning: overflow encountered in multiply\n",
      "  C += np.triu(one * np.exp(-x_m*(j2minusj1_mat)) * integral * (1/M**2), k = 1)\n",
      "<ipython-input-470-7d00c2f5fefd>:29: RuntimeWarning: overflow encountered in exp\n",
      "  C += np.tril(one * np.exp(-x_m*(j1minusj2_mat)) * integral * (1/M**2), k = -1)\n",
      "<ipython-input-470-7d00c2f5fefd>:33: RuntimeWarning: overflow encountered in exp\n",
      "  C += np.triu(one * np.exp(-x_m*(j2minusj1_mat)) * integral * (1/M**2), k = 1)\n",
      "<ipython-input-470-7d00c2f5fefd>:25: RuntimeWarning: overflow encountered in exp\n",
      "  integral = (1/(x_m**2)) * (np.exp(x_m) + np.exp(-x_m) - 2) #for off-diagonal terms\n",
      "<ipython-input-470-7d00c2f5fefd>:29: RuntimeWarning: invalid value encountered in multiply\n",
      "  C += np.tril(one * np.exp(-x_m*(j1minusj2_mat)) * integral * (1/M**2), k = -1)\n",
      "<ipython-input-470-7d00c2f5fefd>:33: RuntimeWarning: invalid value encountered in multiply\n",
      "  C += np.triu(one * np.exp(-x_m*(j2minusj1_mat)) * integral * (1/M**2), k = 1)\n"
     ]
    }
   ],
   "source": [
    "%%time\n",
    "poly_mat = np.array([[0,0,0],[0,0,0]]) # each row is a polymer\n",
    "N_m = 1\n",
    "b = 1\n",
    "\n",
    "M = poly_mat.shape[1]\n",
    "k_vec = np.logspace(-2, 2, 50)\n",
    "\n",
    "(S2_AA_arr, S2_AB_arr_fast, S2_BB_arr_fast) = calc_sf2(poly_mat, N_m, b, k_vec)"
   ]
  },
  {
   "cell_type": "code",
   "execution_count": 476,
   "metadata": {},
   "outputs": [
    {
     "name": "stdout",
     "output_type": "stream",
     "text": [
      "Wall time: 0 ns\n"
     ]
    }
   ],
   "source": [
    "N = N_m * M\n",
    "\n",
    "x = (1/6) * N * b**2 * (k_vec**2)\n",
    "debye_arr = (2/(x**2)) * (x + np.exp(-x) - 1) #* (1/N**2)"
   ]
  },
  {
   "cell_type": "code",
   "execution_count": 477,
   "metadata": {},
   "outputs": [
    {
     "data": {
      "image/png": "[encoded data removed]",
      "text/plain": [
       "<Figure size 720x576 with 1 Axes>"
      ]
     },
     "metadata": {
      "needs_background": "light"
     },
     "output_type": "display_data"
    }
   ],
   "source": [
    "plt.figure(figsize=(10,8))\n",
    "font = {'family' : 'serif',\n",
    "        'weight':'normal',\n",
    "        'size': 18}\n",
    "plt.rc('font', **font)\n",
    "\n",
    "plt.plot(k_vec, S2_AA_arr, label = \"same homos\")\n",
    "# plt.plot(k_vec, s2AA_stat, label = \"wlcstat N = \" + str(N))\n",
    "plt.plot(k_vec, debye_arr, label = \"debye\", linestyle = \"--\")\n",
    "\n",
    "plt.xscale('log')\n",
    "plt.yscale('log')\n",
    "\n",
    "plt.title(\"S2 AA\")\n",
    "plt.xlabel(r'$K$')\n",
    "plt.ylabel(r'Structure Factor $S_{2}(K;N)$')\n",
    "plt.xlim((1e-2, 1e2))\n",
    "plt.tight_layout()\n",
    "plt.legend()\n",
    "plt.show()"
   ]
  },
  {
   "cell_type": "markdown",
   "metadata": {},
   "source": [
    "### Monodisperse diblock "
   ]
  },
  {
   "cell_type": "code",
   "execution_count": 480,
   "metadata": {
    "scrolled": true
   },
   "outputs": [
    {
     "name": "stdout",
     "output_type": "stream",
     "text": [
      "Wall time: 0 ns\n"
     ]
    },
    {
     "name": "stderr",
     "output_type": "stream",
     "text": [
      "<ipython-input-470-7d00c2f5fefd>:29: RuntimeWarning: overflow encountered in multiply\n",
      "  C += np.tril(one * np.exp(-x_m*(j1minusj2_mat)) * integral * (1/M**2), k = -1)\n",
      "<ipython-input-470-7d00c2f5fefd>:33: RuntimeWarning: overflow encountered in multiply\n",
      "  C += np.triu(one * np.exp(-x_m*(j2minusj1_mat)) * integral * (1/M**2), k = 1)\n",
      "<ipython-input-470-7d00c2f5fefd>:25: RuntimeWarning: overflow encountered in exp\n",
      "  integral = (1/(x_m**2)) * (np.exp(x_m) + np.exp(-x_m) - 2) #for off-diagonal terms\n",
      "<ipython-input-470-7d00c2f5fefd>:29: RuntimeWarning: overflow encountered in exp\n",
      "  C += np.tril(one * np.exp(-x_m*(j1minusj2_mat)) * integral * (1/M**2), k = -1)\n",
      "<ipython-input-470-7d00c2f5fefd>:29: RuntimeWarning: invalid value encountered in multiply\n",
      "  C += np.tril(one * np.exp(-x_m*(j1minusj2_mat)) * integral * (1/M**2), k = -1)\n",
      "<ipython-input-470-7d00c2f5fefd>:33: RuntimeWarning: overflow encountered in exp\n",
      "  C += np.triu(one * np.exp(-x_m*(j2minusj1_mat)) * integral * (1/M**2), k = 1)\n",
      "<ipython-input-470-7d00c2f5fefd>:33: RuntimeWarning: invalid value encountered in multiply\n",
      "  C += np.triu(one * np.exp(-x_m*(j2minusj1_mat)) * integral * (1/M**2), k = 1)\n"
     ]
    }
   ],
   "source": [
    "%%time\n",
    "poly_mat = np.array([[0,1],[0,1]]) # each row is a polymer\n",
    "N_m = 1\n",
    "b = 1\n",
    "\n",
    "M = poly_mat.shape[1]\n",
    "k_vec = np.logspace(-2, 2, 50)\n",
    "\n",
    "(S2_AA_arr, S2_AB_arr_fast, S2_BB_arr_fast) = calc_sf2(poly_mat, N_m, b, k_vec)"
   ]
  },
  {
   "cell_type": "code",
   "execution_count": 483,
   "metadata": {
    "scrolled": false
   },
   "outputs": [
    {
     "data": {
      "image/png": "[encoded data removed]",
      "text/plain": [
       "<Figure size 720x576 with 1 Axes>"
      ]
     },
     "metadata": {
      "needs_background": "light"
     },
     "output_type": "display_data"
    }
   ],
   "source": [
    "plt.figure(figsize=(10,8))\n",
    "font = {'family' : 'serif',\n",
    "        'weight':'normal',\n",
    "        'size': 18}\n",
    "plt.rc('font', **font)\n",
    "\n",
    "plt.plot(k_vec, S2_AA_arr, label = \"AA\")\n",
    "plt.plot(k_vec, S2_BB_arr_fast, label = \"BB\", linestyle = \"--\")\n",
    "plt.plot(k_vec, S2_AB_arr_fast, label = \"AB\")\n",
    "\n",
    "\n",
    "# plt.plot(k_vec, S2_BB_arr, label = \"slow\", linestyle = \"--\")\n",
    "# plt.plot(k_vec, s2AA_stat, label = \"wlcstat N = \" + str(N))\n",
    "# plt.plot(k_vec, debye_arr, label = \"debye homo N = \" + str(N), linestyle = \"--\")\n",
    "\n",
    "plt.xscale('log')\n",
    "plt.yscale('log')\n",
    "\n",
    "# plt.title(\"S2\")\n",
    "plt.xlabel(r'$K$')\n",
    "plt.ylabel(r'Structure Factor $S_{2}(K;N)$')\n",
    "plt.xlim((1e-2, 1e2))\n",
    "plt.tight_layout()\n",
    "plt.legend()\n",
    "plt.show()"
   ]
  },
  {
   "cell_type": "markdown",
   "metadata": {},
   "source": [
    "#### stability analysis"
   ]
  },
  {
   "cell_type": "code",
   "execution_count": 487,
   "metadata": {},
   "outputs": [],
   "source": [
    "# diblocks\n",
    "det = S2_AA_arr * S2_BB_arr_fast - S2_AB_arr_fast**2\n",
    "S2_AA_inv = S2_BB_arr_fast * (1/det)\n",
    "S2_AB_inv = -S2_AB_arr_fast * (1/det)\n",
    "S2_BB_inv = S2_AA_arr * (1/det)\n",
    "\n",
    "# G2 = (0.5*np.array([[S2_AA_inv, S2_AB_inv], [S2_AB_inv, S2_BB_inv]])).T.reshape(len(k_vec), 2, 2) \n",
    "\n",
    "G2 = 0.5*(S2_AA_inv - 2* S2_AB_inv + S2_BB_inv) # chi = 0\n",
    "\n",
    "# eigvalues,eigvectors = np.linalg.eigh(G2)\n",
    "eigvalues_lst = G2\n",
    "min_eig = np.min(eigvalues_lst[~np.isnan(eigvalues_lst)])\n",
    "\n",
    "k_star = k_vec[np.where(eigvalues_lst==min_eig)]#[0]][0] "
   ]
  },
  {
   "cell_type": "code",
   "execution_count": 488,
   "metadata": {},
   "outputs": [
    {
     "data": {
      "text/plain": [
       "array([3.39322177])"
      ]
     },
     "execution_count": 488,
     "metadata": {},
     "output_type": "execute_result"
    }
   ],
   "source": [
    "k_star"
   ]
  },
  {
   "cell_type": "markdown",
   "metadata": {},
   "source": [
    "### Homopolymer mix"
   ]
  },
  {
   "cell_type": "markdown",
   "metadata": {},
   "source": [
    "#### stability analysis"
   ]
  },
  {
   "cell_type": "code",
   "execution_count": 489,
   "metadata": {},
   "outputs": [
    {
     "name": "stdout",
     "output_type": "stream",
     "text": [
      "Wall time: 15.6 ms\n"
     ]
    },
    {
     "name": "stderr",
     "output_type": "stream",
     "text": [
      "<ipython-input-470-7d00c2f5fefd>:29: RuntimeWarning: overflow encountered in multiply\n",
      "  C += np.tril(one * np.exp(-x_m*(j1minusj2_mat)) * integral * (1/M**2), k = -1)\n",
      "<ipython-input-470-7d00c2f5fefd>:33: RuntimeWarning: overflow encountered in multiply\n",
      "  C += np.triu(one * np.exp(-x_m*(j2minusj1_mat)) * integral * (1/M**2), k = 1)\n",
      "<ipython-input-470-7d00c2f5fefd>:25: RuntimeWarning: overflow encountered in exp\n",
      "  integral = (1/(x_m**2)) * (np.exp(x_m) + np.exp(-x_m) - 2) #for off-diagonal terms\n",
      "<ipython-input-470-7d00c2f5fefd>:29: RuntimeWarning: overflow encountered in exp\n",
      "  C += np.tril(one * np.exp(-x_m*(j1minusj2_mat)) * integral * (1/M**2), k = -1)\n",
      "<ipython-input-470-7d00c2f5fefd>:29: RuntimeWarning: invalid value encountered in multiply\n",
      "  C += np.tril(one * np.exp(-x_m*(j1minusj2_mat)) * integral * (1/M**2), k = -1)\n",
      "<ipython-input-470-7d00c2f5fefd>:33: RuntimeWarning: overflow encountered in exp\n",
      "  C += np.triu(one * np.exp(-x_m*(j2minusj1_mat)) * integral * (1/M**2), k = 1)\n",
      "<ipython-input-470-7d00c2f5fefd>:33: RuntimeWarning: invalid value encountered in multiply\n",
      "  C += np.triu(one * np.exp(-x_m*(j2minusj1_mat)) * integral * (1/M**2), k = 1)\n"
     ]
    }
   ],
   "source": [
    "%%time\n",
    "poly_mat = np.array([[1,1],[0,0]]) # each row is a polymer\n",
    "N_m = 1\n",
    "b = 1\n",
    "\n",
    "M = poly_mat.shape[1]\n",
    "k_vec = np.logspace(-2, 2, 50)\n",
    "\n",
    "(S2_AA_arr, S2_AB_arr_fast, S2_BB_arr_fast) = calc_sf2(poly_mat, N_m, b, k_vec)\n",
    "\n",
    "det = S2_AA_arr * S2_BB_arr_fast - S2_AB_arr_fast**2\n",
    "S2_AA_inv = S2_BB_arr_fast * (1/det)\n",
    "S2_AB_inv = -S2_AB_arr_fast * (1/det)\n",
    "S2_BB_inv = S2_AA_arr * (1/det)\n",
    "\n",
    "# G2 = (0.5*np.array([[S2_AA_inv, S2_AB_inv], [S2_AB_inv, S2_BB_inv]])).T.reshape(len(k_vec), 2, 2) \n",
    "\n",
    "G2 = 0.5*(S2_AA_inv - 2* S2_AB_inv + S2_BB_inv) # chi = 0\n",
    "\n",
    "# eigvalues,eigvectors = np.linalg.eigh(G2)\n",
    "eigvalues_lst = G2\n",
    "min_eig = np.min(eigvalues_lst[~np.isnan(eigvalues_lst)])\n",
    "\n",
    "k_star = k_vec[np.where(eigvalues_lst==min_eig)]#[0]][0] "
   ]
  },
  {
   "cell_type": "code",
   "execution_count": 490,
   "metadata": {},
   "outputs": [
    {
     "data": {
      "text/plain": [
       "array([0.01])"
      ]
     },
     "execution_count": 490,
     "metadata": {},
     "output_type": "execute_result"
    }
   ],
   "source": [
    "k_star"
   ]
  },
  {
   "cell_type": "code",
   "execution_count": null,
   "metadata": {},
   "outputs": [],
   "source": [
    "#TODO:\n",
    "# -find full spinodal of monodisperse diblock, compare to vertex/Leibler (verification)\n",
    "# -vectorize wrt k?\n",
    "# -S3, S4"
   ]
  },
  {
   "cell_type": "code",
   "execution_count": null,
   "metadata": {},
   "outputs": [],
   "source": []
  },
  {
   "cell_type": "code",
   "execution_count": null,
   "metadata": {},
   "outputs": [],
   "source": []
  },
  {
   "cell_type": "code",
   "execution_count": null,
   "metadata": {},
   "outputs": [],
   "source": []
  },
  {
   "cell_type": "code",
   "execution_count": null,
   "metadata": {},
   "outputs": [],
   "source": []
  },
  {
   "cell_type": "code",
   "execution_count": null,
   "metadata": {},
   "outputs": [],
   "source": []
  },
  {
   "cell_type": "code",
   "execution_count": null,
   "metadata": {},
   "outputs": [],
   "source": []
  },
  {
   "cell_type": "code",
   "execution_count": null,
   "metadata": {},
   "outputs": [],
   "source": []
  },
  {
   "cell_type": "code",
   "execution_count": null,
   "metadata": {},
   "outputs": [],
   "source": []
  },
  {
   "cell_type": "code",
   "execution_count": null,
   "metadata": {},
   "outputs": [],
   "source": []
  },
  {
   "cell_type": "markdown",
   "metadata": {},
   "source": [
    "# Testing code"
   ]
  },
  {
   "cell_type": "code",
   "execution_count": 98,
   "metadata": {},
   "outputs": [],
   "source": [
    "# given a (set of) polymer structure, create a set of M^(2) connectivity matrices\n",
    "\n",
    "poly = [1, 1, 0, 0]\n",
    "n_p = 1\n",
    "M = len(poly)\n",
    "alph1 =1\n",
    "alph2 =0\n",
    "\n",
    "mat = np.zeros((M, M)) #MxM \n",
    "\n",
    "for j1,M1 in enumerate(poly):\n",
    "    for j2,M2 in enumerate(poly):\n",
    "#         print(\"M1 = \", M1)\n",
    "#         print(M2)\n",
    "#         print((M1 == alph1) * (M2 == alph2))\n",
    "        mat[j1, j2] += (1/n_p) * (M1 == alph1) * (M2 == alph2)# TODO how to implement indicator vairalbe\n",
    "        \n",
    "#TODO consider multiple polymer types"
   ]
  },
  {
   "cell_type": "code",
   "execution_count": 99,
   "metadata": {},
   "outputs": [
    {
     "data": {
      "text/plain": [
       "array([[0., 0., 1., 1.],\n",
       "       [0., 0., 1., 1.],\n",
       "       [0., 0., 0., 0.],\n",
       "       [0., 0., 0., 0.]])"
      ]
     },
     "execution_count": 99,
     "metadata": {},
     "output_type": "execute_result"
    }
   ],
   "source": [
    "mat"
   ]
  },
  {
   "cell_type": "code",
   "execution_count": 221,
   "metadata": {},
   "outputs": [],
   "source": [
    "#vectorized single poly\n",
    "\n",
    "\n",
    "poly = np.array([1, 1, 0, 0])\n",
    "n_p = 1\n",
    "M = len(poly)\n",
    "alph1 =np.ones(M)\n",
    "alph2 =np.ones(M)\n",
    "sub1 = 1*(poly == alph1)\n",
    "sub2 = 1*(poly == alph2)\n",
    "mat_Vect = np.outer(sub1, sub2)"
   ]
  },
  {
   "cell_type": "code",
   "execution_count": 222,
   "metadata": {
    "scrolled": true
   },
   "outputs": [
    {
     "data": {
      "text/plain": [
       "array([[1, 1, 0, 0],\n",
       "       [1, 1, 0, 0],\n",
       "       [0, 0, 0, 0],\n",
       "       [0, 0, 0, 0]])"
      ]
     },
     "execution_count": 222,
     "metadata": {},
     "output_type": "execute_result"
    }
   ],
   "source": [
    "mat_Vect"
   ]
  },
  {
   "cell_type": "code",
   "execution_count": 424,
   "metadata": {},
   "outputs": [
    {
     "data": {
      "text/plain": [
       "1"
      ]
     },
     "execution_count": 424,
     "metadata": {},
     "output_type": "execute_result"
    }
   ],
   "source": [
    "len(np.shape(np.array([3, 4, 5])))"
   ]
  },
  {
   "cell_type": "code",
   "execution_count": 425,
   "metadata": {},
   "outputs": [
    {
     "data": {
      "text/plain": [
       "2"
      ]
     },
     "execution_count": 425,
     "metadata": {},
     "output_type": "execute_result"
    }
   ],
   "source": [
    "len(np.shape(poly_mat))"
   ]
  },
  {
   "cell_type": "code",
   "execution_count": 189,
   "metadata": {},
   "outputs": [],
   "source": [
    "#vectorized multi poly. inly considering equal amounts of each polymer. TODO- consider unequal amounts. Manipulate simga?\n",
    "\n",
    "poly_mat = np.array([[1, 0], [0, 1], [1, 1]]) #matrix where num rows = num polymers\n",
    "# poly_mat = np.array([[0, 0],[1, 1]]) #matrix where num rows = num polymers\n",
    "\n",
    "# poly_mat = np.array([1, 0])\n",
    "\n",
    "#TODO: handle special case where polymat only has one polymer\n",
    "#then implement previous algorithm; have alph1 and alph2 be 1D \n",
    "if len(np.shape(poly_mat)) == 1: #single poly\n",
    "    n_p = 1\n",
    "    M = len(poly)\n",
    "    alph1 =np.ones(M)\n",
    "    alph2 =np.ones(M)\n",
    "    sub1 = 1*(poly == alph1)\n",
    "    sub2 = 1*(poly == alph2)\n",
    "    mat_Vect = np.outer(sub1, sub2)\n",
    "n_p = poly_mat.shape[0]\n",
    "M = poly_mat.shape[1]\n",
    "# alph1 =np.zeros((M, M))\n",
    "# alph2 =np.zeros((M, M))\n",
    "alph1 =np.ones((n_p, M))\n",
    "alph2 =np.ones((n_p, M))\n",
    "\n",
    "\n",
    "sigma1 = 1*((poly_mat == alph1))#.sum(axis = 0) #sigma. could multiply each\n",
    "sigma2 = 1*((poly_mat == alph2))#.sum(axis = 0)\n",
    "\n",
    "# mat_Vect_two = np.matmul(sub1, sub2) * (1/n_p)\n",
    "\n",
    "#need to do each row outer product with corresponding row, get n_p MxM matrices, then sum the results\n",
    "prods = np.einsum('bi,bo->bio', sigma1, sigma2) # performing row wise cross product (each poly contribution)\n",
    "mat_Vect_two = np.sum(prods, axis = 0) / n_p # averaging each contribution"
   ]
  },
  {
   "cell_type": "code",
   "execution_count": 229,
   "metadata": {},
   "outputs": [],
   "source": [
    "# Have M. Now need to multiple upper triangle, lower triangle, and diagonal by sf components (construct C matrix, mat mul the)\n",
    "#  (the debye func at diag, and the apprprt exp(-xm j(1or2) - j (2or1)) * 1/xm2 blah blah)\n",
    "N_m = 1\n",
    "b = 1\n",
    "k = 1#np.array([1, 2, 3])\n",
    "\n",
    "x_m = (1/6) * N_m * b**2 * k**2\n",
    "\n",
    "C = np.zeros((M, M))\n",
    "one = np.ones((M,M))\n",
    "grid = np.indices((M, M))\n",
    "\n",
    "\n",
    "#j1 = j2\n",
    "debye = (2/(x_m**2)) * (x_m + np.exp(-x_m) - 1) \n",
    "np.fill_diagonal(C, np.diag(one * debye))\n",
    "\n",
    "integral = (1/(x_m**2)) * (np.exp(x_m) + np.exp(-x_m) - 2) #for off-diagonal terms\n",
    "\n",
    "#j1 > j2\n",
    "j1minusj2_mat = grid[0] - grid[1]\n",
    "C += np.tril(one * np.exp(-x_m*(j1minusj2_mat)) * integral, k = -1)\n",
    "\n",
    "#j2 > j1\n",
    "j2minusj1_mat = -1 * j1minusj2_mat\n",
    "C += np.triu(one * np.exp(-x_m*(j2minusj1_mat)) * integral, k = 1)\n",
    " \n",
    "#isnt j2minusj1 and j1minusj2 the same?? since only done in special case where the one is bigger than the other?"
   ]
  },
  {
   "cell_type": "code",
   "execution_count": 230,
   "metadata": {},
   "outputs": [],
   "source": [
    "S2_AA = np.sum(C * mat_Vect)"
   ]
  },
  {
   "cell_type": "code",
   "execution_count": 231,
   "metadata": {},
   "outputs": [
    {
     "data": {
      "text/plain": [
       "3.5902543613128177"
      ]
     },
     "execution_count": 231,
     "metadata": {},
     "output_type": "execute_result"
    }
   ],
   "source": [
    "S2_AA"
   ]
  },
  {
   "cell_type": "code",
   "execution_count": null,
   "metadata": {},
   "outputs": [],
   "source": [
    "# compare to Vertex/wlcstat codebase at discrete ks\n"
   ]
  },
  {
   "cell_type": "code",
   "execution_count": 346,
   "metadata": {
    "scrolled": true
   },
   "outputs": [],
   "source": [
    "# # %%time\n",
    "# # FULL S2_AA calculation vectorize attempt\n",
    "\n",
    "# #Mono matrix:\n",
    "# poly = np.array([1, 1])\n",
    "# n_p = 1\n",
    "# M = len(poly)\n",
    "# alph1 =np.ones(M)\n",
    "# alph2 =np.ones(M)\n",
    "# sig1 = 1*(poly == alph1)\n",
    "# sig2 = 1*(poly == alph2)\n",
    "# monomer_mat = np.outer(sig1, sig2)\n",
    "\n",
    "# #k-dependenece\n",
    "# N_m = 1.\n",
    "# b = 1.\n",
    "\n",
    "# k0 = 1e-2\n",
    "# kf = 1e2\n",
    "# nk = 50\n",
    "# k_vec = np.logspace(np.log10(k0), np.log10(kf), nk)\n",
    "\n",
    "\n",
    "# one = np.ones((len(k_vec), M,M))\n",
    "# grid = np.indices((M, M))\n",
    "# S2_AA_arr = np.zeros(nk)\n",
    "\n",
    "# k = k_vec\n",
    "# C = np.zeros((len(k_vec), M, M))\n",
    "# x_m = (1/6) * N_m * b**2 * k**2\n",
    "\n",
    "# #j1 = j2\n",
    "# debye = (2/(x_m**2)) * (x_m + np.exp(-x_m) - 1) * (1/M**2)\n",
    "\n",
    "# np.fill_diagonal(C, np.diag(one * debye)) #FAIL\n",
    "\n",
    "# integral = (1/(x_m**2)) * (np.exp(x_m) + np.exp(-x_m) - 2) #for off-diagonal terms\n",
    "\n",
    "# #j1 > j2\n",
    "# j1minusj2_mat = grid[0] - grid[1]\n",
    "# C += np.tril(one * np.exp(-x_m*(j1minusj2_mat)) * integral * (1/M**2), k = -1)\n",
    "\n",
    "# #j2 > j1\n",
    "# j2minusj1_mat = -1 * j1minusj2_mat\n",
    "# C += np.triu(one * np.exp(-x_m*(j2minusj1_mat)) * integral * (1/M**2), k = 1) \n",
    "# S2_AA_arr[i] = np.sum(C * monomer_mat)"
   ]
  },
  {
   "cell_type": "code",
   "execution_count": 325,
   "metadata": {
    "scrolled": true
   },
   "outputs": [
    {
     "name": "stdout",
     "output_type": "stream",
     "text": [
      "Wall time: 15.6 ms\n"
     ]
    },
    {
     "name": "stderr",
     "output_type": "stream",
     "text": [
      "<timed exec>:38: RuntimeWarning: overflow encountered in multiply\n",
      "<timed exec>:42: RuntimeWarning: overflow encountered in multiply\n",
      "<timed exec>:34: RuntimeWarning: overflow encountered in exp\n",
      "<timed exec>:38: RuntimeWarning: overflow encountered in exp\n",
      "<timed exec>:38: RuntimeWarning: invalid value encountered in multiply\n",
      "<timed exec>:42: RuntimeWarning: overflow encountered in exp\n",
      "<timed exec>:42: RuntimeWarning: invalid value encountered in multiply\n"
     ]
    }
   ],
   "source": [
    "%%time\n",
    "# FULL S2_AA calculation\n",
    "\n",
    "#Mono matrix:\n",
    "poly = np.array([1, 1])\n",
    "n_p = 1\n",
    "M = len(poly)\n",
    "alph1 =np.ones(M)\n",
    "alph2 =np.ones(M)\n",
    "sig1 = 1*(poly == alph1)\n",
    "sig2 = 1*(poly == alph2)\n",
    "monomer_mat = np.outer(sig1, sig2)\n",
    "\n",
    "#k-dependenece\n",
    "N_m = 1\n",
    "b = 1\n",
    "\n",
    "k0 = 1e-2\n",
    "kf = 1e2\n",
    "nk = 50\n",
    "k_vec = np.logspace(np.log10(k0), np.log10(kf), nk)\n",
    "\n",
    "\n",
    "one = np.ones((M,M))\n",
    "grid = np.indices((M, M))\n",
    "S2_AA_arr = np.zeros(nk)\n",
    "\n",
    "for i, k in enumerate(k_vec):\n",
    "    C = np.zeros((M, M))\n",
    "    x_m = (1/6) * N_m * b**2 * k**2\n",
    "    \n",
    "    #j1 = j2\n",
    "    debye = (2/(x_m**2)) * (x_m + np.exp(-x_m) - 1) * (1/M**2)\n",
    "\n",
    "    np.fill_diagonal(C, np.diag(one * debye))\n",
    "\n",
    "    integral = (1/(x_m**2)) * (np.exp(x_m) + np.exp(-x_m) - 2) #for off-diagonal terms\n",
    "\n",
    "    #j1 > j2\n",
    "    j1minusj2_mat = grid[0] - grid[1]\n",
    "    C += np.tril(one * np.exp(-x_m*(j1minusj2_mat)) * integral * (1/M**2), k = -1)\n",
    "\n",
    "    #j2 > j1\n",
    "    j2minusj1_mat = -1 * j1minusj2_mat\n",
    "    C += np.triu(one * np.exp(-x_m*(j2minusj1_mat)) * integral * (1/M**2), k = 1) \n",
    "    S2_AA_arr[i] = np.sum(C * monomer_mat)"
   ]
  },
  {
   "cell_type": "code",
   "execution_count": 330,
   "metadata": {
    "scrolled": true
   },
   "outputs": [
    {
     "name": "stdout",
     "output_type": "stream",
     "text": [
      "Wall time: 15.6 ms\n"
     ]
    },
    {
     "name": "stderr",
     "output_type": "stream",
     "text": [
      "<timed exec>:53: RuntimeWarning: overflow encountered in multiply\n",
      "<timed exec>:57: RuntimeWarning: overflow encountered in multiply\n",
      "<timed exec>:49: RuntimeWarning: overflow encountered in exp\n",
      "<timed exec>:53: RuntimeWarning: overflow encountered in exp\n",
      "<timed exec>:53: RuntimeWarning: invalid value encountered in multiply\n",
      "<timed exec>:57: RuntimeWarning: overflow encountered in exp\n",
      "<timed exec>:57: RuntimeWarning: invalid value encountered in multiply\n"
     ]
    }
   ],
   "source": [
    "%%time\n",
    "# FULL S2_AA calculation POLYDISPERSE\n",
    "\n",
    "#Mono matrix:\n",
    "\n",
    "poly_mat = np.array([[1, 1], [1, 1], [1, 1]]) #matrix where num rows = num polymers\n",
    "\n",
    "#TODO: handle special case where polymat only has one polymer\n",
    "#then implement previous algorithm; have alph1 and alph2 be 1D \n",
    "n_p = poly_mat.shape[0]\n",
    "M = poly_mat.shape[1]\n",
    "# alph1 =np.zeros((M, M))\n",
    "# alph2 =np.zeros((M, M))\n",
    "alph1 =np.ones((n_p, M))\n",
    "alph2 =np.ones((n_p, M))\n",
    "\n",
    "\n",
    "sigma1 = 1*((poly_mat == alph1))#.sum(axis = 0) #sigma. could multiply each\n",
    "sigma2 = 1*((poly_mat == alph2))#.sum(axis = 0)\n",
    "\n",
    "# mat_Vect_two = np.matmul(sub1, sub2) * (1/n_p)\n",
    "\n",
    "#need to do each row outer product with corresponding row, get n_p MxM matrices, then sum the results\n",
    "prods = np.einsum('bi,bo->bio', sigma1, sigma2) # performing row wise cross product (each poly contribution)\n",
    "monomer_mat = np.sum(prods, axis = 0) / n_p # averaging each contribution\n",
    "\n",
    "#k-dependenece\n",
    "N_m = 1\n",
    "b = 1\n",
    "\n",
    "k0 = 1e-2\n",
    "kf = 1e2\n",
    "nk = 50\n",
    "k_vec = np.logspace(np.log10(k0), np.log10(kf), nk)\n",
    "\n",
    "\n",
    "one = np.ones((M,M))\n",
    "grid = np.indices((M, M))\n",
    "S2_AA_arr_poly = np.zeros(nk)\n",
    "\n",
    "for i, k in enumerate(k_vec):\n",
    "    C = np.zeros((M, M))\n",
    "    x_m = (1/6) * N_m * b**2 * k**2\n",
    "    \n",
    "    #j1 = j2\n",
    "    debye = (2/(x_m**2)) * (x_m + np.exp(-x_m) - 1) * (1/M**2)\n",
    "\n",
    "    np.fill_diagonal(C, np.diag(one * debye))\n",
    "\n",
    "    integral = (1/(x_m**2)) * (np.exp(x_m) + np.exp(-x_m) - 2) #for off-diagonal terms\n",
    "\n",
    "    #j1 > j2\n",
    "    j1minusj2_mat = grid[0] - grid[1]\n",
    "    C += np.tril(one * np.exp(-x_m*(j1minusj2_mat)) * integral * (1/M**2), k = -1)\n",
    "\n",
    "    #j2 > j1\n",
    "    j2minusj1_mat = -1 * j1minusj2_mat\n",
    "    C += np.triu(one * np.exp(-x_m*(j2minusj1_mat)) * integral * (1/M**2), k = 1) \n",
    "    S2_AA_arr_poly[i] = np.sum(C * monomer_mat)"
   ]
  },
  {
   "cell_type": "code",
   "execution_count": 331,
   "metadata": {},
   "outputs": [
    {
     "name": "stdout",
     "output_type": "stream",
     "text": [
      "Wall time: 0 ns\n"
     ]
    }
   ],
   "source": [
    "%%time\n",
    "N = N_m * M\n",
    "# b = 1\n",
    "x = (1/6) * N * b**2 * (k_vec**2)\n",
    "debye_arr = (2/(x**2)) * (x + np.exp(-x) - 1) #* (1/N**2)"
   ]
  },
  {
   "cell_type": "code",
   "execution_count": 332,
   "metadata": {},
   "outputs": [
    {
     "data": {
      "image/png": "[encoded data removed]",
      "text/plain": [
       "<Figure size 720x576 with 1 Axes>"
      ]
     },
     "metadata": {
      "needs_background": "light"
     },
     "output_type": "display_data"
    }
   ],
   "source": [
    "plt.figure(figsize=(10,8))\n",
    "font = {'family' : 'serif',\n",
    "        'weight':'normal',\n",
    "        'size': 18}\n",
    "plt.rc('font', **font)\n",
    "\n",
    "plt.plot(k_vec, S2_AA_arr, label = \"M*C\")\n",
    "# plt.plot(k_vec, s2AA_stat, label = \"wlcstat N = \" + str(N))\n",
    "plt.plot(k_vec, debye_arr, label = \"debye homo N = \" + str(N), linestyle = \"--\")\n",
    "\n",
    "plt.xscale('log')\n",
    "plt.yscale('log')\n",
    "\n",
    "plt.title(\"S2 AA\")\n",
    "plt.xlabel(r'$K$')\n",
    "plt.ylabel(r'Structure Factor $S_{2}(K;N)$')\n",
    "plt.xlim((1e-2, 1e2))\n",
    "plt.tight_layout()\n",
    "plt.legend()\n",
    "plt.show()"
   ]
  },
  {
   "cell_type": "code",
   "execution_count": null,
   "metadata": {},
   "outputs": [],
   "source": [
    "# Now derive conversion rules from AA to AB and BB (G_AA, GAB, G_BB in notes. Re derive!!!!!). "
   ]
  },
  {
   "cell_type": "code",
   "execution_count": 360,
   "metadata": {
    "scrolled": true
   },
   "outputs": [
    {
     "name": "stdout",
     "output_type": "stream",
     "text": [
      "Wall time: 15.6 ms\n"
     ]
    },
    {
     "name": "stderr",
     "output_type": "stream",
     "text": [
      "<timed exec>:40: RuntimeWarning: overflow encountered in multiply\n",
      "<timed exec>:44: RuntimeWarning: overflow encountered in multiply\n",
      "<timed exec>:36: RuntimeWarning: overflow encountered in exp\n",
      "<timed exec>:40: RuntimeWarning: overflow encountered in exp\n",
      "<timed exec>:40: RuntimeWarning: invalid value encountered in multiply\n",
      "<timed exec>:44: RuntimeWarning: overflow encountered in exp\n",
      "<timed exec>:44: RuntimeWarning: invalid value encountered in multiply\n"
     ]
    }
   ],
   "source": [
    "%%time\n",
    "# FULL S2_AB calculation (slow, relation not used)\n",
    "\n",
    "#Mono matrix:\n",
    "poly = np.array([1, 0])\n",
    "n_p = 1\n",
    "M = len(poly)\n",
    "alph1 =np.ones(M)\n",
    "alph2 =np.zeros(M)\n",
    "sig1 = 1*(poly == alph1)\n",
    "sig2 = 1*(poly == alph2)\n",
    "monomer_mat = np.outer(sig1, sig2)\n",
    "\n",
    "#k-dependenece\n",
    "N_m = 1\n",
    "b = 1\n",
    "\n",
    "k0 = 1e-2\n",
    "kf = 1e2\n",
    "nk = 50\n",
    "k_vec = np.logspace(np.log10(k0), np.log10(kf), nk)\n",
    "\n",
    "\n",
    "one = np.ones((M,M))\n",
    "grid = np.indices((M, M))\n",
    "S2_AB_arr = np.zeros(nk)\n",
    "\n",
    "for i, k in enumerate(k_vec):\n",
    "    C = np.zeros((M, M))\n",
    "    x_m = (1/6) * N_m * b**2 * k**2\n",
    "    \n",
    "    #j1 = j2\n",
    "    debye = (2/(x_m**2)) * (x_m + np.exp(-x_m) - 1) * (1/M**2)\n",
    "\n",
    "    np.fill_diagonal(C, np.diag(one * debye))\n",
    "\n",
    "    integral = (1/(x_m**2)) * (np.exp(x_m) + np.exp(-x_m) - 2) #for off-diagonal terms\n",
    "\n",
    "    #j1 > j2\n",
    "    j1minusj2_mat = grid[0] - grid[1]\n",
    "    C += np.tril(one * np.exp(-x_m*(j1minusj2_mat)) * integral * (1/M**2), k = -1)\n",
    "\n",
    "    #j2 > j1\n",
    "    j2minusj1_mat = -1 * j1minusj2_mat\n",
    "    C += np.triu(one * np.exp(-x_m*(j2minusj1_mat)) * integral * (1/M**2), k = 1) \n",
    "    S2_AB_arr[i] = np.sum(C * monomer_mat)"
   ]
  },
  {
   "cell_type": "code",
   "execution_count": 361,
   "metadata": {},
   "outputs": [
    {
     "name": "stderr",
     "output_type": "stream",
     "text": [
      "<ipython-input-361-786e2a4a37f8>:42: RuntimeWarning: overflow encountered in multiply\n",
      "  C += np.tril(one * np.exp(-x_m*(j1minusj2_mat)) * integral * (1/M**2), k = -1)\n",
      "<ipython-input-361-786e2a4a37f8>:46: RuntimeWarning: overflow encountered in multiply\n",
      "  C += np.triu(one * np.exp(-x_m*(j2minusj1_mat)) * integral * (1/M**2), k = 1)\n",
      "<ipython-input-361-786e2a4a37f8>:38: RuntimeWarning: overflow encountered in exp\n",
      "  integral = (1/(x_m**2)) * (np.exp(x_m) + np.exp(-x_m) - 2) #for off-diagonal terms\n",
      "<ipython-input-361-786e2a4a37f8>:42: RuntimeWarning: overflow encountered in exp\n",
      "  C += np.tril(one * np.exp(-x_m*(j1minusj2_mat)) * integral * (1/M**2), k = -1)\n",
      "<ipython-input-361-786e2a4a37f8>:42: RuntimeWarning: invalid value encountered in multiply\n",
      "  C += np.tril(one * np.exp(-x_m*(j1minusj2_mat)) * integral * (1/M**2), k = -1)\n",
      "<ipython-input-361-786e2a4a37f8>:46: RuntimeWarning: overflow encountered in exp\n",
      "  C += np.triu(one * np.exp(-x_m*(j2minusj1_mat)) * integral * (1/M**2), k = 1)\n",
      "<ipython-input-361-786e2a4a37f8>:46: RuntimeWarning: invalid value encountered in multiply\n",
      "  C += np.triu(one * np.exp(-x_m*(j2minusj1_mat)) * integral * (1/M**2), k = 1)\n"
     ]
    }
   ],
   "source": [
    "#S_AB calc fast\n",
    "\n",
    "#Mono matrix:\n",
    "n_p = 1\n",
    "M = len(poly)\n",
    "alph1 =np.ones(M)\n",
    "alph2 =np.ones(M)\n",
    "sig1 = 1*(poly == alph1)\n",
    "sig2 = 1*(poly == alph2)\n",
    "monomer_mat = np.outer(sig1, sig2)\n",
    "\n",
    "#k-dependenece\n",
    "N_m = 1\n",
    "b = 1\n",
    "\n",
    "k0 = 1e-2\n",
    "kf = 1e2\n",
    "nk = 50\n",
    "k_vec = np.logspace(np.log10(k0), np.log10(kf), nk)\n",
    "\n",
    "\n",
    "one = np.ones((M,M))\n",
    "grid = np.indices((M, M))\n",
    "S2_AA_arr = np.zeros(nk)\n",
    "S2_AB_arr_fast = np.zeros(nk)\n",
    "\n",
    "H_AA = np.diag(monomer_mat)\n",
    "H_AA_mat = (H_AA * np.ones((M, M))).T\n",
    "for i, k in enumerate(k_vec):\n",
    "    C = np.zeros((M, M))\n",
    "    x_m = (1/6) * N_m * b**2 * k**2\n",
    "    \n",
    "    #j1 = j2\n",
    "    debye = (2/(x_m**2)) * (x_m + np.exp(-x_m) - 1) * (1/M**2)\n",
    "\n",
    "    np.fill_diagonal(C, np.diag(one * debye))\n",
    "\n",
    "    integral = (1/(x_m**2)) * (np.exp(x_m) + np.exp(-x_m) - 2) #for off-diagonal terms\n",
    "\n",
    "    #j1 > j2\n",
    "    j1minusj2_mat = grid[0] - grid[1]\n",
    "    C += np.tril(one * np.exp(-x_m*(j1minusj2_mat)) * integral * (1/M**2), k = -1)\n",
    "\n",
    "    #j2 > j1\n",
    "    j2minusj1_mat = -1 * j1minusj2_mat\n",
    "    C += np.triu(one * np.exp(-x_m*(j2minusj1_mat)) * integral * (1/M**2), k = 1) \n",
    "    S2_AA_arr[i] = np.sum(C * monomer_mat)\n",
    "    \n",
    "    \n",
    "    C_AB = H_AA_mat * C\n",
    "    S2_AB_arr_fast[i] = np.sum(C_AB) - S2_AA_arr[i]"
   ]
  },
  {
   "cell_type": "code",
   "execution_count": 364,
   "metadata": {
    "scrolled": true
   },
   "outputs": [
    {
     "data": {
      "image/png": "[encoded data removed]",
      "text/plain": [
       "<Figure size 720x576 with 1 Axes>"
      ]
     },
     "metadata": {
      "needs_background": "light"
     },
     "output_type": "display_data"
    }
   ],
   "source": [
    "plt.figure(figsize=(10,8))\n",
    "font = {'family' : 'serif',\n",
    "        'weight':'normal',\n",
    "        'size': 18}\n",
    "plt.rc('font', **font)\n",
    "\n",
    "plt.plot(k_vec, S2_AB_arr_fast, label = \"used relation\")\n",
    "plt.plot(k_vec, S2_AB_arr, label = \"slow\", linestyle = \"--\")\n",
    "# plt.plot(k_vec, s2AA_stat, label = \"wlcstat N = \" + str(N))\n",
    "# plt.plot(k_vec, debye_arr, label = \"debye homo N = \" + str(N), linestyle = \"--\")\n",
    "\n",
    "plt.xscale('log')\n",
    "plt.yscale('log')\n",
    "\n",
    "plt.title(\"S2 AB\")\n",
    "plt.xlabel(r'$K$')\n",
    "plt.ylabel(r'Structure Factor $S_{2}(K;N)$')\n",
    "plt.xlim((1e-2, 1e2))\n",
    "plt.tight_layout()\n",
    "plt.legend()\n",
    "plt.show()"
   ]
  },
  {
   "cell_type": "code",
   "execution_count": null,
   "metadata": {},
   "outputs": [],
   "source": []
  },
  {
   "cell_type": "code",
   "execution_count": 367,
   "metadata": {
    "scrolled": true
   },
   "outputs": [
    {
     "name": "stdout",
     "output_type": "stream",
     "text": [
      "Wall time: 15.6 ms\n"
     ]
    },
    {
     "name": "stderr",
     "output_type": "stream",
     "text": [
      "<timed exec>:40: RuntimeWarning: overflow encountered in multiply\n",
      "<timed exec>:44: RuntimeWarning: overflow encountered in multiply\n",
      "<timed exec>:36: RuntimeWarning: overflow encountered in exp\n",
      "<timed exec>:40: RuntimeWarning: overflow encountered in exp\n",
      "<timed exec>:40: RuntimeWarning: invalid value encountered in multiply\n",
      "<timed exec>:44: RuntimeWarning: overflow encountered in exp\n",
      "<timed exec>:44: RuntimeWarning: invalid value encountered in multiply\n"
     ]
    }
   ],
   "source": [
    "%%time\n",
    "# FULL S2_BB calculation (slow, relation not used)\n",
    "\n",
    "#Mono matrix:\n",
    "poly = np.array([1, 0])\n",
    "n_p = 1\n",
    "M = len(poly)\n",
    "alph1 =np.zeros(M)\n",
    "alph2 =np.zeros(M)\n",
    "sig1 = 1*(poly == alph1)\n",
    "sig2 = 1*(poly == alph2)\n",
    "monomer_mat = np.outer(sig1, sig2)\n",
    "\n",
    "#k-dependenece\n",
    "N_m = 1\n",
    "b = 1\n",
    "\n",
    "k0 = 1e-2\n",
    "kf = 1e2\n",
    "nk = 50\n",
    "k_vec = np.logspace(np.log10(k0), np.log10(kf), nk)\n",
    "\n",
    "\n",
    "one = np.ones((M,M))\n",
    "grid = np.indices((M, M))\n",
    "S2_BB_arr = np.zeros(nk)\n",
    "\n",
    "for i, k in enumerate(k_vec):\n",
    "    C = np.zeros((M, M))\n",
    "    x_m = (1/6) * N_m * b**2 * k**2\n",
    "    \n",
    "    #j1 = j2\n",
    "    debye = (2/(x_m**2)) * (x_m + np.exp(-x_m) - 1) * (1/M**2)\n",
    "\n",
    "    np.fill_diagonal(C, np.diag(one * debye))\n",
    "\n",
    "    integral = (1/(x_m**2)) * (np.exp(x_m) + np.exp(-x_m) - 2) #for off-diagonal terms\n",
    "\n",
    "    #j1 > j2\n",
    "    j1minusj2_mat = grid[0] - grid[1]\n",
    "    C += np.tril(one * np.exp(-x_m*(j1minusj2_mat)) * integral * (1/M**2), k = -1)\n",
    "\n",
    "    #j2 > j1\n",
    "    j2minusj1_mat = -1 * j1minusj2_mat\n",
    "    C += np.triu(one * np.exp(-x_m*(j2minusj1_mat)) * integral * (1/M**2), k = 1) \n",
    "    S2_BB_arr[i] = np.sum(C * monomer_mat)"
   ]
  },
  {
   "cell_type": "code",
   "execution_count": 372,
   "metadata": {},
   "outputs": [
    {
     "name": "stderr",
     "output_type": "stream",
     "text": [
      "<ipython-input-372-8b2001b9b08f>:44: RuntimeWarning: overflow encountered in multiply\n",
      "  C += np.tril(one * np.exp(-x_m*(j1minusj2_mat)) * integral * (1/M**2), k = -1)\n",
      "<ipython-input-372-8b2001b9b08f>:48: RuntimeWarning: overflow encountered in multiply\n",
      "  C += np.triu(one * np.exp(-x_m*(j2minusj1_mat)) * integral * (1/M**2), k = 1)\n",
      "<ipython-input-372-8b2001b9b08f>:40: RuntimeWarning: overflow encountered in exp\n",
      "  integral = (1/(x_m**2)) * (np.exp(x_m) + np.exp(-x_m) - 2) #for off-diagonal terms\n",
      "<ipython-input-372-8b2001b9b08f>:44: RuntimeWarning: overflow encountered in exp\n",
      "  C += np.tril(one * np.exp(-x_m*(j1minusj2_mat)) * integral * (1/M**2), k = -1)\n",
      "<ipython-input-372-8b2001b9b08f>:44: RuntimeWarning: invalid value encountered in multiply\n",
      "  C += np.tril(one * np.exp(-x_m*(j1minusj2_mat)) * integral * (1/M**2), k = -1)\n",
      "<ipython-input-372-8b2001b9b08f>:48: RuntimeWarning: overflow encountered in exp\n",
      "  C += np.triu(one * np.exp(-x_m*(j2minusj1_mat)) * integral * (1/M**2), k = 1)\n",
      "<ipython-input-372-8b2001b9b08f>:48: RuntimeWarning: invalid value encountered in multiply\n",
      "  C += np.triu(one * np.exp(-x_m*(j2minusj1_mat)) * integral * (1/M**2), k = 1)\n"
     ]
    }
   ],
   "source": [
    "#S_BB calc fast\n",
    "\n",
    "#Mono matrix:\n",
    "n_p = 1\n",
    "M = len(poly)\n",
    "alph1 =np.ones(M)\n",
    "alph2 =np.ones(M)\n",
    "sig1 = 1*(poly == alph1)\n",
    "sig2 = 1*(poly == alph2)\n",
    "monomer_mat = np.outer(sig1, sig2)\n",
    "\n",
    "#k-dependenece\n",
    "N_m = 1\n",
    "b = 1\n",
    "\n",
    "k0 = 1e-2\n",
    "kf = 1e2\n",
    "nk = 50\n",
    "k_vec = np.logspace(np.log10(k0), np.log10(kf), nk)\n",
    "\n",
    "\n",
    "one = np.ones((M,M))\n",
    "grid = np.indices((M, M))\n",
    "S2_AA_arr = np.zeros(nk)\n",
    "S2_AB_arr_fast = np.zeros(nk)\n",
    "S2_BB_arr_fast = np.zeros(nk)\n",
    "\n",
    "\n",
    "H_AA = np.diag(monomer_mat)\n",
    "H_AA_mat = (H_AA * np.ones((M, M))).T\n",
    "for i, k in enumerate(k_vec):\n",
    "    C = np.zeros((M, M))\n",
    "    x_m = (1/6) * N_m * b**2 * k**2\n",
    "    \n",
    "    #j1 = j2\n",
    "    debye = (2/(x_m**2)) * (x_m + np.exp(-x_m) - 1) * (1/M**2)\n",
    "\n",
    "    np.fill_diagonal(C, np.diag(one * debye))\n",
    "\n",
    "    integral = (1/(x_m**2)) * (np.exp(x_m) + np.exp(-x_m) - 2) #for off-diagonal terms\n",
    "\n",
    "    #j1 > j2\n",
    "    j1minusj2_mat = grid[0] - grid[1]\n",
    "    C += np.tril(one * np.exp(-x_m*(j1minusj2_mat)) * integral * (1/M**2), k = -1)\n",
    "\n",
    "    #j2 > j1\n",
    "    j2minusj1_mat = -1 * j1minusj2_mat\n",
    "    C += np.triu(one * np.exp(-x_m*(j2minusj1_mat)) * integral * (1/M**2), k = 1) \n",
    "    S2_AA_arr[i] = np.sum(C * monomer_mat)\n",
    "    \n",
    "    \n",
    "    C_AB = H_AA_mat * C\n",
    "    S2_AB_arr_fast[i] = np.sum(C_AB) - S2_AA_arr[i]\n",
    "    S2_BB_arr_fast[i] = np.sum(C) + S2_AA_arr[i] - 2*np.sum(C_AB)"
   ]
  },
  {
   "cell_type": "code",
   "execution_count": 373,
   "metadata": {
    "scrolled": true
   },
   "outputs": [
    {
     "data": {
      "image/png": "[encoded data removed]",
      "text/plain": [
       "<Figure size 720x576 with 1 Axes>"
      ]
     },
     "metadata": {
      "needs_background": "light"
     },
     "output_type": "display_data"
    }
   ],
   "source": [
    "plt.figure(figsize=(10,8))\n",
    "font = {'family' : 'serif',\n",
    "        'weight':'normal',\n",
    "        'size': 18}\n",
    "plt.rc('font', **font)\n",
    "\n",
    "plt.plot(k_vec, S2_BB_arr_fast, label = \"used relation\")\n",
    "plt.plot(k_vec, S2_BB_arr, label = \"slow\", linestyle = \"--\")\n",
    "# plt.plot(k_vec, s2AA_stat, label = \"wlcstat N = \" + str(N))\n",
    "# plt.plot(k_vec, debye_arr, label = \"debye homo N = \" + str(N), linestyle = \"--\")\n",
    "\n",
    "plt.xscale('log')\n",
    "plt.yscale('log')\n",
    "\n",
    "plt.title(\"S2 BB\")\n",
    "plt.xlabel(r'$K$')\n",
    "plt.ylabel(r'Structure Factor $S_{2}(K;N)$')\n",
    "plt.xlim((1e-2, 1e2))\n",
    "plt.tight_layout()\n",
    "plt.legend()\n",
    "plt.show()"
   ]
  },
  {
   "cell_type": "code",
   "execution_count": null,
   "metadata": {},
   "outputs": [],
   "source": []
  },
  {
   "cell_type": "code",
   "execution_count": null,
   "metadata": {},
   "outputs": [],
   "source": []
  },
  {
   "cell_type": "code",
   "execution_count": 377,
   "metadata": {
    "scrolled": true
   },
   "outputs": [
    {
     "data": {
      "image/png": "[encoded data removed]",
      "text/plain": [
       "<Figure size 720x576 with 1 Axes>"
      ]
     },
     "metadata": {
      "needs_background": "light"
     },
     "output_type": "display_data"
    }
   ],
   "source": [
    "plt.figure(figsize=(10,8))\n",
    "font = {'family' : 'serif',\n",
    "        'weight':'normal',\n",
    "        'size': 18}\n",
    "plt.rc('font', **font)\n",
    "\n",
    "plt.plot(k_vec, S2_BB_arr_fast, label = \"BBused relation\", linestyle = \"--\")\n",
    "plt.plot(k_vec, S2_AA_arr, label = \"AA\")\n",
    "plt.plot(k_vec, S2_AB_arr_fast, label = \"ABused relation\")\n",
    "# plt.plot(k_vec, S2_BB_arr, label = \"slow\", linestyle = \"--\")\n",
    "# plt.plot(k_vec, s2AA_stat, label = \"wlcstat N = \" + str(N))\n",
    "# plt.plot(k_vec, debye_arr, label = \"debye homo N = \" + str(N), linestyle = \"--\")\n",
    "\n",
    "plt.xscale('log')\n",
    "plt.yscale('log')\n",
    "\n",
    "plt.title(\"S2 BB\")\n",
    "plt.xlabel(r'$K$')\n",
    "plt.ylabel(r'Structure Factor $S_{2}(K;N)$')\n",
    "plt.xlim((1e-2, 1e2))\n",
    "plt.tight_layout()\n",
    "plt.legend()\n",
    "plt.show()"
   ]
  },
  {
   "cell_type": "code",
   "execution_count": null,
   "metadata": {},
   "outputs": [],
   "source": []
  },
  {
   "cell_type": "code",
   "execution_count": null,
   "metadata": {},
   "outputs": [],
   "source": [
    "# invert, stability analysis AB BA vs AA BB"
   ]
  },
  {
   "cell_type": "code",
   "execution_count": 459,
   "metadata": {
    "scrolled": false
   },
   "outputs": [
    {
     "name": "stderr",
     "output_type": "stream",
     "text": [
      "<ipython-input-459-c714ce7b4c47>:58: RuntimeWarning: overflow encountered in multiply\n",
      "  C += np.tril(one * np.exp(-x_m*(j1minusj2_mat)) * integral * (1/M**2), k = -1)\n",
      "<ipython-input-459-c714ce7b4c47>:62: RuntimeWarning: overflow encountered in multiply\n",
      "  C += np.triu(one * np.exp(-x_m*(j2minusj1_mat)) * integral * (1/M**2), k = 1)\n",
      "<ipython-input-459-c714ce7b4c47>:54: RuntimeWarning: overflow encountered in exp\n",
      "  integral = (1/(x_m**2)) * (np.exp(x_m) + np.exp(-x_m) - 2) #for off-diagonal terms\n",
      "<ipython-input-459-c714ce7b4c47>:58: RuntimeWarning: overflow encountered in exp\n",
      "  C += np.tril(one * np.exp(-x_m*(j1minusj2_mat)) * integral * (1/M**2), k = -1)\n",
      "<ipython-input-459-c714ce7b4c47>:58: RuntimeWarning: invalid value encountered in multiply\n",
      "  C += np.tril(one * np.exp(-x_m*(j1minusj2_mat)) * integral * (1/M**2), k = -1)\n",
      "<ipython-input-459-c714ce7b4c47>:62: RuntimeWarning: overflow encountered in exp\n",
      "  C += np.triu(one * np.exp(-x_m*(j2minusj1_mat)) * integral * (1/M**2), k = 1)\n",
      "<ipython-input-459-c714ce7b4c47>:62: RuntimeWarning: invalid value encountered in multiply\n",
      "  C += np.triu(one * np.exp(-x_m*(j2minusj1_mat)) * integral * (1/M**2), k = 1)\n"
     ]
    }
   ],
   "source": [
    "#S_BB calc fast\n",
    "\n",
    "#Mono matrix:\n",
    "\n",
    "poly_mat = np.array([[1, 1], [0, 0]]) #matrix where num rows = num polymers\n",
    "\n",
    "#TODO: handle special case where polymat only has one polymer\n",
    "#then implement previous algorithm; have alph1 and alph2 be 1D \n",
    "n_p = poly_mat.shape[0]\n",
    "M = poly_mat.shape[1]\n",
    "# alph1 =np.zeros((M, M))\n",
    "# alph2 =np.zeros((M, M))\n",
    "alph1 =np.ones((n_p, M))\n",
    "alph2 =np.ones((n_p, M))\n",
    "\n",
    "\n",
    "sigma1 = 1*((poly_mat == alph1))#.sum(axis = 0) #sigma. could multiply each\n",
    "sigma2 = 1*((poly_mat == alph2))#.sum(axis = 0)\n",
    "\n",
    "# mat_Vect_two = np.matmul(sub1, sub2) * (1/n_p)\n",
    "\n",
    "#need to do each row outer product with corresponding row, get n_p MxM matrices, then sum the results\n",
    "prods = np.einsum('bi,bo->bio', sigma1, sigma2) # performing row wise cross product (each poly contribution)\n",
    "monomer_mat = np.sum(prods, axis = 0) / n_p # averaging each contribution\n",
    "\n",
    "#k-dependenece\n",
    "N_m = 1\n",
    "b = 1\n",
    "\n",
    "k0 = 1e-2\n",
    "kf = 1e2\n",
    "nk = 50\n",
    "k_vec = np.logspace(np.log10(k0), np.log10(kf), nk)\n",
    "\n",
    "\n",
    "one = np.ones((M,M))\n",
    "grid = np.indices((M, M))\n",
    "S2_AA_arr = np.zeros(nk)\n",
    "S2_AB_arr_fast = np.zeros(nk)\n",
    "S2_BB_arr_fast = np.zeros(nk)\n",
    "\n",
    "\n",
    "H_AA = np.diag(monomer_mat)\n",
    "H_AA_mat = (H_AA * np.ones((M, M))).T\n",
    "for i, k in enumerate(k_vec):\n",
    "    C = np.zeros((M, M))\n",
    "    x_m = (1/6) * N_m * b**2 * k**2\n",
    "    \n",
    "    #j1 = j2\n",
    "    debye = (2/(x_m**2)) * (x_m + np.exp(-x_m) - 1) * (1/M**2)\n",
    "\n",
    "    np.fill_diagonal(C, np.diag(one * debye))\n",
    "\n",
    "    integral = (1/(x_m**2)) * (np.exp(x_m) + np.exp(-x_m) - 2) #for off-diagonal terms\n",
    "\n",
    "    #j1 > j2\n",
    "    j1minusj2_mat = grid[0] - grid[1]\n",
    "    C += np.tril(one * np.exp(-x_m*(j1minusj2_mat)) * integral * (1/M**2), k = -1)\n",
    "\n",
    "    #j2 > j1\n",
    "    j2minusj1_mat = -1 * j1minusj2_mat\n",
    "    C += np.triu(one * np.exp(-x_m*(j2minusj1_mat)) * integral * (1/M**2), k = 1) \n",
    "    S2_AA_arr[i] = np.sum(C * monomer_mat)\n",
    "    \n",
    "    \n",
    "    C_AB = H_AA_mat * C\n",
    "    S2_AB_arr_fast[i] = np.sum(C_AB) - S2_AA_arr[i]\n",
    "    S2_BB_arr_fast[i] = np.sum(C) + S2_AA_arr[i] - 2*np.sum(C_AB)"
   ]
  },
  {
   "cell_type": "code",
   "execution_count": 460,
   "metadata": {},
   "outputs": [],
   "source": [
    "det = S2_AA_arr * S2_BB_arr_fast - S2_AB_arr_fast**2\n",
    "S2_AA_inv = S2_BB_arr_fast * (1/det)\n",
    "S2_AB_inv = -S2_AB_arr_fast * (1/det)\n",
    "S2_BB_inv = S2_AA_arr * (1/det)\n",
    "\n",
    "# G2 = (0.5*np.array([[S2_AA_inv, S2_AB_inv], [S2_AB_inv, S2_BB_inv]])).T.reshape(len(k_vec), 2, 2) #@ chi = 0\n",
    "\n",
    "G2 = 0.5*(S2_AA_inv - 2* S2_AB_inv + S2_BB_inv)\n",
    "\n",
    "# eigvalues,eigvectors = np.linalg.eigh(G2)\n",
    "eigvalues_lst = G2\n",
    "min_eig = np.min(eigvalues_lst[~np.isnan(eigvalues_lst)])\n",
    "\n",
    "k_star = k_vec[np.where(eigvalues_lst==min_eig)[0]][0]\n",
    "    "
   ]
  },
  {
   "cell_type": "code",
   "execution_count": 461,
   "metadata": {},
   "outputs": [
    {
     "data": {
      "text/plain": [
       "2.0000212974386704"
      ]
     },
     "execution_count": 461,
     "metadata": {},
     "output_type": "execute_result"
    }
   ],
   "source": [
    "min_eig"
   ]
  },
  {
   "cell_type": "code",
   "execution_count": 462,
   "metadata": {},
   "outputs": [
    {
     "data": {
      "text/plain": [
       "0.01"
      ]
     },
     "execution_count": 462,
     "metadata": {},
     "output_type": "execute_result"
    }
   ],
   "source": [
    "k_star"
   ]
  },
  {
   "cell_type": "code",
   "execution_count": 400,
   "metadata": {},
   "outputs": [],
   "source": [
    "#CLEAN UP< DEFINE FUNCTIONS!!!!"
   ]
  },
  {
   "cell_type": "code",
   "execution_count": 249,
   "metadata": {},
   "outputs": [
    {
     "data": {
      "text/plain": [
       "(613216.6657296097+7.508889980624683e-11j)"
      ]
     },
     "execution_count": 249,
     "metadata": {},
     "output_type": "execute_result"
    }
   ],
   "source": [
    "# s2AA_vert = s2wlc(pset, N, FA, K, sequence='all')[0][0]\n",
    "# s2AA_vert"
   ]
  },
  {
   "cell_type": "code",
   "execution_count": 432,
   "metadata": {},
   "outputs": [
    {
     "data": {
      "text/plain": [
       "(array([[0.2451816+0.j]]), array([[0.22635761+0.j]]), array([[0.2451816+0.j]]))"
      ]
     },
     "execution_count": 432,
     "metadata": {},
     "output_type": "execute_result"
    }
   ],
   "source": [
    "# s2 = wlcstruc.s2_wlc(k_vec, 100000, dimensions = 3, alpha_max = 25)\n",
    "N = 2.\n",
    "wlc_copoly.s2_wlc_diblock([1], N, FA, dimensions=3, alpha_max=25)#[0]"
   ]
  },
  {
   "cell_type": "code",
   "execution_count": null,
   "metadata": {},
   "outputs": [],
   "source": []
  }
 ],
 "metadata": {
  "kernelspec": {
   "display_name": "Python 3",
   "language": "python",
   "name": "python3"
  },
  "language_info": {
   "codemirror_mode": {
    "name": "ipython",
    "version": 3
   },
   "file_extension": ".py",
   "mimetype": "text/x-python",
   "name": "python",
   "nbconvert_exporter": "python",
   "pygments_lexer": "ipython3",
   "version": "3.8.5"
  }
 },
 "nbformat": 4,
 "nbformat_minor": 4
}
