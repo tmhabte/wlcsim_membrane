{
 "cells": [
  {
   "cell_type": "code",
   "execution_count": 11,
   "metadata": {},
   "outputs": [],
   "source": [
    "import numpy as np"
   ]
  },
  {
   "cell_type": "code",
   "execution_count": 98,
   "metadata": {},
   "outputs": [],
   "source": [
    "# given a (set of) polymer structure, create a set of M^(2) connectivity matrices\n",
    "\n",
    "poly = [1, 1, 0, 0]\n",
    "n_p = 1\n",
    "M = len(poly)\n",
    "alph1 =1\n",
    "alph2 =0\n",
    "\n",
    "mat = np.zeros((M, M)) #MxM \n",
    "\n",
    "for j1,M1 in enumerate(poly):\n",
    "    for j2,M2 in enumerate(poly):\n",
    "#         print(\"M1 = \", M1)\n",
    "#         print(M2)\n",
    "#         print((M1 == alph1) * (M2 == alph2))\n",
    "        mat[j1, j2] += (1/n_p) * (M1 == alph1) * (M2 == alph2)# TODO how to implement indicator vairalbe\n",
    "        \n",
    "#TODO consider multiple polymer types"
   ]
  },
  {
   "cell_type": "code",
   "execution_count": 99,
   "metadata": {},
   "outputs": [
    {
     "data": {
      "text/plain": [
       "array([[0., 0., 1., 1.],\n",
       "       [0., 0., 1., 1.],\n",
       "       [0., 0., 0., 0.],\n",
       "       [0., 0., 0., 0.]])"
      ]
     },
     "execution_count": 99,
     "metadata": {},
     "output_type": "execute_result"
    }
   ],
   "source": [
    "mat"
   ]
  },
  {
   "cell_type": "code",
   "execution_count": 221,
   "metadata": {},
   "outputs": [],
   "source": [
    "#vectorized single poly\n",
    "\n",
    "\n",
    "poly = np.array([1, 1, 0, 0])\n",
    "n_p = 1\n",
    "M = len(poly)\n",
    "alph1 =np.ones(M)\n",
    "alph2 =np.ones(M)\n",
    "sub1 = 1*(poly == alph1)\n",
    "sub2 = 1*(poly == alph2)\n",
    "mat_Vect = np.outer(sub1, sub2)"
   ]
  },
  {
   "cell_type": "code",
   "execution_count": 222,
   "metadata": {
    "scrolled": true
   },
   "outputs": [
    {
     "data": {
      "text/plain": [
       "array([[1, 1, 0, 0],\n",
       "       [1, 1, 0, 0],\n",
       "       [0, 0, 0, 0],\n",
       "       [0, 0, 0, 0]])"
      ]
     },
     "execution_count": 222,
     "metadata": {},
     "output_type": "execute_result"
    }
   ],
   "source": [
    "mat_Vect"
   ]
  },
  {
   "cell_type": "code",
   "execution_count": 189,
   "metadata": {},
   "outputs": [],
   "source": [
    "#vectorized multi poly. inly considering equal amounts of each polymer. TODO- consider unequal amounts. Manipulate simga?\n",
    "\n",
    "poly_mat = np.array([[1, 0], [0, 1], [1, 1]]) #matrix where num rows = num polymers\n",
    "# poly_mat = np.array([[0, 0],[1, 1]]) #matrix where num rows = num polymers\n",
    "\n",
    "# poly_mat = np.array([1, 0])\n",
    "\n",
    "#TODO: handle special case where polymat only has one polymer\n",
    "#then implement previous algorithm; have alph1 and alph2 be 1D \n",
    "n_p = poly_mat.shape[0]\n",
    "M = poly_mat.shape[1]\n",
    "# alph1 =np.zeros((M, M))\n",
    "# alph2 =np.zeros((M, M))\n",
    "alph1 =np.ones((n_p, M))\n",
    "alph2 =np.ones((n_p, M))\n",
    "\n",
    "\n",
    "sigma1 = 1*((poly_mat == alph1))#.sum(axis = 0) #sigma. could multiply each\n",
    "sigma2 = 1*((poly_mat == alph2))#.sum(axis = 0)\n",
    "\n",
    "# mat_Vect_two = np.matmul(sub1, sub2) * (1/n_p)\n",
    "\n",
    "#need to do each row outer product with corresponding row, get n_p MxM matrices, then sum the results\n",
    "prods = np.einsum('bi,bo->bio', sigma1, sigma2) # performing row wise cross product (each poly contribution)\n",
    "mat_Vect_two = np.sum(prods, axis = 0) / n_p # averaging each contribution"
   ]
  },
  {
   "cell_type": "code",
   "execution_count": 229,
   "metadata": {},
   "outputs": [],
   "source": [
    "# Have M. Now need to multiple upper triangle, lower triangle, and diagonal by sf components (construct C matrix, mat mul the)\n",
    "#  (the debye func at diag, and the apprprt exp(-xm j(1or2) - j (2or1)) * 1/xm2 blah blah)\n",
    "N_m = 1\n",
    "b = 1\n",
    "k = 1#np.array([1, 2, 3])\n",
    "\n",
    "x_m = (1/6) * N_m * b**2 * k**2\n",
    "\n",
    "C = np.zeros((M, M))\n",
    "one = np.ones((M,M))\n",
    "grid = np.indices((M, M))\n",
    "\n",
    "\n",
    "j1 = j2\n",
    "debye = (2/(x_m**2)) * (x_m + np.exp(-x_m) - 1) \n",
    "np.fill_diagonal(C, np.diag(one * debye))\n",
    "\n",
    "integral = (1/(x_m**2)) * (np.exp(x_m) + np.exp(-x_m) - 2) #for off-diagonal terms\n",
    "\n",
    "#j1 > j2\n",
    "j1minusj2_mat = grid[0] - grid[1]\n",
    "C += np.tril(one * np.exp(-x_m*(j1minusj2_mat)) * integral, k = -1)\n",
    "\n",
    "#j2 > j1\n",
    "j2minusj1_mat = -1 * j1minusj2_mat\n",
    "C += np.triu(one * np.exp(-x_m*(j2minusj1_mat)) * integral, k = 1)\n",
    " \n",
    "#isnt j2minusj1 and j1minusj2 the same?? since only done in special case where the one is bigger than the other?"
   ]
  },
  {
   "cell_type": "code",
   "execution_count": 230,
   "metadata": {},
   "outputs": [],
   "source": [
    "S2_AA = np.sum(C * mat_Vect)"
   ]
  },
  {
   "cell_type": "code",
   "execution_count": 231,
   "metadata": {},
   "outputs": [
    {
     "data": {
      "text/plain": [
       "3.5902543613128177"
      ]
     },
     "execution_count": 231,
     "metadata": {},
     "output_type": "execute_result"
    }
   ],
   "source": [
    "S2_AA"
   ]
  },
  {
   "cell_type": "code",
   "execution_count": null,
   "metadata": {},
   "outputs": [],
   "source": [
    "# compare to Vertex/wlcstat codebase at discrete ks\n",
    "# vectorize wrt k !"
   ]
  },
  {
   "cell_type": "code",
   "execution_count": null,
   "metadata": {},
   "outputs": [],
   "source": []
  },
  {
   "cell_type": "code",
   "execution_count": null,
   "metadata": {},
   "outputs": [],
   "source": [
    "#Now derive conversion rules from AA to AB and BB (G_AA, GAB, G_BB in notes. Re derive!!!!!). \n",
    "#Compare to vertex/wlcstat!!\n"
   ]
  }
 ],
 "metadata": {
  "kernelspec": {
   "display_name": "Python 3",
   "language": "python",
   "name": "python3"
  },
  "language_info": {
   "codemirror_mode": {
    "name": "ipython",
    "version": 3
   },
   "file_extension": ".py",
   "mimetype": "text/x-python",
   "name": "python",
   "nbconvert_exporter": "python",
   "pygments_lexer": "ipython3",
   "version": "3.8.5"
  }
 },
 "nbformat": 4,
 "nbformat_minor": 4
}
