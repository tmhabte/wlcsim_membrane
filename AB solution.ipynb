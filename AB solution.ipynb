{
 "cells": [
  {
   "cell_type": "markdown",
   "metadata": {},
   "source": [
    "Questions:\n",
    "- how to vary the amount of solvent? if implicityl defined"
   ]
  },
  {
   "cell_type": "code",
   "execution_count": 1,
   "metadata": {
    "scrolled": true
   },
   "outputs": [
    {
     "name": "stderr",
     "output_type": "stream",
     "text": [
      "C:\\Users\\tmhab\\anaconda3\\lib\\site-packages\\numpy\\core\\getlimits.py:174: RuntimeWarning: divide by zero encountered in exp2\n",
      "  eps=exp2(ld(-112)),\n",
      "C:\\Users\\tmhab\\anaconda3\\lib\\site-packages\\numpy\\core\\getlimits.py:53: RuntimeWarning: divide by zero encountered in log10\n",
      "  self.precision = int(-log10(self.eps))\n",
      "C:\\Users\\tmhab\\anaconda3\\lib\\site-packages\\numpy\\core\\getlimits.py:54: RuntimeWarning: divide by zero encountered in power\n",
      "  self.resolution = float_to_float(float_conv(10) ** (-self.precision))\n",
      "C:\\Users\\tmhab\\anaconda3\\lib\\site-packages\\numpy\\core\\getlimits.py:186: RuntimeWarning: divide by zero encountered in exp2\n",
      "  epsneg_f80 = exp2(ld(-64))\n",
      "C:\\Users\\tmhab\\anaconda3\\lib\\site-packages\\numpy\\core\\getlimits.py:187: RuntimeWarning: divide by zero encountered in exp2\n",
      "  tiny_f80 = exp2(ld(-16382))\n",
      "C:\\Users\\tmhab\\anaconda3\\lib\\site-packages\\numpy\\core\\getlimits.py:201: RuntimeWarning: divide by zero encountered in exp2\n",
      "  eps=exp2(ld(-63)),\n",
      "C:\\Users\\tmhab\\anaconda3\\lib\\site-packages\\numpy\\core\\getlimits.py:214: RuntimeWarning: divide by zero encountered in nextafter\n",
      "  if hasattr(umath, 'nextafter')  # Missing on some platforms?\n",
      "C:\\Users\\tmhab\\anaconda3\\lib\\site-packages\\numpy\\core\\getlimits.py:226: RuntimeWarning: divide by zero encountered in exp2\n",
      "  eps=exp2(ld(-105)),\n",
      "C:\\Users\\tmhab\\anaconda3\\lib\\site-packages\\numpy\\core\\getlimits.py:227: RuntimeWarning: divide by zero encountered in exp2\n",
      "  epsneg= exp2(ld(-106)),\n",
      "C:\\Users\\tmhab\\anaconda3\\lib\\site-packages\\numpy\\core\\getlimits.py:229: RuntimeWarning: divide by zero encountered in exp2\n",
      "  tiny=exp2(ld(-1022)))\n",
      "C:\\Users\\tmhab\\anaconda3\\lib\\site-packages\\numpy\\__init__.py:252: RuntimeWarning: divide by zero encountered in subtract\n",
      "  if not abs(x.dot(x) - 2.0) < 1e-5:\n",
      "C:\\Users\\tmhab\\anaconda3\\lib\\site-packages\\numpy\\__init__.py:252: RuntimeWarning: divide by zero encountered in absolute\n",
      "  if not abs(x.dot(x) - 2.0) < 1e-5:\n"
     ]
    }
   ],
   "source": [
    "import numpy as np\n",
    "np.seterr(divide='ignore')\n",
    "import matplotlib.pyplot as plt\n",
    "from mpl_toolkits import mplot3d\n",
    "import pandas as pd\n",
    "import wlcave as wlcave #need to path correctly!\n",
    "import matplotlib.cm as cm\n",
    "import sys\n",
    "\n",
    "#for data processing\n",
    "import os\n",
    "import operator\n",
    "import xlrd"
   ]
  },
  {
   "cell_type": "markdown",
   "metadata": {},
   "source": [
    "## Original ABsolution\n",
    "2000 polymers\n",
    "X_A-solvent = X_B-solvent = 0\n",
    "\n",
    "F_a = 0.5, f_b = 0.5"
   ]
  },
  {
   "cell_type": "code",
   "execution_count": 2,
   "metadata": {},
   "outputs": [],
   "source": [
    "\n",
    "# phi_path_orig = \"C:\\\\users/tmhab/wlcsim_membrane/data/AB_solution/unedited/5.10.2021_ABsolution_ORIGINAL_rigid_kappa=20_24hrs/all_phis/\"\n",
    "# rephist_path_orig = \"C:\\\\users/tmhab/wlcsim_membrane/data/AB_solution/unedited/5.10.2021_ABsolution_ORIGINAL_rigid_kappa=20_24hrs/finalrep.xlsx\"\n",
    "# r_path_orig = \"C:\\\\users/tmhab/wlcsim_membrane/data/AB_solution/unedited/5.10.2021_ABsolution_ORIGINAL_rigid_kappa=20_24hrs/all_rs/\""
   ]
  },
  {
   "cell_type": "markdown",
   "metadata": {},
   "source": [
    "## Original ABsolution\n",
    "1000 polymers\n",
    "X_A-solvent = X_B-solvent = 0\n",
    "\n",
    "F_a = 0.5, f_b = 0.5"
   ]
  },
  {
   "cell_type": "code",
   "execution_count": 3,
   "metadata": {},
   "outputs": [],
   "source": [
    "\n",
    "phi_path_orig = \"C:\\\\users/tmhab/wlcsim_membrane/data/AB_solution/unedited/5.12.2021_ABsolution_ORIGINAL_rigid_kappa=20_1000poly_24hrs/all_phis/\"\n",
    "rephist_path_orig = \"C:\\\\users/tmhab/wlcsim_membrane/data/AB_solution/unedited/5.12.2021_ABsolution_ORIGINAL_rigid_kappa=20_1000poly_24hrs/finalrep.xlsx\"\n",
    "r_path_orig = \"C:\\\\users/tmhab/wlcsim_membrane/data/AB_solution/unedited/5.12.2021_ABsolution_ORIGINAL_rigid_kappa=20_1000poly_24hrs/all_rs/\""
   ]
  },
  {
   "cell_type": "markdown",
   "metadata": {},
   "source": [
    "## Edited ABsolution\n",
    "2000 polymers\n",
    "X_A-B = X_B-solvent != 0\n",
    "\n",
    "X_A-solv = 0\n",
    "\n",
    "F_a = 0.5, f_b = 0.5"
   ]
  },
  {
   "cell_type": "code",
   "execution_count": 4,
   "metadata": {},
   "outputs": [],
   "source": [
    "\n",
    "phi_path_edit = \"C:\\\\users/tmhab/wlcsim_membrane/data/AB_solution/edited/5.9.2021_ABsolution_EDITED_rigid_kappa=20_24hrs/all_phis/\"\n",
    "rephist_path_edit = \"C:\\\\users/tmhab/wlcsim_membrane/data/AB_solution/edited/5.9.2021_ABsolution_EDITED_rigid_kappa=20_24hrs/finalrep.xlsx\"\n",
    "r_path_edit = \"C:\\\\users/tmhab/wlcsim_membrane/data/AB_solution/edited/5.9.2021_ABsolution_EDITED_rigid_kappa=20_24hrs/all_rs/\""
   ]
  },
  {
   "cell_type": "code",
   "execution_count": 5,
   "metadata": {},
   "outputs": [
    {
     "name": "stderr",
     "output_type": "stream",
     "text": [
      "C:\\Users\\tmhab\\anaconda3\\lib\\site-packages\\ipykernel_launcher.py:18: ParserWarning: Falling back to the 'python' engine because the 'c' engine does not support regex separators (separators > 1 char and different from '\\s+' are interpreted as regex); you can avoid this warning by specifying engine='python'.\n"
     ]
    }
   ],
   "source": [
    "'''PREPROCESSING:\n",
    "phi files- copy all into one folder\n",
    "get chi values from repHistory (copy last exchange into new notepad, import into excel, save)\n",
    "''' \n",
    "# load in phi files\n",
    "os.chdir(phi_path_orig)\n",
    "\n",
    "phi_df_list_orig = []\n",
    "v_val_list_orig = []\n",
    "for file in os.listdir():\n",
    "    file_path = f\"{phi_path_orig}\\{file}\"\n",
    "    \n",
    "    v_val = file_path[-2:]\n",
    "    if v_val[0] == \"v\":\n",
    "        v_val = v_val[1]\n",
    "    v_val = float(v_val) # smallest v = smallest chi\n",
    "        \n",
    "    file_df = pd.read_csv(file_path, delimiter = \"   |  -\", names = [\"Vol_A\", \"Vol_B\"])\n",
    "    \n",
    "    phi_df_list_orig.append([v_val, file_df])\n",
    "    v_val_list_orig.append(v_val)\n",
    "    del file_df\n",
    "\n",
    "phi_df_list_orig = sorted(phi_df_list_orig, key=operator.itemgetter(0))\n",
    "v_val_list_orig = sorted(v_val_list_orig)\n",
    "\n",
    "# load in rep history chis\n",
    "wb = xlrd.open_workbook(rephist_path_orig)\n",
    "ws = wb.sheet_by_index(0)\n",
    "chi_val_list_orig = ws.col_values(4)[1:]"
   ]
  },
  {
   "cell_type": "code",
   "execution_count": 6,
   "metadata": {},
   "outputs": [
    {
     "name": "stderr",
     "output_type": "stream",
     "text": [
      "C:\\Users\\tmhab\\anaconda3\\lib\\site-packages\\ipykernel_launcher.py:18: ParserWarning: Falling back to the 'python' engine because the 'c' engine does not support regex separators (separators > 1 char and different from '\\s+' are interpreted as regex); you can avoid this warning by specifying engine='python'.\n"
     ]
    }
   ],
   "source": [
    "'''PREPROCESSING:\n",
    "phi files- copy all into one folder\n",
    "get chi values from repHistory (copy last exchange into new notepad, import into excel, save)\n",
    "''' \n",
    "# load in phi files\n",
    "os.chdir(phi_path_edit)\n",
    "\n",
    "phi_df_list_edit = []\n",
    "v_val_list_edit = []\n",
    "for file in os.listdir():\n",
    "    file_path = f\"{phi_path_edit}\\{file}\"\n",
    "    \n",
    "    v_val = file_path[-2:]\n",
    "    if v_val[0] == \"v\":\n",
    "        v_val = v_val[1]\n",
    "    v_val = float(v_val) # smallest v = smallest chi\n",
    "        \n",
    "    file_df = pd.read_csv(file_path, delimiter = \"   |  -\", names = [\"Vol_A\", \"Vol_B\"])\n",
    "    \n",
    "    phi_df_list_edit.append([v_val, file_df])\n",
    "    v_val_list_edit.append(v_val)\n",
    "    del file_df\n",
    "\n",
    "phi_df_list_edit = sorted(phi_df_list_edit, key=operator.itemgetter(0))\n",
    "v_val_list_edit = sorted(v_val_list_edit)\n",
    "\n",
    "# load in rep history chis\n",
    "wb = xlrd.open_workbook(rephist_path_edit)\n",
    "ws = wb.sheet_by_index(0)\n",
    "chi_val_list_edit = ws.col_values(4)[1:]"
   ]
  },
  {
   "cell_type": "markdown",
   "metadata": {},
   "source": [
    "### Degree of mixing <phi_A* phi_B>"
   ]
  },
  {
   "cell_type": "code",
   "execution_count": 7,
   "metadata": {},
   "outputs": [],
   "source": [
    "phiA_B_list_orig = []\n",
    "for pair in phi_df_list_orig:\n",
    "    df_product = pair[1][\"Vol_A\"] * pair[1][\"Vol_B\"]\n",
    "    phiA_B = df_product.mean()\n",
    "    phiA_B_list_orig.append(phiA_B)\n",
    "\n",
    "#phiA_B_list_full_range = phiA_B_list\n"
   ]
  },
  {
   "cell_type": "code",
   "execution_count": 8,
   "metadata": {},
   "outputs": [
    {
     "name": "stdout",
     "output_type": "stream",
     "text": [
      "0.07597606697993928\n"
     ]
    },
    {
     "data": {
      "image/png": "[encoded data removed]",
      "text/plain": [
       "<Figure size 432x288 with 1 Axes>"
      ]
     },
     "metadata": {
      "needs_background": "light"
     },
     "output_type": "display_data"
    }
   ],
   "source": [
    "phiA_B_sum_list_orig = np.array([])\n",
    "phiA_B_std_list_orig = np.array([])\n",
    "for pair in phi_df_list_orig:\n",
    "    df = pair[1]\n",
    "    df_product = df[\"Vol_A\"] + df[\"Vol_B\"]\n",
    "    df_product.hist(alpha=0.1, grid=False)\n",
    "    phiA_B_std_list_orig = np.append(phiA_B_std_list_orig, df_product.std(0))\n",
    "    phiA_B_sum = df_product.mean()\n",
    "    phiA_B_sum_list_orig = np.append(phiA_B_sum_list_orig, phiA_B_sum)\n",
    "    \n",
    "plt.title(\"phi_polymer original\")\n",
    "plt.xlabel(\"phi_poly\")\n",
    "plt.ylabel(\"counts\")\n",
    "\n",
    "#print(phiA_B_sum_list_ninth)\n",
    "print(phiA_B_std_list_orig.mean())\n",
    "#63 histograms ontop of each other (1 hist per replica)\n",
    "# each hist has 8000 values of a bin's phi total"
   ]
  },
  {
   "cell_type": "code",
   "execution_count": 9,
   "metadata": {},
   "outputs": [],
   "source": [
    "phiA_B_list_edit = []\n",
    "for pair in phi_df_list_edit:\n",
    "    df_product = pair[1][\"Vol_A\"] * pair[1][\"Vol_B\"]\n",
    "    phiA_B = df_product.mean()\n",
    "    phiA_B_list_edit.append(phiA_B)\n",
    "\n",
    "#phiA_B_list_full_range = phiA_B_list\n"
   ]
  },
  {
   "cell_type": "code",
   "execution_count": 10,
   "metadata": {},
   "outputs": [
    {
     "name": "stdout",
     "output_type": "stream",
     "text": [
      "0.07406920018730037\n"
     ]
    },
    {
     "data": {
      "image/png": "[encoded data removed]",
      "text/plain": [
       "<Figure size 432x288 with 1 Axes>"
      ]
     },
     "metadata": {
      "needs_background": "light"
     },
     "output_type": "display_data"
    }
   ],
   "source": [
    "phiA_B_sum_list_edit = np.array([])\n",
    "phiA_B_std_list_edit = np.array([])\n",
    "for pair in phi_df_list_edit:\n",
    "    df = pair[1]\n",
    "    df_product = df[\"Vol_A\"] + df[\"Vol_B\"]\n",
    "    df_product.hist(alpha=0.1, grid=False)\n",
    "    phiA_B_std_list_edit = np.append(phiA_B_std_list_edit, df_product.std(0))\n",
    "    phiA_B_sum = df_product.mean()\n",
    "    phiA_B_sum_list_edit = np.append(phiA_B_sum_list_edit, phiA_B_sum)\n",
    "    \n",
    "plt.title(\"phi_polymer edited\")\n",
    "plt.xlabel(\"phi_poly\")\n",
    "plt.ylabel(\"counts\")\n",
    "\n",
    "#print(phiA_B_sum_list_ninth)\n",
    "print(phiA_B_std_list_edit.mean())\n"
   ]
  },
  {
   "cell_type": "code",
   "execution_count": 11,
   "metadata": {},
   "outputs": [
    {
     "data": {
      "text/plain": [
       "Text(0.5, 0, 'X*v_m')"
      ]
     },
     "execution_count": 11,
     "metadata": {},
     "output_type": "execute_result"
    },
    {
     "data": {
      "image/png": "[encoded data removed]",
      "text/plain": [
       "<Figure size 432x288 with 1 Axes>"
      ]
     },
     "metadata": {
      "needs_background": "light"
     },
     "output_type": "display_data"
    }
   ],
   "source": [
    "##### nondimensionalize x axis\n",
    "chi_vals_orig = np.array(chi_val_list_orig)\n",
    "chi_vals_edit = np.array(chi_val_list_edit)\n",
    "# bead_volume = 0.1 # simulation units\n",
    "# monomer_volume = 5 * bead_volume\n",
    "# chi = E/v_bead-> chi * vm = E/v_bead * (5 * v_bead) (E in terms of kTs!!)\n",
    "\n",
    "chi_v_m_orig = chi_vals_orig/0.2 \n",
    "chi_v_m_edit = chi_vals_edit/0.2 \n",
    "\n",
    "# original sim values\n",
    "plt.scatter(chi_v_m_orig, phiA_B_list_orig, color = \"tab:orange\")\n",
    "plt.plot(chi_v_m_orig, phiA_B_list_orig, label = \"original\", color = \"tab:orange\")\n",
    "\n",
    "# edited im values\n",
    "plt.scatter(chi_v_m_edit, phiA_B_list_edit, color = \"tab:blue\")\n",
    "plt.plot(chi_v_m_edit, phiA_B_list_edit, label = \"edited\", color = \"tab:blue\")\n",
    "\n",
    "plt.ylim((0, .25))\n",
    "#plt.vlines(0.6562*5, 0, 0.25, color = \"tab:blue\")\n",
    "\n",
    "# Estimating paper values\n",
    "chi_v_m_paper = [0, 1, 2, 3, 4, 5, 6, 7, 8, 9, 10]\n",
    "phiA_B_paper = [0.231, 0.225, 0.217, 0.199, 0.178, 0.16, 0.143, 0.131, 0.122, 0.107, 0.094] #imageJ\n",
    "plt.scatter(chi_v_m_paper, phiA_B_paper, color = \"tab:green\")\n",
    "plt.plot(chi_v_m_paper, phiA_B_paper, label = \"2017 soft matter\", color = \"tab:green\")\n",
    "\n",
    "plt.vlines(3.1, 0, 0.25, color = \"tab:blue\")\n",
    "plt.vlines(8.71, 0, 0.25, color = \"tab:red\")\n",
    "plt.legend()\n",
    "plt.ylabel(\"degree of mixing <phi_A*phi_B>\")\n",
    "plt.xlabel(\"X*v_m\")\n",
    "# significant deviation from paper. kappa val/ lack of parallel tempering (too big of X interval)"
   ]
  },
  {
   "cell_type": "markdown",
   "metadata": {},
   "source": [
    "### Heat capacity"
   ]
  },
  {
   "cell_type": "code",
   "execution_count": 12,
   "metadata": {},
   "outputs": [],
   "source": [
    "def slope(x1, y1, x2, y2):\n",
    "    m = (y2-y1)/(x2-x1)\n",
    "    return m\n",
    "\n",
    "\n",
    "slope_value=np.array([])\n",
    "x = chi_v_m_orig\n",
    "y = phiA_B_list_orig\n",
    "for i in range(len(y)-1):\n",
    "    i += 1\n",
    "    v=slope(x[i], y[i], x[i-1], y[i-1])\n",
    "    slope_value = np.append(slope_value, v)\n"
   ]
  },
  {
   "cell_type": "code",
   "execution_count": 13,
   "metadata": {},
   "outputs": [
    {
     "data": {
      "text/plain": [
       "Text(0.5, 1.0, 'original, 24hrs')"
      ]
     },
     "execution_count": 13,
     "metadata": {},
     "output_type": "execute_result"
    },
    {
     "data": {
      "image/png": "[encoded data removed]",
      "text/plain": [
       "<Figure size 432x288 with 1 Axes>"
      ]
     },
     "metadata": {
      "needs_background": "light"
     },
     "output_type": "display_data"
    }
   ],
   "source": [
    "y_vals = slope_value*-1\n",
    "x_vals = chi_v_m_orig[1:]\n",
    "sigma = 0.45 #paper- std dv = 0.45\n",
    "\n",
    "smoothed_vals = np.zeros(len(y_vals)+1)\n",
    "for i, x_val in enumerate(x_vals):\n",
    "    kernel = np.exp(-(x_vals - x_val) ** 2 / (2 * sigma ** 2)) #gaussian centerd at each point\n",
    "    kernel = kernel / sum(kernel) #normalize\n",
    "    smoothed_vals[i] = sum(y_vals * kernel)\n",
    "    \n",
    "plt.plot(x_vals, smoothed_vals[1:], color= \"tab:orange\")\n",
    "\n",
    "plt.vlines(3.1, -0.00, 0.024, color = \"tab:blue\") #post- kernel peaks, using image-J\n",
    "plt.vlines(8.71, -0.00, 0.018, color = \"tab:red\")\n",
    "plt.plot(chi_v_m_orig[1:], slope_value*-1, label = \"5.3.21\", color = \"tab:orange\", alpha=0.3)\n",
    "plt.ylabel(\"heat capacity\")\n",
    "plt.xlabel(\"X*v_m\")\n",
    "plt.title(\"original, 24hrs\")"
   ]
  },
  {
   "cell_type": "code",
   "execution_count": 14,
   "metadata": {},
   "outputs": [],
   "source": [
    "def slope(x1, y1, x2, y2):\n",
    "    m = (y2-y1)/(x2-x1)\n",
    "    return m\n",
    "\n",
    "\n",
    "slope_value=np.array([])\n",
    "x = chi_v_m_edit\n",
    "y = phiA_B_list_edit\n",
    "for i in range(len(y)-1):\n",
    "    i += 1\n",
    "    v=slope(x[i], y[i], x[i-1], y[i-1])\n",
    "    slope_value = np.append(slope_value, v)\n"
   ]
  },
  {
   "cell_type": "code",
   "execution_count": 15,
   "metadata": {},
   "outputs": [
    {
     "data": {
      "text/plain": [
       "Text(0.5, 1.0, 'edited, 24hrs')"
      ]
     },
     "execution_count": 15,
     "metadata": {},
     "output_type": "execute_result"
    },
    {
     "data": {
      "image/png": "[encoded data removed]",
      "text/plain": [
       "<Figure size 432x288 with 1 Axes>"
      ]
     },
     "metadata": {
      "needs_background": "light"
     },
     "output_type": "display_data"
    }
   ],
   "source": [
    "y_vals = slope_value*-1\n",
    "x_vals = chi_v_m_edit[1:]\n",
    "sigma = 0.45 #paper- std dv = 0.45\n",
    "\n",
    "smoothed_vals = np.zeros(len(y_vals)+1)\n",
    "for i, x_val in enumerate(x_vals):\n",
    "    kernel = np.exp(-(x_vals - x_val) ** 2 / (2 * sigma ** 2)) #gaussian centerd at each point\n",
    "    kernel = kernel / sum(kernel) #normalize\n",
    "    smoothed_vals[i] = sum(y_vals * kernel)\n",
    "    \n",
    "plt.plot(x_vals, smoothed_vals[1:], color= \"tab:orange\")\n",
    "\n",
    "plt.vlines(3.1, -0.00, 0.024, color = \"tab:blue\") #post- kernel peaks, using image-J\n",
    "plt.vlines(8.71, -0.00, 0.018, color = \"tab:red\")\n",
    "plt.plot(chi_v_m_edit[1:], slope_value*-1, label = \"5.3.21\", color = \"tab:orange\", alpha=0.3)\n",
    "plt.ylabel(\"heat capacity\")\n",
    "plt.xlabel(\"X*v_m\")\n",
    "plt.title(\"edited, 24hrs\")"
   ]
  },
  {
   "cell_type": "code",
   "execution_count": 16,
   "metadata": {},
   "outputs": [],
   "source": [
    "for pair in phi_df_list_orig:\n",
    "    del pair[1]\n",
    "    del pair[0]\n",
    "    del pair\n",
    "del phi_df_list_orig"
   ]
  },
  {
   "cell_type": "code",
   "execution_count": 17,
   "metadata": {},
   "outputs": [],
   "source": [
    "for pair in phi_df_list_edit:\n",
    "    del pair[1]\n",
    "    del pair[0]\n",
    "    del pair\n",
    "del phi_df_list_edit"
   ]
  },
  {
   "cell_type": "markdown",
   "metadata": {},
   "source": [
    "### Radius of gyration"
   ]
  },
  {
   "cell_type": "code",
   "execution_count": 18,
   "metadata": {},
   "outputs": [],
   "source": [
    "class Bead:\n",
    "    '''\n",
    "    '''\n",
    "    def __init__(self, x, y, z, bead_type):\n",
    "        self.x = x\n",
    "        self.y = y\n",
    "        self.z = z\n",
    "        self.bead_type = bead_type\n",
    "    \n",
    "    def print_bead(self):\n",
    "        print(\"x: \", self.x)\n",
    "        print(\"Y: \", self.y)\n",
    "        print(\"Z: \", self.z)\n",
    "        \n",
    "class Polymer:\n",
    "    '''\n",
    "    '''\n",
    "    \n",
    "    def __init__(self, bead_list):\n",
    "        self.bead_list = []\n",
    "        self.bead_list = bead_list\n",
    "        bead_coor_array = np.zeros((len(bead_list), 3))\n",
    "        bead_types = np.zeros(len(bead_list))\n",
    "        for i, bead in enumerate(bead_list):\n",
    "            bead_coor_array[i, 0] = bead.x\n",
    "            bead_coor_array[i, 1] = bead.y\n",
    "            bead_coor_array[i, 2] = bead.z\n",
    "            bead_types[i] = bead.bead_type\n",
    "        self.bead_coor_array = bead_coor_array\n",
    "        self.bead_types = bead_types\n",
    "    \n",
    "    def poly_print_bead_list(self):\n",
    "        for i, bead in enumerate(self.bead_list):\n",
    "            print(\"Bead \" + str(i) + \": \" + str(bead.x) + \", \" + str(bead.y) + \", \" + str(bead.z) + \" Type: \" + str(bead.bead_type))\n",
    "   \n",
    "    def find_center_of_mass(self): \n",
    "        '''\n",
    "        Find the center of mass for a given polymer chain wrt to a specific bead type\n",
    "        '''\n",
    "        #print(\"IN COM METHOD\")\n",
    "        X_bead = self.bead_coor_array[:,0]#[self.bead_types==bead_num] \n",
    "        Y_bead = self.bead_coor_array[:,1]#[self.bead_types==bead_num]\n",
    "        Z_bead = self.bead_coor_array[:,2]#[self.bead_types==bead_num]\n",
    "        \n",
    "        x_center = np.mean(X_bead)\n",
    "        y_center = np.mean(Y_bead)\n",
    "        z_center = np.mean(Z_bead)\n",
    "        \n",
    "        #print(\"COM: \", [x_center,y_center,z_center])\n",
    "        return [x_center,y_center,z_center]\n",
    "    \n",
    "#     def find_rg2(self): # INCORRECT- need to divid by total num of beads\n",
    "#         center_of_mass = self.find_center_of_mass()\n",
    "#         displacements = self.bead_coor_array - center_of_mass\n",
    "#         displacements_square = np.square(displacements)\n",
    "#         final_disp = np.sum(displacements_square, axis=1) #final disp square of sub polymer beads\n",
    "        \n",
    "#         radius_g_2 = np.sum(final_disp)\n",
    "        \n",
    "#         return radius_g_2\n",
    "    \n",
    "    def Radius_of_gyration_2(self):\n",
    "        center_of_mass_point = self.find_center_of_mass()\n",
    "        X_bead = self.bead_coor_array[:,0]#[self.bead_types==bead_num] \n",
    "        Y_bead = self.bead_coor_array[:,1]#[self.bead_types==bead_num]\n",
    "        Z_bead = self.bead_coor_array[:,2]#[self.bead_types==bead_num]\n",
    "        \n",
    "        n = X_bead.shape[0]\n",
    "        Rg2 = (np.sum((X_bead - center_of_mass_point[0])**2 + \n",
    "                    (Y_bead - center_of_mass_point[1])**2 + (Z_bead - center_of_mass_point[2])**2)/n)\n",
    "        #print(\"IN RADIUG OF GYR METHOD\")\n",
    "        #print(\"Rg2:\", Rg2)\n",
    "        return Rg2\n",
    "    \n",
    "class PolymerNetwork:\n",
    "    \"\"\"\n",
    "    This represents the postions of bead and their type (time invariant)\n",
    "    \n",
    "    Parameters\n",
    "    ----------\n",
    "    X : float [array] X \n",
    "    \"\"\"\n",
    "    \n",
    "    def __init__(self,X,Y,Z, Beads, beads_per_polymer=40, persistence_length=2.03):\n",
    "        self.X = X\n",
    "        self.Y = Y\n",
    "        self.Z = Z\n",
    "        self.Beads = Beads\n",
    "        self.beads_per_polymer = beads_per_polymer\n",
    "        self.bead_list = []\n",
    "        self.polymer_list = []\n",
    "        self.persistence_length = persistence_length\n",
    "        self.create_beads()\n",
    "        self.create_polymers()\n",
    "        \n",
    "        self.density = Beads.shape[0]/((max(X)-min(X)) * (max(Y)-min(Y)) * (max(Z)-min(Z)))\n",
    "        \n",
    "    def visualize(self):\n",
    "        fig = plt.figure()\n",
    "        ax = plt.axes(projection='3d')\n",
    "        ax.scatter3D(self.X[self.Beads==0], self.Y[self.Beads==0], self.Z[self.Beads==0],color='y')\n",
    "        ax.scatter3D(self.X[self.Beads==1], self.Y[self.Beads==1], self.Z[self.Beads==1],color='r')\n",
    "        ax.scatter3D(self.X[self.Beads==2], self.Y[self.Beads==2], self.Z[self.Beads==2],color='b')\n",
    "        \n",
    "    def nearest_neighbor(self,bead_num,radius):\n",
    "        '''\n",
    "        Find the average number of beads that surround a bead of the same type within the radius specified\n",
    "        '''\n",
    "        X_bead = self.X[Beads==bead_num]\n",
    "        Y_bead = self.Y[Beads==bead_num]\n",
    "        Z_bead = self.Z[Beads==bead_num]\n",
    "        \n",
    "        total_neighbors = 0\n",
    "        for i in range(Beads[Beads==bead_num].shape[0]):\n",
    "            point = np.array([X_bead[i],Y_bead[i],Z_bead[i]])\n",
    "            displacement = np.sqrt((X_bead - point[0])**2 + (Y_bead - point[1])**2 + (Z_bead - point[2])**2)\n",
    "            num_neighbor_points = displacement[displacement<=radius].shape[0] -1\n",
    "            \n",
    "            total_neighbors += num_neighbor_points\n",
    "\n",
    "        return total_neighbors/(i+1)\n",
    "    \n",
    "    def create_beads(self):\n",
    "        #if not hasattr(self, \"bead_list\"):\n",
    "        if len(self.bead_list) == 0:\n",
    "            for i in range(len(self.X)):\n",
    "                bead = Bead(self.X[i], self.Y[i], self.Z[i], self.Beads[i])\n",
    "                self.bead_list.append(bead)\n",
    "    \n",
    "    def print_bead_list(self):\n",
    "        for i, bead in enumerate(self.bead_list):\n",
    "            print(\"Bead \" + str(i) + \": \" + str(bead.x) + \", \" + str(bead.y) + \", \" + str(bead.z) + \" Type: \" + str(bead.bead_type))\n",
    "    \n",
    "    def create_polymers(self):\n",
    "        #if not hasattr(self, \"polymer_list\") and hasattr(self, \"bead_list\"):\n",
    "        if len(self.polymer_list) == 0 and len(self.bead_list) > 0:\n",
    "            for i in range(self.beads_per_polymer, len(self.bead_list) + 1, self.beads_per_polymer):\n",
    "                polymer = Polymer(self.bead_list[i - self.beads_per_polymer : i])\n",
    "                self.polymer_list.append(polymer)\n",
    "        \n",
    "    def print_polymer_list(self, verbose=False):\n",
    "        for i, poly in enumerate(self.polymer_list):\n",
    "            print(\"POLYMER \" + str(i))\n",
    "            if verbose:\n",
    "                poly.print_bead_list()\n",
    "# '''\n",
    "# Finds all posible percolation paths in the polylmer network, then plots them. Color indicates the number of beads in \n",
    "# the path\n",
    "# '''\n",
    "    def visualize_percolation_paths(self,connection_radius, x_lim = 1, y_lim = 1, z_lim = 1, bead_num=0):\n",
    "        #NEED TO MAKE MUCH FASTER!!!\n",
    "        X_bead = self.X[self.Beads==bead_num]\n",
    "        Y_bead = self.Y[self.Beads==bead_num]\n",
    "        Z_bead = self.Z[self.Beads==bead_num]\n",
    "        \n",
    "        #Build array to see if a bead has been used in a percolation collection yet (True means it hasn't been used)\n",
    "        ALL_PATHS = []  \n",
    "\n",
    "        \n",
    "#         bead = self.bead_list[4]\n",
    "#         starting_path = PercolationPath([bead])\n",
    "#         self.find_all_percolation_paths(starting_path, connection_radius, bead_num=0)\n",
    "#         #print(\"beads in path: \", starting_path.print_path())\n",
    "#         ALL_PATHS.append(starting_path)\n",
    "\n",
    "        ALL_PATHS = self.find_all_percolation_paths(connection_radius, bead_num)\n",
    "        fig = plt.figure()\n",
    "        ax = plt.axes(projection='3d')\n",
    "        \n",
    "        #print(len(ALL_PATHS))\n",
    "        max_path = PercolationPath([])\n",
    "        max_length = 0\n",
    "        \n",
    "        for path in ALL_PATHS:\n",
    "            if len(path.beads_in_path) > len(max_path.beads_in_path):\n",
    "                max_path = path\n",
    "                max_length = len(max_path.beads_in_path)\n",
    "            \n",
    "        for path in ALL_PATHS:\n",
    "            color = cm.rainbow(len(path.beads_in_path)/max_length - .01)\n",
    "            path.make_bead_coor_array()\n",
    "            X_vals = path.bead_coor_array[:, 0]\n",
    "            Y_vals = path.bead_coor_array[:, 1]\n",
    "            Z_vals = path.bead_coor_array[:, 2]\n",
    "            ax.scatter3D(X_vals, Y_vals, Z_vals, color=color)\n",
    "        plt.xlim([0, x_lim])\n",
    "        plt.ylim([0, y_lim])\n",
    "        ax.set_zlim(0, z_lim)\n",
    "        return len(ALL_PATHS)\n",
    "\n",
    "# '''\n",
    "# Finds all posible percolation paths within the polymer network. \n",
    "# Returns a list of percolation paths, which contain the list of beads in the given path\n",
    "# '''\n",
    "    def find_all_percolation_paths(self, connection_radius, bead_num=0):\n",
    "        all_paths = []\n",
    "        pathed_beads = []\n",
    "        for i, bead in enumerate(self.bead_list): # try all beads as starting bead to find percoaltion path\n",
    "            if i % 10000 == 0: # to monitor progress\n",
    "                print(\"on bead: \", i)\n",
    "                print(\"pathed_beads\", len(pathed_beads))\n",
    "            if (bead not in pathed_beads) and (bead.bead_type == bead_num): # no repeat beads\n",
    "                starting_path = PercolationPath([bead])\n",
    "                self.find_percolation_path(starting_path, connection_radius, bead_num)\n",
    "                #print(\"beads in path: \", starting_path.print_path())\n",
    "                all_paths.append(starting_path)\n",
    "                #print(\"old length of pathed beads\", len(pathed_beads))\n",
    "                pathed_beads += starting_path.beads_in_path\n",
    "                #print(\"new length of pathed beads\", len(pathed_beads))\n",
    "                \n",
    "        return all_paths\n",
    "\n",
    "# '''\n",
    "# Recursively finds a single percolation path given a current path with at least on bead in it.\n",
    "# Modifies current_path in place to be updated with all beads that make up a percolation path\n",
    "# '''    \n",
    "    def find_percolation_path(self, current_path, connection_radius, bead_num):\n",
    "        last_bead = current_path.beads_in_path[-1]\n",
    "        avail_beads = self.find_available_beads(last_bead, connection_radius, bead_num)\n",
    "        #print(\"Last bead\")\n",
    "        #print(last_bead.print_bead())\n",
    "        #print(\"Avail beads:\")\n",
    "        #for bead in avail_beads:\n",
    "            #bead.print_bead()\n",
    "        #base case- avail beads is empty, then do nothing\n",
    "        \n",
    "        #recursive case:\n",
    "        for bead in avail_beads:\n",
    "            if bead not in current_path.beads_in_path:\n",
    "                #print(\"efore adding bead: \", current_path.print_path)\n",
    "                current_path.beads_in_path.append(bead)\n",
    "                #print(\"after adding bead: \", current_path.print_path)\n",
    "                self.find_percolation_path(current_path, connection_radius, bead_num)\n",
    "            #return current_path\n",
    "        \n",
    "# '''\n",
    "# Finds all beads that are within the connection radius and have the given bead number\n",
    "# '''        \n",
    "    def find_available_beads(self, bead, connection_radius, bead_num):\n",
    "        #print(\"stuck on avail beads?\")\n",
    "        available_beads = []\n",
    "        displacement = np.sqrt((self.X - bead.x)**2 + (self.Y - bead.y)**2 + (self.Z - bead.z)**2)\n",
    "        neighbor_beads_index = np.where([displacement<=connection_radius])[1]\n",
    "        #print(\"neighbor_beads indices\", neighbor_beads_index)\n",
    "        #NEED TO FIND, OF THESE NEIGHBOR BEADS, WHICH IS THE FURTHEST??\n",
    "        for j in neighbor_beads_index:\n",
    "            neighbor_bead = self.bead_list[j]\n",
    "            if neighbor_bead.bead_type == bead_num:\n",
    "                available_beads.append(neighbor_bead)\n",
    "                \n",
    "        return available_beads\n",
    "    '''\n",
    "    find <r_g^2> for full lenght polymers in the network\n",
    "    '''\n",
    "    def find_rg2(self):\n",
    "        rad_g = np.array([])\n",
    "        for i, poly in enumerate(self.polymer_list):\n",
    "            rad_g = np.append(rad_g, poly.Radius_of_gyration_2())\n",
    "        return np.average(rad_g)"
   ]
  },
  {
   "cell_type": "code",
   "execution_count": 19,
   "metadata": {},
   "outputs": [],
   "source": [
    "'''PREPROCESSING:\n",
    "r files- copy all into one folder\n",
    "get chi values from same repHistory (copy last exchange into new notepad, import into excel, save)\n",
    "'''\n",
    "  \n",
    "# Change the directory\n",
    "os.chdir(r_path_orig)\n",
    "\n",
    "r_df_list_orig = []\n",
    "v_val_list_orig = []\n",
    "for file in os.listdir():\n",
    "    file_path = f\"{r_path_orig}\\{file}\"\n",
    "    \n",
    "    v_val = file_path[-2:]\n",
    "    if v_val[0] == \"v\":\n",
    "        v_val = v_val[1]\n",
    "    v_val = float(v_val) # smallest v = smallest chi\n",
    "    name_list = [\"X\", \"Y\", \"Z\", \"Type\"]        \n",
    "    file_df = pd.read_csv(file_path, names = name_list, delim_whitespace=True)#, delimiter = \" \")#\n",
    "    \n",
    "    r_df_list_orig.append([v_val, file_df])\n",
    "    v_val_list_orig.append(v_val)\n",
    "    del file_df\n",
    "r_df_list_orig = sorted(r_df_list_orig, key=operator.itemgetter(0))\n",
    "v_val_list_orig = sorted(v_val_list_orig)\n",
    "\n",
    "wb = xlrd.open_workbook(rephist_path_orig)\n",
    "ws = wb.sheet_by_index(0)\n",
    "chi_val_list_orig = ws.col_values(4)[1:]"
   ]
  },
  {
   "cell_type": "code",
   "execution_count": 20,
   "metadata": {},
   "outputs": [
    {
     "name": "stdout",
     "output_type": "stream",
     "text": [
      "did 0\n",
      "did 1\n",
      "did 2\n",
      "did 3\n",
      "did 4\n",
      "did 5\n",
      "did 6\n",
      "did 7\n",
      "did 8\n",
      "did 9\n",
      "did 10\n",
      "did 11\n",
      "did 12\n",
      "did 13\n",
      "did 14\n",
      "did 15\n",
      "did 16\n",
      "did 17\n",
      "did 18\n",
      "did 19\n",
      "did 20\n",
      "did 21\n",
      "did 22\n",
      "did 23\n",
      "did 24\n",
      "did 25\n",
      "did 26\n",
      "did 27\n",
      "did 28\n",
      "did 29\n",
      "did 30\n",
      "did 31\n",
      "did 32\n",
      "did 33\n",
      "did 34\n",
      "did 35\n",
      "did 36\n",
      "did 37\n",
      "did 38\n",
      "did 39\n",
      "did 40\n",
      "did 41\n",
      "did 42\n",
      "did 43\n",
      "did 44\n",
      "did 45\n",
      "did 46\n",
      "did 47\n",
      "did 48\n",
      "did 49\n",
      "did 50\n",
      "did 51\n",
      "did 52\n",
      "did 53\n",
      "did 54\n",
      "did 55\n",
      "did 56\n",
      "did 57\n",
      "did 58\n",
      "did 59\n",
      "did 60\n",
      "did 61\n"
     ]
    }
   ],
   "source": [
    "rg2_orig = []\n",
    "for i, pair in enumerate(r_df_list_orig):\n",
    "    df = pair[1]\n",
    "    poly_net = PolymerNetwork(df.X.values, df.Y.values, df.Z.values, df.Type.values, beads_per_polymer=40)   \n",
    "    rg2_orig.append(poly_net.find_rg2())\n",
    "    del poly_net"
   ]
  },
  {
   "cell_type": "code",
   "execution_count": 21,
   "metadata": {},
   "outputs": [
    {
     "data": {
      "text/plain": [
       "(18.8, 19.12)"
      ]
     },
     "execution_count": 21,
     "metadata": {},
     "output_type": "execute_result"
    },
    {
     "data": {
      "image/png": "[encoded data removed]",
      "text/plain": [
       "<Figure size 432x288 with 1 Axes>"
      ]
     },
     "metadata": {
      "needs_background": "light"
     },
     "output_type": "display_data"
    }
   ],
   "source": [
    "chi_vals_orig = np.array(chi_val_list_orig)\n",
    "chi_v_m_orig = chi_vals_orig/0.2\n",
    "plt.plot(chi_v_m_orig, rg2_orig)\n",
    "plt.scatter(chi_v_m_orig, rg2_orig)\n",
    "plt.ylabel(\"<R_g^2>\")\n",
    "plt.xlabel(\"X*v_m\")\n",
    "plt.title(\"original, 24hrs\")\n",
    "plt.ylim((18.8, 19.12))\n",
    "#avg over 1000 polymers in each replica"
   ]
  },
  {
   "cell_type": "code",
   "execution_count": 22,
   "metadata": {},
   "outputs": [],
   "source": [
    "'''PREPROCESSING:\n",
    "r files- copy all into one folder\n",
    "get chi values from same repHistory (copy last exchange into new notepad, import into excel, save)\n",
    "'''\n",
    "  \n",
    "# Change the directory\n",
    "os.chdir(r_path_edit)\n",
    "\n",
    "r_df_list_edit = []\n",
    "v_val_list_edit = []\n",
    "for file in os.listdir():\n",
    "    file_path = f\"{r_path_edit}\\{file}\"\n",
    "    \n",
    "    v_val = file_path[-2:]\n",
    "    if v_val[0] == \"v\":\n",
    "        v_val = v_val[1]\n",
    "    v_val = float(v_val) # smallest v = smallest chi\n",
    "    name_list = [\"X\", \"Y\", \"Z\", \"Type\"]        \n",
    "    file_df = pd.read_csv(file_path, names = name_list, delim_whitespace=True)#, delimiter = \" \")#\n",
    "    \n",
    "    r_df_list_edit.append([v_val, file_df])\n",
    "    v_val_list_edit.append(v_val)\n",
    "\n",
    "r_df_list_edit = sorted(r_df_list_edit, key=operator.itemgetter(0))\n",
    "v_val_list_edit = sorted(v_val_list_edit)\n",
    "\n",
    "wb = xlrd.open_workbook(rephist_path_edit)\n",
    "ws = wb.sheet_by_index(0)\n",
    "chi_val_list_edit = ws.col_values(4)[1:]"
   ]
  },
  {
   "cell_type": "code",
   "execution_count": null,
   "metadata": {},
   "outputs": [],
   "source": [
    "rg2_edit = []\n",
    "for i, pair in enumerate(r_df_list_edit):\n",
    "    df = pair[1]\n",
    "    poly_net = PolymerNetwork(df.X.values, df.Y.values, df.Z.values, df.Type.values, beads_per_polymer=40)   \n",
    "    rg2_edit.append(poly_net.find_rg2())"
   ]
  },
  {
   "cell_type": "code",
   "execution_count": null,
   "metadata": {},
   "outputs": [],
   "source": [
    "chi_vals_edit = np.array(chi_val_list_edit)\n",
    "chi_v_m_edit = chi_vals_edit/0.2\n",
    "plt.plot(chi_v_m_edit, rg2_edit)\n",
    "plt.scatter(chi_v_m_edit, rg2_edit)\n",
    "plt.ylabel(\"<R_g^2>\")\n",
    "plt.xlabel(\"X*v_m\")\n",
    "plt.title(\"edited, 24hrs\")\n",
    "plt.ylim((18.8, 19.12))\n",
    "#avg over 1000 polymers in each replica"
   ]
  },
  {
   "cell_type": "code",
   "execution_count": null,
   "metadata": {},
   "outputs": [],
   "source": []
  }
 ],
 "metadata": {
  "kernelspec": {
   "display_name": "Python 3",
   "language": "python",
   "name": "python3"
  },
  "language_info": {
   "codemirror_mode": {
    "name": "ipython",
    "version": 3
   },
   "file_extension": ".py",
   "mimetype": "text/x-python",
   "name": "python",
   "nbconvert_exporter": "python",
   "pygments_lexer": "ipython3",
   "version": "3.7.6"
  }
 },
 "nbformat": 4,
 "nbformat_minor": 4
}
