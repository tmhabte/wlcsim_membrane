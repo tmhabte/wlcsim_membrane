{
 "cells": [
  {
   "cell_type": "code",
   "execution_count": 38,
   "metadata": {},
   "outputs": [],
   "source": [
    "import numpy as np\n",
    "import pandas as pd\n",
    "from scipy import optimize\n",
    "\n",
    "from gaus_vertex import *"
   ]
  },
  {
   "cell_type": "code",
   "execution_count": 2,
   "metadata": {},
   "outputs": [],
   "source": [
    "# posible alternative to dataframes: write to csv directly. not necessary bc find_phase() is the bottleneck\n",
    "# from io import StringIO\n",
    "# from csv import writer "
   ]
  },
  {
   "cell_type": "code",
   "execution_count": 34,
   "metadata": {
    "scrolled": true
   },
   "outputs": [
    {
     "name": "stdout",
     "output_type": "stream",
     "text": [
      "Wall time: 11 s\n"
     ]
    }
   ],
   "source": [
    "%%time\n",
    "# faster! \n",
    "# for n_mixs data points, generates an array with colomns for each monomer in mix, \n",
    "# polymer relative volume fractions, chi value, and phase identification\n",
    "\n",
    "n_mixs = 100\n",
    "M = 2 # number of monomers per polymer\n",
    "N_m = 1000# length of monomer\n",
    "b = 1# kuhn length\n",
    "n_p = 10# number of polymer types per mix\n",
    "chi_array = np.arange(8, 25, 1)/(N_m*M)\n",
    "\n",
    "# generate polymers and densities\n",
    "rand_polys = np.random.choice(2,(n_mixs, n_p, M))\n",
    "rand_dens = np.random.dirichlet(np.ones(n_p),size=(1, n_mixs))[0]\n",
    "\n",
    "# assign phase to each mix\n",
    "data = pd.DataFrame(np.zeros((n_mixs*len(chi_array),M*n_p+n_p+2)))\n",
    "\n",
    "for i, mix in enumerate(rand_polys):\n",
    "    if not (np.all(mix == np.array([0]*M)) or np.all(mix == np.array([1]*M))): #in case all homopolymers (meaning no separation at all)\n",
    "        dens = rand_dens[i]\n",
    "        \n",
    "        res = find_phase(mix, dens, N_m, b, M, chi_array) #returns an array of phase results at a range of chi values\n",
    "        chis = res[::2]\n",
    "        phase_names = res[1::2]\n",
    "\n",
    "        polys = np.append(mix.flatten(), dens)\n",
    "        polys = np.vstack([polys]*len(chis)) #duplicate polys, since the mix is the same for the set of chis\n",
    "        \n",
    "        rows = np.column_stack((polys, chis, phase_names))\n",
    "        data.iloc[i*len(chis):i*len(chis)+len(chis)] = rows\n",
    "    else:\n",
    "        i-=1\n",
    "\n",
    "path = r\"C:\\Users\\Thomas\\Desktop\\structure_factor\\structure_factor\" + \"\\phase_data_M=\" + str(M) + \"_1e\" + str(np.log10(n_mixs)) + \".csv\"\n",
    "data.to_csv(path, index=False, header=False)"
   ]
  },
  {
   "cell_type": "code",
   "execution_count": 37,
   "metadata": {},
   "outputs": [
    {
     "data": {
      "text/plain": [
       "1.1574074074074074"
      ]
     },
     "execution_count": 37,
     "metadata": {},
     "output_type": "execute_result"
    }
   ],
   "source": [
    "10*10000/(60*60*24)"
   ]
  },
  {
   "cell_type": "code",
   "execution_count": null,
   "metadata": {},
   "outputs": [],
   "source": [
    "# transition to towers (JUST THE DATA-CREATION code)\n",
    "# time trials to see if old tower work( if i use like 5, how quckly)\n",
    "# RUN!! in parallel"
   ]
  },
  {
   "cell_type": "code",
   "execution_count": 7,
   "metadata": {
    "scrolled": false
   },
   "outputs": [
    {
     "name": "stdout",
     "output_type": "stream",
     "text": [
      "Wall time: 12.3 s\n"
     ]
    }
   ],
   "source": [
    "# %%time\n",
    "# #WORKS BUT SLOW\n",
    "# # for n_mixs data points, generates an array with colomns for each monomer in mix, \n",
    "# # polymer relative volume fractions, chi value, and phase identification\n",
    "\n",
    "# n_mixs = 100\n",
    "# M = 2 # number of monomers per polymer\n",
    "# N_m = 1# length of monomer\n",
    "# b = 1# kuhn length\n",
    "# n_p = 10# number of polymer types per mix\n",
    "# chi_array = np.arange(8, 25, 1)/(N_m*M)\n",
    "\n",
    "# # generate polymers and densities\n",
    "# rand_polys = np.random.choice(2,(n_mixs, n_p, M))\n",
    "# rand_dens = np.random.dirichlet(np.ones(n_p),size=(1, n_mixs))[0]\n",
    "\n",
    "# # assign phase to each mix\n",
    "# data = pd.DataFrame()\n",
    "\n",
    "# for i, mix in enumerate(rand_polys):\n",
    "#     if not np.all(mix == mix[0]): #in case all homopolymers (meaning no separation at all)\n",
    "#         dens = rand_dens[i]\n",
    "        \n",
    "#         res = find_phase(mix, dens, N_m, b, M, chi_array) #returns an array of phase results at a range of chi values\n",
    "#         chis = res[::2]\n",
    "#         phase_names = res[1::2]\n",
    "#         for i in range(len(chis)):\n",
    "# #             row = np.append(mix.flatten(), [dens.flatten(), float(chis[i]), phase_names[i]])\n",
    "#             row = np.append(np.append(mix.flatten(), dens), [float(chis[i]), phase_names[i]])\n",
    "#             row = pd.DataFrame(row).T\n",
    "            \n",
    "#             if len(data) == 0:\n",
    "#                 data = row\n",
    "#             else:\n",
    "#                 data = data.append(row)\n",
    "\n",
    "# # path = r\"C:\\Users\\Thomas\\Desktop\\structure_factor\\structure_factor\" + \"\\phase_data_M=\" + str(M) + \"_1e\" + str(np.log10(n_mixs)) + \".csv\"\n",
    "# # data.to_csv(path, index=False, header=False)"
   ]
  },
  {
   "cell_type": "code",
   "execution_count": null,
   "metadata": {},
   "outputs": [],
   "source": [
    "from sklearn.neural_network import MLPClassifier\n",
    "from sklearn.model_selection import train_test_split\n",
    "\n",
    "#split X (polys connectivity and densities) and Y (micro or macro)\n",
    "X = data.iloc[:,0:-1]\n",
    "y = data.iloc[:,-1]\n",
    "\n",
    "#train test split\n",
    "X_train, X_test, y_train, y_test = train_test_split(X,y,random_state=1, test_size=0.2)\n",
    "\n",
    "#generate MLP\n",
    "clf = MLPClassifier(hidden_layer_sizes=(32,32),activation=\"relu\",random_state=1).fit(X_train, y_train)\n",
    "\n",
    "train_score = clf.score(X_train, y_train)\n",
    "test_score = clf.score(X_test, y_test)\n",
    "\n",
    "#         acc_array = np.append(acc_array, np.array([M, n_mixs, train_score, test_score]))\n",
    "acc_array=np.array([])\n",
    "if len(acc_array) == 0:\n",
    "    acc_array = np.array([M, n_mixs, train_score, test_score])\n",
    "else:\n",
    "    acc_array = np.vstack([acc_array, np.array([M, n_mixs, train_score, test_score])])\n",
    "\n"
   ]
  },
  {
   "cell_type": "code",
   "execution_count": null,
   "metadata": {},
   "outputs": [],
   "source": [
    "acc_array"
   ]
  },
  {
   "cell_type": "code",
   "execution_count": null,
   "metadata": {},
   "outputs": [],
   "source": []
  }
 ],
 "metadata": {
  "kernelspec": {
   "display_name": "Python 3",
   "language": "python",
   "name": "python3"
  },
  "language_info": {
   "codemirror_mode": {
    "name": "ipython",
    "version": 3
   },
   "file_extension": ".py",
   "mimetype": "text/x-python",
   "name": "python",
   "nbconvert_exporter": "python",
   "pygments_lexer": "ipython3",
   "version": "3.8.5"
  }
 },
 "nbformat": 4,
 "nbformat_minor": 4
}
