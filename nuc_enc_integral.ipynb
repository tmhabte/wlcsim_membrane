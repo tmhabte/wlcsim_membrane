{
 "cells": [
  {
   "cell_type": "code",
   "execution_count": 1,
   "id": "f857681e",
   "metadata": {},
   "outputs": [],
   "source": [
    "import numpy as np\n",
    "import scipy as sp"
   ]
  },
  {
   "cell_type": "code",
   "execution_count": null,
   "id": "26ce0a15",
   "metadata": {},
   "outputs": [],
   "source": []
  },
  {
   "cell_type": "code",
   "execution_count": 17,
   "id": "a63db638",
   "metadata": {},
   "outputs": [
    {
     "data": {
      "text/plain": [
       "0.8427007929497148"
      ]
     },
     "execution_count": 17,
     "metadata": {},
     "output_type": "execute_result"
    }
   ],
   "source": [
    "sp.special.erf(1)"
   ]
  },
  {
   "cell_type": "code",
   "execution_count": 19,
   "id": "61648aad",
   "metadata": {},
   "outputs": [
    {
     "data": {
      "text/plain": [
       "array([0, 1, 2, 3, 4, 5, 6, 7, 8, 9, 0, 0, 0, 0, 0, 0, 0, 0, 0, 0])"
      ]
     },
     "execution_count": 19,
     "metadata": {},
     "output_type": "execute_result"
    }
   ],
   "source": [
    "(np.arange(0, 20, 1) < 10) * np.arange(0, 20, 1) "
   ]
  },
  {
   "cell_type": "code",
   "execution_count": 10,
   "id": "f4057f1d",
   "metadata": {},
   "outputs": [
    {
     "data": {
      "text/plain": [
       "1.124107657479161e-11"
      ]
     },
     "execution_count": 10,
     "metadata": {},
     "output_type": "execute_result"
    }
   ],
   "source": [
    "dlt = 1578\n",
    "xm_big = 0.211\n",
    "xm_small = 0.00211\n",
    "inc_gamma(2, dlt**(2/3)*xm_big)"
   ]
  },
  {
   "cell_type": "code",
   "execution_count": 21,
   "id": "63522f2d",
   "metadata": {},
   "outputs": [
    {
     "data": {
      "text/plain": [
       "2.718281828459045"
      ]
     },
     "execution_count": 21,
     "metadata": {},
     "output_type": "execute_result"
    }
   ],
   "source": [
    "np.exp(1)"
   ]
  },
  {
   "cell_type": "code",
   "execution_count": 58,
   "id": "ffb26854",
   "metadata": {},
   "outputs": [],
   "source": [
    "def erf(n):\n",
    "    return sp.special.erf(n)\n",
    "\n",
    "def inc_gamma(a, x):\n",
    "    return sp.special.exp1(x) if a == 0 else sp.special.gamma(a)*sp.special.gammaincc(a, x)"
   ]
  },
  {
   "cell_type": "code",
   "execution_count": 34,
   "id": "02eaa6e3",
   "metadata": {},
   "outputs": [
    {
     "data": {
      "text/plain": [
       "0.057273386778163723"
      ]
     },
     "execution_count": 34,
     "metadata": {},
     "output_type": "execute_result"
    }
   ],
   "source": [
    "delta = 1578\n",
    "x_m = 0.0211\n",
    "\n",
    "gammas = -6*inc_gamma(2, delta**(2/3)*x_m) + 3*inc_gamma(2, (delta-1)**(2/3)*x_m) \\\n",
    "        + 3*inc_gamma(2, (delta+1)**(2/3)*x_m)\n",
    "erfs = np.pi**0.5 * (delta - 1)*x_m**(3/2)*erf((delta-1)**(1/3)*x_m**0.5) \\\n",
    "        - 2*np.pi**0.5 * (delta)*x_m**(3/2)*erf((delta)**(1/3)*x_m**0.5) \\\n",
    "        + np.pi**0.5 * (delta)*x_m**(3/2)*erf((delta+1)**(1/3)*x_m**0.5) \\\n",
    "        + np.pi**0.5 * x_m**(3/2)*erf((delta+1)**(1/3)*x_m**0.5)\n",
    "neiths = -2*(delta)**(2/3)*x_m*np.exp(-delta**(2/3)*x_m) - 2*np.exp(-delta**(2/3)*x_m)\\\n",
    "        + (delta - 1)**(2/3) * x_m * np.exp(-(delta-1)**(2/3)*x_m) \\\n",
    "        + (delta + 1)**(2/3) * x_m * np.exp(-(delta+1)**(2/3)*x_m) \\\n",
    "        + np.exp(-(delta-1)**(2/3)*x_m) + np.exp(-(delta+1)**(2/3)*x_m)\n",
    "        \n",
    "integral = 3/(4*x_m**3) * (gammas + erfs + neiths)\n",
    "integral"
   ]
  },
  {
   "cell_type": "code",
   "execution_count": 7,
   "id": "d203bcce",
   "metadata": {},
   "outputs": [],
   "source": [
    "def eval_and_reduce_cc(len_marks_1):\n",
    "    res = np.zeros(len_marks_1)\n",
    "    res[0] = len_marks_1\n",
    "    res[1:] = np.arange(2, 2*(len_marks_1), 2)[::-1]\n",
    "    return res"
   ]
  },
  {
   "cell_type": "code",
   "execution_count": 2,
   "id": "1ef92d41",
   "metadata": {},
   "outputs": [],
   "source": [
    "def calc_sf2_chromo_shlk(chrom, k_vec = np.logspace(-3, -1, 30)):\n",
    "    # calculates sf2 using rank 1 monomer correlation tensor \n",
    "    [n_bind, v_int, chi, e_m, phi_c, poly_marks, mu_max, mu_min, del_mu, f_om, N, N_m, b] = chrom\n",
    "\n",
    "    M2_AA= eval_and_reduce_cc(len(poly_marks[0]))\n",
    "    \n",
    "    M = np.shape(M2_AA)[0]\n",
    "    nk = len(k_vec)\n",
    "    N = M*N_m\n",
    "    \n",
    "    S2_AA_arr = np.zeros(nk)\n",
    "\n",
    "    for i, k in enumerate(k_vec):\n",
    "        C = np.zeros(M)\n",
    "        k = np.linalg.norm(k)\n",
    "        x_m = (1/6) * N_m * b**2 * k**2\n",
    "\n",
    "        #j1 = j2, s1 > s2\n",
    "        index = 0#(j1 == j2)\n",
    "        constant = 1\n",
    "        debye = (2/(x_m**2)) * (x_m + np.exp(-x_m) - 1) \n",
    "\n",
    "    #     C[np.where((index) != 0)] += debye\n",
    "        C[0] += debye\n",
    "\n",
    "        #j1 > j2, s1 s2 any\n",
    "        index = np.arange(0, M, 1)#(j1 > j2) #index = del!\n",
    "        constant = np.exp(-x_m*index)\n",
    "        integral = (1/(x_m**2)) * (np.exp(x_m) + np.exp(-x_m) - 2) #for off-diagonal terms\n",
    "\n",
    "        C[np.where((index) != 0)] += constant[np.where(index != 0)] \\\n",
    "                                    * integral\n",
    "\n",
    "        S2_AA_arr[i] = np.sum((1/M**2) * C * M2_AA)\n",
    "\n",
    "    return S2_AA_arr*N**2"
   ]
  },
  {
   "cell_type": "code",
   "execution_count": 185,
   "id": "bb5da536",
   "metadata": {},
   "outputs": [],
   "source": [
    "def calc_sf2_nuclear(chrom, k_vec = np.logspace(-3, -1, 30)):\n",
    "    # calculates sf2 using rank 1 monomer correlation tensor \n",
    "    # incorporates shift in scaling due to looping behavior in nucleus\n",
    "    \n",
    "    [n_bind, v_int, chi, e_m, phi_c, poly_marks, mu_max, mu_min, del_mu, f_om, N, N_m, b] = chrom\n",
    "\n",
    "    M2_AA= eval_and_reduce_cc(len(poly_marks[0]))\n",
    "    \n",
    "    M = np.shape(M2_AA)[0]\n",
    "    nk = len(k_vec)\n",
    "    N = M*N_m\n",
    "    \n",
    "    S2_AA_arr = np.zeros(nk)\n",
    "\n",
    "    \n",
    "    bp_per_nuc = 190 # bp per nucleosome\n",
    "    nm_per_bp = 0.34 \n",
    "    lower_cutoff = 28.89 * 1000 # bp, s1*, from Rubenstein\n",
    "    upper_cutoff = 399.12 * 1000 # bp, s2*\n",
    "#     upper_cutoff = lower_cutoff\n",
    "    \n",
    "    lc_kuhn = lower_cutoff * (nm_per_bp) * (1/b) # converted to nm, then kuhn lengths\n",
    "    uc_kuhn = upper_cutoff * (nm_per_bp) * (1/b) \n",
    "\n",
    "    for i, k in enumerate(k_vec):\n",
    "        C = np.zeros(M)\n",
    "        k = np.linalg.norm(k)\n",
    "        x_m = (1/6) * N_m * b**2 * k**2\n",
    "        delta = np.arange(0, M, 1)\n",
    "        \n",
    "        \n",
    "        #j1 = j2, s1 > s2\n",
    "        \n",
    "        \n",
    "        index = 0#(j1 == j2)\n",
    "        constant = 1\n",
    "        debye = (2/(x_m**2)) * (x_m + np.exp(-x_m) - 1) \n",
    "\n",
    "        C[0] += debye\n",
    "\n",
    "        \n",
    "        # if j1 - j2 < lower_cutoff \n",
    "        \n",
    "        \n",
    "        index = (np.arange(0, M, 1) * bp_per_nuc <= lower_cutoff) * (np.arange(0, M, 1) != 0) \n",
    "        constant = np.exp(-x_m*delta)\n",
    "        integral = (1/(x_m**2)) * (np.exp(x_m) + np.exp(-x_m) - 2) \n",
    "\n",
    "        C[np.where((index) != 0)] += constant[np.where(index != 0)] \\\n",
    "                                    * integral        \n",
    "        \n",
    "        # intermediate case, 2/3 scaling\n",
    "        \n",
    "        \n",
    "        index = (np.arange(0, M, 1) * bp_per_nuc > lower_cutoff) * (np.arange(0, M, 1) * bp_per_nuc <= upper_cutoff)\n",
    "        \n",
    "        x_m = (1/6) * N_m**(2/3) * b**2 * k**2 * (lc_kuhn)**(1/3)\n",
    "#         x_m = (1/6) * N_m**(2/3) * b**2 * k**2 * (lower_cutoff/bp_per_nuc)**(1/3)\n",
    "        \n",
    "\n",
    "        gammas = -6*inc_gamma(2, delta**(2/3)*x_m) + 3*inc_gamma(2, (delta-1)**(2/3)*x_m) \\\n",
    "                + 3*inc_gamma(2, (delta+1)**(2/3)*x_m)\n",
    "        erfs = np.pi**0.5 * (delta - 1)*x_m**(3/2)*erf((delta-1)**(1/3)*x_m**0.5) \\\n",
    "                - 2*np.pi**0.5 * (delta)*x_m**(3/2)*erf((delta)**(1/3)*x_m**0.5) \\\n",
    "                + np.pi**0.5 * (delta)*x_m**(3/2)*erf((delta+1)**(1/3)*x_m**0.5) \\\n",
    "                + np.pi**0.5 * x_m**(3/2)*erf((delta+1)**(1/3)*x_m**0.5)\n",
    "        neiths = -2*(delta)**(2/3)*x_m*np.exp(-delta**(2/3)*x_m) - 2*np.exp(-delta**(2/3)*x_m)\\\n",
    "                + (delta - 1)**(2/3) * x_m * np.exp(-(delta-1)**(2/3)*x_m) \\\n",
    "                + (delta + 1)**(2/3) * x_m * np.exp(-(delta+1)**(2/3)*x_m) \\\n",
    "                + np.exp(-(delta-1)**(2/3)*x_m) + np.exp(-(delta+1)**(2/3)*x_m)\n",
    "\n",
    "        integral = 3/(4*x_m**3) * (gammas + erfs + neiths)\n",
    "\n",
    "#         integral = ((np.exp(x_m)-1)**2 *  np.exp(-(delta**(2/3)+1)*x_m)  ) /x_m**2\n",
    "\n",
    "        C[np.where((index) != 0)] += integral[np.where(index != 0)]\n",
    "        \n",
    "        \n",
    "        # if j1 - j2 > upper cutoff -> 1 scaling\n",
    "        \n",
    "        \n",
    "        index = (np.arange(0, M, 1) * bp_per_nuc > upper_cutoff) \n",
    "        \n",
    "        \n",
    "        x_m = (1/6) * N_m * b**2 * k**2 * (lc_kuhn/uc_kuhn)**(1/3)\n",
    "        constant = np.exp(-x_m*delta)\n",
    "        integral = (1/(x_m**2)) * (np.exp(x_m) + np.exp(-x_m) - 2) \n",
    "\n",
    "        C[np.where((index) != 0)] += constant[np.where(index != 0)] \\\n",
    "                                    * integral   \n",
    "        \n",
    "\n",
    "        S2_AA_arr[i] = np.sum((1/M**2) * C * M2_AA)\n",
    "\n",
    "    return S2_AA_arr*N**2 "
   ]
  },
  {
   "cell_type": "code",
   "execution_count": 230,
   "id": "05904747",
   "metadata": {},
   "outputs": [
    {
     "data": {
      "text/plain": [
       "array([2, 3])"
      ]
     },
     "execution_count": 230,
     "metadata": {},
     "output_type": "execute_result"
    }
   ],
   "source": [
    "val = np.array([1,2,3,4])\n",
    "ind = np.array([False, True, True, False])\n",
    "val[ind]"
   ]
  },
  {
   "cell_type": "code",
   "execution_count": 233,
   "id": "e4a92284",
   "metadata": {},
   "outputs": [
    {
     "data": {
      "text/plain": [
       "array([0, 0, 1, 2, 3, 4, 0, 0, 0])"
      ]
     },
     "execution_count": 233,
     "metadata": {},
     "output_type": "execute_result"
    }
   ],
   "source": [
    "np.pad(val, (2,3))"
   ]
  },
  {
   "cell_type": "code",
   "execution_count": 236,
   "id": "bd51ced4",
   "metadata": {},
   "outputs": [],
   "source": [
    "def erf(n):\n",
    "    return sp.special.erf(n)\n",
    "\n",
    "def inc_gamma(a, x):\n",
    "    return sp.special.gamma(a)*sp.special.gammaincc(a, x)\n",
    "\n",
    "def calc_sf2_nuclear_FIXED(chrom, k_vec = np.logspace(-3, -1, 30)):\n",
    "    # calculates sf2 using rank 1 monomer correlation tensor \n",
    "    # incorporates shift in scaling due to looping behavior in nucleus\n",
    "    \n",
    "    [n_bind, v_int, chi, e_m, phi_c, poly_marks, mu_max, mu_min, del_mu, f_om, N, N_m, b] = chrom\n",
    "\n",
    "    M2_AA= eval_and_reduce_cc(len(poly_marks[0]))\n",
    "    \n",
    "    M = np.shape(M2_AA)[0]\n",
    "    nk = len(k_vec)\n",
    "    N = M*N_m\n",
    "    \n",
    "    S2_AA_arr = np.zeros(nk)\n",
    "\n",
    "    \n",
    "    bp_per_nuc = 190 # bp per nucleosome\n",
    "    nm_per_bp = 0.34 \n",
    "    lower_cutoff = 28.89 * 1000 # bp, s1*, from Rubenstein\n",
    "    upper_cutoff = 399.12 * 1000 # bp, s2*\n",
    "#     upper_cutoff = lower_cutoff\n",
    "    \n",
    "    lc_kuhn = lower_cutoff * (nm_per_bp) * (1/b) # converted to nm, then kuhn lengths\n",
    "    uc_kuhn = upper_cutoff * (nm_per_bp) * (1/b) \n",
    "\n",
    "    for i, k in enumerate(k_vec):\n",
    "        C = np.zeros(M)\n",
    "        k = np.linalg.norm(k)\n",
    "        x_m = (1/6) * N_m * b**2 * k**2\n",
    "        delta = np.arange(0, M, 1)\n",
    "        \n",
    "        \n",
    "        #j1 = j2, s1 > s2\n",
    "        \n",
    "        \n",
    "        index = 0#(j1 == j2)\n",
    "        constant = 1\n",
    "        debye = (2/(x_m**2)) * (x_m + np.exp(-x_m) - 1) \n",
    "\n",
    "        C[0] += debye\n",
    "\n",
    "        \n",
    "        # if j1 - j2 < lower_cutoff \n",
    "        \n",
    "        \n",
    "        index = (np.arange(0, M, 1) * bp_per_nuc <= lower_cutoff) * (np.arange(0, M, 1) != 0) \n",
    "        constant = np.exp(-x_m*delta)\n",
    "        integral = (1/(x_m**2)) * (np.exp(x_m) + np.exp(-x_m) - 2) \n",
    "\n",
    "        C[np.where((index) != 0)] += constant[np.where(index != 0)] \\\n",
    "                                    * integral        \n",
    "        \n",
    "        # intermediate case, 2/3 scaling\n",
    "        \n",
    "        index = (np.arange(0, M, 1) * bp_per_nuc > lower_cutoff) * (np.arange(0, M, 1) * bp_per_nuc <= upper_cutoff)\n",
    "#         print(index[0:10])\n",
    "        dlta = delta[index]\n",
    "#         print(len(delta))\n",
    "#         print(len(dlta))\n",
    "        \n",
    "        x_m = (1/6) * N_m**(2/3) * b**2 * k**2 * (lc_kuhn)**(1/3)\n",
    "#         x_m = (1/6) * N_m**(2/3) * b**2 * k**2 * (lower_cutoff/bp_per_nuc)**(1/3)\n",
    "        \n",
    "\n",
    "        gammas = -6*inc_gamma(2, dlta**(2/3)*x_m) + 3*inc_gamma(2, (dlta-1)**(2/3)*x_m) \\\n",
    "                + 3*inc_gamma(2, (dlta+1)**(2/3)*x_m)\n",
    "        erfs = np.pi**0.5 * (dlta - 1)*x_m**(3/2)*erf((dlta-1)**(1/3)*x_m**0.5) \\\n",
    "                - 2*np.pi**0.5 * (dlta)*x_m**(3/2)*erf((dlta)**(1/3)*x_m**0.5) \\\n",
    "                + np.pi**0.5 * (dlta)*x_m**(3/2)*erf((dlta+1)**(1/3)*x_m**0.5) \\\n",
    "                + np.pi**0.5 * x_m**(3/2)*erf((dlta+1)**(1/3)*x_m**0.5)\n",
    "        neiths = -2*(dlta)**(2/3)*x_m*np.exp(-dlta**(2/3)*x_m) - 2*np.exp(-dlta**(2/3)*x_m)\\\n",
    "                + (dlta - 1)**(2/3) * x_m * np.exp(-(dlta-1)**(2/3)*x_m) \\\n",
    "                + (dlta + 1)**(2/3) * x_m * np.exp(-(dlta+1)**(2/3)*x_m) \\\n",
    "                + np.exp(-(dlta-1)**(2/3)*x_m) + np.exp(-(dlta+1)**(2/3)*x_m)\n",
    "\n",
    "        integral = 3/(4*x_m**3) * (gammas + erfs + neiths)\n",
    "#         integral = 3/(4*x_m**3) * (erfs + neiths)\n",
    "#         integral = 3/(4*x_m**3) * (neiths)\n",
    "#         integral = 3/(4*x_m**3) * (erfs)\n",
    "\n",
    "#         integral = ((np.exp(x_m)-1)**2 *  np.exp(-(delta**(2/3)+1)*x_m)  ) /x_m**2\n",
    "        num_leading_zeros = np.sum((np.arange(0, M, 1) * bp_per_nuc <= lower_cutoff))\n",
    "        num_trailing_zeros = np.sum((np.arange(0, M, 1) * bp_per_nuc > upper_cutoff))\n",
    "        \n",
    "        integral = np.pad(integral, (num_leading_zeros,num_trailing_zeros))\n",
    "    \n",
    "        C[np.where((index) != 0)] += integral[np.where((index) != 0)]\n",
    "                \n",
    "        \n",
    "        # if j1 - j2 > upper cutoff -> 1 scaling\n",
    "        \n",
    "        \n",
    "        index = (np.arange(0, M, 1) * bp_per_nuc > upper_cutoff) \n",
    "        \n",
    "        \n",
    "        x_m = (1/6) * N_m * b**2 * k**2 * (lc_kuhn/uc_kuhn)**(1/3)\n",
    "        constant = np.exp(-x_m*delta)\n",
    "        integral = (1/(x_m**2)) * (np.exp(x_m) + np.exp(-x_m) - 2) \n",
    "\n",
    "        C[np.where((index) != 0)] += constant[np.where(index != 0)] \\\n",
    "                                    * integral   \n",
    "        \n",
    "\n",
    "        S2_AA_arr[i] = np.sum((1/M**2) * C * M2_AA)\n",
    "\n",
    "    return S2_AA_arr*N**2 "
   ]
  },
  {
   "cell_type": "code",
   "execution_count": 179,
   "id": "01a267bb",
   "metadata": {},
   "outputs": [],
   "source": [
    "bp_per_nuc = 190 # bp per nucleosome\n",
    "nm_per_bp = 0.34 \n",
    "lower_cutoff = 28.89 * 1000 # bp, s1*, from Rubenstein\n",
    "upper_cutoff = 399.12 * 1000 # bp, s2*\n",
    "#     upper_cutoff = lower_cutoff\n",
    "\n",
    "lc_kuhn = lower_cutoff * (nm_per_bp) * (1/b)"
   ]
  },
  {
   "cell_type": "code",
   "execution_count": 181,
   "id": "63176158",
   "metadata": {},
   "outputs": [
    {
     "data": {
      "text/plain": [
       "92.66603773584906"
      ]
     },
     "execution_count": 181,
     "metadata": {},
     "output_type": "execute_result"
    }
   ],
   "source": [
    "lc_kuhn #* (b/40)"
   ]
  },
  {
   "cell_type": "code",
   "execution_count": null,
   "id": "3ee65a59",
   "metadata": {},
   "outputs": [],
   "source": []
  },
  {
   "cell_type": "code",
   "execution_count": 175,
   "id": "00df65a8",
   "metadata": {},
   "outputs": [
    {
     "data": {
      "text/plain": [
       "106"
      ]
     },
     "execution_count": 175,
     "metadata": {},
     "output_type": "execute_result"
    }
   ],
   "source": [
    "b"
   ]
  },
  {
   "cell_type": "code",
   "execution_count": 5,
   "id": "1de311b2",
   "metadata": {},
   "outputs": [
    {
     "ename": "FileNotFoundError",
     "evalue": "[Errno 2] No such file or directory: 'C:\\\\Users\\\\tmhab\\\\wlcsim_membrane\\\\chrom_stab\\\\ID=-16.9_settings.npy'",
     "output_type": "error",
     "traceback": [
      "\u001b[1;31m---------------------------------------------------------------------------\u001b[0m",
      "\u001b[1;31mFileNotFoundError\u001b[0m                         Traceback (most recent call last)",
      "Cell \u001b[1;32mIn[5], line 4\u001b[0m\n\u001b[0;32m      1\u001b[0m \u001b[38;5;66;03m# load sf mat\u001b[39;00m\n\u001b[0;32m      3\u001b[0m ID \u001b[38;5;241m=\u001b[39m \u001b[38;5;241m-\u001b[39m\u001b[38;5;241m16.9\u001b[39m\n\u001b[1;32m----> 4\u001b[0m settings \u001b[38;5;241m=\u001b[39m \u001b[43mnp\u001b[49m\u001b[38;5;241;43m.\u001b[39;49m\u001b[43mload\u001b[49m\u001b[43m(\u001b[49m\u001b[38;5;124;43mr\u001b[39;49m\u001b[38;5;124;43m\"\u001b[39;49m\u001b[38;5;124;43mC:\u001b[39;49m\u001b[38;5;124;43m\\\u001b[39;49m\u001b[38;5;124;43mUsers\u001b[39;49m\u001b[38;5;124;43m\\\u001b[39;49m\u001b[38;5;124;43mtmhab\u001b[39;49m\u001b[38;5;124;43m\\\u001b[39;49m\u001b[38;5;124;43mwlcsim_membrane\u001b[39;49m\u001b[38;5;124;43m\\\u001b[39;49m\u001b[38;5;124;43mchrom_stab\u001b[39;49m\u001b[38;5;124;43m\\\u001b[39;49m\u001b[38;5;124;43mID=\u001b[39;49m\u001b[38;5;132;43;01m%s\u001b[39;49;00m\u001b[38;5;124;43m_settings.npy\u001b[39;49m\u001b[38;5;124;43m\"\u001b[39;49m\u001b[43m \u001b[49m\u001b[38;5;241;43m%\u001b[39;49m\u001b[43m \u001b[49m\u001b[43m(\u001b[49m\u001b[43mID\u001b[49m\u001b[43m)\u001b[49m\u001b[43m,\u001b[49m\u001b[43m \u001b[49m\u001b[43mallow_pickle\u001b[49m\u001b[43m \u001b[49m\u001b[38;5;241;43m=\u001b[39;49m\u001b[43m \u001b[49m\u001b[38;5;28;43;01mTrue\u001b[39;49;00m\u001b[43m)\u001b[49m\n\u001b[0;32m      6\u001b[0m [chrom, [klog_min, klog_max, klog_num]] \u001b[38;5;241m=\u001b[39m settings\n\u001b[0;32m      8\u001b[0m [n_bind, v_int, chi, e_m, phi_c, poly_marks, mu_max, mu_min, del_mu, f_om, N, N_m, b] \u001b[38;5;241m=\u001b[39m chrom\n",
      "File \u001b[1;32m~\\anaconda3\\lib\\site-packages\\numpy\\lib\\npyio.py:405\u001b[0m, in \u001b[0;36mload\u001b[1;34m(file, mmap_mode, allow_pickle, fix_imports, encoding, max_header_size)\u001b[0m\n\u001b[0;32m    403\u001b[0m     own_fid \u001b[38;5;241m=\u001b[39m \u001b[38;5;28;01mFalse\u001b[39;00m\n\u001b[0;32m    404\u001b[0m \u001b[38;5;28;01melse\u001b[39;00m:\n\u001b[1;32m--> 405\u001b[0m     fid \u001b[38;5;241m=\u001b[39m stack\u001b[38;5;241m.\u001b[39menter_context(\u001b[38;5;28;43mopen\u001b[39;49m\u001b[43m(\u001b[49m\u001b[43mos_fspath\u001b[49m\u001b[43m(\u001b[49m\u001b[43mfile\u001b[49m\u001b[43m)\u001b[49m\u001b[43m,\u001b[49m\u001b[43m \u001b[49m\u001b[38;5;124;43m\"\u001b[39;49m\u001b[38;5;124;43mrb\u001b[39;49m\u001b[38;5;124;43m\"\u001b[39;49m\u001b[43m)\u001b[49m)\n\u001b[0;32m    406\u001b[0m     own_fid \u001b[38;5;241m=\u001b[39m \u001b[38;5;28;01mTrue\u001b[39;00m\n\u001b[0;32m    408\u001b[0m \u001b[38;5;66;03m# Code to distinguish from NumPy binary files and pickles.\u001b[39;00m\n",
      "\u001b[1;31mFileNotFoundError\u001b[0m: [Errno 2] No such file or directory: 'C:\\\\Users\\\\tmhab\\\\wlcsim_membrane\\\\chrom_stab\\\\ID=-16.9_settings.npy'"
     ]
    }
   ],
   "source": [
    "# load sf mat\n",
    "\n",
    "ID = -16.9\n",
    "settings = np.load(r\"C:\\Users\\tmhab\\wlcsim_membrane\\chrom_stab\\ID=%s_settings.npy\" % (ID), allow_pickle = True)\n",
    "\n",
    "[chrom, [klog_min, klog_max, klog_num]] = settings\n",
    "\n",
    "[n_bind, v_int, chi, e_m, phi_c, poly_marks, mu_max, mu_min, del_mu, f_om, N, N_m, b] = chrom\n",
    "\n",
    "\n",
    "k_vec = np.logspace(klog_min, klog_max, klog_num) / b\n"
   ]
  },
  {
   "cell_type": "code",
   "execution_count": null,
   "id": "d2c6f37b",
   "metadata": {},
   "outputs": [],
   "source": []
  },
  {
   "cell_type": "code",
   "execution_count": null,
   "id": "e270b151",
   "metadata": {},
   "outputs": [],
   "source": []
  },
  {
   "cell_type": "code",
   "execution_count": 61,
   "id": "7b6d7720",
   "metadata": {},
   "outputs": [],
   "source": [
    "# SAME AS \"FIXED\", just copy pasted to ensure it matches\n",
    "def calc_sf2_nuclear_tower(chrom, k_vec = np.logspace(-3, -1, 30)):\n",
    "    # calculates sf2 using rank 1 monomer correlation tensor \n",
    "    # incorporates shift in scaling due to looping behavior in nucleus\n",
    "    \n",
    "    [n_bind, v_int, chi, e_m, phi_c, poly_marks, mu_max, mu_min, del_mu, f_om, N, N_m, b] = chrom\n",
    "\n",
    "    M2_AA= eval_and_reduce_cc(len(poly_marks[0]))\n",
    "    \n",
    "    M = np.shape(M2_AA)[0]\n",
    "    nk = len(k_vec)\n",
    "    N = M*N_m\n",
    "    \n",
    "    S2_AA_arr = np.zeros(nk)\n",
    "\n",
    "    \n",
    "    bp_per_nuc = 190 # bp per nucleosome\n",
    "    nm_per_bp = 0.34 \n",
    "    lower_cutoff = 28.89 * 1000 # bp, s1*, from Rubenstein\n",
    "    upper_cutoff = 399.12 * 1000 # bp, s2*\n",
    "#     upper_cutoff = lower_cutoff\n",
    "    \n",
    "    lc_kuhn = lower_cutoff * (nm_per_bp) * (1/b) # converted to nm, then kuhn lengths\n",
    "    uc_kuhn = upper_cutoff * (nm_per_bp) * (1/b) \n",
    "\n",
    "    for i, k in enumerate(k_vec):\n",
    "        C = np.zeros(M)\n",
    "        k = np.linalg.norm(k)\n",
    "        x_m = (1/6) * N_m * b**2 * k**2\n",
    "        delta = np.arange(0, M, 1)\n",
    "        \n",
    "        \n",
    "        # j1 = j2, s1 > s2\n",
    "        \n",
    "        \n",
    "        index = 0#(j1 == j2)\n",
    "        constant = 1\n",
    "        debye = (2/(x_m**2)) * (x_m + np.exp(-x_m) - 1) \n",
    "\n",
    "        C[0] += debye\n",
    "        \n",
    "\n",
    "        # if j1 - j2 < lower_cutoff\n",
    "        \n",
    "        \n",
    "        index = (np.arange(0, M, 1) * bp_per_nuc <= lower_cutoff) * (np.arange(0, M, 1) != 0) \n",
    "        constant = np.exp(-x_m*delta)\n",
    "        integral = (1/(x_m**2)) * (np.exp(x_m) + np.exp(-x_m) - 2) \n",
    "\n",
    "        C[np.where((index) != 0)] += constant[np.where(index != 0)] \\\n",
    "                                    * integral        \n",
    "        \n",
    "        \n",
    "        # intermediate case, 2/3 scaling\n",
    "        \n",
    "        \n",
    "        index = (np.arange(0, M, 1) * bp_per_nuc > lower_cutoff) * (np.arange(0, M, 1) * bp_per_nuc <= upper_cutoff)\n",
    "        dlta = delta[index]\n",
    "\n",
    "        x_m = (1/6) * N_m**(2/3) * b**2 * k**2 * (lc_kuhn)**(1/3)\n",
    "        \n",
    "\n",
    "        gammas = -6*inc_gamma(2, dlta**(2/3)*x_m) + 3*inc_gamma(2, (dlta-1)**(2/3)*x_m) \\\n",
    "                + 3*inc_gamma(2, (dlta+1)**(2/3)*x_m)\n",
    "        erfs = np.pi**0.5 * (dlta - 1)*x_m**(3/2)*erf((dlta-1)**(1/3)*x_m**0.5) \\\n",
    "                - 2*np.pi**0.5 * (dlta)*x_m**(3/2)*erf((dlta)**(1/3)*x_m**0.5) \\\n",
    "                + np.pi**0.5 * (dlta)*x_m**(3/2)*erf((dlta+1)**(1/3)*x_m**0.5) \\\n",
    "                + np.pi**0.5 * x_m**(3/2)*erf((dlta+1)**(1/3)*x_m**0.5)\n",
    "        neiths = -2*(dlta)**(2/3)*x_m*np.exp(-dlta**(2/3)*x_m) - 2*np.exp(-dlta**(2/3)*x_m)\\\n",
    "                + (dlta - 1)**(2/3) * x_m * np.exp(-(dlta-1)**(2/3)*x_m) \\\n",
    "                + (dlta + 1)**(2/3) * x_m * np.exp(-(dlta+1)**(2/3)*x_m) \\\n",
    "                + np.exp(-(dlta-1)**(2/3)*x_m) + np.exp(-(dlta+1)**(2/3)*x_m)\n",
    "\n",
    "\n",
    "        integral = 3/(4*x_m**3) * (gammas + erfs + neiths)\n",
    "#         integral = ((np.exp(x_m)-1)**2 *  np.exp(-(delta**(2/3)+1)*x_m)  ) /x_m**2   # rough scaling implementation\n",
    "\n",
    "        num_leading_zeros = np.sum((np.arange(0, M, 1) * bp_per_nuc <= lower_cutoff))\n",
    "        num_trailing_zeros = np.sum((np.arange(0, M, 1) * bp_per_nuc > upper_cutoff))\n",
    "        \n",
    "        integral = np.pad(integral, (num_leading_zeros,num_trailing_zeros))\n",
    "    \n",
    "        C[np.where((index) != 0)] += integral[np.where((index) != 0)]\n",
    "        \n",
    "        \n",
    "        # if j1 - j2 > upper cutoff -> 1 scaling\n",
    "        \n",
    "        \n",
    "        index = (np.arange(0, M, 1) * bp_per_nuc > upper_cutoff)\n",
    "        x_m = (1/6) * N_m * b**2 * k**2 * (lc_kuhn/uc_kuhn)**(1/3)\n",
    "        constant = np.exp(-x_m*delta)\n",
    "        integral = (1/(x_m**2)) * (np.exp(x_m) + np.exp(-x_m) - 2) \n",
    "\n",
    "        C[np.where((index) != 0)] += constant[np.where(index != 0)] \\\n",
    "                                    * integral   \n",
    "        \n",
    "\n",
    "        S2_AA_arr[i] = np.sum((1/M**2) * C * M2_AA)\n",
    "\n",
    "        \n",
    "    return S2_AA_arr*N**2"
   ]
  },
  {
   "cell_type": "code",
   "execution_count": 3,
   "id": "a40bb8ff",
   "metadata": {
    "scrolled": true
   },
   "outputs": [
    {
     "ename": "NameError",
     "evalue": "name 'calc_sf2_nuclear' is not defined",
     "output_type": "error",
     "traceback": [
      "\u001b[1;31m---------------------------------------------------------------------------\u001b[0m",
      "\u001b[1;31mNameError\u001b[0m                                 Traceback (most recent call last)",
      "File \u001b[1;32m<timed exec>:1\u001b[0m\n",
      "\u001b[1;31mNameError\u001b[0m: name 'calc_sf2_nuclear' is not defined"
     ]
    }
   ],
   "source": [
    "%%time\n",
    "homo_nuc = calc_sf2_nuclear(chrom, k_vec)"
   ]
  },
  {
   "cell_type": "code",
   "execution_count": 243,
   "id": "5b722eec",
   "metadata": {
    "scrolled": true
   },
   "outputs": [
    {
     "name": "stdout",
     "output_type": "stream",
     "text": [
      "CPU times: total: 234 ms\n",
      "Wall time: 635 ms\n"
     ]
    }
   ],
   "source": [
    "%%time\n",
    "homo_nuc_tower = calc_sf2_nuclear_tower(chrom, k_vec)"
   ]
  },
  {
   "cell_type": "code",
   "execution_count": 240,
   "id": "6e7eb3ba",
   "metadata": {},
   "outputs": [
    {
     "name": "stdout",
     "output_type": "stream",
     "text": [
      "CPU times: total: 281 ms\n",
      "Wall time: 619 ms\n"
     ]
    }
   ],
   "source": [
    "%%time\n",
    "homo_nuc_FIXED = calc_sf2_nuclear_FIXED(chrom, k_vec)"
   ]
  },
  {
   "cell_type": "code",
   "execution_count": 241,
   "id": "9d2e4097",
   "metadata": {},
   "outputs": [
    {
     "data": {
      "text/plain": [
       "1.0"
      ]
     },
     "execution_count": 241,
     "metadata": {},
     "output_type": "execute_result"
    }
   ],
   "source": [
    "np.sum(homo_nuc == homo_nuc_FIXED) / (len(homo_nuc))"
   ]
  },
  {
   "cell_type": "code",
   "execution_count": 4,
   "id": "658129f1",
   "metadata": {},
   "outputs": [
    {
     "ename": "NameError",
     "evalue": "name 'chrom' is not defined",
     "output_type": "error",
     "traceback": [
      "\u001b[1;31m---------------------------------------------------------------------------\u001b[0m",
      "\u001b[1;31mNameError\u001b[0m                                 Traceback (most recent call last)",
      "File \u001b[1;32m<timed exec>:1\u001b[0m\n",
      "\u001b[1;31mNameError\u001b[0m: name 'chrom' is not defined"
     ]
    }
   ],
   "source": [
    "%%time\n",
    "homo_gaus = calc_sf2_chromo_shlk(chrom, k_vec)"
   ]
  },
  {
   "cell_type": "code",
   "execution_count": 137,
   "id": "eed94311",
   "metadata": {},
   "outputs": [
    {
     "data": {
      "text/plain": [
       "array([1.35912461e+09, 1.34732204e+09, 1.32853982e+09, 1.31528923e+09,\n",
       "       1.30987399e+09, 1.30877154e+09, 1.29532972e+09, 1.28401425e+09,\n",
       "       1.26954293e+09, 1.25130787e+09, 1.22780613e+09, 1.19930878e+09,\n",
       "       1.16466557e+09, 1.12284533e+09, 1.07306046e+09, 1.01470926e+09,\n",
       "       9.47646136e+08, 8.72311752e+08, 7.89992996e+08, 7.02857199e+08,\n",
       "       6.13850051e+08, 5.26371665e+08, 4.43723869e+08, 3.68542941e+08,\n",
       "       3.02415628e+08, 2.45829901e+08, 1.98416627e+08, 1.59297898e+08,\n",
       "       1.27384524e+08, 1.01565623e+08])"
      ]
     },
     "execution_count": 137,
     "metadata": {},
     "output_type": "execute_result"
    }
   ],
   "source": [
    "homo_nuc"
   ]
  },
  {
   "cell_type": "code",
   "execution_count": 184,
   "id": "efc9993e",
   "metadata": {},
   "outputs": [
    {
     "data": {
      "text/plain": [
       "<matplotlib.legend.Legend at 0x230f1263910>"
      ]
     },
     "execution_count": 184,
     "metadata": {},
     "output_type": "execute_result"
    },
    {
     "data": {
      "image/png": "[encoded data removed]",
      "text/plain": [
       "<Figure size 1000x800 with 1 Axes>"
      ]
     },
     "metadata": {},
     "output_type": "display_data"
    }
   ],
   "source": [
    "\n",
    "import matplotlib.pyplot as plt\n",
    "plt.figure(figsize=(10,8))\n",
    "font = {'family' : 'serif',\n",
    "        'weight':'normal',\n",
    "        'size': 18}\n",
    "plt.rc('font', **font)\n",
    "alh = 1\n",
    "plt.plot(k_vec, homo_nuc/N**2, label = \"nuc\", linestyle = \"-\", alpha = alh)\n",
    "plt.plot(k_vec, homo_gaus/N**2, label = \"gaus\", linestyle = \"--\", alpha = alh)\n",
    "# plt.text(5, 0.0035, '$k^{-2}$')\n",
    "# plt.text(5.5, 0.0015, '$k^{-2}$')\n",
    "\n",
    "plt.xscale('log')\n",
    "plt.yscale('log')\n",
    "\n",
    "plt.title(\"homopoly, $S_1^* < S_2^*$\")\n",
    "plt.xlabel(r'$K$')\n",
    "plt.ylabel(r'Structure Factor $S_{2}(K;N)$')\n",
    "# plt.xlim((1e-3, 1e2))\n",
    "\n",
    "low = 22\n",
    "high = 24\n",
    "plt.plot(k_vec[low:high], 0.00000002*k_vec[low:high]**-2, linestyle = \"--\", color = \"grey\")\n",
    "plt.text(.00033, 0.09, '$k^{-2}$')\n",
    "\n",
    "plt.legend()"
   ]
  },
  {
   "cell_type": "code",
   "execution_count": 188,
   "id": "c3cc7820",
   "metadata": {},
   "outputs": [
    {
     "data": {
      "text/plain": [
       "<matplotlib.legend.Legend at 0x230f14e0940>"
      ]
     },
     "execution_count": 188,
     "metadata": {},
     "output_type": "execute_result"
    },
    {
     "data": {
      "image/png": "[encoded data removed]",
      "text/plain": [
       "<Figure size 1000x800 with 1 Axes>"
      ]
     },
     "metadata": {},
     "output_type": "display_data"
    }
   ],
   "source": [
    "\n",
    "import matplotlib.pyplot as plt\n",
    "plt.figure(figsize=(10,8))\n",
    "font = {'family' : 'serif',\n",
    "        'weight':'normal',\n",
    "        'size': 18}\n",
    "plt.rc('font', **font)\n",
    "alh = 1\n",
    "plt.plot(k_vec, homo_nuc/N**2, label = \"nuc\", linestyle = \"-\", alpha = alh)\n",
    "plt.plot(k_vec, homo_gaus/N**2, label = \"gaus\", linestyle = \"--\", alpha = alh)\n",
    "# plt.text(5, 0.0035, '$k^{-2}$')\n",
    "# plt.text(5.5, 0.0015, '$k^{-2}$')\n",
    "\n",
    "plt.xscale('log')\n",
    "plt.yscale('log')\n",
    "\n",
    "plt.title(\"homopoly, $S_1^* = S_2^*$\")\n",
    "plt.xlabel(r'$K$')\n",
    "plt.ylabel(r'Structure Factor $S_{2}(K;N)$')\n",
    "# plt.xlim((1e-3, 1e2))\n",
    "\n",
    "low = 22\n",
    "high = 24\n",
    "plt.plot(k_vec[low:high], 0.00000002*k_vec[low:high]**-2, linestyle = \"--\", color = \"grey\")\n",
    "plt.text(.00033, 0.09, '$k^{-2}$')\n",
    "\n",
    "plt.legend()"
   ]
  },
  {
   "cell_type": "code",
   "execution_count": 11,
   "id": "0b92c2c0",
   "metadata": {},
   "outputs": [
    {
     "data": {
      "text/plain": [
       "0.9661254567011229"
      ]
     },
     "execution_count": 11,
     "metadata": {},
     "output_type": "execute_result"
    }
   ],
   "source": [
    "inc_gamma(2, dlt**(2/3)*xm_small)"
   ]
  },
  {
   "cell_type": "code",
   "execution_count": 15,
   "id": "f71b11d5",
   "metadata": {
    "scrolled": true
   },
   "outputs": [
    {
     "data": {
      "text/plain": [
       "1.1110621113412872e-11"
      ]
     },
     "execution_count": 15,
     "metadata": {},
     "output_type": "execute_result"
    }
   ],
   "source": [
    "inc_gamma(2, (dlt+1)**(2/3)*xm_big)"
   ]
  },
  {
   "cell_type": "code",
   "execution_count": 16,
   "id": "b686ac35",
   "metadata": {},
   "outputs": [
    {
     "data": {
      "text/plain": [
       "0.9999999999999606"
      ]
     },
     "execution_count": 16,
     "metadata": {},
     "output_type": "execute_result"
    }
   ],
   "source": [
    "sp.special.erf((dlt)**(1/3)*xm_big**0.5)"
   ]
  },
  {
   "cell_type": "code",
   "execution_count": null,
   "id": "2b2f3512",
   "metadata": {},
   "outputs": [],
   "source": [
    "inc_gamma(1, 2)"
   ]
  },
  {
   "cell_type": "code",
   "execution_count": null,
   "id": "4a151828",
   "metadata": {},
   "outputs": [],
   "source": []
  },
  {
   "cell_type": "code",
   "execution_count": null,
   "id": "1a981021",
   "metadata": {},
   "outputs": [],
   "source": [
    "# converting kuhn lenght form one vaulle to another"
   ]
  },
  {
   "cell_type": "code",
   "execution_count": 37,
   "id": "bf62ff1f",
   "metadata": {},
   "outputs": [
    {
     "name": "stdout",
     "output_type": "stream",
     "text": [
      "40\n"
     ]
    }
   ],
   "source": [
    "# load sf mat\n",
    "\n",
    "ID = -16.9\n",
    "settings = np.load(r\"C:\\Users\\tmhab\\wlcsim_membrane\\chrom_stab\\old_gaussian_prop\\ID=%s_settings.npy\" % (ID), allow_pickle = True)\n",
    "\n",
    "[chrom, [klog_min, klog_max, klog_num]] = settings\n",
    "\n",
    "[n_bind, v_int, chi, e_m, phi_c, poly_marks, mu_max, mu_min, del_mu, f_om, N_old, N_m_old, b_old] = chrom\n",
    "\n",
    "\n",
    "k_vec_old = np.logspace(klog_min, klog_max, klog_num) / b_old\n",
    "\n",
    "homo_gaus_b106 = calc_sf2_chromo_shlk(chrom, k_vec_old)\n",
    "print(b)"
   ]
  },
  {
   "cell_type": "code",
   "execution_count": 44,
   "id": "da34ea40",
   "metadata": {},
   "outputs": [
    {
     "name": "stdout",
     "output_type": "stream",
     "text": [
      "40\n"
     ]
    }
   ],
   "source": [
    "# load sf mat\n",
    "\n",
    "ID = -16.9\n",
    "settings = np.load(r\"C:\\Users\\tmhab\\wlcsim_membrane\\chrom_stab\\old_gaussian_prop\\ID=%s_settings.npy\" % (ID), allow_pickle = True)\n",
    "\n",
    "[chrom, [klog_min, klog_max, klog_num]] = settings\n",
    "\n",
    "[n_bind, v_int, chi, e_m, phi_c, poly_marks, mu_max, mu_min, del_mu, f_om, N_old, N_m_old, b_old] = chrom\n",
    "\n",
    "b = 40\n",
    "\n",
    "N = N_old *b_old/b\n",
    "N_m = N_m_old *b_old/b\n",
    "chrom = [n_bind, v_int, chi, e_m, phi_c, poly_marks, mu_max, mu_min, del_mu, f_om, N, N_m, b]\n",
    "\n",
    "k_vec = np.logspace(klog_min, klog_max, klog_num) / b\n",
    "\n",
    "homo_gaus_b40 = calc_sf2_chromo_shlk(chrom, k_vec)\n",
    "print(b)"
   ]
  },
  {
   "cell_type": "code",
   "execution_count": 45,
   "id": "cfe0b492",
   "metadata": {},
   "outputs": [],
   "source": [
    "[n_bind, v_int, chi, e_m, phi_c, poly_marks, mu_max, mu_min, del_mu, f_om, N, N_m, b] = chrom\n",
    "\n",
    "l_p = 20 # 20 nm chromosomal DNA\n",
    "bp_p_b = 45 # base pairs per bond\n",
    "nm_p_bp = 0.34 # nanometetrs per base pair\n",
    "b_fresh = l_p * 2 #kuhn length\n",
    "\n",
    "N_fresh = (len(poly_marks[0])-1) * bp_p_b * nm_p_bp * (1/b_fresh)\n",
    "N_m_fresh = N_fresh/(len(poly_marks[0])-1)\n",
    "chrom_fresh = [n_bind, v_int, chi, e_m, phi_c, poly_marks, mu_max, mu_min, del_mu, f_om, N_fresh, N_m_fresh, b_fresh]\n",
    "\n",
    "k_vec_fresh = np.logspace(klog_min, klog_max, klog_num) / b_fresh\n",
    "\n",
    "homo_gaus_fresh = calc_sf2_chromo_shlk(chrom_fresh, k_vec_fresh)"
   ]
  },
  {
   "cell_type": "code",
   "execution_count": 46,
   "id": "dca1da3e",
   "metadata": {},
   "outputs": [
    {
     "data": {
      "text/plain": [
       "36647.974528301886"
      ]
     },
     "execution_count": 46,
     "metadata": {},
     "output_type": "execute_result"
    }
   ],
   "source": [
    "N_old"
   ]
  },
  {
   "cell_type": "code",
   "execution_count": 47,
   "id": "7d84e954",
   "metadata": {},
   "outputs": [
    {
     "data": {
      "text/plain": [
       "97117.13249999999"
      ]
     },
     "execution_count": 47,
     "metadata": {},
     "output_type": "execute_result"
    }
   ],
   "source": [
    "N"
   ]
  },
  {
   "cell_type": "code",
   "execution_count": 48,
   "id": "7d2360a1",
   "metadata": {},
   "outputs": [
    {
     "data": {
      "text/plain": [
       "97117.1325"
      ]
     },
     "execution_count": 48,
     "metadata": {},
     "output_type": "execute_result"
    }
   ],
   "source": [
    "N_fresh"
   ]
  },
  {
   "cell_type": "code",
   "execution_count": 62,
   "id": "4c8f4e62",
   "metadata": {},
   "outputs": [],
   "source": [
    "homo_nuc_fresh = calc_sf2_nuclear_tower(chrom_fresh, k_vec_fresh)"
   ]
  },
  {
   "cell_type": "code",
   "execution_count": 73,
   "id": "32df4fb3",
   "metadata": {},
   "outputs": [
    {
     "data": {
      "text/plain": [
       "<matplotlib.legend.Legend at 0x27171c8a350>"
      ]
     },
     "execution_count": 73,
     "metadata": {},
     "output_type": "execute_result"
    },
    {
     "data": {
      "image/png": "[encoded data removed]",
      "text/plain": [
       "<Figure size 1000x800 with 1 Axes>"
      ]
     },
     "metadata": {},
     "output_type": "display_data"
    }
   ],
   "source": [
    "\n",
    "import matplotlib.pyplot as plt\n",
    "plt.figure(figsize=(10,8))\n",
    "font = {'family' : 'serif',\n",
    "        'weight':'normal',\n",
    "        'size': 18}\n",
    "plt.rc('font', **font)\n",
    "alh = 1\n",
    "# plt.plot(k_vec, homo_nuc/N**2, label = \"nuc\", linestyle = \"-\", alpha = alh)\n",
    "plt.plot(k_vec_old, homo_gaus_b106/N_old**2, label = \"gaus, b = \" + str(b_old), linestyle = \"-\", alpha = alh)\n",
    "# plt.plot(k_vec, homo_gaus_b40/N**2, label = \"converted, b = \" + str(b), linestyle = \"-\", alpha = alh)\n",
    "plt.plot(k_vec_fresh, homo_gaus_fresh/N_fresh**2, label = \"gaus, b = \" + str(b_fresh), linestyle = \"-\", alpha = alh)\n",
    "plt.plot(k_vec_fresh, homo_nuc_fresh/N_fresh**2, label = \"nuc, b = \" + str(b_fresh), linestyle = \"-\", alpha = alh)\n",
    "# plt.plot(k_vec, homo_gaus_b106*(b_old/b)/N**2, label = \"data conv_b = \" + str(b_old), linestyle = \"dotted\", alpha = alh)\n",
    "\n",
    "# plt.text(5, 0.0035, '$k^{-2}$')\n",
    "# plt.text(5.5, 0.0015, '$k^{-2}$')\n",
    "\n",
    "plt.xscale('log')\n",
    "plt.yscale('log')\n",
    "\n",
    "plt.title(\"homopoly, $S_1^* < S_2^*$\")\n",
    "plt.xlabel(r'$K$')\n",
    "plt.ylabel(r'Structure Factor $S_{2}(K;N)$')\n",
    "# plt.xlim((1e-3, 1e2))\n",
    "\n",
    "low = 22\n",
    "high = 24\n",
    "plt.plot(k_vec[low:high], 0.00000002*k_vec[low:high]**-2, linestyle = \"--\", color = \"grey\")\n",
    "plt.text(.0009, 0.011, '$k^{-2}$')\n",
    "\n",
    "plt.legend()"
   ]
  },
  {
   "cell_type": "code",
   "execution_count": null,
   "id": "9c1466a3",
   "metadata": {},
   "outputs": [],
   "source": []
  }
 ],
 "metadata": {
  "kernelspec": {
   "display_name": "Python 3 (ipykernel)",
   "language": "python",
   "name": "python3"
  },
  "language_info": {
   "codemirror_mode": {
    "name": "ipython",
    "version": 3
   },
   "file_extension": ".py",
   "mimetype": "text/x-python",
   "name": "python",
   "nbconvert_exporter": "python",
   "pygments_lexer": "ipython3",
   "version": "3.10.9"
  }
 },
 "nbformat": 4,
 "nbformat_minor": 5
}
