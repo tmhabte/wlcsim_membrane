{
 "cells": [
  {
   "cell_type": "code",
   "execution_count": 10,
   "metadata": {},
   "outputs": [],
   "source": [
    "import numpy as np\n",
    "import sympy as sp\n",
    "import wlcstat.wlc_copoly as wlc_copoly\n",
    "from scipy.interpolate import interp1d\n",
    "\n",
    "#FOR VERTEX:\n",
    "import sys\n",
    "sys.path.append(\"./vertex_subroutines\")\n",
    "from GAMcalc import *  # Code for calculating vertex functions\n",
    "import propagator  # propagator object used to store pre-calculated values\n",
    "import wignerD as wd # wigner D object used to store pre-calculated values\n",
    "\n",
    "import matplotlib.pyplot as plt\n",
    "from matplotlib.collections import LineCollection\n",
    "from matplotlib.colors import ListedColormap, BoundaryNorm"
   ]
  },
  {
   "cell_type": "code",
   "execution_count": 5,
   "metadata": {},
   "outputs": [],
   "source": [
    "pset=propagator.prop_set(nlam=10) \n",
    "wigset = wd.wigner_d_vals()"
   ]
  },
  {
   "cell_type": "code",
   "execution_count": 13,
   "metadata": {},
   "outputs": [
    {
     "data": {
      "text/plain": [
       "(DEL_A1, DEL_B1, DEL_A2)"
      ]
     },
     "execution_count": 13,
     "metadata": {},
     "output_type": "execute_result"
    }
   ],
   "source": [
    "sp.var(\"DEL_A1 DEL_B1 DEL_A2\")\n",
    "DEL_B2 = -DEL_A1 -DEL_B1 -DEL_A2"
   ]
  },
  {
   "cell_type": "code",
   "execution_count": 7,
   "metadata": {},
   "outputs": [],
   "source": [
    "N_1 = 10.\n",
    "# FA_1_arr = np.arange(0.3, 0.701, .1) #np.array([0.01, 0.02, 0.05, 0.1, 0.2, 0.3, 0.4, .5, 0.6, 0.7, 0.8]) #np.arange(0.1, 0.701, 0.05) #np.array([0.01, 0.02, 0.05, 0.1, 0.3, .5, 0.7])#\n",
    "FA_1 = 0.5\n",
    "PHI_1 = 0.99999\n",
    "\n",
    "N_2 = N_1\n",
    "FA_2 = 0.9\n",
    "PHI_2 = 0.00001\n",
    "\n",
    "# k_vec = [q_star]#np.logspace(np.log10(k0), np.log10(kf), nk)\n",
    "# k_ind = 0\n",
    "\n",
    "# chi_range = np.arange(1, 100, 0.01)/N_1\n",
    "CHI = 5/N_1\n",
    "\n",
    "\n",
    "monodisp_FA_arr = np.arange(0.3, 0.701, 0.1)\n",
    "\n",
    "if (PHI_1 + PHI_2 > 1.00001) or (PHI_1 + PHI_2 < 1 - .00001):\n",
    "    raise Exception(\"Phis dont add up to 1\")"
   ]
  },
  {
   "cell_type": "markdown",
   "metadata": {},
   "source": [
    "#### (Choosing k*) -> WRONG for polydisp b/c gamma2 that its based on is monodisp"
   ]
  },
  {
   "cell_type": "code",
   "execution_count": 8,
   "metadata": {},
   "outputs": [],
   "source": [
    "KS = spinodal(pset, N_1, FA_1) #TODO: WRONG b/c based on monodisperse gamma2 result .need to redo for polydisp\n",
    "q_star = KS[0]\n",
    "\n",
    "cyl_q1 = q_star*np.array([1, 0, 0])\n",
    "cyl_q2 = 0.5*q_star*np.array([-1, np.sqrt(3), 0])\n",
    "cyl_q3 = 0.5*q_star*np.array([-1, -np.sqrt(3), 0])\n",
    "cyl_qs = np.array([cyl_q1, cyl_q2, cyl_q3])"
   ]
  },
  {
   "cell_type": "markdown",
   "metadata": {},
   "source": [
    "# Monodisperse result"
   ]
  },
  {
   "cell_type": "markdown",
   "metadata": {},
   "source": [
    "### Vertex codebase"
   ]
  },
  {
   "cell_type": "code",
   "execution_count": 9,
   "metadata": {},
   "outputs": [
    {
     "name": "stderr",
     "output_type": "stream",
     "text": [
      "./vertex_subroutines\\MultiPoint.py:206: RuntimeWarning: invalid value encountered in cdouble_scalars\n",
      "  if abs(out/(sum2+tol))<tol and l2>max(lam0_2,lam_2):\n",
      "./vertex_subroutines\\MultiPoint.py:209: RuntimeWarning: invalid value encountered in cdouble_scalars\n",
      "  if abs(sum2/(sum1+tol))<tol and l1>max(lam0_1,lam_1):\n"
     ]
    },
    {
     "data": {
      "text/plain": [
       "7.703719777548943e-32j"
      ]
     },
     "execution_count": 9,
     "metadata": {},
     "output_type": "execute_result"
    }
   ],
   "source": [
    "gamma3(pset, N_1, FA_1, cyl_qs)"
   ]
  },
  {
   "cell_type": "markdown",
   "metadata": {},
   "source": [
    "### Matrix"
   ]
  },
  {
   "cell_type": "code",
   "execution_count": 19,
   "metadata": {},
   "outputs": [],
   "source": [
    "#2x2x2"
   ]
  },
  {
   "cell_type": "markdown",
   "metadata": {},
   "source": [
    "# Polydisperse result"
   ]
  },
  {
   "cell_type": "markdown",
   "metadata": {},
   "source": [
    "### Annealed disorder avg"
   ]
  },
  {
   "cell_type": "markdown",
   "metadata": {},
   "source": [
    "### Exact, expanded matrix"
   ]
  },
  {
   "cell_type": "code",
   "execution_count": 22,
   "metadata": {},
   "outputs": [],
   "source": [
    "#can construct 4x4x4/ extend einstein notation to now sum over all olymers divided by vol frac. \n",
    "#that would give me the pre-incompress result.  BUT HOW TO APPLY INCOMPR. \n",
    "#Don t need to actually worry about constructing the matrix. Just need a sum over the appropriate terms\n",
    "#incompressibility is only applied to the last polymer DelB\n",
    "\n",
    "#SOLN?:\n",
    "#literally the same einstein sum, with a for loop before for all polymer types, and including a product of del vectors evaluated \n",
    "#at each index within the sum terms\n",
    "#would have the DEL vector's last entry be the negative sum of all previous entries. \n",
    "#can then just procede normally thorugh the sum, now with a set of del vectors products, taking incomp into account\n",
    "\n",
    "#TO determine:\n",
    "#WAY to utilize sympy and scipyoptimize? have amlpitudes as symbols in sympy which are then optimized over in scipyoprimize\n",
    "poly_list = [[FA_1, N_1, PHI_1], [FA_2, N_2, PHI_2]]\n",
    "dlta = np.array([DEL_A1, DEL_B1, DEL_A2, DEL_B2])\n",
    "\n",
    "def gamma3binary(pset, Ks, poly_list, dlta):\n",
    "    #Assuming same N\n",
    "    #hardcoded DELTA\n",
    "    #need to return an obe=ejc tthat has 3 different amplitude variables which can be minimized over in scipy\n",
    "    \n",
    "    K1, K2, K3 = Ks\n",
    "    if norm(K1+K2+K3) >= 1e-10:\n",
    "        raise('Qs must add up to zero')\n",
    "        \n",
    "    if not (abs(norm(K1)-norm(K2)) < 1e-5 \\\n",
    "        and abs(norm(K2)-norm(K3)) < 1e-5):\n",
    "        raise('Qs must have same length')\n",
    "        \n",
    "    val = 0\n",
    "    for i, poly in enumerate(poly_list):\n",
    "        FA = poly[0]\n",
    "        N = poly[1]\n",
    "        phi_poly = poly[2]\n",
    "        \n",
    "        s3 = s3wlc(pset, N, FA, Ks)\n",
    "        s2inv = s2inverse(pset, N, FA, norm(K1))\n",
    "        for I0, I1, I2 in product([0,1], repeat=3):\n",
    "            val -= (1/phi_poly) * s3[I0][I1][I2]* (s2inv[I0][0] - s2inv[I0][1])*\\\n",
    "                                   (s2inv[I1][0] - s2inv[I1][1])*\\\n",
    "                                   (s2inv[I2][0] - s2inv[I2][1])*\\\n",
    "                                    -1**(I0 + I1 + I2)*\\\n",
    "                                    dlta[I0+i*2]*dlta[I1+i*2]*dlta[I2+i*2] \n",
    "\n",
    "    return val*(N**2) "
   ]
  },
  {
   "cell_type": "code",
   "execution_count": 67,
   "metadata": {},
   "outputs": [],
   "source": [
    "G3 = gamma3binary(pset, cyl_qs, poly_list, dlta)"
   ]
  },
  {
   "cell_type": "code",
   "execution_count": 50,
   "metadata": {},
   "outputs": [
    {
     "data": {
      "text/plain": [
       "(x, y)"
      ]
     },
     "execution_count": 50,
     "metadata": {},
     "output_type": "execute_result"
    }
   ],
   "source": [
    "sp.var(\"x y\")"
   ]
  },
  {
   "cell_type": "code",
   "execution_count": 51,
   "metadata": {},
   "outputs": [],
   "source": [
    "def testrr(coef):\n",
    "    return coef*x + coef*y"
   ]
  },
  {
   "cell_type": "code",
   "execution_count": 52,
   "metadata": {},
   "outputs": [
    {
     "data": {
      "text/plain": [
       "sympy.core.add.Add"
      ]
     },
     "execution_count": 52,
     "metadata": {},
     "output_type": "execute_result"
    }
   ],
   "source": [
    "type(testrr(5))"
   ]
  },
  {
   "cell_type": "code",
   "execution_count": 53,
   "metadata": {},
   "outputs": [
    {
     "data": {
      "text/latex": [
       "$\\displaystyle 5 x$"
      ],
      "text/plain": [
       "5*x"
      ]
     },
     "execution_count": 53,
     "metadata": {},
     "output_type": "execute_result"
    }
   ],
   "source": [
    "func"
   ]
  },
  {
   "cell_type": "code",
   "execution_count": 55,
   "metadata": {},
   "outputs": [
    {
     "data": {
      "text/plain": [
       "35"
      ]
     },
     "execution_count": 55,
     "metadata": {},
     "output_type": "execute_result"
    }
   ],
   "source": [
    "func = testrr(5)\n",
    "funker = sp.lambdify([x, y], func, 'numpy')\n",
    "funker(5, 2)"
   ]
  },
  {
   "cell_type": "code",
   "execution_count": null,
   "metadata": {},
   "outputs": [],
   "source": [
    "mini = optimize.fmin(lambda)"
   ]
  },
  {
   "cell_type": "code",
   "execution_count": null,
   "metadata": {},
   "outputs": [],
   "source": [
    "wlc_copoly.s2_wlc_diblock(k_vec, N_1, FA_1, dimensions=3, alpha_max=25)\n"
   ]
  },
  {
   "cell_type": "code",
   "execution_count": null,
   "metadata": {},
   "outputs": [],
   "source": [
    "4x4x4, incompres -> 3x3x3. What would I do then? For the Now have at minimum 3 distinct order parameters, \n",
    "each with their own amplitude and lengthscale.\n",
    "Answer: Mus tnow calulcate free energies (amplitude minimization procedure), and can compare in limiting case to monodisperse"
   ]
  },
  {
   "cell_type": "code",
   "execution_count": 62,
   "metadata": {},
   "outputs": [
    {
     "data": {
      "text/plain": [
       "<function _lambdifygenerated(DEL_A1, DEL_B1, DEL_A2)>"
      ]
     },
     "execution_count": 62,
     "metadata": {},
     "output_type": "execute_result"
    }
   ],
   "source": [
    "G3"
   ]
  },
  {
   "cell_type": "code",
   "execution_count": 77,
   "metadata": {},
   "outputs": [
    {
     "ename": "TypeError",
     "evalue": "_lambdifygenerated() missing 2 required positional arguments: 'DEL_B1' and 'DEL_A2'",
     "output_type": "error",
     "traceback": [
      "\u001b[1;31m---------------------------------------------------------------------------\u001b[0m",
      "\u001b[1;31mTypeError\u001b[0m                                 Traceback (most recent call last)",
      "\u001b[1;32m<ipython-input-77-f860de8839bf>\u001b[0m in \u001b[0;36m<module>\u001b[1;34m\u001b[0m\n\u001b[1;32m----> 1\u001b[1;33m \u001b[0mG3lambd\u001b[0m\u001b[1;33m(\u001b[0m\u001b[1;33m[\u001b[0m\u001b[1;36m1\u001b[0m\u001b[1;33m,\u001b[0m\u001b[1;36m2\u001b[0m\u001b[1;33m,\u001b[0m\u001b[1;36m1\u001b[0m\u001b[1;33m]\u001b[0m\u001b[1;33m)\u001b[0m\u001b[1;33m\u001b[0m\u001b[1;33m\u001b[0m\u001b[0m\n\u001b[0m",
      "\u001b[1;31mTypeError\u001b[0m: _lambdifygenerated() missing 2 required positional arguments: 'DEL_B1' and 'DEL_A2'"
     ]
    }
   ],
   "source": [
    "G3lambd([1,2,1])"
   ]
  },
  {
   "cell_type": "markdown",
   "metadata": {},
   "source": [
    "## Free energy analysis"
   ]
  },
  {
   "cell_type": "code",
   "execution_count": 79,
   "metadata": {},
   "outputs": [
    {
     "name": "stderr",
     "output_type": "stream",
     "text": [
      "C:\\Users\\Thomas\\anaconda3\\lib\\site-packages\\scipy\\optimize\\optimize.py:689: ComplexWarning: Casting complex values to real discards the imaginary part\n",
      "  fsim[k] = func(sim[k])\n",
      "C:\\Users\\Thomas\\anaconda3\\lib\\site-packages\\scipy\\optimize\\optimize.py:721: ComplexWarning: Casting complex values to real discards the imaginary part\n",
      "  fsim[-1] = fxr\n",
      "C:\\Users\\Thomas\\anaconda3\\lib\\site-packages\\scipy\\optimize\\optimize.py:714: ComplexWarning: Casting complex values to real discards the imaginary part\n",
      "  fsim[-1] = fxe\n"
     ]
    }
   ],
   "source": [
    "G3lambd = sp.lambdify([DEL_A1, DEL_B1, DEL_A2], G3, 'numpy')\n",
    "\n",
    "amp = optimize.fmin(lambda amp: G3lambd(amp[0], amp[1], amp[2]), [1,1,1], disp=False)"
   ]
  },
  {
   "cell_type": "code",
   "execution_count": 80,
   "metadata": {},
   "outputs": [
    {
     "data": {
      "text/plain": [
       "array([-4.68841183e+52,  1.09967632e+52, -7.56899531e+52])"
      ]
     },
     "execution_count": 80,
     "metadata": {},
     "output_type": "execute_result"
    }
   ],
   "source": [
    "amp"
   ]
  },
  {
   "cell_type": "code",
   "execution_count": null,
   "metadata": {},
   "outputs": [],
   "source": [
    "# TO DO: Figure out lambdify, do optiization procedure, extend to G4\n",
    "    "
   ]
  }
 ],
 "metadata": {
  "kernelspec": {
   "display_name": "Python 3",
   "language": "python",
   "name": "python3"
  },
  "language_info": {
   "codemirror_mode": {
    "name": "ipython",
    "version": 3
   },
   "file_extension": ".py",
   "mimetype": "text/x-python",
   "name": "python",
   "nbconvert_exporter": "python",
   "pygments_lexer": "ipython3",
   "version": "3.8.5"
  }
 },
 "nbformat": 4,
 "nbformat_minor": 4
}
