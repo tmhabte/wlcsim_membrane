{
 "cells": [
  {
   "cell_type": "code",
   "execution_count": 1,
   "id": "d8d34068-c5f6-4caf-a819-5821cb0817ec",
   "metadata": {},
   "outputs": [],
   "source": [
    "from itertools import permutations as perms\n",
    "from itertools import product\n",
    "import numpy as np\n",
    "from scipy.interpolate import interp1d\n",
    "from scipy import optimize\n",
    "from scipy.optimize import basinhopping\n",
    "import matplotlib.pyplot as plt\n",
    "import matplotlib.patches\n",
    "import seaborn as sns\n",
    "from matplotlib.colors import LogNorm"
   ]
  },
  {
   "cell_type": "markdown",
   "id": "8ebabdc7-77bc-426c-866e-8efda8a5c169",
   "metadata": {},
   "source": [
    "# PABS"
   ]
  },
  {
   "cell_type": "markdown",
   "id": "4e8b3c44-97e5-479e-b83f-87a323c44611",
   "metadata": {},
   "source": [
    "### load system"
   ]
  },
  {
   "cell_type": "code",
   "execution_count": 4,
   "id": "2d19e33b-4f72-41a4-b3d6-f01ee2f7b323",
   "metadata": {},
   "outputs": [],
   "source": [
    "# from PABS_correct_reduc import * #OLD\n",
    "from PABS_vertex_calc import *"
   ]
  },
  {
   "cell_type": "code",
   "execution_count": 5,
   "id": "1da7da0e-63d1-4c13-a0c7-587544d65fa9",
   "metadata": {},
   "outputs": [
    {
     "name": "stdout",
     "output_type": "stream",
     "text": [
      "rho_p (# / nm^3):  3.0100000000000006e-09\n",
      "rho_s (# / nm^3):  63.99999980736\n",
      "M:  50\n",
      "N:  50000\n",
      "b:  1\n",
      "mu1 array: [-5.  -4.5 -4.  -3.5 -3.  -2.5 -2.  -1.5 -1.  -0.5]\n",
      "v_int:  [[-4  4]\n",
      " [ 4 -4]]\n",
      "k_vec array: [0.00316228 0.00356225 0.00401281 0.00452035 0.0050921  0.00573615\n",
      " 0.00646167 0.00727895 0.00819961 0.00923671 0.01040498 0.01172102\n",
      " 0.01320352 0.01487352 0.01675475 0.01887392 0.02126112 0.02395027\n",
      " 0.02697954 0.03039195 0.03423598 0.0385662  0.04344412 0.04893901\n",
      " 0.0551289  0.06210169 0.06995642 0.07880463 0.08877197 0.1       ]\n"
     ]
    }
   ],
   "source": [
    "ID = 23457.04\n",
    "\n",
    "# looping = \"full mark dens comp alt f_bind,\"\n",
    "\n",
    "settings = np.load(r\"C:\\Users\\tmhab\\wlcsim_membrane\\binder_diblock\\ID=%s_settings.npy\" % (ID), allow_pickle = True)\n",
    "\n",
    "[chrom, [klog_min, klog_max, klog_num]] = settings\n",
    "\n",
    "# [n_bind, v_int, Vol_int, e_m, rho_c, rho_s, poly_marks, M, mu_max, mu_min, del_mu, f_om, N, N_m, b] = chrom\n",
    "[n_bind, v_int, Vol_int, e_m, rho_p, rho_s, poly_marks, M, mu_max, mu_min, del_mu, alpha, N, N_m, b] = chrom\n",
    "\n",
    "[pa_vec, marks_2] = poly_marks\n",
    "\n",
    "mu1_array = np.arange(mu_min, mu_max, del_mu)\n",
    "mu2_array = np.arange(mu_min, mu_max, del_mu)\n",
    "\n",
    "k_vec = np.logspace(klog_min, klog_max, klog_num) / b\n",
    "  \n",
    "s2_mats = np.load(r\"C:\\Users\\tmhab\\wlcsim_membrane\\binder_diblock\\ID=%s_chrom_s2_mats_v_int=[[%s,%s],[%s,%s]],diblock,mu_max=%s.npy\"\\\n",
    "                 % (ID, v_int[0,0], v_int[0,1], v_int[1,0], v_int[1,1], mu_max), allow_pickle = True)\n",
    "\n",
    "s_bind_A_arr = np.load(r\"ID=%s_s_bind_A.npy\" % ID, allow_pickle=True)\n",
    "s_bind_B_arr = np.load(r\"ID=%s_s_bind_B.npy\" % ID, allow_pickle=True)\n",
    "spacing = int(1 / del_mu)\n",
    "\n",
    "\n",
    "print(\"rho_p (# / nm^3): \", rho_p)\n",
    "print(\"rho_s (# / nm^3): \", alpha * rho_p/ M)\n",
    "print(\"M: \", M)\n",
    "print(\"N: \", N)\n",
    "print(\"b: \", b)\n",
    "\n",
    "print(\"mu1 array:\", mu1_array)\n",
    "print(\"v_int: \", v_int)\n",
    "\n",
    "print(\"k_vec array:\", k_vec)"
   ]
  },
  {
   "cell_type": "code",
   "execution_count": 6,
   "id": "742c3824-09e2-44f1-8cf6-a411970d5b4c",
   "metadata": {},
   "outputs": [
    {
     "data": {
      "text/plain": [
       "array([1.52, 1.52])"
      ]
     },
     "execution_count": 6,
     "metadata": {},
     "output_type": "execute_result"
    }
   ],
   "source": [
    "e_m"
   ]
  },
  {
   "cell_type": "code",
   "execution_count": 7,
   "id": "e9373032-fd96-45d9-ad80-a156b2904fa1",
   "metadata": {},
   "outputs": [
    {
     "data": {
      "text/plain": [
       "array([[1.46405108e-01, 1.04625282e-03, 1.04625282e-03, 0.00000000e+00],\n",
       "       [1.04625282e-03, 7.51246314e-06, 7.44141291e-06, 0.00000000e+00],\n",
       "       [1.04625282e-03, 7.44141291e-06, 7.51246314e-06, 0.00000000e+00],\n",
       "       [0.00000000e+00, 0.00000000e+00, 0.00000000e+00, 6.39999998e+01]])"
      ]
     },
     "execution_count": 7,
     "metadata": {},
     "output_type": "execute_result"
    }
   ],
   "source": [
    "s2_mats[0][0][0]"
   ]
  },
  {
   "cell_type": "markdown",
   "id": "122286f1-f676-4da5-8524-74a1b759cc3d",
   "metadata": {},
   "source": [
    "### stability analysis"
   ]
  },
  {
   "cell_type": "code",
   "execution_count": 13,
   "id": "cadcf5a7-55ba-42cd-b591-5e8ba3c54a79",
   "metadata": {},
   "outputs": [],
   "source": [
    "# %%time\n",
    "# k* stability analysis NUMBER DENSITY THEORY\n",
    "\n",
    "chi = 0\n",
    "\n",
    "min_eigval_arr = np.zeros((len(mu1_array[:]), len(mu2_array[:]), len(k_vec)))\n",
    "\n",
    "min_eigval_arr_allk_DENS = np.zeros((len(mu1_array[:]), len(mu2_array[:])))\n",
    "min_eigval_arr_allk_ps = np.zeros((len(mu1_array[:]), len(mu2_array[:])))\n",
    "\n",
    "min_eigvec_arr = np.zeros((len(mu1_array[:]), len(mu2_array[:]), len(k_vec), 3))\n",
    "min_eigvec_arr_allk_DENS = np.zeros((len(mu1_array[:]), len(mu2_array[:]), 3))\n",
    "\n",
    "k_star_arr_DENS= np.zeros((len(mu1_array[:]), len(mu2_array[:]))) \n",
    "\n",
    "for i, mu1 in enumerate(mu1_array[:]):\n",
    "    for j, mu2 in enumerate(mu2_array[:]):\n",
    "#         if mu1 == mu2:\n",
    "#             continue\n",
    "        mu = [mu1, mu2]\n",
    "        # print(\"mu: \", mu)\n",
    "\n",
    "        for ik, k in enumerate(k_vec):\n",
    "\n",
    "            S2_mat =  s2_mats[i][j][ik].copy()\n",
    "\n",
    "            # FULL SOLUTION, 2 reader proteins\n",
    "            S2_det = np.linalg.det(S2_mat)            \n",
    "            # if S2_det != 0:# and S2_cond < 1e10:\n",
    "            S2_inv = np.linalg.inv(S2_mat)\n",
    "        \n",
    "            # poly/solv reduction\n",
    "            S2_inv_ps =  np.array([[S2_inv[0,0] + S2_inv[3,3], S2_inv[0,1], S2_inv[0, 2]],\\\n",
    "               [S2_inv[1,0], S2_inv[1,1] , S2_inv[1,2]],\\\n",
    "               [S2_inv[2,0], S2_inv[2,1] , S2_inv[2,2]]])\n",
    "        \n",
    "            G2 = np.array([[S2_inv_ps[0,0] - 2*chi, S2_inv_ps[0,1], S2_inv_ps[0, 2]],\\\n",
    "               [S2_inv_ps[1,0], S2_inv_ps[1,1] + v_int[0,0]*Vol_int, S2_inv_ps[1,2] + v_int[0,1]*Vol_int],\\\n",
    "               [S2_inv_ps[2,0], S2_inv_ps[2,1] + v_int[1,0]*Vol_int, S2_inv_ps[2,2] + v_int[1,1]*Vol_int]])\n",
    "            \n",
    "            val, vec = np.linalg.eigh(G2)\n",
    "            vec = vec.T\n",
    "#                 print(vec)\n",
    "#                 print(vec.T)\n",
    "#                 print(val)\n",
    "            min_val = np.min(val)            \n",
    "            min_eigval_arr[i][j][ik] = min_val\n",
    "            min_eigvec_arr[i][j][ik] = vec[np.where(val == min_val)]\n",
    "\n",
    "\n",
    "        # all-k analysis\n",
    "        # min eigvals, eigvecs at given mu1,mu2 for each k        \n",
    "        min_vals = min_eigval_arr[i][j][:][np.nonzero(min_eigval_arr[i][j][:])] \n",
    "        min_vecs = min_eigvec_arr[i][j][:][np.nonzero(min_eigval_arr[i][j][:])]\n",
    "\n",
    "        # minimum eigenvalue at given mu1,mu2 across all ks\n",
    "        minval_allk = np.min(min_vals) \n",
    "        \n",
    "        # store this eigenvalue and corresponding eigenvector\n",
    "        min_eigval_arr_allk_DENS[i][j] = minval_allk \n",
    "        min_eigvec_arr_allk_DENS[i][j] = min_vecs[np.where(min_vals==minval_allk)]\n",
    "\n",
    "        k_star = k_vec[np.where(min_vals==minval_allk)]\n",
    "        k_star_arr_DENS[i][j] = k_star\n",
    "\n",
    "# setting all non-decomposed/ separated systems to 0 \n",
    "poly_fluc = min_eigvec_arr_allk_DENS[:,:,0]\n",
    "poly_fluc[np.where(np.sign(min_eigval_arr_allk_DENS) == 1) ] = 0\n",
    "\n",
    "prot1_fluc = min_eigvec_arr_allk_DENS[:,:,1]\n",
    "prot1_fluc[np.where(np.sign(min_eigval_arr_allk_DENS) == 1) ] = 0\n",
    "\n",
    "prot2_fluc = min_eigvec_arr_allk_DENS[:,:,2]\n",
    "prot2_fluc[np.where(np.sign(min_eigval_arr_allk_DENS) == 1) ] = 0\n",
    "\n",
    "k_star_arr_DENS[np.where(np.sign(min_eigval_arr_allk_DENS) == 1) ] = -1 # unphysical value, to indicate outside of spinodal"
   ]
  },
  {
   "cell_type": "code",
   "execution_count": 18,
   "id": "a1864656-216b-4a07-9500-d9bfef23b785",
   "metadata": {
    "scrolled": true
   },
   "outputs": [
    {
     "data": {
      "text/plain": [
       "<Figure size 640x480 with 0 Axes>"
      ]
     },
     "metadata": {},
     "output_type": "display_data"
    },
    {
     "data": {
      "image/png": "[encoded data removed]",
      "text/plain": [
       "<Figure size 1000x800 with 2 Axes>"
      ]
     },
     "metadata": {},
     "output_type": "display_data"
    }
   ],
   "source": [
    "# Explanation: first choose distances. These distances must be in the same units at the persisitnece length due  to exp(xm) term\n",
    "# in sf calculation. Doesnt matter if used b to scale the lengths used- they are still in nanometers\n",
    "# then invert these distances to get magnitudes of wavevectors\n",
    "# then find k star, and invert it to get the critical lengthscale in units of nm\n",
    "\n",
    "\n",
    "fig = plt.figure()\n",
    "plt.figure(figsize=(10,8))\n",
    "\n",
    "font = {'family' : 'serif',\n",
    "        'weight':'normal',\n",
    "        'size': 18}\n",
    "plt.rc('font', **font)\n",
    "\n",
    "\n",
    "min_ind = 0\n",
    "max_ind = len(mu1_array)\n",
    "    \n",
    "k_star_arr_DENS[np.where(np.sign(min_eigval_arr_allk_DENS) == 1) ] = np.nan\n",
    "ax = sns.heatmap((1/(k_star_arr_DENS[min_ind:max_ind,min_ind:max_ind])), linewidth=0.25, cmap = \"cool\", xticklabels=mu2_array[min_ind:max_ind], yticklabels=mu1_array[min_ind:max_ind],\\\n",
    "                 cbar_kws={'label':  r\"$ \\frac{1}{k^*} \\ (nm)$\"},\\\n",
    "                    vmin=1/(k_vec[-1]), vmax=1/(k_vec[0]))\n",
    "\n",
    "ax.axvline(x=50.5, linewidth=4, color=\"black\", linestyle = \"--\")\n",
    "ax.axhline(y=50.5, linewidth=4, color=\"black\", linestyle = \"--\")\n",
    "\n",
    "plt.ylabel(\"$\\mu^{(1)}$\")\n",
    "plt.xlabel(\"$\\mu^{(2)}$\")\n",
    "plt.title(r\"$PABS, 1/k_{star}$\" +  \", $\\chi = $\" + \\\n",
    "          str(np.round(chi, 2)) \\\n",
    "          +  \", $v_{int} = $ [\" + str(v_int[0]) + \",\" + str(v_int[1]) + \"]\" +\\\n",
    "          \"\\n\")\n",
    "\n",
    "\n",
    "plt.show()\n"
   ]
  },
  {
   "cell_type": "code",
   "execution_count": 20,
   "id": "a47697fb-d2f9-49ca-9404-5e0b825cd671",
   "metadata": {},
   "outputs": [],
   "source": [
    "k_star_arr_DENS[np.where(np.sign(min_eigval_arr_allk_DENS) == 1) ] = -1 # unphysical value, to indicate outside of spinodal"
   ]
  },
  {
   "cell_type": "markdown",
   "id": "d6af430c-519e-47d9-a672-572812905000",
   "metadata": {},
   "source": [
    "### free energy calc"
   ]
  },
  {
   "cell_type": "code",
   "execution_count": null,
   "id": "eb769b01-7261-4871-958c-70603c17196b",
   "metadata": {},
   "outputs": [
    {
     "name": "stdout",
     "output_type": "stream",
     "text": [
      "mu:  -5.0 -5.0\n",
      "out of spinodal; no q_star\n",
      "mu:  -5.0 -4.5\n",
      "out of spinodal; no q_star\n",
      "mu:  -5.0 -4.0\n",
      "out of spinodal; no q_star\n",
      "mu:  -5.0 -3.5\n",
      "mu:  -5.0 -3.0\n",
      "mu:  -5.0 -2.5\n",
      "mu:  -5.0 -2.0\n",
      "mu:  -5.0 -1.5\n",
      "macrophase sep\n",
      "mu:  -5.0 -1.0\n",
      "macrophase sep\n",
      "mu:  -5.0 -0.5\n",
      "macrophase sep\n",
      "mu:  -4.5 -5.0\n",
      "out of spinodal; no q_star\n",
      "mu:  -4.5 -4.5\n",
      "out of spinodal; no q_star\n",
      "mu:  -4.5 -4.0\n",
      "out of spinodal; no q_star\n",
      "mu:  -4.5 -3.5\n",
      "mu:  -4.5 -3.0\n",
      "mu:  -4.5 -2.5\n",
      "mu:  -4.5 -2.0\n",
      "mu:  -4.5 -1.5\n",
      "macrophase sep\n",
      "mu:  -4.5 -1.0\n",
      "macrophase sep\n",
      "mu:  -4.5 -0.5\n",
      "mu:  -4.0 -5.0\n",
      "out of spinodal; no q_star\n",
      "mu:  -4.0 -4.5\n",
      "out of spinodal; no q_star\n",
      "mu:  -4.0 -4.0\n",
      "out of spinodal; no q_star\n",
      "mu:  -4.0 -3.5\n",
      "mu:  -4.0 -3.0\n",
      "mu:  -4.0 -2.5\n",
      "mu:  -4.0 -2.0\n",
      "mu:  -4.0 -1.5\n",
      "macrophase sep\n",
      "mu:  -4.0 -1.0\n",
      "macrophase sep\n",
      "mu:  -4.0 -0.5\n",
      "macrophase sep\n",
      "mu:  -3.5 -5.0\n",
      "mu:  -3.5 -4.5\n",
      "mu:  -3.5 -4.0\n",
      "mu:  -3.5 -3.5\n",
      "mu:  -3.5 -3.0\n",
      "mu:  -3.5 -2.5\n",
      "mu:  -3.5 -2.0\n"
     ]
    }
   ],
   "source": [
    "# %%time\n",
    "# chi = 0\n",
    "# mu1_i = 5\n",
    "# mu2_i = 5\n",
    "\n",
    "phases = np.zeros((len(mu1_array[:]), len(mu2_array[:]))) - 1 \n",
    "for i, mu1 in enumerate(mu1_array[:]):\n",
    "    for j, mu2 in enumerate(mu2_array[:]):\n",
    "        # if i != mu1_i:\n",
    "        #     continue\n",
    "        # if j != mu2_i:\n",
    "        #     continue\n",
    "        print(\"mu: \", mu1, mu2)\n",
    "        q_star = k_star_arr_DENS[i,j]\n",
    "        vec_star = min_eigvec_arr_allk_DENS[i,j]\n",
    "        \n",
    "        if q_star == -1:\n",
    "            print(\"out of spinodal; no q_star\")\n",
    "            phases[i,j] = 0 # disordered phase- outside of spinodal\n",
    "        elif q_star == k_vec[0]:\n",
    "            print(\"macrophase sep\")\n",
    "            phases[i,j] = 1 # macrophase sep\n",
    "\n",
    "        else: #microphse sep\n",
    "        \n",
    "            s_bnd_A = s_bind_A_arr[i,j,:]\n",
    "            s_bnd_B = s_bind_B_arr[i,j,:]\n",
    "            \n",
    "            lam_q = q_star*np.array([1, 0, 0])\n",
    "    \n",
    "            cyl_q1 = q_star*np.array([1, 0, 0])\n",
    "            cyl_q2 = 0.5*q_star*np.array([-1, np.sqrt(3), 0])\n",
    "            cyl_q3 = 0.5*q_star*np.array([-1, -np.sqrt(3), 0])\n",
    "            cyl_qs = np.array([cyl_q1, cyl_q2, cyl_q3])\n",
    "            \n",
    "            bcc_q1 = 2**(-0.5)*q_star*np.array([1,1,0])\n",
    "            bcc_q2 = 2**(-0.5)*q_star*np.array([-1,1,0])\n",
    "            bcc_q3 = 2**(-0.5)*q_star*np.array([0,1,1])\n",
    "            bcc_q4 = 2**(-0.5)*q_star*np.array([0,1,-1])\n",
    "            bcc_q5 = 2**(-0.5)*q_star*np.array([1,0,1])\n",
    "            bcc_q6 = 2**(-0.5)*q_star*np.array([1,0,-1])\n",
    "            \n",
    "            \n",
    "            lam_g3 = 0\n",
    "            G3 = gamma3(chrom, s_bnd_A, s_bnd_B, cyl_qs) # all g3s are eqivlaent\n",
    "            cyl_g3 = (1/6)  * (1/(3*np.sqrt(3))) * 12 * G3#\n",
    "            bcc_g3 = (4/(3*np.sqrt(6))) * G3\n",
    "            \n",
    "            G4_00 = gamma4(chrom, s_bnd_A, s_bnd_B, np.array([lam_q, -lam_q, lam_q, -lam_q]))\n",
    "            lam_g4 = (1/24) * (6) * (1) * G4_00#gamma4_E(poly_mat, dens, N_m, b, M, np.array([lam_q, -lam_q, lam_q, -lam_q]))        \n",
    "            \n",
    "            cyl_g4 = (1/24) * (1/9) *(18*G4_00 + \\\n",
    "              72*gamma4(chrom, s_bnd_A, s_bnd_B, np.array([cyl_q1, -cyl_q1, cyl_q2, -cyl_q2])) )\n",
    "            \n",
    "            bcc_g4 = (1/24)* (G4_00 \\\n",
    "                     + 8*gamma4(chrom, s_bnd_A, s_bnd_B, np.array([bcc_q1, -bcc_q1, bcc_q3, -bcc_q3])) \\\n",
    "                     + 2*gamma4(chrom, s_bnd_A, s_bnd_B, np.array([bcc_q1, -bcc_q1, bcc_q2, -bcc_q2])) \\\n",
    "                     + 4*gamma4(chrom, s_bnd_A, s_bnd_B, np.array([bcc_q1, -bcc_q3, bcc_q2, -bcc_q4])) )\n",
    "    \n",
    "            lam_g2 = (1/2) * 2 * (1) * gamma2(chrom, s_bnd_A, s_bnd_B, q_star, chi)\n",
    "            cyl_g2 = lam_g2\n",
    "            bcc_g2 = lam_g2\n",
    "    \n",
    "            # define a lambda scalar value for a given critica lfluctutaion, then use roots equation to find cirtical points, and eval F at each\n",
    "            lam_lambda_2 = np.einsum(\"ij,i,j ->\", lam_g2, vec_star, vec_star)\n",
    "            lam_lambda_4 = np.einsum(\"ijkl,i,j,k,l ->\", -lam_g4, vec_star, vec_star, vec_star, vec_star)\n",
    "    \n",
    "            pos_l_amps = np.real(np.roots([4*lam_lambda_4,0,2*lam_lambda_2,0]))        \n",
    "            lamF = min(np.real( lam_lambda_2 * pos_l_amps**2 + lam_lambda_4 * pos_l_amps**4))\n",
    "    \n",
    "            \n",
    "            cyl_lambda_2 = np.einsum(\"ij,i,j ->\", cyl_g2, vec_star, vec_star)\n",
    "            cyl_lambda_3 = np.einsum(\"ijk,i,j,k->\", cyl_g3, vec_star, vec_star, vec_star)\n",
    "            cyl_lambda_4 = np.einsum(\"ijkl,i,j,k,l ->\", -cyl_g4, vec_star, vec_star, vec_star, vec_star)\n",
    "    \n",
    "            pos_c_amps = np.real(np.roots([4*cyl_lambda_4,3*cyl_lambda_3,2*cyl_lambda_2,0]))        \n",
    "            cylF = min(np.real( cyl_lambda_2 * pos_c_amps**2 + cyl_lambda_3*pos_c_amps**3 + cyl_lambda_4 * pos_c_amps**4))\n",
    "    \n",
    "            \n",
    "            bcc_lambda_2 = np.einsum(\"ij,i,j ->\", bcc_g2, vec_star, vec_star)\n",
    "            bcc_lambda_3 = np.einsum(\"ijk,i,j,k->\", bcc_g3, vec_star, vec_star, vec_star)\n",
    "            bcc_lambda_4 = np.einsum(\"ijkl,i,j,k,l ->\", -bcc_g4, vec_star, vec_star, vec_star, vec_star)\n",
    "    \n",
    "            pos_b_amps = np.real(np.roots([4*bcc_lambda_4,3*bcc_lambda_3,2*bcc_lambda_2,0]))        \n",
    "            bccF = min(np.real( bcc_lambda_2 * pos_b_amps**2 + bcc_lambda_3*pos_b_amps**3 + bcc_lambda_4 * pos_b_amps**4))        \n",
    "    \n",
    "    \n",
    "            # initial = [0, 0, 0] # poly, A, B\n",
    "            \n",
    "            # amps_l = optimize.fmin(lambda amps: np.real(np.einsum(\"ij,i,j ->\", lam_g2, amps, amps) \\\n",
    "            #                                    +  np.einsum(\"ijkl,i,j,k,l ->\", -lam_g4, amps, amps, amps, amps)), initial, disp=False)\n",
    "            \n",
    "            # lamF = np.real( np.einsum(\"ij,i,j ->\", lam_g2, amps_l, amps_l) \\\n",
    "            #                                 +  np.einsum(\"ijkl,i,j,k,l ->\", -lam_g4, amps_l, amps_l, amps_l, amps_l))\n",
    "    \n",
    "            # print(lamF)\n",
    "                \n",
    "            # amps_l_no4 = optimize.fmin(lambda amps: np.real(np.einsum(\"ij,i,j ->\", lam_g2, amps, amps)), initial, disp=False)\n",
    "            \n",
    "            # lamF_no4 = np.real(np.einsum(\"ij,i,j ->\", lam_g2, amps_l_no4, amps_l_no4))\n",
    "            \n",
    "            # amps_cy = optimize.fmin(lambda amps: np.real(np.einsum(\"ij,i,j ->\", cyl_g2, amps, amps) \\\n",
    "            #                                     + np.einsum(\"ijk,i,j,k ->\", cyl_g3, amps, amps, amps) \\\n",
    "            #                                    +  np.einsum(\"ijkl,i,j,k,l ->\", cyl_g4, amps, amps, amps, amps)), initial, disp=False)\n",
    "            \n",
    "            # cylF = np.real(np.einsum(\"ij,i,j ->\", cyl_g2, amps_cy, amps_cy) \\\n",
    "            #                                     + np.einsum(\"ijk,i,j,k ->\", cyl_g3, amps_cy, amps_cy, amps_cy) \\\n",
    "            #                                     + np.einsum(\"ijkl,i,j,k,l ->\", cyl_g4, amps_cy, amps_cy, amps_cy, amps_cy))\n",
    "    \n",
    "            # amps_bcc = optimize.fmin(lambda amps: np.real(np.einsum(\"ij,i,j ->\", bcc_g2, amps, amps) \\\n",
    "            #                                     + np.einsum(\"ijk,i,j,k ->\", bcc_g3, amps, amps, amps) \\\n",
    "            #                                    +  np.einsum(\"ijkl,i,j,k,l ->\", bcc_g4, amps, amps, amps, amps)), initial, disp=False)\n",
    "            \n",
    "            # bccF = np.real(np.einsum(\"ij,i,j ->\", bcc_g2, amps_bcc, amps_bcc) \\\n",
    "            #                                     + np.einsum(\"ijk,i,j,k ->\", bcc_g3, amps_bcc, amps_bcc, amps_bcc) \\\n",
    "            #                                     + np.einsum(\"ijkl,i,j,k,l ->\", bcc_g4, amps_bcc, amps_bcc, amps_bcc, amps_bcc))\n",
    "    \n",
    "            minF = np.min([lamF, cylF, bccF, 0])\n",
    "            # print(\"energies:\")\n",
    "            # print([lamF])\n",
    "            # print([lamF, cylF])#, bccF])\n",
    "            if minF == 0:\n",
    "                raise Exception(\"phase sep not stable in spinodla??\")\n",
    "            elif minF == lamF:\n",
    "                phases[i,j] = 2\n",
    "            elif minF == cylF:\n",
    "                phases[i,j] = 3\n",
    "            elif minF == bccF:\n",
    "                phases[i,j] = 4"
   ]
  },
  {
   "cell_type": "code",
   "execution_count": null,
   "id": "bdc5d264-fe9b-4bce-8a9f-0ccd8a936846",
   "metadata": {},
   "outputs": [],
   "source": [
    "fig = plt.figure()\n",
    "plt.figure(figsize=(10,8))\n",
    "\n",
    "font = {'family' : 'serif',\n",
    "        'weight':'normal',\n",
    "        'size': 18}\n",
    "plt.rc('font', **font)\n",
    "\n",
    "\n",
    "min_ind = 0\n",
    "max_ind = -1\n",
    "\n",
    "# plt.scatter(mu1_array[np.where(multi_soln_mus == 1)[0]],mu2_array[np.where(multi_soln_mus == 1)[1]])\n",
    "# k_ind = 20\n",
    "#     poly_fluc = min_eigvec_arr_allk[:,:,0]\n",
    "#     poly_fluc[np.where(np.sign(min_eigval_arr_allk) == 1) ] = 0\n",
    "\n",
    "#     prot1_fluc = min_eigvec_arr_allk[:,:,1]\n",
    "#     prot1_fluc[np.where(np.sign(min_eigval_arr_allk) == 1) ] = 0\n",
    "\n",
    "#     prot2_fluc = min_eigvec_arr_allk[:,:,2]\n",
    "#     prot2_fluc[np.where(np.sign(min_eigval_arr_allk) == 1) ] = 0\n",
    "    \n",
    "# k_star_arr_DENS[np.where(np.sign(min_eigval_arr_allk_DENS) == 1) ] = np.nan\n",
    "# ax = sns.heatmap(1/(k_star_arr*b), linewidth=0.25, cmap = \"cool\", xticklabels=mu2_array, yticklabels=mu1_array, cbar_kws={'label':  r\"$ \\frac{1}{k^*} \\ (nm)$\"})\n",
    "ax = sns.heatmap(phases, linewidth=0.25, cmap = \"rainbow\", xticklabels=mu2_array[min_ind:max_ind], yticklabels=mu1_array[min_ind:max_ind],\\\n",
    "                 cbar_kws={'label':  r\"$phase$\"})\n",
    "plt.ylabel(\"$\\mu^{(1)}$\")\n",
    "plt.xlabel(\"$\\mu^{(2)}$\")\n",
    "plt.title(r\"phases\" +  \", $\\chi = $\" + \\\n",
    "          str(np.round(chi, 2)) \\\n",
    "          +  \", $v_{int} = $ [\" + str(v_int[0]) + \",\" + str(v_int[1]) + \"]\" +\\\n",
    "          \"\\n\")\n",
    "\n",
    "\n",
    "plt.show()"
   ]
  },
  {
   "cell_type": "code",
   "execution_count": 63,
   "id": "1e37f057-9906-4e33-ac8f-467ca2fdbd3b",
   "metadata": {},
   "outputs": [],
   "source": [
    "# # define a lambda scalar value for a given critica lfluctutaion, then use roots equation to find cirtical points, and eval F at each\n",
    "# lam_lambda_2 = np.einsum(\"ij,i,j ->\", lam_g2, vec_star, vec_star)\n",
    "# lam_lambda_4 = np.einsum(\"ijkl,i,j,k,l ->\", -lam_g4, vec_star, vec_star, vec_star, vec_star)\n",
    "\n",
    "# pos_l_amps = np.real(np.roots([4*lam_lambda_4,0,2*lam_lambda_2,0]))        \n",
    "# lamF = min(np.real( lam_lambda_2 * pos_l_amps**2 + lam_lambda_4 * pos_l_amps**4))\n",
    "\n",
    "\n",
    "# cyl_lambda_2 = np.einsum(\"ij,i,j ->\", cyl_g2, vec_star, vec_star)\n",
    "# cyl_lambda_3 = np.einsum(\"ijk,i,j,k->\", cyl_g3, vec_star, vec_star, vec_star)\n",
    "# cyl_lambda_4 = np.einsum(\"ijkl,i,j,k,l ->\", -cyl_g4, vec_star, vec_star, vec_star, vec_star)\n",
    "\n",
    "# pos_c_amps = np.real(np.roots([4*cyl_lambda_4,3*cyl_lambda_3,2*cyl_lambda_2,0]))        \n",
    "# cylF = min(np.real( cyl_lambda_2 * pos_c_amps**2 + cyl_lambda_3*pos_c_amps**3 + cyl_lambda_4 * pos_c_amps**4))\n",
    "\n",
    "\n",
    "# bcc_lambda_2 = np.einsum(\"ij,i,j ->\", bcc_g2, vec_star, vec_star)\n",
    "# bcc_lambda_3 = np.einsum(\"ijk,i,j,k->\", bcc_g3, vec_star, vec_star, vec_star)\n",
    "# bcc_lambda_4 = np.einsum(\"ijkl,i,j,k,l ->\", -bcc_g4, vec_star, vec_star, vec_star, vec_star)\n",
    "\n",
    "# pos_b_amps = np.real(np.roots([4*bcc_lambda_4,3*bcc_lambda_3,-2*bcc_lambda_2,0]))        \n",
    "# bccF = min(np.real( bcc_lambda_2 * pos_b_amps**2 + bcc_lambda_3*pos_b_amps**3 + bcc_lambda_4 * pos_b_amps**4))  "
   ]
  },
  {
   "cell_type": "code",
   "execution_count": 47,
   "id": "1db81c8f-0769-4aa5-80ea-3099dbc1dbc4",
   "metadata": {},
   "outputs": [],
   "source": [
    "pos_amps = np.real(np.roots([4*lam_lambda_4,0,2*lam_lambda_2,0]))"
   ]
  },
  {
   "cell_type": "code",
   "execution_count": 49,
   "id": "9eceb511-f427-4daa-a258-4075b17f9292",
   "metadata": {},
   "outputs": [
    {
     "data": {
      "text/plain": [
       "array([ 1.22367877e-08, -1.22367877e-08,  0.00000000e+00])"
      ]
     },
     "execution_count": 49,
     "metadata": {},
     "output_type": "execute_result"
    }
   ],
   "source": [
    "pos_amps"
   ]
  },
  {
   "cell_type": "code",
   "execution_count": 51,
   "id": "73b08cb5-f605-4f57-b23e-c0cbbe322144",
   "metadata": {},
   "outputs": [
    {
     "data": {
      "text/plain": [
       "array([-6.16177623e-14, -6.16177623e-14,  0.00000000e+00])"
      ]
     },
     "execution_count": 51,
     "metadata": {},
     "output_type": "execute_result"
    }
   ],
   "source": [
    "np.real( lam_lambda_2 * pos_amps**2 + lam_lambda_4 * pos_amps**4)"
   ]
  },
  {
   "cell_type": "code",
   "execution_count": 26,
   "id": "3563a81e-9577-4d68-89c3-89efd6723576",
   "metadata": {},
   "outputs": [
    {
     "data": {
      "text/plain": [
       "array([0.])"
      ]
     },
     "execution_count": 26,
     "metadata": {},
     "output_type": "execute_result"
    }
   ],
   "source": [
    "lamF_lambda"
   ]
  },
  {
   "cell_type": "code",
   "execution_count": 25,
   "id": "74319b9c-399b-4d90-a9c4-75d80c5af317",
   "metadata": {},
   "outputs": [
    {
     "data": {
      "text/plain": [
       "3.0100000000000006e-09"
      ]
     },
     "execution_count": 25,
     "metadata": {},
     "output_type": "execute_result"
    }
   ],
   "source": [
    "rho_p"
   ]
  },
  {
   "cell_type": "code",
   "execution_count": 23,
   "id": "fb1e32bb-6deb-49ab-9eb2-d3cb9c112a6c",
   "metadata": {},
   "outputs": [
    {
     "data": {
      "text/plain": [
       "array([[[[ 2.95711511e+17-0.j, -2.65510375e+17-0.j,\n",
       "          -2.65512296e+17-0.j],\n",
       "         [-2.65507625e+17-0.j,  2.41457853e+17-0.j,\n",
       "           2.28956950e+17-0.j],\n",
       "         [-2.65512256e+17-0.j,  2.28967168e+17-0.j,\n",
       "           2.41463381e+17-0.j]],\n",
       "\n",
       "        [[-2.65516968e+17-0.j,  2.35191021e+17-0.j,\n",
       "           2.33273541e+17-0.j],\n",
       "         [ 2.22168095e+17-0.j, -1.98011539e+17-0.j,\n",
       "          -1.82655115e+17-0.j],\n",
       "         [ 2.37953900e+17-0.j, -2.01276647e+17-0.j,\n",
       "          -2.12558774e+17-0.j]],\n",
       "\n",
       "        [[-2.65509385e+17-0.j,  2.33268128e+17-0.j,\n",
       "           2.35185372e+17-0.j],\n",
       "         [ 2.37953388e+17-0.j, -2.12555246e+17-0.j,\n",
       "          -2.01271494e+17-0.j],\n",
       "         [ 2.22170029e+17-0.j, -1.82675287e+17-0.j,\n",
       "          -1.98029225e+17-0.j]]],\n",
       "\n",
       "\n",
       "       [[[-2.65518423e+17-0.j,  2.22165338e+17-0.j,\n",
       "           2.37945768e+17-0.j],\n",
       "         [ 2.35204690e+17-0.j, -1.98036552e+17-0.j,\n",
       "          -2.01293260e+17-0.j],\n",
       "         [ 2.33286306e+17-0.j, -1.82688162e+17-0.j,\n",
       "          -2.12581683e+17-0.j]],\n",
       "\n",
       "        [[ 2.41473119e+17-0.j, -1.98025463e+17-0.j,\n",
       "          -2.12564074e+17-0.j],\n",
       "         [-1.98030230e+17-0.j,  1.60827313e+17-0.j,\n",
       "           1.61859190e+17-0.j],\n",
       "         [-2.12564294e+17-0.j,  1.61866717e+17-0.j,\n",
       "           1.91315287e+17-0.j]],\n",
       "\n",
       "        [[ 2.28976339e+17-0.j, -1.82676263e+17-0.j,\n",
       "          -2.01281897e+17-0.j],\n",
       "         [-2.01277898e+17-0.j,  1.61864605e+17-0.j,\n",
       "           1.67234790e+17-0.j],\n",
       "         [-1.82671125e+17-0.j,  1.28115723e+17-0.j,\n",
       "           1.61870356e+17-0.j]]],\n",
       "\n",
       "\n",
       "       [[[-2.65516758e+17-0.j,  2.37959556e+17-0.j,\n",
       "           2.22168918e+17-0.j],\n",
       "         [ 2.33300125e+17-0.j, -2.12589567e+17-0.j,\n",
       "          -1.82705074e+17-0.j],\n",
       "         [ 2.35218720e+17-0.j, -2.01302219e+17-0.j,\n",
       "          -1.98056472e+17-0.j]],\n",
       "\n",
       "        [[ 2.28973949e+17-0.j, -2.01290933e+17-0.j,\n",
       "          -1.82682788e+17-0.j],\n",
       "         [-1.82679975e+17-0.j,  1.61863319e+17-0.j,\n",
       "           1.28117342e+17-0.j],\n",
       "         [-2.01283568e+17-0.j,  1.67227419e+17-0.j,\n",
       "           1.61866429e+17-0.j]],\n",
       "\n",
       "        [[ 2.41480342e+17-0.j, -2.12579585e+17-0.j,\n",
       "          -1.98040767e+17-0.j],\n",
       "         [-2.12560736e+17-0.j,  1.91307220e+17-0.j,\n",
       "           1.61867676e+17-0.j],\n",
       "         [-1.98023865e+17-0.j,  1.61858713e+17-0.j,\n",
       "           1.60831605e+17-0.j]]]])"
      ]
     },
     "execution_count": 23,
     "metadata": {},
     "output_type": "execute_result"
    }
   ],
   "source": [
    "# -lam_g4"
   ]
  },
  {
   "cell_type": "code",
   "execution_count": 21,
   "id": "b9de7a6d-9122-4fe2-962c-40ced2dd2b40",
   "metadata": {},
   "outputs": [
    {
     "data": {
      "text/plain": [
       "array([-8.02127512e-15, -7.07106781e-01,  7.07106781e-01])"
      ]
     },
     "execution_count": 21,
     "metadata": {},
     "output_type": "execute_result"
    }
   ],
   "source": [
    "vec_star"
   ]
  },
  {
   "cell_type": "code",
   "execution_count": 9,
   "id": "702473a8-8529-4025-9fea-fd391792ffc3",
   "metadata": {},
   "outputs": [
    {
     "data": {
      "text/plain": [
       "(-14923333632008+0j)"
      ]
     },
     "execution_count": 9,
     "metadata": {},
     "output_type": "execute_result"
    }
   ],
   "source": [
    "lam_lambda_4"
   ]
  },
  {
   "cell_type": "code",
   "execution_count": 10,
   "id": "ba47c05f-fd03-4cd8-a30e-733aaf164b74",
   "metadata": {},
   "outputs": [
    {
     "data": {
      "text/plain": [
       "-823.0023292473707"
      ]
     },
     "execution_count": 10,
     "metadata": {},
     "output_type": "execute_result"
    }
   ],
   "source": [
    "lam_lambda_2"
   ]
  },
  {
   "cell_type": "code",
   "execution_count": null,
   "id": "7ba5f1bf-b1bd-4219-82f3-c7d072bc2838",
   "metadata": {},
   "outputs": [],
   "source": [
    "#calculate exact minimums\n",
    "# confirm gamma4 with quinn shifan"
   ]
  },
  {
   "cell_type": "markdown",
   "id": "1c8aec6a-3018-4c09-b931-360c850890a2",
   "metadata": {
    "jp-MarkdownHeadingCollapsed": true
   },
   "source": [
    "# PABUS"
   ]
  },
  {
   "cell_type": "code",
   "execution_count": 3,
   "id": "9b59ea97-2c54-4c16-bef4-ed56cf073ab0",
   "metadata": {},
   "outputs": [],
   "source": [
    "from unbound_poly_vertex import *"
   ]
  },
  {
   "cell_type": "code",
   "execution_count": 5,
   "id": "755b37de-01b1-444b-803b-36a8336c4bf5",
   "metadata": {},
   "outputs": [],
   "source": [
    "# ID = 12346.04\n",
    "ID = -13.46\n",
    "# looping = \"full mark dens comp alt f_bind,\"\n",
    "\n",
    "settings = np.load(r\"C:\\Users\\tmhab\\wlcsim_membrane\\binder_diblock\\ID=%s_settings.npy\" % (ID), allow_pickle = True)\n",
    "\n",
    "[chrom, [klog_min, klog_max, klog_num]] = settings\n",
    "\n",
    "# [n_bind, v_int, Vol_int, e_m, rho_c, rho_s, poly_marks, M, mu_max, mu_min, del_mu, f_om, N, N_m, b] = chrom\n",
    "[n_bind, v_int, Vol_int, e_m, rho_p, rho_s, poly_marks, M, mu_max, mu_min, del_mu, alpha, N, N_m, b] = chrom\n",
    "\n",
    "[pa_vec, marks_2] = poly_marks\n",
    "\n",
    "mu1_array = np.arange(mu_min, mu_max, del_mu)\n",
    "mu2_array = np.arange(mu_min, mu_max, del_mu)\n",
    "\n",
    "k_vec = np.logspace(klog_min, klog_max, klog_num) / b\n",
    "  \n",
    "s2_mats = np.load(r\"C:\\Users\\tmhab\\wlcsim_membrane\\binder_diblock\\ID=%s_chrom_s2_mats_v_int=[[%s,%s],[%s,%s]],diblock,mu_max=%s.npy\"\\\n",
    "                 % (ID, v_int[0,0], v_int[0,1], v_int[1,0], v_int[1,1], mu_max), allow_pickle = True)\n",
    "\n",
    "s_bind_A_arr = np.load(r\"ID=%s_s_bind_A.npy\" % ID, allow_pickle=True)\n",
    "s_bind_B_arr = np.load(r\"ID=%s_s_bind_B.npy\" % ID, allow_pickle=True)\n",
    "spacing = int(1 / del_mu)"
   ]
  },
  {
   "cell_type": "code",
   "execution_count": 7,
   "id": "e954808b-83ce-4f01-bb93-70f8cc5de7bf",
   "metadata": {},
   "outputs": [
    {
     "data": {
      "text/plain": [
       "array([-10,  -9,  -8,  -7,  -6,  -5,  -4,  -3,  -2,  -1])"
      ]
     },
     "execution_count": 7,
     "metadata": {},
     "output_type": "execute_result"
    }
   ],
   "source": [
    "mu1_array"
   ]
  },
  {
   "cell_type": "code",
   "execution_count": 8,
   "id": "a71abc55-40dc-4411-b3ef-ee154f7de880",
   "metadata": {},
   "outputs": [
    {
     "data": {
      "text/plain": [
       "3.0100000000000006e-09"
      ]
     },
     "execution_count": 8,
     "metadata": {},
     "output_type": "execute_result"
    }
   ],
   "source": [
    "rho_p"
   ]
  },
  {
   "cell_type": "code",
   "execution_count": 17,
   "id": "db9e03a7-f060-46ab-b816-5e62a77d0700",
   "metadata": {},
   "outputs": [
    {
     "data": {
      "text/plain": [
       "63.99999980736"
      ]
     },
     "execution_count": 17,
     "metadata": {},
     "output_type": "execute_result"
    }
   ],
   "source": [
    "alpha * (rho_p / M)"
   ]
  },
  {
   "cell_type": "code",
   "execution_count": 10,
   "id": "88ed1f54-93b8-4d53-9348-36367c2f569e",
   "metadata": {},
   "outputs": [],
   "source": [
    "# S2_mat = s2_mats[0][0][6]\n",
    "# S2_inv = np.linalg.inv(S2_mat)\n",
    "\n",
    "# # poly/solv reduction\n",
    "# S2_inv_ps =  np.array([[S2_inv[0,0] + S2_inv[4,4], S2_inv[0,1], S2_inv[0, 2], S2_inv[0, 3]],\\\n",
    "#    [S2_inv[1,0], S2_inv[1,1] , S2_inv[1,2], S2_inv[1,3]],\\\n",
    "#    [S2_inv[2,0], S2_inv[2,1] , S2_inv[2,2], S2_inv[2,3]],\\\n",
    "#    [S2_inv[3, 0], S2_inv[3, 1], S2_inv[3, 2], S2_inv[3,3]]])\n",
    "\n",
    "# # then apply unbound poly reduction\n",
    "# T = np.array([[1,0,0], [0,1,0], [0,0,1], [1,-1,-1]]) # \\Delta_{unred} = T \\Delta_{red}\n",
    "\n",
    "# S2_inv_full_1 = np.einsum(\"ij, ik, jl -> kl\", S2_inv_ps, T, T) # only in terms of P, A, B"
   ]
  },
  {
   "cell_type": "code",
   "execution_count": null,
   "id": "43654f95-2ba5-4ea6-ae6b-90e653c193d0",
   "metadata": {},
   "outputs": [],
   "source": [
    "## G2 invariant to rho_p analysis"
   ]
  },
  {
   "cell_type": "code",
   "execution_count": 9,
   "id": "00080d5e-c001-4e31-acad-d80250a65c2f",
   "metadata": {},
   "outputs": [
    {
     "data": {
      "text/plain": [
       "array([[1.34463373e-01, 9.60061840e-04, 9.60061840e-04, 1.32543250e-01,\n",
       "        0.00000000e+00],\n",
       "       [9.60061840e-04, 6.98864065e-06, 6.72189524e-06, 9.46351304e-04,\n",
       "        0.00000000e+00],\n",
       "       [9.60061840e-04, 6.72189524e-06, 6.98864065e-06, 9.46351304e-04,\n",
       "        0.00000000e+00],\n",
       "       [1.32543250e-01, 9.46351304e-04, 9.46351304e-04, 1.30650547e-01,\n",
       "        0.00000000e+00],\n",
       "       [0.00000000e+00, 0.00000000e+00, 0.00000000e+00, 0.00000000e+00,\n",
       "        6.39999998e+01]])"
      ]
     },
     "execution_count": 9,
     "metadata": {},
     "output_type": "execute_result"
    }
   ],
   "source": [
    "s2_mats[0][0][6]"
   ]
  },
  {
   "cell_type": "code",
   "execution_count": 12,
   "id": "ed3b4267-8133-4bd4-9948-3846f6e6d1b4",
   "metadata": {},
   "outputs": [],
   "source": [
    "S2_mat = s2_mats[0][0][6]\n",
    "\n",
    "S2_inv = np.linalg.inv(S2_mat)\n",
    "\n",
    "T = np.array([[1,0,0], [0,1,0], [0,0,1], [1,-1,-1], [-1,0,0]]) # \\Delta_{unred} = T \\Delta_{red}\n",
    "\n",
    "S2_inv_full_2 = np.einsum(\"ij, ik, jl -> kl\", S2_inv, T, T) # only in terms of P, A, B"
   ]
  },
  {
   "cell_type": "code",
   "execution_count": 14,
   "id": "2e3b1e3d-671c-4049-ba29-0377ac6b1f1d",
   "metadata": {},
   "outputs": [
    {
     "data": {
      "text/plain": [
       "array([[ 3.39120000e+04, -3.12372000e+06, -4.38080000e+04],\n",
       "       [-3.12340000e+06,  2.89597064e+08,  4.01663200e+06],\n",
       "       [-4.38080000e+04,  4.01672000e+06,  5.67840000e+04]])"
      ]
     },
     "execution_count": 14,
     "metadata": {},
     "output_type": "execute_result"
    }
   ],
   "source": [
    "S2_inv_full_1"
   ]
  },
  {
   "cell_type": "code",
   "execution_count": 16,
   "id": "13765db1-5d4b-465b-b8ca-888d0d08e7d8",
   "metadata": {},
   "outputs": [
    {
     "data": {
      "text/plain": [
       "array([[ 3.39120156e+04, -3.12372000e+06, -4.38080000e+04],\n",
       "       [-3.12340000e+06,  2.89597064e+08,  4.01663200e+06],\n",
       "       [-4.38080000e+04,  4.01672000e+06,  5.67840000e+04]])"
      ]
     },
     "execution_count": 16,
     "metadata": {},
     "output_type": "execute_result"
    }
   ],
   "source": [
    "S2_inv_full_2"
   ]
  },
  {
   "cell_type": "code",
   "execution_count": null,
   "id": "3f375850-06b7-46a4-b2dc-a414234d5f45",
   "metadata": {},
   "outputs": [],
   "source": []
  },
  {
   "cell_type": "code",
   "execution_count": 9,
   "id": "f116203f-fe13-496a-90c1-b115b2592071",
   "metadata": {},
   "outputs": [],
   "source": [
    "# %%time\n",
    "# K STAR stab anal NUMBER DENSITY THEORY\n",
    "\n",
    "chi = 0\n",
    "\n",
    "min_eigval_arr = np.zeros((len(mu1_array[:]), len(mu2_array[:]), len(k_vec)))\n",
    "# min_eigval_arr_melt = np.zeros((len(mu1_array[:]), len(mu2_array[:]), len(k_vec)))\n",
    "# min_eigval_arr_ps = np.zeros((len(mu1_array[:]), len(mu2_array[:]), len(k_vec)))\n",
    "\n",
    "min_eigval_arr_ps = np.zeros((len(mu1_array[:]), len(mu2_array[:]), len(k_vec)))\n",
    "\n",
    "\n",
    "S2_det_arr = np.zeros((len(mu1_array[:]), len(mu2_array[:]), len(k_vec[:])))\n",
    "\n",
    "S2_cond_arr_soln_2 = np.zeros((len(mu1_array[:]), len(mu2_array[:]), len(k_vec[:])))\n",
    "\n",
    "max_cond_arr_allk = np.zeros((len(mu1_array[:]), len(mu2_array[:])))\n",
    "\n",
    "min_eigval_arr_allk_DENS = np.zeros((len(mu1_array[:]), len(mu2_array[:])))\n",
    "min_eigval_arr_allk_ps = np.zeros((len(mu1_array[:]), len(mu2_array[:])))\n",
    "# min_eigval_arr_allk_DENS_melt = np.zeros((len(mu1_array[:]), len(mu2_array[:])))\n",
    "\n",
    "min_eigvec_arr = np.zeros((len(mu1_array[:]), len(mu2_array[:]), len(k_vec)), dtype = object)\n",
    "min_eigvec_arr_allk_DENS = np.zeros((len(mu1_array[:]), len(mu2_array[:])), dtype = object)\n",
    "\n",
    "min_eigvec_arr = np.zeros((len(mu1_array[:]), len(mu2_array[:]), len(k_vec), 3))\n",
    "min_eigvec_arr_allk_DENS = np.zeros((len(mu1_array[:]), len(mu2_array[:]), 3))\n",
    "\n",
    "k_star_arr_DENS= np.zeros((len(mu1_array[:]), len(mu2_array[:]))) \n",
    "\n",
    "# print(\"CHANGING RHO_P\")\n",
    "cons= 1e4\n",
    "rho_p_new = rho_p / cons\n",
    "for i, mu1 in enumerate(mu1_array[:]):\n",
    "    for j, mu2 in enumerate(mu2_array[:]):\n",
    "#         if mu1 == mu2:\n",
    "#             continue\n",
    "        mu = [mu1, mu2]\n",
    "        # print(\"mu: \", mu)\n",
    "\n",
    "        for ik, k in enumerate(k_vec):\n",
    "\n",
    "            S2_mat =  s2_mats[i][j][ik].copy()\n",
    "\n",
    "            # CHANGING RHO P\n",
    "            S2_mat *= (rho_p_new / rho_p) # changing rho p\n",
    "            S2_mat[4,4] *= (1/cons) #correcting alpha for new rho_p\n",
    "            # ^^^^^^^^CHANGING RHO P\n",
    "\n",
    "            \n",
    "            # FULL SOLUTION, 2 reader proteins\n",
    "            S2_det = np.linalg.det(S2_mat)\n",
    "\n",
    "            S2_cond = np.linalg.cond(S2_mat)\n",
    "            S2_cond_arr_soln_2[i][j][ik] = S2_cond\n",
    "            \n",
    "            \n",
    "            if S2_det != 0:# and S2_cond < 1e10:\n",
    "                # S2_inv = np.linalg.inv(S2_mat)\n",
    "\n",
    "                S2_inv = np.linalg.inv(S2_mat)\n",
    "            \n",
    "                # # poly/solv reduction\n",
    "                # S2_inv_ps =  np.array([[S2_inv[0,0] + S2_inv[4,4], S2_inv[0,1], S2_inv[0, 2], S2_inv[0, 3]],\\\n",
    "                #    [S2_inv[1,0], S2_inv[1,1] , S2_inv[1,2], S2_inv[1,3]],\\\n",
    "                #    [S2_inv[2,0], S2_inv[2,1] , S2_inv[2,2], S2_inv[2,3]],\\\n",
    "                #    [S2_inv[3, 0], S2_inv[3, 1], S2_inv[3, 2], S2_inv[3,3]]])\n",
    "                \n",
    "                # # then apply unbound poly reduction\n",
    "                # T = np.array([[1,0,0], [0,1,0], [0,0,1], [1,-1,-1]]) # \\Delta_{unred} = T \\Delta_{red}\n",
    "            \n",
    "                # S2_inv_full = np.einsum(\"ij, ik, jl -> kl\", S2_inv_ps, T, T) # only in terms of P, A, B\n",
    "\n",
    "                T = np.array([[1,0,0], [0,1,0], [0,0,1], [1,-1,-1], [-1,0,0]]) # \\Delta_{unred} = T \\Delta_{red}\n",
    "                \n",
    "                S2_inv_full = np.einsum(\"ij, ik, jl -> kl\", S2_inv, T, T) # only in terms of P, A, B\n",
    "                \n",
    "                G2 = np.array([[S2_inv_full[0,0] - 2*chi, S2_inv_full[0,1], S2_inv_full[0, 2]],\\\n",
    "                   [S2_inv_full[1,0], S2_inv_full[1,1] + v_int[0,0]*Vol_int, S2_inv_full[1,2] + v_int[0,1]*Vol_int],\\\n",
    "                   [S2_inv_full[2,0], S2_inv_full[2,1] + v_int[1,0]*Vol_int, S2_inv_full[2,2] + v_int[1,1]*Vol_int]])\n",
    "                # print(\"G2:---------------------------------\")\n",
    "                # print(G2)\n",
    "                val, vec = np.linalg.eigh(G2)\n",
    "                vec = vec.T\n",
    "                min_val = np.min(val)            \n",
    "                min_eigval_arr[i][j][ik] = min_val\n",
    "                min_eigvec_arr[i][j][ik] = vec[np.where(val == min_val)]\n",
    "\n",
    "\n",
    "        # all-k analysis\n",
    "        min_vals = min_eigval_arr[i][j][:][np.nonzero(min_eigval_arr[i][j][:])] # min eigvals at mu1,mu2 for each k\n",
    "        \n",
    "        min_vecs = min_eigvec_arr[i][j][:][np.nonzero(min_eigval_arr[i][j][:])]\n",
    "        if len(min_vals) != 0:\n",
    "            minval_allk = np.min(min_vals) # minimum eigenvalue at mu1,mu2 across all ks\n",
    "#             print(minval_allk)\n",
    "            min_eigval_arr_allk_DENS[i][j] = minval_allk\n",
    "\n",
    "            if len(min_vecs[np.where(min_vals==minval_allk)]) > 1: # eigenval minimized at multiple ks\n",
    "                min_eigvec_arr_allk_DENS[i][j] = min_vecs[np.where(min_vals==minval_allk)][0]#[0][0] #double zero if saving as objects\n",
    "            else:\n",
    "                min_eigvec_arr_allk_DENS[i][j] = min_vecs[np.where(min_vals==minval_allk)]\n",
    "\n",
    "            if len(k_vec[np.where(min_vals==minval_allk)]) > 1:\n",
    "                k_star = k_vec[np.where(min_vals==minval_allk)][0] # corresponding k \n",
    "            else:\n",
    "                k_star = k_vec[np.where(min_vals==minval_allk)]\n",
    "#             print(k_star)\n",
    "            k_star_arr_DENS[i][j] = k_star\n",
    "\n",
    "        cond_nums = S2_cond_arr_soln_2[i][j][:]\n",
    "        max_cond_allk = np.max(cond_nums)\n",
    "        max_cond_arr_allk[i][j] = max_cond_allk\n",
    "        \n",
    "\n",
    "# setting all non-decomposed/ separated systems to 0 \n",
    "poly_fluc = min_eigvec_arr_allk_DENS[:,:,0]\n",
    "poly_fluc[np.where(np.sign(min_eigval_arr_allk_DENS) == 1) ] = 0\n",
    "\n",
    "prot1_fluc = min_eigvec_arr_allk_DENS[:,:,1]\n",
    "prot1_fluc[np.where(np.sign(min_eigval_arr_allk_DENS) == 1) ] = 0\n",
    "\n",
    "prot2_fluc = min_eigvec_arr_allk_DENS[:,:,2]\n",
    "prot2_fluc[np.where(np.sign(min_eigval_arr_allk_DENS) == 1) ] = 0\n",
    "\n",
    "k_star_arr_DENS[np.where(np.sign(min_eigval_arr_allk_DENS) == 1) ] = -1 # unphysical value, to indicate outside of spinodal"
   ]
  },
  {
   "cell_type": "code",
   "execution_count": 11,
   "id": "ddcf1245-ec50-4730-b22f-4077b7bfde57",
   "metadata": {},
   "outputs": [
    {
     "data": {
      "text/plain": [
       "array([[-1.        , -1.        , -1.        ,  0.04344412, -1.        ,\n",
       "        -1.        , -1.        ,  0.1       , -1.        ,  0.00316228],\n",
       "       [-1.        , -1.        ,  0.06210169,  0.04344412,  0.00923671,\n",
       "         0.02126112,  0.1       ,  0.01320352, -1.        , -1.        ],\n",
       "       [-1.        ,  0.08877197, -1.        , -1.        , -1.        ,\n",
       "        -1.        , -1.        , -1.        ,  0.1       ,  0.06995642],\n",
       "       [-1.        ,  0.07880463, -1.        ,  0.07880463,  0.06210169,\n",
       "        -1.        ,  0.04893901, -1.        ,  0.06210169,  0.08877197],\n",
       "       [-1.        ,  0.00923671, -1.        , -1.        , -1.        ,\n",
       "        -1.        , -1.        , -1.        , -1.        ,  0.1       ],\n",
       "       [-1.        , -1.        ,  0.08877197,  0.06210169,  0.06995642,\n",
       "        -1.        ,  0.08877197,  0.1       , -1.        , -1.        ],\n",
       "       [-1.        ,  0.00923671,  0.0551289 , -1.        , -1.        ,\n",
       "        -1.        , -1.        ,  0.06995642, -1.        , -1.        ],\n",
       "       [-1.        , -1.        ,  0.0385662 , -1.        ,  0.06995642,\n",
       "        -1.        , -1.        , -1.        , -1.        , -1.        ],\n",
       "       [-1.        , -1.        , -1.        ,  0.03423598,  0.04344412,\n",
       "        -1.        ,  0.1       , -1.        ,  0.02697954, -1.        ],\n",
       "       [ 0.00923671, -1.        ,  0.03423598, -1.        ,  0.08877197,\n",
       "        -1.        , -1.        , -1.        ,  0.07880463,  0.1       ]])"
      ]
     },
     "execution_count": 11,
     "metadata": {},
     "output_type": "execute_result"
    }
   ],
   "source": [
    "k_star_arr_DENS"
   ]
  },
  {
   "cell_type": "code",
   "execution_count": 16,
   "id": "3a817979-9f57-448e-89bf-5888b60fc178",
   "metadata": {},
   "outputs": [
    {
     "name": "stdout",
     "output_type": "stream",
     "text": [
      "mu:  -3.5 -3.5\n",
      "just guessed unbound contribuion\n",
      "just guessed unbound contribuion\n",
      "energies:\n",
      "[-8.534790263051783e+269]\n"
     ]
    }
   ],
   "source": [
    "# chi = 0\n",
    "phases = np.zeros((len(mu1_array[:]), len(mu2_array[:]))) - 1 \n",
    "for i, mu1 in enumerate(mu1_array[:]):\n",
    "    for j, mu2 in enumerate(mu2_array[:]):\n",
    "        if i != 3:\n",
    "            continue\n",
    "        if j != 3:\n",
    "            continue\n",
    "        print(\"mu: \", mu1, mu2)\n",
    "        q_star = k_star_arr_DENS[i,j]\n",
    "        # q_star = k_vec[10]#k_star_arr_DENS[i,j]\n",
    "        # q_star = 0.021261123338996556\n",
    "        if q_star == -1:\n",
    "            print(\"OUT OF SPIN- no q_star\")\n",
    "            phases[i,j] = 0 # disordered phase- outside of spinodal\n",
    "            raise Exception(\"NOOOO\")\n",
    "        elif q_star == k_vec[0]:\n",
    "            print(\"MACROPHASE SEP\")\n",
    "            phases[i,j] = 1 # macrophase sep\n",
    "            raise Exception(\"NOOOO\")\n",
    "\n",
    "        # else: #microphse sep\n",
    "        \n",
    "        # print(q_star)\n",
    "        s_bnd_A = s_bind_A_arr[i,j,:]\n",
    "        s_bnd_B = s_bind_B_arr[i,j,:]\n",
    "        # FA = calc_fa(s_bnd_A, s_bnd_B)\n",
    "        # chrom[11] = [FA, 1-FA]\n",
    "        \n",
    "        lam_q = q_star*np.array([1, 0, 0])\n",
    "\n",
    "        cyl_q1 = q_star*np.array([1, 0, 0])\n",
    "        cyl_q2 = 0.5*q_star*np.array([-1, np.sqrt(3), 0])\n",
    "        cyl_q3 = 0.5*q_star*np.array([-1, -np.sqrt(3), 0])\n",
    "        cyl_qs = np.array([cyl_q1, cyl_q2, cyl_q3])\n",
    "        \n",
    "        bcc_q1 = 2**(-0.5)*q_star*np.array([1,1,0])\n",
    "        bcc_q2 = 2**(-0.5)*q_star*np.array([-1,1,0])\n",
    "        bcc_q3 = 2**(-0.5)*q_star*np.array([0,1,1])\n",
    "        bcc_q4 = 2**(-0.5)*q_star*np.array([0,1,-1])\n",
    "        bcc_q5 = 2**(-0.5)*q_star*np.array([1,0,1])\n",
    "        bcc_q6 = 2**(-0.5)*q_star*np.array([1,0,-1])\n",
    "        \n",
    "        \n",
    "        lam_g3 = 0\n",
    "        # G3 = gamma3(chrom, s_bnd_A, s_bnd_B, cyl_qs) # all g3s are eqivlaent\n",
    "        # cyl_g3 = (1/6)  * (1/(3*np.sqrt(3))) * 12 * G3#\n",
    "        # bcc_g3 = (4/(3*np.sqrt(6))) * G3\n",
    "        \n",
    "        # print(chrom[11])\n",
    "        G4_00 = gamma4(chrom, s_bnd_A, s_bnd_B, np.array([lam_q, -lam_q, lam_q, -lam_q]))\n",
    "        lam_g4 = (1/24) * (6) * (1) * G4_00#gamma4_E(poly_mat, dens, N_m, b, M, np.array([lam_q, -lam_q, lam_q, -lam_q]))        \n",
    "        \n",
    "        # print(\"test g4 mag impact\")\n",
    "        # # lam_g4 /= 1e40\n",
    "        # lam_g4 /= 1e30\n",
    "        \n",
    "        # cyl_g4 = (1/24) * (1/9) *(18*G4_00 + \\\n",
    "        #   72*gamma4(chrom, s_bnd_A, s_bnd_B, np.array([cyl_q1, -cyl_q1, cyl_q2, -cyl_q2])) )\n",
    "        \n",
    "        # bcc_g4 = (1/24)* (G4_00 \\\n",
    "        #          + 8*gamma4(chrom, s_bnd_A, s_bnd_B, np.array([bcc_q1, -bcc_q1, bcc_q3, -bcc_q3])) \\\n",
    "        #          + 2*gamma4(chrom, s_bnd_A, s_bnd_B, np.array([bcc_q1, -bcc_q1, bcc_q2, -bcc_q2])) \\\n",
    "        #          + 4*gamma4(chrom, s_bnd_A, s_bnd_B, np.array([bcc_q1, -bcc_q3, bcc_q2, -bcc_q4])) )\n",
    "\n",
    "        # print(\"simplified test bcc\")\n",
    "        # bcc_g4 = (1/24)* (4*gamma4(chrom, s_bnd_A, s_bnd_B, np.array([bcc_q1, -bcc_q3, bcc_q2, -bcc_q4])) )\n",
    "        \n",
    "        lam_g2 = (1/2) * 2 * (1) * gamma2(chrom, s_bnd_A, s_bnd_B, q_star, chi)\n",
    "        cyl_g2 = lam_g2\n",
    "        bcc_g2 = lam_g2\n",
    "        \n",
    "\n",
    "        initial = [0, 0, 0] # poly, A, B\n",
    "        # print(\"SWITCHED signs\")\n",
    "        amps_l = optimize.fmin(lambda amps: np.real(np.einsum(\"ij,i,j ->\", lam_g2, amps, amps) \\\n",
    "                                           +  np.einsum(\"ijkl,i,j,k,l ->\", lam_g4, amps, amps, amps, amps)), initial, disp=False)\n",
    "        \n",
    "        # lamF = np.real( np.einsum(\"ij,i,j ->\", lam_g2, amps_l, amps_l) \\\n",
    "                                        # +  np.einsum(\"ijkl,i,j,k,l ->\", lam_g4, amps_l, amps_l, amps_l, amps_l))\n",
    "\n",
    "        \n",
    "        lamF = np.real( np.einsum(\"ij,i,j ->\", lam_g2, amps_l, amps_l) \\\n",
    "                                        +  np.einsum(\"ijkl,i,j,k,l ->\", lam_g4, amps_l, amps_l, amps_l, amps_l))\n",
    "        # print(lamF)\n",
    "\n",
    "            \n",
    "        amps_l_no4 = optimize.fmin(lambda amps: np.real(np.einsum(\"ij,i,j ->\", lam_g2, amps, amps)), initial, disp=False)\n",
    "        \n",
    "        lamF_no4 = np.real(np.einsum(\"ij,i,j ->\", lam_g2, amps_l_no4, amps_l_no4))\n",
    "        \n",
    "        # print(\"lam_F: \", lamF)\n",
    "        # print(\"lamF_no4: \", lamF_no4)\n",
    "        \n",
    "        # amps_cy = optimize.fmin(lambda amps: np.real(np.einsum(\"ij,i,j ->\", cyl_g2, amps, amps) \\\n",
    "        #                                     + np.einsum(\"ijk,i,j,k ->\", cyl_g3, amps, amps, amps) \\\n",
    "        #                                    +  np.einsum(\"ijkl,i,j,k,l ->\", cyl_g4, amps, amps, amps, amps)), initial, disp=False)\n",
    "        \n",
    "        # cylF = np.real(np.einsum(\"ij,i,j ->\", cyl_g2, amps_cy, amps_cy) \\\n",
    "        #                                     + np.einsum(\"ijk,i,j,k ->\", cyl_g3, amps_cy, amps_cy, amps_cy) \\\n",
    "        #                                     + np.einsum(\"ijkl,i,j,k,l ->\", cyl_g4, amps_cy, amps_cy, amps_cy, amps_cy))\n",
    "\n",
    "        # amps_bcc = optimize.fmin(lambda amps: np.real(np.einsum(\"ij,i,j ->\", bcc_g2, amps, amps) \\\n",
    "        #                                     + np.einsum(\"ijk,i,j,k ->\", bcc_g3, amps, amps, amps) \\\n",
    "        #                                    +  np.einsum(\"ijkl,i,j,k,l ->\", bcc_g4, amps, amps, amps, amps)), initial, disp=False)\n",
    "        \n",
    "        # bccF = np.real(np.einsum(\"ij,i,j ->\", bcc_g2, amps_bcc, amps_bcc) \\\n",
    "        #                                     + np.einsum(\"ijk,i,j,k ->\", bcc_g3, amps_bcc, amps_bcc, amps_bcc) \\\n",
    "        #                                     + np.einsum(\"ijkl,i,j,k,l ->\", bcc_g4, amps_bcc, amps_bcc, amps_bcc, amps_bcc))\n",
    "\n",
    "        # minF = np.min([lamF, cylF, bccF, 0])\n",
    "        print(\"energies:\")\n",
    "        print([lamF])\n",
    "        # print([lamF, cylF, bccF])\n",
    "        # if minF == 0:\n",
    "        #     raise Exception(\"phase sep not stable in spinodla??\")\n",
    "        # elif minF == lamF:\n",
    "        #     phases[i,j] = 2\n",
    "        # elif minF == cylF:\n",
    "        #     phases[i,j] = 3\n",
    "        # elif minF == bccF:\n",
    "        #     phases[i,j] = 4\n",
    "\n",
    "        # amp_l1, amp_l2 = optimize.fmin(lambda amps: np.real(amps[0]**2 * lam_g2 + amps[0]**3 * lam_g3 + amps[0]**4 * lam_g4 + \\\n",
    "        #                                                 amps[1]**2 * lam_g2_2 + amps[1]**3 * lam_g3_2 + amps[1]**4 * lam_g4_2 + \\\n",
    "        #                                                 amps[0]**2 * amps[1] * lam_g3_mix + amps[0]**2 * amps[1]**2 * lam_g4_mix), \\\n",
    "        #                       initial, disp=False)   "
   ]
  },
  {
   "cell_type": "code",
   "execution_count": 13,
   "id": "4cacd322-fc6b-4f28-be75-ccd8596c818e",
   "metadata": {},
   "outputs": [
    {
     "data": {
      "text/plain": [
       "<Figure size 640x480 with 0 Axes>"
      ]
     },
     "metadata": {},
     "output_type": "display_data"
    },
    {
     "data": {
      "image/png": "[encoded data removed]",
      "text/plain": [
       "<Figure size 1000x800 with 2 Axes>"
      ]
     },
     "metadata": {},
     "output_type": "display_data"
    }
   ],
   "source": [
    "# Explanation: first choose distances. These distances must be in the same units at the persisitnece length due  to exp(xm) term\n",
    "# in sf calculation. Doesnt matter if used b to scale the lengths used- they are still in nanometers\n",
    "# then invert these distances to get magnitudes of wavevectors\n",
    "# then find k star, and invert it to get the critical lengthscale in units of nm\n",
    "\n",
    "\n",
    "fig = plt.figure()\n",
    "plt.figure(figsize=(10,8))\n",
    "\n",
    "font = {'family' : 'serif',\n",
    "        'weight':'normal',\n",
    "        'size': 18}\n",
    "plt.rc('font', **font)\n",
    "\n",
    "\n",
    "min_ind = 0\n",
    "max_ind = len(mu1_array)\n",
    "\n",
    "# plt.scatter(mu1_array[np.where(multi_soln_mus == 1)[0]],mu2_array[np.where(multi_soln_mus == 1)[1]])\n",
    "# k_ind = 20\n",
    "#     poly_fluc = min_eigvec_arr_allk[:,:,0]\n",
    "#     poly_fluc[np.where(np.sign(min_eigval_arr_allk) == 1) ] = 0\n",
    "\n",
    "#     prot1_fluc = min_eigvec_arr_allk[:,:,1]\n",
    "#     prot1_fluc[np.where(np.sign(min_eigval_arr_allk) == 1) ] = 0\n",
    "\n",
    "#     prot2_fluc = min_eigvec_arr_allk[:,:,2]\n",
    "#     prot2_fluc[np.where(np.sign(min_eigval_arr_allk) == 1) ] = 0\n",
    "    \n",
    "k_star_arr_DENS[np.where(np.sign(min_eigval_arr_allk_DENS) == 1) ] = np.nan\n",
    "# ax = sns.heatmap(1/(k_star_arr*b), linewidth=0.25, cmap = \"cool\", xticklabels=mu2_array, yticklabels=mu1_array, cbar_kws={'label':  r\"$ \\frac{1}{k^*} \\ (nm)$\"})\n",
    "ax = sns.heatmap((1/(k_star_arr_DENS[min_ind:max_ind,min_ind:max_ind])), linewidth=0.25, cmap = \"cool\", xticklabels=mu2_array[min_ind:max_ind], yticklabels=mu1_array[min_ind:max_ind],\\\n",
    "                 cbar_kws={'label':  r\"$ \\frac{1}{k^*} \\ (nm)$\"},\\\n",
    "                    vmin=1/(k_vec[-1]), vmax=1/(k_vec[0]))\n",
    "# ax = sns.heatmap(np.sign(min_eigval_arr[0:3][0:3][k_ind]), linewidth=0.1, cmap = \"winter\", cbar_kws={'label':  r'$ \\langle f^{(1)} \\rangle $'})\n",
    "# protein 1\n",
    "# ax = sns.heatmap(f_gam_soln_arr[0], linewidth=0.5, cmap = \"winter\", xticklabels=mu2_array, yticklabels=mu1_array, cbar_kws={'label':  r'$ \\langle f^{(1)} \\rangle $'})\n",
    "\n",
    "# ax.set_xticks(ax.get_xticks()[::spacing])\n",
    "# ax.set_xticklabels(np.round(mu2_array[min_ind:max_ind:spacing],0).astype(np.int64))\n",
    "# ax.set_yticks(ax.get_yticks()[::spacing])\n",
    "# ax.set_yticklabels(np.round(mu2_array[min_ind:max_ind:spacing],0).astype(np.int64))\n",
    "\n",
    "\n",
    "# ax.axvline(x=52, linewidth=4, color=\"black\", linestyle = \"--\")\n",
    "# ax.axhline(y=47, linewidth=4, color=\"black\", linestyle = \"--\")\n",
    "\n",
    "ax.axvline(x=50.5, linewidth=4, color=\"black\", linestyle = \"--\")\n",
    "ax.axhline(y=50.5, linewidth=4, color=\"black\", linestyle = \"--\")\n",
    "\n",
    "# plt.plot(35.75,10.5,'ro') \n",
    "# plt.plot(27.3,10.5,'go') \n",
    "\n",
    "plt.ylabel(\"$\\mu^{(1)}$\")\n",
    "plt.xlabel(\"$\\mu^{(2)}$\")\n",
    "plt.title(r\"$ PABUS, 1/k_{star}$\" +  \", $\\chi = $\" + \\\n",
    "          str(np.round(chi, 2)) \\\n",
    "          +  \", $v_{int} = $ [\" + str(v_int[0]) + \",\" + str(v_int[1]) + \"]\" +\\\n",
    "          \"\\n\")\n",
    "\n",
    "\n",
    "plt.show()\n"
   ]
  },
  {
   "cell_type": "markdown",
   "id": "e126477d-b052-415b-b3a9-3325bdfe0561",
   "metadata": {
    "jp-MarkdownHeadingCollapsed": true
   },
   "source": [
    "# clean sf scaling"
   ]
  },
  {
   "cell_type": "code",
   "execution_count": 10,
   "id": "87e04f26-0500-454b-a0ed-d61711b4ed2c",
   "metadata": {},
   "outputs": [],
   "source": [
    "# from final_binder_diblock_vertex import *\n",
    "# from PABS_correct_reduc import *\n"
   ]
  },
  {
   "cell_type": "code",
   "execution_count": 12,
   "id": "90509999-e1be-4c73-9faa-56ad7810d316",
   "metadata": {},
   "outputs": [],
   "source": [
    "# define chrom object\n",
    "# select a mu1, mu2 in micro phase region\n",
    "# calc free E, using binding states from ID = 10001.04006\n",
    "# see if F_lam changes when change alpha (rho_p, v_s, v_m)"
   ]
  },
  {
   "cell_type": "code",
   "execution_count": 14,
   "id": "013e3cec-fa4d-4731-9536-b7eca0796c9e",
   "metadata": {},
   "outputs": [],
   "source": [
    "# mu_max = 0#0.1 #10\n",
    "# mu_min = -5#-9\n",
    "# del_mu = .5 #0.25\n",
    "\n",
    "# # mu_max = 10\n",
    "# # mu_min = -10\n",
    "# # del_mu = 10 #0.25\n",
    "\n",
    "# klog_min = -2.5\n",
    "# klog_max = -1\n",
    "# klog_num = 30\n",
    "\n",
    "\n",
    "# n_bind = 2 #types of proteins/marks\n",
    "\n",
    "\n",
    "# chi = None\n",
    "\n",
    "# e_m = np.array([1.52, 1.52]) #binding energy FOR F_BIND_ALT\n",
    "\n",
    "\n",
    "# v_int =  np.array([[-4, 4], [4, -4]])\n",
    "\n",
    "# M = 50\n",
    "# print(\"coarse grained or real???\")\n",
    "\n",
    "\n",
    "# # rho_c = (3e7)  /  ((4/3) * np.pi*  (5)**3 * (1000/1)**3) # nucleosomes per nm^3\n",
    "# avo = 6.02e23 # num / mol\n",
    "# dens_p = 1 # g/cm^3\n",
    "# mol_weight_p = 1e5 # g/mol\n",
    "\n",
    "# rho_p = (avo*(1/mol_weight_p)*dens_p*M*(100**3)*(1/1e9)**3  ) #/ 1e8\n",
    "# factor = 1e8 \n",
    "# rho_p = rho_p / factor\n",
    "\n",
    "\n",
    "# avo = 6.02e23\n",
    "# water_molmas = 18\n",
    "# rho_s = np.nan# calculated for by alpha #avo * (1/water_molmas) * (1000  *(1000/1) * (1/1e9)**3)#  num / nm^3, pure water\n",
    "\n",
    "# chrom_type = \"diblock\"\n",
    "\n",
    "# nm = M\n",
    "# pa_vec = np.arange(0, nm, 1) / (nm-1)\n",
    "# pb_vec = 1-pa_vec\n",
    "\n",
    "# poly_marks = [pa_vec, pb_vec]\n",
    "\n",
    "# vs = .25**3 # nm^3\n",
    "# vm = 1**3 # nm^3 \n",
    "# chrom = def_chrom(n_bind, v_int, e_m, rho_p, rho_s, poly_marks, mu_max, mu_min, del_mu, vs, vm, chrom_type)\n",
    "\n",
    "# [n_bind, v_int, Vol_int, e_m, rho_c, rho_s, poly_marks, M, mu_max, mu_min, del_mu, alpha, N, N_m, b] = chrom\n",
    "\n",
    "# k_vec = np.logspace(klog_min, klog_max, klog_num) / (b)"
   ]
  },
  {
   "cell_type": "code",
   "execution_count": 13,
   "id": "8b0d70ae-10b5-424b-9085-920e24fb9fd6",
   "metadata": {},
   "outputs": [],
   "source": [
    "# # ID = 9987.64006\n",
    "# ID = 9995.64006\n",
    "# # ID = 9997.64006\n",
    "ID = 1000.04\n",
    "# ID = 12345.941\n",
    "\n",
    "# looping = \"full mark dens comp alt f_bind,\"\n",
    "\n",
    "settings = np.load(r\"C:\\Users\\tmhab\\wlcsim_membrane\\binder_diblock\\ID=%s_settings.npy\" % (ID), allow_pickle = True)\n",
    "\n",
    "[chrom, [klog_min, klog_max, klog_num]] = settings\n",
    "\n",
    "# [n_bind, v_int, Vol_int, e_m, rho_c, rho_s, poly_marks, M, mu_max, mu_min, del_mu, f_om, N, N_m, b] = chrom\n",
    "[n_bind, v_int, Vol_int, e_m, rho_p, rho_s, poly_marks, M, mu_max, mu_min, del_mu, alpha, N, N_m, b] = chrom\n",
    "\n",
    "[pa_vec, marks_2] = poly_marks\n",
    "\n",
    "mu1_array = np.arange(mu_min, mu_max, del_mu)\n",
    "mu2_array = np.arange(mu_min, mu_max, del_mu)\n",
    "\n",
    "k_vec = np.logspace(klog_min, klog_max, klog_num) / b\n",
    "  \n",
    "s2_mats = np.load(r\"C:\\Users\\tmhab\\wlcsim_membrane\\binder_diblock\\ID=%s_chrom_s2_mats_v_int=[[%s,%s],[%s,%s]],diblock,mu_max=%s.npy\"\\\n",
    "                 % (ID, v_int[0,0], v_int[0,1], v_int[1,0], v_int[1,1], mu_max), allow_pickle = True)\n",
    "\n",
    "s_bind_A_arr = np.load(r\"ID=%s_s_bind_A.npy\" % ID, allow_pickle=True)\n",
    "s_bind_B_arr = np.load(r\"ID=%s_s_bind_B.npy\" % ID, allow_pickle=True)\n",
    "spacing = int(1 / del_mu)"
   ]
  },
  {
   "cell_type": "code",
   "execution_count": 15,
   "id": "571a1c00-4298-4bf9-b741-d7242e336299",
   "metadata": {},
   "outputs": [
    {
     "data": {
      "text/plain": [
       "3.0100000000000006e-09"
      ]
     },
     "execution_count": 15,
     "metadata": {},
     "output_type": "execute_result"
    }
   ],
   "source": [
    "rho_p"
   ]
  },
  {
   "cell_type": "code",
   "execution_count": 20,
   "id": "27db45f0-8dd8-4b51-be34-3baea60d3c6a",
   "metadata": {},
   "outputs": [],
   "source": [
    "# avo*(1/mol_weight_p)*dens_p*M*(100**3)*(1/1e9)**3"
   ]
  },
  {
   "cell_type": "code",
   "execution_count": 22,
   "id": "ea84d019-a65b-4f2a-96e4-79d93f486475",
   "metadata": {},
   "outputs": [],
   "source": [
    "# mu1_array = np.arange(mu_min, mu_max, del_mu)\n",
    "# mu2_array = np.arange(mu_min, mu_max, del_mu)\n",
    "\n",
    "# ID = 10001.04006\n",
    "\n",
    "# s_bind_A_arr = np.load(r\"ID=%s_s_bind_A.npy\" % ID, allow_pickle=True)\n",
    "# s_bind_B_arr = np.load(r\"ID=%s_s_bind_B.npy\" % ID, allow_pickle=True)\n",
    "# spacing = int(1 / del_mu)"
   ]
  },
  {
   "cell_type": "code",
   "execution_count": 10,
   "id": "794eb79c-ce4a-48b6-a9bd-2147f4f06f40",
   "metadata": {},
   "outputs": [],
   "source": [
    "# %%time\n",
    "# K STAR stab anal NUMBER DENSITY THEORY\n",
    "\n",
    "# poly solv\n",
    "# chi = 0.00083\n",
    "# chi = 3/N\n",
    "# chi = 2/N\n",
    "\n",
    "# full soln\n",
    "# chi = 0.00005828\n",
    "# chi = -1.0\n",
    "chi = 0\n",
    "\n",
    "min_eigval_arr = np.zeros((len(mu1_array[:]), len(mu2_array[:]), len(k_vec)))\n",
    "# min_eigval_arr_melt = np.zeros((len(mu1_array[:]), len(mu2_array[:]), len(k_vec)))\n",
    "# min_eigval_arr_ps = np.zeros((len(mu1_array[:]), len(mu2_array[:]), len(k_vec)))\n",
    "\n",
    "min_eigval_arr_ps = np.zeros((len(mu1_array[:]), len(mu2_array[:]), len(k_vec)))\n",
    "\n",
    "\n",
    "S2_det_arr = np.zeros((len(mu1_array[:]), len(mu2_array[:]), len(k_vec[:])))\n",
    "\n",
    "S2_cond_arr_soln_2 = np.zeros((len(mu1_array[:]), len(mu2_array[:]), len(k_vec[:])))\n",
    "# S2_cond_arr_soln_1 = np.zeros((len(mu1_array[:]), len(mu2_array[:]), len(k_vec[:])))\n",
    "# S2_cond_arr_melt_2 = np.zeros((len(mu1_array[:]), len(mu2_array[:]), len(k_vec[:])))\n",
    "\n",
    "max_cond_arr_allk = np.zeros((len(mu1_array[:]), len(mu2_array[:])))\n",
    "\n",
    "min_eigval_arr_allk_DENS = np.zeros((len(mu1_array[:]), len(mu2_array[:])))\n",
    "min_eigval_arr_allk_ps = np.zeros((len(mu1_array[:]), len(mu2_array[:])))\n",
    "# min_eigval_arr_allk_DENS_melt = np.zeros((len(mu1_array[:]), len(mu2_array[:])))\n",
    "\n",
    "min_eigvec_arr = np.zeros((len(mu1_array[:]), len(mu2_array[:]), len(k_vec)), dtype = object)\n",
    "min_eigvec_arr_allk_DENS = np.zeros((len(mu1_array[:]), len(mu2_array[:])), dtype = object)\n",
    "\n",
    "min_eigvec_arr = np.zeros((len(mu1_array[:]), len(mu2_array[:]), len(k_vec), 3))\n",
    "min_eigvec_arr_allk_DENS = np.zeros((len(mu1_array[:]), len(mu2_array[:]), 3))\n",
    "\n",
    "k_star_arr_DENS= np.zeros((len(mu1_array[:]), len(mu2_array[:]))) \n",
    "\n",
    "\n",
    "# avo = 6.02e23 # num poly / mol\n",
    "# dens_p = 1 # g/cm^3 -> less for polymer solution\n",
    "# mol_weight_p = 1e5 # g/mol\n",
    "\n",
    "# rho_p = avo*(1/mol_weight_p)*dens_p*M*(100**3)*(1/1e9)**3 \n",
    "# n_p = 1e8 \n",
    "# A = 1/(b) # nm^2 cross sectional area\n",
    "# vol_nuc = A*(b) # volume of nucleosome\n",
    "\n",
    "\n",
    "# rho_p = avo*(1/mol_weight_p)*dens_p*M*(100**3)*(1/1e9)**3 * 10\n",
    "# n_p = N**2 #\n",
    "\n",
    "# rho_p = avo*(1/mol_weight_p)*dens_p*M*(100**3)*(1/1e9)**3 \n",
    "# n_p = 1e8#N_m**2 # from converting volume fraction sf to number density sf \n",
    "\n",
    "# vol_solv = 1#N #1#10000000**3# (4e-10)**3\n",
    "\n",
    "# s2_mats = s2_mat_shlk_dens\n",
    "for i, mu1 in enumerate(mu1_array[:]):\n",
    "    for j, mu2 in enumerate(mu2_array[:]):\n",
    "#         if mu1 == mu2:\n",
    "#             continue\n",
    "        mu = [mu1, mu2]\n",
    "        # print(\"mu: \", mu)\n",
    "\n",
    "        for ik, k in enumerate(k_vec):\n",
    "#             S2_mat = 1/N**2 * np.array([[cc[0], 0, cg1[0], cg2[0]],\\\n",
    "#                             [0, ss*N**2, 0, 0], \\\n",
    "#                             [cg1[0], 0, g1g1[0], g1g2[0]],\\\n",
    "#                             [cg2[0], 0, g2g1[0], g2g2[0]]])\n",
    "\n",
    "            S2_mat =  s2_mats[i][j][ik].copy()\n",
    "\n",
    "            \n",
    "            # EDIT  2. goal is 1/V * (N**2 * 1/N**2) = rho_c / (M * np)\n",
    "            # in code sfs defined as S =N**2 * 1/N**2 ~integral~. \n",
    "            # then in sf_mats multiply facotr of rho_c / N^2. overall prefacotr is rho_c/N^2\n",
    "            # To get to goal, must multiply by (N_m^2 * M)/np\n",
    "            # S2_mat *= (N_m**2 * M)/n_p\n",
    "            # S2_mat[1][1] /= (N_m**2 * M)/n_p\n",
    "            # print(S2_mat)\n",
    "\n",
    "            \n",
    "            \n",
    "# #            # TESTING DIF MAGNITUDES OF RHO_S\n",
    "#             rho_s_test = rho_s * 10000# 1e-5#33#1e5\n",
    "#             S2_mat[1][1] = rho_s_test \n",
    "            \n",
    "#             # if phi_c >= 0.999:\n",
    "#             #     raise Exception(\"melt!\")\n",
    "\n",
    "#            # TESTING DIF MAGNITUDES of RHO_P\n",
    "            # #print(\"CHANGED RHO_C!!!!!!!\")\n",
    "            # rho_c_test = rho_c / 10000\n",
    "            # rho_c_test = rho_p\n",
    "            # S2_mat /= rho_c\n",
    "            # S2_mat *= rho_c_test\n",
    "            # S2_mat[1][1] *= (rho_c/rho_c_test)\n",
    "\n",
    "\n",
    "\n",
    "            \n",
    "            # FULL SOLUTION, 2 reader proteins\n",
    "            S2_det = np.linalg.det(S2_mat)\n",
    "#             S2_det_arr[i][j][ik] = S2_det\n",
    "            # print(\"S2 det: \", S2_det)\n",
    "            # print(\"---------------------------------------\")\n",
    "            S2_cond = np.linalg.cond(S2_mat)\n",
    "            S2_cond_arr_soln_2[i][j][ik] = S2_cond\n",
    "            \n",
    "            \n",
    "            if S2_det != 0:# and S2_cond < 1e10:\n",
    "                S2_inv = np.linalg.inv(S2_mat)\n",
    "\n",
    "#                 G2 = (1/N)* np.array([[S2_inv[0,0] - 2*chi*N + S2_inv[1,1], S2_inv[0,2], S2_inv[0, 3]],\\\n",
    "#                    [S2_inv[2,0], S2_inv[2,2] + N*v_int[0,0], S2_inv[2,3] + N*v_int[0,1]],\\\n",
    "#                    [S2_inv[3,0], S2_inv[3,2] + N*v_int[1,0], S2_inv[3,3] + N*v_int[1,1]]])  # ORIGINAL (no int vol)\n",
    "\n",
    "                #CORRECT (using interaction volume term)\n",
    "                G2 = np.array([[S2_inv[0,0] - 2*chi + S2_inv[1,1], S2_inv[0,2], S2_inv[0, 3]],\\\n",
    "                   [S2_inv[2,0], S2_inv[2,2] + v_int[0,0]*Vol_int, S2_inv[2,3] + v_int[0,1]*Vol_int],\\\n",
    "                   [S2_inv[3,0], S2_inv[3,2] + v_int[1,0]*Vol_int, S2_inv[3,3] + v_int[1,1]*Vol_int]])\n",
    "\n",
    "#                 # testing chi_12\n",
    "#                 chi_12 = 100#v_int[1,0] - ( (v_int[0,0] + v_int[1,1])/2 )\n",
    "#                 G2 = np.array([[S2_inv[0,0] - 2*chi + S2_inv[1,1], S2_inv[0,2], S2_inv[0, 3]],\\\n",
    "#                    [S2_inv[2,0], S2_inv[2,2] + 0*Vol_int, S2_inv[2,3] + chi_12*Vol_int],\\\n",
    "#                    [S2_inv[3,0], S2_inv[3,2] + chi_12*Vol_int, S2_inv[3,3] + 0*Vol_int]])\n",
    "            \n",
    "# #                 testing v_c\n",
    "#                 G2 = np.array([[S2_inv[0,0] - 2*chi + S2_inv[1,1], S2_inv[0,2], S2_inv[0, 3]],\\\n",
    "#                    [S2_inv[2,0], S2_inv[2,2] + -2*Vol_int, S2_inv[2,3] + 2*Vol_int],\\\n",
    "#                    [S2_inv[3,0], S2_inv[3,2] + 2*Vol_int, S2_inv[3,3] + -2*Vol_int]])\n",
    "                \n",
    "                val, vec = np.linalg.eigh(G2)\n",
    "                vec = vec.T\n",
    "#                 print(vec)\n",
    "#                 print(vec.T)\n",
    "#                 print(val)\n",
    "                min_val = np.min(val)            \n",
    "                min_eigval_arr[i][j][ik] = min_val\n",
    "                min_eigvec_arr[i][j][ik] = vec[np.where(val == min_val)]\n",
    "\n",
    "#             ########################### POLY/SOLV only\n",
    "#             S2_mat = np.array([[S2_mat[0,0], 0], [0, S2_mat[1,1]]])\n",
    "\n",
    "# #             if phi_c >= 0.999:\n",
    "# #                 raise Exception(\"melt!\")\n",
    "#             S2_det = np.linalg.det(S2_mat)           \n",
    "            \n",
    "#             if S2_det != 0:# and S2_cond < 1e10:\n",
    "#                 S2_inv = np.linalg.inv(S2_mat)\n",
    "\n",
    "# #                 G2 = (1/N)* np.array([S2_inv[0,0] - 2*chi*N + S2_inv[1,1]]) # original\n",
    "                \n",
    "#                 G2 = np.array([S2_inv[0,0] - 2*chi + S2_inv[1,1]])\n",
    "\n",
    "#                 val = G2[0]\n",
    "# #                 min_val = np.min(val)            \n",
    "#                 min_eigval_arr_ps[i][j][ik] = val\n",
    "#             ########################### POLY/SOLV only\n",
    "\n",
    "\n",
    "        # all-k analysis\n",
    "        min_vals = min_eigval_arr[i][j][:][np.nonzero(min_eigval_arr[i][j][:])] # min eigvals at mu1,mu2 for each k\n",
    "        \n",
    "        min_vecs = min_eigvec_arr[i][j][:][np.nonzero(min_eigval_arr[i][j][:])]\n",
    "        if len(min_vals) != 0:\n",
    "            minval_allk = np.min(min_vals) # minimum eigenvalue at mu1,mu2 across all ks\n",
    "#             print(minval_allk)\n",
    "            min_eigval_arr_allk_DENS[i][j] = minval_allk\n",
    "            \n",
    "            min_eigvec_arr_allk_DENS[i][j] = min_vecs[np.where(min_vals==minval_allk)]#[0][0] #double zero if saving as objects\n",
    "            \n",
    "            k_star = k_vec[np.where(min_vals==minval_allk)] # corresponding k \n",
    "#             print(k_star)\n",
    "            k_star_arr_DENS[i][j] = k_star\n",
    "\n",
    "            \n",
    "#         min_vals_ps = min_eigval_arr_ps[i][j][:][np.nonzero(min_eigval_arr_ps[i][j][:])] # min eigvals at mu1,mu2 for each k\n",
    "# #         if len(min_vals_ps) != 0:\n",
    "# #             minval_allk = np.min(min_vals_ps) # minimum eigenvalue at mu1,mu2 across all ks\n",
    "#         min_eigval_arr_allk_ps[i][j] = np.min(min_vals_ps)\n",
    "            \n",
    "#         min_vals_melt = min_eigval_arr_melt[i][j][:] # min eigvals at mu1,mu2 for each k\n",
    "#         minval_allk_melt = np.min(min_vals_melt) # minimum eigenvalue at mu1,mu2 across all ks\n",
    "#         min_eigval_arr_allk_DENS_melt[i][j] = minval_allk_melt\n",
    "\n",
    "        cond_nums = S2_cond_arr_soln_2[i][j][:]\n",
    "        max_cond_allk = np.max(cond_nums)\n",
    "        max_cond_arr_allk[i][j] = max_cond_allk\n",
    "        \n",
    "\n",
    "# setting all non-decomposed/ separated systems to 0 \n",
    "poly_fluc = min_eigvec_arr_allk_DENS[:,:,0]\n",
    "poly_fluc[np.where(np.sign(min_eigval_arr_allk_DENS) == 1) ] = 0\n",
    "\n",
    "prot1_fluc = min_eigvec_arr_allk_DENS[:,:,1]\n",
    "prot1_fluc[np.where(np.sign(min_eigval_arr_allk_DENS) == 1) ] = 0\n",
    "\n",
    "prot2_fluc = min_eigvec_arr_allk_DENS[:,:,2]\n",
    "prot2_fluc[np.where(np.sign(min_eigval_arr_allk_DENS) == 1) ] = 0\n",
    "\n",
    "k_star_arr_DENS[np.where(np.sign(min_eigval_arr_allk_DENS) == 1) ] = -1 # unphysical value, to indicate outside of spinodal"
   ]
  },
  {
   "cell_type": "code",
   "execution_count": 11,
   "id": "71835c18-619a-490d-971d-ec9f0a188277",
   "metadata": {},
   "outputs": [
    {
     "data": {
      "text/plain": [
       "0.021261123338996556"
      ]
     },
     "execution_count": 11,
     "metadata": {},
     "output_type": "execute_result"
    }
   ],
   "source": [
    "k_star_arr_DENS[3,3]"
   ]
  },
  {
   "cell_type": "code",
   "execution_count": 36,
   "id": "70fdada8-120d-4d7a-a54e-4c2e43b95edb",
   "metadata": {},
   "outputs": [
    {
     "data": {
      "text/plain": [
       "array([[[[7.81864616e+07, 3.80366404e+07, 3.80366404e+07,\n",
       "          0.00000000e+00],\n",
       "         [3.80366404e+07, 2.24621905e+07, 1.45503724e+07,\n",
       "          0.00000000e+00],\n",
       "         [3.80366404e+07, 1.45503724e+07, 2.24621905e+07,\n",
       "          0.00000000e+00],\n",
       "         [0.00000000e+00, 0.00000000e+00, 0.00000000e+00,\n",
       "          0.00000000e+00]],\n",
       "\n",
       "        [[3.80366404e+07, 1.56602288e+07, 2.13459654e+07,\n",
       "          0.00000000e+00],\n",
       "         [2.24621905e+07, 1.14487970e+07, 1.03871114e+07,\n",
       "          0.00000000e+00],\n",
       "         [1.45503724e+07, 3.79069538e+06, 1.03871114e+07,\n",
       "          0.00000000e+00],\n",
       "         [0.00000000e+00, 0.00000000e+00, 0.00000000e+00,\n",
       "          0.00000000e+00]],\n",
       "\n",
       "        [[3.80366404e+07, 2.13459654e+07, 1.56602288e+07,\n",
       "          0.00000000e+00],\n",
       "         [1.45503724e+07, 1.03871114e+07, 3.79069538e+06,\n",
       "          0.00000000e+00],\n",
       "         [2.24621905e+07, 1.03871114e+07, 1.14487970e+07,\n",
       "          0.00000000e+00],\n",
       "         [0.00000000e+00, 0.00000000e+00, 0.00000000e+00,\n",
       "          0.00000000e+00]],\n",
       "\n",
       "        [[0.00000000e+00, 0.00000000e+00, 0.00000000e+00,\n",
       "          0.00000000e+00],\n",
       "         [0.00000000e+00, 0.00000000e+00, 0.00000000e+00,\n",
       "          0.00000000e+00],\n",
       "         [0.00000000e+00, 0.00000000e+00, 0.00000000e+00,\n",
       "          0.00000000e+00],\n",
       "         [0.00000000e+00, 0.00000000e+00, 0.00000000e+00,\n",
       "          0.00000000e+00]]],\n",
       "\n",
       "\n",
       "       [[[3.80366404e+07, 2.24621905e+07, 1.45503724e+07,\n",
       "          0.00000000e+00],\n",
       "         [1.56602288e+07, 1.14487970e+07, 3.79069538e+06,\n",
       "          0.00000000e+00],\n",
       "         [2.13459654e+07, 1.03871114e+07, 1.03871114e+07,\n",
       "          0.00000000e+00],\n",
       "         [0.00000000e+00, 0.00000000e+00, 0.00000000e+00,\n",
       "          0.00000000e+00]],\n",
       "\n",
       "        [[2.24621905e+07, 1.14487970e+07, 1.03871114e+07,\n",
       "          0.00000000e+00],\n",
       "         [1.14487970e+07, 7.88902554e+06, 3.23273028e+06,\n",
       "          0.00000000e+00],\n",
       "         [1.03871114e+07, 3.23273028e+06, 6.87567549e+06,\n",
       "          0.00000000e+00],\n",
       "         [0.00000000e+00, 0.00000000e+00, 0.00000000e+00,\n",
       "          0.00000000e+00]],\n",
       "\n",
       "        [[1.45503724e+07, 1.03871114e+07, 3.79069538e+06,\n",
       "          0.00000000e+00],\n",
       "         [3.79069538e+06, 3.23273028e+06, 4.74283656e+05,\n",
       "          0.00000000e+00],\n",
       "         [1.03871114e+07, 6.87567549e+06, 3.23273028e+06,\n",
       "          0.00000000e+00],\n",
       "         [0.00000000e+00, 0.00000000e+00, 0.00000000e+00,\n",
       "          0.00000000e+00]],\n",
       "\n",
       "        [[0.00000000e+00, 0.00000000e+00, 0.00000000e+00,\n",
       "          0.00000000e+00],\n",
       "         [0.00000000e+00, 0.00000000e+00, 0.00000000e+00,\n",
       "          0.00000000e+00],\n",
       "         [0.00000000e+00, 0.00000000e+00, 0.00000000e+00,\n",
       "          0.00000000e+00],\n",
       "         [0.00000000e+00, 0.00000000e+00, 0.00000000e+00,\n",
       "          0.00000000e+00]]],\n",
       "\n",
       "\n",
       "       [[[3.80366404e+07, 1.45503724e+07, 2.24621905e+07,\n",
       "          0.00000000e+00],\n",
       "         [2.13459654e+07, 1.03871114e+07, 1.03871114e+07,\n",
       "          0.00000000e+00],\n",
       "         [1.56602288e+07, 3.79069538e+06, 1.14487970e+07,\n",
       "          0.00000000e+00],\n",
       "         [0.00000000e+00, 0.00000000e+00, 0.00000000e+00,\n",
       "          0.00000000e+00]],\n",
       "\n",
       "        [[1.45503724e+07, 3.79069538e+06, 1.03871114e+07,\n",
       "          0.00000000e+00],\n",
       "         [1.03871114e+07, 3.23273028e+06, 6.87567549e+06,\n",
       "          0.00000000e+00],\n",
       "         [3.79069538e+06, 4.74283656e+05, 3.23273028e+06,\n",
       "          0.00000000e+00],\n",
       "         [0.00000000e+00, 0.00000000e+00, 0.00000000e+00,\n",
       "          0.00000000e+00]],\n",
       "\n",
       "        [[2.24621905e+07, 1.03871114e+07, 1.14487970e+07,\n",
       "          0.00000000e+00],\n",
       "         [1.03871114e+07, 6.87567549e+06, 3.23273028e+06,\n",
       "          0.00000000e+00],\n",
       "         [1.14487970e+07, 3.23273028e+06, 7.88902554e+06,\n",
       "          0.00000000e+00],\n",
       "         [0.00000000e+00, 0.00000000e+00, 0.00000000e+00,\n",
       "          0.00000000e+00]],\n",
       "\n",
       "        [[0.00000000e+00, 0.00000000e+00, 0.00000000e+00,\n",
       "          0.00000000e+00],\n",
       "         [0.00000000e+00, 0.00000000e+00, 0.00000000e+00,\n",
       "          0.00000000e+00],\n",
       "         [0.00000000e+00, 0.00000000e+00, 0.00000000e+00,\n",
       "          0.00000000e+00],\n",
       "         [0.00000000e+00, 0.00000000e+00, 0.00000000e+00,\n",
       "          0.00000000e+00]]],\n",
       "\n",
       "\n",
       "       [[[0.00000000e+00, 0.00000000e+00, 0.00000000e+00,\n",
       "          0.00000000e+00],\n",
       "         [0.00000000e+00, 0.00000000e+00, 0.00000000e+00,\n",
       "          0.00000000e+00],\n",
       "         [0.00000000e+00, 0.00000000e+00, 0.00000000e+00,\n",
       "          0.00000000e+00],\n",
       "         [0.00000000e+00, 0.00000000e+00, 0.00000000e+00,\n",
       "          0.00000000e+00]],\n",
       "\n",
       "        [[0.00000000e+00, 0.00000000e+00, 0.00000000e+00,\n",
       "          0.00000000e+00],\n",
       "         [0.00000000e+00, 0.00000000e+00, 0.00000000e+00,\n",
       "          0.00000000e+00],\n",
       "         [0.00000000e+00, 0.00000000e+00, 0.00000000e+00,\n",
       "          0.00000000e+00],\n",
       "         [0.00000000e+00, 0.00000000e+00, 0.00000000e+00,\n",
       "          0.00000000e+00]],\n",
       "\n",
       "        [[0.00000000e+00, 0.00000000e+00, 0.00000000e+00,\n",
       "          0.00000000e+00],\n",
       "         [0.00000000e+00, 0.00000000e+00, 0.00000000e+00,\n",
       "          0.00000000e+00],\n",
       "         [0.00000000e+00, 0.00000000e+00, 0.00000000e+00,\n",
       "          0.00000000e+00],\n",
       "         [0.00000000e+00, 0.00000000e+00, 0.00000000e+00,\n",
       "          0.00000000e+00]],\n",
       "\n",
       "        [[0.00000000e+00, 0.00000000e+00, 0.00000000e+00,\n",
       "          0.00000000e+00],\n",
       "         [0.00000000e+00, 0.00000000e+00, 0.00000000e+00,\n",
       "          0.00000000e+00],\n",
       "         [0.00000000e+00, 0.00000000e+00, 0.00000000e+00,\n",
       "          0.00000000e+00],\n",
       "         [0.00000000e+00, 0.00000000e+00, 0.00000000e+00,\n",
       "          6.39999998e+01]]]])"
      ]
     },
     "execution_count": 36,
     "metadata": {},
     "output_type": "execute_result"
    }
   ],
   "source": [
    "i = 7\n",
    "j = 7\n",
    "s_bnd_A = s_bind_A_arr[i,j,:]\n",
    "s_bnd_B = s_bind_B_arr[i,j,:]\n",
    "q_star = k_star_arr_DENS[i,j]\n",
    "lam_q = q_star*np.array([1, 0, 0])\n",
    "\n",
    "Ks = np.array([lam_q, -lam_q, lam_q, -lam_q])\n",
    "K1, K2, K3, K4 = Ks\n",
    "# def gamma4(chrom, s_bnd_A, s_bnd_B, Ks):\n",
    "#     K1, K2, K3, K4 = Ks\n",
    "#     if np.linalg.norm(K1+K2+K3+K4) >= 1e-10:\n",
    "#         raise Exception('Qs must add up to zero')    \n",
    "    # K = np.linalg.norm(K1)\n",
    "    # K12 = np.linalg.norm(K1+K2)\n",
    "    # K13 = np.linalg.norm(K1+K3)\n",
    "    # K14 = np.linalg.norm(K1+K4)\n",
    "\n",
    "[n_bind, v_int, Vol_int, e_m, rho_c, rho_s, poly_marks, M, mu_max, mu_min, del_mu, alpha, N, N_m, b] = chrom\n",
    "    \n",
    "M4 = calc_mon_mat_4(s_bnd_A, s_bnd_B)\n",
    "    \n",
    "s4 = ( rho_c/(M) ) * calc_sf4(chrom, M4, [K1], [K2], [K3]) \n",
    "s4"
   ]
  },
  {
   "cell_type": "code",
   "execution_count": 38,
   "id": "dc6adbd7-c132-4075-ae49-acda5b75c7e1",
   "metadata": {},
   "outputs": [
    {
     "data": {
      "text/plain": [
       "array([[[2959.17998072, 1440.63991239, 1440.63991239,    0.        ],\n",
       "        [1438.15797518,  700.14929571,  700.14929571,    0.        ],\n",
       "        [1438.15797518,  700.14929571,  700.14929571,    0.        ],\n",
       "        [   0.        ,    0.        ,    0.        ,    0.        ]],\n",
       "\n",
       "       [[1438.15797518,  700.14929571,  700.14929571,    0.        ],\n",
       "        [1016.01967611,  494.6365232 ,  494.6365232 ,    0.        ],\n",
       "        [ 382.14095022,  186.04056145,  186.04056145,    0.        ],\n",
       "        [   0.        ,    0.        ,    0.        ,    0.        ]],\n",
       "\n",
       "       [[1438.15797518,  700.14929571,  700.14929571,    0.        ],\n",
       "        [ 382.14095022,  186.04056145,  186.04056145,    0.        ],\n",
       "        [1016.01967611,  494.6365232 ,  494.6365232 ,    0.        ],\n",
       "        [   0.        ,    0.        ,    0.        ,    0.        ]],\n",
       "\n",
       "       [[   0.        ,    0.        ,    0.        ,    0.        ],\n",
       "        [   0.        ,    0.        ,    0.        ,    0.        ],\n",
       "        [   0.        ,    0.        ,    0.        ,    0.        ],\n",
       "        [   0.        ,    0.        ,    0.        ,   63.99999981]]])"
      ]
     },
     "execution_count": 38,
     "metadata": {},
     "output_type": "execute_result"
    }
   ],
   "source": [
    "M3 = calc_mon_mat_3(s_bnd_A, s_bnd_B)\n",
    "    \n",
    "s3 = ( rho_c/(M) ) * calc_sf3(chrom, M3, [K1], [K2]) \n",
    "s3"
   ]
  },
  {
   "cell_type": "code",
   "execution_count": 13,
   "id": "8568dc61-4b5b-4bc9-913c-717307315c65",
   "metadata": {},
   "outputs": [
    {
     "data": {
      "text/plain": [
       "array([8.31439452e-02, 9.07483508e-03, 2.64325194e-03, 2.01263117e-03,\n",
       "       1.95874307e-03, 1.98484435e-03, 2.03588988e-03, 2.11598894e-03,\n",
       "       2.25741950e-03, 2.53671288e-03, 3.11413052e-03, 4.30128311e-03,\n",
       "       6.66351950e-03, 1.11573667e-02, 1.92889047e-02, 3.32572253e-02,\n",
       "       5.60231981e-02, 9.12282810e-02, 1.42894901e-01, 2.14879919e-01,\n",
       "       3.10125634e-01, 4.29841348e-01, 5.72819817e-01, 7.35109978e-01,\n",
       "       9.10207303e-01, 1.08979270e+00, 1.26489002e+00, 1.42718018e+00,\n",
       "       1.57015865e+00, 1.68987437e+00, 1.78512008e+00, 1.85710510e+00,\n",
       "       1.90877172e+00, 1.94397680e+00, 1.96674277e+00, 1.98071110e+00,\n",
       "       1.98884263e+00, 1.99333648e+00, 1.99569872e+00, 1.99688587e+00,\n",
       "       1.99746329e+00, 1.99774258e+00, 1.99788401e+00, 1.99796411e+00,\n",
       "       1.99801516e+00, 1.99804126e+00, 1.99798737e+00, 1.99735675e+00,\n",
       "       1.99092516e+00, 1.91685605e+00])"
      ]
     },
     "execution_count": 13,
     "metadata": {},
     "output_type": "execute_result"
    }
   ],
   "source": [
    "1 - s_bnd_A + s_bnd_B"
   ]
  },
  {
   "cell_type": "code",
   "execution_count": 14,
   "id": "78e0e7f1-2f69-4e69-8b7e-35fda6748c6e",
   "metadata": {},
   "outputs": [
    {
     "name": "stdout",
     "output_type": "stream",
     "text": [
      "mu:  -3.5 -3.5\n",
      "energies:\n",
      "[-3.8391573259974064e+224, -1.2174709925345728e+225, -2.239185163400135e+225]\n"
     ]
    }
   ],
   "source": [
    "# chi = 0\n",
    "phases = np.zeros((len(mu1_array[:]), len(mu2_array[:]))) - 1 \n",
    "for i, mu1 in enumerate(mu1_array[:]):\n",
    "    for j, mu2 in enumerate(mu2_array[:]):\n",
    "        if i != 3:\n",
    "            continue\n",
    "        if j != 3:\n",
    "            continue\n",
    "        print(\"mu: \", mu1, mu2)\n",
    "        q_star = k_star_arr_DENS[i,j]\n",
    "        # q_star = k_vec[10]#k_star_arr_DENS[i,j]\n",
    "        # q_star = 0.021261123338996556\n",
    "        if q_star == -1:\n",
    "            print(\"OUT OF SPIN- no q_star\")\n",
    "            phases[i,j] = 0 # disordered phase- outside of spinodal\n",
    "            raise Exception(\"NOOOO\")\n",
    "        elif q_star == k_vec[0]:\n",
    "            print(\"MACROPHASE SEP\")\n",
    "            phases[i,j] = 1 # macrophase sep\n",
    "            raise Exception(\"NOOOO\")\n",
    "\n",
    "        # else: #microphse sep\n",
    "        \n",
    "        # print(q_star)\n",
    "        s_bnd_A = s_bind_A_arr[i,j,:]\n",
    "        s_bnd_B = s_bind_B_arr[i,j,:]\n",
    "        # FA = calc_fa(s_bnd_A, s_bnd_B)\n",
    "        # chrom[11] = [FA, 1-FA]\n",
    "        \n",
    "        lam_q = q_star*np.array([1, 0, 0])\n",
    "\n",
    "        cyl_q1 = q_star*np.array([1, 0, 0])\n",
    "        cyl_q2 = 0.5*q_star*np.array([-1, np.sqrt(3), 0])\n",
    "        cyl_q3 = 0.5*q_star*np.array([-1, -np.sqrt(3), 0])\n",
    "        cyl_qs = np.array([cyl_q1, cyl_q2, cyl_q3])\n",
    "        \n",
    "        bcc_q1 = 2**(-0.5)*q_star*np.array([1,1,0])\n",
    "        bcc_q2 = 2**(-0.5)*q_star*np.array([-1,1,0])\n",
    "        bcc_q3 = 2**(-0.5)*q_star*np.array([0,1,1])\n",
    "        bcc_q4 = 2**(-0.5)*q_star*np.array([0,1,-1])\n",
    "        bcc_q5 = 2**(-0.5)*q_star*np.array([1,0,1])\n",
    "        bcc_q6 = 2**(-0.5)*q_star*np.array([1,0,-1])\n",
    "        \n",
    "        \n",
    "        lam_g3 = 0\n",
    "        G3 = gamma3(chrom, s_bnd_A, s_bnd_B, cyl_qs) # all g3s are eqivlaent\n",
    "        cyl_g3 = (1/6)  * (1/(3*np.sqrt(3))) * 12 * G3#\n",
    "        bcc_g3 = (4/(3*np.sqrt(6))) * G3\n",
    "        \n",
    "        # print(chrom[11])\n",
    "        G4_00 = gamma4(chrom, s_bnd_A, s_bnd_B, np.array([lam_q, -lam_q, lam_q, -lam_q]))\n",
    "        lam_g4 = (1/24) * (6) * (1) * G4_00#gamma4_E(poly_mat, dens, N_m, b, M, np.array([lam_q, -lam_q, lam_q, -lam_q]))        \n",
    "        \n",
    "        # print(\"test g4 mag impact\")\n",
    "        # # lam_g4 /= 1e40\n",
    "        # lam_g4 /= 1e30\n",
    "        \n",
    "        cyl_g4 = (1/24) * (1/9) *(18*G4_00 + \\\n",
    "          72*gamma4(chrom, s_bnd_A, s_bnd_B, np.array([cyl_q1, -cyl_q1, cyl_q2, -cyl_q2])) )\n",
    "        \n",
    "        bcc_g4 = (1/24)* (G4_00 \\\n",
    "                 + 8*gamma4(chrom, s_bnd_A, s_bnd_B, np.array([bcc_q1, -bcc_q1, bcc_q3, -bcc_q3])) \\\n",
    "                 + 2*gamma4(chrom, s_bnd_A, s_bnd_B, np.array([bcc_q1, -bcc_q1, bcc_q2, -bcc_q2])) \\\n",
    "                 + 4*gamma4(chrom, s_bnd_A, s_bnd_B, np.array([bcc_q1, -bcc_q3, bcc_q2, -bcc_q4])) )\n",
    "\n",
    "        # print(\"simplified test bcc\")\n",
    "        # bcc_g4 = (1/24)* (4*gamma4(chrom, s_bnd_A, s_bnd_B, np.array([bcc_q1, -bcc_q3, bcc_q2, -bcc_q4])) )\n",
    "        \n",
    "        lam_g2 = (1/2) * 2 * (1) * gamma2(chrom, s_bnd_A, s_bnd_B, q_star, chi)\n",
    "        cyl_g2 = lam_g2\n",
    "        bcc_g2 = lam_g2\n",
    "        \n",
    "\n",
    "        initial = [0, 0, 0] # poly, A, B\n",
    "        # print(\"SWITCHED signs\")\n",
    "        amps_l = optimize.fmin(lambda amps: np.real(np.einsum(\"ij,i,j ->\", lam_g2, amps, amps) \\\n",
    "                                           +  np.einsum(\"ijkl,i,j,k,l ->\", lam_g4, amps, amps, amps, amps)), initial, disp=False)\n",
    "        \n",
    "        # lamF = np.real( np.einsum(\"ij,i,j ->\", lam_g2, amps_l, amps_l) \\\n",
    "                                        # +  np.einsum(\"ijkl,i,j,k,l ->\", lam_g4, amps_l, amps_l, amps_l, amps_l))\n",
    "\n",
    "        \n",
    "        lamF = np.real( np.einsum(\"ij,i,j ->\", lam_g2, amps_l, amps_l) \\\n",
    "                                        +  np.einsum(\"ijkl,i,j,k,l ->\", lam_g4, amps_l, amps_l, amps_l, amps_l))\n",
    "        # print(lamF)\n",
    "\n",
    "            \n",
    "        amps_l_no4 = optimize.fmin(lambda amps: np.real(np.einsum(\"ij,i,j ->\", lam_g2, amps, amps)), initial, disp=False)\n",
    "        \n",
    "        lamF_no4 = np.real(np.einsum(\"ij,i,j ->\", lam_g2, amps_l_no4, amps_l_no4))\n",
    "        \n",
    "        # print(\"lam_F: \", lamF)\n",
    "        # print(\"lamF_no4: \", lamF_no4)\n",
    "        \n",
    "        amps_cy = optimize.fmin(lambda amps: np.real(np.einsum(\"ij,i,j ->\", cyl_g2, amps, amps) \\\n",
    "                                            + np.einsum(\"ijk,i,j,k ->\", cyl_g3, amps, amps, amps) \\\n",
    "                                           +  np.einsum(\"ijkl,i,j,k,l ->\", cyl_g4, amps, amps, amps, amps)), initial, disp=False)\n",
    "        \n",
    "        cylF = np.real(np.einsum(\"ij,i,j ->\", cyl_g2, amps_cy, amps_cy) \\\n",
    "                                            + np.einsum(\"ijk,i,j,k ->\", cyl_g3, amps_cy, amps_cy, amps_cy) \\\n",
    "                                            + np.einsum(\"ijkl,i,j,k,l ->\", cyl_g4, amps_cy, amps_cy, amps_cy, amps_cy))\n",
    "\n",
    "        amps_bcc = optimize.fmin(lambda amps: np.real(np.einsum(\"ij,i,j ->\", bcc_g2, amps, amps) \\\n",
    "                                            + np.einsum(\"ijk,i,j,k ->\", bcc_g3, amps, amps, amps) \\\n",
    "                                           +  np.einsum(\"ijkl,i,j,k,l ->\", bcc_g4, amps, amps, amps, amps)), initial, disp=False)\n",
    "        \n",
    "        bccF = np.real(np.einsum(\"ij,i,j ->\", bcc_g2, amps_bcc, amps_bcc) \\\n",
    "                                            + np.einsum(\"ijk,i,j,k ->\", bcc_g3, amps_bcc, amps_bcc, amps_bcc) \\\n",
    "                                            + np.einsum(\"ijkl,i,j,k,l ->\", bcc_g4, amps_bcc, amps_bcc, amps_bcc, amps_bcc))\n",
    "\n",
    "        minF = np.min([lamF, cylF, bccF, 0])\n",
    "        print(\"energies:\")\n",
    "        print([lamF, cylF, bccF])\n",
    "        # if minF == 0:\n",
    "        #     raise Exception(\"phase sep not stable in spinodla??\")\n",
    "        # elif minF == lamF:\n",
    "        #     phases[i,j] = 2\n",
    "        # elif minF == cylF:\n",
    "        #     phases[i,j] = 3\n",
    "        # elif minF == bccF:\n",
    "        #     phases[i,j] = 4\n",
    "\n",
    "        # amp_l1, amp_l2 = optimize.fmin(lambda amps: np.real(amps[0]**2 * lam_g2 + amps[0]**3 * lam_g3 + amps[0]**4 * lam_g4 + \\\n",
    "        #                                                 amps[1]**2 * lam_g2_2 + amps[1]**3 * lam_g3_2 + amps[1]**4 * lam_g4_2 + \\\n",
    "        #                                                 amps[0]**2 * amps[1] * lam_g3_mix + amps[0]**2 * amps[1]**2 * lam_g4_mix), \\\n",
    "        #                       initial, disp=False)   "
   ]
  },
  {
   "cell_type": "code",
   "execution_count": 15,
   "id": "8c7429fc-d005-411f-be81-147203176be4",
   "metadata": {},
   "outputs": [],
   "source": [
    "# sig_inds= [0,1,2]\n",
    "# for a1, a2, a3 in product(sig_inds, repeat=3):\n",
    "#     print([a1, a2, a3])"
   ]
  },
  {
   "cell_type": "code",
   "execution_count": 16,
   "id": "035f8532-4e18-4d12-820c-9eb63eb2e5ee",
   "metadata": {},
   "outputs": [
    {
     "data": {
      "text/plain": [
       "-3.8391573259974064e+224"
      ]
     },
     "execution_count": 16,
     "metadata": {},
     "output_type": "execute_result"
    }
   ],
   "source": [
    "lamF"
   ]
  },
  {
   "cell_type": "code",
   "execution_count": 17,
   "id": "2dd299eb-5fed-4f53-b344-f637df96974d",
   "metadata": {},
   "outputs": [
    {
     "data": {
      "text/plain": [
       "-1.22063433501667e+103"
      ]
     },
     "execution_count": 17,
     "metadata": {},
     "output_type": "execute_result"
    }
   ],
   "source": [
    "lamF_no4"
   ]
  },
  {
   "cell_type": "code",
   "execution_count": 34,
   "id": "a368c80d-f567-4ba4-a587-fcb354fed1cc",
   "metadata": {},
   "outputs": [],
   "source": [
    "lam_g2 = (1/2) * 2 * (1) * gamma2(chrom, s_bnd_A, s_bnd_B, q_star, chi)\n",
    "# lam_g2_no_int = (1/2) * 2 * (1) * gamma2_no_int(chrom, s_bnd_A, s_bnd_B, q_star, chi)"
   ]
  },
  {
   "cell_type": "code",
   "execution_count": null,
   "id": "0e6a9468-5f7d-4f10-9ab3-b1302e21c6a9",
   "metadata": {},
   "outputs": [],
   "source": [
    "val, vec = np.linalg.eigh(lam_g2)\n",
    "val"
   ]
  },
  {
   "cell_type": "code",
   "execution_count": null,
   "id": "b213d6e1-720a-4087-9123-6bedb163a569",
   "metadata": {},
   "outputs": [],
   "source": [
    "val, vec = np.linalg.eigh(lam_g2_no_int)\n",
    "val"
   ]
  },
  {
   "cell_type": "code",
   "execution_count": null,
   "id": "f385fe8f-8cf9-4820-a8fc-e4e23c3482d9",
   "metadata": {},
   "outputs": [],
   "source": [
    "lamF"
   ]
  },
  {
   "cell_type": "code",
   "execution_count": null,
   "id": "8ca7c219-4de5-444d-978d-1b390189ae05",
   "metadata": {},
   "outputs": [],
   "source": [
    "lamF_no4"
   ]
  },
  {
   "cell_type": "code",
   "execution_count": null,
   "id": "677685c3-2c9f-420c-87fc-94f410dd2886",
   "metadata": {},
   "outputs": [],
   "source": [
    "amps_l_no4_neg = optimize.fmin(lambda amps: -np.real(np.einsum(\"ij,i,j ->\", lam_g2, amps, amps)), initial, disp=False)\n",
    "\n",
    "-np.real(np.einsum(\"ij,i,j ->\", lam_g2, amps_l_no4_neg, amps_l_no4_neg))"
   ]
  },
  {
   "cell_type": "code",
   "execution_count": null,
   "id": "14354f3b-29b6-46d1-97f7-eb2acd2aa10b",
   "metadata": {},
   "outputs": [],
   "source": [
    "amps_l_no4_neg"
   ]
  },
  {
   "cell_type": "code",
   "execution_count": 26,
   "id": "aa25123c-f4cc-4123-ab3e-8d6d25d568b0",
   "metadata": {},
   "outputs": [
    {
     "data": {
      "text/plain": [
       "-1.2206343350166709e+103"
      ]
     },
     "execution_count": 26,
     "metadata": {},
     "output_type": "execute_result"
    }
   ],
   "source": [
    "amps_l_no4 = optimize.fmin(lambda amps:np.real(np.einsum(\"ij,i,j ->\", lam_g2, amps, amps)), initial, disp=False)\n",
    "\n",
    "np.real(np.einsum(\"ij,i,j ->\", lam_g2, amps_l_no4, amps_l_no4))"
   ]
  },
  {
   "cell_type": "code",
   "execution_count": 28,
   "id": "76ced436-4c91-4c56-a00a-979bf9dce981",
   "metadata": {},
   "outputs": [
    {
     "data": {
      "text/plain": [
       "-3.8843291424045175e+224"
      ]
     },
     "execution_count": 28,
     "metadata": {},
     "output_type": "execute_result"
    }
   ],
   "source": [
    "amps_l = optimize.fmin(lambda amps: np.real(np.einsum(\"ij,i,j ->\", lam_g2, amps, amps) \\\n",
    "                                   +  np.einsum(\"ijkl,i,j,k,l ->\", lam_g4, amps, amps, amps, amps)), initial, disp=False)\n",
    "\n",
    "\n",
    "np.real( np.einsum(\"ij,i,j ->\", lam_g2, amps_l, amps_l) \\\n",
    "                                + np.einsum(\"ijkl,i,j,k,l ->\", lam_g4, amps_l, amps_l, amps_l, amps_l))"
   ]
  },
  {
   "cell_type": "code",
   "execution_count": 216,
   "id": "ba253fea-c0fa-4a1a-8fca-d652fedc1fa0",
   "metadata": {},
   "outputs": [
    {
     "data": {
      "text/plain": [
       "array([-7.73470202e+02,  1.34759369e+01,  1.36219114e+04])"
      ]
     },
     "execution_count": 216,
     "metadata": {},
     "output_type": "execute_result"
    }
   ],
   "source": [
    "val, vec = np.linalg.eigh(lam_g2)\n",
    "val"
   ]
  },
  {
   "cell_type": "code",
   "execution_count": 218,
   "id": "88f01c6f-9108-4e3f-82b2-59d6a7f16fce",
   "metadata": {},
   "outputs": [
    {
     "data": {
      "text/plain": [
       "array([-1.36219114e+04, -1.34759369e+01,  7.73470202e+02])"
      ]
     },
     "execution_count": 218,
     "metadata": {},
     "output_type": "execute_result"
    }
   ],
   "source": [
    "val, vec = np.linalg.eigh(-lam_g2)\n",
    "val"
   ]
  },
  {
   "cell_type": "code",
   "execution_count": 280,
   "id": "b7961f5d-489a-4ef6-87aa-29a7f53f76e2",
   "metadata": {},
   "outputs": [
    {
     "data": {
      "text/plain": [
       "-1.2206343350166709e+103"
      ]
     },
     "execution_count": 280,
     "metadata": {},
     "output_type": "execute_result"
    }
   ],
   "source": [
    "#neg g2\n",
    "amps_l_no4_te = optimize.fmin(lambda amps:np.real(np.einsum(\"ij,i,j ->\", lam_g2, amps, amps)), initial, disp=False)\n",
    "\n",
    "np.real(np.einsum(\"ij,i,j ->\", lam_g2, amps_l_no4_te, amps_l_no4_te))"
   ]
  },
  {
   "cell_type": "code",
   "execution_count": 88,
   "id": "34430cfe-4f91-43e7-bf40-aab4363cc297",
   "metadata": {},
   "outputs": [
    {
     "data": {
      "text/plain": [
       "-1.6517984850796e+29"
      ]
     },
     "execution_count": 88,
     "metadata": {},
     "output_type": "execute_result"
    }
   ],
   "source": [
    "test = [0, 10000000000000, -10000000000000]\n",
    "np.real(np.einsum(\"ij,i,j ->\", lam_g2, test, test))"
   ]
  },
  {
   "cell_type": "code",
   "execution_count": 184,
   "id": "af414d07-53ad-46cb-a159-baf3197bc2cb",
   "metadata": {},
   "outputs": [
    {
     "data": {
      "text/plain": [
       "1.2865372048288609e-23"
      ]
     },
     "execution_count": 184,
     "metadata": {},
     "output_type": "execute_result"
    }
   ],
   "source": [
    "amps_l = [-0.0000000000003,0.0000000000000008,-0.0000000000002]\n",
    "# amps_l = [-300000,0.0000000008,-20000]\n",
    "-np.real( np.einsum(\"ij,i,j ->\", lam_g2, amps_l, amps_l) \\\n",
    "                                + np.einsum(\"ijkl,i,j,k,l ->\", lam_g4, amps_l, amps_l, amps_l, amps_l))"
   ]
  },
  {
   "cell_type": "code",
   "execution_count": 89,
   "id": "00c0875a-c745-4167-9aeb-4e455c2179ee",
   "metadata": {},
   "outputs": [
    {
     "data": {
      "text/plain": [
       "-1.6517984850796e+29"
      ]
     },
     "execution_count": 89,
     "metadata": {},
     "output_type": "execute_result"
    }
   ],
   "source": [
    "np.real( np.einsum(\"ij,i,j ->\", lam_g2, test, test) \\\n",
    "                                +  np.einsum(\"ijkl,i,j,k,l ->\", lam_g4, amps_l, amps_l, amps_l, amps_l))"
   ]
  },
  {
   "cell_type": "code",
   "execution_count": 206,
   "id": "ad70b951-d74a-430a-9c17-b37bd493b0cc",
   "metadata": {},
   "outputs": [
    {
     "data": {
      "text/plain": [
       "-3.8843291424045175e+224"
      ]
     },
     "execution_count": 206,
     "metadata": {},
     "output_type": "execute_result"
    }
   ],
   "source": [
    "amps_l = optimize.fmin(lambda amps: np.real(np.einsum(\"ij,i,j ->\", lam_g2, amps, amps) \\\n",
    "                                   +  np.einsum(\"ijkl,i,j,k,l ->\", lam_g4, amps, amps, amps, amps)), initial, disp=False)\n",
    "\n",
    "# lamF = np.real( np.einsum(\"ij,i,j ->\", lam_g2, amps_l, amps_l) \\\n",
    "                                # +  np.einsum(\"ijkl,i,j,k,l ->\", lam_g4, amps_l, amps_l, amps_l, amps_l))\n",
    "\n",
    "\n",
    "np.real( np.einsum(\"ij,i,j ->\", lam_g2, amps_l, amps_l) \\\n",
    "                                +  np.einsum(\"ijkl,i,j,k,l ->\", lam_g4, amps_l, amps_l, amps_l, amps_l))"
   ]
  },
  {
   "cell_type": "code",
   "execution_count": 24,
   "id": "f73439a3-59ee-41b4-96b9-092445d740d3",
   "metadata": {},
   "outputs": [
    {
     "data": {
      "text/plain": [
       "-2.663213487098916e-18"
      ]
     },
     "execution_count": 24,
     "metadata": {},
     "output_type": "execute_result"
    }
   ],
   "source": [
    "f_A = 0.3\n",
    "f_B = 1- f_A\n",
    "alpha = .574\n",
    "s2_q0 = np.array([[1+alpha, f_A, f_B],\n",
    "                 [f_A, f_A**2, f_A*f_B],\n",
    "                 [f_B, f_A*f_B, f_B**2]])\n",
    "np.linalg.det(s2_q0)"
   ]
  },
  {
   "cell_type": "code",
   "execution_count": null,
   "id": "dc59f3e7-4143-470e-97d4-8addcf308b53",
   "metadata": {},
   "outputs": [],
   "source": [
    "fig = plt.figure()\n",
    "plt.figure(figsize=(10,8))\n",
    "\n",
    "font = {'family' : 'serif',\n",
    "        'weight':'normal',\n",
    "        'size': 18}\n",
    "plt.rc('font', **font)\n",
    "\n",
    "\n",
    "min_ind = 0\n",
    "max_ind = -1\n",
    "\n",
    "# plt.scatter(mu1_array[np.where(multi_soln_mus == 1)[0]],mu2_array[np.where(multi_soln_mus == 1)[1]])\n",
    "# k_ind = 20\n",
    "#     poly_fluc = min_eigvec_arr_allk[:,:,0]\n",
    "#     poly_fluc[np.where(np.sign(min_eigval_arr_allk) == 1) ] = 0\n",
    "\n",
    "#     prot1_fluc = min_eigvec_arr_allk[:,:,1]\n",
    "#     prot1_fluc[np.where(np.sign(min_eigval_arr_allk) == 1) ] = 0\n",
    "\n",
    "#     prot2_fluc = min_eigvec_arr_allk[:,:,2]\n",
    "#     prot2_fluc[np.where(np.sign(min_eigval_arr_allk) == 1) ] = 0\n",
    "    \n",
    "# k_star_arr_DENS[np.where(np.sign(min_eigval_arr_allk_DENS) == 1) ] = np.nan\n",
    "# ax = sns.heatmap(1/(k_star_arr*b), linewidth=0.25, cmap = \"cool\", xticklabels=mu2_array, yticklabels=mu1_array, cbar_kws={'label':  r\"$ \\frac{1}{k^*} \\ (nm)$\"})\n",
    "ax = sns.heatmap(phases, linewidth=0.25, cmap = \"rainbow\", xticklabels=mu2_array[min_ind:max_ind], yticklabels=mu1_array[min_ind:max_ind],\\\n",
    "                 cbar_kws={'label':  r\"$phase$\"})\n",
    "plt.ylabel(\"$\\mu^{(1)}$\")\n",
    "plt.xlabel(\"$\\mu^{(2)}$\")\n",
    "plt.title(r\"phases\" +  \", $\\chi = $\" + \\\n",
    "          str(np.round(chi, 2)) \\\n",
    "          +  \", $v_{int} = $ [\" + str(v_int[0]) + \",\" + str(v_int[1]) + \"]\" +\\\n",
    "          \"\\n\")\n",
    "\n",
    "\n",
    "plt.show()"
   ]
  },
  {
   "cell_type": "markdown",
   "id": "ecf4166d-310d-4e47-9fa8-51bd12aaea2d",
   "metadata": {
    "jp-MarkdownHeadingCollapsed": true
   },
   "source": [
    "# old sf scaling calcs"
   ]
  },
  {
   "cell_type": "code",
   "execution_count": 3,
   "id": "ec49a07f-8d52-4adb-88c3-1c75d12bc72e",
   "metadata": {},
   "outputs": [],
   "source": [
    "from binder_diblock_vertex_competitive import *\n",
    "from binder_diblock_gamma234_vertex import *"
   ]
  },
  {
   "cell_type": "code",
   "execution_count": 5,
   "id": "55d3682f-7f36-4199-99ae-4824f8500df2",
   "metadata": {},
   "outputs": [],
   "source": [
    "# # ID = 9987.64006\n",
    "# ID = 9995.64006\n",
    "# # ID = 9997.64006\n",
    "ID = 10001.04006\n",
    "\n",
    "# looping = \"full mark dens comp alt f_bind,\"\n",
    "\n",
    "settings = np.load(r\"C:\\Users\\tmhab\\wlcsim_membrane\\binder_diblock\\ID=%s_settings.npy\" % (ID), allow_pickle = True)\n",
    "\n",
    "[chrom, [klog_min, klog_max, klog_num]] = settings\n",
    "\n",
    "[n_bind, v_int, Vol_int, e_m, rho_c, rho_s, poly_marks, M, mu_max, mu_min, del_mu, f_om, N, N_m, b] = chrom\n",
    "\n",
    "[pa_vec, marks_2] = poly_marks\n",
    "\n",
    "mu1_array = np.arange(mu_min, mu_max, del_mu)\n",
    "mu2_array = np.arange(mu_min, mu_max, del_mu)\n",
    "\n",
    "k_vec = np.logspace(klog_min, klog_max, klog_num) / b\n",
    "  \n",
    "s2_mats = np.load(r\"C:\\Users\\tmhab\\wlcsim_membrane\\binder_diblock\\ID=%s_chrom_s2_mats_v_int=[[%s,%s],[%s,%s]],diblock,mu_max=%s.npy\"\\\n",
    "                 % (ID, v_int[0,0], v_int[0,1], v_int[1,0], v_int[1,1], mu_max), allow_pickle = True)\n",
    "\n",
    "s_bind_A_arr = np.load(r\"ID=%s_s_bind_A.npy\" % ID, allow_pickle=True)\n",
    "s_bind_B_arr = np.load(r\"ID=%s_s_bind_B.npy\" % ID, allow_pickle=True)\n",
    "spacing = int(1 / del_mu)"
   ]
  },
  {
   "cell_type": "code",
   "execution_count": 7,
   "id": "b723c84a-57d3-4b86-99c3-0edd19645cd5",
   "metadata": {},
   "outputs": [
    {
     "data": {
      "text/plain": [
       "array([1.52, 1.52])"
      ]
     },
     "execution_count": 7,
     "metadata": {},
     "output_type": "execute_result"
    }
   ],
   "source": [
    "e_m"
   ]
  },
  {
   "cell_type": "code",
   "execution_count": 9,
   "id": "35610aab-1c73-4caf-99ec-143dbc87981c",
   "metadata": {},
   "outputs": [
    {
     "data": {
      "text/plain": [
       "0.30100000000000005"
      ]
     },
     "execution_count": 9,
     "metadata": {},
     "output_type": "execute_result"
    }
   ],
   "source": [
    "\n",
    "avo = 6.02e23 # num poly / mol\n",
    "dens_p = 1 # g/cm^3 -> less for polymer solution\n",
    "mol_weight_p = 1e5 # g/mol\n",
    "\n",
    "rho_p = avo*(1/mol_weight_p)*dens_p*M*(100**3)*(1/1e9)**3\n",
    "rho_p"
   ]
  },
  {
   "cell_type": "code",
   "execution_count": 11,
   "id": "9a9d8683-3526-48df-bcf5-a676dc66f558",
   "metadata": {},
   "outputs": [
    {
     "data": {
      "text/plain": [
       "-1.5"
      ]
     },
     "execution_count": 11,
     "metadata": {},
     "output_type": "execute_result"
    }
   ],
   "source": [
    "mu1_array[7]"
   ]
  },
  {
   "cell_type": "code",
   "execution_count": 13,
   "id": "6ea8d9f6-4a81-4fc3-a98c-f76d79b72453",
   "metadata": {},
   "outputs": [
    {
     "name": "stdout",
     "output_type": "stream",
     "text": [
      "CPU times: total: 125 ms\n",
      "Wall time: 407 ms\n"
     ]
    }
   ],
   "source": [
    "%%time\n",
    "# K STAR stab anal NUMBER DENSITY THEORY\n",
    "\n",
    "# poly solv\n",
    "# chi = 0.00083\n",
    "# chi = 3/N\n",
    "# chi = 2/N\n",
    "\n",
    "# full soln\n",
    "# chi = 0.00005828\n",
    "# chi = -1.0\n",
    "chi = 0\n",
    "\n",
    "min_eigval_arr = np.zeros((len(mu1_array[:]), len(mu2_array[:]), len(k_vec)))\n",
    "# min_eigval_arr_melt = np.zeros((len(mu1_array[:]), len(mu2_array[:]), len(k_vec)))\n",
    "# min_eigval_arr_ps = np.zeros((len(mu1_array[:]), len(mu2_array[:]), len(k_vec)))\n",
    "\n",
    "min_eigval_arr_ps = np.zeros((len(mu1_array[:]), len(mu2_array[:]), len(k_vec)))\n",
    "\n",
    "\n",
    "S2_det_arr = np.zeros((len(mu1_array[:]), len(mu2_array[:]), len(k_vec[:])))\n",
    "\n",
    "S2_cond_arr_soln_2 = np.zeros((len(mu1_array[:]), len(mu2_array[:]), len(k_vec[:])))\n",
    "# S2_cond_arr_soln_1 = np.zeros((len(mu1_array[:]), len(mu2_array[:]), len(k_vec[:])))\n",
    "# S2_cond_arr_melt_2 = np.zeros((len(mu1_array[:]), len(mu2_array[:]), len(k_vec[:])))\n",
    "\n",
    "max_cond_arr_allk = np.zeros((len(mu1_array[:]), len(mu2_array[:])))\n",
    "\n",
    "min_eigval_arr_allk_DENS = np.zeros((len(mu1_array[:]), len(mu2_array[:])))\n",
    "min_eigval_arr_allk_ps = np.zeros((len(mu1_array[:]), len(mu2_array[:])))\n",
    "# min_eigval_arr_allk_DENS_melt = np.zeros((len(mu1_array[:]), len(mu2_array[:])))\n",
    "\n",
    "min_eigvec_arr = np.zeros((len(mu1_array[:]), len(mu2_array[:]), len(k_vec)), dtype = object)\n",
    "min_eigvec_arr_allk_DENS = np.zeros((len(mu1_array[:]), len(mu2_array[:])), dtype = object)\n",
    "\n",
    "min_eigvec_arr = np.zeros((len(mu1_array[:]), len(mu2_array[:]), len(k_vec), 3))\n",
    "min_eigvec_arr_allk_DENS = np.zeros((len(mu1_array[:]), len(mu2_array[:]), 3))\n",
    "\n",
    "k_star_arr_DENS= np.zeros((len(mu1_array[:]), len(mu2_array[:]))) \n",
    "\n",
    "\n",
    "avo = 6.02e23 # num poly / mol\n",
    "dens_p = 1 # g/cm^3 -> less for polymer solution\n",
    "mol_weight_p = 1e5 # g/mol\n",
    "\n",
    "# rho_p = avo*(1/mol_weight_p)*dens_p*M*(100**3)*(1/1e9)**3 \n",
    "# n_p = 1e8 \n",
    "# A = 1/(b) # nm^2 cross sectional area\n",
    "# vol_nuc = A*(b) # volume of nucleosome\n",
    "\n",
    "\n",
    "# rho_p = avo*(1/mol_weight_p)*dens_p*M*(100**3)*(1/1e9)**3 * 10\n",
    "# n_p = N**2 #\n",
    "\n",
    "rho_p = avo*(1/mol_weight_p)*dens_p*M*(100**3)*(1/1e9)**3 \n",
    "n_p = 1e8#N_m**2 # from converting volume fraction sf to number density sf \n",
    "\n",
    "# vol_solv = 1#N #1#10000000**3# (4e-10)**3\n",
    "\n",
    "# s2_mats = s2_mat_shlk_dens\n",
    "for i, mu1 in enumerate(mu1_array[:]):\n",
    "    for j, mu2 in enumerate(mu2_array[:]):\n",
    "#         if mu1 == mu2:\n",
    "#             continue\n",
    "        mu = [mu1, mu2]\n",
    "        # print(\"mu: \", mu)\n",
    "\n",
    "        for ik, k in enumerate(k_vec):\n",
    "#             S2_mat = 1/N**2 * np.array([[cc[0], 0, cg1[0], cg2[0]],\\\n",
    "#                             [0, ss*N**2, 0, 0], \\\n",
    "#                             [cg1[0], 0, g1g1[0], g1g2[0]],\\\n",
    "#                             [cg2[0], 0, g2g1[0], g2g2[0]]])\n",
    "\n",
    "            S2_mat =  s2_mats[i][j][ik].copy()\n",
    "\n",
    "            \n",
    "            # EDIT  2. goal is 1/V * (N**2 * 1/N**2) = rho_c / (M * np)\n",
    "            # in code sfs defined as S =N**2 * 1/N**2 ~integral~. \n",
    "            # then in sf_mats multiply facotr of rho_c / N^2. overall prefacotr is rho_c/N^2\n",
    "            # To get to goal, must multiply by (N_m^2 * M)/np\n",
    "            S2_mat *= (N_m**2 * M)/n_p\n",
    "            S2_mat[1][1] /= (N_m**2 * M)/n_p\n",
    "            # print(S2_mat)\n",
    "\n",
    "            \n",
    "            \n",
    "# #            # TESTING DIF MAGNITUDES OF RHO_S\n",
    "#             rho_s_test = rho_s * 10000# 1e-5#33#1e5\n",
    "#             S2_mat[1][1] = rho_s_test \n",
    "            \n",
    "#             # if phi_c >= 0.999:\n",
    "#             #     raise Exception(\"melt!\")\n",
    "\n",
    "#            # TESTING DIF MAGNITUDES of RHO_P\n",
    "            # #print(\"CHANGED RHO_C!!!!!!!\")\n",
    "            # rho_c_test = rho_c / 10000\n",
    "            rho_c_test = rho_p\n",
    "            S2_mat /= rho_c\n",
    "            S2_mat *= rho_c_test\n",
    "            S2_mat[1][1] *= (rho_c/rho_c_test)\n",
    "\n",
    "\n",
    "\n",
    "            \n",
    "            # FULL SOLUTION, 2 reader proteins\n",
    "            S2_det = np.linalg.det(S2_mat)\n",
    "#             S2_det_arr[i][j][ik] = S2_det\n",
    "            # print(\"S2 det: \", S2_det)\n",
    "            # print(\"---------------------------------------\")\n",
    "            S2_cond = np.linalg.cond(S2_mat)\n",
    "            S2_cond_arr_soln_2[i][j][ik] = S2_cond\n",
    "            \n",
    "            \n",
    "            if S2_det != 0:# and S2_cond < 1e10:\n",
    "                S2_inv = np.linalg.inv(S2_mat)\n",
    "\n",
    "#                 G2 = (1/N)* np.array([[S2_inv[0,0] - 2*chi*N + S2_inv[1,1], S2_inv[0,2], S2_inv[0, 3]],\\\n",
    "#                    [S2_inv[2,0], S2_inv[2,2] + N*v_int[0,0], S2_inv[2,3] + N*v_int[0,1]],\\\n",
    "#                    [S2_inv[3,0], S2_inv[3,2] + N*v_int[1,0], S2_inv[3,3] + N*v_int[1,1]]])  # ORIGINAL (no int vol)\n",
    "\n",
    "                #CORRECT (using interaction volume term)\n",
    "                G2 = np.array([[S2_inv[0,0] - 2*chi + S2_inv[1,1], S2_inv[0,2], S2_inv[0, 3]],\\\n",
    "                   [S2_inv[2,0], S2_inv[2,2] + v_int[0,0]*Vol_int, S2_inv[2,3] + v_int[0,1]*Vol_int],\\\n",
    "                   [S2_inv[3,0], S2_inv[3,2] + v_int[1,0]*Vol_int, S2_inv[3,3] + v_int[1,1]*Vol_int]])\n",
    "\n",
    "#                 # testing chi_12\n",
    "#                 chi_12 = 100#v_int[1,0] - ( (v_int[0,0] + v_int[1,1])/2 )\n",
    "#                 G2 = np.array([[S2_inv[0,0] - 2*chi + S2_inv[1,1], S2_inv[0,2], S2_inv[0, 3]],\\\n",
    "#                    [S2_inv[2,0], S2_inv[2,2] + 0*Vol_int, S2_inv[2,3] + chi_12*Vol_int],\\\n",
    "#                    [S2_inv[3,0], S2_inv[3,2] + chi_12*Vol_int, S2_inv[3,3] + 0*Vol_int]])\n",
    "            \n",
    "# #                 testing v_c\n",
    "#                 G2 = np.array([[S2_inv[0,0] - 2*chi + S2_inv[1,1], S2_inv[0,2], S2_inv[0, 3]],\\\n",
    "#                    [S2_inv[2,0], S2_inv[2,2] + -2*Vol_int, S2_inv[2,3] + 2*Vol_int],\\\n",
    "#                    [S2_inv[3,0], S2_inv[3,2] + 2*Vol_int, S2_inv[3,3] + -2*Vol_int]])\n",
    "                \n",
    "                val, vec = np.linalg.eigh(G2)\n",
    "                vec = vec.T\n",
    "#                 print(vec)\n",
    "#                 print(vec.T)\n",
    "#                 print(val)\n",
    "                min_val = np.min(val)            \n",
    "                min_eigval_arr[i][j][ik] = min_val\n",
    "                min_eigvec_arr[i][j][ik] = vec[np.where(val == min_val)]\n",
    "\n",
    "            # POLY/SOLV only\n",
    "            S2_mat = np.array([[S2_mat[0,0], 0], [0, S2_mat[1,1]]])\n",
    "\n",
    "#             if phi_c >= 0.999:\n",
    "#                 raise Exception(\"melt!\")\n",
    "            S2_det = np.linalg.det(S2_mat)           \n",
    "            \n",
    "            if S2_det != 0:# and S2_cond < 1e10:\n",
    "                S2_inv = np.linalg.inv(S2_mat)\n",
    "\n",
    "#                 G2 = (1/N)* np.array([S2_inv[0,0] - 2*chi*N + S2_inv[1,1]]) # original\n",
    "                \n",
    "                G2 = np.array([S2_inv[0,0] - 2*chi + S2_inv[1,1]])\n",
    "\n",
    "                val = G2[0]\n",
    "#                 min_val = np.min(val)            \n",
    "                min_eigval_arr_ps[i][j][ik] = val\n",
    "\n",
    "\n",
    "        # all-k analysis\n",
    "        min_vals = min_eigval_arr[i][j][:][np.nonzero(min_eigval_arr[i][j][:])] # min eigvals at mu1,mu2 for each k\n",
    "        \n",
    "        min_vecs = min_eigvec_arr[i][j][:][np.nonzero(min_eigval_arr[i][j][:])]\n",
    "        if len(min_vals) != 0:\n",
    "            minval_allk = np.min(min_vals) # minimum eigenvalue at mu1,mu2 across all ks\n",
    "#             print(minval_allk)\n",
    "            min_eigval_arr_allk_DENS[i][j] = minval_allk\n",
    "            \n",
    "            min_eigvec_arr_allk_DENS[i][j] = min_vecs[np.where(min_vals==minval_allk)]#[0][0] #double zero if saving as objects\n",
    "            \n",
    "            k_star = k_vec[np.where(min_vals==minval_allk)] # corresponding k \n",
    "#             print(k_star)\n",
    "            k_star_arr_DENS[i][j] = k_star\n",
    "\n",
    "            \n",
    "        min_vals_ps = min_eigval_arr_ps[i][j][:][np.nonzero(min_eigval_arr_ps[i][j][:])] # min eigvals at mu1,mu2 for each k\n",
    "#         if len(min_vals_ps) != 0:\n",
    "#             minval_allk = np.min(min_vals_ps) # minimum eigenvalue at mu1,mu2 across all ks\n",
    "        min_eigval_arr_allk_ps[i][j] = np.min(min_vals_ps)\n",
    "            \n",
    "#         min_vals_melt = min_eigval_arr_melt[i][j][:] # min eigvals at mu1,mu2 for each k\n",
    "#         minval_allk_melt = np.min(min_vals_melt) # minimum eigenvalue at mu1,mu2 across all ks\n",
    "#         min_eigval_arr_allk_DENS_melt[i][j] = minval_allk_melt\n",
    "\n",
    "        cond_nums = S2_cond_arr_soln_2[i][j][:]\n",
    "        max_cond_allk = np.max(cond_nums)\n",
    "        max_cond_arr_allk[i][j] = max_cond_allk\n",
    "        \n",
    "\n",
    "# setting all non-decomposed/ separated systems to 0 \n",
    "poly_fluc = min_eigvec_arr_allk_DENS[:,:,0]\n",
    "poly_fluc[np.where(np.sign(min_eigval_arr_allk_DENS) == 1) ] = 0\n",
    "\n",
    "prot1_fluc = min_eigvec_arr_allk_DENS[:,:,1]\n",
    "prot1_fluc[np.where(np.sign(min_eigval_arr_allk_DENS) == 1) ] = 0\n",
    "\n",
    "prot2_fluc = min_eigvec_arr_allk_DENS[:,:,2]\n",
    "prot2_fluc[np.where(np.sign(min_eigval_arr_allk_DENS) == 1) ] = 0\n",
    "\n",
    "k_star_arr_DENS[np.where(np.sign(min_eigval_arr_allk_DENS) == 1) ] = -1 # unphysical value, to indicate outside of spinodal"
   ]
  },
  {
   "cell_type": "code",
   "execution_count": 15,
   "id": "a85287bb-c365-4b45-a823-54ebb616819a",
   "metadata": {},
   "outputs": [
    {
     "name": "stdout",
     "output_type": "stream",
     "text": [
      "mu:  -1.5 -1.5\n",
      "q_star:  0.021261123338996556\n",
      "lam_g2:  [[ 86071.18203331 -88533.39991273 -88533.39991273]\n",
      " [-88533.39991273  90671.01652411  91496.91576665]\n",
      " [-88533.39991273  91496.91576665  90671.01652411]]\n",
      "-1.6749901513953286e+234\n",
      "-8.333425226576081e-06\n",
      "CPU times: total: 14.4 s\n",
      "Wall time: 42.2 s\n"
     ]
    }
   ],
   "source": [
    "%%time\n",
    "phases = np.zeros((len(mu1_array[:]), len(mu2_array[:]))) - 1 \n",
    "for i, mu1 in enumerate(mu1_array[:]):\n",
    "    for j, mu2 in enumerate(mu2_array[:]):\n",
    "        if i != 7:\n",
    "            continue\n",
    "        if j != 7:\n",
    "            continue\n",
    "        # if i != 7:\n",
    "        #     continue\n",
    "        # if j != 7:\n",
    "        #     continue\n",
    "        print(\"mu: \", mu1, mu2)\n",
    "        q_star = k_star_arr_DENS[i,j]\n",
    "        print(\"q_star: \", q_star)\n",
    "        if q_star == -1:\n",
    "            phases[i,j] = 0 # disordered phase- outside of spinodal\n",
    "        elif q_star == k_vec[0]:\n",
    "            phases[i,j] = 1 # macrophase sep\n",
    "        else: #microphse sep\n",
    "            # print(q_star)\n",
    "            s_bnd_A = s_bind_A_arr[i,j,:]\n",
    "            s_bnd_B = s_bind_B_arr[i,j,:]\n",
    "            FA = calc_fa(s_bnd_A, s_bnd_B)\n",
    "            chrom[11] = [FA, 1-FA]\n",
    "            \n",
    "            lam_q = q_star*np.array([1, 0, 0])\n",
    "\n",
    "            cyl_q1 = q_star*np.array([1, 0, 0])\n",
    "            cyl_q2 = 0.5*q_star*np.array([-1, np.sqrt(3), 0])\n",
    "            cyl_q3 = 0.5*q_star*np.array([-1, -np.sqrt(3), 0])\n",
    "            cyl_qs = np.array([cyl_q1, cyl_q2, cyl_q3])\n",
    "            \n",
    "            bcc_q1 = 2**(-0.5)*q_star*np.array([1,1,0])\n",
    "            bcc_q2 = 2**(-0.5)*q_star*np.array([-1,1,0])\n",
    "            bcc_q3 = 2**(-0.5)*q_star*np.array([0,1,1])\n",
    "            bcc_q4 = 2**(-0.5)*q_star*np.array([0,1,-1])\n",
    "            bcc_q5 = 2**(-0.5)*q_star*np.array([1,0,1])\n",
    "            bcc_q6 = 2**(-0.5)*q_star*np.array([1,0,-1])\n",
    "            \n",
    "            \n",
    "            lam_g3 = 0\n",
    "            # G3 = gamma3(chrom, s_bnd_A, s_bnd_B, cyl_qs) # all g3s are eqivlaent\n",
    "            # cyl_g3 = (1/6)  * (1/(3*np.sqrt(3))) * 12 * G3#\n",
    "            # bcc_g3 = (4/(3*np.sqrt(6))) * G3\n",
    "            \n",
    "            \n",
    "            G4_00 = gamma4(chrom, s_bnd_A, s_bnd_B, np.array([lam_q, -lam_q, lam_q, -lam_q]))\n",
    "            lam_g4 = (1/24) * (6) * (1) * G4_00#gamma4_E(poly_mat, dens, N_m, b, M, np.array([lam_q, -lam_q, lam_q, -lam_q]))        \n",
    "            \n",
    "            # print(\"test g4 mag impact\")\n",
    "            # # lam_g4 /= 1e40\n",
    "            # lam_g4 /= 1e30\n",
    "            \n",
    "            # cyl_g4 = (1/24) * (1/9) *(18*G4_00 + \\\n",
    "            #   72*gamma4(chrom, s_bnd_A, s_bnd_B, np.array([cyl_q1, -cyl_q1, cyl_q2, -cyl_q2])) )\n",
    "            \n",
    "            # bcc_g4 = (1/24)* (G4_00 \\\n",
    "            #          + 8*gamma4(chrom, s_bnd_A, s_bnd_B, np.array([bcc_q1, -bcc_q1, bcc_q3, -bcc_q3])) \\\n",
    "            #          + 2*gamma4(chrom, s_bnd_A, s_bnd_B, np.array([bcc_q1, -bcc_q1, bcc_q2, -bcc_q2])) \\\n",
    "            #          + 4*gamma4(chrom, s_bnd_A, s_bnd_B, np.array([bcc_q1, -bcc_q3, bcc_q2, -bcc_q4])) )\n",
    "\n",
    "            # print(\"simplified test bcc\")\n",
    "            # bcc_g4 = (1/24)* (4*gamma4(chrom, s_bnd_A, s_bnd_B, np.array([bcc_q1, -bcc_q3, bcc_q2, -bcc_q4])) )\n",
    "            \n",
    "            lam_g2 = (1/2) * 2 * (1) * gamma2(chrom, s_bnd_A, s_bnd_B, q_star, chi)\n",
    "            cyl_g2 = lam_g2\n",
    "            bcc_g2 = lam_g2\n",
    "            print(\"lam_g2: \", lam_g2)\n",
    "\n",
    "            initial = [0, 0, 0] # poly, A, B\n",
    "            \n",
    "            amps_l = optimize.fmin(lambda amps: np.real(np.einsum(\"ij,i,j ->\", lam_g2, amps, amps) \\\n",
    "                                               +  np.einsum(\"ijkl,i,j,k,l ->\", lam_g4, amps, amps, amps, amps)), initial, disp=False)\n",
    "            \n",
    "            lamF = np.real( np.einsum(\"ij,i,j ->\", lam_g2, amps_l, amps_l) \\\n",
    "                                            +  np.einsum(\"ijkl,i,j,k,l ->\", lam_g4, amps_l, amps_l, amps_l, amps_l))\n",
    "            print(lamF)\n",
    "\n",
    "\n",
    "            amps_l_no4 = optimize.fmin(lambda amps: np.real(np.einsum(\"ij,i,j ->\", lam_g2, amps, amps)), initial, disp=False)\n",
    "                                               # +  np.einsum(\"ijkl,i,j,k,l ->\", lam_g4, amps, amps, amps, amps)), initial, disp=False)\n",
    "            \n",
    "            lamF_no4 = np.real( np.einsum(\"ij,i,j ->\", lam_g2, amps_l_no4, amps_l_no4))\n",
    "                                            # +  np.einsum(\"ijkl,i,j,k,l ->\", lam_g4, amps_l, amps_l, amps_l, amps_l))\n",
    "            # print(lamF)\n",
    "            print(lamF_no4)\n",
    "            # amps_cy = optimize.fmin(lambda amps: np.real(np.einsum(\"ij,i,j ->\", cyl_g2, amps, amps) \\\n",
    "            #                                     + np.einsum(\"ijk,i,j,k ->\", cyl_g3, amps, amps, amps) \\\n",
    "            #                                    +  np.einsum(\"ijkl,i,j,k,l ->\", cyl_g4, amps, amps, amps, amps)), initial, disp=False)\n",
    "            \n",
    "            # cylF = np.real(np.einsum(\"ij,i,j ->\", cyl_g2, amps_cy, amps_cy) \\\n",
    "            #                                     + np.einsum(\"ijk,i,j,k ->\", cyl_g3, amps_cy, amps_cy, amps_cy) \\\n",
    "            #                                     + np.einsum(\"ijkl,i,j,k,l ->\", cyl_g4, amps_cy, amps_cy, amps_cy, amps_cy))\n",
    "\n",
    "            # amps_bcc = optimize.fmin(lambda amps: np.real(np.einsum(\"ij,i,j ->\", bcc_g2, amps, amps) \\\n",
    "            #                                     + np.einsum(\"ijk,i,j,k ->\", bcc_g3, amps, amps, amps) \\\n",
    "            #                                    +  np.einsum(\"ijkl,i,j,k,l ->\", bcc_g4, amps, amps, amps, amps)), initial, disp=False)\n",
    "            \n",
    "            # bccF = np.real(np.einsum(\"ij,i,j ->\", bcc_g2, amps_bcc, amps_bcc) \\\n",
    "            #                                     + np.einsum(\"ijk,i,j,k ->\", bcc_g3, amps_bcc, amps_bcc, amps_bcc) \\\n",
    "            #                                     + np.einsum(\"ijkl,i,j,k,l ->\", bcc_g4, amps_bcc, amps_bcc, amps_bcc, amps_bcc))\n",
    "\n",
    "            # minF = np.min([lamF, cylF, bccF, 0])\n",
    "\n",
    "            # if minF == 0:\n",
    "            #     raise Exception(\"phase sep not stable in spinodla??\")\n",
    "            # elif minF == lamF:\n",
    "            #     phases[i,j] = 2\n",
    "            # elif minF == cylF:\n",
    "            #     phases[i,j] = 3\n",
    "            # elif minF == bccF:\n",
    "            #     phases[i,j] = 4\n",
    "    \n",
    "            # amp_l1, amp_l2 = optimize.fmin(lambda amps: np.real(amps[0]**2 * lam_g2 + amps[0]**3 * lam_g3 + amps[0]**4 * lam_g4 + \\\n",
    "            #                                                 amps[1]**2 * lam_g2_2 + amps[1]**3 * lam_g3_2 + amps[1]**4 * lam_g4_2 + \\\n",
    "            #                                                 amps[0]**2 * amps[1] * lam_g3_mix + amps[0]**2 * amps[1]**2 * lam_g4_mix), \\\n",
    "            #                       initial, disp=False)            "
   ]
  },
  {
   "cell_type": "code",
   "execution_count": 49,
   "id": "30ccdcde-c336-45f6-8b7a-22eba18bf098",
   "metadata": {},
   "outputs": [
    {
     "data": {
      "text/plain": [
       "-1.6749901513953286e+234"
      ]
     },
     "execution_count": 49,
     "metadata": {},
     "output_type": "execute_result"
    }
   ],
   "source": [
    "lamF"
   ]
  },
  {
   "cell_type": "code",
   "execution_count": 50,
   "id": "bc5e2976-ffa6-4433-92c7-c1470c4fb9d2",
   "metadata": {},
   "outputs": [
    {
     "data": {
      "text/plain": [
       "-8.333425226576081e-06"
      ]
     },
     "execution_count": 50,
     "metadata": {},
     "output_type": "execute_result"
    }
   ],
   "source": [
    "lamF_no4"
   ]
  },
  {
   "cell_type": "code",
   "execution_count": null,
   "id": "72c1ca9f-775d-44fa-86ef-7058da583880",
   "metadata": {},
   "outputs": [],
   "source": []
  },
  {
   "cell_type": "code",
   "execution_count": null,
   "id": "b896e1ca-ec30-492d-bf36-71aa82377ea2",
   "metadata": {},
   "outputs": [],
   "source": []
  },
  {
   "cell_type": "code",
   "execution_count": 25,
   "id": "613cc9e0-ec50-45a9-bf23-6f69248e87a2",
   "metadata": {},
   "outputs": [
    {
     "data": {
      "text/plain": [
       "array([[ 1.45722804e+04, -1.02449501e+06, -1.02449501e+06],\n",
       "       [-1.02449501e+06,  7.26552001e+07,  7.15652754e+07],\n",
       "       [-1.02449501e+06,  7.15652754e+07,  7.26552001e+07]])"
      ]
     },
     "execution_count": 25,
     "metadata": {},
     "output_type": "execute_result"
    }
   ],
   "source": [
    "lam_g2 #old"
   ]
  },
  {
   "cell_type": "code",
   "execution_count": 25,
   "id": "75287030-761a-4335-9568-323ae5026df2",
   "metadata": {},
   "outputs": [
    {
     "data": {
      "text/plain": [
       "array([-1.07472013e+50,  4.26242873e+49,  8.17528698e+49])"
      ]
     },
     "execution_count": 25,
     "metadata": {},
     "output_type": "execute_result"
    }
   ],
   "source": [
    "amps_l"
   ]
  },
  {
   "cell_type": "code",
   "execution_count": 28,
   "id": "5387eaf4-95d8-4641-a102-86e9a3bd0e89",
   "metadata": {},
   "outputs": [
    {
     "data": {
      "text/plain": [
       "-1.576541078036971e+234"
      ]
     },
     "execution_count": 28,
     "metadata": {},
     "output_type": "execute_result"
    }
   ],
   "source": [
    "lamF"
   ]
  },
  {
   "cell_type": "code",
   "execution_count": 24,
   "id": "855535b4-b4d5-4cbf-be8e-cbd69646af45",
   "metadata": {},
   "outputs": [
    {
     "ename": "NameError",
     "evalue": "name 'bcc_g3' is not defined",
     "output_type": "error",
     "traceback": [
      "\u001b[1;31m---------------------------------------------------------------------------\u001b[0m",
      "\u001b[1;31mNameError\u001b[0m                                 Traceback (most recent call last)",
      "Cell \u001b[1;32mIn[24], line 3\u001b[0m\n\u001b[0;32m      1\u001b[0m amps_bcc_tst \u001b[38;5;241m=\u001b[39m [\u001b[38;5;241m0.5\u001b[39m,\u001b[38;5;241m0.5\u001b[39m,\u001b[38;5;241m0.5\u001b[39m]\n\u001b[0;32m      2\u001b[0m np\u001b[38;5;241m.\u001b[39mreal(np\u001b[38;5;241m.\u001b[39meinsum(\u001b[38;5;124m\"\u001b[39m\u001b[38;5;124mij,i,j ->\u001b[39m\u001b[38;5;124m\"\u001b[39m, bcc_g2, amps_bcc_tst, amps_bcc_tst) \\\n\u001b[1;32m----> 3\u001b[0m                                                 \u001b[38;5;241m+\u001b[39m np\u001b[38;5;241m.\u001b[39meinsum(\u001b[38;5;124m\"\u001b[39m\u001b[38;5;124mijk,i,j,k ->\u001b[39m\u001b[38;5;124m\"\u001b[39m, \u001b[43mbcc_g3\u001b[49m, amps_bcc_tst, amps_bcc_tst, amps_bcc_tst) \\\n\u001b[0;32m      4\u001b[0m                                                 \u001b[38;5;241m+\u001b[39m np\u001b[38;5;241m.\u001b[39meinsum(\u001b[38;5;124m\"\u001b[39m\u001b[38;5;124mijkl,i,j,k,l ->\u001b[39m\u001b[38;5;124m\"\u001b[39m, bcc_g4, amps_bcc_tst, amps_bcc_tst, amps_bcc_tst, amps_bcc_tst))\n",
      "\u001b[1;31mNameError\u001b[0m: name 'bcc_g3' is not defined"
     ]
    }
   ],
   "source": [
    "amps_bcc_tst = [0.5,0.5,0.5]\n",
    "np.real(np.einsum(\"ij,i,j ->\", bcc_g2, amps_bcc_tst, amps_bcc_tst) \\\n",
    "                                                + np.einsum(\"ijk,i,j,k ->\", bcc_g3, amps_bcc_tst, amps_bcc_tst, amps_bcc_tst) \\\n",
    "                                                + np.einsum(\"ijkl,i,j,k,l ->\", bcc_g4, amps_bcc_tst, amps_bcc_tst, amps_bcc_tst, amps_bcc_tst))"
   ]
  },
  {
   "cell_type": "code",
   "execution_count": null,
   "id": "06de1780-559d-4d0e-9caf-c04c552aa07d",
   "metadata": {},
   "outputs": [],
   "source": [
    "# problem with g4 construction!"
   ]
  },
  {
   "cell_type": "code",
   "execution_count": null,
   "id": "e1b0d9fc-49fd-4c79-b321-474a508459d5",
   "metadata": {},
   "outputs": [],
   "source": []
  },
  {
   "cell_type": "code",
   "execution_count": 26,
   "id": "07846d7a-ce07-49a3-9147-05fb2005ba40",
   "metadata": {},
   "outputs": [
    {
     "data": {
      "text/plain": [
       "<Figure size 640x480 with 0 Axes>"
      ]
     },
     "metadata": {},
     "output_type": "display_data"
    },
    {
     "data": {
      "image/png": "[encoded data removed]",
      "text/plain": [
       "<Figure size 1000x800 with 2 Axes>"
      ]
     },
     "metadata": {},
     "output_type": "display_data"
    }
   ],
   "source": [
    "fig = plt.figure()\n",
    "plt.figure(figsize=(10,8))\n",
    "\n",
    "font = {'family' : 'serif',\n",
    "        'weight':'normal',\n",
    "        'size': 18}\n",
    "plt.rc('font', **font)\n",
    "\n",
    "\n",
    "min_ind = 0\n",
    "max_ind = -1\n",
    "\n",
    "# plt.scatter(mu1_array[np.where(multi_soln_mus == 1)[0]],mu2_array[np.where(multi_soln_mus == 1)[1]])\n",
    "# k_ind = 20\n",
    "#     poly_fluc = min_eigvec_arr_allk[:,:,0]\n",
    "#     poly_fluc[np.where(np.sign(min_eigval_arr_allk) == 1) ] = 0\n",
    "\n",
    "#     prot1_fluc = min_eigvec_arr_allk[:,:,1]\n",
    "#     prot1_fluc[np.where(np.sign(min_eigval_arr_allk) == 1) ] = 0\n",
    "\n",
    "#     prot2_fluc = min_eigvec_arr_allk[:,:,2]\n",
    "#     prot2_fluc[np.where(np.sign(min_eigval_arr_allk) == 1) ] = 0\n",
    "    \n",
    "# k_star_arr_DENS[np.where(np.sign(min_eigval_arr_allk_DENS) == 1) ] = np.nan\n",
    "# ax = sns.heatmap(1/(k_star_arr*b), linewidth=0.25, cmap = \"cool\", xticklabels=mu2_array, yticklabels=mu1_array, cbar_kws={'label':  r\"$ \\frac{1}{k^*} \\ (nm)$\"})\n",
    "ax = sns.heatmap(phases, linewidth=0.25, cmap = \"rainbow\", xticklabels=mu2_array[min_ind:max_ind], yticklabels=mu1_array[min_ind:max_ind],\\\n",
    "                 cbar_kws={'label':  r\"$phase$\"})\n",
    "plt.ylabel(\"$\\mu^{(1)}$\")\n",
    "plt.xlabel(\"$\\mu^{(2)}$\")\n",
    "plt.title(r\"phases\" +  \", $\\chi = $\" + \\\n",
    "          str(np.round(chi, 2)) \\\n",
    "          +  \", $v_{int} = $ [\" + str(v_int[0]) + \",\" + str(v_int[1]) + \"]\" +\\\n",
    "          \"\\n\")\n",
    "\n",
    "\n",
    "plt.show()"
   ]
  },
  {
   "cell_type": "code",
   "execution_count": 28,
   "id": "0673a9d7-5db1-436a-ba57-3a4fad302a0a",
   "metadata": {},
   "outputs": [
    {
     "data": {
      "text/plain": [
       "<Figure size 640x480 with 0 Axes>"
      ]
     },
     "metadata": {},
     "output_type": "display_data"
    },
    {
     "data": {
      "image/png": "[encoded data removed]",
      "text/plain": [
       "<Figure size 1000x800 with 2 Axes>"
      ]
     },
     "metadata": {},
     "output_type": "display_data"
    }
   ],
   "source": [
    "def calc_fa(phia, phib):\n",
    "    nm = len(phia)\n",
    "    \n",
    "    ind = 0\n",
    "    for i in range(nm):\n",
    "        if phia[i] > phib[i]:\n",
    "            ind += 1\n",
    "    \n",
    "    fa = ind / nm\n",
    "    \n",
    "    return fa\n",
    "\n",
    "def calc_frac_bound(phia):\n",
    "    nm = len(phia)\n",
    "    \n",
    "    # ind = 0\n",
    "    # for i in range(nm):\n",
    "    #     if phia[i] > phib[i]:\n",
    "    #         ind += 1\n",
    "    \n",
    "    return np.sum(phia)/nm\n",
    "    \n",
    "def calc_fb(phia, phib):\n",
    "    nm = len(phia)\n",
    "    \n",
    "    ind = 0\n",
    "    for i in range(nm):\n",
    "        if phib[i] > phia[i]:\n",
    "            ind += 1\n",
    "    \n",
    "    fb = ind / nm\n",
    "    \n",
    "    return fb\n",
    "\n",
    "# %%time\n",
    "\n",
    "n_mu = len(mu1_array)\n",
    "fa_mat = np.zeros((n_mu, n_mu))\n",
    "a_frac = np.zeros((n_mu, n_mu))\n",
    "b_frac = np.zeros((n_mu, n_mu))\n",
    "\n",
    "f_ref = np.min(np.array([v_int[0,0], v_int[1,1], v_int[0,1], e_m[0] / 2,  e_m[1] / 2]))\n",
    "\n",
    "for i_a in range(n_mu):\n",
    "    mu_1 = mu1_array[i_a]\n",
    "    for i_b in range(n_mu):\n",
    "        mu_2 = mu2_array[i_b]\n",
    "\n",
    "        # for i in range(nm):\n",
    "        #     pa_vec[i] = i / (nm - 1)\n",
    "        \n",
    "        phia = s_bind_A_arr[i_a, i_b, :]\n",
    "        phib = s_bind_B_arr[i_a, i_b, :]\n",
    "\n",
    "        # phib = = eval_phi(pa_vec, mu_1, mu_2, e_m[0], e_m[1], v_int[0,0], v_int[1,1], v_int[0,1], f_ref)\n",
    "        \n",
    "        fa_mat[i_a, i_b] = calc_fa(phia, phib)\n",
    "        a_frac[i_a,i_b] = calc_frac_bound(phia)\n",
    "        b_frac[i_a,i_b] = calc_frac_bound(phib)\n",
    "\n",
    "    # print(i_a)\n",
    "\n",
    "#density maps\n",
    "fig = plt.figure()\n",
    "plt.figure(figsize=(10,8))\n",
    "\n",
    "font = {'family' : 'serif',\n",
    "        'weight':'normal',\n",
    "        'size': 18}\n",
    "plt.rc('font', **font)\n",
    "\n",
    "ind_min = 0\n",
    "ind_max = -1#50\n",
    "# f_gam_soln_arr = density_maps\n",
    "\n",
    "# #protein 1\n",
    "ax = sns.heatmap(a_frac[ind_min:ind_max, ind_min:ind_max], linewidth=0., cmap = \"winter\", xticklabels=mu2_array[ind_min:ind_max], yticklabels=mu1_array[ind_min:ind_max], cbar_kws={'label':  r'$ \\langle f^{(1)} \\rangle $'})\n",
    "### ax.set_xticks(ax.get_xticks()[::2])\n",
    "### ax.set_xticklabels(mu2_array[::2].astype(np.int64))\n",
    "### ax.set_yticks(ax.get_yticks()[::2])\n",
    "### ax.set_yticklabels(mu1_array[::2].astype(np.int64))\n",
    "\n",
    "# ax.set_xticks(ax.get_xticks()[:ind_max:spacing])\n",
    "# ax.set_xticklabels(np.round(mu2_array[ind_min:ind_max:spacing],0).astype(np.int64))\n",
    "# ax.set_yticks(ax.get_yticks()[:ind_max:spacing])\n",
    "# ax.set_yticklabels(np.round(mu2_array[ind_min:ind_max:spacing],0).astype(np.int64))\n",
    "\n",
    "\n",
    "# ax.axhline(y=60, linewidth=4, color=\"white\", linestyle = \"--\")\n",
    "# ax.axhline(y=37, linewidth=4, color=\"white\", linestyle = \"--\")\n",
    "# ax.axhline(y=44., linewidth=2, color=\"red\", linestyle = \"-\") \n",
    "# ax.axvline(x=44., linewidth=2, color=\"red\", linestyle = \"-\")\n",
    "\n",
    "plt.ylabel(\"$\\mu^{(1)}$\")\n",
    "plt.xlabel(\"$\\mu^{(2)}$\")\n",
    "# plt.title(r\"$ \\langle f^{(1)} \\rangle $\" +  \", $e_B^{(1)} = $\" + \\\n",
    "#           str(e_m[0]) + \", $e_B^{(2)} = $\" + str(e_m[1]) \\\n",
    "#           +  \" $v_{int} = $ [\" + str(v_int[0]) + \",\" + str(v_int[1]) + \"]\")\n",
    "plt.title(r\"$ \\langle f_{A}^{(bound)} \\rangle, $\"  \\\n",
    "          +  \" $v_{int} = $ [\" + str(v_int[0]) + \",\" + str(v_int[1]) + \"]\")\n",
    "\n",
    "plt.show()"
   ]
  },
  {
   "cell_type": "code",
   "execution_count": 21,
   "id": "a001e005-4bd9-4b4c-8112-68066e843571",
   "metadata": {},
   "outputs": [
    {
     "data": {
      "text/plain": [
       "<Figure size 640x480 with 0 Axes>"
      ]
     },
     "metadata": {},
     "output_type": "display_data"
    },
    {
     "data": {
      "image/png": "[encoded data removed]",
      "text/plain": [
       "<Figure size 1000x800 with 2 Axes>"
      ]
     },
     "metadata": {},
     "output_type": "display_data"
    }
   ],
   "source": [
    "# Explanation: first choose distances. These distances must be in the same units at the persisitnece length due  to exp(xm) term\n",
    "# in sf calculation. Doesnt matter if used b to scale the lengths used- they are still in nanometers\n",
    "# then invert these distances to get magnitudes of wavevectors\n",
    "# then find k star, and invert it to get the critical lengthscale in units of nm\n",
    "\n",
    "\n",
    "fig = plt.figure()\n",
    "plt.figure(figsize=(10,8))\n",
    "\n",
    "font = {'family' : 'serif',\n",
    "        'weight':'normal',\n",
    "        'size': 18}\n",
    "plt.rc('font', **font)\n",
    "\n",
    "\n",
    "min_ind = 0\n",
    "max_ind = len(mu1_array)\n",
    "\n",
    "# plt.scatter(mu1_array[np.where(multi_soln_mus == 1)[0]],mu2_array[np.where(multi_soln_mus == 1)[1]])\n",
    "# k_ind = 20\n",
    "#     poly_fluc = min_eigvec_arr_allk[:,:,0]\n",
    "#     poly_fluc[np.where(np.sign(min_eigval_arr_allk) == 1) ] = 0\n",
    "\n",
    "#     prot1_fluc = min_eigvec_arr_allk[:,:,1]\n",
    "#     prot1_fluc[np.where(np.sign(min_eigval_arr_allk) == 1) ] = 0\n",
    "\n",
    "#     prot2_fluc = min_eigvec_arr_allk[:,:,2]\n",
    "#     prot2_fluc[np.where(np.sign(min_eigval_arr_allk) == 1) ] = 0\n",
    "    \n",
    "k_star_arr_DENS[np.where(np.sign(min_eigval_arr_allk_DENS) == 1) ] = np.nan\n",
    "# ax = sns.heatmap(1/(k_star_arr*b), linewidth=0.25, cmap = \"cool\", xticklabels=mu2_array, yticklabels=mu1_array, cbar_kws={'label':  r\"$ \\frac{1}{k^*} \\ (nm)$\"})\n",
    "ax = sns.heatmap((1/(k_star_arr_DENS[min_ind:max_ind,min_ind:max_ind])), linewidth=0.25, cmap = \"cool\", xticklabels=mu2_array[min_ind:max_ind], yticklabels=mu1_array[min_ind:max_ind],\\\n",
    "                 cbar_kws={'label':  r\"$ \\frac{1}{k^*} \\ (nm)$\"},\\\n",
    "                    vmin=1/(k_vec[-1]), vmax=1/(k_vec[0]))\n",
    "# ax = sns.heatmap(np.sign(min_eigval_arr[0:3][0:3][k_ind]), linewidth=0.1, cmap = \"winter\", cbar_kws={'label':  r'$ \\langle f^{(1)} \\rangle $'})\n",
    "# protein 1\n",
    "# ax = sns.heatmap(f_gam_soln_arr[0], linewidth=0.5, cmap = \"winter\", xticklabels=mu2_array, yticklabels=mu1_array, cbar_kws={'label':  r'$ \\langle f^{(1)} \\rangle $'})\n",
    "\n",
    "# ax.set_xticks(ax.get_xticks()[::spacing])\n",
    "# ax.set_xticklabels(np.round(mu2_array[min_ind:max_ind:spacing],0).astype(np.int64))\n",
    "# ax.set_yticks(ax.get_yticks()[::spacing])\n",
    "# ax.set_yticklabels(np.round(mu2_array[min_ind:max_ind:spacing],0).astype(np.int64))\n",
    "\n",
    "\n",
    "# ax.axvline(x=52, linewidth=4, color=\"black\", linestyle = \"--\")\n",
    "# ax.axhline(y=47, linewidth=4, color=\"black\", linestyle = \"--\")\n",
    "\n",
    "ax.axvline(x=50.5, linewidth=4, color=\"black\", linestyle = \"--\")\n",
    "ax.axhline(y=50.5, linewidth=4, color=\"black\", linestyle = \"--\")\n",
    "\n",
    "# plt.plot(35.75,10.5,'ro') \n",
    "# plt.plot(27.3,10.5,'go') \n",
    "\n",
    "plt.ylabel(\"$\\mu^{(1)}$\")\n",
    "plt.xlabel(\"$\\mu^{(2)}$\")\n",
    "plt.title(r\"$ 1/k_{star}, all \\ k \\ IN \\ NM$\" +  \", $\\chi = $\" + \\\n",
    "          str(np.round(chi, 2)) \\\n",
    "          +  \", $v_{int} = $ [\" + str(v_int[0]) + \",\" + str(v_int[1]) + \"]\" +\\\n",
    "          \"\\n\")\n",
    "\n",
    "\n",
    "plt.show()\n"
   ]
  },
  {
   "cell_type": "code",
   "execution_count": 44,
   "id": "7fec9d62-2046-4c6a-87b6-2fca8ad7fc07",
   "metadata": {},
   "outputs": [
    {
     "data": {
      "text/plain": [
       "<Figure size 640x480 with 0 Axes>"
      ]
     },
     "metadata": {},
     "output_type": "display_data"
    },
    {
     "data": {
      "image/png": "[encoded data removed]",
      "text/plain": [
       "<Figure size 1000x800 with 2 Axes>"
      ]
     },
     "metadata": {},
     "output_type": "display_data"
    }
   ],
   "source": [
    "#density maps\n",
    "fig = plt.figure()\n",
    "plt.figure(figsize=(10,8))\n",
    "\n",
    "font = {'family' : 'serif',\n",
    "        'weight':'normal',\n",
    "        'size': 18}\n",
    "plt.rc('font', **font)\n",
    "\n",
    "min_ind = 0\n",
    "max_ind = len(mu1_array)\n",
    "\n",
    "abs_mat = np.abs(prot1_fluc + prot2_fluc)\n",
    "binary_map = abs_mat.copy()\n",
    "binary_map[binary_map > 1] = 2\n",
    "binary_map[binary_map <= 1] = 0\n",
    "\n",
    "abs_mat[np.where(np.sign(min_eigval_arr_allk_DENS) == 1) ] = np.nan\n",
    "\n",
    "ax = sns.heatmap(abs_mat[min_ind:max_ind,min_ind:max_ind], square = True, linewidth=0.5, cmap = \"viridis\", xticklabels=mu2_array[min_ind:max_ind], yticklabels=mu1_array[min_ind:max_ind], cbar_kws={\"shrink\": 0.5, 'label':  r\"$ |\\Delta \\phi_{\\gamma_1} + \\Delta \\phi_{\\gamma_2}|$ \"})\n",
    "#     ax = sns.heatmap(binary_map, linewidth=0.5, cmap = cmap, xticklabels=mu2_array, yticklabels=mu1_array)\n",
    "# colorbar = ax.collections[0].colorbar\n",
    "# colorbar.set_ticks([0.5,1.5])\n",
    "# colorbar.set_ticklabels([r\"$ | \\Delta \\phi_{\\gamma_1} $ + $ \\Delta \\phi_{\\gamma_2} | \\leq 1$\", r\"$ | \\Delta \\phi_{\\gamma_1} $ + $ \\Delta \\phi_{\\gamma_2} | > 1$\"])\n",
    "\n",
    "    \n",
    "# plt.scatter(mu1_array[np.where(multi_soln_mus == 1)[0]],mu2_array[np.where(multi_soln_mus == 1)[1]])\n",
    "# k_ind = 20\n",
    "# ax = sns.heatmap(np.abs(prot2_fluc), linewidth=0.25, norm = LogNorm(), cmap = \"Blues\", xticklabels=mu2_array, yticklabels=mu1_array, cbar_kws={'label':  r\"$ |\\Delta \\phi_{\\gamma_2}|$ \"})\n",
    "# # ax = sns.heatmap(np.sign(min_eigval_arr[0:3][0:3][k_ind]), linewidth=0.1, cmap = \"winter\", cbar_kws={'label':  r'$ \\langle f^{(1)} \\rangle $'})\n",
    "# # protein 1\n",
    "# # ax = sns.heatmap(f_gam_soln_arr[0], linewidth=0.5, cmap = \"winter\", xticklabels=mu2_array, yticklabels=mu1_array, cbar_kws={'label':  r'$ \\langle f^{(1)} \\rangle $'})\n",
    "ax.set_xticks(ax.get_xticks()[::spacing])\n",
    "ax.set_xticklabels(np.round(mu2_array[min_ind:max_ind:spacing],0).astype(np.int64))\n",
    "ax.set_yticks(ax.get_yticks()[::spacing])\n",
    "ax.set_yticklabels(np.round(mu2_array[min_ind:max_ind:spacing],0).astype(np.int64))\n",
    "\n",
    "\n",
    "\n",
    "# ax.axvline(x=50, linewidth=4, color=\"black\", linestyle = \"--\")\n",
    "# ax.axvline(x=47, linewidth=4, color=\"black\", linestyle = \"--\")\n",
    "# ax.axhline(y=50, linewidth=4, color=\"black\", linestyle = \"--\")\n",
    "# ax.scatter(50,40)\n",
    "# ax.scatter(40,30)\n",
    "# plt.plot(60.5,60.5,'ro') \n",
    "# plt.plot(60.5,50.5,'go') \n",
    "\n",
    "plt.ylabel(\"$\\mu^{(1)}$\")\n",
    "plt.xlabel(\"$\\mu^{(2)}$\")\n",
    "plt.title(r\"$Co-condensation \\ at \\ k_{star}, $\" +  \" $\\chi = $\" + \\\n",
    "          str(np.round(chi, 2)) \\\n",
    "          +  \", $v_{int} = $ [\" + str(v_int[0]) + \",\" + str(v_int[1]) + \"]\"+\\\n",
    "          \"\\n\")\n",
    "\n",
    "\n",
    "plt.show()"
   ]
  },
  {
   "cell_type": "code",
   "execution_count": 31,
   "id": "def574c6-1ade-4d4c-904c-9efe0cde3e70",
   "metadata": {},
   "outputs": [
    {
     "data": {
      "text/plain": [
       "<Figure size 640x480 with 0 Axes>"
      ]
     },
     "metadata": {},
     "output_type": "display_data"
    },
    {
     "data": {
      "image/png": "[encoded data removed]",
      "text/plain": [
       "<Figure size 1000x800 with 2 Axes>"
      ]
     },
     "metadata": {},
     "output_type": "display_data"
    }
   ],
   "source": [
    "#density maps\n",
    "fig = plt.figure()\n",
    "plt.figure(figsize=(10,8))\n",
    "\n",
    "font = {'family' : 'serif',\n",
    "        'weight':'normal',\n",
    "        'size': 18}\n",
    "plt.rc('font', **font)\n",
    "\n",
    "# plt.scatter(mu1_array[np.where(multi_soln_mus == 1)[0]],mu2_array[np.where(multi_soln_mus == 1)[1]])\n",
    "# k_ind = 20\n",
    "min_ind = 0\n",
    "max_ind = len(mu1_array)\n",
    "ax = sns.heatmap(np.sign(min_eigval_arr_allk_DENS[min_ind:max_ind,min_ind:max_ind]), linewidth=0.1, cmap = \"copper\", xticklabels=mu2_array[min_ind:max_ind], yticklabels=mu1_array[min_ind:max_ind])\n",
    "# ax = sns.heatmap(np.sign(min_eigval_arr[0:3][0:3][k_ind]), linewidth=0.1, cmap = \"winter\", cbar_kws={'label':  r'$ \\langle f^{(1)} \\rangle $'})\n",
    "# protein 1\n",
    "# ax = sns.heatmap(f_gam_soln_arr[0], linewidth=0.5, cmap = \"winter\", xticklabels=mu2_array, yticklabels=mu1_array, cbar_kws={'label':  r'$ \\langle f^{(1)} \\rangle $'})\n",
    "ax.set_xticks(ax.get_xticks()[::spacing])\n",
    "ax.set_xticklabels(np.round(mu2_array[min_ind:max_ind:spacing],0).astype(np.int64))\n",
    "ax.set_yticks(ax.get_yticks()[::spacing])\n",
    "ax.set_yticklabels(np.round(mu2_array[min_ind:max_ind:spacing],0).astype(np.int64))\n",
    "\n",
    "\n",
    "# ax.axvline(x=52, linewidth=4, color=\"w\", linestyle = \"--\")\n",
    "# ax.axhline(y=47, linewidth=4, color=\"w\", linestyle = \"--\")\n",
    "\n",
    "ax.axvline(x=50.5, linewidth=4, color=\"white\", linestyle = \"--\")\n",
    "ax.axhline(y=50.5, linewidth=4, color=\"white\", linestyle = \"--\")\n",
    "\n",
    "ax.axhline(y=44., linewidth=2, color=\"red\", linestyle = \"-\") \n",
    "ax.axvline(x=44., linewidth=2, color=\"red\", linestyle = \"-\")\n",
    "\n",
    "# ax.axhline(y=17.5, linewidth=2, color=\"blue\", linestyle = \"-\") \n",
    "# ax.axvline(x=18.5, linewidth=2, color=\"blue\", linestyle = \"-\")\n",
    "\n",
    "plt.ylabel(\"$\\mu^{(1)}$\")\n",
    "plt.xlabel(\"$\\mu^{(2)}$\")\n",
    "v_int_orig = v_int.copy()\n",
    "# v_int = [[-2,2],[2,-2]]\n",
    "\n",
    "# plt.title(\"$\\chi_{12} = %s,$ \" % chi_12 + looping + r\"$ sign \\ of \\ \\lambda_{min}, all \\ k$\" +  \", $\\chi = $\" + \\\n",
    "#           str(np.round(chi, 2)) \\\n",
    "#           +  \", $v_{int} = $ [\" + str(v_int[0]) + \",\" + str(v_int[1]) + \"]\"+\\\n",
    "#           \"\\n\")\n",
    "\n",
    "plt.title( r\"$ sign \\ of \\ \\lambda_{min}, all \\ k$\" +  \", $\\chi = $\" + \\\n",
    "          str(np.round(chi, 2)) \\\n",
    "          +  \", $v_{int} = $ [\" + str(v_int[0]) + \",\" + str(v_int[1]) + \"]\"+\\\n",
    "          \"\\n\")\n",
    "v_int = v_int_orig\n",
    "\n",
    "plt.show()\n"
   ]
  },
  {
   "cell_type": "code",
   "execution_count": null,
   "id": "83813809-abd5-40bd-b90c-8c416f8db3bb",
   "metadata": {},
   "outputs": [],
   "source": [
    "# fig = plt.figure()\n",
    "# plt.figure(figsize=(10,8))\n",
    "\n",
    "# font = {'family' : 'serif',\n",
    "#         'weight':'normal',\n",
    "#         'size': 18}\n",
    "# plt.rc('font', **font)\n",
    "\n",
    "\n",
    "# min_ind = 0\n",
    "# max_ind = -1\n",
    "\n",
    "# # plt.scatter(mu1_array[np.where(multi_soln_mus == 1)[0]],mu2_array[np.where(multi_soln_mus == 1)[1]])\n",
    "# # k_ind = 20\n",
    "# #     poly_fluc = min_eigvec_arr_allk[:,:,0]\n",
    "# #     poly_fluc[np.where(np.sign(min_eigval_arr_allk) == 1) ] = 0\n",
    "\n",
    "# #     prot1_fluc = min_eigvec_arr_allk[:,:,1]\n",
    "# #     prot1_fluc[np.where(np.sign(min_eigval_arr_allk) == 1) ] = 0\n",
    "\n",
    "# #     prot2_fluc = min_eigvec_arr_allk[:,:,2]\n",
    "# #     prot2_fluc[np.where(np.sign(min_eigval_arr_allk) == 1) ] = 0\n",
    "    \n",
    "# # k_star_arr_DENS[np.where(np.sign(min_eigval_arr_allk_DENS) == 1) ] = np.nan\n",
    "# # ax = sns.heatmap(1/(k_star_arr*b), linewidth=0.25, cmap = \"cool\", xticklabels=mu2_array, yticklabels=mu1_array, cbar_kws={'label':  r\"$ \\frac{1}{k^*} \\ (nm)$\"})\n",
    "# ax = sns.heatmap(phases, linewidth=0.25, cmap = \"rainbow\", xticklabels=mu2_array[min_ind:max_ind], yticklabels=mu1_array[min_ind:max_ind],\\\n",
    "#                  cbar_kws={'label':  r\"$ \\frac{1}{k^*} \\ (nm)$\"})\n",
    "# plt.ylabel(\"$\\mu^{(1)}$\")\n",
    "# plt.xlabel(\"$\\mu^{(2)}$\")\n",
    "# plt.title(r\"phases\" +  \", $\\chi = $\" + \\\n",
    "#           str(np.round(chi, 2)) \\\n",
    "#           +  \", $v_{int} = $ [\" + str(v_int[0]) + \",\" + str(v_int[1]) + \"]\" +\\\n",
    "#           \"\\n\")\n",
    "\n",
    "\n",
    "# plt.show()"
   ]
  },
  {
   "cell_type": "code",
   "execution_count": null,
   "id": "78502b15-092b-4433-a8f4-f64919c50d21",
   "metadata": {},
   "outputs": [],
   "source": [
    "# %%time\n",
    "# #SINGLE WAVEMODE PHASE DIAGRAM \n",
    "# N = 10000\n",
    "\n",
    "# # fa_array = np.arange(0.3, 0.501, 0.01)#[0.3, 0.325, 0.35, 0.375, 0.3875, 0.4, 0.4125, 0.425, 0.4375, 0.45, 0.475, 0.5]#[0.3, 0.35, 0.4, 0.45, 0.5]#np.arange(0.2, 0.51, .02)\n",
    "# chi_array = np.arange(8, 25, .01)/N#np.arange(5, 30, 0.5)/N #np.array([5, 7, 10, 12, 15, 17, 20])/N #* N\n",
    "\n",
    "# N_m = 1000\n",
    "# b = 1\n",
    "# M = 10\n",
    "\n",
    "# fa_array = [0.3, 0.4, 0.5, 0.6, 0.7]\n",
    "# # poly_type = \"diblock\"\n",
    "# # n_p = 1\n",
    "\n",
    "\n",
    "# lam_pnts = np.array([])\n",
    "# cyl_pnts = np.array([])\n",
    "# bcc_pnts = np.array([])\n",
    "# gyr_pnts = np.array([])\n",
    "# sq_cyl_pnts = np.array([])\n",
    "# sim_cub_pnts = np.array([])\n",
    "# fcc_pnts = np.array([])\n",
    "# dis_pnts = np.array([])\n",
    "\n",
    "# for FA in fa_array:\n",
    "#     poly_mat, dens = poly_mat_gen(poly_type, M, n_p, FA) \n",
    "    \n",
    "#     q_star = spinodal_gaus(poly_mat, dens, N_m, b, M)\n",
    "#     q_star = q_star[0]\n",
    "    \n",
    "#     lam_q = q_star*np.array([1, 0, 0])\n",
    "    \n",
    "#     cyl_q1 = q_star*np.array([1, 0, 0])\n",
    "#     cyl_q2 = 0.5*q_star*np.array([-1, np.sqrt(3), 0])\n",
    "#     cyl_q3 = 0.5*q_star*np.array([-1, -np.sqrt(3), 0])\n",
    "#     cyl_qs = np.array([cyl_q1, cyl_q2, cyl_q3])\n",
    "    \n",
    "#     bcc_q1 = 2**(-0.5)*q_star*np.array([1,1,0])\n",
    "#     bcc_q2 = 2**(-0.5)*q_star*np.array([-1,1,0])\n",
    "#     bcc_q3 = 2**(-0.5)*q_star*np.array([0,1,1])\n",
    "#     bcc_q4 = 2**(-0.5)*q_star*np.array([0,1,-1])\n",
    "#     bcc_q5 = 2**(-0.5)*q_star*np.array([1,0,1])\n",
    "#     bcc_q6 = 2**(-0.5)*q_star*np.array([1,0,-1])\n",
    "    \n",
    "#     sq_6 = (1/np.sqrt(6)) * q_star\n",
    "#     gyr_q1 = sq_6*np.array([-1, 2, 1])\n",
    "#     gyr_q2 = sq_6*np.array([2, 1, -1])\n",
    "#     gyr_q3 = sq_6*np.array([1, -1, 2])\n",
    "#     gyr_q4 = sq_6*np.array([2, -1, -1])\n",
    "#     gyr_q5 = sq_6*np.array([-1, 2, -1])\n",
    "#     gyr_q6 = sq_6*np.array([-1, -1, 2])\n",
    "    \n",
    "#     gyr_q7 = sq_6*np.array([2, 1, 1])\n",
    "#     gyr_q8 = sq_6*np.array([1, 2, 1])\n",
    "#     gyr_q9 = sq_6*np.array([1, 1, 2])\n",
    "#     gyr_q10 = sq_6*np.array([2, -1, 1])\n",
    "#     gyr_q11 = sq_6*np.array([1, 2, -1])\n",
    "#     gyr_q12 = sq_6*np.array([-1, 1, 2])\n",
    "\n",
    "#     sq_cyl_q1 = q_star * np.array([1,0,0])\n",
    "#     sq_cyl_q2 = q_star * np.array([0,1,0])\n",
    "    \n",
    "#     sim_cub_q1 = q_star * np.array([1,0,0])\n",
    "#     sim_cub_q2 = q_star * np.array([0,1,0])\n",
    "#     sim_cub_q3 = q_star * np.array([0,0,1])\n",
    "    \n",
    "#     fcc_q1 = 3**(-0.5)*q_star*np.array([1,1,1])\n",
    "#     fcc_q2 = 3**(-0.5)*q_star*np.array([1,1,-1])\n",
    "#     fcc_q3 = 3**(-0.5)*q_star*np.array([1,-1,1])\n",
    "#     fcc_q4 = 3**(-0.5)*q_star*np.array([-1,1,1])\n",
    "    \n",
    "    \n",
    "#     G3 = gamma3_E(poly_mat, dens, N_m, b, M, cyl_qs) # all g3s are eqivlaent\n",
    "#     lam_g3 = 0\n",
    "#     cyl_g3 = -(1/6) * (1/(3*np.sqrt(3))) * 12 * G3\n",
    "#     bcc_g3 = -(4/(3*np.sqrt(6))) * G3 #* gamma3_E(poly_mat, dens, N_m, b, M, np.array([bcc_q6, bcc_q3, -bcc_q1]))\n",
    "#     gyr_g3 = -(1/6)  * (1/(12*np.sqrt(12))) * 48  * G3 #* gamma3_E(poly_mat, dens, N_m, b, M, np.array([gyr_q7, -gyr_q11, -gyr_q3]))\n",
    "#     sq_cyl_g3 = 0\n",
    "#     sim_cub_g3 = 0\n",
    "#     fcc_g3 = 0\n",
    "    \n",
    "#     G4_00 = gamma4_E(poly_mat, dens, N_m, b, M, np.array([lam_q, -lam_q, lam_q, -lam_q]))\n",
    "#     lam_g4 = (1/24) * (6) * (1) * G4_00#gamma4_E(poly_mat, dens, N_m, b, M, np.array([lam_q, -lam_q, lam_q, -lam_q]))\n",
    "#     cyl_g4 = (1/12)* (G4_00 + \\\n",
    "#               4*gamma4_E(poly_mat, dens, N_m, b, M, np.array([cyl_q1, -cyl_q1, cyl_q2, -cyl_q2])))\n",
    "#     bcc_g4 = (1/24)* (G4_00 \\\n",
    "#                      + 8*gamma4_E(poly_mat, dens, N_m, b, M, np.array([bcc_q1, -bcc_q1, bcc_q3, -bcc_q3])) \\\n",
    "#                      + 2*gamma4_E(poly_mat, dens, N_m, b, M, np.array([bcc_q1, -bcc_q1, bcc_q2, -bcc_q2])) \\\n",
    "#                      + 4*gamma4_E(poly_mat, dens, N_m, b, M, np.array([bcc_q1, -bcc_q3, bcc_q2, -bcc_q4])) )\n",
    "#     gyr_g4 = (1/24)* (1/(12*12)) * (72*G4_00 + \\\n",
    "#                        288*gamma4_E(poly_mat, dens, N_m, b, M, np.array([gyr_q7, -gyr_q7, gyr_q8, -gyr_q8])) + \\\n",
    "#                        288*gamma4_E(poly_mat, dens, N_m, b, M, np.array([gyr_q7, -gyr_q7, gyr_q10, -gyr_q10])) + \\\n",
    "#                        288*gamma4_E(poly_mat, dens, N_m, b, M, np.array([gyr_q7, -gyr_q7, gyr_q11, -gyr_q11])) + \\\n",
    "#                        144*gamma4_E(poly_mat, dens, N_m, b, M, np.array([gyr_q7, -gyr_q7, gyr_q4, -gyr_q4])) + \\\n",
    "#                        576*gamma4_E(poly_mat, dens, N_m, b, M, np.array([gyr_q7, -gyr_q7, gyr_q12, -gyr_q12])) + \\\n",
    "#                        -288*gamma4_E(poly_mat, dens, N_m, b, M, np.array([gyr_q1, gyr_q4, -gyr_q10, -gyr_q5])) + \\\n",
    "#                        144*gamma4_E(poly_mat, dens, N_m, b, M, np.array([gyr_q7, -gyr_q2, gyr_q4, -gyr_q10])) + \\\n",
    "#                        -288*gamma4_E(poly_mat, dens, N_m, b, M, np.array([gyr_q1, -gyr_q5, -gyr_q7, gyr_q2])))\n",
    "    \n",
    "#     G4_90deg = gamma4_E(poly_mat, dens, N_m, b, M, np.array([sq_cyl_q1 , -sq_cyl_q1 , sq_cyl_q2 , -sq_cyl_q2 ]))\n",
    "#     sq_cyl_g4 = (1/24) * (1/4) * (12*G4_00 + \\\n",
    "#                                   24*G4_90deg)\n",
    "#     sim_cub_g4 = (1/24) * (1/9) * (18*G4_00+ \\\n",
    "#                                    72*G4_90deg)\n",
    "#     fcc_g4 = (1/24) * (1/16) * (24*G4_00\\\n",
    "#                                 + 144*gamma4_E(poly_mat, dens, N_m, b, M, np.array([fcc_q1, -fcc_q1, fcc_q2, -fcc_q2]))\\\n",
    "#                                 - 48*gamma4_E(poly_mat, dens, N_m, b, M, np.array([-fcc_q1, fcc_q2, fcc_q3, fcc_q4])))\n",
    "    \n",
    "#     for CHI in chi_array:\n",
    "#         lam_g2 = (1/2) * 2 * (1) * gamma2_E(poly_mat, dens, N_m, b, M, q_star, CHI)                \n",
    "#         cyl_g2 = lam_g2#(1/2) * 6 * (1/3) * gamma2_E(poly_mat, dens, N_m, b, M, q_star, CHI)\n",
    "#         bcc_g2 = lam_g2#(1/2) * 12 * (1/6) * gamma2_E(poly_mat, dens, N_m, b, M, q_star, CHI)\n",
    "#         gyr_g2 = lam_g2\n",
    "#         sq_cyl_g2 = lam_g2#(1/2) * (1/2) * 4 * gamma2_E(poly_mat, dens, N_m, b, M, q_star, CHI)\n",
    "#         sim_cub_g2 = lam_g2\n",
    "#         fcc_g2 = lam_g2\n",
    "        \n",
    "#         if cyl_g3>0:\n",
    "#             cyl_g3*= -1\n",
    "            \n",
    "#         if gyr_g3>0:\n",
    "#             gyr_g3*= -1\n",
    "            \n",
    "#         if bcc_g3>0:\n",
    "#             bcc_g3*= -1\n",
    "        \n",
    "#         amp_l1 = optimize.fmin(lambda amps: np.real(amps**2 * lam_g2 + amps**3 * lam_g3 + amps**4 * lam_g4), \\\n",
    "#                               1, disp=False)\n",
    "#         amp_c1 = optimize.fmin(lambda amps: np.real(amps**2 * cyl_g2 + amps**3 * cyl_g3 + amps**4 * cyl_g4), \\\n",
    "#                               1, disp=False)\n",
    "#         amp_bcc1 = optimize.fmin(lambda amps: np.real(amps**2 * bcc_g2 + amps**3 * bcc_g3 + amps**4 * bcc_g4), \\\n",
    "#                               1, disp=False)\n",
    "#         amp_g1 = optimize.fmin(lambda amps: np.real(amps**2 * gyr_g2 + amps**3 * gyr_g3 + amps**4 * gyr_g4), \\\n",
    "#                               1, disp=False)\n",
    "#         amp_sq_c1 = optimize.fmin(lambda amps: np.real(amps**2 * sq_cyl_g2 + amps**3 * sq_cyl_g3 + amps**4 * sq_cyl_g4), \\\n",
    "#                               1, disp=False)\n",
    "#         amp_sim_cub1 = optimize.fmin(lambda amps: np.real(amps**2 * sim_cub_g2 + amps**3 * sim_cub_g3 + amps**4 * sim_cub_g4), \\\n",
    "#                               1, disp=False)\n",
    "#         amp_fcc1 = optimize.fmin(lambda amps: np.real(amps**2 * fcc_g2 + amps**3 * fcc_g3 + amps**4 * fcc_g4), \\\n",
    "#                               1, disp=False)\n",
    "        \n",
    "#         lamF = amp_l1**2 * lam_g2 + amp_l1**3 * lam_g3 + amp_l1**4 * lam_g4 \n",
    "#         cylF = amp_c1**2 * cyl_g2 + amp_c1**3 * cyl_g3 + amp_c1**4 * cyl_g4 \n",
    "#         bccF = amp_bcc1**2 * bcc_g2 + amp_bcc1**3 * bcc_g3 + amp_bcc1**4 * bcc_g4\n",
    "#         gyrF = amp_g1**2 * gyr_g2 + amp_g1**3 * gyr_g3 + amp_g1**4 * gyr_g4\n",
    "#         sq_cylF = amp_sq_c1**2 * sq_cyl_g2 + amp_sq_c1**3 * sq_cyl_g3 + amp_sq_c1**4 * sq_cyl_g4 \n",
    "#         sim_cubF = amp_sim_cub1**2 * sim_cub_g2 + amp_sim_cub1**3 * sim_cub_g3 + amp_sim_cub1**4 * sim_cub_g4 \n",
    "#         fccF = amp_fcc1**2 * fcc_g2 + amp_fcc1**3 * fcc_g3 + amp_fcc1**4 * fcc_g4\n",
    "        \n",
    "# #         l1 = optimize.basinhopping(lambda amps: np.real(amps**2 * lam_g2 + amps**3 * lam_g3 + amps**4 * lam_g4), \\\n",
    "# #                               1, disp=False)\n",
    "# #         c1 = optimize.basinhopping(lambda amps: np.real(amps**2 * cyl_g2 + amps**3 * cyl_g3 + amps**4 * cyl_g4), \\\n",
    "# #                               1, disp=False)\n",
    "# #         bcc1 = optimize.basinhopping(lambda amps: np.real(amps**2 * bcc_g2 + amps**3 * bcc_g3 + amps**4 * bcc_g4), \\\n",
    "# #                               1, disp=False)\n",
    "# #         g1 = optimize.basinhopping(lambda amps: np.real(amps**2 * gyr_g2 + amps**3 * gyr_g3 + amps**4 * gyr_g4), \\\n",
    "# #                               1, disp=False)\n",
    "# #         sq_c1 = optimize.basinhopping(lambda amps: np.real(amps**2 * sq_cyl_g2 + amps**3 * sq_cyl_g3 + amps**4 * sq_cyl_g4), \\\n",
    "# #                               1, disp=False)\n",
    "# #         sim_cub1 = optimize.basinhopping(lambda amps: np.real(amps**2 * sim_cub_g2 + amps**3 * sim_cub_g3 + amps**4 * sim_cub_g4), \\\n",
    "# #                               1, disp=False)\n",
    "# #         fcc1 = optimize.basinhopping(lambda amps: np.real(amps**2 * fcc_g2 + amps**3 * fcc_g3 + amps**4 * fcc_g4), \\\n",
    "# #                               1, disp=False)\n",
    "        \n",
    "# #         lamF = l1.fun\n",
    "# #         cylF = c1.fun\n",
    "# #         bccF = bcc1.fun\n",
    "# #         gyrF = g1.fun\n",
    "# #         sq_cylF = sq_c1.fun\n",
    "# #         sim_cubF = sim_cub1.fun \n",
    "# #         fccF = fcc1.fun\n",
    "\n",
    "#         point = np.array([FA, CHI*N])\n",
    "        \n",
    "#         minF = min([lamF, cylF, bccF, gyrF, sq_cylF, sim_cubF, fccF])\n",
    "#         if minF > 0:\n",
    "#             dis_pnts = np.append(dis_pnts, point)\n",
    "#         elif minF == lamF:\n",
    "#             lam_pnts = np.append(lam_pnts, point) \n",
    "#         elif minF == cylF:\n",
    "#             cyl_pnts = np.append(cyl_pnts, point)\n",
    "#         elif minF == bccF:\n",
    "#             bcc_pnts = np.append(bcc_pnts, point)\n",
    "#         elif minF == gyrF:\n",
    "#             gyr_pnts = np.append(gyr_pnts, point)\n",
    "#         elif minF == sq_cylF:\n",
    "#             sq_cyl_pnts = np.append(sq_cyl_pnts, point)\n",
    "#         elif minF == sim_cubF:\n",
    "#             sim_cub_pnts = np.append(sim_cub_pnts, point)\n",
    "#         elif minF == fccF:\n",
    "#             fcc_pnts = np.append(fcc_pnts, point)\n",
    "#         else:\n",
    "#             raise Exception(\"error in min F phase assignment\")\n",
    "            \n",
    "#     print(\"one FA done!!\")\n",
    "            "
   ]
  },
  {
   "cell_type": "code",
   "execution_count": 266,
   "id": "116a31dd-4511-4397-bac9-aa8dfdeb7309",
   "metadata": {},
   "outputs": [],
   "source": [
    "# %%time\n",
    "# K STAR stab anal NUMBER DENSITY THEORY\n",
    "\n",
    "# poly solv\n",
    "# chi = 0.00083\n",
    "# chi = 3/N\n",
    "# chi = 2/N\n",
    "\n",
    "# full soln\n",
    "# chi = 0.00005828\n",
    "# chi = -1.0\n",
    "chi = 0\n",
    "\n",
    "min_eigval_arr = np.zeros((len(mu1_array[:]), len(mu2_array[:]), len(k_vec)))\n",
    "# min_eigval_arr_melt = np.zeros((len(mu1_array[:]), len(mu2_array[:]), len(k_vec)))\n",
    "# min_eigval_arr_ps = np.zeros((len(mu1_array[:]), len(mu2_array[:]), len(k_vec)))\n",
    "\n",
    "min_eigval_arr_ps = np.zeros((len(mu1_array[:]), len(mu2_array[:]), len(k_vec)))\n",
    "\n",
    "\n",
    "S2_det_arr = np.zeros((len(mu1_array[:]), len(mu2_array[:]), len(k_vec[:])))\n",
    "\n",
    "S2_cond_arr_soln_2 = np.zeros((len(mu1_array[:]), len(mu2_array[:]), len(k_vec[:])))\n",
    "# S2_cond_arr_soln_1 = np.zeros((len(mu1_array[:]), len(mu2_array[:]), len(k_vec[:])))\n",
    "# S2_cond_arr_melt_2 = np.zeros((len(mu1_array[:]), len(mu2_array[:]), len(k_vec[:])))\n",
    "\n",
    "max_cond_arr_allk = np.zeros((len(mu1_array[:]), len(mu2_array[:])))\n",
    "\n",
    "min_eigval_arr_allk_DENS = np.zeros((len(mu1_array[:]), len(mu2_array[:])))\n",
    "min_eigval_arr_allk_ps = np.zeros((len(mu1_array[:]), len(mu2_array[:])))\n",
    "# min_eigval_arr_allk_DENS_melt = np.zeros((len(mu1_array[:]), len(mu2_array[:])))\n",
    "\n",
    "min_eigvec_arr = np.zeros((len(mu1_array[:]), len(mu2_array[:]), len(k_vec)), dtype = object)\n",
    "min_eigvec_arr_allk_DENS = np.zeros((len(mu1_array[:]), len(mu2_array[:])), dtype = object)\n",
    "\n",
    "min_eigvec_arr = np.zeros((len(mu1_array[:]), len(mu2_array[:]), len(k_vec), 3))\n",
    "min_eigvec_arr_allk_DENS = np.zeros((len(mu1_array[:]), len(mu2_array[:]), 3))\n",
    "\n",
    "k_star_arr_DENS= np.zeros((len(mu1_array[:]), len(mu2_array[:]))) \n",
    "\n",
    "\n",
    "# avo = 6.02e23 # num poly / mol\n",
    "# dens_p = 1 # g/cm^3 -> less for polymer solution\n",
    "# mol_weight_p = 1e5 # g/mol\n",
    "\n",
    "# rho_p = avo*(1/mol_weight_p)*dens_p*M*(100**3)*(1/1e9)**3 \n",
    "# n_p = 1e8 \n",
    "# A = 1/(b) # nm^2 cross sectional area\n",
    "# vol_nuc = A*(b) # volume of nucleosome\n",
    "\n",
    "\n",
    "# rho_p = avo*(1/mol_weight_p)*dens_p*M*(100**3)*(1/1e9)**3 * 10\n",
    "# n_p = N**2 #\n",
    "\n",
    "# rho_p = avo*(1/mol_weight_p)*dens_p*M*(100**3)*(1/1e9)**3 \n",
    "# n_p = 1e8#N_m**2 # from converting volume fraction sf to number density sf \n",
    "\n",
    "# vol_solv = 1#N #1#10000000**3# (4e-10)**3\n",
    "\n",
    "# s2_mats = s2_mat_shlk_dens\n",
    "for i, mu1 in enumerate(mu1_array[:]):\n",
    "    for j, mu2 in enumerate(mu2_array[:]):\n",
    "#         if mu1 == mu2:\n",
    "#             continue\n",
    "        mu = [mu1, mu2]\n",
    "        # print(\"mu: \", mu)\n",
    "\n",
    "        for ik, k in enumerate(k_vec):\n",
    "#             S2_mat = 1/N**2 * np.array([[cc[0], 0, cg1[0], cg2[0]],\\\n",
    "#                             [0, ss*N**2, 0, 0], \\\n",
    "#                             [cg1[0], 0, g1g1[0], g1g2[0]],\\\n",
    "#                             [cg2[0], 0, g2g1[0], g2g2[0]]])\n",
    "\n",
    "            S2_mat =  s2_mats[i][j][ik].copy()\n",
    "\n",
    "            \n",
    "            # EDIT  2. goal is 1/V * (N**2 * 1/N**2) = rho_c / (M * np)\n",
    "            # in code sfs defined as S =N**2 * 1/N**2 ~integral~. \n",
    "            # then in sf_mats multiply facotr of rho_c / N^2. overall prefacotr is rho_c/N^2\n",
    "            # To get to goal, must multiply by (N_m^2 * M)/np\n",
    "            # S2_mat *= (N_m**2 * M)/n_p\n",
    "            # S2_mat[1][1] /= (N_m**2 * M)/n_p\n",
    "            # print(S2_mat)\n",
    "\n",
    "            \n",
    "            \n",
    "# #            # TESTING DIF MAGNITUDES OF RHO_S\n",
    "#             rho_s_test = rho_s * 10000# 1e-5#33#1e5\n",
    "#             S2_mat[1][1] = rho_s_test \n",
    "            \n",
    "#             # if phi_c >= 0.999:\n",
    "#             #     raise Exception(\"melt!\")\n",
    "\n",
    "#            # TESTING DIF MAGNITUDES of RHO_P\n",
    "            # #print(\"CHANGED RHO_C!!!!!!!\")\n",
    "            # rho_c_test = rho_c / 10000\n",
    "            # rho_c_test = rho_p\n",
    "            # S2_mat /= rho_c\n",
    "            # S2_mat *= rho_c_test\n",
    "            # S2_mat[1][1] *= (rho_c/rho_c_test)\n",
    "\n",
    "\n",
    "\n",
    "            \n",
    "            # FULL SOLUTION, 2 reader proteins\n",
    "            S2_det = np.linalg.det(S2_mat)\n",
    "#             S2_det_arr[i][j][ik] = S2_det\n",
    "            # print(\"S2 det: \", S2_det)\n",
    "            # print(\"---------------------------------------\")\n",
    "            S2_cond = np.linalg.cond(S2_mat)\n",
    "            S2_cond_arr_soln_2[i][j][ik] = S2_cond\n",
    "            \n",
    "            \n",
    "            if S2_det != 0:# and S2_cond < 1e10:\n",
    "                S2_inv = np.linalg.inv(S2_mat)\n",
    "\n",
    "#                 G2 = (1/N)* np.array([[S2_inv[0,0] - 2*chi*N + S2_inv[1,1], S2_inv[0,2], S2_inv[0, 3]],\\\n",
    "#                    [S2_inv[2,0], S2_inv[2,2] + N*v_int[0,0], S2_inv[2,3] + N*v_int[0,1]],\\\n",
    "#                    [S2_inv[3,0], S2_inv[3,2] + N*v_int[1,0], S2_inv[3,3] + N*v_int[1,1]]])  # ORIGINAL (no int vol)\n",
    "\n",
    "                #CORRECT (using interaction volume term)\n",
    "                # Vol_int_new =0\n",
    "                Vol_int_new = Vol_int\n",
    "                G2 = np.array([[S2_inv[0,0] - 2*chi + S2_inv[1,1], S2_inv[0,2], S2_inv[0, 3]],\\\n",
    "                   [S2_inv[2,0], S2_inv[2,2] + v_int[0,0]*Vol_int_new, S2_inv[2,3] + v_int[0,1]*Vol_int_new],\\\n",
    "                   [S2_inv[3,0], S2_inv[3,2] + v_int[1,0]*Vol_int_new, S2_inv[3,3] + v_int[1,1]*Vol_int_new]])\n",
    "                # G2 = -G2\n",
    "#                 # testing chi_12\n",
    "#                 chi_12 = 100#v_int[1,0] - ( (v_int[0,0] + v_int[1,1])/2 )\n",
    "#                 G2 = np.array([[S2_inv[0,0] - 2*chi + S2_inv[1,1], S2_inv[0,2], S2_inv[0, 3]],\\\n",
    "#                    [S2_inv[2,0], S2_inv[2,2] + 0*Vol_int, S2_inv[2,3] + chi_12*Vol_int],\\\n",
    "#                    [S2_inv[3,0], S2_inv[3,2] + chi_12*Vol_int, S2_inv[3,3] + 0*Vol_int]])\n",
    "            \n",
    "# #                 testing v_c\n",
    "#                 G2 = np.array([[S2_inv[0,0] - 2*chi + S2_inv[1,1], S2_inv[0,2], S2_inv[0, 3]],\\\n",
    "#                    [S2_inv[2,0], S2_inv[2,2] + -2*Vol_int, S2_inv[2,3] + 2*Vol_int],\\\n",
    "#                    [S2_inv[3,0], S2_inv[3,2] + 2*Vol_int, S2_inv[3,3] + -2*Vol_int]])\n",
    "                \n",
    "                val, vec = np.linalg.eigh(G2)\n",
    "                vec = vec.T\n",
    "#                 print(vec)\n",
    "#                 print(vec.T)\n",
    "#                 print(val)\n",
    "                min_val = np.min(val)            \n",
    "                min_eigval_arr[i][j][ik] = min_val\n",
    "                min_eigvec_arr[i][j][ik] = vec[np.where(val == min_val)]\n",
    "\n",
    "#             ########################### POLY/SOLV only\n",
    "#             S2_mat = np.array([[S2_mat[0,0], 0], [0, S2_mat[1,1]]])\n",
    "\n",
    "# #             if phi_c >= 0.999:\n",
    "# #                 raise Exception(\"melt!\")\n",
    "#             S2_det = np.linalg.det(S2_mat)           \n",
    "            \n",
    "#             if S2_det != 0:# and S2_cond < 1e10:\n",
    "#                 S2_inv = np.linalg.inv(S2_mat)\n",
    "\n",
    "# #                 G2 = (1/N)* np.array([S2_inv[0,0] - 2*chi*N + S2_inv[1,1]]) # original\n",
    "                \n",
    "#                 G2 = np.array([S2_inv[0,0] - 2*chi + S2_inv[1,1]])\n",
    "\n",
    "#                 val = G2[0]\n",
    "# #                 min_val = np.min(val)            \n",
    "#                 min_eigval_arr_ps[i][j][ik] = val\n",
    "#             ########################### POLY/SOLV only\n",
    "\n",
    "\n",
    "        # all-k analysis\n",
    "        min_vals = min_eigval_arr[i][j][:][np.nonzero(min_eigval_arr[i][j][:])] # min eigvals at mu1,mu2 for each k\n",
    "        \n",
    "        min_vecs = min_eigvec_arr[i][j][:][np.nonzero(min_eigval_arr[i][j][:])]\n",
    "        if len(min_vals) != 0:\n",
    "            minval_allk = np.min(min_vals) # minimum eigenvalue at mu1,mu2 across all ks\n",
    "#             print(minval_allk)\n",
    "            min_eigval_arr_allk_DENS[i][j] = minval_allk\n",
    "            \n",
    "            min_eigvec_arr_allk_DENS[i][j] = min_vecs[np.where(min_vals==minval_allk)]#[0][0] #double zero if saving as objects\n",
    "            \n",
    "            k_star = k_vec[np.where(min_vals==minval_allk)] # corresponding k \n",
    "#             print(k_star)\n",
    "            k_star_arr_DENS[i][j] = k_star\n",
    "\n",
    "            \n",
    "#         min_vals_ps = min_eigval_arr_ps[i][j][:][np.nonzero(min_eigval_arr_ps[i][j][:])] # min eigvals at mu1,mu2 for each k\n",
    "# #         if len(min_vals_ps) != 0:\n",
    "# #             minval_allk = np.min(min_vals_ps) # minimum eigenvalue at mu1,mu2 across all ks\n",
    "#         min_eigval_arr_allk_ps[i][j] = np.min(min_vals_ps)\n",
    "            \n",
    "#         min_vals_melt = min_eigval_arr_melt[i][j][:] # min eigvals at mu1,mu2 for each k\n",
    "#         minval_allk_melt = np.min(min_vals_melt) # minimum eigenvalue at mu1,mu2 across all ks\n",
    "#         min_eigval_arr_allk_DENS_melt[i][j] = minval_allk_melt\n",
    "\n",
    "        cond_nums = S2_cond_arr_soln_2[i][j][:]\n",
    "        max_cond_allk = np.max(cond_nums)\n",
    "        max_cond_arr_allk[i][j] = max_cond_allk\n",
    "        \n",
    "\n",
    "# setting all non-decomposed/ separated systems to 0 \n",
    "poly_fluc = min_eigvec_arr_allk_DENS[:,:,0]\n",
    "poly_fluc[np.where(np.sign(min_eigval_arr_allk_DENS) == 1) ] = 0\n",
    "\n",
    "prot1_fluc = min_eigvec_arr_allk_DENS[:,:,1]\n",
    "prot1_fluc[np.where(np.sign(min_eigval_arr_allk_DENS) == 1) ] = 0\n",
    "\n",
    "prot2_fluc = min_eigvec_arr_allk_DENS[:,:,2]\n",
    "prot2_fluc[np.where(np.sign(min_eigval_arr_allk_DENS) == 1) ] = 0\n",
    "\n",
    "k_star_arr_DENS[np.where(np.sign(min_eigval_arr_allk_DENS) == 1) ] = -1 # unphysical value, to indicate outside of spinodal"
   ]
  },
  {
   "cell_type": "code",
   "execution_count": 262,
   "id": "a57faf8a-a20e-4893-85cf-d19e1c7e2b6e",
   "metadata": {},
   "outputs": [
    {
     "data": {
      "text/plain": [
       "0.0031622776601683794"
      ]
     },
     "execution_count": 262,
     "metadata": {},
     "output_type": "execute_result"
    }
   ],
   "source": [
    "k_vec[0]"
   ]
  },
  {
   "cell_type": "code",
   "execution_count": 268,
   "id": "382f5176-6596-4b39-add1-40b8de2ca7ca",
   "metadata": {},
   "outputs": [
    {
     "data": {
      "text/plain": [
       "array([[0.00316228, 0.00316228, 0.00316228, 0.00316228, 0.00316228,\n",
       "        0.00316228, 0.00316228, 0.00316228, 0.00316228, 0.00316228],\n",
       "       [0.00316228, 0.00316228, 0.00316228, 0.00316228, 0.00316228,\n",
       "        0.00316228, 0.00316228, 0.00316228, 0.00316228, 0.00316228],\n",
       "       [0.00316228, 0.00316228, 0.00316228, 0.00316228, 0.00316228,\n",
       "        0.00316228, 0.00316228, 0.00316228, 0.00316228, 0.00316228],\n",
       "       [0.00316228, 0.00316228, 0.00316228, 0.00316228, 0.00316228,\n",
       "        0.00316228, 0.00316228, 0.00316228, 0.00316228, 0.00316228],\n",
       "       [0.00316228, 0.00316228, 0.00316228, 0.00316228, 0.00316228,\n",
       "        0.00316228, 0.00316228, 0.00316228, 0.00316228, 0.00316228],\n",
       "       [0.00316228, 0.00316228, 0.00316228, 0.00316228, 0.00316228,\n",
       "        0.00316228, 0.00316228, 0.00316228, 0.00316228, 0.00316228],\n",
       "       [0.00316228, 0.00316228, 0.00316228, 0.00316228, 0.00316228,\n",
       "        0.00316228, 0.00316228, 0.00316228, 0.00316228, 0.00316228],\n",
       "       [0.00316228, 0.00316228, 0.00316228, 0.00316228, 0.00316228,\n",
       "        0.00316228, 0.00316228, 0.00316228, 0.00316228, 0.00316228],\n",
       "       [0.00316228, 0.00316228, 0.00316228, 0.00316228, 0.00316228,\n",
       "        0.00316228, 0.00316228, 0.00316228, 0.00316228, 0.00316228],\n",
       "       [0.00316228, 0.00316228, 0.00316228, 0.00316228, 0.00316228,\n",
       "        0.00316228, 0.00316228, 0.00316228, 0.00316228, 0.00316228]])"
      ]
     },
     "execution_count": 268,
     "metadata": {},
     "output_type": "execute_result"
    }
   ],
   "source": [
    "k_star_arr_DENS"
   ]
  },
  {
   "cell_type": "code",
   "execution_count": 238,
   "id": "ada34eaf-2845-4cd2-a9d6-c40b7fad751a",
   "metadata": {},
   "outputs": [
    {
     "data": {
      "text/plain": [
       "array([[-1.        , -1.        , -1.        ,  0.02126112,  0.02126112,\n",
       "         0.01887392,  0.01040498,  0.00316228,  0.00316228,  0.00316228],\n",
       "       [-1.        , -1.        , -1.        ,  0.02126112,  0.02126112,\n",
       "         0.01887392,  0.01172102,  0.00316228,  0.00316228,  0.00356225],\n",
       "       [-1.        , -1.        , -1.        ,  0.02126112,  0.02126112,\n",
       "         0.01887392,  0.01172102,  0.00316228,  0.00316228,  0.00316228],\n",
       "       [ 0.02126112,  0.02126112,  0.02126112,  0.02126112,  0.02126112,\n",
       "         0.02126112,  0.01487352,  0.00316228,  0.00316228,  0.00316228],\n",
       "       [ 0.02126112,  0.02126112,  0.02126112,  0.02126112,  0.02126112,\n",
       "         0.02126112,  0.02126112,  0.0050921 ,  0.00316228,  0.00316228],\n",
       "       [ 0.01887392,  0.01887392,  0.01887392,  0.02126112,  0.02126112,\n",
       "         0.02126112,  0.02126112,  0.02126112,  0.00316228,  0.00316228],\n",
       "       [ 0.01040498,  0.01172102,  0.01172102,  0.01487352,  0.02126112,\n",
       "         0.02126112,  0.02126112,  0.02126112,  0.01887392,  0.00316228],\n",
       "       [ 0.00316228,  0.00316228,  0.00316228,  0.00316228,  0.0050921 ,\n",
       "         0.02126112,  0.02126112,  0.02126112,  0.02126112,  0.01675475],\n",
       "       [ 0.00316228,  0.00316228,  0.00316228,  0.00316228,  0.00316228,\n",
       "         0.00316228,  0.01887392,  0.02126112,  0.02126112,  0.02126112],\n",
       "       [ 0.00316228,  0.00356225,  0.00316228,  0.00316228,  0.00316228,\n",
       "         0.00316228,  0.00316228,  0.01675475,  0.02126112,  0.02126112]])"
      ]
     },
     "execution_count": 238,
     "metadata": {},
     "output_type": "execute_result"
    }
   ],
   "source": [
    "# interactions\n",
    "k_star_arr_DENS"
   ]
  },
  {
   "cell_type": "code",
   "execution_count": null,
   "id": "9bbbb137-8102-4649-9c73-f634802071ac",
   "metadata": {},
   "outputs": [],
   "source": []
  }
 ],
 "metadata": {
  "kernelspec": {
   "display_name": "Python 3 (ipykernel)",
   "language": "python",
   "name": "python3"
  },
  "language_info": {
   "codemirror_mode": {
    "name": "ipython",
    "version": 3
   },
   "file_extension": ".py",
   "mimetype": "text/x-python",
   "name": "python",
   "nbconvert_exporter": "python",
   "pygments_lexer": "ipython3",
   "version": "3.10.14"
  }
 },
 "nbformat": 4,
 "nbformat_minor": 5
}
