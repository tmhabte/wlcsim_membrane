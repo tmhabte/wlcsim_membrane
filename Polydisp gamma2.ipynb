{
 "cells": [
  {
   "cell_type": "code",
   "execution_count": 1,
   "metadata": {},
   "outputs": [],
   "source": [
    "import numpy as np\n",
    "import wlcstat.wlc_copoly as wlc_copoly\n",
    "from scipy.interpolate import interp1d"
   ]
  },
  {
   "cell_type": "code",
   "execution_count": 2,
   "metadata": {},
   "outputs": [],
   "source": [
    "#FOR VERTEX:\n",
    "import sys\n",
    "sys.path.append(\"./vertex_subroutines\")\n",
    "from GAMcalc import *  # Code for calculating vertex functions\n",
    "import propagator  # propagator object used to store pre-calculated values\n",
    "import wignerD as wd # wigner D object used to store pre-calculated values"
   ]
  },
  {
   "cell_type": "code",
   "execution_count": 260,
   "metadata": {},
   "outputs": [],
   "source": [
    "import matplotlib.pyplot as plt\n",
    "from matplotlib.collections import LineCollection\n",
    "from matplotlib.colors import ListedColormap, BoundaryNorm"
   ]
  },
  {
   "cell_type": "code",
   "execution_count": 3,
   "metadata": {},
   "outputs": [],
   "source": [
    "pset=propagator.prop_set(nlam=10) \n",
    "wigset = wd.wigner_d_vals()"
   ]
  },
  {
   "cell_type": "code",
   "execution_count": 20,
   "metadata": {},
   "outputs": [],
   "source": [
    "def s2inverse_polyd(pset, N_1, N_2, FA_1, FA_2, PHI_1, PHI_2, K):\n",
    "    \"returns the annealed disorder average of the 2 point sf inverse of a binary mixture of diblock copolymers\"\n",
    "    \"CURRENTLY ONLY HANDLES POLYS OF SAME LENGTH\"\n",
    "    if (N_1 != N_2):\n",
    "        raise Exception(\"Can only handle binary mix of polymers with same length\")\n",
    "        \n",
    "    if norm(K) < 1e-5:\n",
    "        s2inv = s2inverse_zeroq_polyd(N_1, N_2, PHI_1, PHI_2) #TODO change so handles dif length polys\n",
    "        return s2inv\n",
    "    \n",
    "    #PHI_2 = 1 - PHI_1\n",
    "    s2_1 = s2wlc(pset, N_1, FA_1, K)\n",
    "    s2_2 = s2wlc(pset, N_2, FA_2, K)\n",
    "    \n",
    "    s2inv = np.zeros((2,2),dtype=type(1+1j))\n",
    "    \n",
    "    [s2aa_1, s2ab_1], [s2ba_1, s2bb_1] = s2_1\n",
    "    [s2aa_2, s2ab_2], [s2ba_2, s2bb_2] = s2_2\n",
    "    \n",
    "    s2aa = PHI_1*s2aa_1+PHI_2*s2aa_2 # TODO: update these averages to consider N_1 != N_2\n",
    "    s2ab = PHI_1*s2ab_1+PHI_2*s2ab_2\n",
    "    s2ba = PHI_1*s2ba_1+PHI_2*s2ba_2\n",
    "    s2bb = PHI_1*s2bb_1+PHI_2*s2bb_2\n",
    "    \n",
    "    det = s2aa*s2bb - s2ab*s2ba\n",
    "    \n",
    "    s2inv[0,0] = s2bb/det\n",
    "    s2inv[0,1] = -s2ab/det\n",
    "    s2inv[1,0] = -s2ba/det\n",
    "    s2inv[1,1] = s2aa/det\n",
    "    \n",
    "    return s2inv"
   ]
  },
  {
   "cell_type": "code",
   "execution_count": 25,
   "metadata": {},
   "outputs": [],
   "source": [
    "def spinodal_polyd(pset, N_1, N_2, FA_1, FA_2, PHI_1, PHI_2):\n",
    "    CHI = 0\n",
    "    if (N_1 != N_2):\n",
    "        raise Exception(\"Can only handle binary mix of polymers with same length\")\n",
    "    K0 = 1/np.sqrt(r2(N_1))\n",
    "    \n",
    "    KS = optimize.fmin(lambda K: np.real(gamma2_polyd(pset, N_1, N_2, FA_1, FA_2, PHI_1, PHI_2, K, CHI)), K0,\\\n",
    "                      disp=False)\n",
    "    \n",
    "    return KS"
   ]
  },
  {
   "cell_type": "code",
   "execution_count": 22,
   "metadata": {},
   "outputs": [],
   "source": [
    "# chemically averaged\n",
    "\n",
    "def gamma2_polyd(pset, N_1, N_2, FA_1, FA_2, PHI_1, PHI_2, K, CHI):\n",
    "    #Only accepts two polymer types of same length\n",
    "    #PHI_2 = 1 - PHI_1\n",
    "    \n",
    "    s2inv = s2inverse_polyd(pset, N_1, N_2, FA_1, FA_2, PHI_1, PHI_2, K)\n",
    "\n",
    "    D = [1,-1]    # sign indicator\n",
    "    G = 0\n",
    "    for I0, I1 in product([0,1], repeat=2):\n",
    "        G += s2inv[I0, I1]*D[I0]*D[I1]\n",
    "        \n",
    "    return -2*CHI + (PHI_1*N_1 + PHI_2*N_2)*G #TODO: fix this averaging for polys w different length\n",
    "# calc spinodal!"
   ]
  },
  {
   "cell_type": "code",
   "execution_count": 23,
   "metadata": {},
   "outputs": [],
   "source": [
    "def s2inverse_zeroq_polyd(N_1, N_2, PHI_1, PHI_2):\n",
    "    s2 = np.ones((2,2),dtype='complex')\n",
    "    N_ave = N_1 * PHI_1 + N_2 * PHI_2\n",
    "    return s2/(N_ave**2)"
   ]
  },
  {
   "cell_type": "code",
   "execution_count": null,
   "metadata": {},
   "outputs": [],
   "source": []
  },
  {
   "cell_type": "code",
   "execution_count": 300,
   "metadata": {},
   "outputs": [],
   "source": [
    "def threshold_plot(ax, x, y, threshv, color, overcolor):\n",
    "    \"\"\"\n",
    "    Helper function to plot points above a threshold in a different color\n",
    "\n",
    "    Parameters\n",
    "    ----------\n",
    "    ax : Axes\n",
    "        Axes to plot to\n",
    "    x, y : array\n",
    "        The x and y values\n",
    "\n",
    "    threshv : float\n",
    "        Plot using overcolor above this value\n",
    "\n",
    "    color : color\n",
    "        The color to use for the lower values\n",
    "\n",
    "    overcolor: color\n",
    "        The color to use for values over threshv\n",
    "\n",
    "    \"\"\"\n",
    "    # Create a colormap for red, green and blue and a norm to color\n",
    "    # f' < -0.5 red, f' > 0.5 blue, and the rest green\n",
    "    cmap = ListedColormap([color, overcolor])\n",
    "    norm = BoundaryNorm([np.min(y), threshv, np.max(y)], cmap.N)\n",
    "\n",
    "    # Create a set of line segments so that we can color them individually\n",
    "    # This creates the points as a N x 1 x 2 array so that we can stack points\n",
    "    # together easily to get the segments. The segments array for line collection\n",
    "    # needs to be numlines x points per line x 2 (x and y)\n",
    "    points = np.array([x, y]).T.reshape(-1, 1, 2)\n",
    "    segments = np.concatenate([points[:-1], points[1:]], axis=1)\n",
    "\n",
    "    # Create the line collection object, setting the colormapping parameters.\n",
    "    # Have to set the actual values used for colormapping separately.\n",
    "    lc = LineCollection(segments, cmap=cmap, norm=norm)\n",
    "    lc.set_array(y)\n",
    "\n",
    "    ax.add_collection(lc)\n",
    "    ax.set_xlim(np.min(x), np.max(x))\n",
    "    ax.set_ylim(np.min(y)*1.1, np.max(y)*1.1)\n",
    "    return lc"
   ]
  },
  {
   "cell_type": "code",
   "execution_count": null,
   "metadata": {},
   "outputs": [],
   "source": []
  },
  {
   "cell_type": "code",
   "execution_count": null,
   "metadata": {},
   "outputs": [],
   "source": []
  },
  {
   "cell_type": "code",
   "execution_count": null,
   "metadata": {},
   "outputs": [],
   "source": []
  },
  {
   "cell_type": "code",
   "execution_count": null,
   "metadata": {},
   "outputs": [],
   "source": []
  },
  {
   "cell_type": "code",
   "execution_count": 13,
   "metadata": {},
   "outputs": [],
   "source": [
    "N_1 = 10.\n",
    "\n",
    "FA_1_arr = np.arange(0.3, 0.71, 0.1)\n",
    "chi_range = np.arange(8, 20, .01)/N_1\n",
    "\n",
    "k0 = 1e-2\n",
    "kf = 1e2\n",
    "nk = 50\n",
    "k_vec = np.logspace(np.log10(k0), np.log10(kf), nk)\n"
   ]
  },
  {
   "cell_type": "markdown",
   "metadata": {},
   "source": [
    "# Monodisperse "
   ]
  },
  {
   "cell_type": "code",
   "execution_count": 14,
   "metadata": {},
   "outputs": [
    {
     "name": "stdout",
     "output_type": "stream",
     "text": [
      "Wall time: 28.6 s\n"
     ]
    }
   ],
   "source": [
    "%%time\n",
    "#single component G2 matrix stability analysis, POST INCOMPRESSIBILITY\n",
    "\n",
    "spinodal_arr = np.array([]) \n",
    "\n",
    "for FA_1 in FA_1_arr:\n",
    "    s2_1 = wlc_copoly.s2_wlc_diblock(k_vec, N_1, FA_1, dimensions=3, alpha_max=25)\n",
    "\n",
    "    s2_AA_1 = s2_1[0]\n",
    "    s2_AB_1 = s2_1[1]\n",
    "    s2_BB_1 = s2_1[2]\n",
    "    for chi in chi_range:\n",
    "        chi_spin_bool = False #means spinodal has not been reached\n",
    "        for k_ind in range(len(k_vec)):\n",
    "            det_1 = s2_AA_1[k_ind] * s2_BB_1[k_ind] - s2_AB_1[k_ind]**2 #determinant of s2 matrix\n",
    "            prefactor_1 = 1/(det_1)[0] #1/2 from taylor expansion, which remains after performing gaussian integral\n",
    "\n",
    "            s2inv_AA_1 = s2_1[0][k_ind][0]*prefactor_1\n",
    "            s2inv_AB_1 = s2_1[1][k_ind][0]*prefactor_1\n",
    "            s2inv_BB_1 = s2_1[2][k_ind][0]*prefactor_1\n",
    "            \n",
    "            G2 = (s2inv_AA_1 + 2*s2inv_AB_1 + s2inv_BB_1)-2*chi*N_1\n",
    "            if G2 <= 0:\n",
    "                chi_spin_bool = True\n",
    "                break\n",
    "        if chi_spin_bool == True:\n",
    "            spinodal_arr = np.append(spinodal_arr,  chi*N_1)\n",
    "            break"
   ]
  },
  {
   "cell_type": "code",
   "execution_count": 15,
   "metadata": {},
   "outputs": [
    {
     "name": "stderr",
     "output_type": "stream",
     "text": [
      "<timed exec>:15: ComplexWarning: Casting complex values to real discards the imaginary part\n"
     ]
    },
    {
     "name": "stdout",
     "output_type": "stream",
     "text": [
      "Wall time: 10.7 s\n"
     ]
    }
   ],
   "source": [
    "%%time\n",
    "#single component Vertex spinodal\n",
    "\n",
    "\n",
    "#generate spinodal\n",
    "# N = N_1\n",
    "# f_as = FA_1_arr #= np.arange(0.2, 0.505, .02)#np.arange(0.1, 1, 0.1)\n",
    "spin_array_vertex = np.zeros(len(FA_1_arr))\n",
    "for i, FA in enumerate(FA_1_arr):\n",
    "    chis = chi_range \n",
    "    min_G_vals = np.zeros(len(chis))\n",
    "    KS = spinodal(pset, N_1, FA)\n",
    "    for j,CHI in enumerate(chis):\n",
    "        #evaluate gamma2 at the chi k_spinodal for appropriate length, find when equals zero\n",
    "        G = gamma2(pset, N_1, FA, KS, CHI)\n",
    "        min_G_vals[j] = G # b/c g2 is 1x1 matrix, eigenvalue is the value of g2 itself. \n",
    "#     print(\"chis: \", chis)\n",
    "#     print(\"g val/ eigv: \", min_G_vals)\n",
    "    spin_array_vertex[i] = chis[np.argmin((abs(min_G_vals)))]\n"
   ]
  },
  {
   "cell_type": "code",
   "execution_count": 16,
   "metadata": {
    "scrolled": false
   },
   "outputs": [
    {
     "data": {
      "text/plain": [
       "Text(0.5, 0, '$f_A$')"
      ]
     },
     "execution_count": 16,
     "metadata": {},
     "output_type": "execute_result"
    },
    {
     "data": {
      "text/plain": [
       "<Figure size 432x288 with 0 Axes>"
      ]
     },
     "metadata": {},
     "output_type": "display_data"
    },
    {
     "data": {
      "image/png": "[encoded data removed]",
      "text/plain": [
       "<Figure size 720x576 with 1 Axes>"
      ]
     },
     "metadata": {
      "needs_background": "light"
     },
     "output_type": "display_data"
    }
   ],
   "source": [
    "matrixG2_spin_mono_interp = interp1d(FA_1_arr, spinodal_arr, kind=\"quadratic\") \n",
    "vertex_spin_mono_interp = interp1d(FA_1_arr, spin_array_vertex*N_1, kind=\"quadratic\") \n",
    "\n",
    "fig = plt.figure()\n",
    "plt.figure(figsize=(10,8))\n",
    "\n",
    "font = {'family' : 'serif',\n",
    "        'weight':'normal',\n",
    "        'size': 18}\n",
    "plt.rc('font', **font)\n",
    "ax = plt.subplot(111)\n",
    "\n",
    "new_x = np.arange(0.301, 0.7, 0.001)\n",
    "ax.plot(new_x, matrixG2_spin_mono_interp(new_x), color = \"blue\", label = \"G2 matrix\", zorder=1)\n",
    "# ax.plot(new_x, vertex_spin_mono_interp(new_x), color = \"orange\", label = \"vertex\")\n",
    "\n",
    "ax.scatter(FA_1_arr, spinodal_arr, color = \"blue\", zorder = 2)\n",
    "ax.scatter(FA_1_arr, spin_array_vertex*N_1, color = \"orange\", label = \"vertex\", zorder = 3)\n",
    "plt.legend()\n",
    "plt.title(\"monodisperse spinodal, N = \" + str(N_1))\n",
    "ax.set_ylabel(\"$\\chi N$\")\n",
    "ax.set_xlabel(\"$f_A$\")"
   ]
  },
  {
   "cell_type": "markdown",
   "metadata": {},
   "source": [
    "# Polydisperse binary mix"
   ]
  },
  {
   "cell_type": "code",
   "execution_count": 278,
   "metadata": {},
   "outputs": [],
   "source": [
    "N_1 = 10.\n",
    "FA_1_arr = np.array([0.01, 0.02, 0.05, 0.1, 0.3, .5, 0.7]) #np.arange(0.1, 0.701, 0.05) #np.array([0.01, 0.02, 0.05, 0.1, 0.3, .5, 0.7])#\n",
    "PHI_1 = 0.5\n",
    "\n",
    "N_2 = N_1\n",
    "FA_2 = 0.9\n",
    "PHI_2 = 0.5\n",
    "\n",
    "k0 = 1e-2\n",
    "kf = 1e2\n",
    "nk = 50\n",
    "\n",
    "k_vec = np.logspace(np.log10(k0), np.log10(kf), nk)\n",
    "\n",
    "chi_range = np.arange(4, 20, 0.01)/N_1\n",
    "\n",
    "if (PHI_1 + PHI_2 > 1.00001) or (PHI_1 + PHI_2 < 1 - .00001):\n",
    "    raise Exception(\"Phis dont add up to 1\")"
   ]
  },
  {
   "cell_type": "code",
   "execution_count": 239,
   "metadata": {},
   "outputs": [
    {
     "data": {
      "text/plain": [
       "0.01"
      ]
     },
     "execution_count": 239,
     "metadata": {},
     "output_type": "execute_result"
    }
   ],
   "source": [
    "k_vec[0] #\n",
    "#EEEEEEEEEEEEEEEEEEEEEYEAHHHHHHHHHHHHHH\n",
    "#0.01 means zero!!!!\n",
    "#EEEEEEEEEEEEEEEEEEEEEEEEEEEEEEEEEYeahyeaheyaYEAHHHHHH\n",
    "\n",
    "#TODO- if eigvalue == k_arr[0], append to macro spin, else, append to microspin\n",
    "\n",
    "#change plotting so doing every other, FA and chi combined"
   ]
  },
  {
   "cell_type": "code",
   "execution_count": 285,
   "metadata": {},
   "outputs": [
    {
     "name": "stdout",
     "output_type": "stream",
     "text": [
      "Wall time: 1min 31s\n"
     ]
    }
   ],
   "source": [
    "%%time\n",
    "#binary mix- Vectorized, ASSUMING SAME LENGTH\n",
    "#TODO- interpreting eigenvalues\n",
    "\n",
    "\n",
    "# chi_range = np.arange(5.5, 20, 0.001)/N_1\n",
    "\n",
    "\n",
    "polyd_spinodal_arr = np.array([])\n",
    "polyd_spinodal_arr_FAS = np.array([])\n",
    "polyd_spinodal_arr_macro = np.array([])\n",
    "polyd_spinodal_arr_FAS_macro = np.array([])\n",
    "eigvects_arr = []\n",
    "eigvals_arr = []\n",
    "k_star_arr = []\n",
    "\n",
    "for FA_1 in FA_1_arr:\n",
    "    s2_1 = wlc_copoly.s2_wlc_diblock(k_vec, N_1, FA_1, dimensions=3, alpha_max=25)\n",
    "\n",
    "    s2_AA_1 = s2_1[0]\n",
    "    s2_AB_1 = s2_1[1]\n",
    "    s2_BB_1 = s2_1[2]\n",
    "\n",
    "    s2_2 = wlc_copoly.s2_wlc_diblock(k_vec, N_2, FA_2, dimensions=3, alpha_max=25)\n",
    "\n",
    "    s2_AA_2 = s2_2[0]\n",
    "    s2_AB_2 = s2_2[1]\n",
    "    s2_BB_2 = s2_2[2]\n",
    "\n",
    "    for chi in chi_range:\n",
    "    #     print(\"chi: \", chi)\n",
    "        chi_spin_bool = False #means spinodal has not been reached\n",
    "#         chiN = chi * N\n",
    "        \n",
    "        det_1_arr = s2_AA_1 * s2_BB_1 - s2_AB_1**2\n",
    "        prefactor_1_arr = 1/(det_1_arr*2*PHI_1)\n",
    "        \n",
    "        det_2_arr = s2_AA_2 * s2_BB_2 - s2_AB_2**2\n",
    "        prefactor_2_arr = 1/(det_2_arr*2*PHI_2)\n",
    "        \n",
    "        s2inv_AA_1_arr = s2_AA_1*prefactor_1_arr\n",
    "        s2inv_AB_1_arr = s2_AB_1*prefactor_1_arr\n",
    "        s2inv_BB_1_arr = s2_BB_1*prefactor_1_arr\n",
    "        \n",
    "        s2inv_AA_2_arr = s2_AA_2*prefactor_2_arr\n",
    "        s2inv_AB_2_arr = s2_AB_2*prefactor_2_arr\n",
    "        s2inv_BB_2_arr = s2_BB_2*prefactor_2_arr\n",
    "        \n",
    "        #matrix indices\n",
    "        \n",
    "        zero_zero = s2inv_BB_1_arr - (chi*N_1) + s2inv_AA_2_arr\n",
    "        zero_one = -s2inv_AB_1_arr + s2inv_AA_2_arr\n",
    "        zero_two = -(chi*N_1) + s2inv_AB_2_arr + s2inv_AA_2_arr\n",
    "        \n",
    "        one_zero = zero_one\n",
    "        one_one = s2inv_AA_1_arr + s2inv_AA_2_arr\n",
    "        one_two = s2inv_AB_2_arr + s2inv_AA_2_arr\n",
    "        \n",
    "        two_zero = zero_two\n",
    "        two_one = one_two\n",
    "        two_two = s2inv_BB_2_arr + 2*s2inv_AB_2_arr - (chi*N_1) + s2inv_AA_2_arr\n",
    "        \n",
    "        G2 = np.array([zero_zero, zero_one, zero_two, one_zero, one_one, one_two, two_zero, two_one, two_two]).T.reshape(len(k_vec), 3, 3)\n",
    "        eigvalues,eigvectors = np.linalg.eigh(G2)\n",
    "        eigvalues_lst = np.concatenate(eigvalues)\n",
    "        min_eig = np.min(eigvalues_lst)\n",
    "        if min_eig <= 0:\n",
    "            chi_spin_bool = True\n",
    "            eigvects = eigvectors[np.where(eigvalues_lst==min_eig)[0]//3][0]\n",
    "            eigvals = eigvalues[np.where(eigvalues_lst==min_eig)[0]//3][0]\n",
    "            #identify k_star- index of the eigenvalue list that includes val of zero\n",
    "            k_star = k_vec[np.where(eigvalues_lst==min_eig)[0]//3][0]\n",
    "            break\n",
    "    if chi_spin_bool == True:\n",
    "        eigvals_arr.append(eigvals)\n",
    "        eigvects_arr.append(eigvects)\n",
    "        k_star_arr.append(k_star)\n",
    "        if k_star == k_vec[0]:\n",
    "            polyd_spinodal_arr_macro = np.append(polyd_spinodal_arr_macro, chi*N_1)\n",
    "            polyd_spinodal_arr_FAS_macro = np.append(polyd_spinodal_arr_FAS_macro, FA_1)\n",
    "#         else:\n",
    "#             polyd_spinodal_arr = np.append(polyd_spinodal_arr, chi*N_1)\n",
    "#             polyd_spinodal_arr_FAS = np.append(polyd_spinodal_arr_FAS, FA_1)\n",
    "        polyd_spinodal_arr = np.append(polyd_spinodal_arr, chi*N_1)\n",
    "    else:\n",
    "        raise Exception(\"chi range not high enough\")\n",
    "eigvals_arr = np.array(eigvals_arr)\n",
    "eigvects_arr = np.array(eigvects_arr)\n",
    "k_star_arr = np.array(k_star_arr)\n",
    "#NON VECT- 2min 52 sec\n",
    "# VECT - 1min 15 sec"
   ]
  },
  {
   "cell_type": "code",
   "execution_count": null,
   "metadata": {},
   "outputs": [],
   "source": [
    "k_star_arr "
   ]
  },
  {
   "cell_type": "code",
   "execution_count": 248,
   "metadata": {},
   "outputs": [
    {
     "data": {
      "text/plain": [
       "array([0.1, 0.2, 0.3, 0.4, 0.5, 0.6, 0.7])"
      ]
     },
     "execution_count": 248,
     "metadata": {},
     "output_type": "execute_result"
    }
   ],
   "source": [
    "FA_1_arr"
   ]
  },
  {
   "cell_type": "markdown",
   "metadata": {},
   "source": [
    "# Annealed disorder avg results"
   ]
  },
  {
   "cell_type": "code",
   "execution_count": 292,
   "metadata": {},
   "outputs": [
    {
     "name": "stderr",
     "output_type": "stream",
     "text": [
      "<timed exec>:15: ComplexWarning: Casting complex values to real discards the imaginary part\n"
     ]
    },
    {
     "name": "stdout",
     "output_type": "stream",
     "text": [
      "Wall time: 8.62 s\n"
     ]
    }
   ],
   "source": [
    "%%time\n",
    "#annealed disorder avg binary mix Vertex spinodal\n",
    "\n",
    "\n",
    "#generate spinodal\n",
    "# N = N_1\n",
    "# f_as = FA_1_arr #= np.arange(0.2, 0.505, .02)#np.arange(0.1, 1, 0.1)\n",
    "spin_array_vertex_polyd_anneal = np.zeros(len(FA_1_arr))\n",
    "for i, FA_1 in enumerate(FA_1_arr):\n",
    "    chis = chi_range \n",
    "    min_G_vals = np.zeros(len(chis))\n",
    "    KS = spinodal_polyd(pset, N_1, N_2, FA_1, FA_2, PHI_1, PHI_2)\n",
    "    for j,CHI in enumerate(chis):\n",
    "        #evaluate gamma2 at the chi k_spinodal for appropriate length, find when equals zero\n",
    "        G = gamma2_polyd(pset, N_1, N_2, FA_1, FA_2, PHI_1, PHI_2, KS, CHI)\n",
    "        min_G_vals[j] = G # b/c g2 is 1x1 matrix, eigenvalue is the value of g2 itself. \n",
    "#     print(\"chis: \", chis)\n",
    "#     print(\"g val/ eigv: \", min_G_vals)\n",
    "    spin_array_vertex_polyd_anneal[i] = chis[np.argmin((abs(min_G_vals)))]\n"
   ]
  },
  {
   "cell_type": "markdown",
   "metadata": {},
   "source": [
    "# Monodisperse Vertex spinodal \n",
    "for comparison"
   ]
  },
  {
   "cell_type": "code",
   "execution_count": 293,
   "metadata": {},
   "outputs": [
    {
     "name": "stderr",
     "output_type": "stream",
     "text": [
      "<timed exec>:15: ComplexWarning: Casting complex values to real discards the imaginary part\n"
     ]
    },
    {
     "name": "stdout",
     "output_type": "stream",
     "text": [
      "Wall time: 15.5 s\n"
     ]
    }
   ],
   "source": [
    "%%time\n",
    "#single component Vertex spinodal\n",
    "\n",
    "\n",
    "#generate spinodal\n",
    "# N = N_1\n",
    "# f_as = FA_1_arr #= np.arange(0.2, 0.505, .02)#np.arange(0.1, 1, 0.1)\n",
    "spin_array_vertex = np.zeros(len(FA_1_arr))\n",
    "for i, FA_1 in enumerate(FA_1_arr):\n",
    "    chis = chi_range \n",
    "    min_G_vals = np.zeros(len(chis))\n",
    "    KS = spinodal(pset, N_1, FA_1)\n",
    "    for j,CHI in enumerate(chis):\n",
    "        #evaluate gamma2 at the chi k_spinodal for appropriate length, find when equals zero\n",
    "        G = gamma2(pset, N_1, FA_1, KS, CHI)\n",
    "        min_G_vals[j] = G # b/c g2 is 1x1 matrix, eigenvalue is the value of g2 itself. \n",
    "#     print(\"chis: \", chis)\n",
    "#     print(\"g val/ eigv: \", min_G_vals)\n",
    "    spin_array_vertex[i] = chis[np.argmin((abs(min_G_vals)))]\n"
   ]
  },
  {
   "cell_type": "markdown",
   "metadata": {},
   "source": [
    "# Plotting"
   ]
  },
  {
   "cell_type": "code",
   "execution_count": 301,
   "metadata": {},
   "outputs": [
    {
     "data": {
      "image/png": "[encoded data removed]",
      "text/plain": [
       "<Figure size 432x288 with 1 Axes>"
      ]
     },
     "metadata": {
      "needs_background": "light"
     },
     "output_type": "display_data"
    }
   ],
   "source": [
    "fig, ax = plt.subplots()\n",
    "\n",
    "x = fa_eff\n",
    "y = matrixG2_spin_polyd_interp(new_x_lil)\n",
    "\n",
    "lc = threshold_plot(ax, x, y,  polyd_spinodal_arr_macro[-1], 'k', 'r')\n",
    "# ax.axhline(.75, color='k', ls='--')\n",
    "lc.set_linewidth(3)"
   ]
  },
  {
   "cell_type": "code",
   "execution_count": 289,
   "metadata": {},
   "outputs": [
    {
     "data": {
      "text/plain": [
       "array([0.01, 0.02, 0.05, 0.1 , 0.3 ])"
      ]
     },
     "execution_count": 289,
     "metadata": {},
     "output_type": "execute_result"
    }
   ],
   "source": [
    "polyd_spinodal_arr_FAS_macro"
   ]
  },
  {
   "cell_type": "code",
   "execution_count": 290,
   "metadata": {},
   "outputs": [
    {
     "data": {
      "text/plain": [
       "array([4.  , 4.  , 4.  , 4.  , 5.56])"
      ]
     },
     "execution_count": 290,
     "metadata": {},
     "output_type": "execute_result"
    }
   ],
   "source": [
    "polyd_spinodal_arr_macro"
   ]
  },
  {
   "cell_type": "code",
   "execution_count": 298,
   "metadata": {},
   "outputs": [
    {
     "data": {
      "text/plain": [
       "array([4.  , 4.  , 4.  , 4.  , 5.56])"
      ]
     },
     "execution_count": 298,
     "metadata": {},
     "output_type": "execute_result"
    }
   ],
   "source": [
    " polyd_spinodal_arr_macro"
   ]
  },
  {
   "cell_type": "code",
   "execution_count": 304,
   "metadata": {
    "scrolled": false
   },
   "outputs": [
    {
     "data": {
      "text/plain": [
       "(0.3, 0.8)"
      ]
     },
     "execution_count": 304,
     "metadata": {},
     "output_type": "execute_result"
    },
    {
     "data": {
      "image/png": "[encoded data removed]",
      "text/plain": [
       "<Figure size 720x576 with 1 Axes>"
      ]
     },
     "metadata": {
      "needs_background": "light"
     },
     "output_type": "display_data"
    }
   ],
   "source": [
    "#FA EFF\n",
    "matrixG2_spin_polyd_interp = interp1d(FA_1_arr, polyd_spinodal_arr, kind=\"quadratic\") \n",
    "# matrixG2_spin_polyd_interp_macro = interp1d(polyd_spinodal_arr_macro_FAS, polyd_spinodal_arr_macro, kind=\"quadratic\") \n",
    "vertex_spin_mono_interp = interp1d(FA_1_arr, spin_array_vertex*N_1, kind=\"quadratic\")\n",
    "vertex_spin_interp_polyd_anneal = interp1d(FA_1_arr, spin_array_vertex_polyd_anneal*N_1, kind=\"quadratic\")\n",
    "\n",
    "# fig, ax = plt.subplots()\n",
    "# fig = plt.figure()\n",
    "plt.figure(figsize=(10,8))\n",
    "\n",
    "font = {'family' : 'serif',\n",
    "        'weight':'normal',\n",
    "        'size': 18}\n",
    "plt.rc('font', **font)\n",
    "ax = plt.subplot(111)\n",
    "\n",
    "new_x = np.arange(0.300, 0.70, 0.001)\n",
    "\n",
    "new_x_lil = np.arange(0.01, 0.70, 0.001)\n",
    "\n",
    "fa_eff = PHI_1 * new_x_lil + PHI_2 * FA_2\n",
    "\n",
    "\n",
    "# ax.plot(fa_eff, matrixG2_spin_polyd_interp(new_x_lil), color = \"blue\", label = \"exact\", zorder = 0)\n",
    "x = fa_eff\n",
    "y = matrixG2_spin_polyd_interp(new_x_lil)\n",
    "\n",
    "lc = threshold_plot(ax, x, y,  polyd_spinodal_arr_macro[-1], 'k', 'r')\n",
    "\n",
    "\n",
    "ax.plot(new_x, vertex_spin_mono_interp(new_x), color = \"black\", linestyle = \"--\", label = \"monodisperse\", alpha = 0.8)\n",
    "# ax.plot(fa_eff, vertex_spin_interp_polyd_anneal(new_x), color = \"orange\",  label = \"annealed\")\n",
    "\n",
    "# ax.plot( PHI_1 * FA_1_arr + PHI_2 * FA_2, polyd_spinodal_arr, color = \"blue\", label = \"exact\")\n",
    "ax.scatter( PHI_1 * polyd_spinodal_arr_FAS_macro + PHI_2 * FA_2, polyd_spinodal_arr_macro, color = \"red\", label = \"macro\")\n",
    "# ax.scatter(FA_1_arr, spin_array_vertex*N_1, color = \"black\", label = \"monodisperse\", zorder = 1)\n",
    "# ax.scatter(PHI_1 * FA_1_arr + PHI_2 * FA_2, spin_array_vertex_polyd_anneal*N_1, color = \"orange\", label = \"annealed\", zorder = 1)\n",
    "\n",
    "# ax.plot( PHI_1 * FA_1_arr + PHI_2 * FA_2, polyd_spinodal_arr, color = \"blue\")#, label = \"exact\")\n",
    "# ax.plot(PHI_1 * FA_1_arr + PHI_2 * FA_2, spin_array_vertex_polyd_anneal*N_1, color = \"orange\")#, label = \"annealed\", zorder = 1)\n",
    "\n",
    "\n",
    "plt.legend()\n",
    "plt.title(\"polydisperse spinodal, N1 = N2 = \" + str(N_1) + \", $\\phi^{(2)} = $\" + str(PHI_2) + \", $f_A^{(2)} = $\" + str(FA_2))\n",
    "ax.set_ylabel(\"$\\chi N$\")\n",
    "ax.set_xlabel(\"$f_A^{\\ eff}$\")\n",
    "\n",
    "# plt.ylim(10, 12.5)\n",
    "plt.xlim(0.3, 0.8)"
   ]
  },
  {
   "cell_type": "code",
   "execution_count": 297,
   "metadata": {
    "scrolled": false
   },
   "outputs": [
    {
     "data": {
      "text/plain": [
       "Text(0.5, 0, '$f_A^{\\\\ eff}$')"
      ]
     },
     "execution_count": 297,
     "metadata": {},
     "output_type": "execute_result"
    },
    {
     "data": {
      "text/plain": [
       "<Figure size 432x288 with 0 Axes>"
      ]
     },
     "metadata": {},
     "output_type": "display_data"
    },
    {
     "data": {
      "image/png": "[encoded data removed]",
      "text/plain": [
       "<Figure size 720x576 with 1 Axes>"
      ]
     },
     "metadata": {
      "needs_background": "light"
     },
     "output_type": "display_data"
    }
   ],
   "source": [
    "#FA EFF\n",
    "matrixG2_spin_polyd_interp = interp1d(FA_1_arr, polyd_spinodal_arr, kind=\"quadratic\") \n",
    "# matrixG2_spin_polyd_interp_macro = interp1d(polyd_spinodal_arr_macro_FAS, polyd_spinodal_arr_macro, kind=\"quadratic\") \n",
    "vertex_spin_mono_interp = interp1d(FA_1_arr, spin_array_vertex*N_1, kind=\"quadratic\")\n",
    "vertex_spin_interp_polyd_anneal = interp1d(FA_1_arr, spin_array_vertex_polyd_anneal*N_1, kind=\"quadratic\")\n",
    "\n",
    "fig = plt.figure()\n",
    "plt.figure(figsize=(10,8))\n",
    "\n",
    "font = {'family' : 'serif',\n",
    "        'weight':'normal',\n",
    "        'size': 18}\n",
    "plt.rc('font', **font)\n",
    "ax = plt.subplot(111)\n",
    "\n",
    "new_x = np.arange(0.300, 0.70, 0.001)\n",
    "\n",
    "new_x_lil = np.arange(0.01, 0.70, 0.001)\n",
    "\n",
    "fa_eff = PHI_1 * new_x_lil + PHI_2 * FA_2\n",
    "ax.plot(fa_eff, matrixG2_spin_polyd_interp(new_x_lil), color = \"blue\", label = \"exact\", zorder = 0)\n",
    "ax.plot(new_x, vertex_spin_mono_interp(new_x), color = \"black\", linestyle = \"--\", label = \"monodisperse\", alpha = 0.8)\n",
    "# ax.plot(fa_eff, vertex_spin_interp_polyd_anneal(new_x), color = \"orange\",  label = \"annealed\")\n",
    "\n",
    "# ax.plot( PHI_1 * FA_1_arr + PHI_2 * FA_2, polyd_spinodal_arr, color = \"blue\", label = \"exact\")\n",
    "ax.scatter( PHI_1 * polyd_spinodal_arr_FAS_macro + PHI_2 * FA_2, polyd_spinodal_arr_macro, color = \"red\", label = \"macro\")\n",
    "# ax.scatter(FA_1_arr, spin_array_vertex*N_1, color = \"black\", label = \"monodisperse\", zorder = 1)\n",
    "# ax.scatter(PHI_1 * FA_1_arr + PHI_2 * FA_2, spin_array_vertex_polyd_anneal*N_1, color = \"orange\", label = \"annealed\", zorder = 1)\n",
    "\n",
    "# ax.plot( PHI_1 * FA_1_arr + PHI_2 * FA_2, polyd_spinodal_arr, color = \"blue\")#, label = \"exact\")\n",
    "# ax.plot(PHI_1 * FA_1_arr + PHI_2 * FA_2, spin_array_vertex_polyd_anneal*N_1, color = \"orange\")#, label = \"annealed\", zorder = 1)\n",
    "\n",
    "\n",
    "plt.legend()\n",
    "plt.title(\"polydisperse spinodal, N1 = N2 = \" + str(N_1) + \", $\\phi^{(2)} = $\" + str(PHI_2) + \", $f_A^{(2)} = $\" + str(FA_2))\n",
    "ax.set_ylabel(\"$\\chi N$\")\n",
    "ax.set_xlabel(\"$f_A^{\\ eff}$\")\n",
    "\n",
    "# plt.ylim(10, 12.5)\n",
    "# plt.xlim(0.3, 0.5)"
   ]
  },
  {
   "cell_type": "code",
   "execution_count": 264,
   "metadata": {},
   "outputs": [
    {
     "data": {
      "text/plain": [
       "array([ 5.56,  7.13,  7.99,  8.7 ,  9.42, 10.61, 12.5 ])"
      ]
     },
     "execution_count": 264,
     "metadata": {},
     "output_type": "execute_result"
    }
   ],
   "source": [
    "polyd_spinodal_ar"
   ]
  },
  {
   "cell_type": "code",
   "execution_count": null,
   "metadata": {
    "scrolled": false
   },
   "outputs": [],
   "source": [
    "#F_A 1\n",
    "matrixG2_spin_polyd_interp = interp1d(FA_1_arr, polyd_spinodal_arr, kind=\"quadratic\") \n",
    "vertex_spin_mono_interp = interp1d(FA_1_arr, spin_array_vertex*N_1, kind=\"quadratic\")\n",
    "# vertex_spin_interp_polyd_anneal = interp1d(FA_1_arr, spin_array_vertex_polyd_anneal*N_1, kind=\"quadratic\")\n",
    "\n",
    "fig = plt.figure()\n",
    "plt.figure(figsize=(10,8))\n",
    "\n",
    "font = {'family' : 'serif',\n",
    "        'weight':'normal',\n",
    "        'size': 18}\n",
    "plt.rc('font', **font)\n",
    "ax = plt.subplot(111)\n",
    "\n",
    "new_x = np.arange(0.300, 0.50, 0.001)\n",
    "\n",
    "ax.plot(new_x, matrixG2_spin_polyd_interp(new_x), color = \"blue\", label = \"exact\", zorder = 0)\n",
    "ax.plot(new_x, vertex_spin_mono_interp(new_x), color = \"black\", linestyle = \"--\", label = \"monodisperse\", alpha = 0.8)\n",
    "# ax.plot(fa_eff, vertex_spin_interp_polyd_anneal(new_x), color = \"orange\",  label = \"annealed\")\n",
    "\n",
    "# ax.scatter(FA_1_arr, polyd_spinodal_arr, color = \"blue\", label = \"exact\")\n",
    "# ax.scatter(FA_1_arr, spin_array_vertex*N_1, color = \"black\", label = \"monodisperse\", zorder = 1)\n",
    "# ax.scatter(PHI_1 * FA_1_arr + PHI_2 * FA_2, spin_array_vertex_polyd_anneal*N_1, color = \"orange\", label = \"annealed\", zorder = 1)\n",
    "\n",
    "plt.legend()\n",
    "plt.title(\"polydisperse spinodal, N1 = N2 = \" + str(N_1) + \", $\\phi^{(2)} = $\" + str(PHI_2) + \", $f_A^{(2)} = $\" + str(FA_2))\n",
    "ax.set_ylabel(\"$\\chi N$\")\n",
    "ax.set_xlabel(\"$f_A^{(1)}$\")\n",
    "\n",
    "# plt.ylim(10, 13)\n",
    "# plt.xlim(0.3, 0.5)"
   ]
  },
  {
   "cell_type": "code",
   "execution_count": null,
   "metadata": {},
   "outputs": [],
   "source": []
  },
  {
   "cell_type": "code",
   "execution_count": null,
   "metadata": {},
   "outputs": [],
   "source": []
  },
  {
   "cell_type": "code",
   "execution_count": null,
   "metadata": {},
   "outputs": [],
   "source": []
  },
  {
   "cell_type": "code",
   "execution_count": null,
   "metadata": {},
   "outputs": [],
   "source": []
  },
  {
   "cell_type": "code",
   "execution_count": null,
   "metadata": {},
   "outputs": [],
   "source": []
  },
  {
   "cell_type": "code",
   "execution_count": null,
   "metadata": {},
   "outputs": [],
   "source": [
    "#old cells"
   ]
  },
  {
   "cell_type": "code",
   "execution_count": null,
   "metadata": {},
   "outputs": [],
   "source": [
    "%%time\n",
    "#single component G2 matrix stability analysis. ISSUE: needed to apply incompressibility\n",
    "\n",
    "N_1 = 10.\n",
    "\n",
    "k0 = 1e-2\n",
    "kf = 1e2\n",
    "nk = 50\n",
    "k_vec = np.logspace(np.log10(k0), np.log10(kf), nk)\n",
    "\n",
    "FA_arr = np.arange(0.3, 0.71, 0.1)\n",
    "chi_range = np.arange(8, 13, .01)/N_1\n",
    "\n",
    "spinodal_arr = np.array([]) \n",
    "\n",
    "for FA_1 in FA_arr:\n",
    "    s2_1 = wlc_copoly.s2_wlc_diblock(k_vec, N_1, FA_1, dimensions=3, alpha_max=25)\n",
    "\n",
    "    s2_AA_1 = s2_1[0]\n",
    "    s2_AB_1 = s2_1[1]\n",
    "    s2_BB_1 = s2_1[2]\n",
    "    for chi in chi_range:\n",
    "        chi_spin_bool = False #means spinodal has not been reached\n",
    "        for k_ind in range(len(k_vec)):\n",
    "            det_1 = s2_AA_1[k_ind] * s2_BB_1[k_ind] - s2_AB_1[k_ind]**2 #determinant of s2 matrix\n",
    "            prefactor_1 = 1/(det_1*2)[0] #1/2 from taylor expansion, which remains after performing gaussian integral\n",
    "\n",
    "            s2inv_AA_1 = s2_1[0][k_ind][0]*prefactor_1\n",
    "            s2inv_AB_1 = s2_1[1][k_ind][0]*prefactor_1\n",
    "            s2inv_BB_1 = s2_1[2][k_ind][0]*prefactor_1\n",
    "\n",
    "            G2 = (1/N_1)*np.array([[s2inv_BB_1, -s2inv_AB_1 + 0.5*chi*N_1], [-s2inv_AB_1 + 0.5*chi*N_1, s2inv_AA_1]]) #single poly type\n",
    "            \n",
    "            eigvalues,eigvectors = np.linalg.eigh(G2)\n",
    "            min_eig = np.min(eigvalues)\n",
    "            if min_eig <= 0:\n",
    "                chi_spin_bool = True\n",
    "                break\n",
    "#             if eigvalues[0] < 0 and eigvalues[1] < 0:\n",
    "#                 chi_spin_bool = True\n",
    "#                 break\n",
    "    #         determ = np.linalg.det(G2)\n",
    "    #         if determ <= 0 :\n",
    "\n",
    "    #             chi_spin_bool = True\n",
    "    #             break\n",
    "        if chi_spin_bool == True:\n",
    "            spinodal_arr = np.append(spinodal_arr,  chi*N_1)\n",
    "            break"
   ]
  },
  {
   "cell_type": "code",
   "execution_count": null,
   "metadata": {},
   "outputs": [],
   "source": [
    "%%time\n",
    "#binary mix- incompressibility applied, 4x4 -> 3x3. ASSUMING SAME LENGTH. NON vectorized\n",
    "#TODO- make for a range of F_A\n",
    "N_1 = 10.\n",
    "# FA_1 = 0.7\n",
    "FA_1_arr = np.arange(0.3, 0.71, 0.1)\n",
    "PHI_1 = 0.99999\n",
    "\n",
    "N_2 = N_1\n",
    "FA_2 = 0.7\n",
    "PHI_2 = 0.00001\n",
    "\n",
    "k0 = 1e-2\n",
    "kf = 1e2\n",
    "nk = 50\n",
    "\n",
    "chi_range = np.arange(5.5, 20, 0.001)/N_1\n",
    "\n",
    "k_vec = np.logspace(np.log10(k0), np.log10(kf), nk)\n",
    "\n",
    "polyd_spinodal_arr = np.array([]) \n",
    "\n",
    "for FA_1 in FA_1_arr:\n",
    "    s2_1 = wlc_copoly.s2_wlc_diblock(k_vec, N_1, FA_1, dimensions=3, alpha_max=25)\n",
    "\n",
    "    s2_AA_1 = s2_1[0]\n",
    "    s2_AB_1 = s2_1[1]\n",
    "    s2_BB_1 = s2_1[2]\n",
    "\n",
    "    s2_2 = wlc_copoly.s2_wlc_diblock(k_vec, N_2, FA_2, dimensions=3, alpha_max=25)\n",
    "\n",
    "    s2_AA_2 = s2_2[0]\n",
    "    s2_AB_2 = s2_2[1]\n",
    "    s2_BB_2 = s2_2[2]\n",
    "\n",
    "\n",
    "    for chi in chi_range:\n",
    "    #     print(\"chi: \", chi)\n",
    "        chi_spin_bool = False #means spinodal has not been reached\n",
    "        chiN = chi * N\n",
    "        for k_ind in range(len(k_vec)):\n",
    "            det_1 = s2_AA_1[k_ind] * s2_BB_1[k_ind] - s2_AB_1[k_ind]**2\n",
    "            prefactor_1 = 1/(det_1 * 2 * PHI_1)[0]\n",
    "\n",
    "            det_2 = s2_AA_2[k_ind] * s2_BB_2[k_ind] - s2_AB_2[k_ind]**2\n",
    "            prefactor_2 = 1/(det_2 * 2 * PHI_2)[0]\n",
    "\n",
    "            s2inv_AA_1 = s2_1[0][k_ind][0]*prefactor_1\n",
    "            s2inv_AB_1 = s2_1[1][k_ind][0]*prefactor_1\n",
    "            s2inv_BB_1 = s2_1[2][k_ind][0]*prefactor_1\n",
    "\n",
    "            s2inv_AA_2 = s2_2[0][k_ind][0]*prefactor_2\n",
    "            s2inv_AB_2 = s2_2[1][k_ind][0]*prefactor_2\n",
    "            s2inv_BB_2 = s2_2[2][k_ind][0]*prefactor_2\n",
    "\n",
    "            G2 = [[s2inv_BB_1 - (chi*N_1) + s2inv_AA_2, -s2inv_AB_1 + s2inv_AA_2, -(chi*N_1) + s2inv_AB_2 + s2inv_AA_2], \\\n",
    "                  [-s2inv_AB_1 + s2inv_AA_2, s2inv_AA_1 + s2inv_AA_2, s2inv_AB_2 + s2inv_AA_2], \\\n",
    "                  [-(chi*N_1) + s2inv_AB_2 + s2inv_AA_2, s2inv_AB_2 + s2inv_AA_2, s2inv_BB_2 + 2*s2inv_AB_2 - (chi*N_1) + s2inv_AA_2]]\n",
    "\n",
    "            eigvalues,eigvectors = np.linalg.eigh(G2)\n",
    "            min_eig = np.min(eigvalues)\n",
    "            if min_eig <= 0:\n",
    "                chi_spin_bool = True\n",
    "                break\n",
    "        if chi_spin_bool == True:\n",
    "            polyd_spinodal_arr = np.append(polyd_spinodal_arr, chi*N_1)\n",
    "            break"
   ]
  },
  {
   "cell_type": "code",
   "execution_count": null,
   "metadata": {},
   "outputs": [],
   "source": [
    "%%time\n",
    "#binary mix- Vectorized, ASSUMING SAME LENGTH but can handle different lengths- dont know how to deal with XN y-axis\n",
    "#TODO- make for a range of F_A\n",
    "N_1 = 10.\n",
    "# FA_1 = 0.7\n",
    "FA_1_arr = np.arange(0.3, 0.71, 0.1)\n",
    "PHI_1 = 0.99999\n",
    "\n",
    "N_2 = N_1\n",
    "FA_2 = 0.7\n",
    "PHI_2 = 0.00001\n",
    "\n",
    "k0 = 1e-2\n",
    "kf = 1e2\n",
    "nk = 50\n",
    "\n",
    "# chi_range = np.arange(5.5, 20, 0.001)/N_1\n",
    "\n",
    "chi_range = np.arange(7, 15, 0.01)/N_1\n",
    "\n",
    "k_vec = np.logspace(np.log10(k0), np.log10(kf), nk)\n",
    "\n",
    "polyd_spinodal_arr = np.array([]) \n",
    "\n",
    "for FA_1 in FA_1_arr:\n",
    "    s2_1 = wlc_copoly.s2_wlc_diblock(k_vec, N_1, FA_1, dimensions=3, alpha_max=25)\n",
    "\n",
    "    s2_AA_1 = s2_1[0]\n",
    "    s2_AB_1 = s2_1[1]\n",
    "    s2_BB_1 = s2_1[2]\n",
    "\n",
    "    s2_2 = wlc_copoly.s2_wlc_diblock(k_vec, N_2, FA_2, dimensions=3, alpha_max=25)\n",
    "\n",
    "    s2_AA_2 = s2_2[0]\n",
    "    s2_AB_2 = s2_2[1]\n",
    "    s2_BB_2 = s2_2[2]\n",
    "\n",
    "    for chi in chi_range:\n",
    "    #     print(\"chi: \", chi)\n",
    "        chi_spin_bool = False #means spinodal has not been reached\n",
    "        chiN = chi * N\n",
    "        \n",
    "        det_1_arr = s2_AA_1 * s2_BB_1 - s2_AB_1**2\n",
    "        prefactor_1_arr = 1/(det_1_arr*2*PHI_1)\n",
    "        \n",
    "        det_2_arr = s2_AA_2 * s2_BB_2 - s2_AB_2**2\n",
    "        prefactor_2_arr = 1/(det_2_arr*2*PHI_2)\n",
    "        \n",
    "        s2inv_AA_1_arr = s2_AA_1*prefactor_1_arr/N_1\n",
    "        s2inv_AB_1_arr = s2_AB_1*prefactor_1_arr/N_1\n",
    "        s2inv_BB_1_arr = s2_BB_1*prefactor_1_arr/N_1\n",
    "        \n",
    "        s2inv_AA_2_arr = s2_AA_2*prefactor_2_arr/N_2\n",
    "        s2inv_AB_2_arr = s2_AB_2*prefactor_2_arr/N_2\n",
    "        s2inv_BB_2_arr = s2_BB_2*prefactor_2_arr/N_2\n",
    "        \n",
    "        #matrix indices\n",
    "        \n",
    "        zero_zero = s2inv_BB_1_arr - (chi) + s2inv_AA_2_arr\n",
    "        zero_one = -s2inv_AB_1_arr + s2inv_AA_2_arr\n",
    "        zero_two = -(chi) + s2inv_AB_2_arr + s2inv_AA_2_arr\n",
    "        \n",
    "        one_zero = zero_one\n",
    "        one_one = s2inv_AA_1_arr + s2inv_AA_2_arr\n",
    "        one_two = s2inv_AB_2_arr + s2inv_AA_2_arr\n",
    "        \n",
    "        two_zero = zero_two\n",
    "        two_one = one_two\n",
    "        two_two = s2inv_BB_2_arr + 2*s2inv_AB_2_arr - (chi) + s2inv_AA_2_arr\n",
    "        \n",
    "        G2 = np.array([zero_zero, zero_one, zero_two, one_zero, one_one, one_two, two_zero, two_one, two_two]).T.reshape(len(k_vec), 3, 3)\n",
    "        eigvalues,eigvectors = np.linalg.eigh(G2)\n",
    "        eigvalues = np.concatenate(eigvalues)\n",
    "        min_eig = np.min(eigvalues)\n",
    "        if min_eig <= 0:\n",
    "            chi_spin_bool = True\n",
    "            break\n",
    "    if chi_spin_bool == True:\n",
    "        polyd_spinodal_arr = np.append(polyd_spinodal_arr, chi*N_1)\n",
    "#         for k_ind in range(len(k_vec)):\n",
    "#             det_1 = s2_AA_1[k_ind] * s2_BB_1[k_ind] - s2_AB_1[k_ind]**2\n",
    "#             prefactor_1 = 1/(det_1 * 2 * PHI_1)[0]\n",
    "\n",
    "#             det_2 = s2_AA_2[k_ind] * s2_BB_2[k_ind] - s2_AB_2[k_ind]**2\n",
    "#             prefactor_2 = 1/(det_2 * 2 * PHI_2)[0]\n",
    "\n",
    "#             s2inv_AA_1 = s2_1[0][k_ind][0]*prefactor_1\n",
    "#             s2inv_AB_1 = s2_1[1][k_ind][0]*prefactor_1\n",
    "#             s2inv_BB_1 = s2_1[2][k_ind][0]*prefactor_1\n",
    "\n",
    "#             s2inv_AA_2 = s2_2[0][k_ind][0]*prefactor_2\n",
    "#             s2inv_AB_2 = s2_2[1][k_ind][0]*prefactor_2\n",
    "#             s2inv_BB_2 = s2_2[2][k_ind][0]*prefactor_2\n",
    "\n",
    "#             G2 = [[s2inv_BB_1 - (chi*N_1) + s2inv_AA_2, -s2inv_AB_1 + s2inv_AA_2, -(chi*N_1) + s2inv_AB_2 + s2inv_AA_2], \\\n",
    "#                   [-s2inv_AB_1 + s2inv_AA_2, s2inv_AA_1 + s2inv_AA_2, s2inv_AB_2 + s2inv_AA_2], \\\n",
    "#                   [-(chi*N_1) + s2inv_AB_2 + s2inv_AA_2, s2inv_AB_2 + s2inv_AA_2, s2inv_BB_2 + 2*s2inv_AB_2 - (chi*N_1) + s2inv_AA_2]]\n",
    "\n",
    "#             eigvalues,eigvectors = np.linalg.eigh(G2)\n",
    "#             min_eig = np.min(eigvalues)\n",
    "#             if min_eig <= 0:\n",
    "#                 chi_spin_bool = True\n",
    "#                 break\n",
    "#         if chi_spin_bool == True:\n",
    "#             polyd_spinodal_arr = np.append(polyd_spinodal_arr, chi*N_1)\n",
    "#             break\n",
    "#NON VECT- 2min 52 sec\n",
    "# VECT - 1min 15 sec\n",
    "\n",
    "polyd_spinodal_arr"
   ]
  }
 ],
 "metadata": {
  "kernelspec": {
   "display_name": "Python 3",
   "language": "python",
   "name": "python3"
  },
  "language_info": {
   "codemirror_mode": {
    "name": "ipython",
    "version": 3
   },
   "file_extension": ".py",
   "mimetype": "text/x-python",
   "name": "python",
   "nbconvert_exporter": "python",
   "pygments_lexer": "ipython3",
   "version": "3.8.5"
  }
 },
 "nbformat": 4,
 "nbformat_minor": 4
}
