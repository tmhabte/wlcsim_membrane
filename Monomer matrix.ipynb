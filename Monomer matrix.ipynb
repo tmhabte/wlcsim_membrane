{
 "cells": [
  {
   "cell_type": "code",
   "execution_count": 3,
   "metadata": {},
   "outputs": [],
   "source": [
    "import numpy as np\n",
    "import wlcstat.wlc_copoly as wlc_copoly\n",
    "import wlcstat.wlcstruc as wlcstruc\n",
    "\n",
    "import sys\n",
    "sys.path.append(\"./vertex_subroutines\")\n",
    "from GAMcalc import *  # Code for calculating vertex functions\n",
    "import propagator  # propagator object used to store pre-calculated values\n",
    "import wignerD as wd # wigner D object used to store pre-calculated values\n",
    "\n",
    "import matplotlib.pyplot as plt\n",
    "from matplotlib.collections import LineCollection\n",
    "from matplotlib.colors import ListedColormap, BoundaryNorm\n",
    "\n",
    "pset=propagator.prop_set(nlam=10) "
   ]
  },
  {
   "cell_type": "markdown",
   "metadata": {},
   "source": [
    "# $S^{(2)}$"
   ]
  },
  {
   "cell_type": "code",
   "execution_count": 15,
   "metadata": {},
   "outputs": [],
   "source": [
    "def calc_monomer_matrix(poly_mat, dens):\n",
    "    # calculates the AA monomer identity cross correlation matrix\n",
    "    # assumes all polymers same length/ # of monomers, equal volume fraction of each\n",
    "    \n",
    "    #polymat - each row is a polymer\n",
    "    #dens is an array where each entry is rel vol frac of correponding polymer\n",
    "    if (np.sum(dens) != 1):\n",
    "        raise Exception(\"polymer volumer fractions do not sum to one\")\n",
    "    if len(np.shape(poly_mat)) == 1: #single poly\n",
    "        n_p = 1\n",
    "        M = len(poly_mat)\n",
    "        alph1 =np.zeros(M)\n",
    "        alph2 =np.zeros(M)\n",
    "        sig1 = 1*(poly_mat == alph1)\n",
    "        sig2 = 1*(poly_mat == alph2)\n",
    "        M2_AA = np.outer(sig1, sig2)\n",
    "        return M2_AA\n",
    "    \n",
    "    n_p = poly_mat.shape[0]\n",
    "    M = poly_mat.shape[1]\n",
    "    alph1 =np.zeros((n_p, M))\n",
    "    alph2 =np.zeros((n_p, M))\n",
    "    \n",
    "    #extend dens into n_pxM matrix\n",
    "    poly_weights = (np.ones((n_p, M)).T * dens).T\n",
    "    \n",
    "    #multiply sigams by density of each polymer\n",
    "    sigma1 = 1*((poly_mat == alph1))#.sum(axis = 0) #sigma. could multiply each\n",
    "    sigma2 = 1*((poly_mat == alph2))#.sum(axis = 0)\n",
    "\n",
    "    #need to do each row outer product with corresponding row, get n_p MxM matrices, then sum the results\n",
    "    prods = np.einsum('bi,bo->bio', sigma1*poly_weights, sigma2) # performing row wise cross product (each poly contribution)\n",
    "    M2_AA = np.sum(prods, axis = 0)#           ^^^^ averaging each contribution\n",
    "    return M2_AA"
   ]
  },
  {
   "cell_type": "code",
   "execution_count": 14,
   "metadata": {},
   "outputs": [],
   "source": [
    "def calc_sf2(poly_mat, dens, N_m=1, b=1, k_vec = np.logspace(-2, 2, 50)):\n",
    "    #calculates all variations of the S(2) AA AB BB for a range of k\n",
    "    M2_AA = calc_monomer_matrix(poly_mat, dens)\n",
    "    M = np.shape(M2_AA)[0]\n",
    "    nk = len(k_vec)\n",
    "\n",
    "    one = np.ones((M,M))\n",
    "    grid = np.indices((M, M))\n",
    "    S2_AA_arr = np.zeros(nk)\n",
    "    S2_AB_arr_fast = np.zeros(nk)\n",
    "    S2_BB_arr_fast = np.zeros(nk)\n",
    "\n",
    "\n",
    "    H_AA = np.diag(M2_AA)\n",
    "    H_AA_mat = (H_AA * one).T\n",
    "    for i, k in enumerate(k_vec):\n",
    "        C = np.zeros((M, M))\n",
    "        x_m = (1/6) * N_m * b**2 * k**2\n",
    "\n",
    "        #j1 = j2\n",
    "        debye = (2/(x_m**2)) * (x_m + np.exp(-x_m) - 1) * (1/M**2)\n",
    "\n",
    "        np.fill_diagonal(C, np.diag(one * debye))\n",
    "\n",
    "        integral = (1/(x_m**2)) * (np.exp(x_m) + np.exp(-x_m) - 2) #for off-diagonal terms\n",
    "\n",
    "        #j1 > j2\n",
    "        j1minusj2_mat = grid[0] - grid[1]\n",
    "        C += np.tril(one * np.exp(-x_m*(j1minusj2_mat)) * integral * (1/M**2), k = -1)\n",
    "\n",
    "        #j2 > j1\n",
    "        j2minusj1_mat = -1 * j1minusj2_mat\n",
    "        C += np.triu(one * np.exp(-x_m*(j2minusj1_mat)) * integral * (1/M**2), k = 1) \n",
    "        \n",
    "        \n",
    "        S2_AA_arr[i] = np.sum(C * M2_AA)\n",
    "\n",
    "\n",
    "        C_AB = H_AA_mat * C\n",
    "        S2_AB_arr_fast[i] = np.sum(C_AB) - S2_AA_arr[i]\n",
    "        S2_BB_arr_fast[i] = np.sum(C) + S2_AA_arr[i] - 2*np.sum(C_AB)\n",
    "    return (S2_AA_arr, S2_AB_arr_fast, S2_BB_arr_fast)"
   ]
  },
  {
   "cell_type": "code",
   "execution_count": 18,
   "metadata": {},
   "outputs": [],
   "source": [
    "def calc_sf2_inv(poly_mat, dens, N_m=1, b=1, k_vec = np.logspace(-2, 2, 50)):\n",
    "    (S2_AA_arr, S2_AB_arr, S2_BB_arr) = calc_sf2(poly_mat, dens, N_m, b, k_vec)\n",
    "    det = S2_AA_arr * S2_BB_arr - S2_AB_arr**2\n",
    "    S2_AA_inv = S2_BB_arr * (1/det)\n",
    "    S2_AB_inv = -S2_AB_arr * (1/det)\n",
    "    S2_BB_inv = S2_AA_arr * (1/det)\n",
    "    return (S2_AA_inv, S2_AB_inv, S2_BB_inv)"
   ]
  },
  {
   "cell_type": "code",
   "execution_count": 19,
   "metadata": {},
   "outputs": [],
   "source": [
    "def find_kstar(poly_mat, dens, N_m=1, b=1, k_vec = np.logspace(-2, 2, 50)):\n",
    "    (S2_AA_inv, S2_AB_inv, S2_BB_inv) = calc_sf2_inv(poly_mat, dens, N_m, b, k_vec)\n",
    "    G2 = 0.5*(S2_AA_inv - 2* S2_AB_inv + S2_BB_inv) # chi = 0\n",
    "\n",
    "    # eigvalues,eigvectors = np.linalg.eigh(G2)\n",
    "    eigvalues_lst = G2\n",
    "    min_eig = np.min(eigvalues_lst[~np.isnan(eigvalues_lst)])\n",
    "\n",
    "    k_star = k_vec[np.where(eigvalues_lst==min_eig)]#[0]][0] \n",
    "    return k_star"
   ]
  },
  {
   "cell_type": "markdown",
   "metadata": {},
   "source": [
    "### Identical homopolymers"
   ]
  },
  {
   "cell_type": "code",
   "execution_count": 4,
   "metadata": {},
   "outputs": [
    {
     "name": "stdout",
     "output_type": "stream",
     "text": [
      "Wall time: 22.1 ms\n"
     ]
    },
    {
     "name": "stderr",
     "output_type": "stream",
     "text": [
      "<ipython-input-3-6279301b2a2a>:29: RuntimeWarning: overflow encountered in multiply\n",
      "  C += np.tril(one * np.exp(-x_m*(j1minusj2_mat)) * integral * (1/M**2), k = -1)\n",
      "<ipython-input-3-6279301b2a2a>:33: RuntimeWarning: overflow encountered in multiply\n",
      "  C += np.triu(one * np.exp(-x_m*(j2minusj1_mat)) * integral * (1/M**2), k = 1)\n",
      "<ipython-input-3-6279301b2a2a>:29: RuntimeWarning: overflow encountered in exp\n",
      "  C += np.tril(one * np.exp(-x_m*(j1minusj2_mat)) * integral * (1/M**2), k = -1)\n",
      "<ipython-input-3-6279301b2a2a>:33: RuntimeWarning: overflow encountered in exp\n",
      "  C += np.triu(one * np.exp(-x_m*(j2minusj1_mat)) * integral * (1/M**2), k = 1)\n",
      "<ipython-input-3-6279301b2a2a>:25: RuntimeWarning: overflow encountered in exp\n",
      "  integral = (1/(x_m**2)) * (np.exp(x_m) + np.exp(-x_m) - 2) #for off-diagonal terms\n",
      "<ipython-input-3-6279301b2a2a>:29: RuntimeWarning: invalid value encountered in multiply\n",
      "  C += np.tril(one * np.exp(-x_m*(j1minusj2_mat)) * integral * (1/M**2), k = -1)\n",
      "<ipython-input-3-6279301b2a2a>:33: RuntimeWarning: invalid value encountered in multiply\n",
      "  C += np.triu(one * np.exp(-x_m*(j2minusj1_mat)) * integral * (1/M**2), k = 1)\n"
     ]
    }
   ],
   "source": [
    "%%time\n",
    "poly_mat = np.array([[0,0,0],[0,0,0]]) # each row is a polymer\n",
    "dens = np.array([0.5, 0.5])\n",
    "N_m = 1\n",
    "b = 1\n",
    "\n",
    "M = poly_mat.shape[1]\n",
    "k_vec = np.logspace(-2, 2, 50)\n",
    "\n",
    "(S2_AA_arr, S2_AB_arr_fast, S2_BB_arr_fast) = calc_sf2(poly_mat, dens, N_m, b, k_vec)"
   ]
  },
  {
   "cell_type": "code",
   "execution_count": 5,
   "metadata": {},
   "outputs": [],
   "source": [
    "N = N_m * M\n",
    "\n",
    "x = (1/6) * N * b**2 * (k_vec**2)\n",
    "debye_arr = (2/(x**2)) * (x + np.exp(-x) - 1) #* (1/N**2)"
   ]
  },
  {
   "cell_type": "code",
   "execution_count": 6,
   "metadata": {},
   "outputs": [
    {
     "data": {
      "image/png": "[encoded data removed]",
      "text/plain": [
       "<Figure size 720x576 with 1 Axes>"
      ]
     },
     "metadata": {
      "needs_background": "light"
     },
     "output_type": "display_data"
    }
   ],
   "source": [
    "plt.figure(figsize=(10,8))\n",
    "font = {'family' : 'serif',\n",
    "        'weight':'normal',\n",
    "        'size': 18}\n",
    "plt.rc('font', **font)\n",
    "\n",
    "plt.plot(k_vec, S2_AA_arr, label = \"same homos\")\n",
    "# plt.plot(k_vec, s2AA_stat, label = \"wlcstat N = \" + str(N))\n",
    "plt.plot(k_vec, debye_arr, label = \"debye\", linestyle = \"--\")\n",
    "\n",
    "plt.xscale('log')\n",
    "plt.yscale('log')\n",
    "\n",
    "plt.title(\"S2 AA\")\n",
    "plt.xlabel(r'$K$')\n",
    "plt.ylabel(r'Structure Factor $S_{2}(K;N)$')\n",
    "plt.xlim((1e-2, 1e2))\n",
    "plt.tight_layout()\n",
    "plt.legend()\n",
    "plt.show()"
   ]
  },
  {
   "cell_type": "markdown",
   "metadata": {},
   "source": [
    "### Monodisperse diblock "
   ]
  },
  {
   "cell_type": "code",
   "execution_count": 20,
   "metadata": {
    "scrolled": true
   },
   "outputs": [
    {
     "name": "stdout",
     "output_type": "stream",
     "text": [
      "Wall time: 31.3 ms\n"
     ]
    },
    {
     "name": "stderr",
     "output_type": "stream",
     "text": [
      "<ipython-input-14-6279301b2a2a>:29: RuntimeWarning: overflow encountered in multiply\n",
      "  C += np.tril(one * np.exp(-x_m*(j1minusj2_mat)) * integral * (1/M**2), k = -1)\n",
      "<ipython-input-14-6279301b2a2a>:33: RuntimeWarning: overflow encountered in multiply\n",
      "  C += np.triu(one * np.exp(-x_m*(j2minusj1_mat)) * integral * (1/M**2), k = 1)\n",
      "<ipython-input-14-6279301b2a2a>:25: RuntimeWarning: overflow encountered in exp\n",
      "  integral = (1/(x_m**2)) * (np.exp(x_m) + np.exp(-x_m) - 2) #for off-diagonal terms\n",
      "<ipython-input-14-6279301b2a2a>:29: RuntimeWarning: overflow encountered in exp\n",
      "  C += np.tril(one * np.exp(-x_m*(j1minusj2_mat)) * integral * (1/M**2), k = -1)\n",
      "<ipython-input-14-6279301b2a2a>:29: RuntimeWarning: invalid value encountered in multiply\n",
      "  C += np.tril(one * np.exp(-x_m*(j1minusj2_mat)) * integral * (1/M**2), k = -1)\n",
      "<ipython-input-14-6279301b2a2a>:33: RuntimeWarning: overflow encountered in exp\n",
      "  C += np.triu(one * np.exp(-x_m*(j2minusj1_mat)) * integral * (1/M**2), k = 1)\n",
      "<ipython-input-14-6279301b2a2a>:33: RuntimeWarning: invalid value encountered in multiply\n",
      "  C += np.triu(one * np.exp(-x_m*(j2minusj1_mat)) * integral * (1/M**2), k = 1)\n"
     ]
    }
   ],
   "source": [
    "%%time\n",
    "poly_mat = np.array([[0,1],[0,1]]) # each row is a polymer\n",
    "dens = np.array([0.5, 0.5])\n",
    "N_m = 1\n",
    "b = 1\n",
    "\n",
    "M = poly_mat.shape[1]\n",
    "k_vec = np.logspace(-2, 2, 50)\n",
    "\n",
    "(S2_AA_arr, S2_AB_arr_fast, S2_BB_arr_fast) = calc_sf2(poly_mat, dens, N_m, b, k_vec)"
   ]
  },
  {
   "cell_type": "code",
   "execution_count": 21,
   "metadata": {
    "scrolled": false
   },
   "outputs": [
    {
     "data": {
      "image/png": "[encoded data removed]",
      "text/plain": [
       "<Figure size 720x576 with 1 Axes>"
      ]
     },
     "metadata": {
      "needs_background": "light"
     },
     "output_type": "display_data"
    }
   ],
   "source": [
    "plt.figure(figsize=(10,8))\n",
    "font = {'family' : 'serif',\n",
    "        'weight':'normal',\n",
    "        'size': 18}\n",
    "plt.rc('font', **font)\n",
    "\n",
    "plt.plot(k_vec, S2_AA_arr, label = \"AA\")\n",
    "plt.plot(k_vec, S2_BB_arr_fast, label = \"BB\", linestyle = \"--\")\n",
    "plt.plot(k_vec, S2_AB_arr_fast, label = \"AB\")\n",
    "\n",
    "\n",
    "# plt.plot(k_vec, S2_BB_arr, label = \"slow\", linestyle = \"--\")\n",
    "# plt.plot(k_vec, s2AA_stat, label = \"wlcstat N = \" + str(N))\n",
    "# plt.plot(k_vec, debye_arr, label = \"debye homo N = \" + str(N), linestyle = \"--\")\n",
    "\n",
    "plt.xscale('log')\n",
    "plt.yscale('log')\n",
    "\n",
    "# plt.title(\"S2\")\n",
    "plt.xlabel(r'$K$')\n",
    "plt.ylabel(r'Structure Factor $S_{2}(K;N)$')\n",
    "plt.xlim((1e-2, 1e2))\n",
    "plt.tight_layout()\n",
    "plt.legend()\n",
    "plt.show()"
   ]
  },
  {
   "cell_type": "markdown",
   "metadata": {},
   "source": [
    "#### stability analysis"
   ]
  },
  {
   "cell_type": "code",
   "execution_count": 22,
   "metadata": {},
   "outputs": [
    {
     "name": "stderr",
     "output_type": "stream",
     "text": [
      "<ipython-input-14-6279301b2a2a>:29: RuntimeWarning: overflow encountered in multiply\n",
      "  C += np.tril(one * np.exp(-x_m*(j1minusj2_mat)) * integral * (1/M**2), k = -1)\n",
      "<ipython-input-14-6279301b2a2a>:33: RuntimeWarning: overflow encountered in multiply\n",
      "  C += np.triu(one * np.exp(-x_m*(j2minusj1_mat)) * integral * (1/M**2), k = 1)\n",
      "<ipython-input-14-6279301b2a2a>:25: RuntimeWarning: overflow encountered in exp\n",
      "  integral = (1/(x_m**2)) * (np.exp(x_m) + np.exp(-x_m) - 2) #for off-diagonal terms\n",
      "<ipython-input-14-6279301b2a2a>:29: RuntimeWarning: overflow encountered in exp\n",
      "  C += np.tril(one * np.exp(-x_m*(j1minusj2_mat)) * integral * (1/M**2), k = -1)\n",
      "<ipython-input-14-6279301b2a2a>:29: RuntimeWarning: invalid value encountered in multiply\n",
      "  C += np.tril(one * np.exp(-x_m*(j1minusj2_mat)) * integral * (1/M**2), k = -1)\n",
      "<ipython-input-14-6279301b2a2a>:33: RuntimeWarning: overflow encountered in exp\n",
      "  C += np.triu(one * np.exp(-x_m*(j2minusj1_mat)) * integral * (1/M**2), k = 1)\n",
      "<ipython-input-14-6279301b2a2a>:33: RuntimeWarning: invalid value encountered in multiply\n",
      "  C += np.triu(one * np.exp(-x_m*(j2minusj1_mat)) * integral * (1/M**2), k = 1)\n"
     ]
    },
    {
     "data": {
      "text/plain": [
       "array([3.39322177])"
      ]
     },
     "execution_count": 22,
     "metadata": {},
     "output_type": "execute_result"
    }
   ],
   "source": [
    "find_kstar(poly_mat, dens, N_m=1, b=1, k_vec = np.logspace(-2, 2, 50))"
   ]
  },
  {
   "cell_type": "code",
   "execution_count": 9,
   "metadata": {},
   "outputs": [],
   "source": [
    "# diblocks\n",
    "det = S2_AA_arr * S2_BB_arr_fast - S2_AB_arr_fast**2\n",
    "S2_AA_inv = S2_BB_arr_fast * (1/det)\n",
    "S2_AB_inv = -S2_AB_arr_fast * (1/det)\n",
    "S2_BB_inv = S2_AA_arr * (1/det)\n",
    "\n",
    "# G2 = (0.5*np.array([[S2_AA_inv, S2_AB_inv], [S2_AB_inv, S2_BB_inv]])).T.reshape(len(k_vec), 2, 2) \n",
    "\n",
    "G2 = 0.5*(S2_AA_inv - 2* S2_AB_inv + S2_BB_inv) # chi = 0\n",
    "\n",
    "# eigvalues,eigvectors = np.linalg.eigh(G2)\n",
    "eigvalues_lst = G2\n",
    "min_eig = np.min(eigvalues_lst[~np.isnan(eigvalues_lst)])\n",
    "\n",
    "k_star = k_vec[np.where(eigvalues_lst==min_eig)]#[0]][0] "
   ]
  },
  {
   "cell_type": "code",
   "execution_count": 10,
   "metadata": {},
   "outputs": [
    {
     "data": {
      "text/plain": [
       "array([3.39322177])"
      ]
     },
     "execution_count": 10,
     "metadata": {},
     "output_type": "execute_result"
    }
   ],
   "source": [
    "k_star"
   ]
  },
  {
   "cell_type": "markdown",
   "metadata": {},
   "source": [
    "### Homopolymer mix"
   ]
  },
  {
   "cell_type": "markdown",
   "metadata": {},
   "source": [
    "#### stability analysis"
   ]
  },
  {
   "cell_type": "code",
   "execution_count": 23,
   "metadata": {
    "scrolled": false
   },
   "outputs": [
    {
     "name": "stdout",
     "output_type": "stream",
     "text": [
      "Wall time: 6.51 ms\n"
     ]
    },
    {
     "name": "stderr",
     "output_type": "stream",
     "text": [
      "<ipython-input-14-6279301b2a2a>:29: RuntimeWarning: overflow encountered in multiply\n",
      "  C += np.tril(one * np.exp(-x_m*(j1minusj2_mat)) * integral * (1/M**2), k = -1)\n",
      "<ipython-input-14-6279301b2a2a>:33: RuntimeWarning: overflow encountered in multiply\n",
      "  C += np.triu(one * np.exp(-x_m*(j2minusj1_mat)) * integral * (1/M**2), k = 1)\n",
      "<ipython-input-14-6279301b2a2a>:25: RuntimeWarning: overflow encountered in exp\n",
      "  integral = (1/(x_m**2)) * (np.exp(x_m) + np.exp(-x_m) - 2) #for off-diagonal terms\n",
      "<ipython-input-14-6279301b2a2a>:29: RuntimeWarning: overflow encountered in exp\n",
      "  C += np.tril(one * np.exp(-x_m*(j1minusj2_mat)) * integral * (1/M**2), k = -1)\n",
      "<ipython-input-14-6279301b2a2a>:29: RuntimeWarning: invalid value encountered in multiply\n",
      "  C += np.tril(one * np.exp(-x_m*(j1minusj2_mat)) * integral * (1/M**2), k = -1)\n",
      "<ipython-input-14-6279301b2a2a>:33: RuntimeWarning: overflow encountered in exp\n",
      "  C += np.triu(one * np.exp(-x_m*(j2minusj1_mat)) * integral * (1/M**2), k = 1)\n",
      "<ipython-input-14-6279301b2a2a>:33: RuntimeWarning: invalid value encountered in multiply\n",
      "  C += np.triu(one * np.exp(-x_m*(j2minusj1_mat)) * integral * (1/M**2), k = 1)\n"
     ]
    }
   ],
   "source": [
    "%%time\n",
    "poly_mat = np.array([[1,1],[0,0]]) # each row is a polymer\n",
    "dens = np.array([0.5, 0.5])\n",
    "N_m = 1\n",
    "b = 1\n",
    "\n",
    "M = poly_mat.shape[1]\n",
    "k_vec = np.logspace(-2, 2, 50)\n",
    "\n",
    "(S2_AA_arr, S2_AB_arr_fast, S2_BB_arr_fast) = calc_sf2(poly_mat, dens, N_m, b, k_vec)\n",
    "\n",
    "det = S2_AA_arr * S2_BB_arr_fast - S2_AB_arr_fast**2\n",
    "S2_AA_inv = S2_BB_arr_fast * (1/det)\n",
    "S2_AB_inv = -S2_AB_arr_fast * (1/det)\n",
    "S2_BB_inv = S2_AA_arr * (1/det)\n",
    "\n",
    "# G2 = (0.5*np.array([[S2_AA_inv, S2_AB_inv], [S2_AB_inv, S2_BB_inv]])).T.reshape(len(k_vec), 2, 2) \n",
    "\n",
    "G2 = 0.5*(S2_AA_inv - 2* S2_AB_inv + S2_BB_inv) # chi = 0\n",
    "\n",
    "# eigvalues,eigvectors = np.linalg.eigh(G2)\n",
    "eigvalues_lst = G2\n",
    "min_eig = np.min(eigvalues_lst[~np.isnan(eigvalues_lst)])\n",
    "\n",
    "k_star = k_vec[np.where(eigvalues_lst==min_eig)]#[0]][0] "
   ]
  },
  {
   "cell_type": "code",
   "execution_count": 24,
   "metadata": {},
   "outputs": [
    {
     "name": "stderr",
     "output_type": "stream",
     "text": [
      "<ipython-input-14-6279301b2a2a>:29: RuntimeWarning: overflow encountered in multiply\n",
      "  C += np.tril(one * np.exp(-x_m*(j1minusj2_mat)) * integral * (1/M**2), k = -1)\n",
      "<ipython-input-14-6279301b2a2a>:33: RuntimeWarning: overflow encountered in multiply\n",
      "  C += np.triu(one * np.exp(-x_m*(j2minusj1_mat)) * integral * (1/M**2), k = 1)\n",
      "<ipython-input-14-6279301b2a2a>:25: RuntimeWarning: overflow encountered in exp\n",
      "  integral = (1/(x_m**2)) * (np.exp(x_m) + np.exp(-x_m) - 2) #for off-diagonal terms\n",
      "<ipython-input-14-6279301b2a2a>:29: RuntimeWarning: overflow encountered in exp\n",
      "  C += np.tril(one * np.exp(-x_m*(j1minusj2_mat)) * integral * (1/M**2), k = -1)\n",
      "<ipython-input-14-6279301b2a2a>:29: RuntimeWarning: invalid value encountered in multiply\n",
      "  C += np.tril(one * np.exp(-x_m*(j1minusj2_mat)) * integral * (1/M**2), k = -1)\n",
      "<ipython-input-14-6279301b2a2a>:33: RuntimeWarning: overflow encountered in exp\n",
      "  C += np.triu(one * np.exp(-x_m*(j2minusj1_mat)) * integral * (1/M**2), k = 1)\n",
      "<ipython-input-14-6279301b2a2a>:33: RuntimeWarning: invalid value encountered in multiply\n",
      "  C += np.triu(one * np.exp(-x_m*(j2minusj1_mat)) * integral * (1/M**2), k = 1)\n"
     ]
    },
    {
     "data": {
      "text/plain": [
       "array([0.01])"
      ]
     },
     "execution_count": 24,
     "metadata": {},
     "output_type": "execute_result"
    }
   ],
   "source": [
    "find_kstar(poly_mat, dens, N_m=1, b=1, k_vec = np.logspace(-2, 2, 50))"
   ]
  },
  {
   "cell_type": "code",
   "execution_count": 25,
   "metadata": {},
   "outputs": [
    {
     "data": {
      "text/plain": [
       "array([0.01])"
      ]
     },
     "execution_count": 25,
     "metadata": {},
     "output_type": "execute_result"
    }
   ],
   "source": [
    "k_star"
   ]
  },
  {
   "cell_type": "code",
   "execution_count": null,
   "metadata": {},
   "outputs": [],
   "source": [
    "#TODO:\n",
    "# -find full spinodal of monodisperse diblock, compare to vertex/Leibler (verification)\n",
    "# -vectorize wrt k? using curvature to determine mirco vs macro phase sep?\n",
    "# -S3, S4"
   ]
  },
  {
   "cell_type": "code",
   "execution_count": null,
   "metadata": {},
   "outputs": [],
   "source": []
  },
  {
   "cell_type": "markdown",
   "metadata": {},
   "source": [
    "# $S^{(3)}$"
   ]
  },
  {
   "cell_type": "code",
   "execution_count": 22,
   "metadata": {},
   "outputs": [],
   "source": [
    "def calc_monomer_matrix_3(poly_mat, dens):\n",
    "    # calculates the AAA monomer identity cross correlation matrix\n",
    "    # assumes all polymers same length/ # of monomers, equal volume fraction of each\n",
    "    \n",
    "    # polymat - each row is a polymer\n",
    "    # dens is an array where each entry is rel vol frac of correponding polymer\n",
    "    if (np.sum(dens) != 1):\n",
    "        raise Exception(\"polymer volumer fractions do not sum to one\")\n",
    "    if len(np.shape(poly_mat)) == 1: # single poly\n",
    "        n_p = 1\n",
    "        M = len(poly_mat)\n",
    "        alph1 =np.zeros(M)\n",
    "        alph2 =np.zeros(M)\n",
    "        alph3 =np.zeros(M)\n",
    "        sig1 = 1*(poly_mat == alph1)\n",
    "        sig2 = 1*(poly_mat == alph2)\n",
    "        sig3 = 1*(poly_mat == alph3)\n",
    "#         M2_AA = np.outer(sig1, sig2)\n",
    "        M3_AA = np.einsum('i,j,k',sig1,sig2,sig3)\n",
    "        return M3_AA\n",
    "    \n",
    "    n_p = poly_mat.shape[0]\n",
    "    M = poly_mat.shape[1]\n",
    "    alph1 =np.zeros((n_p, M))\n",
    "    alph2 =np.zeros((n_p, M))\n",
    "    alph3 =np.zeros((n_p, M))\n",
    "\n",
    "    \n",
    "    #extend dens into n_pxM matrix\n",
    "    poly_weights = (np.ones((n_p, M)).T * dens).T\n",
    "    \n",
    "    #multiply sigams by density of each polymer\n",
    "    sigma1 = 1*((poly_mat == alph1))#.sum(axis = 0) #sigma. could multiply each\n",
    "    sigma2 = 1*((poly_mat == alph2))#.sum(axis = 0)\n",
    "    sigma3 = 1*((poly_mat == alph3))\n",
    "    \n",
    "    #need to do each row outer product with corresponding row, get n_p MxMxM matrices, then sum the results\n",
    "    prods = np.einsum('bi,bo,bn->bion', sigma1*poly_weights, sigma2, sigma3) # performing row wise cross product (each poly contribution)\n",
    "    M3_AA = np.sum(prods, axis = 0)#           ^^^^ averaging each contribution\n",
    "    return M3_AA"
   ]
  },
  {
   "cell_type": "code",
   "execution_count": 116,
   "metadata": {},
   "outputs": [],
   "source": [
    "C = np.zeros((2, 2, 2))\n",
    "grid = np.indices((2,2,2))\n",
    "j1 = grid[0]\n",
    "j2 = grid[1]\n",
    "j3 = grid[2]\n",
    "\n",
    "indxs = (j1 > j2) * (j2 == j3)\n",
    "intgrl = 1\n",
    "cons = 22\n",
    "\n",
    "rplcr22 = indxs * (intgrl * cons) # 0 at indices where value shouldnt be replaced, correct value at valid indices\n",
    "C[np.where(rplcr22 != 0)] = rplcr22[np.where(rplcr22 != 0)] \n",
    "\n",
    "\n",
    "# j1 < (j2 = j3)\n",
    "\n",
    "indxs = (j1 < j2) * (j2 == j3)\n",
    "\n",
    "intgrl = 1\n",
    "cons = 33\n",
    "\n",
    "rplcr33 = indxs * (intgrl * cons)\n",
    "C[np.where(rplcr33 != 0)] = rplcr33[np.where(rplcr33 != 0)]        \n",
    "\n",
    "\n",
    "# j2 > (j1 = j3)\n",
    "\n",
    "indxs = (j2 > j1) * (j1 == j3)\n",
    "\n",
    "intgrl = 1\n",
    "cons = 44\n",
    "\n",
    "rplcr44 = indxs * (intgrl * cons)\n",
    "C[np.where(rplcr44 != 0)] = rplcr44[np.where(rplcr44 != 0)]  \n",
    "\n",
    "\n",
    "# j2 < (j1 = j3)\n",
    "\n",
    "indxs = (j2 < j1) * (j1 == j3)\n",
    "\n",
    "intgrl = 1\n",
    "cons = 55\n",
    "\n",
    "rplcr55 = indxs * (intgrl * cons)\n",
    "C[np.where(rplcr55 != 0)] = rplcr55[np.where(rplcr55 != 0)] \n",
    "\n",
    "indxs = (j3 < j1) * (j1 == j2)\n",
    "\n",
    "intgrl = 1\n",
    "cons = 666\n",
    "\n",
    "rplcr666 = indxs * (intgrl * cons)\n",
    "C[np.where(rplcr666 != 0)] = rplcr666[np.where(rplcr666 != 0)] "
   ]
  },
  {
   "cell_type": "code",
   "execution_count": null,
   "metadata": {},
   "outputs": [],
   "source": []
  },
  {
   "cell_type": "code",
   "execution_count": 166,
   "metadata": {},
   "outputs": [],
   "source": [
    "def calc_sf3(poly_mat, dens, N_m=1, b=1, k_vec = np.logspace(-2, 2, 50), k_vec_2 = np.logspace(-2, 2, 50)):\n",
    "    #calculates all variations of the S(3) AAA AAB ABB BBB for a range of k\n",
    "    M3_AAA = calc_monomer_matrix_3(poly_mat, dens)\n",
    "    M = np.shape(M3_AAA)[0]\n",
    "    nk = len(k_vec)\n",
    "\n",
    "    one = np.ones((M,M,M))\n",
    "    grid = np.indices((M,M,M))\n",
    "    j1 = grid[0]\n",
    "    j2 = grid[1]\n",
    "    j3 = grid[2]\n",
    "    \n",
    "    S3_AAA_arr = np.zeros(nk)\n",
    "    \n",
    "    S2_AB_arr_fast = np.zeros(nk)\n",
    "    S2_BB_arr_fast = np.zeros(nk)\n",
    "\n",
    "\n",
    "#     H_AA = np.diag(M2_AA)\n",
    "#     H_AA_mat = (H_AA * one).T\n",
    "    \n",
    "    for i, k_1 in enumerate(k_vec):\n",
    "        for k_2 in k_vec_2:\n",
    "            C = np.zeros((M, M, M))\n",
    "            xm_1 = -(1/6) * N_m * b**2 * k_1**2  #NOTE THIS XM is NEGATIVE\n",
    "            xm_2 = -(1/6) * N_m * b**2 * k_2**2 \n",
    "\n",
    "            # j1 = j2 = j3\n",
    "\n",
    "                # s1 > s2 > s3             = s2 > s1 > s3 = s3 > s1 > s2 = s3 > s2 > s1 (*4)\n",
    "            diag1 = 4 * (1/(xm_1**2 * xm_2 * (xm_1 + xm_2)**2)) * \\\n",
    "            np.exp(xm_1 + xm_2)*xm_1**2 - np.exp(xm_1) * (xm_1+xm_2)**2 + \\\n",
    "            xm_2*(xm_1**2 + xm_2 + xm_1 * (2 + xm_2))\n",
    "            \n",
    "                # s1 > s3 > s2 = s2 > s3 > s1\n",
    "            fr1 = (-1 + np.exp(-xm_1))* (xm_2 / xm_1)\n",
    "            fr2 = (xm_1 * (1 - np.exp(xm_2) + xm_2)) / xm_2\n",
    "            diag2 = 2 * -1 * (1/(xm_1 * xm_2 *(xm_1 + xm_2))) \\\n",
    "            * (xm_2 + fr1 + fr2)\n",
    "            \n",
    "            np.fill_diagonal(C, np.diagonal(one * (diag1 + diag2)))\n",
    "\n",
    "\n",
    "\n",
    "            # j1 > (j2 = j3)           ?=  j2 > (j1 = j3) = j1 < (j2 = j3) = j2\n",
    "\n",
    "            indxs = (j1 > j2) * (j2 == j3)\n",
    "\n",
    "            intgrl = (1/(xm_1**2 * (xm_1 - xm_2) * xm_2)) *(1 - np.exp(-xm_1)) * \\\n",
    "            (xm_2 * (np.exp(xm_1) - 1) - xm_1 * (np.exp(xm_2) - 1))\n",
    "            cons = 2 * np.exp(xm_1*(j1-j3)) \n",
    "\n",
    "            rplcr = indxs * (intgrl * cons) # 0 at indices where value shouldnt be replaced, correct value at valid indices\n",
    "            C[np.where(rplcr != 0)] = rplcr[np.where(rplcr != 0)] \n",
    "\n",
    "\n",
    "\n",
    "            # j2 > (j1 = j3)\n",
    "\n",
    "            indxs = (j2 > j1) * (j1 == j3)\n",
    "\n",
    "    #         intgrl =    same as above!\n",
    "            cons = 2 * np.exp(xm_1*(j2-j3))\n",
    "\n",
    "            rplcr = indxs * (intgrl * cons)\n",
    "            C[np.where(rplcr != 0)] = rplcr[np.where(rplcr != 0)]  \n",
    "\n",
    "\n",
    "\n",
    "            # j1 < (j2 = j3)\n",
    "\n",
    "            indxs = (j1 < j2) * (j2 == j3)\n",
    "\n",
    "            intgrl = (1/(xm_1**2 * (xm_1 + xm_2) * xm_2)) *(1 - np.exp(-xm_1))\\\n",
    "            * (np.exp(xm_1) *(np.exp(xm_2) - 1)*xm_1 - (np.exp(xm_1) - 1)*xm_2) \\\n",
    "\n",
    "            cons = 2 * np.exp(xm_1*(j3-j1))\n",
    "\n",
    "            rplcr = indxs * (intgrl * cons)\n",
    "            C[np.where(rplcr != 0)] = rplcr[np.where(rplcr != 0)]        \n",
    "\n",
    "\n",
    "\n",
    "            # j2 < (j1 = j3)\n",
    "\n",
    "            indxs = (j2 < j1) * (j1 == j3)\n",
    "\n",
    "    #         intgrl =    same as above\n",
    "            cons =  2 * np.exp(xm_1*(j3-j2))\n",
    "\n",
    "            rplcr = indxs * (intgrl * cons)\n",
    "            C[np.where(rplcr != 0)] = rplcr[np.where(rplcr != 0)] \n",
    "\n",
    "\n",
    "            # j3 > (j1 = j2)\n",
    "\n",
    "            indxs = (j3 > j1) * (j1 == j2)\n",
    "\n",
    "            intgrl = -2 * (np.sinh(xm_1) + np.sinh(xm_2) - np.sinh(xm_1 + xm_2)) \\\n",
    "            * (1 / (xm_1*xm_2 * (xm_1 + xm_2)))\n",
    "            cons = np.exp(xm_1 *(j3 - j1) + xm_2 * (j3 - j1))\n",
    "\n",
    "            rplcr = indxs * (intgrl * cons)\n",
    "            C[np.where(rplcr != 0)] = rplcr[np.where(rplcr != 0)] \n",
    "\n",
    "\n",
    "            # j3 < (j1 = j2)\n",
    "\n",
    "            indxs = (j3 < j1) * (j1 == j2)\n",
    "\n",
    "    #         intgrl = same as above\n",
    "            cons = np.exp(xm_1 *(j1 - j3) + xm_2 * (j1 - j3))\n",
    "\n",
    "            rplcr = indxs * (intgrl * cons)\n",
    "            C[np.where(rplcr != 0)] = rplcr[np.where(rplcr != 0)] \n",
    "\n",
    "\n",
    "\n",
    "            # j1 > j2 > j3\n",
    "\n",
    "            indxs = (j1 > j2) * (j2 > j3)\n",
    "\n",
    "    #         intgrl = same as above\n",
    "            cons = np.exp(xm_1 *(j1 - j3) + xm_2 * (j2 - j3))\n",
    "\n",
    "            rplcr = indxs * (intgrl * cons)\n",
    "            C[np.where(rplcr != 0)] = rplcr[np.where(rplcr != 0)] \n",
    "\n",
    "            # j2 > j1 > j3\n",
    "\n",
    "            indxs = (j2 > j1) * (j1 > j3)\n",
    "\n",
    "    #         intgrl = same as above\n",
    "    #         cons = same as above\n",
    "\n",
    "            rplcr = indxs * (intgrl * cons)\n",
    "            C[np.where(rplcr != 0)] = rplcr[np.where(rplcr != 0)] \n",
    "\n",
    "\n",
    "            #j3 > j2 > j1\n",
    "\n",
    "            indxs = (j3 > j2) * (j2 > j1)\n",
    "\n",
    "    #         intgrl = same as above\n",
    "            cons = np.exp(xm_1 *(j3 - j1) + xm_2 * (j3 - j2))\n",
    "\n",
    "            rplcr = indxs * (intgrl * cons)\n",
    "            C[np.where(rplcr != 0)] = rplcr[np.where(rplcr != 0)]         \n",
    "\n",
    "            #j3 > j1 > j2    \n",
    "\n",
    "            indxs = (j3 > j1) * (j1 > j2)\n",
    "\n",
    "    #         intgrl = same as above\n",
    "    #         cons =  same as above\n",
    "\n",
    "            rplcr = indxs * (intgrl * cons)\n",
    "            C[np.where(rplcr != 0)] = rplcr[np.where(rplcr != 0)]           \n",
    "\n",
    "            #j1 > j3 > j2\n",
    "\n",
    "            indxs = (j1 > j3) * (j3 > j2)\n",
    "\n",
    "            intgrl = (1/(xm_1 * xm_2 * (xm_1 - xm_2))) * \\\n",
    "            -2 * (-np.sinh(xm_1) + np.sinh(xm_1 - xm_2) + np.sinh(xm_2))\n",
    "            cons = np.exp(xm_1 *(j1 - j3) + xm_2 * (j3 - j2))\n",
    "\n",
    "            rplcr = indxs * (intgrl * cons)\n",
    "            C[np.where(rplcr != 0)] = rplcr[np.where(rplcr != 0)]        \n",
    "\n",
    "            #j2 > j3 > j1\n",
    "\n",
    "            indxs = (j2 > j3) * (j3 > j1)\n",
    "\n",
    "    #         intgrl = same as above\n",
    "            cons = np.exp(xm_1 *(j3 - j1) + xm_2 * (j2 - j3))\n",
    "\n",
    "            rplcr = indxs * (intgrl * cons)\n",
    "            C[np.where(rplcr != 0)] = rplcr[np.where(rplcr != 0)]  \n",
    "\n",
    "\n",
    "\n",
    "            S3_AAA_arr[i] = np.sum((1/M**3) * C * M3_AAA)\n",
    "\n",
    "\n",
    "        return (S3_AAA_arr)#, S2_AB_arr_fast, S2_BB_arr_fast)"
   ]
  },
  {
   "cell_type": "code",
   "execution_count": 167,
   "metadata": {},
   "outputs": [],
   "source": [
    "k0 = 1e-2\n",
    "kf = 1e2\n",
    "nk = 10\n",
    "k_vec = np.logspace(np.log10(k0), np.log10(kf), nk)#*rg2**0.5\n",
    "\n",
    "\n",
    "k1_vec = np.zeros((nk, 3))\n",
    "k2_vec = np.zeros((nk, 3))\n",
    "\n",
    "k1_vec[:, 0] += np.logspace(np.log10(k0), np.log10(kf), nk)#*rg2**0.5\n",
    "theta = 2*np.pi/3 #2* np.pi * 1 / 3\n",
    "\n",
    "frac = 1\n",
    "k2_vec[:, 0] += frac * np.cos(theta) * np.logspace(np.log10(k0), np.log10(kf), nk)\n",
    "k2_vec[:, 1] += frac * np.sin(theta) * np.logspace(np.log10(k0), np.log10(kf), nk)\n",
    "k3_vec = - k1_vec - k2_vec\n",
    "\n",
    "k1_val = np.sqrt(np.sum(k1_vec ** 2,axis = 1))\n",
    "k2_val = np.sqrt(np.sum(k2_vec ** 2,axis = 1))\n",
    "k3_val = np.sqrt(np.sum(k3_vec ** 2,axis = 1))\n"
   ]
  },
  {
   "cell_type": "code",
   "execution_count": 168,
   "metadata": {},
   "outputs": [],
   "source": [
    "poly_mat = np.array([0,0]) # each row is a polymer\n",
    "dens = np.array([1])\n",
    "N_m = 1.\n",
    "b = 1."
   ]
  },
  {
   "cell_type": "code",
   "execution_count": 169,
   "metadata": {},
   "outputs": [
    {
     "name": "stderr",
     "output_type": "stream",
     "text": [
      "<ipython-input-166-1ef838540256>:99: RuntimeWarning: overflow encountered in sinh\n",
      "  intgrl = -2 * (np.sinh(xm_1) + np.sinh(xm_2) - np.sinh(xm_1 + xm_2)) \\\n",
      "<ipython-input-166-1ef838540256>:99: RuntimeWarning: invalid value encountered in double_scalars\n",
      "  intgrl = -2 * (np.sinh(xm_1) + np.sinh(xm_2) - np.sinh(xm_1 + xm_2)) \\\n",
      "<ipython-input-166-1ef838540256>:101: RuntimeWarning: overflow encountered in exp\n",
      "  cons = np.exp(xm_1 *(j3 - j1) + xm_2 * (j3 - j1))\n",
      "<ipython-input-166-1ef838540256>:112: RuntimeWarning: overflow encountered in exp\n",
      "  cons = np.exp(xm_1 *(j1 - j3) + xm_2 * (j1 - j3))\n",
      "<ipython-input-166-1ef838540256>:124: RuntimeWarning: overflow encountered in exp\n",
      "  cons = np.exp(xm_1 *(j1 - j3) + xm_2 * (j2 - j3))\n",
      "<ipython-input-166-1ef838540256>:145: RuntimeWarning: overflow encountered in exp\n",
      "  cons = np.exp(xm_1 *(j3 - j1) + xm_2 * (j3 - j2))\n",
      "<ipython-input-166-1ef838540256>:165: RuntimeWarning: overflow encountered in sinh\n",
      "  -2 * (-np.sinh(xm_1) + np.sinh(xm_1 - xm_2) + np.sinh(xm_2))\n",
      "<ipython-input-166-1ef838540256>:165: RuntimeWarning: invalid value encountered in double_scalars\n",
      "  -2 * (-np.sinh(xm_1) + np.sinh(xm_1 - xm_2) + np.sinh(xm_2))\n",
      "<ipython-input-166-1ef838540256>:166: RuntimeWarning: overflow encountered in exp\n",
      "  cons = np.exp(xm_1 *(j1 - j3) + xm_2 * (j3 - j2))\n",
      "<ipython-input-166-1ef838540256>:176: RuntimeWarning: overflow encountered in exp\n",
      "  cons = np.exp(xm_1 *(j3 - j1) + xm_2 * (j2 - j3))\n"
     ]
    },
    {
     "data": {
      "text/plain": [
       "array([nan,  0.,  0.,  0.,  0.,  0.,  0.,  0.,  0.,  0.])"
      ]
     },
     "execution_count": 169,
     "metadata": {},
     "output_type": "execute_result"
    }
   ],
   "source": [
    "calc_sf3(poly_mat, dens, N_m, b, k1_val, k2_val)"
   ]
  },
  {
   "cell_type": "code",
   "execution_count": null,
   "metadata": {},
   "outputs": [],
   "source": [
    "#how to simplify function?\n",
    "\n",
    "# how does relative k angle even mattter if k1**2 and k2**2 ?? \n",
    "    # am i doing the integrals wrong??"
   ]
  },
  {
   "cell_type": "code",
   "execution_count": null,
   "metadata": {},
   "outputs": [],
   "source": []
  },
  {
   "cell_type": "code",
   "execution_count": null,
   "metadata": {},
   "outputs": [],
   "source": []
  },
  {
   "cell_type": "code",
   "execution_count": null,
   "metadata": {},
   "outputs": [],
   "source": []
  },
  {
   "cell_type": "code",
   "execution_count": null,
   "metadata": {},
   "outputs": [],
   "source": []
  },
  {
   "cell_type": "markdown",
   "metadata": {},
   "source": [
    "# Old code"
   ]
  },
  {
   "cell_type": "code",
   "execution_count": null,
   "metadata": {},
   "outputs": [],
   "source": [
    "def calc_monomer_matrixOLD(poly_mat):\n",
    "    # calculates the AA monomer identity cross correlation matrix\n",
    "    # assumes all polymers same length/ # of monomers, equal volume fraction of each\n",
    "    \n",
    "    if len(np.shape(poly_mat)) == 1: #single poly\n",
    "        n_p = 1\n",
    "        M = len(poly)\n",
    "        alph1 =np.zeros(M)\n",
    "        alph2 =np.zeros(M)\n",
    "        sig1 = 1*(poly == alph1)\n",
    "        sig2 = 1*(poly == alph2)\n",
    "        M2_AA = np.outer(sig1, sig2)\n",
    "        return M2_AA\n",
    "    \n",
    "    n_p = poly_mat.shape[0]\n",
    "    M = poly_mat.shape[1]\n",
    "    alph1 =np.zeros((n_p, M))\n",
    "    alph2 =np.zeros((n_p, M))\n",
    "    \n",
    "    sigma1 = 1*((poly_mat == alph1))#.sum(axis = 0) #sigma. could multiply each\n",
    "    sigma2 = 1*((poly_mat == alph2))#.sum(axis = 0)\n",
    "\n",
    "    #need to do each row outer product with corresponding row, get n_p MxM matrices, then sum the results\n",
    "    prods = np.einsum('bi,bo->bio', sigma1, sigma2) # performing row wise cross product (each poly contribution)\n",
    "    M2_AA = np.sum(prods, axis = 0) / n_p # averaging each contribution\n",
    "    return M2_AA"
   ]
  },
  {
   "cell_type": "code",
   "execution_count": null,
   "metadata": {},
   "outputs": [],
   "source": [
    "# given a (set of) polymer structure, create a set of M^(2) connectivity matrices\n",
    "\n",
    "poly = [1, 1, 0, 0]\n",
    "n_p = 1\n",
    "M = len(poly)\n",
    "alph1 =1\n",
    "alph2 =0\n",
    "\n",
    "mat = np.zeros((M, M)) #MxM \n",
    "\n",
    "for j1,M1 in enumerate(poly):\n",
    "    for j2,M2 in enumerate(poly):\n",
    "#         print(\"M1 = \", M1)\n",
    "#         print(M2)\n",
    "#         print((M1 == alph1) * (M2 == alph2))\n",
    "        mat[j1, j2] += (1/n_p) * (M1 == alph1) * (M2 == alph2)# TODO how to implement indicator vairalbe\n",
    "        \n",
    "#TODO consider multiple polymer types"
   ]
  },
  {
   "cell_type": "code",
   "execution_count": null,
   "metadata": {},
   "outputs": [],
   "source": [
    "mat"
   ]
  },
  {
   "cell_type": "code",
   "execution_count": null,
   "metadata": {},
   "outputs": [],
   "source": [
    "#vectorized single poly\n",
    "\n",
    "\n",
    "poly = np.array([1, 1, 0, 0])\n",
    "n_p = 1\n",
    "M = len(poly)\n",
    "alph1 =np.ones(M)\n",
    "alph2 =np.ones(M)\n",
    "sub1 = 1*(poly == alph1)\n",
    "sub2 = 1*(poly == alph2)\n",
    "mat_Vect = np.outer(sub1, sub2)"
   ]
  },
  {
   "cell_type": "code",
   "execution_count": null,
   "metadata": {
    "scrolled": true
   },
   "outputs": [],
   "source": [
    "mat_Vect"
   ]
  },
  {
   "cell_type": "code",
   "execution_count": null,
   "metadata": {},
   "outputs": [],
   "source": [
    "len(np.shape(np.array([3, 4, 5])))"
   ]
  },
  {
   "cell_type": "code",
   "execution_count": null,
   "metadata": {},
   "outputs": [],
   "source": [
    "len(np.shape(poly_mat))"
   ]
  },
  {
   "cell_type": "code",
   "execution_count": null,
   "metadata": {},
   "outputs": [],
   "source": [
    "#vectorized multi poly. inly considering equal amounts of each polymer. TODO- consider unequal amounts. Manipulate simga?\n",
    "\n",
    "poly_mat = np.array([[1, 0], [0, 1], [1, 1]]) #matrix where num rows = num polymers\n",
    "# poly_mat = np.array([[0, 0],[1, 1]]) #matrix where num rows = num polymers\n",
    "\n",
    "# poly_mat = np.array([1, 0])\n",
    "\n",
    "#TODO: handle special case where polymat only has one polymer\n",
    "#then implement previous algorithm; have alph1 and alph2 be 1D \n",
    "if len(np.shape(poly_mat)) == 1: #single poly\n",
    "    n_p = 1\n",
    "    M = len(poly)\n",
    "    alph1 =np.ones(M)\n",
    "    alph2 =np.ones(M)\n",
    "    sub1 = 1*(poly == alph1)\n",
    "    sub2 = 1*(poly == alph2)\n",
    "    mat_Vect = np.outer(sub1, sub2)\n",
    "n_p = poly_mat.shape[0]\n",
    "M = poly_mat.shape[1]\n",
    "# alph1 =np.zeros((M, M))\n",
    "# alph2 =np.zeros((M, M))\n",
    "alph1 =np.ones((n_p, M))\n",
    "alph2 =np.ones((n_p, M))\n",
    "\n",
    "\n",
    "sigma1 = 1*((poly_mat == alph1))#.sum(axis = 0) #sigma. could multiply each\n",
    "sigma2 = 1*((poly_mat == alph2))#.sum(axis = 0)\n",
    "\n",
    "# mat_Vect_two = np.matmul(sub1, sub2) * (1/n_p)\n",
    "\n",
    "#need to do each row outer product with corresponding row, get n_p MxM matrices, then sum the results\n",
    "prods = np.einsum('bi,bo->bio', sigma1, sigma2) # performing row wise cross product (each poly contribution)\n",
    "mat_Vect_two = np.sum(prods, axis = 0) / n_p # averaging each contribution"
   ]
  },
  {
   "cell_type": "code",
   "execution_count": null,
   "metadata": {},
   "outputs": [],
   "source": [
    "# Have M. Now need to multiple upper triangle, lower triangle, and diagonal by sf components (construct C matrix, mat mul the)\n",
    "#  (the debye func at diag, and the apprprt exp(-xm j(1or2) - j (2or1)) * 1/xm2 blah blah)\n",
    "N_m = 1\n",
    "b = 1\n",
    "k = 1#np.array([1, 2, 3])\n",
    "\n",
    "x_m = (1/6) * N_m * b**2 * k**2\n",
    "\n",
    "C = np.zeros((M, M))\n",
    "one = np.ones((M,M))\n",
    "grid = np.indices((M, M))\n",
    "\n",
    "\n",
    "#j1 = j2\n",
    "debye = (2/(x_m**2)) * (x_m + np.exp(-x_m) - 1) \n",
    "np.fill_diagonal(C, np.diag(one * debye))\n",
    "\n",
    "integral = (1/(x_m**2)) * (np.exp(x_m) + np.exp(-x_m) - 2) #for off-diagonal terms\n",
    "\n",
    "#j1 > j2\n",
    "j1minusj2_mat = grid[0] - grid[1]\n",
    "C += np.tril(one * np.exp(-x_m*(j1minusj2_mat)) * integral, k = -1)\n",
    "\n",
    "#j2 > j1\n",
    "j2minusj1_mat = -1 * j1minusj2_mat\n",
    "C += np.triu(one * np.exp(-x_m*(j2minusj1_mat)) * integral, k = 1)\n",
    " \n",
    "#isnt j2minusj1 and j1minusj2 the same?? since only done in special case where the one is bigger than the other?"
   ]
  },
  {
   "cell_type": "code",
   "execution_count": null,
   "metadata": {},
   "outputs": [],
   "source": [
    "S2_AA = np.sum(C * mat_Vect)"
   ]
  },
  {
   "cell_type": "code",
   "execution_count": null,
   "metadata": {},
   "outputs": [],
   "source": [
    "S2_AA"
   ]
  },
  {
   "cell_type": "code",
   "execution_count": null,
   "metadata": {},
   "outputs": [],
   "source": [
    "# compare to Vertex/wlcstat codebase at discrete ks\n"
   ]
  },
  {
   "cell_type": "code",
   "execution_count": null,
   "metadata": {
    "scrolled": true
   },
   "outputs": [],
   "source": [
    "# # %%time\n",
    "# # FULL S2_AA calculation vectorize attempt\n",
    "\n",
    "# #Mono matrix:\n",
    "# poly = np.array([1, 1])\n",
    "# n_p = 1\n",
    "# M = len(poly)\n",
    "# alph1 =np.ones(M)\n",
    "# alph2 =np.ones(M)\n",
    "# sig1 = 1*(poly == alph1)\n",
    "# sig2 = 1*(poly == alph2)\n",
    "# monomer_mat = np.outer(sig1, sig2)\n",
    "\n",
    "# #k-dependenece\n",
    "# N_m = 1.\n",
    "# b = 1.\n",
    "\n",
    "# k0 = 1e-2\n",
    "# kf = 1e2\n",
    "# nk = 50\n",
    "# k_vec = np.logspace(np.log10(k0), np.log10(kf), nk)\n",
    "\n",
    "\n",
    "# one = np.ones((len(k_vec), M,M))\n",
    "# grid = np.indices((M, M))\n",
    "# S2_AA_arr = np.zeros(nk)\n",
    "\n",
    "# k = k_vec\n",
    "# C = np.zeros((len(k_vec), M, M))\n",
    "# x_m = (1/6) * N_m * b**2 * k**2\n",
    "\n",
    "# #j1 = j2\n",
    "# debye = (2/(x_m**2)) * (x_m + np.exp(-x_m) - 1) * (1/M**2)\n",
    "\n",
    "# np.fill_diagonal(C, np.diag(one * debye)) #FAIL\n",
    "\n",
    "# integral = (1/(x_m**2)) * (np.exp(x_m) + np.exp(-x_m) - 2) #for off-diagonal terms\n",
    "\n",
    "# #j1 > j2\n",
    "# j1minusj2_mat = grid[0] - grid[1]\n",
    "# C += np.tril(one * np.exp(-x_m*(j1minusj2_mat)) * integral * (1/M**2), k = -1)\n",
    "\n",
    "# #j2 > j1\n",
    "# j2minusj1_mat = -1 * j1minusj2_mat\n",
    "# C += np.triu(one * np.exp(-x_m*(j2minusj1_mat)) * integral * (1/M**2), k = 1) \n",
    "# S2_AA_arr[i] = np.sum(C * monomer_mat)"
   ]
  },
  {
   "cell_type": "code",
   "execution_count": null,
   "metadata": {
    "scrolled": true
   },
   "outputs": [],
   "source": [
    "%%time\n",
    "# FULL S2_AA calculation\n",
    "\n",
    "#Mono matrix:\n",
    "poly = np.array([1, 1])\n",
    "n_p = 1\n",
    "M = len(poly)\n",
    "alph1 =np.ones(M)\n",
    "alph2 =np.ones(M)\n",
    "sig1 = 1*(poly == alph1)\n",
    "sig2 = 1*(poly == alph2)\n",
    "monomer_mat = np.outer(sig1, sig2)\n",
    "\n",
    "#k-dependenece\n",
    "N_m = 1\n",
    "b = 1\n",
    "\n",
    "k0 = 1e-2\n",
    "kf = 1e2\n",
    "nk = 50\n",
    "k_vec = np.logspace(np.log10(k0), np.log10(kf), nk)\n",
    "\n",
    "\n",
    "one = np.ones((M,M))\n",
    "grid = np.indices((M, M))\n",
    "S2_AA_arr = np.zeros(nk)\n",
    "\n",
    "for i, k in enumerate(k_vec):\n",
    "    C = np.zeros((M, M))\n",
    "    x_m = (1/6) * N_m * b**2 * k**2\n",
    "    \n",
    "    #j1 = j2\n",
    "    debye = (2/(x_m**2)) * (x_m + np.exp(-x_m) - 1) * (1/M**2)\n",
    "\n",
    "    np.fill_diagonal(C, np.diag(one * debye))\n",
    "\n",
    "    integral = (1/(x_m**2)) * (np.exp(x_m) + np.exp(-x_m) - 2) #for off-diagonal terms\n",
    "\n",
    "    #j1 > j2\n",
    "    j1minusj2_mat = grid[0] - grid[1]\n",
    "    C += np.tril(one * np.exp(-x_m*(j1minusj2_mat)) * integral * (1/M**2), k = -1)\n",
    "\n",
    "    #j2 > j1\n",
    "    j2minusj1_mat = -1 * j1minusj2_mat\n",
    "    C += np.triu(one * np.exp(-x_m*(j2minusj1_mat)) * integral * (1/M**2), k = 1) \n",
    "    S2_AA_arr[i] = np.sum(C * monomer_mat)"
   ]
  },
  {
   "cell_type": "code",
   "execution_count": null,
   "metadata": {
    "scrolled": true
   },
   "outputs": [],
   "source": [
    "%%time\n",
    "# FULL S2_AA calculation POLYDISPERSE\n",
    "\n",
    "#Mono matrix:\n",
    "\n",
    "poly_mat = np.array([[1, 1], [1, 1], [1, 1]]) #matrix where num rows = num polymers\n",
    "\n",
    "#TODO: handle special case where polymat only has one polymer\n",
    "#then implement previous algorithm; have alph1 and alph2 be 1D \n",
    "n_p = poly_mat.shape[0]\n",
    "M = poly_mat.shape[1]\n",
    "# alph1 =np.zeros((M, M))\n",
    "# alph2 =np.zeros((M, M))\n",
    "alph1 =np.ones((n_p, M))\n",
    "alph2 =np.ones((n_p, M))\n",
    "\n",
    "\n",
    "sigma1 = 1*((poly_mat == alph1))#.sum(axis = 0) #sigma. could multiply each\n",
    "sigma2 = 1*((poly_mat == alph2))#.sum(axis = 0)\n",
    "\n",
    "# mat_Vect_two = np.matmul(sub1, sub2) * (1/n_p)\n",
    "\n",
    "#need to do each row outer product with corresponding row, get n_p MxM matrices, then sum the results\n",
    "prods = np.einsum('bi,bo->bio', sigma1, sigma2) # performing row wise cross product (each poly contribution)\n",
    "monomer_mat = np.sum(prods, axis = 0) / n_p # averaging each contribution\n",
    "\n",
    "#k-dependenece\n",
    "N_m = 1\n",
    "b = 1\n",
    "\n",
    "k0 = 1e-2\n",
    "kf = 1e2\n",
    "nk = 50\n",
    "k_vec = np.logspace(np.log10(k0), np.log10(kf), nk)\n",
    "\n",
    "\n",
    "one = np.ones((M,M))\n",
    "grid = np.indices((M, M))\n",
    "S2_AA_arr_poly = np.zeros(nk)\n",
    "\n",
    "for i, k in enumerate(k_vec):\n",
    "    C = np.zeros((M, M))\n",
    "    x_m = (1/6) * N_m * b**2 * k**2\n",
    "    \n",
    "    #j1 = j2\n",
    "    debye = (2/(x_m**2)) * (x_m + np.exp(-x_m) - 1) * (1/M**2)\n",
    "\n",
    "    np.fill_diagonal(C, np.diag(one * debye))\n",
    "\n",
    "    integral = (1/(x_m**2)) * (np.exp(x_m) + np.exp(-x_m) - 2) #for off-diagonal terms\n",
    "\n",
    "    #j1 > j2\n",
    "    j1minusj2_mat = grid[0] - grid[1]\n",
    "    C += np.tril(one * np.exp(-x_m*(j1minusj2_mat)) * integral * (1/M**2), k = -1)\n",
    "\n",
    "    #j2 > j1\n",
    "    j2minusj1_mat = -1 * j1minusj2_mat\n",
    "    C += np.triu(one * np.exp(-x_m*(j2minusj1_mat)) * integral * (1/M**2), k = 1) \n",
    "    S2_AA_arr_poly[i] = np.sum(C * monomer_mat)"
   ]
  },
  {
   "cell_type": "code",
   "execution_count": null,
   "metadata": {},
   "outputs": [],
   "source": [
    "%%time\n",
    "N = N_m * M\n",
    "# b = 1\n",
    "x = (1/6) * N * b**2 * (k_vec**2)\n",
    "debye_arr = (2/(x**2)) * (x + np.exp(-x) - 1) #* (1/N**2)"
   ]
  },
  {
   "cell_type": "code",
   "execution_count": null,
   "metadata": {},
   "outputs": [],
   "source": [
    "plt.figure(figsize=(10,8))\n",
    "font = {'family' : 'serif',\n",
    "        'weight':'normal',\n",
    "        'size': 18}\n",
    "plt.rc('font', **font)\n",
    "\n",
    "plt.plot(k_vec, S2_AA_arr, label = \"M*C\")\n",
    "# plt.plot(k_vec, s2AA_stat, label = \"wlcstat N = \" + str(N))\n",
    "plt.plot(k_vec, debye_arr, label = \"debye homo N = \" + str(N), linestyle = \"--\")\n",
    "\n",
    "plt.xscale('log')\n",
    "plt.yscale('log')\n",
    "\n",
    "plt.title(\"S2 AA\")\n",
    "plt.xlabel(r'$K$')\n",
    "plt.ylabel(r'Structure Factor $S_{2}(K;N)$')\n",
    "plt.xlim((1e-2, 1e2))\n",
    "plt.tight_layout()\n",
    "plt.legend()\n",
    "plt.show()"
   ]
  },
  {
   "cell_type": "code",
   "execution_count": null,
   "metadata": {},
   "outputs": [],
   "source": [
    "# Now derive conversion rules from AA to AB and BB (G_AA, GAB, G_BB in notes. Re derive!!!!!). "
   ]
  },
  {
   "cell_type": "code",
   "execution_count": null,
   "metadata": {
    "scrolled": true
   },
   "outputs": [],
   "source": [
    "%%time\n",
    "# FULL S2_AB calculation (slow, relation not used)\n",
    "\n",
    "#Mono matrix:\n",
    "poly = np.array([1, 0])\n",
    "n_p = 1\n",
    "M = len(poly)\n",
    "alph1 =np.ones(M)\n",
    "alph2 =np.zeros(M)\n",
    "sig1 = 1*(poly == alph1)\n",
    "sig2 = 1*(poly == alph2)\n",
    "monomer_mat = np.outer(sig1, sig2)\n",
    "\n",
    "#k-dependenece\n",
    "N_m = 1\n",
    "b = 1\n",
    "\n",
    "k0 = 1e-2\n",
    "kf = 1e2\n",
    "nk = 50\n",
    "k_vec = np.logspace(np.log10(k0), np.log10(kf), nk)\n",
    "\n",
    "\n",
    "one = np.ones((M,M))\n",
    "grid = np.indices((M, M))\n",
    "S2_AB_arr = np.zeros(nk)\n",
    "\n",
    "for i, k in enumerate(k_vec):\n",
    "    C = np.zeros((M, M))\n",
    "    x_m = (1/6) * N_m * b**2 * k**2\n",
    "    \n",
    "    #j1 = j2\n",
    "    debye = (2/(x_m**2)) * (x_m + np.exp(-x_m) - 1) * (1/M**2)\n",
    "\n",
    "    np.fill_diagonal(C, np.diag(one * debye))\n",
    "\n",
    "    integral = (1/(x_m**2)) * (np.exp(x_m) + np.exp(-x_m) - 2) #for off-diagonal terms\n",
    "\n",
    "    #j1 > j2\n",
    "    j1minusj2_mat = grid[0] - grid[1]\n",
    "    C += np.tril(one * np.exp(-x_m*(j1minusj2_mat)) * integral * (1/M**2), k = -1)\n",
    "\n",
    "    #j2 > j1\n",
    "    j2minusj1_mat = -1 * j1minusj2_mat\n",
    "    C += np.triu(one * np.exp(-x_m*(j2minusj1_mat)) * integral * (1/M**2), k = 1) \n",
    "    S2_AB_arr[i] = np.sum(C * monomer_mat)"
   ]
  },
  {
   "cell_type": "code",
   "execution_count": null,
   "metadata": {},
   "outputs": [],
   "source": [
    "#S_AB calc fast\n",
    "\n",
    "#Mono matrix:\n",
    "n_p = 1\n",
    "M = len(poly)\n",
    "alph1 =np.ones(M)\n",
    "alph2 =np.ones(M)\n",
    "sig1 = 1*(poly == alph1)\n",
    "sig2 = 1*(poly == alph2)\n",
    "monomer_mat = np.outer(sig1, sig2)\n",
    "\n",
    "#k-dependenece\n",
    "N_m = 1\n",
    "b = 1\n",
    "\n",
    "k0 = 1e-2\n",
    "kf = 1e2\n",
    "nk = 50\n",
    "k_vec = np.logspace(np.log10(k0), np.log10(kf), nk)\n",
    "\n",
    "\n",
    "one = np.ones((M,M))\n",
    "grid = np.indices((M, M))\n",
    "S2_AA_arr = np.zeros(nk)\n",
    "S2_AB_arr_fast = np.zeros(nk)\n",
    "\n",
    "H_AA = np.diag(monomer_mat)\n",
    "H_AA_mat = (H_AA * np.ones((M, M))).T\n",
    "for i, k in enumerate(k_vec):\n",
    "    C = np.zeros((M, M))\n",
    "    x_m = (1/6) * N_m * b**2 * k**2\n",
    "    \n",
    "    #j1 = j2\n",
    "    debye = (2/(x_m**2)) * (x_m + np.exp(-x_m) - 1) * (1/M**2)\n",
    "\n",
    "    np.fill_diagonal(C, np.diag(one * debye))\n",
    "\n",
    "    integral = (1/(x_m**2)) * (np.exp(x_m) + np.exp(-x_m) - 2) #for off-diagonal terms\n",
    "\n",
    "    #j1 > j2\n",
    "    j1minusj2_mat = grid[0] - grid[1]\n",
    "    C += np.tril(one * np.exp(-x_m*(j1minusj2_mat)) * integral * (1/M**2), k = -1)\n",
    "\n",
    "    #j2 > j1\n",
    "    j2minusj1_mat = -1 * j1minusj2_mat\n",
    "    C += np.triu(one * np.exp(-x_m*(j2minusj1_mat)) * integral * (1/M**2), k = 1) \n",
    "    S2_AA_arr[i] = np.sum(C * monomer_mat)\n",
    "    \n",
    "    \n",
    "    C_AB = H_AA_mat * C\n",
    "    S2_AB_arr_fast[i] = np.sum(C_AB) - S2_AA_arr[i]"
   ]
  },
  {
   "cell_type": "code",
   "execution_count": null,
   "metadata": {
    "scrolled": true
   },
   "outputs": [],
   "source": [
    "plt.figure(figsize=(10,8))\n",
    "font = {'family' : 'serif',\n",
    "        'weight':'normal',\n",
    "        'size': 18}\n",
    "plt.rc('font', **font)\n",
    "\n",
    "plt.plot(k_vec, S2_AB_arr_fast, label = \"used relation\")\n",
    "plt.plot(k_vec, S2_AB_arr, label = \"slow\", linestyle = \"--\")\n",
    "# plt.plot(k_vec, s2AA_stat, label = \"wlcstat N = \" + str(N))\n",
    "# plt.plot(k_vec, debye_arr, label = \"debye homo N = \" + str(N), linestyle = \"--\")\n",
    "\n",
    "plt.xscale('log')\n",
    "plt.yscale('log')\n",
    "\n",
    "plt.title(\"S2 AB\")\n",
    "plt.xlabel(r'$K$')\n",
    "plt.ylabel(r'Structure Factor $S_{2}(K;N)$')\n",
    "plt.xlim((1e-2, 1e2))\n",
    "plt.tight_layout()\n",
    "plt.legend()\n",
    "plt.show()"
   ]
  },
  {
   "cell_type": "code",
   "execution_count": null,
   "metadata": {},
   "outputs": [],
   "source": []
  },
  {
   "cell_type": "code",
   "execution_count": null,
   "metadata": {
    "scrolled": true
   },
   "outputs": [],
   "source": [
    "%%time\n",
    "# FULL S2_BB calculation (slow, relation not used)\n",
    "\n",
    "#Mono matrix:\n",
    "poly = np.array([1, 0])\n",
    "n_p = 1\n",
    "M = len(poly)\n",
    "alph1 =np.zeros(M)\n",
    "alph2 =np.zeros(M)\n",
    "sig1 = 1*(poly == alph1)\n",
    "sig2 = 1*(poly == alph2)\n",
    "monomer_mat = np.outer(sig1, sig2)\n",
    "\n",
    "#k-dependenece\n",
    "N_m = 1\n",
    "b = 1\n",
    "\n",
    "k0 = 1e-2\n",
    "kf = 1e2\n",
    "nk = 50\n",
    "k_vec = np.logspace(np.log10(k0), np.log10(kf), nk)\n",
    "\n",
    "\n",
    "one = np.ones((M,M))\n",
    "grid = np.indices((M, M))\n",
    "S2_BB_arr = np.zeros(nk)\n",
    "\n",
    "for i, k in enumerate(k_vec):\n",
    "    C = np.zeros((M, M))\n",
    "    x_m = (1/6) * N_m * b**2 * k**2\n",
    "    \n",
    "    #j1 = j2\n",
    "    debye = (2/(x_m**2)) * (x_m + np.exp(-x_m) - 1) * (1/M**2)\n",
    "\n",
    "    np.fill_diagonal(C, np.diag(one * debye))\n",
    "\n",
    "    integral = (1/(x_m**2)) * (np.exp(x_m) + np.exp(-x_m) - 2) #for off-diagonal terms\n",
    "\n",
    "    #j1 > j2\n",
    "    j1minusj2_mat = grid[0] - grid[1]\n",
    "    C += np.tril(one * np.exp(-x_m*(j1minusj2_mat)) * integral * (1/M**2), k = -1)\n",
    "\n",
    "    #j2 > j1\n",
    "    j2minusj1_mat = -1 * j1minusj2_mat\n",
    "    C += np.triu(one * np.exp(-x_m*(j2minusj1_mat)) * integral * (1/M**2), k = 1) \n",
    "    S2_BB_arr[i] = np.sum(C * monomer_mat)"
   ]
  },
  {
   "cell_type": "code",
   "execution_count": null,
   "metadata": {},
   "outputs": [],
   "source": [
    "#S_BB calc fast\n",
    "\n",
    "#Mono matrix:\n",
    "n_p = 1\n",
    "M = len(poly)\n",
    "alph1 =np.ones(M)\n",
    "alph2 =np.ones(M)\n",
    "sig1 = 1*(poly == alph1)\n",
    "sig2 = 1*(poly == alph2)\n",
    "monomer_mat = np.outer(sig1, sig2)\n",
    "\n",
    "#k-dependenece\n",
    "N_m = 1\n",
    "b = 1\n",
    "\n",
    "k0 = 1e-2\n",
    "kf = 1e2\n",
    "nk = 50\n",
    "k_vec = np.logspace(np.log10(k0), np.log10(kf), nk)\n",
    "\n",
    "\n",
    "one = np.ones((M,M))\n",
    "grid = np.indices((M, M))\n",
    "S2_AA_arr = np.zeros(nk)\n",
    "S2_AB_arr_fast = np.zeros(nk)\n",
    "S2_BB_arr_fast = np.zeros(nk)\n",
    "\n",
    "\n",
    "H_AA = np.diag(monomer_mat)\n",
    "H_AA_mat = (H_AA * np.ones((M, M))).T\n",
    "for i, k in enumerate(k_vec):\n",
    "    C = np.zeros((M, M))\n",
    "    x_m = (1/6) * N_m * b**2 * k**2\n",
    "    \n",
    "    #j1 = j2\n",
    "    debye = (2/(x_m**2)) * (x_m + np.exp(-x_m) - 1) * (1/M**2)\n",
    "\n",
    "    np.fill_diagonal(C, np.diag(one * debye))\n",
    "\n",
    "    integral = (1/(x_m**2)) * (np.exp(x_m) + np.exp(-x_m) - 2) #for off-diagonal terms\n",
    "\n",
    "    #j1 > j2\n",
    "    j1minusj2_mat = grid[0] - grid[1]\n",
    "    C += np.tril(one * np.exp(-x_m*(j1minusj2_mat)) * integral * (1/M**2), k = -1)\n",
    "\n",
    "    #j2 > j1\n",
    "    j2minusj1_mat = -1 * j1minusj2_mat\n",
    "    C += np.triu(one * np.exp(-x_m*(j2minusj1_mat)) * integral * (1/M**2), k = 1) \n",
    "    S2_AA_arr[i] = np.sum(C * monomer_mat)\n",
    "    \n",
    "    \n",
    "    C_AB = H_AA_mat * C\n",
    "    S2_AB_arr_fast[i] = np.sum(C_AB) - S2_AA_arr[i]\n",
    "    S2_BB_arr_fast[i] = np.sum(C) + S2_AA_arr[i] - 2*np.sum(C_AB)"
   ]
  },
  {
   "cell_type": "code",
   "execution_count": null,
   "metadata": {
    "scrolled": true
   },
   "outputs": [],
   "source": [
    "plt.figure(figsize=(10,8))\n",
    "font = {'family' : 'serif',\n",
    "        'weight':'normal',\n",
    "        'size': 18}\n",
    "plt.rc('font', **font)\n",
    "\n",
    "plt.plot(k_vec, S2_BB_arr_fast, label = \"used relation\")\n",
    "plt.plot(k_vec, S2_BB_arr, label = \"slow\", linestyle = \"--\")\n",
    "# plt.plot(k_vec, s2AA_stat, label = \"wlcstat N = \" + str(N))\n",
    "# plt.plot(k_vec, debye_arr, label = \"debye homo N = \" + str(N), linestyle = \"--\")\n",
    "\n",
    "plt.xscale('log')\n",
    "plt.yscale('log')\n",
    "\n",
    "plt.title(\"S2 BB\")\n",
    "plt.xlabel(r'$K$')\n",
    "plt.ylabel(r'Structure Factor $S_{2}(K;N)$')\n",
    "plt.xlim((1e-2, 1e2))\n",
    "plt.tight_layout()\n",
    "plt.legend()\n",
    "plt.show()"
   ]
  },
  {
   "cell_type": "code",
   "execution_count": null,
   "metadata": {},
   "outputs": [],
   "source": []
  },
  {
   "cell_type": "code",
   "execution_count": null,
   "metadata": {},
   "outputs": [],
   "source": []
  },
  {
   "cell_type": "code",
   "execution_count": null,
   "metadata": {
    "scrolled": true
   },
   "outputs": [],
   "source": [
    "plt.figure(figsize=(10,8))\n",
    "font = {'family' : 'serif',\n",
    "        'weight':'normal',\n",
    "        'size': 18}\n",
    "plt.rc('font', **font)\n",
    "\n",
    "plt.plot(k_vec, S2_BB_arr_fast, label = \"BBused relation\", linestyle = \"--\")\n",
    "plt.plot(k_vec, S2_AA_arr, label = \"AA\")\n",
    "plt.plot(k_vec, S2_AB_arr_fast, label = \"ABused relation\")\n",
    "# plt.plot(k_vec, S2_BB_arr, label = \"slow\", linestyle = \"--\")\n",
    "# plt.plot(k_vec, s2AA_stat, label = \"wlcstat N = \" + str(N))\n",
    "# plt.plot(k_vec, debye_arr, label = \"debye homo N = \" + str(N), linestyle = \"--\")\n",
    "\n",
    "plt.xscale('log')\n",
    "plt.yscale('log')\n",
    "\n",
    "plt.title(\"S2 BB\")\n",
    "plt.xlabel(r'$K$')\n",
    "plt.ylabel(r'Structure Factor $S_{2}(K;N)$')\n",
    "plt.xlim((1e-2, 1e2))\n",
    "plt.tight_layout()\n",
    "plt.legend()\n",
    "plt.show()"
   ]
  },
  {
   "cell_type": "code",
   "execution_count": null,
   "metadata": {},
   "outputs": [],
   "source": []
  },
  {
   "cell_type": "code",
   "execution_count": null,
   "metadata": {},
   "outputs": [],
   "source": [
    "# invert, stability analysis AB BA vs AA BB"
   ]
  },
  {
   "cell_type": "code",
   "execution_count": null,
   "metadata": {
    "scrolled": false
   },
   "outputs": [],
   "source": [
    "#S_BB calc fast\n",
    "\n",
    "#Mono matrix:\n",
    "\n",
    "poly_mat = np.array([[1, 1], [0, 0]]) #matrix where num rows = num polymers\n",
    "\n",
    "#TODO: handle special case where polymat only has one polymer\n",
    "#then implement previous algorithm; have alph1 and alph2 be 1D \n",
    "n_p = poly_mat.shape[0]\n",
    "M = poly_mat.shape[1]\n",
    "# alph1 =np.zeros((M, M))\n",
    "# alph2 =np.zeros((M, M))\n",
    "alph1 =np.ones((n_p, M))\n",
    "alph2 =np.ones((n_p, M))\n",
    "\n",
    "\n",
    "sigma1 = 1*((poly_mat == alph1))#.sum(axis = 0) #sigma. could multiply each\n",
    "sigma2 = 1*((poly_mat == alph2))#.sum(axis = 0)\n",
    "\n",
    "# mat_Vect_two = np.matmul(sub1, sub2) * (1/n_p)\n",
    "\n",
    "#need to do each row outer product with corresponding row, get n_p MxM matrices, then sum the results\n",
    "prods = np.einsum('bi,bo->bio', sigma1, sigma2) # performing row wise cross product (each poly contribution)\n",
    "monomer_mat = np.sum(prods, axis = 0) / n_p # averaging each contribution\n",
    "\n",
    "#k-dependenece\n",
    "N_m = 1\n",
    "b = 1\n",
    "\n",
    "k0 = 1e-2\n",
    "kf = 1e2\n",
    "nk = 50\n",
    "k_vec = np.logspace(np.log10(k0), np.log10(kf), nk)\n",
    "\n",
    "\n",
    "one = np.ones((M,M))\n",
    "grid = np.indices((M, M))\n",
    "S2_AA_arr = np.zeros(nk)\n",
    "S2_AB_arr_fast = np.zeros(nk)\n",
    "S2_BB_arr_fast = np.zeros(nk)\n",
    "\n",
    "\n",
    "H_AA = np.diag(monomer_mat)\n",
    "H_AA_mat = (H_AA * np.ones((M, M))).T\n",
    "for i, k in enumerate(k_vec):\n",
    "    C = np.zeros((M, M))\n",
    "    x_m = (1/6) * N_m * b**2 * k**2\n",
    "    \n",
    "    #j1 = j2\n",
    "    debye = (2/(x_m**2)) * (x_m + np.exp(-x_m) - 1) * (1/M**2)\n",
    "\n",
    "    np.fill_diagonal(C, np.diag(one * debye))\n",
    "\n",
    "    integral = (1/(x_m**2)) * (np.exp(x_m) + np.exp(-x_m) - 2) #for off-diagonal terms\n",
    "\n",
    "    #j1 > j2\n",
    "    j1minusj2_mat = grid[0] - grid[1]\n",
    "    C += np.tril(one * np.exp(-x_m*(j1minusj2_mat)) * integral * (1/M**2), k = -1)\n",
    "\n",
    "    #j2 > j1\n",
    "    j2minusj1_mat = -1 * j1minusj2_mat\n",
    "    C += np.triu(one * np.exp(-x_m*(j2minusj1_mat)) * integral * (1/M**2), k = 1) \n",
    "    S2_AA_arr[i] = np.sum(C * monomer_mat)\n",
    "    \n",
    "    \n",
    "    C_AB = H_AA_mat * C\n",
    "    S2_AB_arr_fast[i] = np.sum(C_AB) - S2_AA_arr[i]\n",
    "    S2_BB_arr_fast[i] = np.sum(C) + S2_AA_arr[i] - 2*np.sum(C_AB)"
   ]
  },
  {
   "cell_type": "code",
   "execution_count": null,
   "metadata": {},
   "outputs": [],
   "source": [
    "det = S2_AA_arr * S2_BB_arr_fast - S2_AB_arr_fast**2\n",
    "S2_AA_inv = S2_BB_arr_fast * (1/det)\n",
    "S2_AB_inv = -S2_AB_arr_fast * (1/det)\n",
    "S2_BB_inv = S2_AA_arr * (1/det)\n",
    "\n",
    "# G2 = (0.5*np.array([[S2_AA_inv, S2_AB_inv], [S2_AB_inv, S2_BB_inv]])).T.reshape(len(k_vec), 2, 2) #@ chi = 0\n",
    "\n",
    "G2 = 0.5*(S2_AA_inv - 2* S2_AB_inv + S2_BB_inv)\n",
    "\n",
    "# eigvalues,eigvectors = np.linalg.eigh(G2)\n",
    "eigvalues_lst = G2\n",
    "min_eig = np.min(eigvalues_lst[~np.isnan(eigvalues_lst)])\n",
    "\n",
    "k_star = k_vec[np.where(eigvalues_lst==min_eig)[0]][0]\n",
    "    "
   ]
  },
  {
   "cell_type": "code",
   "execution_count": null,
   "metadata": {},
   "outputs": [],
   "source": [
    "min_eig"
   ]
  },
  {
   "cell_type": "code",
   "execution_count": null,
   "metadata": {},
   "outputs": [],
   "source": [
    "k_star"
   ]
  },
  {
   "cell_type": "code",
   "execution_count": null,
   "metadata": {},
   "outputs": [],
   "source": [
    "#CLEAN UP< DEFINE FUNCTIONS!!!!"
   ]
  },
  {
   "cell_type": "code",
   "execution_count": null,
   "metadata": {},
   "outputs": [],
   "source": [
    "# s2AA_vert = s2wlc(pset, N, FA, K, sequence='all')[0][0]\n",
    "# s2AA_vert"
   ]
  },
  {
   "cell_type": "code",
   "execution_count": null,
   "metadata": {},
   "outputs": [],
   "source": [
    "# s2 = wlcstruc.s2_wlc(k_vec, 100000, dimensions = 3, alpha_max = 25)\n",
    "N = 2.\n",
    "wlc_copoly.s2_wlc_diblock([1], N, FA, dimensions=3, alpha_max=25)#[0]"
   ]
  },
  {
   "cell_type": "code",
   "execution_count": null,
   "metadata": {},
   "outputs": [],
   "source": []
  }
 ],
 "metadata": {
  "kernelspec": {
   "display_name": "Python 3",
   "language": "python",
   "name": "python3"
  },
  "language_info": {
   "codemirror_mode": {
    "name": "ipython",
    "version": 3
   },
   "file_extension": ".py",
   "mimetype": "text/x-python",
   "name": "python",
   "nbconvert_exporter": "python",
   "pygments_lexer": "ipython3",
   "version": "3.8.5"
  }
 },
 "nbformat": 4,
 "nbformat_minor": 4
}
