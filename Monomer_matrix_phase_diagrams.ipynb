{
 "cells": [
  {
   "cell_type": "code",
   "execution_count": 1,
   "metadata": {},
   "outputs": [],
   "source": [
    "import warnings\n",
    "warnings.filterwarnings('ignore')\n",
    "import importlib\n",
    "\n",
    "import numpy as np\n",
    "# import wlcstat.wlc_copoly as wlc_copoly\n",
    "# import wlcstat.wlcstruc as wlcstruc\n",
    "\n",
    "import sys\n",
    "sys.path.append(\"./vertex_subroutines\")\n",
    "from GAMcalc import *  # Code for calculating vertex functions\n",
    "import propagator  # propagator object used to store pre-calculated values\n",
    "import wignerD as wd # wigner D object used to store pre-calculated values\n",
    "\n",
    "import matplotlib.pyplot as plt\n",
    "from matplotlib.collections import LineCollection\n",
    "from matplotlib.colors import ListedColormap, BoundaryNorm\n",
    "\n",
    "pset=propagator.prop_set(nlam=10) \n",
    "wigset = wd.wigner_d_vals()"
   ]
  },
  {
   "cell_type": "code",
   "execution_count": 2,
   "metadata": {},
   "outputs": [
    {
     "ename": "NameError",
     "evalue": "name 'GAMcalc' is not defined",
     "output_type": "error",
     "traceback": [
      "\u001b[1;31m---------------------------------------------------------------------------\u001b[0m",
      "\u001b[1;31mNameError\u001b[0m                                 Traceback (most recent call last)",
      "\u001b[1;32m<ipython-input-2-2662dac8997d>\u001b[0m in \u001b[0;36m<module>\u001b[1;34m\u001b[0m\n\u001b[1;32m----> 1\u001b[1;33m \u001b[0mimportlib\u001b[0m\u001b[1;33m.\u001b[0m\u001b[0mreload\u001b[0m\u001b[1;33m(\u001b[0m\u001b[0mGAMcalc\u001b[0m\u001b[1;33m)\u001b[0m\u001b[1;33m\u001b[0m\u001b[1;33m\u001b[0m\u001b[0m\n\u001b[0m",
      "\u001b[1;31mNameError\u001b[0m: name 'GAMcalc' is not defined"
     ]
    }
   ],
   "source": [
    "importlib.reload(GAMcalc)"
   ]
  },
  {
   "cell_type": "code",
   "execution_count": null,
   "metadata": {},
   "outputs": [],
   "source": [
    "# functions edited to:\n",
    "# -  sfs return with an extra factor of N**something, to match vertex"
   ]
  },
  {
   "cell_type": "code",
   "execution_count": 3,
   "metadata": {},
   "outputs": [],
   "source": [
    "def calc_monomer_matrix(poly_mat, dens):\n",
    "    # calculates the AA monomer identity cross correlation matrix\n",
    "    # assumes all polymers same length/ # of monomers, equal volume fraction of each\n",
    "    \n",
    "    #polymat - each row is a polymer\n",
    "    #dens is an array where each entry is rel vol frac of correponding polymer\n",
    "    if (np.sum(dens) != 1):\n",
    "        raise Exception(\"polymer volumer fractions do not sum to one\")\n",
    "    if len(np.shape(poly_mat)) == 1: #single poly\n",
    "        n_p = 1\n",
    "        M = len(poly_mat)\n",
    "        alph1 =np.zeros(M)\n",
    "        alph2 =np.zeros(M)\n",
    "        sig1 = 1*(poly_mat == alph1)\n",
    "        sig2 = 1*(poly_mat == alph2)\n",
    "        M2_AA = np.outer(sig1, sig2)\n",
    "        return M2_AA\n",
    "    \n",
    "    n_p = poly_mat.shape[0]\n",
    "    M = poly_mat.shape[1]\n",
    "    alph1 =np.zeros((n_p, M))\n",
    "    alph2 =np.zeros((n_p, M))\n",
    "    \n",
    "    #extend dens into n_pxM matrix\n",
    "    poly_weights = (np.ones((n_p, M)).T * dens).T\n",
    "    \n",
    "    #multiply sigams by density of each polymer\n",
    "    sigma1 = 1*((poly_mat == alph1))#.sum(axis = 0) #sigma. could multiply each\n",
    "    sigma2 = 1*((poly_mat == alph2))#.sum(axis = 0)\n",
    "\n",
    "    #need to do each row outer product with corresponding row, get n_p MxM matrices, then sum the results\n",
    "    prods = np.einsum('bi,bo->bio', sigma1*poly_weights, sigma2) # performing row wise cross product (each poly contribution)\n",
    "    M2_AA = np.sum(prods, axis = 0)#           ^^^^ averaging each contribution\n",
    "    return M2_AA\n",
    "\n",
    "\n",
    "def calc_sf2(poly_mat, dens, N_m=1, b=1, k_vec = np.logspace(-2, 2, 50)):\n",
    "    M2_AA = calc_monomer_matrix(poly_mat, dens)\n",
    "    M = np.shape(M2_AA)[0]\n",
    "    nk = len(k_vec)\n",
    "    N = M*N_m\n",
    "\n",
    "    grid = np.indices((M, M))\n",
    "    j1 = grid[0]\n",
    "    j2 = grid[1]\n",
    "    \n",
    "    S2_AA_arr = np.zeros(nk)\n",
    "    S2_AB_arr = np.zeros(nk)\n",
    "    S2_BB_arr = np.zeros(nk)\n",
    "    \n",
    "    M2_AB = M2_AA[j2, j2] - M2_AA\n",
    "    M2_BB = 1 - M2_AA[j1, j1] - M2_AA[j2, j2] + M2_AA[j1, j2]\n",
    "    \n",
    "    for i, k in enumerate(k_vec):\n",
    "        C = np.zeros((M, M))\n",
    "        k = norm(k)\n",
    "        x_m = (1/6) * N_m * b**2 * k**2\n",
    "\n",
    "        #j1 = j2, s1 > s2\n",
    "        index = (j1 == j2)\n",
    "        constant = 1\n",
    "        debye = (2/(x_m**2)) * (x_m + np.exp(-x_m) - 1) \n",
    "        \n",
    "        C[np.where((index) != 0)] += debye\n",
    "        \n",
    "        #j1 > j2, s1 s2 any\n",
    "        index = (j1 > j2)\n",
    "        constant = np.exp(-x_m*(j1-j2))\n",
    "        integral = (1/(x_m**2)) * (np.exp(x_m) + np.exp(-x_m) - 2) #for off-diagonal terms\n",
    "\n",
    "        C[np.where((index) != 0)] += constant[np.where(index != 0)] \\\n",
    "                                    * integral\n",
    "        \n",
    "        #j2 > j1, s1 s2 any\n",
    "        index = (j2 > j1)\n",
    "        constant = np.exp(-x_m*(j2-j1))\n",
    "#         integral is the same\n",
    "\n",
    "        C[np.where((index) != 0)] += constant[np.where(index != 0)] \\\n",
    "                                    * integral   \n",
    "#         print(C/M**2)\n",
    "        S2_AA_arr[i] = np.sum((1/M**2) * C * M2_AA)\n",
    "        S2_AB_arr[i] = np.sum((1/M**2) * C * M2_AB)\n",
    "        S2_BB_arr[i] = np.sum((1/M**2) * C * M2_BB)\n",
    "    return S2_AA_arr*N**2, S2_AB_arr*N**2, S2_BB_arr*N**2\n",
    "\n",
    "def calc_sf2_inv(poly_mat, dens, N_m, b, M, k_vec = np.logspace(-2, 2, 50)):\n",
    "    if norm(k_vec[0]) < 1e-5:\n",
    "        s2 = np.ones((2,2),dtype='complex')\n",
    "        N = N_m * M\n",
    "        return s2[0][0]/(N**2), s2[0][1]/(N**2), s2[1][1]/(N**2)\n",
    "    (S2_AA_arr, S2_AB_arr, S2_BB_arr) = calc_sf2(poly_mat, dens, N_m, b, k_vec)\n",
    "    det = S2_AA_arr * S2_BB_arr - S2_AB_arr**2\n",
    "    S2_AA_inv = S2_BB_arr * (1/det)\n",
    "    S2_AB_inv = -S2_AB_arr * (1/det)\n",
    "    S2_BB_inv = S2_AA_arr * (1/det)\n",
    "    return (S2_AA_inv, S2_AB_inv, S2_BB_inv)\n",
    "\n",
    "def find_kstar(poly_mat, dens, N_m, b, M, k_vec = np.logspace(-2, 2, 50)):\n",
    "    (S2_AA_inv, S2_AB_inv, S2_BB_inv) = calc_sf2_inv(poly_mat, dens, N_m, b, M, k_vec)\n",
    "    G2 = 0.5*(S2_AA_inv - 2* S2_AB_inv + S2_BB_inv) # chi = 0\n",
    "\n",
    "    # eigvalues,eigvectors = np.linalg.eigh(G2)\n",
    "    eigvalues_lst = G2\n",
    "    min_eig = np.min(eigvalues_lst[~np.isnan(eigvalues_lst)])\n",
    "\n",
    "    k_star = k_vec[np.where(eigvalues_lst==min_eig)]#[0]][0] \n",
    "    return k_star\n",
    "\n",
    "def calc_monomer_matrix_3(poly_mat, dens):\n",
    "    # calculates the AAA monomer identity cross correlation matrix\n",
    "    # assumes all polymers same length/ # of monomers, equal volume fraction of each\n",
    "    \n",
    "    # polymat - each row is a polymer\n",
    "    # dens is an array where each entry is rel vol frac of correponding polymer\n",
    "    if (np.sum(dens) != 1):\n",
    "        raise Exception(\"polymer volumer fractions do not sum to one\")\n",
    "    if len(np.shape(poly_mat)) == 1: # single poly\n",
    "        n_p = 1\n",
    "        M = len(poly_mat)\n",
    "        alph1 =np.zeros(M)\n",
    "        alph2 =np.zeros(M)\n",
    "        alph3 =np.zeros(M)\n",
    "        sig1 = 1*(poly_mat == alph1)\n",
    "        sig2 = 1*(poly_mat == alph2)\n",
    "        sig3 = 1*(poly_mat == alph3)\n",
    "#         M2_AA = np.outer(sig1, sig2)\n",
    "        M3_AAA = np.einsum('i,j,k',sig1,sig2,sig3)\n",
    "        return M3_AAA\n",
    "    \n",
    "    n_p = poly_mat.shape[0]\n",
    "    M = poly_mat.shape[1]\n",
    "    alph1 =np.zeros((n_p, M))\n",
    "    alph2 =np.zeros((n_p, M))\n",
    "    alph3 =np.zeros((n_p, M))\n",
    "\n",
    "    \n",
    "    #extend dens into n_pxM matrix\n",
    "    poly_weights = (np.ones((n_p, M)).T * dens).T\n",
    "    \n",
    "    #multiply sigams by density of each polymer\n",
    "    sigma1 = 1*((poly_mat == alph1))#.sum(axis = 0) #sigma. could multiply each\n",
    "    sigma2 = 1*((poly_mat == alph2))#.sum(axis = 0)\n",
    "    sigma3 = 1*((poly_mat == alph3))\n",
    "    \n",
    "    #need to do each row outer product with corresponding row, get n_p MxMxM matrices, then sum the results\n",
    "    prods = np.einsum('bi,bo,bn->bion', sigma1*poly_weights, sigma2, sigma3) # performing row wise cross product (each poly contribution)\n",
    "    M3_AAA = np.sum(prods, axis = 0)#           ^^^^ averaging each contribution\n",
    "    return M3_AAA\n",
    "\n",
    "def calc_sf3(poly_mat, dens, N_m, b, k_vec, k_vec_2):\n",
    "    # for a gaussian chain of M monomers, each of length N_m\n",
    "    # TODO: possible issue with non-cylindrical integrals\n",
    "\n",
    "    M3_AAA = calc_monomer_matrix_3(poly_mat, dens)\n",
    "    M = np.shape(M3_AAA)[0]\n",
    "    nk = len(k_vec)\n",
    "    N = M*N_m\n",
    "        \n",
    "    grid = np.indices((M,M,M))\n",
    "    j1 = grid[0]\n",
    "    j2 = grid[1]\n",
    "    j3 = grid[2]\n",
    "    \n",
    "    S3_AAA_arr =  np.zeros(nk)\n",
    "    S3_AAB_arr = np.zeros(nk)\n",
    "    S3_ABB_arr = np.zeros(nk)\n",
    "    S3_BBB_arr = np.zeros(nk)\n",
    "    \n",
    "    M3_BAA = M3_AAA[j2, j2, j3] - M3_AAA\n",
    "    M3_BBA = M3_AAA + M3_BAA[j1, j3, j3] - M3_AAA[j2,j2,j3]\n",
    "    M3_BBB = 1  - M3_AAA[j1, j1, j1] - M3_BAA[j1, j2, j2] - M3_BAA[j1, j3, j3] + M3_AAA[j2,j2,j3] - M3_AAA\n",
    "\n",
    "    for i, k_1 in enumerate(k_vec):\n",
    "        k_2 = k_vec_2[i]\n",
    "        k_12 = k_1 + k_2\n",
    "        \n",
    "        # CASE 1; kA = k1 + k2, kB = k_1; S3 > S2 > S1 and S1 > S2 > S3\n",
    "        case1 = [[k_12, k_1], [j3, j2, j1]]\n",
    "        # CASE 2; kA = k2, kB = k1 + k2; S2 > S1 > S3 and S3 > S1 > S2\n",
    "        case2 = [[k_2, k_12], [j2, j1, j3]]\n",
    "        # CASE 3; kA = k2, kB = -k1; S2 > S3 > S1 and S1 > S3 > S2\n",
    "        case3 = [[k_2, -k_1], [j2, j3, j1]]\n",
    "        \n",
    "        case_arr = [case1, case2, case3]\n",
    "#        for each case and sub case, add to a matrix C(j1, j2, j3) which contains the contribution to the overall S3\n",
    "#        then sum over all indices. Need to keep track of js so that aproiate multiplications with cross corr matrix M3        \n",
    "        C = np.zeros((M,M,M))\n",
    "\n",
    "        for cse in case_arr:\n",
    "            kA, kB = cse[0]\n",
    "            ordered_js = cse[1]\n",
    "            \n",
    "            xm_A = (1/6) * N_m * b**2 * np.linalg.norm(kA)**2\n",
    "            xm_B = (1/6) * N_m * b**2 * np.linalg.norm(kB)**2\n",
    "            \n",
    "            C = calc_case(C, xm_A, xm_B, ordered_js)\n",
    "\n",
    "        S3_AAA_arr[i] += np.sum((1/M**3) * M3_AAA * C)*(N**3)\n",
    "        S3_AAB_arr[i] += np.sum((1/M**3) * M3_BAA * C)*(N**3)\n",
    "        S3_ABB_arr[i] += np.sum((1/M**3) * M3_BBA * C)*(N**3)\n",
    "        S3_BBB_arr[i] += np.sum((1/M**3) * M3_BBB * C)*(N**3)\n",
    "        \n",
    "    return S3_AAA_arr, S3_AAB_arr, S3_ABB_arr, S3_BBB_arr\n",
    "\n",
    "def calc_case(C, xm_A, xm_B, ordered_js):\n",
    "\n",
    "    jmax, jmid, jmin = ordered_js\n",
    "    ordered_js.reverse()\n",
    "    jmax_d, jmid_d, jmin_d = ordered_js\n",
    "    \n",
    "    cylindrical = False\n",
    "    epsilon = 0.0000001\n",
    "    if xm_A + epsilon > xm_B and xm_A - epsilon < xm_B:\n",
    "        cylindrical = True\n",
    "    \n",
    "    xm_A_eq_0 = False\n",
    "    if xm_A < 1e-5:\n",
    "        xm_A_eq_0 = True\n",
    "        \n",
    "    xm_B_eq_0 = False\n",
    "    if xm_B < 1e-5:\n",
    "        xm_B_eq_0 = True\n",
    "        \n",
    "#     if (xm_A_eq_0):\n",
    "#         print(xm_A_eq_0)\n",
    "#     if xm_B_eq_0:\n",
    "#         print(xm_B_eq_0)\n",
    "\n",
    "    #for each sub case, looking at the degenerate case where 1 and 2 are switched\n",
    "    constant = np.exp(-xm_A*(jmax - jmid)) * np.exp(-xm_B*(jmid - jmin)) \n",
    "    constant_deg = np.exp(-xm_A*(jmax_d - jmid_d)) * np.exp(-xm_B*(jmid_d - jmin_d))\n",
    "\n",
    "    # sub case 1; jmax > jmid > jmin, {s1, s2, s3} any \n",
    "    index = (jmax > jmid) * (jmid > jmin)\n",
    "    index_deg = (jmax_d > jmid_d) * (jmid_d > jmin_d) #degeneracy\n",
    "    \n",
    "    if cylindrical == True:\n",
    "        integral = (1 / xm_A**2) * 2 * (-1 + np.cosh(xm_A))\n",
    "    elif xm_B_eq_0:\n",
    "        integral = (2*(-1+np.cosh(xm_A)))/ (xm_A**2)\n",
    "    elif xm_A_eq_0:\n",
    "        integral = (2*(-1+np.cosh(xm_B)))/ (xm_B**2)\n",
    "    else:\n",
    "        integral = (-2 / (xm_A * (xm_A - xm_B) * xm_B)) \\\n",
    "        * (-np.sinh(xm_A) + np.sinh(xm_A - xm_B) + np.sinh(xm_B))\n",
    "\n",
    "    C[np.where((index) != 0)] += constant[np.where(index != 0)] \\\n",
    "                                    * integral\n",
    "    \n",
    "    C[np.where((index_deg) != 0)] += constant_deg[np.where(index_deg != 0)] \\\n",
    "                                    * integral \n",
    "    \n",
    "    # sub case 2; jmax = jmid > jmin, s3 > s2, {s1} any\n",
    "    index = (jmax == jmid) * (jmid > jmin)\n",
    "    index_deg = (jmax_d == jmid_d) * (jmid_d > jmin_d) #degeneracy\n",
    "    \n",
    "    if cylindrical == True:\n",
    "        integral = (1 / xm_A**3) *( (2 + xm_A) * (-1 + np.cosh(xm_A)) - (xm_A * np.sinh(xm_A)) )\n",
    "    elif xm_B_eq_0:\n",
    "        integral = (-1 + xm_A + np.cosh(xm_A) - np.sinh(xm_A))/ (xm_A**2)\n",
    "    elif xm_A_eq_0:\n",
    "        integral = (np.exp(-xm_B)*(-1 + np.exp(xm_B))*(1+np.exp(xm_B)*(-1 + xm_B))) / (xm_B**3)   \n",
    "    else:\n",
    "        integral = ((-1 + np.exp(xm_B))/(xm_A * (xm_A - xm_B)*xm_B**2)) \\\n",
    "        * (xm_A + (-1 + np.exp(-xm_A))*xm_B - xm_A*np.cosh(xm_B) + xm_A*np.sinh(xm_B))\n",
    "\n",
    "    C[np.where((index) != 0)] += constant[np.where(index != 0)] \\\n",
    "                                    * integral\n",
    "    \n",
    "    C[np.where((index_deg) != 0)] += constant_deg[np.where(index_deg != 0)] \\\n",
    "                                    * integral \n",
    "\n",
    "    # BONUS sub case 4; jmax > jmid = jmin, s2 > s1, {s3} any \n",
    "    index = (jmax > jmid) * (jmid == jmin)\n",
    "    index_deg = (jmax_d > jmid_d) * (jmid_d == jmin_d)\n",
    "    \n",
    "    if cylindrical == True:\n",
    "        integral = (1 / xm_A**3) *( (2 + xm_A) * (-1 + np.cosh(xm_A)) - (xm_A * np.sinh(xm_A)) )\n",
    "    elif xm_B_eq_0:\n",
    "        integral = ((-2+xm_A)*(-1+np.cosh(xm_A))+ (xm_A*np.sinh(xm_A)))/ (xm_A**3)\n",
    "    elif xm_A_eq_0:\n",
    "        integral = (-1+xm_B+np.cosh(xm_B) - np.sinh(xm_B))/ (xm_B**2)\n",
    "    else:\n",
    "        integral = (((-1 + np.exp(xm_A))*(np.exp(-xm_A - xm_B)))/(xm_B * (xm_A - xm_B)*xm_A**2)) \\\n",
    "        * (-np.exp(xm_A)*xm_A + np.exp(xm_A + xm_B) * (xm_A -xm_B) + np.exp(xm_B)*xm_B)\n",
    "\n",
    "    C[np.where((index) != 0)] += constant[np.where(index != 0)] \\\n",
    "                                    * integral\n",
    "    \n",
    "    C[np.where((index_deg) != 0)] += constant_deg[np.where(index_deg != 0)] \\\n",
    "                                    * integral \n",
    "\n",
    "    # sub case 3; jmax = jmid = jmin, s3 > s2 > s1\n",
    "    index = (jmax == jmid) * (jmid == jmin)\n",
    "\n",
    "    if cylindrical == True:\n",
    "        integral = (1 / xm_A**3) * (np.exp(-xm_A) * (2 + np.exp(xm_A)*(-2 + xm_A) + xm_A))\n",
    "    elif xm_B_eq_0:\n",
    "        integral = (2-2*np.exp(-xm_A) - 2*xm_A + xm_A**2)/ (2*xm_A**3)\n",
    "    elif xm_A_eq_0:\n",
    "        integral = (2-2*np.exp(-xm_B) - 2*xm_B + xm_B**2)/ (2*xm_B**3)\n",
    "    else:\n",
    "        integral = (1 / (xm_A**2 * xm_B - xm_A * xm_B**2))\\\n",
    "        * ( xm_A + (((-1 + np.exp(-xm_B)) * xm_A)/(xm_B)) - xm_B + ((xm_B - np.exp(-xm_A)*xm_B)/(xm_A)) )\n",
    "\n",
    "    C[np.where(index != 0)] += 1\\\n",
    "                                    * constant[np.where(index != 0)]\\\n",
    "                                    * integral \\\n",
    "                                    * 2 # degeneracy \n",
    "    return C\n",
    "\n",
    "def calc_monomer_matrix_4(poly_mat, dens):\n",
    "    # calculates the AAAA monomer identity cross correlation matrix\n",
    "    # assumes all polymers same length/ # of monomers, equal volume fraction of each\n",
    "    \n",
    "    # polymat - each row is a polymer\n",
    "    # dens is an array where each entry is rel vol frac of correponding polymer\n",
    "    if (np.sum(dens) != 1):\n",
    "        raise Exception(\"polymer volumer fractions do not sum to one\")\n",
    "    if len(np.shape(poly_mat)) == 1: # single poly\n",
    "        n_p = 1\n",
    "        M = len(poly_mat)\n",
    "        alph1 =np.zeros(M)\n",
    "        alph2 =np.zeros(M)\n",
    "        alph3 =np.zeros(M)\n",
    "        alph4 =np.zeros(M)\n",
    "\n",
    "        sig1 = 1*(poly_mat == alph1)\n",
    "        sig2 = 1*(poly_mat == alph2)\n",
    "        sig3 = 1*(poly_mat == alph3)\n",
    "        sig4 = 1*(poly_mat == alph3)\n",
    "#         M2_AA = np.outer(sig1, sig2)\n",
    "        M4_AAAA = np.einsum('i,j,k,l',sig1,sig2,sig3,sig4)\n",
    "        return M4_AAAA\n",
    "    \n",
    "    n_p = poly_mat.shape[0]\n",
    "    M = poly_mat.shape[1]\n",
    "    alph1 =np.zeros((n_p, M))\n",
    "    alph2 =np.zeros((n_p, M))\n",
    "    alph3 =np.zeros((n_p, M))\n",
    "    alph4 =np.zeros((n_p, M))\n",
    "    \n",
    "    #extend dens into n_pxM matrix\n",
    "    poly_weights = (np.ones((n_p, M)).T * dens).T\n",
    "    \n",
    "    #multiply sigams by density of each polymer\n",
    "    sigma1 = 1*((poly_mat == alph1))#.sum(axis = 0) #sigma. could multiply each\n",
    "    sigma2 = 1*((poly_mat == alph2))#.sum(axis = 0)\n",
    "    sigma3 = 1*((poly_mat == alph3))\n",
    "    sigma4 = 1*((poly_mat == alph4))\n",
    "    \n",
    "    #need to do each row outer product with corresponding row, get n_p MxMxM matrices, then sum the results\n",
    "    prods = np.einsum('bi,bo,bn,bm->bionm', sigma1*poly_weights, sigma2, sigma3, sigma4) # performing row wise cross product (each poly contribution)\n",
    "    M4_AAAA = np.sum(prods, axis = 0)#           ^^^^ averaging each contribution\n",
    "    return M4_AAAA\n",
    "\n",
    "def calc_sf4(poly_mat, dens, N_m, b, k_vec, k_vec_2, k_vec_3):\n",
    "    M4_AAAA = calc_monomer_matrix_4(poly_mat, dens)\n",
    "    M = np.shape(M4_AAAA)[0]\n",
    "    nk = len(k_vec)\n",
    "    N = M*N_m\n",
    "\n",
    "    grid = np.indices((M,M,M,M))\n",
    "    j1 = grid[0]\n",
    "    j2 = grid[1]\n",
    "    j3 = grid[2]\n",
    "    j4 = grid[3]\n",
    "    \n",
    "    S4_AAAA_arr = np.zeros(nk)\n",
    "    S4_AAAB_arr = np.zeros(nk)\n",
    "    S4_AABB_arr = np.zeros(nk)\n",
    "    S4_ABBB_arr = np.zeros(nk)\n",
    "    S4_BBBB_arr = np.zeros(nk)\n",
    "    \n",
    "    M4_BAAA = M4_AAAA[j2, j2, j3, j4] - M4_AAAA\n",
    "    M4_BBAA = M4_BAAA[j1, j3, j3, j4] - M4_BAAA\n",
    "    M4_BBBA = M4_BBAA[j1, j2, j4, j4] - M4_BBAA\n",
    "    M4_BBBB = 1 - M4_AAAA[j1, j1, j1, j1] - M4_AAAA[j2, j2, j2, j2] - M4_AAAA[j3, j3, j3, j3]  + M4_AAAA[j1, j1, j3, j3]\\\n",
    "    + M4_AAAA[j2, j2, j3, j3] + M4_AAAA[j1, j1, j2, j2] - M4_AAAA[j1, j2, j3, j3] - M4_BBBA\n",
    "\n",
    "    for i, k1 in enumerate(k_vec):\n",
    "        k2 = k_vec_2[i]\n",
    "        k3 = k_vec_3[i]\n",
    "        k12 = k1 + k2\n",
    "        k13 = k1 + k3\n",
    "        k23 = k2 + k3\n",
    "        k123 = k1 + k2 + k3\n",
    "        \n",
    "        # CASE 1; kA = k1 + k2 + k3; kB = k_1 + k_2; kC = k_1  S4 > S3 > S2 > S1 (and reverse). All cases on wlcstat\n",
    "        case1 = [[k123, k12, k1], [j4, j3, j2, j1]]\n",
    "        case2 = [[k123, k12, k2], [j4, j3, j1, j2]]\n",
    "        case3 = [[k123, k13, k1], [j4, j2, j3, j1]]\n",
    "        case4 = [[k123, k23, k2], [j4, j1, j3, j2]]\n",
    "        case5 = [[k123, k13, k3], [j4, j2, j1, j3]]\n",
    "        case6 = [[k123, k23, k3], [j4, j1, j2, j3]]\n",
    "        case7 = [[-k3, k12, k1], [j3, j4, j2, j1]]\n",
    "        case8 = [[-k3, k12, k2], [j3, j4, j1, j2]]\n",
    "        case9 = [[-k2, k13, k1], [j2, j4, j3, j1]]\n",
    "        case10 = [[-k1, k23, k2], [j1, j4, j3, j2]]\n",
    "        case11 = [[-k2, k13, k3], [j2, j4, j1, j3]]\n",
    "        case12 = [[-k1, k23, k3], [j1, j4, j2, j3]]\n",
    "        \n",
    "        case_arr = [case1, case2, case3, case4, case5, case6, \\\n",
    "                   case7, case8, case9, case10, case11, case12]\n",
    "        \n",
    "        C = np.zeros((M,M,M,M))\n",
    "        for cse in case_arr:\n",
    "            kA, kB, kC = cse[0]\n",
    "            ordered_js = cse[1]\n",
    "            \n",
    "            xm_A = (1/6) * N_m * b**2 * np.linalg.norm(kA)**2\n",
    "            xm_B = (1/6) * N_m * b**2 * np.linalg.norm(kB)**2\n",
    "            xm_C = (1/6) * N_m * b**2 * np.linalg.norm(kC)**2\n",
    "#             print(\"xma\", xm_A)\n",
    "#             print(\"xmb\", xm_B)\n",
    "#             print(\"xmc\", xm_C)\n",
    "            C = calc_case_s4(C, xm_A, xm_B, xm_C, ordered_js) \n",
    "#             print(\"C\", C)\n",
    "        S4_AAAA_arr[i] += np.sum((1/M**4) * M4_AAAA * C)*(N**4)\n",
    "        S4_AAAB_arr[i] += np.sum((1/M**4) * M4_BAAA * C)*(N**4)\n",
    "        S4_AABB_arr[i] += np.sum((1/M**4) * M4_BBAA * C)*(N**4)\n",
    "        S4_ABBB_arr[i] += np.sum((1/M**4) * M4_BBBA * C)*(N**4)\n",
    "        S4_BBBB_arr[i] += np.sum((1/M**4) * M4_BBBB * C)*(N**4)\n",
    "        \n",
    "    return S4_AAAA_arr, S4_AAAB_arr, S4_AABB_arr, S4_ABBB_arr, S4_BBBB_arr \n",
    "\n",
    "\n",
    "def calc_case_s4(C, xm_A, xm_B, xm_C, ordered_js):\n",
    "\n",
    "    jmax, jupp, jlow, jmin = ordered_js\n",
    "    ordered_js.reverse()\n",
    "    jmax_d, jupp_d, jlow_d, jmin_d = ordered_js\n",
    "    \n",
    "    xmA_eq_xmB = False\n",
    "    xmA_eq_xmC = False\n",
    "    xmB_eq_xmC = False\n",
    "    epsilon = 0.0000001\n",
    "    if xm_A + epsilon > xm_B and xm_A - epsilon < xm_B:\n",
    "        xmA_eq_xmB = True\n",
    "    if xm_A + epsilon > xm_C and xm_A - epsilon < xm_C:\n",
    "        xmA_eq_xmC = True\n",
    "    if xm_B + epsilon > xm_C and xm_B - epsilon < xm_C:\n",
    "        xmB_eq_xmC = True\n",
    "        \n",
    "    xm_B_eq_0 = False\n",
    "    if xm_B < 1e-5:\n",
    "        xm_B_eq_0 = True\n",
    "#     print(\"xmA_eq_xmB\")\n",
    "#     print(xmA_eq_xmB)\n",
    "#     print(\"xmA_eq_xmC\")\n",
    "#     print(xmA_eq_xmC)\n",
    "#     print(\"xmB_eq_xmC\")\n",
    "#     print(xmB_eq_xmC)\n",
    "\n",
    "    #for each sub case, looking at the degenerate case where 1 and 2 are switched\n",
    "    constant = np.exp(-xm_A*(jmax - jupp)- xm_B*(jupp - jlow) - xm_C*(jlow - jmin))\n",
    "    constant_deg = np.exp(-xm_A*(jmax_d - jupp_d)- xm_B*(jupp_d - jlow_d) - xm_C*(jlow_d - jmin_d))\n",
    "\n",
    "    # sub case 1; jmax > jupp > jlow > jmin, {s1234} any\n",
    "    index = (jmax > jupp) * (jupp > jlow) * (jlow > jmin)\n",
    "    index_deg = (jmax_d > jupp_d) * (jupp_d > jlow_d) * (jlow_d > jmin_d)\n",
    "\n",
    "    if xmA_eq_xmB and xmB_eq_xmC:\n",
    "        integral = 2*(-1 + np.cosh(xm_A)) / xm_A**2\n",
    "    elif xm_B_eq_0 and (not xmA_eq_xmC): #fABCBzero\n",
    "        integral = (16 / (xm_A**2 * xm_C**2) )* \\\n",
    "                    np.sinh(xm_A / 2)**2 *np.sinh(xm_C / 2)**2\n",
    "    elif xm_B_eq_0 and xmA_eq_xmC: #fABABzero\n",
    "        integral = (16 / xm_A**4 )* \\\n",
    "                    np.sinh(xm_A / 2)**4\n",
    "    elif (not xmA_eq_xmB) and (not xmB_eq_xmC) and (not xmA_eq_xmC):\n",
    "        integral = (16*np.sinh(xm_A / 2) * np.sinh((xm_A - xm_B)/2) * np.sinh((xm_B - xm_C)/2) * np.sinh(xm_C/2))\\\n",
    "                    / (xm_A * (xm_A - xm_B) * (xm_B - xm_C) * xm_C)\n",
    "    elif xmA_eq_xmB:\n",
    "        integral = -(2 / (xm_A*xm_C*(xm_A - xm_C))) * \\\n",
    "                    (-np.sinh(xm_A) + np.sinh(xm_A - xm_C) + np.sinh(xm_C))\n",
    "    elif xmB_eq_xmC:\n",
    "        integral = -(2 / (xm_A*xm_B*(xm_A - xm_B))) * \\\n",
    "                    (-np.sinh(xm_A) + np.sinh(xm_A - xm_B) + np.sinh(xm_B))\n",
    "    elif xmA_eq_xmC:\n",
    "        integral = (16 / (xm_A**2 * (xm_A - xm_B)**2) )* \\\n",
    "                    np.sinh(xm_A / 2)**2 *np.sinh((xm_A - xm_B) / 2)**2\n",
    "#     print(\"subcase 1\")\n",
    "#     print(constant[np.where(index != 0)] \\\n",
    "#                                     * integral)\n",
    "    C[np.where((index) != 0)] += constant[np.where(index != 0)] \\\n",
    "                                    * integral\n",
    "    \n",
    "    C[np.where((index_deg) != 0)] += constant_deg[np.where(index_deg != 0)] \\\n",
    "                                    * integral \n",
    "    \n",
    "    # sub case 2; jmax = jupp > jlow > jmin\n",
    "    index = (jmax == jupp) * (jupp > jlow) * (jlow > jmin)\n",
    "    index_deg = (jmax_d == jupp_d) * (jupp_d > jlow_d) * (jlow_d > jmin_d)\n",
    "\n",
    "    if xmA_eq_xmB and xmB_eq_xmC:\n",
    "        integral = (np.exp(-xm_A) * (-1 + np.exp(xm_A)) * (-1 + np.exp(xm_A) - xm_A))\\\n",
    "        / (xm_A**3)\n",
    "        \n",
    "    elif xm_B_eq_0 and (not xmA_eq_xmC): #fABCBzero\n",
    "        integral = ((np.exp(-xm_A - xm_C)) * (-1+np.exp(xm_C))**2 * (1+np.exp(xm_A) *(-1 + xm_A)))\\\n",
    "        /(xm_A**2*xm_C**2)\n",
    "    elif xm_B_eq_0 and xmA_eq_xmC: #fABABzero\n",
    "        integral = ((np.exp(-2*xm_A)) * (-1+np.exp(xm_A))**2 * (1+np.exp(xm_A) *(-1 + xm_A)))\\\n",
    "        /(xm_A**2*xm_A**2)\n",
    "        \n",
    "    elif (not xmA_eq_xmB) and (not xmB_eq_xmC) and (not xmA_eq_xmC):\n",
    "        integral = ((np.exp(-xm_A-xm_B-xm_C)) * (-1+np.exp(xm_C)) * (-np.exp(xm_B)+np.exp(xm_C))\\\n",
    "                    * (-np.exp(xm_A)*xm_A + np.exp(xm_A + xm_B)*(xm_A-xm_B) + np.exp(xm_B)*xm_B))\\\n",
    "                    / (xm_A*xm_B*xm_C*(xm_A - xm_B) * (xm_C - xm_B))\n",
    "    elif xmA_eq_xmB:\n",
    "        integral = ((np.exp(-xm_A - xm_C)) * (-1+np.exp(xm_C)) * (-np.exp(xm_A)+np.exp(xm_C)) * (-1+np.exp(xm_A) - xm_A))\\\n",
    "        /(xm_A**2*xm_C*(xm_C - xm_A))\n",
    "    elif xmB_eq_xmC:\n",
    "        integral = ((-1+np.exp(xm_B))*(xm_A - xm_A*np.exp(-xm_B) + (-1+np.exp(-xm_A))*xm_B))/(xm_B**2*xm_A*(xm_A - xm_B))\n",
    "    elif xmA_eq_xmC:\n",
    "        integral = ( (np.exp(-2*xm_A-xm_B))*(-1+np.exp(xm_A))*(np.exp(xm_A) - np.exp(xm_B))\\\n",
    "                    *(-np.exp(xm_A)*xm_A + np.exp(xm_A + xm_B)*(xm_A-xm_B) + np.exp(xm_B)*xm_B)) / (xm_B*xm_A**2*(xm_A-xm_B)**2)\n",
    "#     print(\"subcase 2\")\n",
    "#     print(constant[np.where(index != 0)] \\\n",
    "#                                     * integral)\n",
    "    C[np.where((index) != 0)] += constant[np.where(index != 0)] \\\n",
    "                                    * integral\n",
    "    \n",
    "    C[np.where((index_deg) != 0)] += constant_deg[np.where(index_deg != 0)] \\\n",
    "                                    * integral \n",
    "\n",
    "    # sub case 3; jmax > jupp = jlow > jmin\n",
    "    index = (jmax > jupp) * (jupp == jlow) * (jlow > jmin)\n",
    "    index_deg = (jmax_d > jupp_d) * (jupp_d == jlow_d) * (jlow_d > jmin_d)\n",
    "\n",
    "    if xmA_eq_xmB and xmB_eq_xmC:\n",
    "        integral = (-1 + np.cosh(xm_A)) / (xm_A**2)\n",
    "        \n",
    "    elif xm_B_eq_0 and (not xmA_eq_xmC): #fABCBzero\n",
    "        integral = ((np.exp(-xm_A - xm_C)) * (-1+np.exp(xm_A)) * (-1+np.exp(xm_C)) * (-np.exp(xm_A)*xm_A + np.exp(xm_A+xm_C)*(xm_A-xm_C) + np.exp(xm_C)*xm_C))\\\n",
    "        /(xm_A**2*xm_C**2*(xm_A - xm_C))\n",
    "    elif xm_B_eq_0 and xmA_eq_xmC: #fABABzero\n",
    "        integral = (np.exp(-xm_A) * (-1+np.exp(xm_A))**2 * (-1 + np.exp(xm_A) - xm_A))\\\n",
    "        /(xm_A**4)\n",
    "        \n",
    "    elif (not xmA_eq_xmB) and (not xmB_eq_xmC) and (not xmA_eq_xmC):\n",
    "        integral = ((1-np.exp(-xm_A))*(-1+np.exp(xm_C))*( ( (1-np.exp(xm_A-xm_B))/(xm_A-xm_B) ) + ( (-1+np.exp(xm_A-xm_C))/(xm_A-xm_C) ) ))/(xm_A*xm_C*(xm_B - xm_C))\n",
    "    elif xmA_eq_xmB:\n",
    "        integral = ((np.exp(-xm_A - xm_C)) * (-1+np.exp(xm_A)) * (-1+np.exp(xm_C)) * (np.exp(xm_A)+np.exp(xm_C)*(-1-xm_A+xm_C)))\\\n",
    "        /(xm_A*xm_C*(xm_A - xm_C)**2)\n",
    "    elif xmB_eq_xmC:\n",
    "        integral = ((np.exp(-xm_A - xm_B)) * (-1+np.exp(xm_A)) * (-1+np.exp(xm_B)) * (np.exp(xm_B)+np.exp(xm_A)*(-1+xm_A-xm_B)))\\\n",
    "        /(xm_A*xm_B*(xm_A - xm_B)**2)\n",
    "    elif xmA_eq_xmC:\n",
    "        integral = ((np.exp(-xm_A - xm_B)) * (-1+np.exp(xm_A))**2 * (np.exp(xm_A)+np.exp(xm_B)*(-1-xm_A+xm_B)))/(xm_A**2 * (xm_A - xm_B)**2)\n",
    "#     print(\"subcase 3\")\n",
    "#     print(constant[np.where(index != 0)] \\\n",
    "#                                     * integral)    \n",
    "    C[np.where((index) != 0)] += constant[np.where(index != 0)] \\\n",
    "                                    * integral\n",
    "    \n",
    "    C[np.where((index_deg) != 0)] += constant_deg[np.where(index_deg != 0)] \\\n",
    "                                    * integral \n",
    "\n",
    "    # sub case 4; jmax > jupp > jlow = jmin\n",
    "    index = (jmax > jupp) * (jupp > jlow) * (jlow == jmin)\n",
    "    index_deg = (jmax_d > jupp_d) * (jupp_d > jlow_d) * (jlow_d == jmin_d)\n",
    "\n",
    "    if xmA_eq_xmB and xmB_eq_xmC:\n",
    "        integral = ((2+xm_A)*(-1+np.cosh(xm_A)) - xm_A*np.sinh(xm_A))/(xm_A**3)\n",
    "    \n",
    "    elif xm_B_eq_0 and (not xmA_eq_xmC): #fABCBzero\n",
    "        integral = (np.exp(-xm_A - xm_C) * (-1+np.exp(xm_A))**2 * (1 + np.exp(xm_C)*(-1 + xm_C)))\\\n",
    "        /(xm_A**2*xm_C**2)\n",
    "    elif xm_B_eq_0 and xmA_eq_xmC: #fABABzero\n",
    "        integral = (np.exp(-2*xm_A) * (-1+np.exp(xm_A))**2 * (1 + np.exp(xm_A)*(-1 + xm_A)))\\\n",
    "        /(xm_A**4)\n",
    "        \n",
    "    elif (not xmA_eq_xmB) and (not xmB_eq_xmC) and (not xmA_eq_xmC):\n",
    "        integral = ((np.exp(-xm_A-xm_B-xm_C)) * (-1+np.exp(xm_A)) * (-np.exp(xm_B)+np.exp(xm_A))\\\n",
    "                    * (-np.exp(xm_B)*xm_B + np.exp(xm_C + xm_B)*(xm_B-xm_C) + np.exp(xm_C)*xm_C))\\\n",
    "                    / (xm_A*xm_B*xm_C*(xm_A - xm_B) * (xm_B - xm_C))\n",
    "    elif xmA_eq_xmB:\n",
    "        integral = ((np.exp(-xm_A-xm_C)) * (-1+np.exp(xm_A)) * (-np.exp(xm_A)*xm_A + np.exp(xm_A+xm_C)*(xm_A-xm_C)+np.exp(xm_C)*xm_C)) / (xm_A**2*xm_C*(xm_A - xm_C))\n",
    "    elif xmB_eq_xmC:\n",
    "        integral = ((np.exp(-xm_A - xm_B)) * (-1+np.exp(xm_A)) * (-np.exp(xm_A)+np.exp(xm_B)) * (-1+np.exp(xm_B) - xm_B))\\\n",
    "        /(xm_A*xm_B**2*(xm_B - xm_A))\n",
    "    elif xmA_eq_xmC:\n",
    "        integral = ( (np.exp(-2*xm_A-xm_B))*(-1+np.exp(xm_A))*(np.exp(xm_A) - np.exp(xm_B))\\\n",
    "                    *(-np.exp(xm_A)*xm_A + np.exp(xm_A + xm_B)*(xm_A-xm_B) + np.exp(xm_B)*xm_B)) / (xm_B*xm_A**2*(xm_A-xm_B)**2)\n",
    "\n",
    "#     print(\"subcase 4\")\n",
    "#     print(constant[np.where(index != 0)] \\\n",
    "#                                     * integral)    \n",
    "    C[np.where((index) != 0)] += constant[np.where(index != 0)] \\\n",
    "                                    * integral\n",
    "    \n",
    "    C[np.where((index_deg) != 0)] += constant_deg[np.where(index_deg != 0)] \\\n",
    "                                    * integral \n",
    "    \n",
    "    # sub case 5; jmax == jupp == jlow > jmin\n",
    "    index = (jmax == jupp) * (jupp == jlow) * (jlow > jmin)\n",
    "    index_deg = (jmax_d == jupp_d) * (jupp_d == jlow_d) * (jlow_d > jmin_d)\n",
    "\n",
    "    if xmA_eq_xmB and xmB_eq_xmC:\n",
    "        integral = (np.exp(-xm_A) * (-1 + np.exp(xm_A)) * (-2 + 2*np.exp(xm_A) - 2*xm_A - xm_A**2))\\\n",
    "        / (2*xm_A**4)\n",
    "        \n",
    "    elif xm_B_eq_0 and (not xmA_eq_xmC): #fABCBzero\n",
    "        integral = ((-1+np.ezp(xm_C))*( -xm_C + (   (xm_A*(-1+np.exp(-xm_C) + xm_C))  / (xm_C)  ) +  ( (xm_C-np.exp(-xm_A)*xm_C)  / (xm_A)  )     )) / (xm_A*(xm_A-xm_C)*xm_C**2)\n",
    "    elif xm_B_eq_0 and xmA_eq_xmC: #fABABzero\n",
    "        integral = (4-4*np.cosh(xm_A) + 2*xm_A*np.sinh(xm_A)) / (xm_A**4)\n",
    "        \n",
    "    elif (not xmA_eq_xmB) and (not xmB_eq_xmC) and (not xmA_eq_xmC):\n",
    "        integral = ((-1+np.exp(xm_C)) * (  ( (np.exp(-xm_B))/((xm_A-xm_B)*xm_B)   )  +  ( (xm_B - xm_C)/(xm_A*xm_B*xm_C)  )  +   (   (np.exp(-xm_C))/(xm_C*(xm_C-xm_A))    )  +    (    (np.exp(-xm_A)*(-xm_B+xm_C)) / ( xm_A*(xm_A-xm_B)*(xm_A-xm_C))  )   ))/((xm_B-xm_C)*xm_C)\n",
    "    elif xmA_eq_xmB:\n",
    "        integral = ((-1+np.exp(xm_C))* (  (-np.exp(-xm_C) * xm_A**2)     +    ((xm_A-xm_C)**2)    +     (np.exp(-xm_A)*xm_C*(xm_A**2 - xm_A*(-2+xm_C)-xm_C)) ))/(xm_A**2*xm_C**2*(xm_A-xm_C)**2)\n",
    "    elif xmB_eq_xmC:\n",
    "        integral = -((-1+np.exp(xm_B))* (  (np.exp(-xm_A) * xm_B**2)     +    -((xm_A-xm_B)**2)    +     (np.exp(-xm_B)*xm_A*(xm_A*(1+xm_B) - xm_B*(2+xm_B))) ))/(xm_B**3*xm_A*(xm_A-xm_B)**2)\n",
    "    elif xmA_eq_xmC:\n",
    "        integral = ((-1+np.exp(xm_A))* (  (-np.exp(-xm_B) * xm_A**2)     +    ((xm_A-xm_B)**2)    +     (np.exp(-xm_A)*xm_B*(xm_A**2 - xm_A*(-2+xm_B)-xm_B)) ))/(xm_A**3*xm_B*(xm_A-xm_B)**2)\n",
    "\n",
    "#     print(\"subcase 5\")\n",
    "#     print(constant[np.where(index != 0)] \\\n",
    "#                                     * integral)    \n",
    "    C[np.where((index) != 0)] += constant[np.where(index != 0)] \\\n",
    "                                    * integral\n",
    "    \n",
    "    C[np.where((index_deg) != 0)] += constant_deg[np.where(index_deg != 0)] \\\n",
    "                                    * integral \n",
    "    \n",
    "    # sub case 6; jmax > jupp == jlow = jmin\n",
    "    index = (jmax > jupp) * (jupp == jlow) * (jlow == jmin)\n",
    "    index_deg = (jmax_d > jupp_d) * (jupp_d == jlow_d) * (jlow_d == jmin_d)\n",
    "\n",
    "    if xmA_eq_xmB and xmB_eq_xmC:\n",
    "        integral = ((-1 + np.exp(-xm_A)) * (2 - 2*np.exp(xm_A) + 2*xm_A + xm_A**2))\\\n",
    "        / (2*xm_A**4)\n",
    "        \n",
    "    elif xm_B_eq_0 and (not xmA_eq_xmC): #fABCBzero\n",
    "        integral = (np.exp(-xm_A - xm_C)) * (-1 + np.exp(xm_A)) * ( (np.exp(xm_A)*xm_A**2)  +   (np.exp(xm_A+xm_C)*(xm_A-xm_C)*(xm_A*(-1+xm_C) -xm_C) )   -    (np.exp(xm_C)*xm_C**2) ) / (xm_A**3*(xm_A-xm_C)*xm_C**2)\n",
    "    elif xm_B_eq_0 and xmA_eq_xmC: #fABABzero\n",
    "        integral = (4-4*np.cosh(xm_A) + 2*xm_A*np.sinh(xm_A)) / (xm_A**4)\n",
    "        \n",
    "    elif (not xmA_eq_xmB) and (not xmB_eq_xmC) and (not xmA_eq_xmC):\n",
    "        integral = ( (np.exp(-xm_A - xm_B - xm_C)) * (-1+np.exp(xm_A)) * \\\n",
    "                   (          (-np.exp(xm_A+xm_B)*xm_A*(xm_A-xm_B)*xm_B)      +         (np.exp(xm_A+xm_C)*xm_A*(xm_A-xm_C)*xm_C)     +       (np.exp(xm_B+xm_C)*(xm_B-xm_C)*(np.exp(xm_A)*(xm_A-xm_B)*(xm_A-xm_C) -xm_B*xm_C) )     ))\\\n",
    "                    / (xm_A**2 * (xm_A - xm_B) * xm_B * (xm_A-xm_C) * (xm_B - xm_C) * xm_C)\n",
    "    elif xmA_eq_xmB:\n",
    "        integral = ( (np.exp(-xm_A - xm_C)) * (-1 + np.exp(xm_A)) * ((-np.exp(xm_A)*xm_A**2) +   (np.exp(xm_A+xm_C)*(xm_A-xm_C)**2)    +    -(np.exp(xm_C)*xm_C*(-xm_A**2+xm_A*(-2+xm_C)+xm_C)) ))/ (xm_A**3*(xm_A-xm_C)**2*xm_C)\n",
    "    elif xmB_eq_xmC:\n",
    "        integral = ( (np.exp(-xm_A - xm_B)) * (-1 + np.exp(xm_A)) * ((-np.exp(xm_B)*xm_B**2) +   (np.exp(xm_A+xm_B)*(xm_A-xm_B)**2)    +    -(np.exp(xm_A)*xm_A*(xm_A*(1+xm_B)-xm_B*(2+xm_B))) ))/ (xm_A**2*(xm_A-xm_B)**2*xm_B**2)\n",
    "    elif xmA_eq_xmC:\n",
    "        integral = ( (np.exp(-xm_A - xm_B)) * (-1 + np.exp(xm_A)) * ((-np.exp(xm_A)*xm_A**2) +   (np.exp(xm_A+xm_B)*(xm_A-xm_B)**2)    +    -(np.exp(xm_B)*xm_B*(-xm_A**2+xm_A*(-2+xm_B)+xm_B)) ))/ (xm_A**3*(xm_A-xm_B)**2*xm_B)\n",
    "#     print(\"subcase 6\")\n",
    "#     print(constant[np.where(index != 0)] \\\n",
    "#                                     * integral)    \n",
    "    C[np.where((index) != 0)] += constant[np.where(index != 0)] \\\n",
    "                                    * integral\n",
    "    \n",
    "    C[np.where((index_deg) != 0)] += constant_deg[np.where(index_deg != 0)] \\\n",
    "                                    * integral  \n",
    "    \n",
    "    # sub case 7; jmax == jupp == jlow = jmin\n",
    "    index = (jmax == jupp) * (jupp == jlow) * (jlow == jmin)\n",
    "\n",
    "    if xmA_eq_xmB and xmB_eq_xmC:\n",
    "        integral = (np.exp(-xm_A) * (6 + 2*(np.exp(xm_A)*(-3+xm_A)) + 4*xm_A + xm_A**2) ) / (2*xm_A**4)\n",
    "    \n",
    "    elif xm_B_eq_0 and (not xmA_eq_xmC): #fABCBzero\n",
    "        integral = (  (2*(-1 + np.exp(-xm_A))*xm_C**3) + (2*xm_A*xm_C**3)  + (-xm_A**2*xm_C**3) + (xm_A**3*(2-2*np.exp(-xm_C)-2*xm_C+xm_C**2)) ) / (2*xm_A**3*(xm_A-xm_C)*xm_C**3)\n",
    "    elif xm_B_eq_0 and xmA_eq_xmC: #fABABzero\n",
    "        integral = (np.exp(-xm_A) / (2*xm_A**4)) * ( (-2*(3+xm_A)) + (np.exp(xm_A) * (6-4*xm_A + xm_A**2)))\n",
    "\n",
    "    elif (not xmA_eq_xmB) and (not xmB_eq_xmC) and (not xmA_eq_xmC):\n",
    "        integral = ( (np.exp(-xm_A)) / (xm_A**2 * (xm_A-xm_B) * (xm_A - xm_C)) )      +      ( (np.exp(-xm_B)) / (xm_B**2 * (xm_B-xm_A) * (xm_B - xm_C)) )     +      ( (np.exp(-xm_C)) / (xm_C**2 * (xm_C-xm_A) * (xm_C - xm_B)) )      +        -(  (xm_B*xm_C + xm_A*(xm_B+xm_C-xm_B*xm_C))   /    (xm_A**2*xm_B**2*xm_C**2)  )\n",
    "    elif xmA_eq_xmB:\n",
    "        integral = (  (-xm_A**3) + (np.exp(-xm_C)*xm_A**3) + (xm_A*(xm_A-xm_C)**2*xm_C) + ((3*xm_A-2*xm_C)*xm_C**2) + ( np.exp(-xm_A)*xm_C**2 *(2*xm_C + xm_A*(-3-xm_A+xm_C))) ) / (xm_A**3 * xm_C**2 * (xm_A - xm_C)**2)\n",
    "    elif xmB_eq_xmC:\n",
    "        integral = ( ((xm_A - xm_B)**2 * (xm_A*(-2 + xm_B) - xm_B))     +     (np.exp(-xm_A) * xm_B**3)     +    (np.exp(-xm_B)*xm_A**2 * (xm_A*(2+xm_B) - xm_B*(3 + xm_B))  )      ) / (xm_A**2 * (xm_A - xm_B)**2 * xm_B**3)\n",
    "    elif xmA_eq_xmC:\n",
    "        integral =  (  (-xm_A**3) + (np.exp(-xm_B)*xm_A**3) + (xm_A*(xm_A-xm_B)**2*xm_B) + ((3*xm_A-2*xm_B)*xm_B**2) + ( np.exp(-xm_A)*xm_B**2 *(2*xm_B + xm_A*(-3-xm_A+xm_B))) ) / (xm_A**3 * xm_B**2 * (xm_A - xm_B)**2)\n",
    "#     print(\"subcase 7\")\n",
    "#     print(constant[np.where(index != 0)] \\\n",
    "#                                     * integral)    \n",
    "    C[np.where((index) != 0)] += constant[np.where(index != 0)] \\\n",
    "                                    * integral * 2\n",
    "    # sub case 8; jmax == jupp > jlow = jmin\n",
    "    index = (jmax == jupp) * (jupp > jlow) * (jlow == jmin)\n",
    "    index_deg = (jmax_d == jupp_d) * (jupp_d > jlow_d) * (jlow_d == jmin_d)\n",
    "\n",
    "    if xmA_eq_xmB and xmB_eq_xmC:\n",
    "        integral = (np.exp(-xm_A) * (1 + -np.exp(xm_A) +xm_A)**2)\\\n",
    "        / (xm_A**4)\n",
    "        \n",
    "    elif xm_B_eq_0 and (not xmA_eq_xmC): #fABCBzero\n",
    "        integral = ((np.exp(-xm_A - xm_C)) * (1+np.exp(xm_A) *(-1 + xm_A))*(1+np.exp(xm_C)*(-1+xm_C)))\\\n",
    "        /(xm_A**2*xm_C**2)\n",
    "    elif xm_B_eq_0 and xmA_eq_xmC: #fABABzero\n",
    "        integral = ( np.exp(-2*xm_A) * (1+np.exp(xm_A)*(-1 + xm_A))**2)\\\n",
    "        /(xm_A**4)\n",
    "        \n",
    "    elif (not xmA_eq_xmB) and (not xmB_eq_xmC) and (not xmA_eq_xmC):\n",
    "        integral = ((np.exp(-xm_A-xm_B-xm_C)) * (-np.exp(xm_A)*xm_A + np.exp(xm_A + xm_B)*(xm_A-xm_B) + np.exp(xm_B)*xm_B) *(-np.exp(xm_B)*xm_B + np.exp(xm_B + xm_C)*(xm_B-xm_C) + np.exp(xm_C)*xm_C) )\\\n",
    "                    / (xm_A*xm_B**2*xm_C*(xm_A - xm_B) * (xm_B - xm_C))\n",
    "    elif xmA_eq_xmB:\n",
    "        integral = ( (np.exp(-xm_A - xm_C)) * (-1 + np.exp(xm_A)-xm_A) * ( (-np.exp(xm_A)*xm_A) +   (np.exp(xm_A+xm_C)*(xm_A-xm_C))    +  (np.exp(xm_C)*xm_C) ))/ (xm_A**3*(xm_A-xm_C)*xm_C)\n",
    "    elif xmB_eq_xmC:\n",
    "        integral = ( (-1+np.exp(xm_B) - xm_B) * (xm_A-np.exp(-xm_B)*xm_A + (-1+np.exp(-xm_A))*xm_B) )/ (xm_A*(xm_A-xm_B)*xm_B**3)\n",
    "    elif xmA_eq_xmC:\n",
    "        integral = ( (np.exp(-2*xm_A-xm_B)) * (-np.exp(xm_A)*xm_A + np.exp(xm_A+xm_B)*(xm_A-xm_B) + np.exp(xm_B)*xm_B)**2) / (xm_A**2*xm_B**2*(xm_A-xm_B)**2)\n",
    "#     print(\"subcase 8\")\n",
    "#     print(constant[np.where(index != 0)] \\\n",
    "#                                     * integral)    \n",
    "    C[np.where((index) != 0)] += constant[np.where(index != 0)] \\\n",
    "                                    * integral\n",
    "    \n",
    "    C[np.where((index_deg) != 0)] += constant_deg[np.where(index_deg != 0)] \\\n",
    "                                    * integral     \n",
    "    return C\n",
    "\n",
    "def spinodal_gaus(poly_mat, dens, N_m, b, M):\n",
    "    chi = 0\n",
    "#     K0 = 1/np.sqrt(r2(N))\n",
    "    \n",
    "    KS = optimize.fmin(lambda K: np.real(gamma2_E(poly_mat, dens, N_m, b, M, K, chi)), 0.01,\\\n",
    "                      disp=False)\n",
    "    \n",
    "    return KS\n",
    "\n",
    "def gamma2_E(poly_mat, dens, N_m, b, M, k, chi):\n",
    "# like an ensemble-averaged G2, using gaussian chain \n",
    "    (S2_AA_inv, S2_AB_inv, S2_BB_inv) = calc_sf2_inv(poly_mat, dens, N_m, b, M, [k])\n",
    "    s2_inv_mat = np.zeros((2, 2))\n",
    "    s2_inv_mat[0][0] = S2_AA_inv\n",
    "    s2_inv_mat[0][1] = s2_inv_mat[1][0] = S2_AB_inv\n",
    "    s2_inv_mat[1][1] = S2_BB_inv\n",
    "    \n",
    "    D = [1,-1]    # sign indicator\n",
    "    G = 0\n",
    "    for I0, I1 in product([0,1], repeat=2):\n",
    "        G += s2_inv_mat[I0, I1]*D[I0]*D[I1]\n",
    "        \n",
    "    return -2*chi + N*G\n",
    "\n",
    "def gamma3_E(poly_mat, dens, N_m, b, M, Ks):\n",
    "    K1, K2, K3 = Ks\n",
    "    if norm(K1+K2+K3) >= 1e-10:\n",
    "        raise('Qs must add up to zero')\n",
    "        \n",
    "    if not (abs(norm(K1)-norm(K2)) < 1e-5 \\\n",
    "        and abs(norm(K2)-norm(K3)) < 1e-5):\n",
    "        raise('Qs must have same length')\n",
    "        \n",
    "    (sf3_AAA, sf3_AAB, sf3_ABB, sf3_BBB) = calc_sf3(poly_mat, dens, N_m, b, [K1], [K2])\n",
    "    \n",
    "    (S2_AA_inv, S2_AB_inv, S2_BB_inv) = calc_sf2_inv(poly_mat, dens, N_m, b, M, [K1])\n",
    "    \n",
    "    s2inv = np.zeros((2, 2))\n",
    "    s2inv[0][0] = S2_AA_inv\n",
    "    s2inv[0][1] = s2inv[1][0] = S2_AB_inv\n",
    "    s2inv[1][1] = S2_BB_inv\n",
    "    \n",
    "    s3 = np.zeros((2,2,2))\n",
    "    s3[0][0][0] = sf3_AAA\n",
    "    s3[1][0][0] = s3[0][1][0] = s3[0][0][1] = sf3_AAB\n",
    "    s3[1][1][0] = s3[1][0][1] = s3[0][1][1] = sf3_ABB\n",
    "    s3[1][1][1] = sf3_BBB\n",
    "    \n",
    "#     print(\"GAUS S3, S2inv\")\n",
    "#     print(s3)\n",
    "#     print(s2inv)\n",
    "    val = 0\n",
    "    for I0, I1, I2 in product([0,1], repeat=3):\n",
    "        val -= s3[I0][I1][I2]* (s2inv[I0][0] - s2inv[I0][1])*\\\n",
    "                               (s2inv[I1][0] - s2inv[I1][1])*\\\n",
    "                               (s2inv[I2][0] - s2inv[I2][1])\n",
    "    \n",
    "    return val*(N**2) \n",
    "\n",
    "def gamma4_E(poly_mat, dens, N_m, b, M, Ks):\n",
    "    K1, K2, K3, K4 = Ks\n",
    "    if not (abs(norm(K1)-norm(K2)) < 1e-5\n",
    "            and abs(norm(K2)-norm(K3)) < 1e-5\n",
    "            and abs(norm(K3)-norm(K4)) < 1e-5):\n",
    "        print(K1, K2, K3, K4)\n",
    "        raise('Qs must have same length')\n",
    "    \n",
    "    N = M * N_m\n",
    "        \n",
    "    K = norm(K1)\n",
    "    K12 = norm(K1+K2)\n",
    "    K13 = norm(K1+K3)\n",
    "    K14 = norm(K1+K4)\n",
    "\n",
    "#     print(\"k2\")\n",
    "#     print(K2)\n",
    "#     print(\"k4\")\n",
    "#     print(K4)\n",
    "\n",
    "\n",
    "    s4_AAAA, s4_AAAB, s4_AABB, s4_ABBB, s4_BBBB = calc_sf4(poly_mat, dens, N_m, b, [K1], [K2], [K3]) \n",
    "    \n",
    "    (sf31_AAA, sf31_AAB, sf31_ABB, sf31_BBB) = calc_sf3(poly_mat, dens, N_m, b, [K1], [K2])\n",
    "\n",
    "    (sf32_AAA, sf32_AAB, sf32_ABB, sf32_BBB) = calc_sf3(poly_mat, dens, N_m, b, [K1], [K3])\n",
    "\n",
    "    (sf33_AAA, sf33_AAB, sf33_ABB, sf33_BBB) = calc_sf3(poly_mat, dens, N_m, b, [K1], [K4])\n",
    "\n",
    "    (S2_AA_inv, S2_AB_inv, S2_BB_inv) = calc_sf2_inv(poly_mat, dens, N_m, b, M, [K])\n",
    "\n",
    "    (S2_AA_inv_1, S2_AB_inv_1, S2_BB_inv_1) = calc_sf2_inv(poly_mat, dens, N_m, b, M, [K12])\n",
    "\n",
    "    (S2_AA_inv_2, S2_AB_inv_2, S2_BB_inv_2) = calc_sf2_inv(poly_mat, dens, N_m, b, M, [K13])\n",
    "\n",
    "    (S2_AA_inv_3, S2_AB_inv_3, S2_BB_inv_3) = calc_sf2_inv(poly_mat, dens, N_m, b, M, [K14])\n",
    "\n",
    "    s4 = np.zeros((2, 2, 2, 2))\n",
    "    \n",
    "    s4[0][0][0][0] = s4_AAAA\n",
    "    s4[0][0][0][1] = s4[0][0][1][0] = s4[0][1][0][0] = s4[1][0][0][0] = s4_AAAB\n",
    "    s4[0][0][1][1] = s4[0][1][0][1] = s4[1][0][0][1] = s4[0][1][1][0] = s4[1][0][1][0] = s4[1][1][0][0] = s4_AABB\n",
    "    s4[1][1][1][0] = s4[1][1][0][1] = s4[1][0][1][1] = s4[0][1][1][1] = s4_ABBB\n",
    "    s4[1][1][1][1] = s4_BBBB\n",
    "\n",
    "    \n",
    "    s31 = np.zeros((2,2,2))\n",
    "    s31[0][0][0] = sf31_AAA\n",
    "    s31[1][0][0] = s31[0][1][0] = s31[0][0][1] = sf31_AAB\n",
    "    s31[1][1][0] = s31[1][0][1] = s31[0][1][1] = sf31_ABB\n",
    "    s31[1][1][1] = sf31_BBB\n",
    "    \n",
    "    \n",
    "    s32 = np.zeros((2,2,2))\n",
    "    s32[0][0][0] = sf32_AAA\n",
    "    s32[1][0][0] = s32[0][1][0] = s32[0][0][1] = sf32_AAB\n",
    "    s32[1][1][0] = s32[1][0][1] = s32[0][1][1] = sf32_ABB\n",
    "    s32[1][1][1] = sf32_BBB\n",
    "    \n",
    "\n",
    "    s33 = np.zeros((2,2,2))\n",
    "    s33[0][0][0] = sf33_AAA\n",
    "    s33[1][0][0] = s33[0][1][0] = s33[0][0][1] = sf33_AAB\n",
    "    s33[1][1][0] = s33[1][0][1] = s33[0][1][1] = sf33_ABB\n",
    "    s33[1][1][1] = sf33_BBB\n",
    "    \n",
    "    # copying vertex!\n",
    "    M2_AA = calc_monomer_matrix(poly_mat, dens)\n",
    "    FA = np.sum(np.diag(M2_AA)) / M  # ensemble-average f_A\n",
    "    FB = 1 - FA \n",
    "    print(\"my calculate FA\")\n",
    "    print(FA)\n",
    "    N = M * N_m\n",
    "    print(\"K1\")\n",
    "    print(K1)\n",
    "    print(\"K2\")\n",
    "    print(K2)\n",
    "    print(\"K3\")\n",
    "    print(K3)\n",
    "    if norm(-K1 - K2) < 1e-5:\n",
    "        #calc s2\n",
    "        print(\"0q S31\")\n",
    "        s2_AA, s2_AB, s2_BB = calc_sf2(poly_mat, dens, N_m, b, [K1])\n",
    "        s31[0][0][0] = s2_AA*FA*N\n",
    "        s31[0][0][1] = s2_AA*FB*N\n",
    "        s31[0][1][0] = s2_AB*FA*N\n",
    "        s31[0][1][1] = s2_AB*FB*N\n",
    "        s31[1][0][0] = s2_AB*FA*N\n",
    "        s31[1][0][1] = s2_AB*FB*N\n",
    "        s31[1][1][0] = s2_BB*FA*N\n",
    "        s31[1][1][1] = s2_BB*FB*N\n",
    "\n",
    "    if norm(-K1 - K3) < 1e-5:\n",
    "        #calc s2\n",
    "        print(\"0q S32\")\n",
    "        s2_AA, s2_AB, s2_BB = calc_sf2(poly_mat, dens, N_m, b, [K1])\n",
    "        s32[0][0][0] = s2_AA*FA*N\n",
    "        s32[0][0][1] = s2_AA*FB*N\n",
    "        s32[0][1][0] = s2_AB*FA*N\n",
    "        s32[0][1][1] = s2_AB*FB*N\n",
    "        s32[1][0][0] = s2_AB*FA*N\n",
    "        s32[1][0][1] = s2_AB*FB*N\n",
    "        s32[1][1][0] = s2_BB*FA*N\n",
    "        s32[1][1][1] = s2_BB*FB*N\n",
    "    \n",
    "    if norm(-K1 - K4) < 1e-5:\n",
    "        #calc s2\n",
    "        print(\"0q S33\")\n",
    "        s2_AA, s2_AB, s2_BB = calc_sf2(poly_mat, dens, N_m, b, [K1])\n",
    "        s33[0][0][0] = s2_AA*FA*N\n",
    "        s33[0][0][1] = s2_AA*FB*N\n",
    "        s33[0][1][0] = s2_AB*FA*N\n",
    "        s33[0][1][1] = s2_AB*FB*N\n",
    "        s33[1][0][0] = s2_AB*FA*N\n",
    "        s33[1][0][1] = s2_AB*FB*N\n",
    "        s33[1][1][0] = s2_BB*FA*N\n",
    "        s33[1][1][1] = s2_BB*FB*N\n",
    "        \n",
    "    \n",
    "    s2inv = np.zeros((2, 2))\n",
    "    s2inv[0][0] = S2_AA_inv\n",
    "    s2inv[0][1] = s2inv[1][0] = S2_AB_inv\n",
    "    s2inv[1][1] = S2_BB_inv\n",
    "    \n",
    "    s21inv = np.zeros((2, 2))\n",
    "    s21inv[0][0] = S2_AA_inv_1\n",
    "    s21inv[0][1] = s21inv[1][0] = S2_AB_inv_1\n",
    "    s21inv[1][1] = S2_BB_inv_1\n",
    "\n",
    "    s22inv = np.zeros((2, 2))\n",
    "    s22inv[0][0] = S2_AA_inv_2\n",
    "    s22inv[0][1] = s22inv[1][0] = S2_AB_inv_2\n",
    "    s22inv[1][1] = S2_BB_inv_2\n",
    "    \n",
    "    s23inv = np.zeros((2, 2))\n",
    "    s23inv[0][0] = S2_AA_inv_3\n",
    "    s23inv[0][1] = s23inv[1][0] = S2_AB_inv_3\n",
    "    s23inv[1][1] = S2_BB_inv_3\n",
    "    print(\"_--_____---------------______-------------_______________------\")\n",
    "    print(\"GAUS BAUS\")\n",
    "#     print(\"s4\")\n",
    "#     print(s4)\n",
    "#     print(\"Ks:\")\n",
    "#     print(\"K1 \", K1)\n",
    "#     print(\"K2 \", K2)\n",
    "#     print(\"s31\")\n",
    "#     print(s31)\n",
    "    print(\"s32\")\n",
    "    print(s32)\n",
    "#     print(\"s33\")\n",
    "#     print(s33)\n",
    "#     print(\"s2inv\", s2inv)\n",
    "#     print(\"s21inv\", s21inv)\n",
    "#     print(\"s22inv\", s22inv)\n",
    "#     print(\"s23inv\", s23inv)\n",
    "    \n",
    "    G4 = np.zeros((2,2,2,2),dtype=type(1+1j))\n",
    "    for a1, a2, a3, a4 in product([0,1], repeat=4):\n",
    "        for I0, I1 in product([0,1], repeat=2):\n",
    "            G4[a1][a2][a3][a4] += \\\n",
    "                s31[a1][a2][I0]*s31[a3][a4][I1]*s21inv[I0][I1] + \\\n",
    "                s32[a1][a4][I0]*s32[a2][a3][I1]*s22inv[I0][I1] + \\\n",
    "                s33[a1][a3][I0]*s33[a2][a4][I1]*s23inv[I0][I1]\n",
    "    G4 -= s4\n",
    "    \n",
    "    val = 0\n",
    "    for I0, I1, I2, I3 in product([0,1], repeat=4):\n",
    "        val += G4[I0][I1][I2][I3] *\\\n",
    "                (s2inv[I0][0] - s2inv[I0][1])*\\\n",
    "                (s2inv[I1][0] - s2inv[I1][1])*\\\n",
    "                (s2inv[I2][0] - s2inv[I2][1])*\\\n",
    "                (s2inv[I3][0] - s2inv[I3][1])\n",
    "                \n",
    "    return val*(N**3)"
   ]
  },
  {
   "cell_type": "code",
   "execution_count": 527,
   "metadata": {},
   "outputs": [],
   "source": [
    "M = 4\n",
    "poly_mat = np.array([[1,1,1,0], [0,0,1,0]])\n",
    "dens = [0.88, 0.12]\n",
    "\n",
    "# poly_mat = np.array([[1,0,1,0]])\n",
    "# dens = [1]\n",
    "grid = np.indices((M, M))\n",
    "j1 = grid[0]\n",
    "j2 = grid[1]\n",
    "\n",
    "M2_AA = calc_monomer_matrix(poly_mat, dens)\n",
    "M2_AB = M2_AA[j2, j2] - M2_AA\n",
    "\n",
    "M2_BA = M2_AB[j2, j1]\n",
    "M2_BB = 1 - M2_AA[j1, j1] - M2_AA[j2, j2] + M2_AA[j1, j2]\n"
   ]
  },
  {
   "cell_type": "code",
   "execution_count": 528,
   "metadata": {},
   "outputs": [
    {
     "data": {
      "text/plain": [
       "0.31"
      ]
     },
     "execution_count": 528,
     "metadata": {},
     "output_type": "execute_result"
    }
   ],
   "source": [
    "0.25*0.88 + 0.75*0.12"
   ]
  },
  {
   "cell_type": "code",
   "execution_count": 529,
   "metadata": {},
   "outputs": [
    {
     "data": {
      "text/plain": [
       "0.31"
      ]
     },
     "execution_count": 529,
     "metadata": {},
     "output_type": "execute_result"
    }
   ],
   "source": [
    "np.sum(np.diag(M2_AA)) / M"
   ]
  },
  {
   "cell_type": "code",
   "execution_count": 495,
   "metadata": {},
   "outputs": [
    {
     "data": {
      "text/plain": [
       "array([[0.5, 0.5, 0.5, 0.5],\n",
       "       [0.5, 1. , 1. , 1. ],\n",
       "       [0.5, 1. , 1. , 1. ],\n",
       "       [0.5, 1. , 1. , 1. ]])"
      ]
     },
     "execution_count": 495,
     "metadata": {},
     "output_type": "execute_result"
    }
   ],
   "source": [
    "M2_AA"
   ]
  },
  {
   "cell_type": "code",
   "execution_count": 496,
   "metadata": {},
   "outputs": [
    {
     "data": {
      "text/plain": [
       "array([[0.5, 0. , 0. , 0. ],\n",
       "       [0. , 0. , 0. , 0. ],\n",
       "       [0. , 0. , 0. , 0. ],\n",
       "       [0. , 0. , 0. , 0. ]])"
      ]
     },
     "execution_count": 496,
     "metadata": {},
     "output_type": "execute_result"
    }
   ],
   "source": [
    "M2_BB"
   ]
  },
  {
   "cell_type": "code",
   "execution_count": 502,
   "metadata": {},
   "outputs": [
    {
     "data": {
      "text/plain": [
       "0.40625"
      ]
     },
     "execution_count": 502,
     "metadata": {},
     "output_type": "execute_result"
    }
   ],
   "source": [
    "np.sum(M2_AA)/ M**2"
   ]
  },
  {
   "cell_type": "code",
   "execution_count": 503,
   "metadata": {},
   "outputs": [
    {
     "data": {
      "text/plain": [
       "0.875"
      ]
     },
     "execution_count": 503,
     "metadata": {},
     "output_type": "execute_result"
    }
   ],
   "source": [
    "3.5/4"
   ]
  },
  {
   "cell_type": "code",
   "execution_count": 500,
   "metadata": {},
   "outputs": [
    {
     "data": {
      "text/plain": [
       "0.6172177814626812"
      ]
     },
     "execution_count": 500,
     "metadata": {},
     "output_type": "execute_result"
    }
   ],
   "source": [
    "relA = (np.sum(M2_AA)/ M**2)**0.5\n",
    "\n",
    "relB = (np.sum(M2_BB)/ M**2)**0.5\n",
    "\n",
    "(relA / (relA + relB))"
   ]
  },
  {
   "cell_type": "code",
   "execution_count": 492,
   "metadata": {},
   "outputs": [
    {
     "data": {
      "text/plain": [
       "0.875"
      ]
     },
     "execution_count": 492,
     "metadata": {},
     "output_type": "execute_result"
    }
   ],
   "source": [
    "0.75/2 + 1/2"
   ]
  },
  {
   "cell_type": "code",
   "execution_count": 501,
   "metadata": {},
   "outputs": [
    {
     "data": {
      "text/plain": [
       "0.625"
      ]
     },
     "execution_count": 501,
     "metadata": {},
     "output_type": "execute_result"
    }
   ],
   "source": [
    "0.5/2 + 0.75/2"
   ]
  },
  {
   "cell_type": "code",
   "execution_count": 460,
   "metadata": {},
   "outputs": [
    {
     "data": {
      "text/plain": [
       "array([[0.5, 0.5, 0.5, 0.5],\n",
       "       [0.5, 0.5, 0.5, 0.5],\n",
       "       [0.5, 0.5, 0.5, 0.5],\n",
       "       [0.5, 0.5, 0.5, 0.5]])"
      ]
     },
     "execution_count": 460,
     "metadata": {},
     "output_type": "execute_result"
    }
   ],
   "source": [
    "M2_BB"
   ]
  },
  {
   "cell_type": "code",
   "execution_count": 449,
   "metadata": {},
   "outputs": [
    {
     "data": {
      "text/plain": [
       "array([[1. , 0.5, 0.5, 0. ],\n",
       "       [0.5, 0.5, 0.5, 0. ],\n",
       "       [0.5, 0.5, 0.5, 0. ],\n",
       "       [0. , 0. , 0. , 0. ]])"
      ]
     },
     "execution_count": 449,
     "metadata": {},
     "output_type": "execute_result"
    }
   ],
   "source": [
    "M2_AA"
   ]
  },
  {
   "cell_type": "code",
   "execution_count": 456,
   "metadata": {},
   "outputs": [
    {
     "data": {
      "text/plain": [
       "0.7071067811865476"
      ]
     },
     "execution_count": 456,
     "metadata": {},
     "output_type": "execute_result"
    }
   ],
   "source": [
    "(np.sum(M2_AA)/ M**2)**0.5"
   ]
  },
  {
   "cell_type": "code",
   "execution_count": 447,
   "metadata": {},
   "outputs": [
    {
     "data": {
      "text/plain": [
       "0.4330127018922193"
      ]
     },
     "execution_count": 447,
     "metadata": {},
     "output_type": "execute_result"
    }
   ],
   "source": [
    "((np.sum(M2_AA)-1)**0.5)/ M"
   ]
  },
  {
   "cell_type": "code",
   "execution_count": 444,
   "metadata": {},
   "outputs": [
    {
     "data": {
      "text/plain": [
       "5.0"
      ]
     },
     "execution_count": 444,
     "metadata": {},
     "output_type": "execute_result"
    }
   ],
   "source": [
    "np.sum(M2_AA)"
   ]
  },
  {
   "cell_type": "code",
   "execution_count": 424,
   "metadata": {},
   "outputs": [
    {
     "data": {
      "text/plain": [
       "0.4787170354186281"
      ]
     },
     "execution_count": 424,
     "metadata": {},
     "output_type": "execute_result"
    }
   ],
   "source": [
    "(np.sum(M2_AA) / np.sum(M2_AA+ 2*M2_AB + M2_BB))**0.5"
   ]
  },
  {
   "cell_type": "code",
   "execution_count": 277,
   "metadata": {},
   "outputs": [
    {
     "name": "stdout",
     "output_type": "stream",
     "text": [
      "Wall time: 5.43 s\n"
     ]
    }
   ],
   "source": [
    "%%time\n",
    "\n",
    "#generate spinodal\n",
    "N = 1000\n",
    "f_as = np.array([0.3, 0.4, 0.5])\n",
    "spin_array_vertex = np.zeros(len(f_as))\n",
    "for i, FA in enumerate(f_as):\n",
    "    chis = np.arange(8, 24, 0.1)/N #np.arange(0, 40, 0.1) \n",
    "    min_G_vals = np.zeros(len(chis))\n",
    "    KS = spinodal(pset, N, FA)\n",
    "    for j,CHI in enumerate(chis):\n",
    "        #evaluate gamma2 at the chi k_spinodal for appropriate length, find when equals zero\n",
    "        G = gamma2(pset, N, FA, KS, CHI)\n",
    "        min_G_vals[j] = G # b/c g2 is 1x1 matrix, eigenvalue is the value of g2 itself. \n",
    "    spin_array_vertex[i] = chis[np.argmin((abs(min_G_vals)))]"
   ]
  },
  {
   "cell_type": "code",
   "execution_count": 280,
   "metadata": {},
   "outputs": [
    {
     "name": "stdout",
     "output_type": "stream",
     "text": [
      "Wall time: 228 ms\n"
     ]
    }
   ],
   "source": [
    "%%time\n",
    "\n",
    "#generate gaus spinodal\n",
    "N_m = 100\n",
    "b = 1\n",
    "M = 10\n",
    "poly_mat_arr = [[[0,0,0,1,1,1,1,1,1,1], 0.3], [[0,0,0,0,1,1,1,1,1,1], 0.4], [[0,0,0,0,0,1,1,1,1,1], 0.5]]\n",
    "dens = [1.]\n",
    "\n",
    "\n",
    "f_as = np.array([0.3, 0.4, 0.5])\n",
    "spin_array_gaus = np.zeros(len(f_as))\n",
    "for i, poly_mat in enumerate(poly_mat_arr):\n",
    "    poly_mat = poly_mat[0]\n",
    "    chis = np.arange(8, 24, 0.1)/N #np.arange(0, 40, 0.1) \n",
    "    min_G_vals = np.zeros(len(chis))\n",
    "    KS = spinodal_gaus(poly_mat, dens, N_m, b, M)\n",
    "    for j,CHI in enumerate(chis):\n",
    "        #evaluate gamma2 at the chi k_spinodal for appropriate length, find when equals zero\n",
    "        G = gamma2_E(poly_mat, dens, N_m, b, M, KS, CHI)\n",
    "        min_G_vals[j] = G # b/c g2 is 1x1 matrix, eigenvalue is the value of g2 itself. \n",
    "    spin_array_gaus[i] = chis[np.argmin((abs(min_G_vals)))]"
   ]
  },
  {
   "cell_type": "code",
   "execution_count": 281,
   "metadata": {},
   "outputs": [
    {
     "data": {
      "text/plain": [
       "array([0.0146, 0.0113, 0.0105])"
      ]
     },
     "execution_count": 281,
     "metadata": {},
     "output_type": "execute_result"
    }
   ],
   "source": [
    "spin_array_vertex"
   ]
  },
  {
   "cell_type": "code",
   "execution_count": 282,
   "metadata": {},
   "outputs": [
    {
     "data": {
      "text/plain": [
       "array([0.0146, 0.0113, 0.0105])"
      ]
     },
     "execution_count": 282,
     "metadata": {},
     "output_type": "execute_result"
    }
   ],
   "source": [
    "spin_array_gaus"
   ]
  },
  {
   "cell_type": "code",
   "execution_count": 290,
   "metadata": {},
   "outputs": [
    {
     "data": {
      "text/plain": [
       "<matplotlib.legend.Legend at 0x22662028dc0>"
      ]
     },
     "execution_count": 290,
     "metadata": {},
     "output_type": "execute_result"
    },
    {
     "data": {
      "text/plain": [
       "<Figure size 432x288 with 0 Axes>"
      ]
     },
     "metadata": {},
     "output_type": "display_data"
    },
    {
     "data": {
      "image/png": "[encoded data removed]",
      "text/plain": [
       "<Figure size 720x576 with 1 Axes>"
      ]
     },
     "metadata": {
      "needs_background": "light"
     },
     "output_type": "display_data"
    }
   ],
   "source": [
    "fig = plt.figure()\n",
    "plt.figure(figsize=(10,8))\n",
    "\n",
    "font = {'family' : 'serif',\n",
    "        'weight':'normal',\n",
    "        'size': 18}\n",
    "plt.rc('font', **font)\n",
    "ax = plt.subplot(111)\n",
    "ax.plot(f_as[:], spin_array_vertex[:]*N, label=\"wlc\", color = \"black\")#, zorder = 0)\n",
    "ax.plot(f_as[:], spin_array_gaus[:]*N, label=\"gaus\", color = \"red\", linestyle = \"--\")#, zorder = 0)\n",
    "ax.set_title(\"spinodal\")\n",
    "ax.set_ylabel(\"$\\chi N$\")\n",
    "ax.set_xlabel(\"$f_A$\")\n",
    "plt.legend()"
   ]
  },
  {
   "cell_type": "code",
   "execution_count": 97,
   "metadata": {},
   "outputs": [
    {
     "data": {
      "text/plain": [
       "1000"
      ]
     },
     "execution_count": 97,
     "metadata": {},
     "output_type": "execute_result"
    }
   ],
   "source": [
    "# the issue is with s31, s32, s33. try making s3zeroq3 match vertex!"
   ]
  },
  {
   "cell_type": "code",
   "execution_count": 319,
   "metadata": {},
   "outputs": [],
   "source": [
    "# lam_g4 = (1/24) * (6) * (1) * gamma4_E(poly_mat, dens, N_m, b, M, np.array([lam_q, -lam_q, lam_q, -lam_q]))\n",
    "\n",
    "# lam_g4_wlc = (1/24) * (6) * (1) * gamma4(pset, wigset, N, FA, np.array([lam_q, -lam_q, lam_q, -lam_q]))"
   ]
  },
  {
   "cell_type": "code",
   "execution_count": 4,
   "metadata": {
    "scrolled": false
   },
   "outputs": [
    {
     "name": "stdout",
     "output_type": "stream",
     "text": [
      "my calculate FA\n",
      "0.7\n",
      "K1\n",
      "[0.2201875 0.        0.       ]\n",
      "K2\n",
      "[-0.2201875 -0.        -0.       ]\n",
      "K3\n",
      "[0.2201875 0.        0.       ]\n",
      "0q S31\n",
      "0q S33\n",
      "_--_____---------------______-------------_______________------\n",
      "GAUS BAUS\n",
      "s32\n",
      "[[[7362011.56484486 1138297.21985165]\n",
      "  [1138297.21985165  341869.05773287]]\n",
      "\n",
      " [[1138297.21985165  341869.05773287]\n",
      "  [ 341869.05773287 1315439.80922701]]]\n",
      "------------------------------------------------------------------------------------\n",
      "WLC BABY\n",
      "USING ZEROQ\n",
      "running s32\n",
      "s32:  [[[7400891.75447395+9.03062779e-11j  213691.34107541+3.72503738e-10j]\n",
      "  [1342444.96296695+4.58408628e-10j  883812.46288202+4.14781191e-10j]]\n",
      "\n",
      " [[1342444.96296695+4.58408628e-10j  883812.46288202+4.14781191e-10j]\n",
      "  [ 142019.90041674+2.85222824e-10j 1324484.39659697-1.12887460e-09j]]]\n",
      "finished s32\n",
      "USING ZEROQ\n",
      "GAUS lam G4 (-0.026936981676554894+0j)\n",
      "WLC lam G4 (0.2481470023355428-1.6922894364137818e-15j)\n",
      "my calculate FA\n",
      "0.7\n",
      "K1\n",
      "[0.2201875 0.        0.       ]\n",
      "K2\n",
      "[-0.2201875 -0.        -0.       ]\n",
      "K3\n",
      "[0.2201875 0.        0.       ]\n",
      "0q S31\n",
      "0q S33\n",
      "_--_____---------------______-------------_______________------\n",
      "GAUS BAUS\n",
      "s32\n",
      "[[[7362011.56484486 1138297.21985165]\n",
      "  [1138297.21985165  341869.05773287]]\n",
      "\n",
      " [[1138297.21985165  341869.05773287]\n",
      "  [ 341869.05773287 1315439.80922701]]]\n",
      "my calculate FA\n",
      "0.7\n",
      "K1\n",
      "[0.2201875 0.        0.       ]\n",
      "K2\n",
      "[-0.2201875 -0.        -0.       ]\n",
      "K3\n",
      "[-0.11009375  0.19068797  0.        ]\n",
      "0q S31\n",
      "_--_____---------------______-------------_______________------\n",
      "GAUS BAUS\n",
      "s32\n",
      "[[[12664201.70695835  2060058.25852435]\n",
      "  [ 2060058.25852435  1218826.90899447]]\n",
      "\n",
      " [[ 2060058.25852435  1218826.90899447]\n",
      "  [ 1218826.90899447  1909612.69627663]]]\n",
      "one FA done!!\n"
     ]
    }
   ],
   "source": [
    "# %%time\n",
    "#SINGLE WAVEMODE PHASE DIAGRAM    NO GYROID NO SQL\n",
    "N = 500\n",
    "\n",
    "# fa_array = np.arange(0.3, 0.501, 0.01)#[0.3, 0.325, 0.35, 0.375, 0.3875, 0.4, 0.4125, 0.425, 0.4375, 0.45, 0.475, 0.5]#[0.3, 0.35, 0.4, 0.45, 0.5]#np.arange(0.2, 0.51, .02)\n",
    "chi_array = np.arange(8, 20, 4)/N#np.arange(5, 30, 0.5)/N #np.array([5, 7, 10, 12, 15, 17, 20])/N #* N\n",
    "\n",
    "N_m = 50\n",
    "b = 1\n",
    "M = 10\n",
    "poly_mat_arr = [[[0,0,0,0,0,0,0,1,1,1], 0.7]]#, [[0,0,0,0,0,0,1,1,1,1], 0.6], [[0,0,0,0,0,1,1,1,1,1], 0.5]]\n",
    "dens = [1.]\n",
    "\n",
    "cyl_pnts = np.array([])\n",
    "lam_pnts = np.array([])\n",
    "gyr_pnts = np.array([])\n",
    "sq_cyl_pnts = np.array([])\n",
    "dis_pnts = np.array([])\n",
    "\n",
    "for poly_mat in poly_mat_arr:\n",
    "    FA = poly_mat[1]\n",
    "    poly_mat = poly_mat[0]\n",
    "    \n",
    "#     q_star = find_kstar(poly_mat, dens, N_m, b, M)\n",
    "    q_star = spinodal_gaus(poly_mat, dens, N_m, b, M)\n",
    "    q_star = q_star[0]\n",
    "    \n",
    "#     print(\"Qstar\")\n",
    "#     print(q_star)\n",
    "    lam_q = q_star*np.array([1, 0, 0])\n",
    "    \n",
    "    cyl_q1 = q_star*np.array([1, 0, 0])\n",
    "    cyl_q2 = 0.5*q_star*np.array([-1, np.sqrt(3), 0])\n",
    "    cyl_q3 = 0.5*q_star*np.array([-1, -np.sqrt(3), 0])\n",
    "    cyl_qs = np.array([cyl_q1, cyl_q2, cyl_q3])\n",
    "    \n",
    "    lam_g3 = 0\n",
    "    cyl_g3 = (1/6) * (1/(3*np.sqrt(3))) * 12 * gamma3_E(poly_mat, dens, N_m, b, M, cyl_qs)\n",
    "    \n",
    "#     cyl_g3_wlc = (1/6) * (1/(3*np.sqrt(3))) * 12 * gamma3(pset, N, FA, cyl_qs)\n",
    "\n",
    "#     print(\"GAUS G3\", cyl_g3)\n",
    "#     print(\"WLC G3\", cyl_g3_wlc)\n",
    "            \n",
    "\n",
    "#     print(\"-------------------------------------------------------------------------------------------\")\n",
    "    lam_g4 = (1/24) * (6) * (1) * gamma4_E(poly_mat, dens, N_m, b, M, np.array([lam_q, -lam_q, lam_q, -lam_q]))\n",
    "        \n",
    "    lam_g4_wlc = (1/24) * (6) * (1) * gamma4(pset, wigset, N, FA, np.array([lam_q, -lam_q, lam_q, -lam_q]))\n",
    "\n",
    "    \n",
    "    print(\"GAUS lam G4\", -lam_g4/3)\n",
    "    print(\"WLC lam G4\", lam_g4_wlc)\n",
    "#     print(\"-------------------------------------------------------------------------------------------\")\n",
    "# #     print(\"post lam)g4\")\n",
    "    cyl_g4 = (1/12)* (gamma4_E(poly_mat, dens, N_m, b, M, np.array([cyl_q1 , -cyl_q1 , cyl_q1 , -cyl_q1 ])) + \\\n",
    "              4*gamma4_E(poly_mat, dens, N_m, b, M, np.array([cyl_q1, -cyl_q1, cyl_q2, -cyl_q2])))\n",
    "    \n",
    "    for CHI in chi_array:\n",
    "        lam_g2 = (1/2) * 2 * (1) * gamma2_E(poly_mat, dens, N_m, b, M, q_star, CHI)                \n",
    "        \n",
    "        cyl_g2 = (1/2) * 6 * (1/3) * gamma2_E(poly_mat, dens, N_m, b, M, q_star, CHI)\n",
    "        \n",
    "        lam_g2_wlc = (1/2) * 2 * (1) * gamma2(pset, N, FA, q_star, CHI)                \n",
    "        \n",
    "#         cyl_g2_wlc = (1/2) * 6 * (1/3) * gamma2(pset, N, FA, q_star, CHI) \n",
    "        \n",
    "#         print(\"GAUS G2\")\n",
    "#         print(lam_g2)\n",
    "#         print(\"WLC G2\")\n",
    "#         print(lam_g2_wlc)\n",
    "#         gyr_g2 = (1/2) * 24 * (1/12) * gamma2(pset, N, FA, q_star, CHI)\n",
    "        \n",
    "#         sq_cyl_g2 = (1/2) * (1/2) * 4 * gamma2(pset, N, FA, q_star, CHI)\n",
    "                                            \n",
    "        amp_l1 = optimize.fmin(lambda amps: np.real(amps**2 * lam_g2 + amps**3 * lam_g3 + amps**4 * lam_g4), \\\n",
    "                              1, disp=False)\n",
    "        amp_c1 = optimize.fmin(lambda amps: np.real(amps**2 * cyl_g2 + amps**3 * cyl_g3 + amps**4 * cyl_g4), \\\n",
    "                              1, disp=False)\n",
    "        \n",
    "        lamF = amp_l1**2 * lam_g2 + amp_l1**3 * lam_g3 + amp_l1**4 * lam_g4 \n",
    "        \n",
    "        cylF = amp_c1**2 * cyl_g2 + amp_c1**3 * cyl_g3 + amp_c1**4 * cyl_g4 \n",
    "        \n",
    "        #######CHANGE\n",
    "        gyrF = 1000000000\n",
    "        sq_cylF = 10000000000\n",
    "        #######\n",
    "        ######\n",
    "        ######\n",
    "        \n",
    "        point = np.array([FA, CHI*N])\n",
    "\n",
    "        if (lamF > 0 and cylF > 0 and gyrF > 0 and sq_cylF > 0):\n",
    "            #disordered stable\n",
    "            dis_pnts = np.append(dis_pnts, point)\n",
    "        elif (lamF < cylF and lamF < gyrF and lamF < sq_cylF):\n",
    "            lam_pnts = np.append(lam_pnts, point) \n",
    "        elif (cylF < gyrF and cylF < sq_cylF):\n",
    "            cyl_pnts = np.append(cyl_pnts, point)\n",
    "        elif (gyrF < sq_cylF):\n",
    "            gyr_pnts = np.append(gyr_pnts, point)\n",
    "        else:\n",
    "            sq_cyl_pnts = np.append(sq_cyl_pnts, point)\n",
    "            \n",
    "    print(\"one FA done!!\")\n",
    "            "
   ]
  },
  {
   "cell_type": "code",
   "execution_count": null,
   "metadata": {},
   "outputs": [],
   "source": [
    "# issue is low-q! TROUBLESHOOT"
   ]
  },
  {
   "cell_type": "code",
   "execution_count": 533,
   "metadata": {},
   "outputs": [
    {
     "data": {
      "text/plain": [
       "array([ 0.7,  8. ,  0.7, 12. ])"
      ]
     },
     "execution_count": 533,
     "metadata": {},
     "output_type": "execute_result"
    }
   ],
   "source": [
    "dis_pnts"
   ]
  },
  {
   "cell_type": "code",
   "execution_count": 534,
   "metadata": {},
   "outputs": [
    {
     "data": {
      "text/plain": [
       "array([ 0.7, 16. ])"
      ]
     },
     "execution_count": 534,
     "metadata": {},
     "output_type": "execute_result"
    }
   ],
   "source": [
    "cyl_pnts"
   ]
  },
  {
   "cell_type": "code",
   "execution_count": null,
   "metadata": {},
   "outputs": [],
   "source": [
    "#single point tests\n",
    "N = 1000\n",
    "FA = 0.7\n",
    "\n",
    "N_m = 100\n",
    "b = 1\n",
    "M = 10\n",
    "poly_mat = [0,0,0,0,0,0,0,1,1,1]\n",
    "dens = [1.]\n",
    "\n",
    "\n",
    "KS = spinodal(pset, N, FA)\n",
    "q_star = KS[0]\n",
    "\n",
    "q_star_gaus = find_kstar(poly_mat, dens, N_m, b, M)\n",
    "\n",
    "q_star_gaus_new = spinodal_gaus(poly_mat, dens, N_m, b, M)\n",
    "\n",
    "CHI = 10\n",
    "lam_g2 = (1/2) * 2 * (1) * gamma2_E(poly_mat, dens, N_m, b, M, q_star_gaus_new, CHI)                \n",
    "\n",
    "lam_g2_wlc = (1/2) * 2 * (1) * gamma2(pset, N, FA, q_star_gaus_new, CHI)                "
   ]
  },
  {
   "cell_type": "code",
   "execution_count": null,
   "metadata": {},
   "outputs": [],
   "source": [
    "gamma2_E(poly_mat, dens, N_m, b, M, 0.50, 0)"
   ]
  },
  {
   "cell_type": "code",
   "execution_count": null,
   "metadata": {},
   "outputs": [],
   "source": [
    "CHI=0\n",
    "gamma2(pset, N, FA, 0.5, CHI)"
   ]
  },
  {
   "cell_type": "code",
   "execution_count": null,
   "metadata": {},
   "outputs": [],
   "source": []
  },
  {
   "cell_type": "code",
   "execution_count": null,
   "metadata": {},
   "outputs": [],
   "source": [
    "q_star"
   ]
  },
  {
   "cell_type": "code",
   "execution_count": null,
   "metadata": {},
   "outputs": [],
   "source": [
    "q_star_gaus"
   ]
  },
  {
   "cell_type": "code",
   "execution_count": null,
   "metadata": {},
   "outputs": [],
   "source": [
    "q_star_gaus_new"
   ]
  },
  {
   "cell_type": "code",
   "execution_count": null,
   "metadata": {},
   "outputs": [],
   "source": []
  },
  {
   "cell_type": "code",
   "execution_count": null,
   "metadata": {},
   "outputs": [],
   "source": [
    "\n",
    "# sf2AA, sf2AB, sf2BB = calc_sf2(poly_mat, dens, N_m, b, k_vec = np.logspace(-2, 2, 50))\n",
    "# sf2AA /= N**2\n",
    "# sf2AB /= N**2\n",
    "# sf2BB /= N**2\n"
   ]
  },
  {
   "cell_type": "code",
   "execution_count": null,
   "metadata": {},
   "outputs": [],
   "source": [
    "sf2AA, sf2AB, sf2BB = calc_sf2(poly_mat, dens, N_m, b, k_vec)"
   ]
  },
  {
   "cell_type": "code",
   "execution_count": null,
   "metadata": {
    "scrolled": true
   },
   "outputs": [],
   "source": [
    "%%time\n",
    "#VERTEX\n",
    "\n",
    "N = 1000\n",
    "FA = 0.7\n",
    "\n",
    "N_m = 100\n",
    "b = 1\n",
    "M = 10\n",
    "poly_mat = [0,0,0,0,0,0,0,1,1,1]\n",
    "dens = [1.]\n",
    "\n",
    "nk = 50\n",
    "k_vec = np.logspace(-2, 2, nk)\n",
    "\n",
    "sf2AA, sf2AB, sf2BB = calc_sf2(poly_mat, dens, N_m, b, k_vec)\n",
    "\n",
    "s2_arr_vert_AA = np.zeros(nk)\n",
    "s2_arr_vert_AB = np.zeros(nk)\n",
    "s2_arr_vert_BB = np.zeros(nk)\n",
    "for i in range(nk):\n",
    "    Ks = k_vec[i]\n",
    "    s2mat = s2wlc(pset, N, FA, Ks, sequence='all')\n",
    "    Ks = k_vec[i]\n",
    "    s2_arr_vert_AA[i] = s2mat[0][0]\n",
    "    s2_arr_vert_AB[i] = s2mat[0][1]\n",
    "    s2_arr_vert_BB[i] = s2mat[1][1]\n",
    "    "
   ]
  },
  {
   "cell_type": "code",
   "execution_count": null,
   "metadata": {},
   "outputs": [],
   "source": [
    "plt.figure(figsize=(10,8))\n",
    "font = {'family' : 'serif',\n",
    "        'weight':'normal',\n",
    "        'size': 18}\n",
    "plt.rc('font', **font)\n",
    "\n",
    "plt.plot(k_vec, sf2AA, label = \"AA\")\n",
    "plt.plot(k_vec, sf2AB, label = \"AB\")\n",
    "plt.plot(k_vec, sf2BB, label = \"BB\")\n",
    "\n",
    "plt.plot(k_vec, s2_arr_vert_AA, label = \"AA vert\", linestyle = \"--\")\n",
    "plt.plot(k_vec, s2_arr_vert_AB, label = \"AB vert\", linestyle = \"--\")\n",
    "plt.plot(k_vec, s2_arr_vert_BB, label = \"BB vert\", linestyle = \"--\")\n",
    "\n",
    "# plt.plot(k_vec, S2_BB_arr, label = \"slow\", linestyle = \"--\")\n",
    "# plt.plot(k_vec, s2AA_stat, label = \"wlcstat N = \" + str(N))\n",
    "# plt.plot(k_vec, debye_arr, label = \"debye homo N = \" + str(N), linestyle = \"--\")\n",
    "\n",
    "plt.xscale('log')\n",
    "plt.yscale('log')\n",
    "\n",
    "# plt.title(\"S2\")\n",
    "plt.xlabel(r'$K$')\n",
    "plt.ylabel(r'Structure Factor $S_{2}(K;N)$')\n",
    "plt.xlim((1e-2, 1e2))\n",
    "plt.tight_layout()\n",
    "plt.legend()\n",
    "plt.show()"
   ]
  },
  {
   "cell_type": "code",
   "execution_count": 19,
   "metadata": {},
   "outputs": [],
   "source": [
    "def calc_sf3(poly_mat, dens, N_m, b, k_vec, k_vec_2):\n",
    "    # for a gaussian chain of M monomers, each of length N_m\n",
    "    # TODO: possible issue with non-cylindrical integrals\n",
    "    \n",
    "    M3_AAA = calc_monomer_matrix_3(poly_mat, dens)\n",
    "    M = np.shape(M3_AAA)[0]\n",
    "    nk = len(k_vec)\n",
    "    N = M*N_m\n",
    "\n",
    "    grid = np.indices((M,M,M))\n",
    "    j1 = grid[0]\n",
    "    j2 = grid[1]\n",
    "    j3 = grid[2]\n",
    "    \n",
    "    S3_AAA_arr =  np.zeros(nk)\n",
    "    S3_AAB_arr = np.zeros(nk)\n",
    "    S3_ABB_arr = np.zeros(nk)\n",
    "    S3_BBB_arr = np.zeros(nk)\n",
    "    \n",
    "    S3_ABA_arr = np.zeros(nk)\n",
    "    S3_BAB_arr = np.zeros(nk)\n",
    "\n",
    "    \n",
    "    M3_BAA = M3_AAA[j2, j2, j3] - M3_AAA\n",
    "    M3_BBA = M3_AAA + M3_BAA[j1, j3, j3] - M3_AAA[j2,j2,j3]\n",
    "    M3_BBB = 1  - M3_AAA[j1, j1, j1] - M3_BAA[j1, j2, j2] - M3_BAA[j1, j3, j3] + M3_AAA[j2,j2,j3] - M3_AAA\n",
    "    \n",
    "    M3_ABA = M3_AAA[j1,j1,j3] - M3_AAA\n",
    "    M3_BAB = M3_AAA[j2,j2,j2] - M3_AAA[j2,j2,j3] - M3_AAA[j1,j2,j2] + M3_AAA\n",
    "\n",
    "    for i, k_1 in enumerate(k_vec):\n",
    "        k_2 = k_vec_2[i]\n",
    "        k_12 = k_1 + k_2\n",
    "\n",
    "        # CASE 1; kA = k1 + k2, kB = k_1; S3 > S2 > S1 and S1 > S2 > S3\n",
    "        case1 = [[k_12, k_1], [j3, j2, j1]]\n",
    "        # CASE 2; kA = k2, kB = k1 + k2; S2 > S1 > S3 and S3 > S1 > S2\n",
    "        case2 = [[k_2, k_12], [j2, j1, j3]]\n",
    "        # CASE 3; kA = k2, kB = -k1; S2 > S3 > S1 and S1 > S3 > S2\n",
    "        case3 = [[k_2, -k_1], [j2, j3, j1]]\n",
    "        \n",
    "        case_arr = [case1, case2, case3]\n",
    "#        for each case and sub case, add to a matrix C(j1, j2, j3) which contains the contribution to the overall S3\n",
    "#        then sum over all indices. Need to keep track of js so that aproiate multiplications with cross corr matrix M3        \n",
    "        C = np.zeros((M,M,M))\n",
    "\n",
    "        for cse in case_arr:\n",
    "            kA, kB = cse[0]\n",
    "            ordered_js = cse[1]\n",
    "            \n",
    "            xm_A = (1/6) * N_m * b**2 * np.linalg.norm(kA)**2\n",
    "            xm_B = (1/6) * N_m * b**2 * np.linalg.norm(kB)**2\n",
    "#             print(xm_A)\n",
    "            C = calc_case(C, xm_A, xm_B, ordered_js)\n",
    "\n",
    "        S3_AAA_arr[i] += np.sum((1/M**3) * M3_AAA * C)*(N**3)\n",
    "        S3_AAB_arr[i] += np.sum((1/M**3) * M3_BAA * C)*(N**3)\n",
    "        S3_ABB_arr[i] += np.sum((1/M**3) * M3_BBA * C)*(N**3)\n",
    "        S3_BBB_arr[i] += np.sum((1/M**3) * M3_BBB * C)*(N**3)\n",
    "        \n",
    "        S3_ABA_arr[i] += np.sum((1/M**3) * M3_ABA * C)*(N**3)\n",
    "        S3_BAB_arr[i] += np.sum((1/M**3) * M3_BAB * C)*(N**3)\n",
    "\n",
    "    return S3_AAA_arr, S3_AAB_arr, S3_ABB_arr, S3_BBB_arr, S3_ABA_arr, S3_BAB_arr\n",
    "\n",
    "def calc_case(C, xm_A, xm_B, ordered_js):\n",
    "\n",
    "    jmax, jmid, jmin = ordered_js\n",
    "    ordered_js.reverse()\n",
    "    jmax_d, jmid_d, jmin_d = ordered_js\n",
    "    \n",
    "    cylindrical = False\n",
    "    epsilon = 0.0000001\n",
    "    if xm_A + epsilon > xm_B and xm_A - epsilon < xm_B:\n",
    "        cylindrical = True\n",
    "    \n",
    "    xm_A_eq_0 = False\n",
    "    if xm_A < 1e-5:\n",
    "        xm_A_eq_0 = True\n",
    "        \n",
    "    xm_B_eq_0 = False\n",
    "    if xm_B < 1e-5:\n",
    "        xm_B_eq_0 = True\n",
    "        \n",
    "#     if (xm_A_eq_0):\n",
    "#         print(xm_A_eq_0)\n",
    "#     if xm_B_eq_0:\n",
    "#         print(xm_B_eq_0)\n",
    "\n",
    "    #for each sub case, looking at the degenerate case where 1 and 2 are switched\n",
    "    constant = np.exp(-xm_A*(jmax - jmid)) * np.exp(-xm_B*(jmid - jmin)) \n",
    "    constant_deg = np.exp(-xm_A*(jmax_d - jmid_d)) * np.exp(-xm_B*(jmid_d - jmin_d))\n",
    "\n",
    "    # sub case 1; jmax > jmid > jmin, {s1, s2, s3} any \n",
    "    index = (jmax > jmid) * (jmid > jmin)\n",
    "    index_deg = (jmax_d > jmid_d) * (jmid_d > jmin_d) #degeneracy\n",
    "    \n",
    "    if cylindrical == True:\n",
    "        integral = (1 / xm_A**2) * 2 * (-1 + np.cosh(xm_A))\n",
    "    elif xm_B_eq_0:\n",
    "        integral = (2*(-1+np.cosh(xm_A)))/ (xm_A**2)\n",
    "    elif xm_A_eq_0:\n",
    "        integral = (2*(-1+np.cosh(xm_B)))/ (xm_B**2)\n",
    "    else:\n",
    "        integral = (-2 / (xm_A * (xm_A - xm_B) * xm_B)) \\\n",
    "        * (-np.sinh(xm_A) + np.sinh(xm_A - xm_B) + np.sinh(xm_B))\n",
    "\n",
    "    C[np.where((index) != 0)] += constant[np.where(index != 0)] \\\n",
    "                                    * integral\n",
    "    \n",
    "    C[np.where((index_deg) != 0)] += constant_deg[np.where(index_deg != 0)] \\\n",
    "                                    * integral \n",
    "    \n",
    "    # sub case 2; jmax = jmid > jmin, s3 > s2, {s1} any\n",
    "    index = (jmax == jmid) * (jmid > jmin)\n",
    "    index_deg = (jmax_d == jmid_d) * (jmid_d > jmin_d) #degeneracy\n",
    "    \n",
    "    if cylindrical == True:\n",
    "        integral = (1 / xm_A**3) *( (2 + xm_A) * (-1 + np.cosh(xm_A)) - (xm_A * np.sinh(xm_A)) )\n",
    "    elif xm_B_eq_0:\n",
    "        integral = (-1 + xm_A + np.cosh(xm_A) - np.sinh(xm_A))/ (xm_A**2)\n",
    "    elif xm_A_eq_0:\n",
    "        integral = (np.exp(-xm_B)*(-1 + np.exp(xm_B))*(1+np.exp(xm_B)*(-1 + xm_B))) / (xm_B**3)   \n",
    "    else:\n",
    "        integral = ((-1 + np.exp(xm_B))/(xm_A * (xm_A - xm_B)*xm_B**2)) \\\n",
    "        * (xm_A + (-1 + np.exp(-xm_A))*xm_B - xm_A*np.cosh(xm_B) + xm_A*np.sinh(xm_B))\n",
    "\n",
    "    C[np.where((index) != 0)] += constant[np.where(index != 0)] \\\n",
    "                                    * integral\n",
    "    \n",
    "    C[np.where((index_deg) != 0)] += constant_deg[np.where(index_deg != 0)] \\\n",
    "                                    * integral \n",
    "\n",
    "    # BONUS sub case 4; jmax > jmid = jmin, s2 > s1, {s3} any \n",
    "    index = (jmax > jmid) * (jmid == jmin)\n",
    "    index_deg = (jmax_d > jmid_d) * (jmid_d == jmin_d)\n",
    "    \n",
    "    if cylindrical == True:\n",
    "        integral = (1 / xm_A**3) *( (2 + xm_A) * (-1 + np.cosh(xm_A)) - (xm_A * np.sinh(xm_A)) )\n",
    "    elif xm_B_eq_0:\n",
    "        integral = ((-2+xm_A)*(-1+np.cosh(xm_A))+ (xm_A*np.sinh(xm_A)))/ (xm_A**3)\n",
    "    elif xm_A_eq_0:\n",
    "        integral = (-1+xm_B+np.cosh(xm_B) - np.sinh(xm_B))/ (xm_B**2)\n",
    "    else:\n",
    "        integral = (((-1 + np.exp(xm_A))*(np.exp(-xm_A - xm_B)))/(xm_B * (xm_A - xm_B)*xm_A**2)) \\\n",
    "        * (-np.exp(xm_A)*xm_A + np.exp(xm_A + xm_B) * (xm_A -xm_B) + np.exp(xm_B)*xm_B)\n",
    "\n",
    "    C[np.where((index) != 0)] += constant[np.where(index != 0)] \\\n",
    "                                    * integral\n",
    "    \n",
    "    C[np.where((index_deg) != 0)] += constant_deg[np.where(index_deg != 0)] \\\n",
    "                                    * integral \n",
    "\n",
    "    # sub case 3; jmax = jmid = jmin, s3 > s2 > s1\n",
    "    index = (jmax == jmid) * (jmid == jmin)\n",
    "\n",
    "    if cylindrical == True:\n",
    "        integral = (1 / xm_A**3) * (np.exp(-xm_A) * (2 + np.exp(xm_A)*(-2 + xm_A) + xm_A))\n",
    "    elif xm_B_eq_0:\n",
    "        integral = (2-2*np.exp(-xm_A) - 2*xm_A + xm_A**2)/ (2*xm_A**3)\n",
    "    elif xm_A_eq_0:\n",
    "        integral = (2-2*np.exp(-xm_B) - 2*xm_B + xm_B**2)/ (2*xm_B**3)\n",
    "    else:\n",
    "        integral = (1 / (xm_A**2 * xm_B - xm_A * xm_B**2))\\\n",
    "        * ( xm_A + (((-1 + np.exp(-xm_B)) * xm_A)/(xm_B)) - xm_B + ((xm_B - np.exp(-xm_A)*xm_B)/(xm_A)) )\n",
    "\n",
    "    C[np.where(index != 0)] += 1\\\n",
    "                                    * constant[np.where(index != 0)]\\\n",
    "                                    * integral \\\n",
    "                                    * 2 # degeneracy \n",
    "    return C\n"
   ]
  },
  {
   "cell_type": "code",
   "execution_count": 20,
   "metadata": {},
   "outputs": [],
   "source": [
    "\n",
    "k0 = 1e-2\n",
    "kf = 1e2\n",
    "nk = 50\n",
    "k_vec = np.logspace(np.log10(k0), np.log10(kf), nk)#*rg2**0.5\n",
    "\n",
    "k1_vec = np.zeros((nk, 3))\n",
    "k2_vec = np.zeros((nk, 3))\n",
    "k3_vec = np.zeros((nk, 3))\n",
    "\n",
    "k1_vec[:, 0] += np.logspace(np.log10(k0), np.log10(kf), nk)#*rg2**0.5\n",
    "\n",
    "theta_1 = np.pi#np.pi/3 #2* np.pi * 1 / 3\n",
    "theta_2 = 0#2*np.pi/3\n",
    "\n",
    "frac = 1\n",
    "k2_vec[:, 0] += frac * np.cos(theta_1) * np.logspace(np.log10(k0), np.log10(kf), nk)\n",
    "k2_vec[:, 1] += frac * np.sin(theta_1) * np.logspace(np.log10(k0), np.log10(kf), nk)\n",
    "\n",
    "k3_vec[:, 0] += frac * np.cos(theta_2) * np.logspace(np.log10(k0), np.log10(kf), nk)\n",
    "k3_vec[:, 1] += frac * np.sin(theta_2) * np.logspace(np.log10(k0), np.log10(kf), nk)\n",
    "\n",
    "\n",
    "k4_vec = - (k1_vec + k2_vec + k3_vec)\n",
    "\n",
    "k1_val = np.sqrt(np.sum(k1_vec ** 2,axis = 1))\n",
    "k2_val = np.sqrt(np.sum(k2_vec ** 2,axis = 1))\n",
    "k3_val = np.sqrt(np.sum(k3_vec ** 2,axis = 1))"
   ]
  },
  {
   "cell_type": "code",
   "execution_count": 21,
   "metadata": {},
   "outputs": [],
   "source": [
    "N = 500\n",
    "FA = 0.7\n",
    "\n",
    "N_m = 50\n",
    "b = 1\n",
    "M = 10\n",
    "poly_mat = [0,0,0,0,0,0,0,1,1,1]\n",
    "dens = [1.]"
   ]
  },
  {
   "cell_type": "code",
   "execution_count": 265,
   "metadata": {},
   "outputs": [],
   "source": [
    "k1_vec_test = np.array([1.5, 0, 0])"
   ]
  },
  {
   "cell_type": "code",
   "execution_count": 22,
   "metadata": {},
   "outputs": [
    {
     "ename": "NameError",
     "evalue": "name 'k1_vec_test' is not defined",
     "output_type": "error",
     "traceback": [
      "\u001b[1;31m---------------------------------------------------------------------------\u001b[0m",
      "\u001b[1;31mNameError\u001b[0m                                 Traceback (most recent call last)",
      "\u001b[1;32m<ipython-input-22-5e0b83be0a9d>\u001b[0m in \u001b[0;36m<module>\u001b[1;34m\u001b[0m\n\u001b[1;32m----> 1\u001b[1;33m \u001b[0msf3_AAA\u001b[0m\u001b[1;33m,\u001b[0m \u001b[0msf3_AAB\u001b[0m\u001b[1;33m,\u001b[0m \u001b[0msf3_ABB\u001b[0m\u001b[1;33m,\u001b[0m \u001b[0msf3_BBB\u001b[0m\u001b[1;33m,\u001b[0m \u001b[0msf3_ABA\u001b[0m \u001b[1;33m=\u001b[0m \u001b[0mcalc_sf3\u001b[0m\u001b[1;33m(\u001b[0m\u001b[0mpoly_mat\u001b[0m\u001b[1;33m,\u001b[0m \u001b[0mdens\u001b[0m\u001b[1;33m,\u001b[0m \u001b[0mN_m\u001b[0m\u001b[1;33m,\u001b[0m \u001b[0mb\u001b[0m\u001b[1;33m,\u001b[0m \u001b[1;33m[\u001b[0m\u001b[0mk1_vec_test\u001b[0m\u001b[1;33m]\u001b[0m\u001b[1;33m,\u001b[0m \u001b[1;33m[\u001b[0m\u001b[0mk1_vec_test\u001b[0m\u001b[1;33m]\u001b[0m\u001b[1;33m)\u001b[0m\u001b[1;33m\u001b[0m\u001b[1;33m\u001b[0m\u001b[0m\n\u001b[0m",
      "\u001b[1;31mNameError\u001b[0m: name 'k1_vec_test' is not defined"
     ]
    }
   ],
   "source": [
    "sf3_AAA, sf3_AAB, sf3_ABB, sf3_BBB, sf3_ABA = calc_sf3(poly_mat, dens, N_m, b, [k1_vec_test], [k1_vec_test])"
   ]
  },
  {
   "cell_type": "code",
   "execution_count": 336,
   "metadata": {},
   "outputs": [],
   "source": [
    "sf2_AA, sf2_AB, sf2_BB = calc_sf2(poly_mat, dens, N_m, b, [k1_vec_test])"
   ]
  },
  {
   "cell_type": "code",
   "execution_count": 337,
   "metadata": {},
   "outputs": [
    {
     "data": {
      "text/plain": [
       "array([648355.55578574])"
      ]
     },
     "execution_count": 337,
     "metadata": {},
     "output_type": "execute_result"
    }
   ],
   "source": [
    "sf3_AAA"
   ]
  },
  {
   "cell_type": "code",
   "execution_count": 345,
   "metadata": {},
   "outputs": [
    {
     "data": {
      "text/plain": [
       "array([648355.55555556])"
      ]
     },
     "execution_count": 345,
     "metadata": {},
     "output_type": "execute_result"
    }
   ],
   "source": [
    "sf2_AA*0.7*500"
   ]
  },
  {
   "cell_type": "code",
   "execution_count": 353,
   "metadata": {},
   "outputs": [
    {
     "data": {
      "text/plain": [
       "array([117866.66669955])"
      ]
     },
     "execution_count": 353,
     "metadata": {},
     "output_type": "execute_result"
    }
   ],
   "source": [
    "sf3_BBB"
   ]
  },
  {
   "cell_type": "code",
   "execution_count": 346,
   "metadata": {},
   "outputs": [
    {
     "data": {
      "text/plain": [
       "array([277866.66666667])"
      ]
     },
     "execution_count": 346,
     "metadata": {},
     "output_type": "execute_result"
    }
   ],
   "source": [
    "sf2_AA*0.3*500"
   ]
  },
  {
   "cell_type": "code",
   "execution_count": 347,
   "metadata": {},
   "outputs": [
    {
     "data": {
      "text/plain": [
       "array([1066.66666667])"
      ]
     },
     "execution_count": 347,
     "metadata": {},
     "output_type": "execute_result"
    }
   ],
   "source": [
    "sf2_AB*0.7*500"
   ]
  },
  {
   "cell_type": "code",
   "execution_count": 348,
   "metadata": {},
   "outputs": [
    {
     "data": {
      "text/plain": [
       "array([2488.88888889])"
      ]
     },
     "execution_count": 348,
     "metadata": {},
     "output_type": "execute_result"
    }
   ],
   "source": [
    "sf2_AB*0.3*500"
   ]
  },
  {
   "cell_type": "code",
   "execution_count": 350,
   "metadata": {},
   "outputs": [
    {
     "data": {
      "text/plain": [
       "array([275022.22222222])"
      ]
     },
     "execution_count": 350,
     "metadata": {},
     "output_type": "execute_result"
    }
   ],
   "source": [
    "sf2_BB*0.7*500"
   ]
  },
  {
   "cell_type": "code",
   "execution_count": 349,
   "metadata": {},
   "outputs": [
    {
     "data": {
      "text/plain": [
       "array([117866.66666667])"
      ]
     },
     "execution_count": 349,
     "metadata": {},
     "output_type": "execute_result"
    }
   ],
   "source": [
    "sf2_BB*0.3*500"
   ]
  },
  {
   "cell_type": "code",
   "execution_count": 267,
   "metadata": {},
   "outputs": [
    {
     "name": "stdout",
     "output_type": "stream",
     "text": [
      "Wall time: 114 ms\n"
     ]
    }
   ],
   "source": [
    "%%time\n",
    "#VERTEX\n",
    "\n",
    "# FA = 0.75\n",
    "# N = 400.\n",
    "s3_arr_vert_AAA = np.zeros(nk)\n",
    "s3_arr_vert_AAB = np.zeros(nk)\n",
    "s3_arr_vert_ABB = np.zeros(nk)\n",
    "s3_arr_vert_BBB = np.zeros(nk)\n",
    "\n",
    "Ks = k1_vec_test, -k1_vec_test, 0\n",
    "s3_mat = (s3wlc(pset, N, FA, Ks, sequence='all'))\n",
    "s3_arr_vert_AAA[0] = s3_mat[0][0][0]\n",
    "s3_arr_vert_AAB[0] = s3_mat[1][1][0]\n",
    "s3_arr_vert_ABB[0] = s3_mat[0][1][0]\n",
    "s3_arr_vert_BBB[0] = s3_mat[1][1][1]\n",
    "# s4_arr_vert_BBBB[0] = s4_mat[1][1][1][1]"
   ]
  },
  {
   "cell_type": "code",
   "execution_count": 23,
   "metadata": {},
   "outputs": [],
   "source": [
    "sf3_AAA, sf3_AAB, sf3_ABB, sf3_BBB,sf3_ABA = calc_sf3(poly_mat, dens, N_m, b, k1_vec, k1_vec)"
   ]
  },
  {
   "cell_type": "code",
   "execution_count": 12,
   "metadata": {},
   "outputs": [
    {
     "name": "stdout",
     "output_type": "stream",
     "text": [
      "Wall time: 1min 46s\n"
     ]
    }
   ],
   "source": [
    "%%time\n",
    "#VERTEX\n",
    "\n",
    "# FA = 0.75\n",
    "# N = 400.\n",
    "s3_arr_vert_AAA = np.zeros(nk)\n",
    "s3_arr_vert_AAB = np.zeros(nk)\n",
    "s3_arr_vert_ABB = np.zeros(nk)\n",
    "s3_arr_vert_BBB = np.zeros(nk)\n",
    "\n",
    "for i in range(nk):\n",
    "    Ks = k1_vec[i], k1_vec[i], -2*k1_vec[i]\n",
    "    s3_mat = (s3wlc(pset, N, FA, Ks, sequence='all'))\n",
    "    s3_arr_vert_AAA[i] = s3_mat[0][0][0]\n",
    "    s3_arr_vert_AAB[i] = s3_mat[0][1][0]\n",
    "    s3_arr_vert_ABB[i] = s3_mat[1][1][0]\n",
    "    s3_arr_vert_BBB[i] = s3_mat[1][1][1]\n",
    "# s4_arr_vert_BBBB[0] = s4_mat[1][1][1][1]"
   ]
  },
  {
   "cell_type": "code",
   "execution_count": 268,
   "metadata": {},
   "outputs": [
    {
     "data": {
      "text/plain": [
       "array([648355.55578574])"
      ]
     },
     "execution_count": 268,
     "metadata": {},
     "output_type": "execute_result"
    }
   ],
   "source": [
    "sf3_AAA # 000"
   ]
  },
  {
   "cell_type": "code",
   "execution_count": 269,
   "metadata": {},
   "outputs": [
    {
     "data": {
      "text/plain": [
       "681174.446878032"
      ]
     },
     "execution_count": 269,
     "metadata": {},
     "output_type": "execute_result"
    }
   ],
   "source": [
    "s3_arr_vert_AAA[0]"
   ]
  },
  {
   "cell_type": "code",
   "execution_count": 244,
   "metadata": {},
   "outputs": [
    {
     "data": {
      "text/plain": [
       "array([5365708.77726034])"
      ]
     },
     "execution_count": 244,
     "metadata": {},
     "output_type": "execute_result"
    }
   ],
   "source": [
    "sf3_AAB"
   ]
  },
  {
   "cell_type": "code",
   "execution_count": 245,
   "metadata": {},
   "outputs": [
    {
     "data": {
      "text/plain": [
       "5480535.665799747"
      ]
     },
     "execution_count": 245,
     "metadata": {},
     "output_type": "execute_result"
    }
   ],
   "source": [
    "s3_arr_vert_AAB[0]"
   ]
  },
  {
   "cell_type": "code",
   "execution_count": 251,
   "metadata": {},
   "outputs": [
    {
     "data": {
      "text/plain": [
       "(5480535.665799747-1.0278444672484396e-09j)"
      ]
     },
     "execution_count": 251,
     "metadata": {},
     "output_type": "execute_result"
    }
   ],
   "source": [
    "s3_mat[1][1][0]"
   ]
  },
  {
   "cell_type": "code",
   "execution_count": 246,
   "metadata": {},
   "outputs": [
    {
     "data": {
      "text/plain": [
       "array([3640788.89359084])"
      ]
     },
     "execution_count": 246,
     "metadata": {},
     "output_type": "execute_result"
    }
   ],
   "source": [
    "sf3_ABB "
   ]
  },
  {
   "cell_type": "code",
   "execution_count": 250,
   "metadata": {},
   "outputs": [
    {
     "data": {
      "text/plain": [
       "(3543253.8640140453+8.678469006262582e-10j)"
      ]
     },
     "execution_count": 250,
     "metadata": {},
     "output_type": "execute_result"
    }
   ],
   "source": [
    "s3_mat[0][1][0]"
   ]
  },
  {
   "cell_type": "code",
   "execution_count": 247,
   "metadata": {},
   "outputs": [
    {
     "data": {
      "text/plain": [
       "3543253.8640140453"
      ]
     },
     "execution_count": 247,
     "metadata": {},
     "output_type": "execute_result"
    }
   ],
   "source": [
    "s3_arr_vert_ABB[0]"
   ]
  },
  {
   "cell_type": "code",
   "execution_count": 248,
   "metadata": {},
   "outputs": [
    {
     "data": {
      "text/plain": [
       "array([2341648.64919683])"
      ]
     },
     "execution_count": 248,
     "metadata": {},
     "output_type": "execute_result"
    }
   ],
   "source": [
    "sf3_BBB # 111"
   ]
  },
  {
   "cell_type": "code",
   "execution_count": 223,
   "metadata": {},
   "outputs": [
    {
     "data": {
      "text/plain": [
       "2348800.9996284638"
      ]
     },
     "execution_count": 223,
     "metadata": {},
     "output_type": "execute_result"
    }
   ],
   "source": [
    "s3_arr_vert_BBB[0]"
   ]
  },
  {
   "cell_type": "code",
   "execution_count": 200,
   "metadata": {},
   "outputs": [
    {
     "data": {
      "text/plain": [
       "array([[[20279514.71155763+1.09624296e-09j,\n",
       "          8691220.59066756+4.69818411e-10j],\n",
       "        [ 3543253.86401405+8.67846901e-10j,\n",
       "          1518537.37029173+3.71934386e-10j]],\n",
       "\n",
       "       [[ 3543253.86401405+8.67846901e-10j,\n",
       "          1518537.37029173+3.71934386e-10j],\n",
       "        [ 5480535.66579975-1.02784447e-09j,\n",
       "          2348800.99962846-4.40504772e-10j]]])"
      ]
     },
     "execution_count": 200,
     "metadata": {},
     "output_type": "execute_result"
    }
   ],
   "source": [
    "s3_mat#[0, 1, 0]"
   ]
  },
  {
   "cell_type": "code",
   "execution_count": 25,
   "metadata": {},
   "outputs": [
    {
     "data": {
      "image/png": "[encoded data removed]",
      "text/plain": [
       "<Figure size 720x576 with 1 Axes>"
      ]
     },
     "metadata": {
      "needs_background": "light"
     },
     "output_type": "display_data"
    }
   ],
   "source": [
    "plt.figure(figsize=(10,8))\n",
    "font = {'family' : 'serif',\n",
    "        'weight':'normal',\n",
    "        'size': 18}\n",
    "plt.rc('font', **font)\n",
    "\n",
    "# plt.plot(k_vec[:n], sf3_homo[:n], label = \"homo\", linestyle = \"-\")\n",
    "\n",
    "# plt.plot(k_vec, sf3_stat, label = \"wlcstat homo\")\n",
    "\n",
    "\n",
    "# plt.plot(k_vec[:], s3_arr_vert_AAA[:], label = \"AAA wlc\", linestyle = \"-\", color = \"red\")\n",
    "\n",
    "plt.plot(k_vec[:], sf3_AAA[:], label = \"AAA gaus\", linestyle = \"--\", color = \"red\", alpha = 0.5)\n",
    "\n",
    "\n",
    "plt.plot(k_vec[:], s3_arr_vert_AAB[:], label = \"AAB wlc\", linestyle = \"-\", color = \"blue\")\n",
    "\n",
    "plt.plot(k_vec[:], sf3_AAB[:], label = \"AAB gaus\", linestyle = \"--\", color = \"blue\", alpha = 0.5)\n",
    "\n",
    "\n",
    "plt.plot(k_vec[:], sf3_ABA[:], label = \"ABA gaus\", linestyle = \"--\", color = \"black\", alpha = 0.5)\n",
    "\n",
    "\n",
    "# plt.plot(k_vec[:], s3_arr_vert_ABB[:], label = \"ABB wlc\", linestyle = \"-\", color = \"green\")\n",
    "\n",
    "plt.plot(k_vec[:], sf3_ABB[:], label = \"ABB gaus\", linestyle = \"--\", color = \"green\", alpha = 0.5)\n",
    "\n",
    "\n",
    "# plt.plot(k_vec[:], s3_arr_vert_BBB[:], label = \"BBB wlc\", linestyle = \"-\", color = \"black\")\n",
    "\n",
    "# plt.plot(k_vec[:], sf3_BBB[:], label = \"BBB gaus\", linestyle = \"--\", color = \"black\", alpha = 0.5)\n",
    "\n",
    "\n",
    "plt.xscale('log')\n",
    "plt.yscale('log')\n",
    "\n",
    "plt.title(\"block copolymer, k1=k2, N = \" + str(N) + \", $f_A$ = \" + str(FA))\n",
    "plt.xlabel(r'$K$')\n",
    "plt.ylabel(r'Structure Factor $S_{3}(K;N)$')\n",
    "plt.xlim((1e-2, 1e0))\n",
    "plt.ylim((1e4, 1e8))\n",
    "plt.tight_layout()\n",
    "plt.legend()\n",
    "plt.show()"
   ]
  },
  {
   "cell_type": "code",
   "execution_count": 296,
   "metadata": {},
   "outputs": [
    {
     "data": {
      "image/png": "[encoded data removed]",
      "text/plain": [
       "<Figure size 720x576 with 1 Axes>"
      ]
     },
     "metadata": {
      "needs_background": "light"
     },
     "output_type": "display_data"
    }
   ],
   "source": [
    "plt.figure(figsize=(10,8))\n",
    "font = {'family' : 'serif',\n",
    "        'weight':'normal',\n",
    "        'size': 18}\n",
    "plt.rc('font', **font)\n",
    "\n",
    "# plt.plot(k_vec[:n], sf3_homo[:n], label = \"homo\", linestyle = \"-\")\n",
    "\n",
    "# plt.plot(k_vec, sf3_stat, label = \"wlcstat homo\")\n",
    "\n",
    "\n",
    "plt.plot(k_vec[:], s3_arr_vert_AAA[:], label = \"AAA wlc\", linestyle = \"-\", color = \"red\")\n",
    "\n",
    "plt.plot(k_vec[:], sf3_AAA[:], label = \"AAA gaus\", linestyle = \"--\", color = \"red\", alpha = 0.5)\n",
    "\n",
    "\n",
    "plt.plot(k_vec[:], s3_arr_vert_AAB[:], label = \"AAB wlc\", linestyle = \"-\", color = \"blue\")\n",
    "\n",
    "plt.plot(k_vec[:], sf3_AAB[:], label = \"AAB gaus\", linestyle = \"--\", color = \"blue\", alpha = 0.5)\n",
    "\n",
    "\n",
    "plt.plot(k_vec[:], s3_arr_vert_ABB[:], label = \"ABB wlc\", linestyle = \"-\", color = \"green\")\n",
    "\n",
    "plt.plot(k_vec[:], sf3_ABB[:], label = \"ABB gaus\", linestyle = \"--\", color = \"green\", alpha = 0.5)\n",
    "\n",
    "\n",
    "plt.plot(k_vec[:], s3_arr_vert_BBB[:], label = \"BBB wlc\", linestyle = \"-\", color = \"black\")\n",
    "\n",
    "plt.plot(k_vec[:], sf3_BBB[:], label = \"BBB gaus\", linestyle = \"--\", color = \"black\", alpha = 0.5)\n",
    "\n",
    "\n",
    "plt.xscale('log')\n",
    "plt.yscale('log')\n",
    "\n",
    "plt.title(\"block copolymer, k12=0, N = \" + str(N) + \", $f_A$ = \" + str(FA))\n",
    "plt.xlabel(r'$K$')\n",
    "plt.ylabel(r'Structure Factor $S_{3}(K;N)$')\n",
    "plt.xlim((1e-2, 1e2))\n",
    "plt.tight_layout()\n",
    "plt.legend()\n",
    "plt.show()"
   ]
  },
  {
   "cell_type": "code",
   "execution_count": null,
   "metadata": {},
   "outputs": [],
   "source": []
  },
  {
   "cell_type": "code",
   "execution_count": 49,
   "metadata": {},
   "outputs": [
    {
     "data": {
      "text/plain": [
       "array([[[3.41672828e+08+1.63359463e-10j, 1.46431212e+08+7.00111983e-11j],\n",
       "        [1.45782276e+08+1.49501609e-10j, 6.24781183e+07+6.40721182e-11j]],\n",
       "\n",
       "       [[1.45782276e+08+1.49501609e-10j, 6.24781183e+07+6.40721182e-11j],\n",
       "        [6.28956529e+07+1.28588117e-11j, 2.69552798e+07+5.51091930e-12j]]])"
      ]
     },
     "execution_count": 49,
     "metadata": {},
     "output_type": "execute_result"
    }
   ],
   "source": [
    "s3_mat"
   ]
  },
  {
   "cell_type": "code",
   "execution_count": 50,
   "metadata": {},
   "outputs": [
    {
     "data": {
      "text/plain": [
       "array([3.41669992e+08])"
      ]
     },
     "execution_count": 50,
     "metadata": {},
     "output_type": "execute_result"
    }
   ],
   "source": [
    "sf3_AAA"
   ]
  },
  {
   "cell_type": "code",
   "execution_count": 51,
   "metadata": {},
   "outputs": [
    {
     "data": {
      "text/plain": [
       "array([1.45963801e+08])"
      ]
     },
     "execution_count": 51,
     "metadata": {},
     "output_type": "execute_result"
    }
   ],
   "source": [
    "sf3_AAB"
   ]
  },
  {
   "cell_type": "code",
   "execution_count": 52,
   "metadata": {},
   "outputs": [
    {
     "data": {
      "text/plain": [
       "array([62712398.30226441])"
      ]
     },
     "execution_count": 52,
     "metadata": {},
     "output_type": "execute_result"
    }
   ],
   "source": [
    "sf3_ABB"
   ]
  },
  {
   "cell_type": "code",
   "execution_count": 53,
   "metadata": {},
   "outputs": [
    {
     "data": {
      "text/plain": [
       "array([26955056.41972864])"
      ]
     },
     "execution_count": 53,
     "metadata": {},
     "output_type": "execute_result"
    }
   ],
   "source": [
    "sf3_BBB"
   ]
  },
  {
   "cell_type": "code",
   "execution_count": 64,
   "metadata": {},
   "outputs": [
    {
     "name": "stdout",
     "output_type": "stream",
     "text": [
      "Wall time: 2.09 s\n"
     ]
    }
   ],
   "source": [
    "%%time\n",
    "s4_AAAA, s4_AAAB, s4_AABB, s4_ABBB, s4_BBBB  = calc_sf4(poly_mat, dens, N_m, b, k1_vec[:], -k1_vec[:], k1_vec[:])"
   ]
  },
  {
   "cell_type": "code",
   "execution_count": 65,
   "metadata": {},
   "outputs": [
    {
     "name": "stdout",
     "output_type": "stream",
     "text": [
      "Wall time: 37min 39s\n"
     ]
    }
   ],
   "source": [
    "%%time\n",
    "#VERTEX\n",
    "\n",
    "# FA = 0.75\n",
    "# N = 400.\n",
    "s4_arr_vert_AAAA = np.zeros(nk)\n",
    "s4_arr_vert_AAAB = np.zeros(nk)\n",
    "s4_arr_vert_AABB = np.zeros(nk)\n",
    "s4_arr_vert_ABBB = np.zeros(nk)\n",
    "s4_arr_vert_BBBB = np.zeros(nk)\n",
    "\n",
    "for i in range(nk):\n",
    "    Ks = k1_vec[i], -k1_vec[i], k1_vec[i], -k1_vec[i]\n",
    "    s4_mat = (s4wlc(pset, wigset, N, FA, Ks, sequence='all'))\n",
    "    s4_arr_vert_AAAA[i] = s4_mat[0][0][0][0]\n",
    "    s4_arr_vert_AAAB[i] = s4_mat[0][0][0][1]\n",
    "    s4_arr_vert_AABB[i] = s4_mat[0][0][1][1]\n",
    "    s4_arr_vert_ABBB[i] = s4_mat[0][1][1][1]\n",
    "    s4_arr_vert_BBBB[i] = s4_mat[1][1][1][1]"
   ]
  },
  {
   "cell_type": "code",
   "execution_count": 271,
   "metadata": {},
   "outputs": [
    {
     "data": {
      "image/png": "[encoded data removed]",
      "text/plain": [
       "<Figure size 720x576 with 1 Axes>"
      ]
     },
     "metadata": {
      "needs_background": "light"
     },
     "output_type": "display_data"
    }
   ],
   "source": [
    "plt.figure(figsize=(10,8))\n",
    "font = {'family' : 'serif',\n",
    "        'weight':'normal',\n",
    "        'size': 18}\n",
    "plt.rc('font', **font)\n",
    "\n",
    "# plt.plot(k_vec[:n], sf3_homo[:n], label = \"homo\", linestyle = \"-\")\n",
    "\n",
    "# plt.plot(k_vec, sf3_stat, label = \"wlcstat homo\")\n",
    "\n",
    "\n",
    "plt.plot(k_vec, s4_arr_vert_AAAA, label = \"AAAA wlc\", linestyle = \"-\", color = \"red\")\n",
    "\n",
    "plt.plot(k_vec, s4_AAAA, label = \"AAAA gaus\", linestyle = \"--\", color = \"red\", alpha = 0.5)\n",
    "\n",
    "\n",
    "plt.plot(k_vec, s4_arr_vert_AAAB, label = \"AAAB wlc\", linestyle = \"-\", color = \"blue\")\n",
    "\n",
    "plt.plot(k_vec, s4_AAAB, label = \"AAAB gaus\", linestyle = \"--\", color = \"blue\" , alpha = 0.5)\n",
    "\n",
    "\n",
    "plt.plot(k_vec, s4_arr_vert_AABB, label = \"AABB wlc\", linestyle = \"-\", color = \"green\")\n",
    "\n",
    "plt.plot(k_vec, s4_AABB, label = \"AABB gaus\", linestyle = \"--\", color = \"green\", alpha = 0.5)\n",
    "\n",
    "\n",
    "plt.plot(k_vec, s4_arr_vert_ABBB, label = \"ABBB wlc\", linestyle = \"-\", color = \"purple\")\n",
    "\n",
    "plt.plot(k_vec, s4_ABBB, label = \"ABBB gaus\", linestyle = \"--\", color = \"purple\", alpha = 0.5)\n",
    "\n",
    "\n",
    "plt.plot(k_vec, s4_arr_vert_BBBB, label = \"BBBB wlc\", linestyle = \"-\", color = \"black\")\n",
    "\n",
    "plt.plot(k_vec, s4_BBBB, label = \"BBBB gaus\", linestyle = \"--\", color = \"black\", alpha = 0.5)\n",
    "\n",
    "plt.xscale('log')\n",
    "plt.yscale('log')\n",
    "\n",
    "plt.title(\"block copolymer, k12,13,etc = 0 N = \" + str(N) + \", $f_A$ = \" + str(FA))\n",
    "plt.xlabel(r'$K$')\n",
    "plt.ylabel(r'Structure Factor $S_{4}(K;N)$')\n",
    "plt.xlim((1e-2, 1e2))\n",
    "plt.tight_layout()\n",
    "plt.legend()\n",
    "plt.show()"
   ]
  },
  {
   "cell_type": "code",
   "execution_count": null,
   "metadata": {},
   "outputs": [],
   "source": []
  },
  {
   "cell_type": "code",
   "execution_count": 34,
   "metadata": {},
   "outputs": [],
   "source": [
    "def calc_sf_old(poly_mat, dens, N_m, b, k_vec, k_vec_2, k_vec_3):\n",
    "    M4_AAAA = calc_monomer_matrix_4(poly_mat, dens)\n",
    "    M = np.shape(M4_AAAA)[0]\n",
    "    nk = len(k_vec)\n",
    "\n",
    "    grid = np.indices((M,M,M,M))\n",
    "    j1 = grid[0]\n",
    "    j2 = grid[1]\n",
    "    j3 = grid[2]\n",
    "    j4 = grid[3]\n",
    "    \n",
    "    S4_AAAA_arr = np.zeros(nk)\n",
    "    S4_AAAB_arr = np.zeros(nk)\n",
    "    S4_AABB_arr = np.zeros(nk)\n",
    "    S4_ABBB_arr = np.zeros(nk)\n",
    "    S4_BBBB_arr = np.zeros(nk)\n",
    "    \n",
    "    M4_BAAA = M4_AAAA[j2, j2, j3, j4] - M4_AAAA\n",
    "    M4_BBAA = M4_BAAA[j1, j3, j3, j4] - M4_BAAA\n",
    "    M4_BBBA = M4_BBAA[j1, j2, j4, j4] - M4_BBAA\n",
    "    M4_BBBB = 1 - M4_AAAA[j1, j1, j1, j1] - M4_AAAA[j2, j2, j2, j2] - M4_AAAA[j3, j3, j3, j3]  + M4_AAAA[j1, j1, j3, j3]\\\n",
    "    + M4_AAAA[j2, j2, j3, j3] + M4_AAAA[j1, j1, j2, j2] - M4_AAAA[j1, j2, j3, j3] - M4_BBBA\n",
    "\n",
    "    for i, k1 in enumerate(k_vec):\n",
    "        k2 = k_vec_2[i]\n",
    "        k3 = k_vec_3[i]\n",
    "        k12 = k1 + k2\n",
    "        k13 = k1 + k3\n",
    "        k23 = k2 + k3\n",
    "        k123 = k1 + k2 + k3\n",
    "        \n",
    "        # CASE 1; kA = k1 + k2 + k3; kB = k_1 + k_2; kC = k_1  S4 > S3 > S2 > S1 (and reverse). All cases on wlcstat\n",
    "        case1 = [[k123, k12, k1], [j4, j3, j2, j1]]\n",
    "        case2 = [[k123, k12, k2], [j4, j3, j1, j2]]\n",
    "        case3 = [[k123, k13, k1], [j4, j2, j3, j1]]\n",
    "        case4 = [[k123, k23, k2], [j4, j1, j3, j2]]\n",
    "        case5 = [[k123, k13, k3], [j4, j2, j1, j3]]\n",
    "        case6 = [[k123, k23, k3], [j4, j1, j2, j3]]\n",
    "        case7 = [[-k3, k12, k1], [j3, j4, j2, j1]]\n",
    "        case8 = [[-k3, k12, k2], [j3, j4, j1, j2]]\n",
    "        case9 = [[-k2, k13, k1], [j2, j4, j3, j1]]\n",
    "        case10 = [[-k1, k23, k2], [j1, j4, j3, j2]]\n",
    "        case11 = [[-k2, k13, k3], [j2, j4, j1, j3]]\n",
    "        case12 = [[-k1, k23, k3], [j1, j4, j2, j3]]\n",
    "        \n",
    "        case_arr = [case1, case2, case3, case4, case5, case6, \\\n",
    "                   case7, case8, case9, case10, case11, case12]\n",
    "        \n",
    "        C = np.zeros((M,M,M,M))\n",
    "        for cse in case_arr:\n",
    "            kA, kB, kC = cse[0]\n",
    "            ordered_js = cse[1]\n",
    "            \n",
    "            xm_A = (1/6) * N_m * b**2 * np.linalg.norm(kA)**2\n",
    "            xm_B = (1/6) * N_m * b**2 * np.linalg.norm(kB)**2\n",
    "            xm_C = (1/6) * N_m * b**2 * np.linalg.norm(kC)**2\n",
    "            \n",
    "            print(\"xm_A\")\n",
    "            print(xm_A)\n",
    "            print(\"xm_B\")\n",
    "            print(xm_B)\n",
    "            print(\"xm_C\")\n",
    "            print(xm_C)\n",
    "            C = calc_case_s4_old(C, xm_A, xm_B, xm_C, ordered_js) \n",
    "            \n",
    "        S4_AAAA_arr[i] += np.sum((1/M**4) * M4_AAAA * C)\n",
    "        S4_AAAB_arr[i] += np.sum((1/M**4) * M4_BAAA * C)\n",
    "        S4_AABB_arr[i] += np.sum((1/M**4) * M4_BBAA * C)\n",
    "        S4_ABBB_arr[i] += np.sum((1/M**4) * M4_BBBA * C)\n",
    "        S4_BBBB_arr[i] += np.sum((1/M**4) * M4_BBBB * C)\n",
    "        \n",
    "    return S4_AAAA_arr, S4_AAAB_arr, S4_AABB_arr, S4_ABBB_arr, S4_BBBB_arr \n",
    "\n",
    "\n",
    "def calc_case_s4_old(C, xm_A, xm_B, xm_C, ordered_js):\n",
    "\n",
    "    jmax, jupp, jlow, jmin = ordered_js\n",
    "    ordered_js.reverse()\n",
    "    jmax_d, jupp_d, jlow_d, jmin_d = ordered_js\n",
    "    \n",
    "    xmA_eq_xmB = False\n",
    "    xmA_eq_xmC = False\n",
    "    xmB_eq_xmC = False\n",
    "    epsilon = 0.0000001\n",
    "    if xm_A + epsilon > xm_B and xm_A - epsilon < xm_B:\n",
    "        xmA_eq_xmB = True\n",
    "    if xm_A + epsilon > xm_C and xm_A - epsilon < xm_C:\n",
    "        xmA_eq_xmC = True\n",
    "    if xm_B + epsilon > xm_C and xm_B - epsilon < xm_C:\n",
    "        xmB_eq_xmC = True\n",
    "#     print(\"xmA_eq_xmB\")\n",
    "#     print(xmA_eq_xmB)\n",
    "#     print(\"xmA_eq_xmC\")\n",
    "#     print(xmA_eq_xmC)\n",
    "#     print(\"xmB_eq_xmC\")\n",
    "#     print(xmB_eq_xmC)\n",
    "\n",
    "    #for each sub case, looking at the degenerate case where 1 and 2 are switched\n",
    "    constant = np.exp(-xm_A*(jmax - jupp)- xm_B*(jupp - jlow) - xm_C*(jlow - jmin))\n",
    "    constant_deg = np.exp(-xm_A*(jmax_d - jupp_d)- xm_B*(jupp_d - jlow_d) - xm_C*(jlow_d - jmin_d))\n",
    "\n",
    "    # sub case 1; jmax > jupp > jlow > jmin, {s1234} any\n",
    "    index = (jmax > jupp) * (jupp > jlow) * (jlow > jmin)\n",
    "    index_deg = (jmax_d > jupp_d) * (jupp_d > jlow_d) * (jlow_d > jmin_d)\n",
    "\n",
    "    if xmA_eq_xmB and xmB_eq_xmC:\n",
    "        integral = 2*(-1 + np.cosh(xm_A)) / xm_A**2\n",
    "    elif (not xmA_eq_xmB) and (not xmB_eq_xmC) and (not xmA_eq_xmC):\n",
    "        integral = (16*np.sinh(xm_A / 2) * np.sinh((xm_A - xm_B)/2) * np.sinh((xm_B - xm_C)/2) * np.sinh(xm_C/2))\\\n",
    "                    / (xm_A * (xm_A - xm_B) * (xm_B - xm_C) * xm_C)\n",
    "    elif xmA_eq_xmB:\n",
    "        integral = -(2 / (xm_A*xm_C*(xm_A - xm_C))) * \\\n",
    "                    (-np.sinh(xm_A) + np.sinh(xm_A - xm_C) + np.sinh(xm_C))\n",
    "    elif xmB_eq_xmC:\n",
    "        integral = -(2 / (xm_A*xm_B*(xm_A - xm_B))) * \\\n",
    "                    (-np.sinh(xm_A) + np.sinh(xm_A - xm_B) + np.sinh(xm_B))\n",
    "    elif xmA_eq_xmC:\n",
    "        integral = (16 / (xm_A**2 * (xm_A - xm_B)**2) )* \\\n",
    "                    np.sinh(xm_A / 2)**2 *np.sinh((xm_A - xm_B) / 2)**2\n",
    "#     print(\"subcase 1\")\n",
    "#     print(constant[np.where(index != 0)] \\\n",
    "#                                     * integral)\n",
    "    C[np.where((index) != 0)] += constant[np.where(index != 0)] \\\n",
    "                                    * integral\n",
    "    \n",
    "    C[np.where((index_deg) != 0)] += constant_deg[np.where(index_deg != 0)] \\\n",
    "                                    * integral \n",
    "    \n",
    "    # sub case 2; jmax = jupp > jlow > jmin\n",
    "    index = (jmax == jupp) * (jupp > jlow) * (jlow > jmin)\n",
    "    index_deg = (jmax_d == jupp_d) * (jupp_d > jlow_d) * (jlow_d > jmin_d)\n",
    "\n",
    "    if xmA_eq_xmB and xmB_eq_xmC:\n",
    "        integral = (np.exp(-xm_A) * (-1 + np.exp(xm_A)) * (-1 + np.exp(xm_A) - xm_A))\\\n",
    "        / (xm_A**3)\n",
    "    elif (not xmA_eq_xmB) and (not xmB_eq_xmC) and (not xmA_eq_xmC):\n",
    "        integral = ((np.exp(-xm_A-xm_B-xm_C)) * (-1+np.exp(xm_C)) * (-np.exp(xm_B)+np.exp(xm_C))\\\n",
    "                    * (-np.exp(xm_A)*xm_A + np.exp(xm_A + xm_B)*(xm_A-xm_B) + np.exp(xm_B)*xm_B))\\\n",
    "                    / (xm_A*xm_B*xm_C*(xm_A - xm_B) * (xm_C - xm_B))\n",
    "    elif xmA_eq_xmB:\n",
    "        integral = ((np.exp(-xm_A - xm_C)) * (-1+np.exp(xm_C)) * (-np.exp(xm_A)+np.exp(xm_C)) * (-1+np.exp(xm_A) - xm_A))\\\n",
    "        /(xm_A**2*xm_C*(xm_C - xm_A))\n",
    "    elif xmB_eq_xmC:\n",
    "        integral = ((-1+np.exp(xm_B))*(xm_A - xm_A*np.exp(-xm_B) + (-1+np.exp(-xm_A))*xm_B))/(xm_B**2*xm_A*(xm_A - xm_B))\n",
    "    elif xmA_eq_xmC:\n",
    "        integral = ( (np.exp(-2*xm_A-xm_B))*(-1+np.exp(xm_A))*(np.exp(xm_A) - np.exp(xm_B))\\\n",
    "                    *(-np.exp(xm_A)*xm_A + np.exp(xm_A + xm_B)*(xm_A-xm_B) + np.exp(xm_B)*xm_B)) / (xm_B*xm_A**2*(xm_A-xm_B)**2)\n",
    "#     print(\"subcase 2\")\n",
    "#     print(constant[np.where(index != 0)] \\\n",
    "#                                     * integral)\n",
    "    C[np.where((index) != 0)] += constant[np.where(index != 0)] \\\n",
    "                                    * integral\n",
    "    \n",
    "    C[np.where((index_deg) != 0)] += constant_deg[np.where(index_deg != 0)] \\\n",
    "                                    * integral \n",
    "\n",
    "    # sub case 3; jmax > jupp = jlow > jmin\n",
    "    index = (jmax > jupp) * (jupp == jlow) * (jlow > jmin)\n",
    "    index_deg = (jmax_d > jupp_d) * (jupp_d == jlow_d) * (jlow_d > jmin_d)\n",
    "\n",
    "    if xmA_eq_xmB and xmB_eq_xmC:\n",
    "        integral = (-1 + np.cosh(xm_A)) / (xm_A**2)\n",
    "    elif (not xmA_eq_xmB) and (not xmB_eq_xmC) and (not xmA_eq_xmC):\n",
    "        integral = ((1-np.exp(-xm_A))*(-1+np.exp(xm_C))*( ( (1-np.exp(xm_A-xm_B))/(xm_A-xm_B) ) + ( (-1+np.exp(xm_A-xm_C))/(xm_A-xm_C) ) ))/(xm_A*xm_C*(xm_B - xm_C))\n",
    "    elif xmA_eq_xmB:\n",
    "        integral = ((np.exp(-xm_A - xm_C)) * (-1+np.exp(xm_A)) * (-1+np.exp(xm_C)) * (np.exp(xm_A)+np.exp(xm_C)*(-1-xm_A+xm_C)))\\\n",
    "        /(xm_A*xm_C*(xm_A - xm_C)**2)\n",
    "    elif xmB_eq_xmC:\n",
    "        integral = ((np.exp(-xm_A - xm_B)) * (-1+np.exp(xm_A)) * (-1+np.exp(xm_B)) * (np.exp(xm_B)+np.exp(xm_A)*(-1+xm_A-xm_B)))\\\n",
    "        /(xm_A*xm_B*(xm_A - xm_B)**2)\n",
    "    elif xmA_eq_xmC:\n",
    "        integral = ((np.exp(-xm_A - xm_B)) * (-1+np.exp(xm_A))**2 * (np.exp(xm_A)+np.exp(xm_B)*(-1-xm_A+xm_B)))/(xm_A**2 * (xm_A - xm_B)**2)\n",
    "#     print(\"subcase 3\")\n",
    "#     print(constant[np.where(index != 0)] \\\n",
    "#                                     * integral)    \n",
    "    C[np.where((index) != 0)] += constant[np.where(index != 0)] \\\n",
    "                                    * integral\n",
    "    \n",
    "    C[np.where((index_deg) != 0)] += constant_deg[np.where(index_deg != 0)] \\\n",
    "                                    * integral \n",
    "\n",
    "    # sub case 4; jmax > jupp > jlow = jmin\n",
    "    index = (jmax > jupp) * (jupp > jlow) * (jlow == jmin)\n",
    "    index_deg = (jmax_d > jupp_d) * (jupp_d > jlow_d) * (jlow_d == jmin_d)\n",
    "\n",
    "    if xmA_eq_xmB and xmB_eq_xmC:\n",
    "        integral = ((2+xm_A)*(-1+np.cosh(xm_A)) - xm_A*np.sinh(xm_A))/(xm_A**3)\n",
    "    elif (not xmA_eq_xmB) and (not xmB_eq_xmC) and (not xmA_eq_xmC):\n",
    "        integral = ((np.exp(-xm_A-xm_B-xm_C)) * (-1+np.exp(xm_A)) * (-np.exp(xm_B)+np.exp(xm_A))\\\n",
    "                    * (-np.exp(xm_B)*xm_B + np.exp(xm_C + xm_B)*(xm_B-xm_C) + np.exp(xm_C)*xm_C))\\\n",
    "                    / (xm_A*xm_B*xm_C*(xm_A - xm_B) * (xm_B - xm_C))\n",
    "    elif xmA_eq_xmB:\n",
    "        integral = ((np.exp(-xm_A-xm_C)) * (-1+np.exp(xm_A)) * (-np.exp(xm_A)*xm_A + np.exp(xm_A+xm_C)*(xm_A-xm_C)+np.exp(xm_C)*xm_C)) / (xm_A**2*xm_C*(xm_A - xm_C))\n",
    "    elif xmB_eq_xmC:\n",
    "        integral = ((np.exp(-xm_A - xm_B)) * (-1+np.exp(xm_A)) * (-np.exp(xm_A)+np.exp(xm_B)) * (-1+np.exp(xm_B) - xm_B))\\\n",
    "        /(xm_A*xm_B**2*(xm_B - xm_A))\n",
    "    elif xmA_eq_xmC:\n",
    "        integral = ( (np.exp(-2*xm_A-xm_B))*(-1+np.exp(xm_A))*(np.exp(xm_A) - np.exp(xm_B))\\\n",
    "                    *(-np.exp(xm_A)*xm_A + np.exp(xm_A + xm_B)*(xm_A-xm_B) + np.exp(xm_B)*xm_B)) / (xm_B*xm_A**2*(xm_A-xm_B)**2)\n",
    "\n",
    "#     print(\"subcase 4\")\n",
    "#     print(constant[np.where(index != 0)] \\\n",
    "#                                     * integral)    \n",
    "    C[np.where((index) != 0)] += constant[np.where(index != 0)] \\\n",
    "                                    * integral\n",
    "    \n",
    "    C[np.where((index_deg) != 0)] += constant_deg[np.where(index_deg != 0)] \\\n",
    "                                    * integral \n",
    "    \n",
    "    # sub case 5; jmax == jupp == jlow > jmin\n",
    "    index = (jmax == jupp) * (jupp == jlow) * (jlow > jmin)\n",
    "    index_deg = (jmax_d == jupp_d) * (jupp_d == jlow_d) * (jlow_d > jmin_d)\n",
    "\n",
    "    if xmA_eq_xmB and xmB_eq_xmC:\n",
    "        integral = (np.exp(-xm_A) * (-1 + np.exp(xm_A)) * (-2 + 2*np.exp(xm_A) - 2*xm_A - xm_A**2))\\\n",
    "        / (2*xm_A**4)\n",
    "    elif (not xmA_eq_xmB) and (not xmB_eq_xmC) and (not xmA_eq_xmC):\n",
    "        integral = ((-1+np.exp(xm_C)) * (  ( (np.exp(-xm_B))/((xm_A-xm_B)*xm_B)   )  +  ( (xm_B - xm_C)/(xm_A*xm_B*xm_C)  )  +   (   (np.exp(-xm_C))/(xm_C*(xm_C-xm_A))    )  +    (    (np.exp(-xm_A)*(-xm_B+xm_C)) / ( xm_A*(xm_A-xm_B)*(xm_A-xm_C))  )   ))/((xm_B-xm_C)*xm_C)\n",
    "    elif xmA_eq_xmB:\n",
    "        integral = ((-1+np.exp(xm_C))* (  (-np.exp(-xm_C) * xm_A**2)     +    ((xm_A-xm_C)**2)    +     (np.exp(-xm_A)*xm_C*(xm_A**2 - xm_A*(-2+xm_C)-xm_C)) ))/(xm_A**2*xm_C**2*(xm_A-xm_C)**2)\n",
    "    elif xmB_eq_xmC:\n",
    "        integral = -((-1+np.exp(xm_B))* (  (np.exp(-xm_A) * xm_B**2)     +    -((xm_A-xm_B)**2)    +     (np.exp(-xm_B)*xm_A*(xm_A*(1+xm_B) - xm_B*(2+xm_B))) ))/(xm_B**3*xm_A*(xm_A-xm_B)**2)\n",
    "    elif xmA_eq_xmC:\n",
    "        integral = ((-1+np.exp(xm_A))* (  (-np.exp(-xm_B) * xm_A**2)     +    ((xm_A-xm_B)**2)    +     (np.exp(-xm_A)*xm_B*(xm_A**2 - xm_A*(-2+xm_B)-xm_B)) ))/(xm_A**3*xm_B*(xm_A-xm_B)**2)\n",
    "\n",
    "#     print(\"subcase 5\")\n",
    "#     print(constant[np.where(index != 0)] \\\n",
    "#                                     * integral)    \n",
    "    C[np.where((index) != 0)] += constant[np.where(index != 0)] \\\n",
    "                                    * integral\n",
    "    \n",
    "    C[np.where((index_deg) != 0)] += constant_deg[np.where(index_deg != 0)] \\\n",
    "                                    * integral \n",
    "    \n",
    "    # sub case 6; jmax > jupp == jlow = jmin\n",
    "    index = (jmax > jupp) * (jupp == jlow) * (jlow == jmin)\n",
    "    index_deg = (jmax_d > jupp_d) * (jupp_d == jlow_d) * (jlow_d == jmin_d)\n",
    "\n",
    "    if xmA_eq_xmB and xmB_eq_xmC:\n",
    "        integral = ((-1 + np.exp(-xm_A)) * (2 - 2*np.exp(xm_A) + 2*xm_A + xm_A**2))\\\n",
    "        / (2*xm_A**4)\n",
    "    elif (not xmA_eq_xmB) and (not xmB_eq_xmC) and (not xmA_eq_xmC):\n",
    "        integral = ( (np.exp(-xm_A - xm_B - xm_C)) * (-1+np.exp(xm_A)) * \\\n",
    "                   (          (-np.exp(xm_A+xm_B)*xm_A*(xm_A-xm_B)*xm_B)      +         (np.exp(xm_A+xm_C)*xm_A*(xm_A-xm_C)*xm_C)     +       (np.exp(xm_B+xm_C)*(xm_B-xm_C)*(np.exp(xm_A)*(xm_A-xm_B)*(xm_A-xm_C) -xm_B*xm_C) )     ))\\\n",
    "                    / (xm_A**2 * (xm_A - xm_B) * xm_B * (xm_A-xm_C) * (xm_B - xm_C) * xm_C)\n",
    "    elif xmA_eq_xmB:\n",
    "        integral = ( (np.exp(-xm_A - xm_C)) * (-1 + np.exp(xm_A)) * ((-np.exp(xm_A)*xm_A**2) +   (np.exp(xm_A+xm_C)*(xm_A-xm_C)**2)    +    -(np.exp(xm_C)*xm_C*(-xm_A**2+xm_A*(-2+xm_C)+xm_C)) ))/ (xm_A**3*(xm_A-xm_C)**2*xm_C)\n",
    "    elif xmB_eq_xmC:\n",
    "        integral = ( (np.exp(-xm_A - xm_B)) * (-1 + np.exp(xm_A)) * ((-np.exp(xm_B)*xm_B**2) +   (np.exp(xm_A+xm_B)*(xm_A-xm_B)**2)    +    -(np.exp(xm_A)*xm_A*(xm_A*(1+xm_B)-xm_B*(2+xm_B))) ))/ (xm_A**2*(xm_A-xm_B)**2*xm_B**2)\n",
    "    elif xmA_eq_xmC:\n",
    "        integral = ( (np.exp(-xm_A - xm_B)) * (-1 + np.exp(xm_A)) * ((-np.exp(xm_A)*xm_A**2) +   (np.exp(xm_A+xm_B)*(xm_A-xm_B)**2)    +    -(np.exp(xm_B)*xm_B*(-xm_A**2+xm_A*(-2+xm_B)+xm_B)) ))/ (xm_A**3*(xm_A-xm_B)**2*xm_B)\n",
    "#     print(\"subcase 6\")\n",
    "#     print(constant[np.where(index != 0)] \\\n",
    "#                                     * integral)    \n",
    "    C[np.where((index) != 0)] += constant[np.where(index != 0)] \\\n",
    "                                    * integral\n",
    "    \n",
    "    C[np.where((index_deg) != 0)] += constant_deg[np.where(index_deg != 0)] \\\n",
    "                                    * integral  \n",
    "    \n",
    "    # sub case 7; jmax == jupp == jlow = jmin\n",
    "    index = (jmax == jupp) * (jupp == jlow) * (jlow == jmin)\n",
    "\n",
    "    if xmA_eq_xmB and xmB_eq_xmC:\n",
    "        integral = (np.exp(-xm_A) * (6 + 2*(np.exp(xm_A)*(-3+xm_A)) + 4*xm_A + xm_A**2) ) / (2*xm_A**4)\n",
    "    elif (not xmA_eq_xmB) and (not xmB_eq_xmC) and (not xmA_eq_xmC):\n",
    "        integral = ( (np.exp(-xm_A)) / (xm_A**2 * (xm_A-xm_B) * (xm_A - xm_C)) )      +      ( (np.exp(-xm_B)) / (xm_B**2 * (xm_B-xm_A) * (xm_B - xm_C)) )     +      ( (np.exp(-xm_C)) / (xm_C**2 * (xm_C-xm_A) * (xm_C - xm_B)) )      +        -(  (xm_B*xm_C + xm_A*(xm_B+xm_C-xm_B*xm_C))   /    (xm_A**2*xm_B**2*xm_C**2)  )\n",
    "    elif xmA_eq_xmB:\n",
    "        integral = (  (-xm_A**3) + (np.exp(-xm_C)*xm_A**3) + (xm_A*(xm_A-xm_C)**2*xm_C) + ((3*xm_A-2*xm_C)*xm_C**2) + ( np.exp(-xm_A)*xm_C**2 *(2*xm_C + xm_A*(-3-xm_A+xm_C))) ) / (xm_A**3 * xm_C**2 * (xm_A - xm_C)**2)\n",
    "    elif xmB_eq_xmC:\n",
    "        integral = ( ((xm_A - xm_B)**2 * (xm_A*(-2 + xm_B) - xm_B))     +     (np.exp(-xm_A) * xm_B**3)     +    (np.exp(-xm_B)*xm_A**2 * (xm_A*(2+xm_B) - xm_B*(3 + xm_B))  )      ) / (xm_A**2 * (xm_A - xm_B)**2 * xm_B**3)\n",
    "    elif xmA_eq_xmC:\n",
    "        integral =  (  (-xm_A**3) + (np.exp(-xm_B)*xm_A**3) + (xm_A*(xm_A-xm_B)**2*xm_B) + ((3*xm_A-2*xm_B)*xm_B**2) + ( np.exp(-xm_A)*xm_B**2 *(2*xm_B + xm_A*(-3-xm_A+xm_B))) ) / (xm_A**3 * xm_B**2 * (xm_A - xm_B)**2)\n",
    "#     print(\"subcase 7\")\n",
    "#     print(constant[np.where(index != 0)] \\\n",
    "#                                     * integral)    \n",
    "    C[np.where((index) != 0)] += constant[np.where(index != 0)] \\\n",
    "                                    * integral * 2\n",
    "    # sub case 8; jmax == jupp > jlow = jmin\n",
    "    index = (jmax == jupp) * (jupp > jlow) * (jlow == jmin)\n",
    "    index_deg = (jmax_d == jupp_d) * (jupp_d > jlow_d) * (jlow_d == jmin_d)\n",
    "\n",
    "    if xmA_eq_xmB and xmB_eq_xmC:\n",
    "        integral = (np.exp(-xm_A) * (1 + -np.exp(xm_A) +xm_A)**2)\\\n",
    "        / (xm_A**4)\n",
    "    elif (not xmA_eq_xmB) and (not xmB_eq_xmC) and (not xmA_eq_xmC):\n",
    "        integral = ((np.exp(-xm_A-xm_B-xm_C)) * (-np.exp(xm_A)*xm_A + np.exp(xm_A + xm_B)*(xm_A-xm_B) + np.exp(xm_B)*xm_B) *(-np.exp(xm_B)*xm_B + np.exp(xm_B + xm_C)*(xm_B-xm_C) + np.exp(xm_C)*xm_C) )\\\n",
    "                    / (xm_A*xm_B**2*xm_C*(xm_A - xm_B) * (xm_B - xm_C))\n",
    "    elif xmA_eq_xmB:\n",
    "        integral = ( (np.exp(-xm_A - xm_C)) * (-1 + np.exp(xm_A)-xm_A) * ( (-np.exp(xm_A)*xm_A) +   (np.exp(xm_A+xm_C)*(xm_A-xm_C))    +  (np.exp(xm_C)*xm_C) ))/ (xm_A**3*(xm_A-xm_C)*xm_C)\n",
    "    elif xmB_eq_xmC:\n",
    "        integral = ( (-1+np.exp(xm_B) - xm_B) * (xm_A-np.exp(-xm_B)*xm_A + (-1+np.exp(-xm_A))*xm_B) )/ (xm_A*(xm_A-xm_B)*xm_B**3)\n",
    "    elif xmA_eq_xmC:\n",
    "        integral = ( (np.exp(-2*xm_A-xm_B)) * (-np.exp(xm_A)*xm_A + np.exp(xm_A+xm_B)*(xm_A-xm_B) + np.exp(xm_B)*xm_B)**2) / (xm_A**2*xm_B**2*(xm_A-xm_B)**2)\n",
    "#     print(\"subcase 8\")\n",
    "#     print(constant[np.where(index != 0)] \\\n",
    "#                                     * integral)    \n",
    "    C[np.where((index) != 0)] += constant[np.where(index != 0)] \\\n",
    "                                    * integral\n",
    "    \n",
    "    C[np.where((index_deg) != 0)] += constant_deg[np.where(index_deg != 0)] \\\n",
    "                                    * integral     \n",
    "    return C"
   ]
  },
  {
   "cell_type": "code",
   "execution_count": null,
   "metadata": {},
   "outputs": [],
   "source": []
  }
 ],
 "metadata": {
  "kernelspec": {
   "display_name": "Python 3",
   "language": "python",
   "name": "python3"
  },
  "language_info": {
   "codemirror_mode": {
    "name": "ipython",
    "version": 3
   },
   "file_extension": ".py",
   "mimetype": "text/x-python",
   "name": "python",
   "nbconvert_exporter": "python",
   "pygments_lexer": "ipython3",
   "version": "3.8.5"
  }
 },
 "nbformat": 4,
 "nbformat_minor": 4
}
