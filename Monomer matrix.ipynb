{
 "cells": [
  {
   "cell_type": "code",
   "execution_count": 241,
   "metadata": {},
   "outputs": [],
   "source": [
    "import numpy as np\n",
    "import wlcstat.wlc_copoly as wlc_copoly\n",
    "import wlcstat.wlcstruc as wlcstruc\n",
    "\n",
    "import sys\n",
    "sys.path.append(\"./vertex_subroutines\")\n",
    "from GAMcalc import *  # Code for calculating vertex functions\n",
    "import propagator  # propagator object used to store pre-calculated values\n",
    "import wignerD as wd # wigner D object used to store pre-calculated values\n",
    "\n",
    "import matplotlib.pyplot as plt\n",
    "from matplotlib.collections import LineCollection\n",
    "from matplotlib.colors import ListedColormap, BoundaryNorm\n",
    "\n",
    "pset=propagator.prop_set(nlam=10) "
   ]
  },
  {
   "cell_type": "code",
   "execution_count": 98,
   "metadata": {},
   "outputs": [],
   "source": [
    "# given a (set of) polymer structure, create a set of M^(2) connectivity matrices\n",
    "\n",
    "poly = [1, 1, 0, 0]\n",
    "n_p = 1\n",
    "M = len(poly)\n",
    "alph1 =1\n",
    "alph2 =0\n",
    "\n",
    "mat = np.zeros((M, M)) #MxM \n",
    "\n",
    "for j1,M1 in enumerate(poly):\n",
    "    for j2,M2 in enumerate(poly):\n",
    "#         print(\"M1 = \", M1)\n",
    "#         print(M2)\n",
    "#         print((M1 == alph1) * (M2 == alph2))\n",
    "        mat[j1, j2] += (1/n_p) * (M1 == alph1) * (M2 == alph2)# TODO how to implement indicator vairalbe\n",
    "        \n",
    "#TODO consider multiple polymer types"
   ]
  },
  {
   "cell_type": "code",
   "execution_count": 99,
   "metadata": {},
   "outputs": [
    {
     "data": {
      "text/plain": [
       "array([[0., 0., 1., 1.],\n",
       "       [0., 0., 1., 1.],\n",
       "       [0., 0., 0., 0.],\n",
       "       [0., 0., 0., 0.]])"
      ]
     },
     "execution_count": 99,
     "metadata": {},
     "output_type": "execute_result"
    }
   ],
   "source": [
    "mat"
   ]
  },
  {
   "cell_type": "code",
   "execution_count": 221,
   "metadata": {},
   "outputs": [],
   "source": [
    "#vectorized single poly\n",
    "\n",
    "\n",
    "poly = np.array([1, 1, 0, 0])\n",
    "n_p = 1\n",
    "M = len(poly)\n",
    "alph1 =np.ones(M)\n",
    "alph2 =np.ones(M)\n",
    "sub1 = 1*(poly == alph1)\n",
    "sub2 = 1*(poly == alph2)\n",
    "mat_Vect = np.outer(sub1, sub2)"
   ]
  },
  {
   "cell_type": "code",
   "execution_count": 222,
   "metadata": {
    "scrolled": true
   },
   "outputs": [
    {
     "data": {
      "text/plain": [
       "array([[1, 1, 0, 0],\n",
       "       [1, 1, 0, 0],\n",
       "       [0, 0, 0, 0],\n",
       "       [0, 0, 0, 0]])"
      ]
     },
     "execution_count": 222,
     "metadata": {},
     "output_type": "execute_result"
    }
   ],
   "source": [
    "mat_Vect"
   ]
  },
  {
   "cell_type": "code",
   "execution_count": 189,
   "metadata": {},
   "outputs": [],
   "source": [
    "#vectorized multi poly. inly considering equal amounts of each polymer. TODO- consider unequal amounts. Manipulate simga?\n",
    "\n",
    "poly_mat = np.array([[1, 0], [0, 1], [1, 1]]) #matrix where num rows = num polymers\n",
    "# poly_mat = np.array([[0, 0],[1, 1]]) #matrix where num rows = num polymers\n",
    "\n",
    "# poly_mat = np.array([1, 0])\n",
    "\n",
    "#TODO: handle special case where polymat only has one polymer\n",
    "#then implement previous algorithm; have alph1 and alph2 be 1D \n",
    "n_p = poly_mat.shape[0]\n",
    "M = poly_mat.shape[1]\n",
    "# alph1 =np.zeros((M, M))\n",
    "# alph2 =np.zeros((M, M))\n",
    "alph1 =np.ones((n_p, M))\n",
    "alph2 =np.ones((n_p, M))\n",
    "\n",
    "\n",
    "sigma1 = 1*((poly_mat == alph1))#.sum(axis = 0) #sigma. could multiply each\n",
    "sigma2 = 1*((poly_mat == alph2))#.sum(axis = 0)\n",
    "\n",
    "# mat_Vect_two = np.matmul(sub1, sub2) * (1/n_p)\n",
    "\n",
    "#need to do each row outer product with corresponding row, get n_p MxM matrices, then sum the results\n",
    "prods = np.einsum('bi,bo->bio', sigma1, sigma2) # performing row wise cross product (each poly contribution)\n",
    "mat_Vect_two = np.sum(prods, axis = 0) / n_p # averaging each contribution"
   ]
  },
  {
   "cell_type": "code",
   "execution_count": 229,
   "metadata": {},
   "outputs": [],
   "source": [
    "# Have M. Now need to multiple upper triangle, lower triangle, and diagonal by sf components (construct C matrix, mat mul the)\n",
    "#  (the debye func at diag, and the apprprt exp(-xm j(1or2) - j (2or1)) * 1/xm2 blah blah)\n",
    "N_m = 1\n",
    "b = 1\n",
    "k = 1#np.array([1, 2, 3])\n",
    "\n",
    "x_m = (1/6) * N_m * b**2 * k**2\n",
    "\n",
    "C = np.zeros((M, M))\n",
    "one = np.ones((M,M))\n",
    "grid = np.indices((M, M))\n",
    "\n",
    "\n",
    "#j1 = j2\n",
    "debye = (2/(x_m**2)) * (x_m + np.exp(-x_m) - 1) \n",
    "np.fill_diagonal(C, np.diag(one * debye))\n",
    "\n",
    "integral = (1/(x_m**2)) * (np.exp(x_m) + np.exp(-x_m) - 2) #for off-diagonal terms\n",
    "\n",
    "#j1 > j2\n",
    "j1minusj2_mat = grid[0] - grid[1]\n",
    "C += np.tril(one * np.exp(-x_m*(j1minusj2_mat)) * integral, k = -1)\n",
    "\n",
    "#j2 > j1\n",
    "j2minusj1_mat = -1 * j1minusj2_mat\n",
    "C += np.triu(one * np.exp(-x_m*(j2minusj1_mat)) * integral, k = 1)\n",
    " \n",
    "#isnt j2minusj1 and j1minusj2 the same?? since only done in special case where the one is bigger than the other?"
   ]
  },
  {
   "cell_type": "code",
   "execution_count": 230,
   "metadata": {},
   "outputs": [],
   "source": [
    "S2_AA = np.sum(C * mat_Vect)"
   ]
  },
  {
   "cell_type": "code",
   "execution_count": 231,
   "metadata": {},
   "outputs": [
    {
     "data": {
      "text/plain": [
       "3.5902543613128177"
      ]
     },
     "execution_count": 231,
     "metadata": {},
     "output_type": "execute_result"
    }
   ],
   "source": [
    "S2_AA"
   ]
  },
  {
   "cell_type": "code",
   "execution_count": null,
   "metadata": {},
   "outputs": [],
   "source": [
    "# compare to Vertex/wlcstat codebase at discrete ks\n"
   ]
  },
  {
   "cell_type": "code",
   "execution_count": 342,
   "metadata": {
    "scrolled": false
   },
   "outputs": [
    {
     "ename": "ValueError",
     "evalue": "All dimensions of input must be of equal length",
     "output_type": "error",
     "traceback": [
      "\u001b[1;31m---------------------------------------------------------------------------\u001b[0m",
      "\u001b[1;31mValueError\u001b[0m                                Traceback (most recent call last)",
      "\u001b[1;32m<ipython-input-342-5c746e5ca611>\u001b[0m in \u001b[0;36m<module>\u001b[1;34m\u001b[0m\n\u001b[1;32m----> 1\u001b[1;33m \u001b[0mnp\u001b[0m\u001b[1;33m.\u001b[0m\u001b[0mfill_diagonal\u001b[0m\u001b[1;33m(\u001b[0m\u001b[0mnp\u001b[0m\u001b[1;33m.\u001b[0m\u001b[0mzeros\u001b[0m\u001b[1;33m(\u001b[0m\u001b[1;33m(\u001b[0m\u001b[1;36m5\u001b[0m\u001b[1;33m,\u001b[0m\u001b[1;36m2\u001b[0m\u001b[1;33m,\u001b[0m\u001b[1;36m2\u001b[0m\u001b[1;33m)\u001b[0m\u001b[1;33m)\u001b[0m\u001b[1;33m,\u001b[0m \u001b[1;36m4\u001b[0m\u001b[1;33m)\u001b[0m\u001b[1;33m\u001b[0m\u001b[1;33m\u001b[0m\u001b[0m\n\u001b[0m",
      "\u001b[1;32m<__array_function__ internals>\u001b[0m in \u001b[0;36mfill_diagonal\u001b[1;34m(*args, **kwargs)\u001b[0m\n",
      "\u001b[1;32m~\\anaconda3\\lib\\site-packages\\numpy\\lib\\index_tricks.py\u001b[0m in \u001b[0;36mfill_diagonal\u001b[1;34m(a, val, wrap)\u001b[0m\n\u001b[0;32m    870\u001b[0m         \u001b[1;31m# all dimensions equal, so we check first.\u001b[0m\u001b[1;33m\u001b[0m\u001b[1;33m\u001b[0m\u001b[1;33m\u001b[0m\u001b[0m\n\u001b[0;32m    871\u001b[0m         \u001b[1;32mif\u001b[0m \u001b[1;32mnot\u001b[0m \u001b[0malltrue\u001b[0m\u001b[1;33m(\u001b[0m\u001b[0mdiff\u001b[0m\u001b[1;33m(\u001b[0m\u001b[0ma\u001b[0m\u001b[1;33m.\u001b[0m\u001b[0mshape\u001b[0m\u001b[1;33m)\u001b[0m \u001b[1;33m==\u001b[0m \u001b[1;36m0\u001b[0m\u001b[1;33m)\u001b[0m\u001b[1;33m:\u001b[0m\u001b[1;33m\u001b[0m\u001b[1;33m\u001b[0m\u001b[0m\n\u001b[1;32m--> 872\u001b[1;33m             \u001b[1;32mraise\u001b[0m \u001b[0mValueError\u001b[0m\u001b[1;33m(\u001b[0m\u001b[1;34m\"All dimensions of input must be of equal length\"\u001b[0m\u001b[1;33m)\u001b[0m\u001b[1;33m\u001b[0m\u001b[1;33m\u001b[0m\u001b[0m\n\u001b[0m\u001b[0;32m    873\u001b[0m         \u001b[0mstep\u001b[0m \u001b[1;33m=\u001b[0m \u001b[1;36m1\u001b[0m \u001b[1;33m+\u001b[0m \u001b[1;33m(\u001b[0m\u001b[0mcumprod\u001b[0m\u001b[1;33m(\u001b[0m\u001b[0ma\u001b[0m\u001b[1;33m.\u001b[0m\u001b[0mshape\u001b[0m\u001b[1;33m[\u001b[0m\u001b[1;33m:\u001b[0m\u001b[1;33m-\u001b[0m\u001b[1;36m1\u001b[0m\u001b[1;33m]\u001b[0m\u001b[1;33m)\u001b[0m\u001b[1;33m)\u001b[0m\u001b[1;33m.\u001b[0m\u001b[0msum\u001b[0m\u001b[1;33m(\u001b[0m\u001b[1;33m)\u001b[0m\u001b[1;33m\u001b[0m\u001b[1;33m\u001b[0m\u001b[0m\n\u001b[0;32m    874\u001b[0m \u001b[1;33m\u001b[0m\u001b[0m\n",
      "\u001b[1;31mValueError\u001b[0m: All dimensions of input must be of equal length"
     ]
    }
   ],
   "source": [
    "np.fill_diagonal(np.zeros((5,2,2)), 4)"
   ]
  },
  {
   "cell_type": "code",
   "execution_count": 340,
   "metadata": {},
   "outputs": [
    {
     "data": {
      "text/plain": [
       "array([[[1, 2],\n",
       "        [3, 4]],\n",
       "\n",
       "       [[5, 6],\n",
       "        [7, 8]]])"
      ]
     },
     "execution_count": 340,
     "metadata": {},
     "output_type": "execute_result"
    }
   ],
   "source": [
    "np.array([[[1, 2], [3, 4]], [[5, 6], [7, 8]]])"
   ]
  },
  {
   "cell_type": "code",
   "execution_count": 341,
   "metadata": {
    "scrolled": true
   },
   "outputs": [
    {
     "ename": "ValueError",
     "evalue": "Input must be 1- or 2-d.",
     "output_type": "error",
     "traceback": [
      "\u001b[1;31m---------------------------------------------------------------------------\u001b[0m",
      "\u001b[1;31mValueError\u001b[0m                                Traceback (most recent call last)",
      "\u001b[1;32m<ipython-input-341-c170327b9cc4>\u001b[0m in \u001b[0;36m<module>\u001b[1;34m\u001b[0m\n\u001b[1;32m----> 1\u001b[1;33m \u001b[0mnp\u001b[0m\u001b[1;33m.\u001b[0m\u001b[0mdiag\u001b[0m\u001b[1;33m(\u001b[0m\u001b[0mnp\u001b[0m\u001b[1;33m.\u001b[0m\u001b[0marray\u001b[0m\u001b[1;33m(\u001b[0m\u001b[1;33m[\u001b[0m\u001b[1;33m[\u001b[0m\u001b[1;33m[\u001b[0m\u001b[1;36m1\u001b[0m\u001b[1;33m,\u001b[0m \u001b[1;36m2\u001b[0m\u001b[1;33m]\u001b[0m\u001b[1;33m,\u001b[0m \u001b[1;33m[\u001b[0m\u001b[1;36m3\u001b[0m\u001b[1;33m,\u001b[0m \u001b[1;36m4\u001b[0m\u001b[1;33m]\u001b[0m\u001b[1;33m]\u001b[0m\u001b[1;33m,\u001b[0m \u001b[1;33m[\u001b[0m\u001b[1;33m[\u001b[0m\u001b[1;36m5\u001b[0m\u001b[1;33m,\u001b[0m \u001b[1;36m6\u001b[0m\u001b[1;33m]\u001b[0m\u001b[1;33m,\u001b[0m \u001b[1;33m[\u001b[0m\u001b[1;36m7\u001b[0m\u001b[1;33m,\u001b[0m \u001b[1;36m8\u001b[0m\u001b[1;33m]\u001b[0m\u001b[1;33m]\u001b[0m\u001b[1;33m]\u001b[0m\u001b[1;33m)\u001b[0m\u001b[1;33m)\u001b[0m\u001b[1;33m\u001b[0m\u001b[1;33m\u001b[0m\u001b[0m\n\u001b[0m",
      "\u001b[1;32m<__array_function__ internals>\u001b[0m in \u001b[0;36mdiag\u001b[1;34m(*args, **kwargs)\u001b[0m\n",
      "\u001b[1;32m~\\anaconda3\\lib\\site-packages\\numpy\\lib\\twodim_base.py\u001b[0m in \u001b[0;36mdiag\u001b[1;34m(v, k)\u001b[0m\n\u001b[0;32m    281\u001b[0m         \u001b[1;32mreturn\u001b[0m \u001b[0mdiagonal\u001b[0m\u001b[1;33m(\u001b[0m\u001b[0mv\u001b[0m\u001b[1;33m,\u001b[0m \u001b[0mk\u001b[0m\u001b[1;33m)\u001b[0m\u001b[1;33m\u001b[0m\u001b[1;33m\u001b[0m\u001b[0m\n\u001b[0;32m    282\u001b[0m     \u001b[1;32melse\u001b[0m\u001b[1;33m:\u001b[0m\u001b[1;33m\u001b[0m\u001b[1;33m\u001b[0m\u001b[0m\n\u001b[1;32m--> 283\u001b[1;33m         \u001b[1;32mraise\u001b[0m \u001b[0mValueError\u001b[0m\u001b[1;33m(\u001b[0m\u001b[1;34m\"Input must be 1- or 2-d.\"\u001b[0m\u001b[1;33m)\u001b[0m\u001b[1;33m\u001b[0m\u001b[1;33m\u001b[0m\u001b[0m\n\u001b[0m\u001b[0;32m    284\u001b[0m \u001b[1;33m\u001b[0m\u001b[0m\n\u001b[0;32m    285\u001b[0m \u001b[1;33m\u001b[0m\u001b[0m\n",
      "\u001b[1;31mValueError\u001b[0m: Input must be 1- or 2-d."
     ]
    }
   ],
   "source": [
    "np.diag(np.array([[[1, 2], [3, 4]], [[5, 6], [7, 8]]]))"
   ]
  },
  {
   "cell_type": "code",
   "execution_count": 345,
   "metadata": {},
   "outputs": [
    {
     "ename": "ValueError",
     "evalue": "operands could not be broadcast together with shapes (50,2,2) (50,) ",
     "output_type": "error",
     "traceback": [
      "\u001b[1;31m---------------------------------------------------------------------------\u001b[0m",
      "\u001b[1;31mValueError\u001b[0m                                Traceback (most recent call last)",
      "\u001b[1;32m<ipython-input-345-59f6e5920112>\u001b[0m in \u001b[0;36m<module>\u001b[1;34m\u001b[0m\n\u001b[1;32m----> 1\u001b[1;33m \u001b[0mone\u001b[0m \u001b[1;33m*\u001b[0m \u001b[0mdebye\u001b[0m\u001b[1;33m\u001b[0m\u001b[1;33m\u001b[0m\u001b[0m\n\u001b[0m",
      "\u001b[1;31mValueError\u001b[0m: operands could not be broadcast together with shapes (50,2,2) (50,) "
     ]
    }
   ],
   "source": [
    "one * debye"
   ]
  },
  {
   "cell_type": "code",
   "execution_count": 346,
   "metadata": {
    "scrolled": true
   },
   "outputs": [],
   "source": [
    "# # %%time\n",
    "# # FULL S2_AA calculation vectorize attempt\n",
    "\n",
    "# #Mono matrix:\n",
    "# poly = np.array([1, 1])\n",
    "# n_p = 1\n",
    "# M = len(poly)\n",
    "# alph1 =np.ones(M)\n",
    "# alph2 =np.ones(M)\n",
    "# sig1 = 1*(poly == alph1)\n",
    "# sig2 = 1*(poly == alph2)\n",
    "# monomer_mat = np.outer(sig1, sig2)\n",
    "\n",
    "# #k-dependenece\n",
    "# N_m = 1.\n",
    "# b = 1.\n",
    "\n",
    "# k0 = 1e-2\n",
    "# kf = 1e2\n",
    "# nk = 50\n",
    "# k_vec = np.logspace(np.log10(k0), np.log10(kf), nk)\n",
    "\n",
    "\n",
    "# one = np.ones((len(k_vec), M,M))\n",
    "# grid = np.indices((M, M))\n",
    "# S2_AA_arr = np.zeros(nk)\n",
    "\n",
    "# k = k_vec\n",
    "# C = np.zeros((len(k_vec), M, M))\n",
    "# x_m = (1/6) * N_m * b**2 * k**2\n",
    "\n",
    "# #j1 = j2\n",
    "# debye = (2/(x_m**2)) * (x_m + np.exp(-x_m) - 1) * (1/M**2)\n",
    "\n",
    "# np.fill_diagonal(C, np.diag(one * debye)) #FAIL\n",
    "\n",
    "# integral = (1/(x_m**2)) * (np.exp(x_m) + np.exp(-x_m) - 2) #for off-diagonal terms\n",
    "\n",
    "# #j1 > j2\n",
    "# j1minusj2_mat = grid[0] - grid[1]\n",
    "# C += np.tril(one * np.exp(-x_m*(j1minusj2_mat)) * integral * (1/M**2), k = -1)\n",
    "\n",
    "# #j2 > j1\n",
    "# j2minusj1_mat = -1 * j1minusj2_mat\n",
    "# C += np.triu(one * np.exp(-x_m*(j2minusj1_mat)) * integral * (1/M**2), k = 1) \n",
    "# S2_AA_arr[i] = np.sum(C * monomer_mat)"
   ]
  },
  {
   "cell_type": "code",
   "execution_count": 325,
   "metadata": {
    "scrolled": true
   },
   "outputs": [
    {
     "name": "stdout",
     "output_type": "stream",
     "text": [
      "Wall time: 15.6 ms\n"
     ]
    },
    {
     "name": "stderr",
     "output_type": "stream",
     "text": [
      "<timed exec>:38: RuntimeWarning: overflow encountered in multiply\n",
      "<timed exec>:42: RuntimeWarning: overflow encountered in multiply\n",
      "<timed exec>:34: RuntimeWarning: overflow encountered in exp\n",
      "<timed exec>:38: RuntimeWarning: overflow encountered in exp\n",
      "<timed exec>:38: RuntimeWarning: invalid value encountered in multiply\n",
      "<timed exec>:42: RuntimeWarning: overflow encountered in exp\n",
      "<timed exec>:42: RuntimeWarning: invalid value encountered in multiply\n"
     ]
    }
   ],
   "source": [
    "%%time\n",
    "# FULL S2_AA calculation\n",
    "\n",
    "#Mono matrix:\n",
    "poly = np.array([1, 1])\n",
    "n_p = 1\n",
    "M = len(poly)\n",
    "alph1 =np.ones(M)\n",
    "alph2 =np.ones(M)\n",
    "sig1 = 1*(poly == alph1)\n",
    "sig2 = 1*(poly == alph2)\n",
    "monomer_mat = np.outer(sig1, sig2)\n",
    "\n",
    "#k-dependenece\n",
    "N_m = 1\n",
    "b = 1\n",
    "\n",
    "k0 = 1e-2\n",
    "kf = 1e2\n",
    "nk = 50\n",
    "k_vec = np.logspace(np.log10(k0), np.log10(kf), nk)\n",
    "\n",
    "\n",
    "one = np.ones((M,M))\n",
    "grid = np.indices((M, M))\n",
    "S2_AA_arr = np.zeros(nk)\n",
    "\n",
    "for i, k in enumerate(k_vec):\n",
    "    C = np.zeros((M, M))\n",
    "    x_m = (1/6) * N_m * b**2 * k**2\n",
    "    \n",
    "    #j1 = j2\n",
    "    debye = (2/(x_m**2)) * (x_m + np.exp(-x_m) - 1) * (1/M**2)\n",
    "\n",
    "    np.fill_diagonal(C, np.diag(one * debye))\n",
    "\n",
    "    integral = (1/(x_m**2)) * (np.exp(x_m) + np.exp(-x_m) - 2) #for off-diagonal terms\n",
    "\n",
    "    #j1 > j2\n",
    "    j1minusj2_mat = grid[0] - grid[1]\n",
    "    C += np.tril(one * np.exp(-x_m*(j1minusj2_mat)) * integral * (1/M**2), k = -1)\n",
    "\n",
    "    #j2 > j1\n",
    "    j2minusj1_mat = -1 * j1minusj2_mat\n",
    "    C += np.triu(one * np.exp(-x_m*(j2minusj1_mat)) * integral * (1/M**2), k = 1) \n",
    "    S2_AA_arr[i] = np.sum(C * monomer_mat)"
   ]
  },
  {
   "cell_type": "code",
   "execution_count": 330,
   "metadata": {
    "scrolled": true
   },
   "outputs": [
    {
     "name": "stdout",
     "output_type": "stream",
     "text": [
      "Wall time: 15.6 ms\n"
     ]
    },
    {
     "name": "stderr",
     "output_type": "stream",
     "text": [
      "<timed exec>:53: RuntimeWarning: overflow encountered in multiply\n",
      "<timed exec>:57: RuntimeWarning: overflow encountered in multiply\n",
      "<timed exec>:49: RuntimeWarning: overflow encountered in exp\n",
      "<timed exec>:53: RuntimeWarning: overflow encountered in exp\n",
      "<timed exec>:53: RuntimeWarning: invalid value encountered in multiply\n",
      "<timed exec>:57: RuntimeWarning: overflow encountered in exp\n",
      "<timed exec>:57: RuntimeWarning: invalid value encountered in multiply\n"
     ]
    }
   ],
   "source": [
    "%%time\n",
    "# FULL S2_AA calculation POLYDISPERSE\n",
    "\n",
    "#Mono matrix:\n",
    "\n",
    "poly_mat = np.array([[1, 1], [1, 1], [1, 1]]) #matrix where num rows = num polymers\n",
    "\n",
    "#TODO: handle special case where polymat only has one polymer\n",
    "#then implement previous algorithm; have alph1 and alph2 be 1D \n",
    "n_p = poly_mat.shape[0]\n",
    "M = poly_mat.shape[1]\n",
    "# alph1 =np.zeros((M, M))\n",
    "# alph2 =np.zeros((M, M))\n",
    "alph1 =np.ones((n_p, M))\n",
    "alph2 =np.ones((n_p, M))\n",
    "\n",
    "\n",
    "sigma1 = 1*((poly_mat == alph1))#.sum(axis = 0) #sigma. could multiply each\n",
    "sigma2 = 1*((poly_mat == alph2))#.sum(axis = 0)\n",
    "\n",
    "# mat_Vect_two = np.matmul(sub1, sub2) * (1/n_p)\n",
    "\n",
    "#need to do each row outer product with corresponding row, get n_p MxM matrices, then sum the results\n",
    "prods = np.einsum('bi,bo->bio', sigma1, sigma2) # performing row wise cross product (each poly contribution)\n",
    "monomer_mat = np.sum(prods, axis = 0) / n_p # averaging each contribution\n",
    "\n",
    "#k-dependenece\n",
    "N_m = 1\n",
    "b = 1\n",
    "\n",
    "k0 = 1e-2\n",
    "kf = 1e2\n",
    "nk = 50\n",
    "k_vec = np.logspace(np.log10(k0), np.log10(kf), nk)\n",
    "\n",
    "\n",
    "one = np.ones((M,M))\n",
    "grid = np.indices((M, M))\n",
    "S2_AA_arr_poly = np.zeros(nk)\n",
    "\n",
    "for i, k in enumerate(k_vec):\n",
    "    C = np.zeros((M, M))\n",
    "    x_m = (1/6) * N_m * b**2 * k**2\n",
    "    \n",
    "    #j1 = j2\n",
    "    debye = (2/(x_m**2)) * (x_m + np.exp(-x_m) - 1) * (1/M**2)\n",
    "\n",
    "    np.fill_diagonal(C, np.diag(one * debye))\n",
    "\n",
    "    integral = (1/(x_m**2)) * (np.exp(x_m) + np.exp(-x_m) - 2) #for off-diagonal terms\n",
    "\n",
    "    #j1 > j2\n",
    "    j1minusj2_mat = grid[0] - grid[1]\n",
    "    C += np.tril(one * np.exp(-x_m*(j1minusj2_mat)) * integral * (1/M**2), k = -1)\n",
    "\n",
    "    #j2 > j1\n",
    "    j2minusj1_mat = -1 * j1minusj2_mat\n",
    "    C += np.triu(one * np.exp(-x_m*(j2minusj1_mat)) * integral * (1/M**2), k = 1) \n",
    "    S2_AA_arr_poly[i] = np.sum(C * monomer_mat)"
   ]
  },
  {
   "cell_type": "code",
   "execution_count": 331,
   "metadata": {},
   "outputs": [
    {
     "name": "stdout",
     "output_type": "stream",
     "text": [
      "Wall time: 0 ns\n"
     ]
    }
   ],
   "source": [
    "%%time\n",
    "N = N_m * M\n",
    "# b = 1\n",
    "x = (1/6) * N * b**2 * (k_vec**2)\n",
    "debye_arr = (2/(x**2)) * (x + np.exp(-x) - 1) #* (1/N**2)"
   ]
  },
  {
   "cell_type": "code",
   "execution_count": 332,
   "metadata": {},
   "outputs": [
    {
     "data": {
      "image/png": "[encoded data removed]",
      "text/plain": [
       "<Figure size 720x576 with 1 Axes>"
      ]
     },
     "metadata": {
      "needs_background": "light"
     },
     "output_type": "display_data"
    }
   ],
   "source": [
    "plt.figure(figsize=(10,8))\n",
    "font = {'family' : 'serif',\n",
    "        'weight':'normal',\n",
    "        'size': 18}\n",
    "plt.rc('font', **font)\n",
    "\n",
    "plt.plot(k_vec, S2_AA_arr, label = \"M*C\")\n",
    "# plt.plot(k_vec, s2AA_stat, label = \"wlcstat N = \" + str(N))\n",
    "plt.plot(k_vec, debye_arr, label = \"debye homo N = \" + str(N), linestyle = \"--\")\n",
    "\n",
    "plt.xscale('log')\n",
    "plt.yscale('log')\n",
    "\n",
    "plt.title(\"S2 AA\")\n",
    "plt.xlabel(r'$K$')\n",
    "plt.ylabel(r'Structure Factor $S_{2}(K;N)$')\n",
    "plt.xlim((1e-2, 1e2))\n",
    "plt.tight_layout()\n",
    "plt.legend()\n",
    "plt.show()"
   ]
  },
  {
   "cell_type": "code",
   "execution_count": null,
   "metadata": {},
   "outputs": [],
   "source": [
    "# Now derive conversion rules from AA to AB and BB (G_AA, GAB, G_BB in notes. Re derive!!!!!). "
   ]
  },
  {
   "cell_type": "code",
   "execution_count": 360,
   "metadata": {
    "scrolled": true
   },
   "outputs": [
    {
     "name": "stdout",
     "output_type": "stream",
     "text": [
      "Wall time: 15.6 ms\n"
     ]
    },
    {
     "name": "stderr",
     "output_type": "stream",
     "text": [
      "<timed exec>:40: RuntimeWarning: overflow encountered in multiply\n",
      "<timed exec>:44: RuntimeWarning: overflow encountered in multiply\n",
      "<timed exec>:36: RuntimeWarning: overflow encountered in exp\n",
      "<timed exec>:40: RuntimeWarning: overflow encountered in exp\n",
      "<timed exec>:40: RuntimeWarning: invalid value encountered in multiply\n",
      "<timed exec>:44: RuntimeWarning: overflow encountered in exp\n",
      "<timed exec>:44: RuntimeWarning: invalid value encountered in multiply\n"
     ]
    }
   ],
   "source": [
    "%%time\n",
    "# FULL S2_AB calculation (slow, relation not used)\n",
    "\n",
    "#Mono matrix:\n",
    "poly = np.array([1, 0])\n",
    "n_p = 1\n",
    "M = len(poly)\n",
    "alph1 =np.ones(M)\n",
    "alph2 =np.zeros(M)\n",
    "sig1 = 1*(poly == alph1)\n",
    "sig2 = 1*(poly == alph2)\n",
    "monomer_mat = np.outer(sig1, sig2)\n",
    "\n",
    "#k-dependenece\n",
    "N_m = 1\n",
    "b = 1\n",
    "\n",
    "k0 = 1e-2\n",
    "kf = 1e2\n",
    "nk = 50\n",
    "k_vec = np.logspace(np.log10(k0), np.log10(kf), nk)\n",
    "\n",
    "\n",
    "one = np.ones((M,M))\n",
    "grid = np.indices((M, M))\n",
    "S2_AB_arr = np.zeros(nk)\n",
    "\n",
    "for i, k in enumerate(k_vec):\n",
    "    C = np.zeros((M, M))\n",
    "    x_m = (1/6) * N_m * b**2 * k**2\n",
    "    \n",
    "    #j1 = j2\n",
    "    debye = (2/(x_m**2)) * (x_m + np.exp(-x_m) - 1) * (1/M**2)\n",
    "\n",
    "    np.fill_diagonal(C, np.diag(one * debye))\n",
    "\n",
    "    integral = (1/(x_m**2)) * (np.exp(x_m) + np.exp(-x_m) - 2) #for off-diagonal terms\n",
    "\n",
    "    #j1 > j2\n",
    "    j1minusj2_mat = grid[0] - grid[1]\n",
    "    C += np.tril(one * np.exp(-x_m*(j1minusj2_mat)) * integral * (1/M**2), k = -1)\n",
    "\n",
    "    #j2 > j1\n",
    "    j2minusj1_mat = -1 * j1minusj2_mat\n",
    "    C += np.triu(one * np.exp(-x_m*(j2minusj1_mat)) * integral * (1/M**2), k = 1) \n",
    "    S2_AB_arr[i] = np.sum(C * monomer_mat)"
   ]
  },
  {
   "cell_type": "code",
   "execution_count": 361,
   "metadata": {},
   "outputs": [
    {
     "name": "stderr",
     "output_type": "stream",
     "text": [
      "<ipython-input-361-786e2a4a37f8>:42: RuntimeWarning: overflow encountered in multiply\n",
      "  C += np.tril(one * np.exp(-x_m*(j1minusj2_mat)) * integral * (1/M**2), k = -1)\n",
      "<ipython-input-361-786e2a4a37f8>:46: RuntimeWarning: overflow encountered in multiply\n",
      "  C += np.triu(one * np.exp(-x_m*(j2minusj1_mat)) * integral * (1/M**2), k = 1)\n",
      "<ipython-input-361-786e2a4a37f8>:38: RuntimeWarning: overflow encountered in exp\n",
      "  integral = (1/(x_m**2)) * (np.exp(x_m) + np.exp(-x_m) - 2) #for off-diagonal terms\n",
      "<ipython-input-361-786e2a4a37f8>:42: RuntimeWarning: overflow encountered in exp\n",
      "  C += np.tril(one * np.exp(-x_m*(j1minusj2_mat)) * integral * (1/M**2), k = -1)\n",
      "<ipython-input-361-786e2a4a37f8>:42: RuntimeWarning: invalid value encountered in multiply\n",
      "  C += np.tril(one * np.exp(-x_m*(j1minusj2_mat)) * integral * (1/M**2), k = -1)\n",
      "<ipython-input-361-786e2a4a37f8>:46: RuntimeWarning: overflow encountered in exp\n",
      "  C += np.triu(one * np.exp(-x_m*(j2minusj1_mat)) * integral * (1/M**2), k = 1)\n",
      "<ipython-input-361-786e2a4a37f8>:46: RuntimeWarning: invalid value encountered in multiply\n",
      "  C += np.triu(one * np.exp(-x_m*(j2minusj1_mat)) * integral * (1/M**2), k = 1)\n"
     ]
    }
   ],
   "source": [
    "#S_AB calc fast\n",
    "\n",
    "#Mono matrix:\n",
    "n_p = 1\n",
    "M = len(poly)\n",
    "alph1 =np.ones(M)\n",
    "alph2 =np.ones(M)\n",
    "sig1 = 1*(poly == alph1)\n",
    "sig2 = 1*(poly == alph2)\n",
    "monomer_mat = np.outer(sig1, sig2)\n",
    "\n",
    "#k-dependenece\n",
    "N_m = 1\n",
    "b = 1\n",
    "\n",
    "k0 = 1e-2\n",
    "kf = 1e2\n",
    "nk = 50\n",
    "k_vec = np.logspace(np.log10(k0), np.log10(kf), nk)\n",
    "\n",
    "\n",
    "one = np.ones((M,M))\n",
    "grid = np.indices((M, M))\n",
    "S2_AA_arr = np.zeros(nk)\n",
    "S2_AB_arr_fast = np.zeros(nk)\n",
    "\n",
    "H_AA = np.diag(monomer_mat)\n",
    "H_AA_mat = (H_AA * np.ones((M, M))).T\n",
    "for i, k in enumerate(k_vec):\n",
    "    C = np.zeros((M, M))\n",
    "    x_m = (1/6) * N_m * b**2 * k**2\n",
    "    \n",
    "    #j1 = j2\n",
    "    debye = (2/(x_m**2)) * (x_m + np.exp(-x_m) - 1) * (1/M**2)\n",
    "\n",
    "    np.fill_diagonal(C, np.diag(one * debye))\n",
    "\n",
    "    integral = (1/(x_m**2)) * (np.exp(x_m) + np.exp(-x_m) - 2) #for off-diagonal terms\n",
    "\n",
    "    #j1 > j2\n",
    "    j1minusj2_mat = grid[0] - grid[1]\n",
    "    C += np.tril(one * np.exp(-x_m*(j1minusj2_mat)) * integral * (1/M**2), k = -1)\n",
    "\n",
    "    #j2 > j1\n",
    "    j2minusj1_mat = -1 * j1minusj2_mat\n",
    "    C += np.triu(one * np.exp(-x_m*(j2minusj1_mat)) * integral * (1/M**2), k = 1) \n",
    "    S2_AA_arr[i] = np.sum(C * monomer_mat)\n",
    "    \n",
    "    \n",
    "    C_AB = H_AA_mat * C\n",
    "    S2_AB_arr_fast[i] = np.sum(C_AB) - S2_AA_arr[i]"
   ]
  },
  {
   "cell_type": "code",
   "execution_count": 364,
   "metadata": {
    "scrolled": true
   },
   "outputs": [
    {
     "data": {
      "image/png": "[encoded data removed]",
      "text/plain": [
       "<Figure size 720x576 with 1 Axes>"
      ]
     },
     "metadata": {
      "needs_background": "light"
     },
     "output_type": "display_data"
    }
   ],
   "source": [
    "plt.figure(figsize=(10,8))\n",
    "font = {'family' : 'serif',\n",
    "        'weight':'normal',\n",
    "        'size': 18}\n",
    "plt.rc('font', **font)\n",
    "\n",
    "plt.plot(k_vec, S2_AB_arr_fast, label = \"used relation\")\n",
    "plt.plot(k_vec, S2_AB_arr, label = \"slow\", linestyle = \"--\")\n",
    "# plt.plot(k_vec, s2AA_stat, label = \"wlcstat N = \" + str(N))\n",
    "# plt.plot(k_vec, debye_arr, label = \"debye homo N = \" + str(N), linestyle = \"--\")\n",
    "\n",
    "plt.xscale('log')\n",
    "plt.yscale('log')\n",
    "\n",
    "plt.title(\"S2 AB\")\n",
    "plt.xlabel(r'$K$')\n",
    "plt.ylabel(r'Structure Factor $S_{2}(K;N)$')\n",
    "plt.xlim((1e-2, 1e2))\n",
    "plt.tight_layout()\n",
    "plt.legend()\n",
    "plt.show()"
   ]
  },
  {
   "cell_type": "code",
   "execution_count": null,
   "metadata": {},
   "outputs": [],
   "source": []
  },
  {
   "cell_type": "code",
   "execution_count": 367,
   "metadata": {
    "scrolled": true
   },
   "outputs": [
    {
     "name": "stdout",
     "output_type": "stream",
     "text": [
      "Wall time: 15.6 ms\n"
     ]
    },
    {
     "name": "stderr",
     "output_type": "stream",
     "text": [
      "<timed exec>:40: RuntimeWarning: overflow encountered in multiply\n",
      "<timed exec>:44: RuntimeWarning: overflow encountered in multiply\n",
      "<timed exec>:36: RuntimeWarning: overflow encountered in exp\n",
      "<timed exec>:40: RuntimeWarning: overflow encountered in exp\n",
      "<timed exec>:40: RuntimeWarning: invalid value encountered in multiply\n",
      "<timed exec>:44: RuntimeWarning: overflow encountered in exp\n",
      "<timed exec>:44: RuntimeWarning: invalid value encountered in multiply\n"
     ]
    }
   ],
   "source": [
    "%%time\n",
    "# FULL S2_BB calculation (slow, relation not used)\n",
    "\n",
    "#Mono matrix:\n",
    "poly = np.array([1, 0])\n",
    "n_p = 1\n",
    "M = len(poly)\n",
    "alph1 =np.zeros(M)\n",
    "alph2 =np.zeros(M)\n",
    "sig1 = 1*(poly == alph1)\n",
    "sig2 = 1*(poly == alph2)\n",
    "monomer_mat = np.outer(sig1, sig2)\n",
    "\n",
    "#k-dependenece\n",
    "N_m = 1\n",
    "b = 1\n",
    "\n",
    "k0 = 1e-2\n",
    "kf = 1e2\n",
    "nk = 50\n",
    "k_vec = np.logspace(np.log10(k0), np.log10(kf), nk)\n",
    "\n",
    "\n",
    "one = np.ones((M,M))\n",
    "grid = np.indices((M, M))\n",
    "S2_BB_arr = np.zeros(nk)\n",
    "\n",
    "for i, k in enumerate(k_vec):\n",
    "    C = np.zeros((M, M))\n",
    "    x_m = (1/6) * N_m * b**2 * k**2\n",
    "    \n",
    "    #j1 = j2\n",
    "    debye = (2/(x_m**2)) * (x_m + np.exp(-x_m) - 1) * (1/M**2)\n",
    "\n",
    "    np.fill_diagonal(C, np.diag(one * debye))\n",
    "\n",
    "    integral = (1/(x_m**2)) * (np.exp(x_m) + np.exp(-x_m) - 2) #for off-diagonal terms\n",
    "\n",
    "    #j1 > j2\n",
    "    j1minusj2_mat = grid[0] - grid[1]\n",
    "    C += np.tril(one * np.exp(-x_m*(j1minusj2_mat)) * integral * (1/M**2), k = -1)\n",
    "\n",
    "    #j2 > j1\n",
    "    j2minusj1_mat = -1 * j1minusj2_mat\n",
    "    C += np.triu(one * np.exp(-x_m*(j2minusj1_mat)) * integral * (1/M**2), k = 1) \n",
    "    S2_BB_arr[i] = np.sum(C * monomer_mat)"
   ]
  },
  {
   "cell_type": "code",
   "execution_count": 372,
   "metadata": {},
   "outputs": [
    {
     "name": "stderr",
     "output_type": "stream",
     "text": [
      "<ipython-input-372-8b2001b9b08f>:44: RuntimeWarning: overflow encountered in multiply\n",
      "  C += np.tril(one * np.exp(-x_m*(j1minusj2_mat)) * integral * (1/M**2), k = -1)\n",
      "<ipython-input-372-8b2001b9b08f>:48: RuntimeWarning: overflow encountered in multiply\n",
      "  C += np.triu(one * np.exp(-x_m*(j2minusj1_mat)) * integral * (1/M**2), k = 1)\n",
      "<ipython-input-372-8b2001b9b08f>:40: RuntimeWarning: overflow encountered in exp\n",
      "  integral = (1/(x_m**2)) * (np.exp(x_m) + np.exp(-x_m) - 2) #for off-diagonal terms\n",
      "<ipython-input-372-8b2001b9b08f>:44: RuntimeWarning: overflow encountered in exp\n",
      "  C += np.tril(one * np.exp(-x_m*(j1minusj2_mat)) * integral * (1/M**2), k = -1)\n",
      "<ipython-input-372-8b2001b9b08f>:44: RuntimeWarning: invalid value encountered in multiply\n",
      "  C += np.tril(one * np.exp(-x_m*(j1minusj2_mat)) * integral * (1/M**2), k = -1)\n",
      "<ipython-input-372-8b2001b9b08f>:48: RuntimeWarning: overflow encountered in exp\n",
      "  C += np.triu(one * np.exp(-x_m*(j2minusj1_mat)) * integral * (1/M**2), k = 1)\n",
      "<ipython-input-372-8b2001b9b08f>:48: RuntimeWarning: invalid value encountered in multiply\n",
      "  C += np.triu(one * np.exp(-x_m*(j2minusj1_mat)) * integral * (1/M**2), k = 1)\n"
     ]
    }
   ],
   "source": [
    "#S_BB calc fast\n",
    "\n",
    "#Mono matrix:\n",
    "n_p = 1\n",
    "M = len(poly)\n",
    "alph1 =np.ones(M)\n",
    "alph2 =np.ones(M)\n",
    "sig1 = 1*(poly == alph1)\n",
    "sig2 = 1*(poly == alph2)\n",
    "monomer_mat = np.outer(sig1, sig2)\n",
    "\n",
    "#k-dependenece\n",
    "N_m = 1\n",
    "b = 1\n",
    "\n",
    "k0 = 1e-2\n",
    "kf = 1e2\n",
    "nk = 50\n",
    "k_vec = np.logspace(np.log10(k0), np.log10(kf), nk)\n",
    "\n",
    "\n",
    "one = np.ones((M,M))\n",
    "grid = np.indices((M, M))\n",
    "S2_AA_arr = np.zeros(nk)\n",
    "S2_AB_arr_fast = np.zeros(nk)\n",
    "S2_BB_arr_fast = np.zeros(nk)\n",
    "\n",
    "\n",
    "H_AA = np.diag(monomer_mat)\n",
    "H_AA_mat = (H_AA * np.ones((M, M))).T\n",
    "for i, k in enumerate(k_vec):\n",
    "    C = np.zeros((M, M))\n",
    "    x_m = (1/6) * N_m * b**2 * k**2\n",
    "    \n",
    "    #j1 = j2\n",
    "    debye = (2/(x_m**2)) * (x_m + np.exp(-x_m) - 1) * (1/M**2)\n",
    "\n",
    "    np.fill_diagonal(C, np.diag(one * debye))\n",
    "\n",
    "    integral = (1/(x_m**2)) * (np.exp(x_m) + np.exp(-x_m) - 2) #for off-diagonal terms\n",
    "\n",
    "    #j1 > j2\n",
    "    j1minusj2_mat = grid[0] - grid[1]\n",
    "    C += np.tril(one * np.exp(-x_m*(j1minusj2_mat)) * integral * (1/M**2), k = -1)\n",
    "\n",
    "    #j2 > j1\n",
    "    j2minusj1_mat = -1 * j1minusj2_mat\n",
    "    C += np.triu(one * np.exp(-x_m*(j2minusj1_mat)) * integral * (1/M**2), k = 1) \n",
    "    S2_AA_arr[i] = np.sum(C * monomer_mat)\n",
    "    \n",
    "    \n",
    "    C_AB = H_AA_mat * C\n",
    "    S2_AB_arr_fast[i] = np.sum(C_AB) - S2_AA_arr[i]\n",
    "    S2_BB_arr_fast[i] = np.sum(C) + S2_AA_arr[i] - 2*np.sum(C_AB)"
   ]
  },
  {
   "cell_type": "code",
   "execution_count": 373,
   "metadata": {
    "scrolled": true
   },
   "outputs": [
    {
     "data": {
      "image/png": "[encoded data removed]",
      "text/plain": [
       "<Figure size 720x576 with 1 Axes>"
      ]
     },
     "metadata": {
      "needs_background": "light"
     },
     "output_type": "display_data"
    }
   ],
   "source": [
    "plt.figure(figsize=(10,8))\n",
    "font = {'family' : 'serif',\n",
    "        'weight':'normal',\n",
    "        'size': 18}\n",
    "plt.rc('font', **font)\n",
    "\n",
    "plt.plot(k_vec, S2_BB_arr_fast, label = \"used relation\")\n",
    "plt.plot(k_vec, S2_BB_arr, label = \"slow\", linestyle = \"--\")\n",
    "# plt.plot(k_vec, s2AA_stat, label = \"wlcstat N = \" + str(N))\n",
    "# plt.plot(k_vec, debye_arr, label = \"debye homo N = \" + str(N), linestyle = \"--\")\n",
    "\n",
    "plt.xscale('log')\n",
    "plt.yscale('log')\n",
    "\n",
    "plt.title(\"S2 BB\")\n",
    "plt.xlabel(r'$K$')\n",
    "plt.ylabel(r'Structure Factor $S_{2}(K;N)$')\n",
    "plt.xlim((1e-2, 1e2))\n",
    "plt.tight_layout()\n",
    "plt.legend()\n",
    "plt.show()"
   ]
  },
  {
   "cell_type": "code",
   "execution_count": null,
   "metadata": {},
   "outputs": [],
   "source": []
  },
  {
   "cell_type": "code",
   "execution_count": null,
   "metadata": {},
   "outputs": [],
   "source": []
  },
  {
   "cell_type": "code",
   "execution_count": 377,
   "metadata": {
    "scrolled": true
   },
   "outputs": [
    {
     "data": {
      "image/png": "[encoded data removed]",
      "text/plain": [
       "<Figure size 720x576 with 1 Axes>"
      ]
     },
     "metadata": {
      "needs_background": "light"
     },
     "output_type": "display_data"
    }
   ],
   "source": [
    "plt.figure(figsize=(10,8))\n",
    "font = {'family' : 'serif',\n",
    "        'weight':'normal',\n",
    "        'size': 18}\n",
    "plt.rc('font', **font)\n",
    "\n",
    "plt.plot(k_vec, S2_BB_arr_fast, label = \"BBused relation\", linestyle = \"--\")\n",
    "plt.plot(k_vec, S2_AA_arr, label = \"AA\")\n",
    "plt.plot(k_vec, S2_AB_arr_fast, label = \"ABused relation\")\n",
    "# plt.plot(k_vec, S2_BB_arr, label = \"slow\", linestyle = \"--\")\n",
    "# plt.plot(k_vec, s2AA_stat, label = \"wlcstat N = \" + str(N))\n",
    "# plt.plot(k_vec, debye_arr, label = \"debye homo N = \" + str(N), linestyle = \"--\")\n",
    "\n",
    "plt.xscale('log')\n",
    "plt.yscale('log')\n",
    "\n",
    "plt.title(\"S2 BB\")\n",
    "plt.xlabel(r'$K$')\n",
    "plt.ylabel(r'Structure Factor $S_{2}(K;N)$')\n",
    "plt.xlim((1e-2, 1e2))\n",
    "plt.tight_layout()\n",
    "plt.legend()\n",
    "plt.show()"
   ]
  },
  {
   "cell_type": "code",
   "execution_count": null,
   "metadata": {},
   "outputs": [],
   "source": []
  },
  {
   "cell_type": "code",
   "execution_count": null,
   "metadata": {},
   "outputs": [],
   "source": [
    "# invert, stability analysis AB BA vs AA BB"
   ]
  },
  {
   "cell_type": "code",
   "execution_count": 418,
   "metadata": {
    "scrolled": false
   },
   "outputs": [
    {
     "name": "stderr",
     "output_type": "stream",
     "text": [
      "<ipython-input-418-c714ce7b4c47>:58: RuntimeWarning: overflow encountered in multiply\n",
      "  C += np.tril(one * np.exp(-x_m*(j1minusj2_mat)) * integral * (1/M**2), k = -1)\n",
      "<ipython-input-418-c714ce7b4c47>:62: RuntimeWarning: overflow encountered in multiply\n",
      "  C += np.triu(one * np.exp(-x_m*(j2minusj1_mat)) * integral * (1/M**2), k = 1)\n",
      "<ipython-input-418-c714ce7b4c47>:54: RuntimeWarning: overflow encountered in exp\n",
      "  integral = (1/(x_m**2)) * (np.exp(x_m) + np.exp(-x_m) - 2) #for off-diagonal terms\n",
      "<ipython-input-418-c714ce7b4c47>:58: RuntimeWarning: overflow encountered in exp\n",
      "  C += np.tril(one * np.exp(-x_m*(j1minusj2_mat)) * integral * (1/M**2), k = -1)\n",
      "<ipython-input-418-c714ce7b4c47>:58: RuntimeWarning: invalid value encountered in multiply\n",
      "  C += np.tril(one * np.exp(-x_m*(j1minusj2_mat)) * integral * (1/M**2), k = -1)\n",
      "<ipython-input-418-c714ce7b4c47>:62: RuntimeWarning: overflow encountered in exp\n",
      "  C += np.triu(one * np.exp(-x_m*(j2minusj1_mat)) * integral * (1/M**2), k = 1)\n",
      "<ipython-input-418-c714ce7b4c47>:62: RuntimeWarning: invalid value encountered in multiply\n",
      "  C += np.triu(one * np.exp(-x_m*(j2minusj1_mat)) * integral * (1/M**2), k = 1)\n"
     ]
    }
   ],
   "source": [
    "#S_BB calc fast\n",
    "\n",
    "#Mono matrix:\n",
    "\n",
    "poly_mat = np.array([[1, 1], [0, 0]]) #matrix where num rows = num polymers\n",
    "\n",
    "#TODO: handle special case where polymat only has one polymer\n",
    "#then implement previous algorithm; have alph1 and alph2 be 1D \n",
    "n_p = poly_mat.shape[0]\n",
    "M = poly_mat.shape[1]\n",
    "# alph1 =np.zeros((M, M))\n",
    "# alph2 =np.zeros((M, M))\n",
    "alph1 =np.ones((n_p, M))\n",
    "alph2 =np.ones((n_p, M))\n",
    "\n",
    "\n",
    "sigma1 = 1*((poly_mat == alph1))#.sum(axis = 0) #sigma. could multiply each\n",
    "sigma2 = 1*((poly_mat == alph2))#.sum(axis = 0)\n",
    "\n",
    "# mat_Vect_two = np.matmul(sub1, sub2) * (1/n_p)\n",
    "\n",
    "#need to do each row outer product with corresponding row, get n_p MxM matrices, then sum the results\n",
    "prods = np.einsum('bi,bo->bio', sigma1, sigma2) # performing row wise cross product (each poly contribution)\n",
    "monomer_mat = np.sum(prods, axis = 0) / n_p # averaging each contribution\n",
    "\n",
    "#k-dependenece\n",
    "N_m = 1\n",
    "b = 1\n",
    "\n",
    "k0 = 1e-2\n",
    "kf = 1e2\n",
    "nk = 50\n",
    "k_vec = np.logspace(np.log10(k0), np.log10(kf), nk)\n",
    "\n",
    "\n",
    "one = np.ones((M,M))\n",
    "grid = np.indices((M, M))\n",
    "S2_AA_arr = np.zeros(nk)\n",
    "S2_AB_arr_fast = np.zeros(nk)\n",
    "S2_BB_arr_fast = np.zeros(nk)\n",
    "\n",
    "\n",
    "H_AA = np.diag(monomer_mat)\n",
    "H_AA_mat = (H_AA * np.ones((M, M))).T\n",
    "for i, k in enumerate(k_vec):\n",
    "    C = np.zeros((M, M))\n",
    "    x_m = (1/6) * N_m * b**2 * k**2\n",
    "    \n",
    "    #j1 = j2\n",
    "    debye = (2/(x_m**2)) * (x_m + np.exp(-x_m) - 1) * (1/M**2)\n",
    "\n",
    "    np.fill_diagonal(C, np.diag(one * debye))\n",
    "\n",
    "    integral = (1/(x_m**2)) * (np.exp(x_m) + np.exp(-x_m) - 2) #for off-diagonal terms\n",
    "\n",
    "    #j1 > j2\n",
    "    j1minusj2_mat = grid[0] - grid[1]\n",
    "    C += np.tril(one * np.exp(-x_m*(j1minusj2_mat)) * integral * (1/M**2), k = -1)\n",
    "\n",
    "    #j2 > j1\n",
    "    j2minusj1_mat = -1 * j1minusj2_mat\n",
    "    C += np.triu(one * np.exp(-x_m*(j2minusj1_mat)) * integral * (1/M**2), k = 1) \n",
    "    S2_AA_arr[i] = np.sum(C * monomer_mat)\n",
    "    \n",
    "    \n",
    "    C_AB = H_AA_mat * C\n",
    "    S2_AB_arr_fast[i] = np.sum(C_AB) - S2_AA_arr[i]\n",
    "    S2_BB_arr_fast[i] = np.sum(C) + S2_AA_arr[i] - 2*np.sum(C_AB)"
   ]
  },
  {
   "cell_type": "code",
   "execution_count": 401,
   "metadata": {},
   "outputs": [
    {
     "data": {
      "text/plain": [
       "1.000010648719335"
      ]
     },
     "execution_count": 401,
     "metadata": {},
     "output_type": "execute_result"
    }
   ],
   "source": [
    "min_eig"
   ]
  },
  {
   "cell_type": "code",
   "execution_count": 414,
   "metadata": {},
   "outputs": [
    {
     "data": {
      "text/plain": [
       "array([2.49995854e-01, 2.49993994e-01, 2.49991216e-01, 2.49987100e-01,\n",
       "       2.49981253e-01, 2.49972708e-01, 2.49960248e-01, 2.49942113e-01,\n",
       "       2.49915700e-01, 2.49877241e-01, 2.49821244e-01, 2.49739718e-01,\n",
       "       2.49621045e-01, 2.49448332e-01, 2.49197051e-01, 2.48831626e-01,\n",
       "       2.48300558e-01, 2.47529503e-01, 2.46411571e-01, 2.44793998e-01,\n",
       "       2.42460376e-01, 2.39108139e-01, 2.34322548e-01, 2.27552089e-01,\n",
       "       2.18097672e-01, 2.05141268e-01, 1.87858210e-01, 1.65672290e-01,\n",
       "       1.38692149e-01, 1.08249748e-01, 7.72029872e-02, 4.94243846e-02,\n",
       "       2.82144826e-02, 1.45804958e-02, 7.07756096e-03, 3.35363862e-03,\n",
       "       1.58174859e-03, 7.45778479e-04, 3.51624594e-04, 1.65786297e-04,\n",
       "       7.81660236e-05, 3.68542356e-05, 1.73762796e-05, 8.19268360e-06,\n",
       "       3.86274083e-06, 1.82123068e-06, 8.58685929e-07,            nan,\n",
       "                  nan,            nan])"
      ]
     },
     "execution_count": 414,
     "metadata": {},
     "output_type": "execute_result"
    }
   ],
   "source": [
    "S2_AB_arr_fast"
   ]
  },
  {
   "cell_type": "code",
   "execution_count": 419,
   "metadata": {},
   "outputs": [],
   "source": [
    "det = S2_AA_arr * S2_BB_arr_fast - S2_AB_arr_fast**2\n",
    "S2_AA_inv = S2_BB_arr_fast * (1/det)\n",
    "S2_AB_inv = -S2_AB_arr_fast * (1/det)\n",
    "S2_BB_inv = S2_AA_arr * (1/det)\n",
    "\n",
    "# G2 = (0.5*np.array([[S2_AA_inv, S2_AB_inv], [S2_AB_inv, S2_BB_inv]])).T.reshape(len(k_vec), 2, 2) #@ chi = 0\n",
    "\n",
    "G2 = 0.5*(S2_AA_inv - 2* S2_AB_inv + S2_BB_inv)\n",
    "\n",
    "# eigvalues,eigvectors = np.linalg.eigh(G2)\n",
    "eigvalues_lst = G2\n",
    "min_eig = np.min(eigvalues_lst[~np.isnan(eigvalues_lst)])\n",
    "\n",
    "k_star = k_vec[np.where(eigvalues_lst==min_eig)[0]//2][0]\n",
    "    "
   ]
  },
  {
   "cell_type": "code",
   "execution_count": 420,
   "metadata": {},
   "outputs": [
    {
     "data": {
      "text/plain": [
       "2.0000212974386704"
      ]
     },
     "execution_count": 420,
     "metadata": {},
     "output_type": "execute_result"
    }
   ],
   "source": [
    "min_eig"
   ]
  },
  {
   "cell_type": "code",
   "execution_count": 421,
   "metadata": {},
   "outputs": [
    {
     "data": {
      "text/plain": [
       "0.01"
      ]
     },
     "execution_count": 421,
     "metadata": {},
     "output_type": "execute_result"
    }
   ],
   "source": [
    "k_star"
   ]
  },
  {
   "cell_type": "code",
   "execution_count": 400,
   "metadata": {},
   "outputs": [],
   "source": [
    "#CLEAN UP< DEFINE FUNCTIONS!!!!"
   ]
  },
  {
   "cell_type": "code",
   "execution_count": 249,
   "metadata": {},
   "outputs": [
    {
     "data": {
      "text/plain": [
       "(613216.6657296097+7.508889980624683e-11j)"
      ]
     },
     "execution_count": 249,
     "metadata": {},
     "output_type": "execute_result"
    }
   ],
   "source": [
    "# s2AA_vert = s2wlc(pset, N, FA, K, sequence='all')[0][0]\n",
    "# s2AA_vert"
   ]
  },
  {
   "cell_type": "code",
   "execution_count": 290,
   "metadata": {},
   "outputs": [],
   "source": [
    "# s2 = wlcstruc.s2_wlc(k_vec, 100000, dimensions = 3, alpha_max = 25)\n",
    "# N = 2.\n",
    "# s2AA_stat = wlc_copoly.s2_wlc_diblock(k_vec, N, FA, dimensions=3, alpha_max=25)[0]\n",
    "# s2AA_stat #* N**2"
   ]
  }
 ],
 "metadata": {
  "kernelspec": {
   "display_name": "Python 3",
   "language": "python",
   "name": "python3"
  },
  "language_info": {
   "codemirror_mode": {
    "name": "ipython",
    "version": 3
   },
   "file_extension": ".py",
   "mimetype": "text/x-python",
   "name": "python",
   "nbconvert_exporter": "python",
   "pygments_lexer": "ipython3",
   "version": "3.8.5"
  }
 },
 "nbformat": 4,
 "nbformat_minor": 4
}
