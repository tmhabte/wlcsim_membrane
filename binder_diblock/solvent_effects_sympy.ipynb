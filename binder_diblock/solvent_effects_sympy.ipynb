{
 "cells": [
  {
   "cell_type": "code",
   "execution_count": 1,
   "id": "ee932bb5-1913-4b0d-ba6d-d5e00b3e95b0",
   "metadata": {},
   "outputs": [],
   "source": [
    "import sympy as sm\n"
   ]
  },
  {
   "cell_type": "markdown",
   "id": "42e0a159-e652-4c5c-bf01-628f32b77c06",
   "metadata": {},
   "source": [
    "each polymer sf has prefactor $\\frac{n_p N^2 A^2}{V_{sys}} = \\phi_p N A $ (n_p from identical single chian partition functins, A from volume fraction defintions, N^2 from equality when defining sf as having 1/N^2 prefactor, and V_sys from defining energy density. Inverting leads to $ \\frac{1}{\\phi_p NA}$. unaffected by $S_SS$. equivalently, for $S_{SS}^{-1}$ have $\\frac{n_s v_s^2}{V_{sys}} = \\phi_s v_s; \\frac{1}{\\phi_Sv_S}$"
   ]
  },
  {
   "cell_type": "code",
   "execution_count": 62,
   "id": "1c927293-39e3-4d16-b0de-a70ff15848db",
   "metadata": {},
   "outputs": [],
   "source": [
    "S_AA, S_AB, S_BB, S_SS, chi= sm.symbols(r'\\frac{1}{\\phi_pN}S_{AA}^{-1} \\frac{1}{\\phi_pN}S_{AB}^{-1} \\frac{1}{\\phi_pN}S_{BB}^{-1} \\frac{1}{\\phi_sv_s}S_{SS}^{-1} \\chi')\n",
    "T1 = sm.symbols('\\phi_p')\n",
    "T2 = sm.symbols(\"f_A\")\n",
    "T3 =  sm.symbols('\\phi_p')\n",
    "T4 = sm.symbols('f_B')\n",
    "T5 = 0\n",
    "T6 = sm.symbols('(2l_pA)^{0.5}')\n",
    "# T2, T3, T4, T5, T6 = sm.symbols('\\phi_p, -f, T_3, T_4, T_5, T_6')"
   ]
  },
  {
   "cell_type": "code",
   "execution_count": 64,
   "id": "fb448fd5-a8e2-4326-a6d6-88fc1308ef50",
   "metadata": {},
   "outputs": [
    {
     "data": {
      "text/latex": [
       "$\\displaystyle (2l_pA)^{0.5}$"
      ],
      "text/plain": [
       "(2l_pA)^{0.5}"
      ]
     },
     "execution_count": 64,
     "metadata": {},
     "output_type": "execute_result"
    }
   ],
   "source": [
    "T6"
   ]
  },
  {
   "cell_type": "code",
   "execution_count": 66,
   "id": "76ea9ae5-c428-4ce9-85ca-4153d5d49522",
   "metadata": {},
   "outputs": [
    {
     "data": {
      "text/latex": [
       "$\\displaystyle \\left[\\begin{matrix}\\frac{1}{\\phi_pN}S_{AA}^{-1} & \\chi + \\frac{1}{\\phi_pN}S_{AB}^{-1} & 0\\\\\\chi + \\frac{1}{\\phi_pN}S_{AB}^{-1} & \\frac{1}{\\phi_pN}S_{BB}^{-1} & 0\\\\0 & 0 & \\frac{1}{\\phi_sv_s}S_{SS}^{-1}\\end{matrix}\\right]$"
      ],
      "text/plain": [
       "Matrix([\n",
       "[       \\frac{1}{\\phi_pN}S_{AA}^{-1}, \\chi + \\frac{1}{\\phi_pN}S_{AB}^{-1},                              0],\n",
       "[\\chi + \\frac{1}{\\phi_pN}S_{AB}^{-1},        \\frac{1}{\\phi_pN}S_{BB}^{-1},                              0],\n",
       "[                                  0,                                   0, \\frac{1}{\\phi_sv_s}S_{SS}^{-1}]])"
      ]
     },
     "execution_count": 66,
     "metadata": {},
     "output_type": "execute_result"
    }
   ],
   "source": [
    "G2_unred = sm.Matrix(3,3,[S_AA, S_AB + chi, 0, S_AB + chi, S_BB, 0, 0,0, S_SS]) # ELEMENTS of inverse S2 matrix\n",
    "G2_unred"
   ]
  },
  {
   "cell_type": "code",
   "execution_count": 99,
   "id": "f38f2712-aaf1-47bc-9533-94368e87653c",
   "metadata": {},
   "outputs": [
    {
     "data": {
      "text/latex": [
       "$\\displaystyle \\left[\\begin{matrix}- \\phi_{p} & - f_{A}\\\\\\phi_{p} & - f_{B}\\\\0 & (2l_pA)^{0.5}\\end{matrix}\\right]$"
      ],
      "text/plain": [
       "Matrix([\n",
       "[-\\phi_p,          -f_A],\n",
       "[ \\phi_p,          -f_B],\n",
       "[      0, (2l_pA)^{0.5}]])"
      ]
     },
     "execution_count": 99,
     "metadata": {},
     "output_type": "execute_result"
    }
   ],
   "source": [
    "T = sm.Matrix(3,2, [-T1, -T2, T3, -T4, T5, T6])\n",
    "T # first column is psi2, second column is psi 1"
   ]
  },
  {
   "cell_type": "code",
   "execution_count": 101,
   "id": "47f920a7-e90a-43de-9a7a-945d6f191751",
   "metadata": {},
   "outputs": [
    {
     "data": {
      "text/latex": [
       "$\\displaystyle \\left[\\begin{matrix}- \\phi_{p} \\left(- \\frac{1}{\\phi_pN}S_{AA}^{-1} \\phi_{p} + \\phi_{p} \\left(\\chi + \\frac{1}{\\phi_pN}S_{AB}^{-1}\\right)\\right) + \\phi_{p} \\left(\\frac{1}{\\phi_pN}S_{BB}^{-1} \\phi_{p} - \\phi_{p} \\left(\\chi + \\frac{1}{\\phi_pN}S_{AB}^{-1}\\right)\\right) & - f_{A} \\left(- \\frac{1}{\\phi_pN}S_{AA}^{-1} \\phi_{p} + \\phi_{p} \\left(\\chi + \\frac{1}{\\phi_pN}S_{AB}^{-1}\\right)\\right) - f_{B} \\left(\\frac{1}{\\phi_pN}S_{BB}^{-1} \\phi_{p} - \\phi_{p} \\left(\\chi + \\frac{1}{\\phi_pN}S_{AB}^{-1}\\right)\\right)\\\\- \\phi_{p} \\left(- \\frac{1}{\\phi_pN}S_{AA}^{-1} f_{A} - f_{B} \\left(\\chi + \\frac{1}{\\phi_pN}S_{AB}^{-1}\\right)\\right) + \\phi_{p} \\left(- \\frac{1}{\\phi_pN}S_{BB}^{-1} f_{B} - f_{A} \\left(\\chi + \\frac{1}{\\phi_pN}S_{AB}^{-1}\\right)\\right) & \\left((2l_pA)^{0.5}\\right)^{2} \\frac{1}{\\phi_sv_s}S_{SS}^{-1} - f_{A} \\left(- \\frac{1}{\\phi_pN}S_{AA}^{-1} f_{A} - f_{B} \\left(\\chi + \\frac{1}{\\phi_pN}S_{AB}^{-1}\\right)\\right) - f_{B} \\left(- \\frac{1}{\\phi_pN}S_{BB}^{-1} f_{B} - f_{A} \\left(\\chi + \\frac{1}{\\phi_pN}S_{AB}^{-1}\\right)\\right)\\end{matrix}\\right]$"
      ],
      "text/plain": [
       "Matrix([\n",
       "[-\\phi_p*(-\\frac{1}{\\phi_pN}S_{AA}^{-1}*\\phi_p + \\phi_p*(\\chi + \\frac{1}{\\phi_pN}S_{AB}^{-1})) + \\phi_p*(\\frac{1}{\\phi_pN}S_{BB}^{-1}*\\phi_p - \\phi_p*(\\chi + \\frac{1}{\\phi_pN}S_{AB}^{-1})),                                       -f_A*(-\\frac{1}{\\phi_pN}S_{AA}^{-1}*\\phi_p + \\phi_p*(\\chi + \\frac{1}{\\phi_pN}S_{AB}^{-1})) - f_B*(\\frac{1}{\\phi_pN}S_{BB}^{-1}*\\phi_p - \\phi_p*(\\chi + \\frac{1}{\\phi_pN}S_{AB}^{-1}))],\n",
       "[           -\\phi_p*(-\\frac{1}{\\phi_pN}S_{AA}^{-1}*f_A - f_B*(\\chi + \\frac{1}{\\phi_pN}S_{AB}^{-1})) + \\phi_p*(-\\frac{1}{\\phi_pN}S_{BB}^{-1}*f_B - f_A*(\\chi + \\frac{1}{\\phi_pN}S_{AB}^{-1})), (2l_pA)^{0.5}**2*\\frac{1}{\\phi_sv_s}S_{SS}^{-1} - f_A*(-\\frac{1}{\\phi_pN}S_{AA}^{-1}*f_A - f_B*(\\chi + \\frac{1}{\\phi_pN}S_{AB}^{-1})) - f_B*(-\\frac{1}{\\phi_pN}S_{BB}^{-1}*f_B - f_A*(\\chi + \\frac{1}{\\phi_pN}S_{AB}^{-1}))]])"
      ]
     },
     "execution_count": 101,
     "metadata": {},
     "output_type": "execute_result"
    }
   ],
   "source": [
    "G2_red = T.T * G2_unred * T\n",
    "G2_red"
   ]
  },
  {
   "cell_type": "markdown",
   "id": "0a6e3483-bba0-4b45-9260-3336039e7a15",
   "metadata": {},
   "source": [
    "each polymer sf has prefactor $\\frac{n_p N^2 A^2}{V_{sys}} = \\phi_p N A $. Inverting leads to $ \\frac{1}{\\phi_p NA}$. unaffected by $S_SS$. equivalently, for sSS have $\\frac{1}{\\phi_Sv_S}$"
   ]
  },
  {
   "cell_type": "code",
   "execution_count": 104,
   "id": "cf5cd10e-44e4-41d8-9b69-0ab564dbfa22",
   "metadata": {},
   "outputs": [
    {
     "data": {
      "text/latex": [
       "$\\displaystyle \\phi_{p}^{2} \\left(- 2 \\chi + \\frac{1}{\\phi_pN}S_{AA}^{-1} - 2 \\frac{1}{\\phi_pN}S_{AB}^{-1} + \\frac{1}{\\phi_pN}S_{BB}^{-1}\\right)$"
      ],
      "text/plain": [
       "\\phi_p**2*(-2*\\chi + \\frac{1}{\\phi_pN}S_{AA}^{-1} - 2*\\frac{1}{\\phi_pN}S_{AB}^{-1} + \\frac{1}{\\phi_pN}S_{BB}^{-1})"
      ]
     },
     "execution_count": 104,
     "metadata": {},
     "output_type": "execute_result"
    }
   ],
   "source": [
    "sm.simplify(G2_red[0,0])"
   ]
  },
  {
   "cell_type": "code",
   "execution_count": 106,
   "id": "5bb56b0f-0875-458f-a3b8-9b47eabb1f25",
   "metadata": {},
   "outputs": [
    {
     "data": {
      "text/latex": [
       "$\\displaystyle \\phi_{p} \\left(f_{A} \\left(- \\chi + \\frac{1}{\\phi_pN}S_{AA}^{-1} - \\frac{1}{\\phi_pN}S_{AB}^{-1}\\right) - f_{B} \\left(- \\chi - \\frac{1}{\\phi_pN}S_{AB}^{-1} + \\frac{1}{\\phi_pN}S_{BB}^{-1}\\right)\\right)$"
      ],
      "text/plain": [
       "\\phi_p*(f_A*(-\\chi + \\frac{1}{\\phi_pN}S_{AA}^{-1} - \\frac{1}{\\phi_pN}S_{AB}^{-1}) - f_B*(-\\chi - \\frac{1}{\\phi_pN}S_{AB}^{-1} + \\frac{1}{\\phi_pN}S_{BB}^{-1}))"
      ]
     },
     "execution_count": 106,
     "metadata": {},
     "output_type": "execute_result"
    }
   ],
   "source": [
    "sm.simplify(G2_red[0,1])"
   ]
  },
  {
   "cell_type": "code",
   "execution_count": 108,
   "id": "1f0ac591-3820-455e-9152-0795d1b96457",
   "metadata": {},
   "outputs": [
    {
     "data": {
      "text/latex": [
       "$\\displaystyle \\left((2l_pA)^{0.5}\\right)^{2} \\frac{1}{\\phi_sv_s}S_{SS}^{-1} + f_{A} \\left(\\frac{1}{\\phi_pN}S_{AA}^{-1} f_{A} + f_{B} \\left(\\chi + \\frac{1}{\\phi_pN}S_{AB}^{-1}\\right)\\right) + f_{B} \\left(\\frac{1}{\\phi_pN}S_{BB}^{-1} f_{B} + f_{A} \\left(\\chi + \\frac{1}{\\phi_pN}S_{AB}^{-1}\\right)\\right)$"
      ],
      "text/plain": [
       "(2l_pA)^{0.5}**2*\\frac{1}{\\phi_sv_s}S_{SS}^{-1} + f_A*(\\frac{1}{\\phi_pN}S_{AA}^{-1}*f_A + f_B*(\\chi + \\frac{1}{\\phi_pN}S_{AB}^{-1})) + f_B*(\\frac{1}{\\phi_pN}S_{BB}^{-1}*f_B + f_A*(\\chi + \\frac{1}{\\phi_pN}S_{AB}^{-1}))"
      ]
     },
     "execution_count": 108,
     "metadata": {},
     "output_type": "execute_result"
    }
   ],
   "source": [
    "sm.simplify(G2_red[1,1])"
   ]
  },
  {
   "cell_type": "code",
   "execution_count": 12,
   "id": "e4a6f813-1dbd-46c9-8535-a488b4ad547a",
   "metadata": {},
   "outputs": [],
   "source": [
    "#  FIX CHI SIGN!! is transformation matrix different?\n",
    "# i am arguing that psi1 defininto is incorrect- psi A should be multiplied with f_A, \n",
    "    # and solvent should be present!!"
   ]
  },
  {
   "cell_type": "markdown",
   "id": "6face84e-81b9-4b6d-a270-41e05d68afdd",
   "metadata": {},
   "source": [
    "## Method:"
   ]
  },
  {
   "cell_type": "code",
   "execution_count": 111,
   "id": "7257e17b-761c-4adc-be0f-a99e3ffa9eca",
   "metadata": {},
   "outputs": [],
   "source": [
    "S_AA, S_AB, S_BB, S_SS, chi= sm.symbols(r'\\frac{1}{\\phi_pN}S_{AA}^{-1} \\frac{1}{\\phi_pN}S_{AB}^{-1} \\frac{1}{\\phi_pN}S_{BB}^{-1} \\frac{1}{\\phi_sv_s}S_{SS}^{-1} \\chi')\n",
    "T1 = sm.symbols('T_1')\n",
    "T2 = sm.symbols(\"T_2\")\n",
    "T3 =  sm.symbols('T_3')\n",
    "T4 = sm.symbols('T_4')\n",
    "T5 = sm.symbols('T_5')\n",
    "T6 = sm.symbols('T_6')\n",
    "# T2, T3, T4, T5, T6 = sm.symbols('\\phi_p, -f, T_3, T_4, T_5, T_6')"
   ]
  },
  {
   "cell_type": "code",
   "execution_count": 113,
   "id": "363558cf-37df-42cf-9b23-d00092492838",
   "metadata": {},
   "outputs": [
    {
     "data": {
      "text/latex": [
       "$\\displaystyle \\left[\\begin{matrix}\\frac{1}{\\phi_pN}S_{AA}^{-1} & \\chi + \\frac{1}{\\phi_pN}S_{AB}^{-1} & 0\\\\\\chi + \\frac{1}{\\phi_pN}S_{AB}^{-1} & \\frac{1}{\\phi_pN}S_{BB}^{-1} & 0\\\\0 & 0 & \\frac{1}{\\phi_sv_s}S_{SS}^{-1}\\end{matrix}\\right]$"
      ],
      "text/plain": [
       "Matrix([\n",
       "[       \\frac{1}{\\phi_pN}S_{AA}^{-1}, \\chi + \\frac{1}{\\phi_pN}S_{AB}^{-1},                              0],\n",
       "[\\chi + \\frac{1}{\\phi_pN}S_{AB}^{-1},        \\frac{1}{\\phi_pN}S_{BB}^{-1},                              0],\n",
       "[                                  0,                                   0, \\frac{1}{\\phi_sv_s}S_{SS}^{-1}]])"
      ]
     },
     "execution_count": 113,
     "metadata": {},
     "output_type": "execute_result"
    }
   ],
   "source": [
    "G2_unred = sm.Matrix(3,3,[S_AA, S_AB + chi, 0, S_AB + chi, S_BB, 0, 0,0, S_SS]) # ELEMENTS of inverse S2 matrix\n",
    "G2_unred"
   ]
  },
  {
   "cell_type": "code",
   "execution_count": 117,
   "id": "9f8c0b83-30d2-4590-a58d-eac7b725b8ff",
   "metadata": {},
   "outputs": [
    {
     "data": {
      "text/latex": [
       "$\\displaystyle \\left[\\begin{matrix}T_{1} & T_{2}\\\\T_{3} & T_{4}\\\\T_{5} & T_{6}\\end{matrix}\\right]$"
      ],
      "text/plain": [
       "Matrix([\n",
       "[T_1, T_2],\n",
       "[T_3, T_4],\n",
       "[T_5, T_6]])"
      ]
     },
     "execution_count": 117,
     "metadata": {},
     "output_type": "execute_result"
    }
   ],
   "source": [
    "T = sm.Matrix(3,2, [T1, T2, T3, T4, T5, T6])\n",
    "T"
   ]
  },
  {
   "cell_type": "code",
   "execution_count": 121,
   "id": "4237a024-abe9-46f4-9143-2b6b034faf9e",
   "metadata": {},
   "outputs": [
    {
     "data": {
      "text/latex": [
       "$\\displaystyle \\left[\\begin{matrix}T_{1} \\left(T_{1} \\frac{1}{\\phi_pN}S_{AA}^{-1} + T_{3} \\left(\\chi + \\frac{1}{\\phi_pN}S_{AB}^{-1}\\right)\\right) + T_{3} \\left(T_{1} \\left(\\chi + \\frac{1}{\\phi_pN}S_{AB}^{-1}\\right) + T_{3} \\frac{1}{\\phi_pN}S_{BB}^{-1}\\right) + T_{5}^{2} \\frac{1}{\\phi_sv_s}S_{SS}^{-1} & T_{2} \\left(T_{1} \\frac{1}{\\phi_pN}S_{AA}^{-1} + T_{3} \\left(\\chi + \\frac{1}{\\phi_pN}S_{AB}^{-1}\\right)\\right) + T_{4} \\left(T_{1} \\left(\\chi + \\frac{1}{\\phi_pN}S_{AB}^{-1}\\right) + T_{3} \\frac{1}{\\phi_pN}S_{BB}^{-1}\\right) + T_{5} T_{6} \\frac{1}{\\phi_sv_s}S_{SS}^{-1}\\\\T_{1} \\left(T_{2} \\frac{1}{\\phi_pN}S_{AA}^{-1} + T_{4} \\left(\\chi + \\frac{1}{\\phi_pN}S_{AB}^{-1}\\right)\\right) + T_{3} \\left(T_{2} \\left(\\chi + \\frac{1}{\\phi_pN}S_{AB}^{-1}\\right) + T_{4} \\frac{1}{\\phi_pN}S_{BB}^{-1}\\right) + T_{5} T_{6} \\frac{1}{\\phi_sv_s}S_{SS}^{-1} & T_{2} \\left(T_{2} \\frac{1}{\\phi_pN}S_{AA}^{-1} + T_{4} \\left(\\chi + \\frac{1}{\\phi_pN}S_{AB}^{-1}\\right)\\right) + T_{4} \\left(T_{2} \\left(\\chi + \\frac{1}{\\phi_pN}S_{AB}^{-1}\\right) + T_{4} \\frac{1}{\\phi_pN}S_{BB}^{-1}\\right) + T_{6}^{2} \\frac{1}{\\phi_sv_s}S_{SS}^{-1}\\end{matrix}\\right]$"
      ],
      "text/plain": [
       "Matrix([\n",
       "[ T_1*(T_1*\\frac{1}{\\phi_pN}S_{AA}^{-1} + T_3*(\\chi + \\frac{1}{\\phi_pN}S_{AB}^{-1})) + T_3*(T_1*(\\chi + \\frac{1}{\\phi_pN}S_{AB}^{-1}) + T_3*\\frac{1}{\\phi_pN}S_{BB}^{-1}) + T_5**2*\\frac{1}{\\phi_sv_s}S_{SS}^{-1}, T_2*(T_1*\\frac{1}{\\phi_pN}S_{AA}^{-1} + T_3*(\\chi + \\frac{1}{\\phi_pN}S_{AB}^{-1})) + T_4*(T_1*(\\chi + \\frac{1}{\\phi_pN}S_{AB}^{-1}) + T_3*\\frac{1}{\\phi_pN}S_{BB}^{-1}) + T_5*T_6*\\frac{1}{\\phi_sv_s}S_{SS}^{-1}],\n",
       "[T_1*(T_2*\\frac{1}{\\phi_pN}S_{AA}^{-1} + T_4*(\\chi + \\frac{1}{\\phi_pN}S_{AB}^{-1})) + T_3*(T_2*(\\chi + \\frac{1}{\\phi_pN}S_{AB}^{-1}) + T_4*\\frac{1}{\\phi_pN}S_{BB}^{-1}) + T_5*T_6*\\frac{1}{\\phi_sv_s}S_{SS}^{-1},  T_2*(T_2*\\frac{1}{\\phi_pN}S_{AA}^{-1} + T_4*(\\chi + \\frac{1}{\\phi_pN}S_{AB}^{-1})) + T_4*(T_2*(\\chi + \\frac{1}{\\phi_pN}S_{AB}^{-1}) + T_4*\\frac{1}{\\phi_pN}S_{BB}^{-1}) + T_6**2*\\frac{1}{\\phi_sv_s}S_{SS}^{-1}]])"
      ]
     },
     "execution_count": 121,
     "metadata": {},
     "output_type": "execute_result"
    }
   ],
   "source": [
    "G2_red = T.T * G2_unred * T\n",
    "sm.simplify(G2_red)"
   ]
  },
  {
   "cell_type": "code",
   "execution_count": 125,
   "id": "83f7742f-4b9f-4f07-90df-e722659eb0a3",
   "metadata": {},
   "outputs": [
    {
     "data": {
      "text/latex": [
       "$\\displaystyle T_{1} \\left(T_{1} \\frac{1}{\\phi_pN}S_{AA}^{-1} + T_{3} \\left(\\chi + \\frac{1}{\\phi_pN}S_{AB}^{-1}\\right)\\right) + T_{3} \\left(T_{1} \\left(\\chi + \\frac{1}{\\phi_pN}S_{AB}^{-1}\\right) + T_{3} \\frac{1}{\\phi_pN}S_{BB}^{-1}\\right) + T_{5}^{2} \\frac{1}{\\phi_sv_s}S_{SS}^{-1}$"
      ],
      "text/plain": [
       "T_1*(T_1*\\frac{1}{\\phi_pN}S_{AA}^{-1} + T_3*(\\chi + \\frac{1}{\\phi_pN}S_{AB}^{-1})) + T_3*(T_1*(\\chi + \\frac{1}{\\phi_pN}S_{AB}^{-1}) + T_3*\\frac{1}{\\phi_pN}S_{BB}^{-1}) + T_5**2*\\frac{1}{\\phi_sv_s}S_{SS}^{-1}"
      ]
     },
     "execution_count": 125,
     "metadata": {},
     "output_type": "execute_result"
    }
   ],
   "source": [
    "sm.simplify(G2_red[0,0])"
   ]
  },
  {
   "cell_type": "code",
   "execution_count": 127,
   "id": "6ec59ed6-6ead-45c3-ba6c-350450ac5fd6",
   "metadata": {},
   "outputs": [
    {
     "data": {
      "text/latex": [
       "$\\displaystyle T_{2} \\left(T_{1} \\frac{1}{\\phi_pN}S_{AA}^{-1} + T_{3} \\left(\\chi + \\frac{1}{\\phi_pN}S_{AB}^{-1}\\right)\\right) + T_{4} \\left(T_{1} \\left(\\chi + \\frac{1}{\\phi_pN}S_{AB}^{-1}\\right) + T_{3} \\frac{1}{\\phi_pN}S_{BB}^{-1}\\right) + T_{5} T_{6} \\frac{1}{\\phi_sv_s}S_{SS}^{-1}$"
      ],
      "text/plain": [
       "T_2*(T_1*\\frac{1}{\\phi_pN}S_{AA}^{-1} + T_3*(\\chi + \\frac{1}{\\phi_pN}S_{AB}^{-1})) + T_4*(T_1*(\\chi + \\frac{1}{\\phi_pN}S_{AB}^{-1}) + T_3*\\frac{1}{\\phi_pN}S_{BB}^{-1}) + T_5*T_6*\\frac{1}{\\phi_sv_s}S_{SS}^{-1}"
      ]
     },
     "execution_count": 127,
     "metadata": {},
     "output_type": "execute_result"
    }
   ],
   "source": [
    "sm.simplify(G2_red[0,1])"
   ]
  },
  {
   "cell_type": "code",
   "execution_count": 129,
   "id": "94b340ad-a447-473e-bfe6-571b6da0eb5c",
   "metadata": {},
   "outputs": [
    {
     "data": {
      "text/latex": [
       "$\\displaystyle T_{2} \\left(T_{2} \\frac{1}{\\phi_pN}S_{AA}^{-1} + T_{4} \\left(\\chi + \\frac{1}{\\phi_pN}S_{AB}^{-1}\\right)\\right) + T_{4} \\left(T_{2} \\left(\\chi + \\frac{1}{\\phi_pN}S_{AB}^{-1}\\right) + T_{4} \\frac{1}{\\phi_pN}S_{BB}^{-1}\\right) + T_{6}^{2} \\frac{1}{\\phi_sv_s}S_{SS}^{-1}$"
      ],
      "text/plain": [
       "T_2*(T_2*\\frac{1}{\\phi_pN}S_{AA}^{-1} + T_4*(\\chi + \\frac{1}{\\phi_pN}S_{AB}^{-1})) + T_4*(T_2*(\\chi + \\frac{1}{\\phi_pN}S_{AB}^{-1}) + T_4*\\frac{1}{\\phi_pN}S_{BB}^{-1}) + T_6**2*\\frac{1}{\\phi_sv_s}S_{SS}^{-1}"
      ]
     },
     "execution_count": 129,
     "metadata": {},
     "output_type": "execute_result"
    }
   ],
   "source": [
    "sm.simplify(G2_red[1,1])"
   ]
  },
  {
   "cell_type": "code",
   "execution_count": null,
   "id": "5bea7084-42a8-4c4a-bc33-812b60a30507",
   "metadata": {},
   "outputs": [],
   "source": [
    "# T5 = 0\n",
    "# T1, T3 propto phi_p\n",
    "# T2 propto FA, T4 propto FB"
   ]
  }
 ],
 "metadata": {
  "kernelspec": {
   "display_name": "Python 3 (ipykernel)",
   "language": "python",
   "name": "python3"
  },
  "language_info": {
   "codemirror_mode": {
    "name": "ipython",
    "version": 3
   },
   "file_extension": ".py",
   "mimetype": "text/x-python",
   "name": "python",
   "nbconvert_exporter": "python",
   "pygments_lexer": "ipython3",
   "version": "3.10.14"
  }
 },
 "nbformat": 4,
 "nbformat_minor": 5
}
