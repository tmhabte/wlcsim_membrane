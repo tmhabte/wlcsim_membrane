{
 "cells": [
  {
   "cell_type": "code",
   "execution_count": 197,
   "metadata": {},
   "outputs": [],
   "source": [
    "from sympy import *\n",
    "import numpy as np\n",
    "import itertools as it\n",
    "import IPython.display as disp\n",
    "\n",
    "init_printing()"
   ]
  },
  {
   "cell_type": "code",
   "execution_count": 268,
   "metadata": {},
   "outputs": [
    {
     "data": {
      "image/png": "[encoded data removed]",
      "text/latex": [
       "$\\displaystyle \\left( S_{AAA}, \\  S_{AAB}, \\  S_{ABB}, \\  S_{BBB}, \\  S_{AAinv}, \\  S_{ABinv}, \\  S_{BBinv}, \\  DEL_{B}, \\  DEL_{A}\\right)$"
      ],
      "text/plain": [
       "(S_AAA, S_AAB, S_ABB, S_BBB, S_AAinv, S_ABinv, S_BBinv, DEL_B, DEL_A)"
      ]
     },
     "execution_count": 268,
     "metadata": {},
     "output_type": "execute_result"
    }
   ],
   "source": [
    "var(\"S_AAA S_AAB S_ABB S_BBB S_AAinv S_ABinv S_BBinv DEL_B DEL_A\")\n",
    "# IT IS IMPLIED THAT the two point sfs are INVERSE sfs"
   ]
  },
  {
   "cell_type": "code",
   "execution_count": 267,
   "metadata": {},
   "outputs": [
    {
     "data": {
      "text/latex": [
       "$\\displaystyle \\left[\\begin{matrix}S_{AAinv} & S_{ABinv}\\\\S_{ABinv} & S_{BBinv}\\end{matrix}\\right]$"
      ],
      "text/plain": [
       "⎡S_AAinv  S_ABinv⎤\n",
       "⎢                ⎥\n",
       "⎣S_ABinv  S_BBinv⎦"
      ]
     },
     "execution_count": 267,
     "metadata": {},
     "output_type": "execute_result"
    }
   ],
   "source": [
    "S2 = Matrix([[S_AAinv, S_ABinv],[S_ABinv, S_BBinv]])\n",
    "S2\n",
    "#AGAIN THIS IS THE INVERSE MATRIX; \"S_AA\" here means -S_BB / det(S2)"
   ]
  },
  {
   "cell_type": "code",
   "execution_count": 4,
   "metadata": {
    "scrolled": true
   },
   "outputs": [
    {
     "data": {
      "text/latex": [
       "$\\displaystyle \\left[\\begin{matrix}\\left[ S_{AAA}, \\  S_{AAB}\\right] & \\left[ S_{AAB}, \\  S_{ABB}\\right]\\\\\\left[ S_{AAB}, \\  S_{ABB}\\right] & \\left[ S_{ABB}, \\  S_{BBB}\\right]\\end{matrix}\\right]$"
      ],
      "text/plain": [
       "Matrix([\n",
       "[[S_AAA, S_AAB], [S_AAB, S_ABB]],\n",
       "[[S_AAB, S_ABB], [S_ABB, S_BBB]]])"
      ]
     },
     "execution_count": 4,
     "metadata": {},
     "output_type": "execute_result"
    }
   ],
   "source": [
    "S3 = Matrix([[[S_AAA, S_AAB],[S_AAB, S_ABB]],[[S_AAB, S_ABB],[S_ABB, S_BBB]]])\n",
    "S3"
   ]
  },
  {
   "cell_type": "code",
   "execution_count": null,
   "metadata": {},
   "outputs": [],
   "source": []
  },
  {
   "cell_type": "code",
   "execution_count": 241,
   "metadata": {},
   "outputs": [
    {
     "data": {
      "text/plain": [
       "array([[S_AAinv, S_ABinv],\n",
       "       [S_ABinv, S_BBinv]], dtype=object)"
      ]
     },
     "execution_count": 241,
     "metadata": {},
     "output_type": "execute_result"
    }
   ],
   "source": [
    "S2np = np.array([[S_AAinv, S_ABinv],[S_ABinv, S_BBinv]])\n",
    "S2np"
   ]
  },
  {
   "cell_type": "code",
   "execution_count": 242,
   "metadata": {},
   "outputs": [
    {
     "data": {
      "text/plain": [
       "array([[[S_AAA, S_AAB],\n",
       "        [S_AAB, S_ABB]],\n",
       "\n",
       "       [[S_AAB, S_ABB],\n",
       "        [S_ABB, S_BBB]]], dtype=object)"
      ]
     },
     "execution_count": 242,
     "metadata": {},
     "output_type": "execute_result"
    }
   ],
   "source": [
    "S3np = np.array([[[S_AAA, S_AAB],[S_AAB, S_ABB]],[[S_AAB, S_ABB],[S_ABB, S_BBB]]])\n",
    "S3np"
   ]
  },
  {
   "cell_type": "code",
   "execution_count": null,
   "metadata": {},
   "outputs": [],
   "source": []
  },
  {
   "cell_type": "code",
   "execution_count": null,
   "metadata": {},
   "outputs": [],
   "source": []
  },
  {
   "cell_type": "code",
   "execution_count": 243,
   "metadata": {},
   "outputs": [
    {
     "data": {
      "text/plain": [
       "array([[[S_AAA*S_AAinv + S_AAB*S_ABinv, S_AAA*S_ABinv + S_AAB*S_BBinv],\n",
       "        [S_AAB*S_AAinv + S_ABB*S_ABinv, S_AAB*S_ABinv + S_ABB*S_BBinv]],\n",
       "\n",
       "       [[S_AAB*S_AAinv + S_ABB*S_ABinv, S_AAB*S_ABinv + S_ABB*S_BBinv],\n",
       "        [S_AAinv*S_ABB + S_ABinv*S_BBB, S_ABB*S_ABinv + S_BBB*S_BBinv]]],\n",
       "      dtype=object)"
      ]
     },
     "execution_count": 243,
     "metadata": {},
     "output_type": "execute_result"
    }
   ],
   "source": [
    "front = np.matmul(S3np, S2np)\n",
    "front"
   ]
  },
  {
   "cell_type": "code",
   "execution_count": 244,
   "metadata": {},
   "outputs": [
    {
     "data": {
      "text/plain": [
       "array([[[S_AAA*S_AAinv + S_AAB*S_ABinv, S_AAB*S_AAinv + S_ABB*S_ABinv],\n",
       "        [S_AAA*S_ABinv + S_AAB*S_BBinv, S_AAB*S_ABinv + S_ABB*S_BBinv]],\n",
       "\n",
       "       [[S_AAB*S_AAinv + S_ABB*S_ABinv, S_AAinv*S_ABB + S_ABinv*S_BBB],\n",
       "        [S_AAB*S_ABinv + S_ABB*S_BBinv, S_ABB*S_ABinv + S_BBB*S_BBinv]]],\n",
       "      dtype=object)"
      ]
     },
     "execution_count": 244,
     "metadata": {},
     "output_type": "execute_result"
    }
   ],
   "source": [
    "top = np.swapaxes(front, 1, 2) #TOP!!\n",
    "top"
   ]
  },
  {
   "cell_type": "code",
   "execution_count": 245,
   "metadata": {},
   "outputs": [
    {
     "data": {
      "text/plain": [
       "array([[[S_AAinv*(S_AAA*S_AAinv + S_AAB*S_ABinv) + S_ABinv*(S_AAB*S_AAinv + S_ABB*S_ABinv),\n",
       "         S_ABinv*(S_AAA*S_AAinv + S_AAB*S_ABinv) + S_BBinv*(S_AAB*S_AAinv + S_ABB*S_ABinv)],\n",
       "        [S_AAinv*(S_AAA*S_ABinv + S_AAB*S_BBinv) + S_ABinv*(S_AAB*S_ABinv + S_ABB*S_BBinv),\n",
       "         S_ABinv*(S_AAA*S_ABinv + S_AAB*S_BBinv) + S_BBinv*(S_AAB*S_ABinv + S_ABB*S_BBinv)]],\n",
       "\n",
       "       [[S_AAinv*(S_AAB*S_AAinv + S_ABB*S_ABinv) + S_ABinv*(S_AAinv*S_ABB + S_ABinv*S_BBB),\n",
       "         S_ABinv*(S_AAB*S_AAinv + S_ABB*S_ABinv) + S_BBinv*(S_AAinv*S_ABB + S_ABinv*S_BBB)],\n",
       "        [S_AAinv*(S_AAB*S_ABinv + S_ABB*S_BBinv) + S_ABinv*(S_ABB*S_ABinv + S_BBB*S_BBinv),\n",
       "         S_ABinv*(S_AAB*S_ABinv + S_ABB*S_BBinv) + S_BBinv*(S_ABB*S_ABinv + S_BBB*S_BBinv)]]],\n",
       "      dtype=object)"
      ]
     },
     "execution_count": 245,
     "metadata": {},
     "output_type": "execute_result"
    }
   ],
   "source": [
    "top = np.matmul(top, S2np)\n",
    "top"
   ]
  },
  {
   "cell_type": "code",
   "execution_count": 246,
   "metadata": {},
   "outputs": [
    {
     "data": {
      "text/plain": [
       "array([[[S_AAinv*(S_AAA*S_AAinv + S_AAB*S_ABinv) + S_ABinv*(S_AAB*S_AAinv + S_ABB*S_ABinv),\n",
       "         S_AAinv*(S_AAA*S_ABinv + S_AAB*S_BBinv) + S_ABinv*(S_AAB*S_ABinv + S_ABB*S_BBinv)],\n",
       "        [S_ABinv*(S_AAA*S_AAinv + S_AAB*S_ABinv) + S_BBinv*(S_AAB*S_AAinv + S_ABB*S_ABinv),\n",
       "         S_ABinv*(S_AAA*S_ABinv + S_AAB*S_BBinv) + S_BBinv*(S_AAB*S_ABinv + S_ABB*S_BBinv)]],\n",
       "\n",
       "       [[S_AAinv*(S_AAB*S_AAinv + S_ABB*S_ABinv) + S_ABinv*(S_AAinv*S_ABB + S_ABinv*S_BBB),\n",
       "         S_AAinv*(S_AAB*S_ABinv + S_ABB*S_BBinv) + S_ABinv*(S_ABB*S_ABinv + S_BBB*S_BBinv)],\n",
       "        [S_ABinv*(S_AAB*S_AAinv + S_ABB*S_ABinv) + S_BBinv*(S_AAinv*S_ABB + S_ABinv*S_BBB),\n",
       "         S_ABinv*(S_AAB*S_ABinv + S_ABB*S_BBinv) + S_BBinv*(S_ABB*S_ABinv + S_BBB*S_BBinv)]]],\n",
       "      dtype=object)"
      ]
     },
     "execution_count": 246,
     "metadata": {},
     "output_type": "execute_result"
    }
   ],
   "source": [
    "front_again = np.swapaxes(top, 2, 1)\n",
    "front_again"
   ]
  },
  {
   "cell_type": "code",
   "execution_count": 247,
   "metadata": {},
   "outputs": [
    {
     "data": {
      "text/plain": [
       "array([[[S_AAinv*(S_AAA*S_ABinv + S_AAB*S_BBinv) + S_ABinv*(S_AAB*S_ABinv + S_ABB*S_BBinv),\n",
       "         S_AAinv*(S_AAB*S_ABinv + S_ABB*S_BBinv) + S_ABinv*(S_ABB*S_ABinv + S_BBB*S_BBinv)],\n",
       "        [S_ABinv*(S_AAA*S_ABinv + S_AAB*S_BBinv) + S_BBinv*(S_AAB*S_ABinv + S_ABB*S_BBinv),\n",
       "         S_ABinv*(S_AAB*S_ABinv + S_ABB*S_BBinv) + S_BBinv*(S_ABB*S_ABinv + S_BBB*S_BBinv)]],\n",
       "\n",
       "       [[S_AAinv*(S_AAA*S_AAinv + S_AAB*S_ABinv) + S_ABinv*(S_AAB*S_AAinv + S_ABB*S_ABinv),\n",
       "         S_AAinv*(S_AAB*S_AAinv + S_ABB*S_ABinv) + S_ABinv*(S_AAinv*S_ABB + S_ABinv*S_BBB)],\n",
       "        [S_ABinv*(S_AAA*S_AAinv + S_AAB*S_ABinv) + S_BBinv*(S_AAB*S_AAinv + S_ABB*S_ABinv),\n",
       "         S_ABinv*(S_AAB*S_AAinv + S_ABB*S_ABinv) + S_BBinv*(S_AAinv*S_ABB + S_ABinv*S_BBB)]]],\n",
       "      dtype=object)"
      ]
     },
     "execution_count": 247,
     "metadata": {},
     "output_type": "execute_result"
    }
   ],
   "source": [
    "#REAL side\n",
    "side = np.rot90(front_again, 1, (0,2))\n",
    "side"
   ]
  },
  {
   "cell_type": "code",
   "execution_count": 248,
   "metadata": {},
   "outputs": [
    {
     "data": {
      "text/plain": [
       "array([[[S_AAinv*(S_AAinv*(S_AAA*S_ABinv + S_AAB*S_BBinv) + S_ABinv*(S_AAB*S_ABinv + S_ABB*S_BBinv)) + S_ABinv*(S_AAinv*(S_AAB*S_ABinv + S_ABB*S_BBinv) + S_ABinv*(S_ABB*S_ABinv + S_BBB*S_BBinv)),\n",
       "         S_ABinv*(S_AAinv*(S_AAA*S_ABinv + S_AAB*S_BBinv) + S_ABinv*(S_AAB*S_ABinv + S_ABB*S_BBinv)) + S_BBinv*(S_AAinv*(S_AAB*S_ABinv + S_ABB*S_BBinv) + S_ABinv*(S_ABB*S_ABinv + S_BBB*S_BBinv))],\n",
       "        [S_AAinv*(S_ABinv*(S_AAA*S_ABinv + S_AAB*S_BBinv) + S_BBinv*(S_AAB*S_ABinv + S_ABB*S_BBinv)) + S_ABinv*(S_ABinv*(S_AAB*S_ABinv + S_ABB*S_BBinv) + S_BBinv*(S_ABB*S_ABinv + S_BBB*S_BBinv)),\n",
       "         S_ABinv*(S_ABinv*(S_AAA*S_ABinv + S_AAB*S_BBinv) + S_BBinv*(S_AAB*S_ABinv + S_ABB*S_BBinv)) + S_BBinv*(S_ABinv*(S_AAB*S_ABinv + S_ABB*S_BBinv) + S_BBinv*(S_ABB*S_ABinv + S_BBB*S_BBinv))]],\n",
       "\n",
       "       [[S_AAinv*(S_AAinv*(S_AAA*S_AAinv + S_AAB*S_ABinv) + S_ABinv*(S_AAB*S_AAinv + S_ABB*S_ABinv)) + S_ABinv*(S_AAinv*(S_AAB*S_AAinv + S_ABB*S_ABinv) + S_ABinv*(S_AAinv*S_ABB + S_ABinv*S_BBB)),\n",
       "         S_ABinv*(S_AAinv*(S_AAA*S_AAinv + S_AAB*S_ABinv) + S_ABinv*(S_AAB*S_AAinv + S_ABB*S_ABinv)) + S_BBinv*(S_AAinv*(S_AAB*S_AAinv + S_ABB*S_ABinv) + S_ABinv*(S_AAinv*S_ABB + S_ABinv*S_BBB))],\n",
       "        [S_AAinv*(S_ABinv*(S_AAA*S_AAinv + S_AAB*S_ABinv) + S_BBinv*(S_AAB*S_AAinv + S_ABB*S_ABinv)) + S_ABinv*(S_ABinv*(S_AAB*S_AAinv + S_ABB*S_ABinv) + S_BBinv*(S_AAinv*S_ABB + S_ABinv*S_BBB)),\n",
       "         S_ABinv*(S_ABinv*(S_AAA*S_AAinv + S_AAB*S_ABinv) + S_BBinv*(S_AAB*S_AAinv + S_ABB*S_ABinv)) + S_BBinv*(S_ABinv*(S_AAB*S_AAinv + S_ABB*S_ABinv) + S_BBinv*(S_AAinv*S_ABB + S_ABinv*S_BBB))]]],\n",
       "      dtype=object)"
      ]
     },
     "execution_count": 248,
     "metadata": {},
     "output_type": "execute_result"
    }
   ],
   "source": [
    "final = np.matmul(side, S2np)\n",
    "final"
   ]
  },
  {
   "cell_type": "code",
   "execution_count": null,
   "metadata": {},
   "outputs": [],
   "source": []
  },
  {
   "cell_type": "code",
   "execution_count": 259,
   "metadata": {
    "scrolled": true
   },
   "outputs": [
    {
     "data": {
      "text/plain": [
       "array([[[S_AAinv*(S_AAinv*(S_AAA*S_AAinv + S_AAB*S_ABinv) + S_ABinv*(S_AAB*S_AAinv + S_ABB*S_ABinv)) + S_ABinv*(S_AAinv*(S_AAB*S_AAinv + S_ABB*S_ABinv) + S_ABinv*(S_AAinv*S_ABB + S_ABinv*S_BBB)),\n",
       "         S_AAinv*(S_AAinv*(S_AAA*S_ABinv + S_AAB*S_BBinv) + S_ABinv*(S_AAB*S_ABinv + S_ABB*S_BBinv)) + S_ABinv*(S_AAinv*(S_AAB*S_ABinv + S_ABB*S_BBinv) + S_ABinv*(S_ABB*S_ABinv + S_BBB*S_BBinv))],\n",
       "        [S_AAinv*(S_ABinv*(S_AAA*S_AAinv + S_AAB*S_ABinv) + S_BBinv*(S_AAB*S_AAinv + S_ABB*S_ABinv)) + S_ABinv*(S_ABinv*(S_AAB*S_AAinv + S_ABB*S_ABinv) + S_BBinv*(S_AAinv*S_ABB + S_ABinv*S_BBB)),\n",
       "         S_AAinv*(S_ABinv*(S_AAA*S_ABinv + S_AAB*S_BBinv) + S_BBinv*(S_AAB*S_ABinv + S_ABB*S_BBinv)) + S_ABinv*(S_ABinv*(S_AAB*S_ABinv + S_ABB*S_BBinv) + S_BBinv*(S_ABB*S_ABinv + S_BBB*S_BBinv))]],\n",
       "\n",
       "       [[S_ABinv*(S_AAinv*(S_AAA*S_AAinv + S_AAB*S_ABinv) + S_ABinv*(S_AAB*S_AAinv + S_ABB*S_ABinv)) + S_BBinv*(S_AAinv*(S_AAB*S_AAinv + S_ABB*S_ABinv) + S_ABinv*(S_AAinv*S_ABB + S_ABinv*S_BBB)),\n",
       "         S_ABinv*(S_AAinv*(S_AAA*S_ABinv + S_AAB*S_BBinv) + S_ABinv*(S_AAB*S_ABinv + S_ABB*S_BBinv)) + S_BBinv*(S_AAinv*(S_AAB*S_ABinv + S_ABB*S_BBinv) + S_ABinv*(S_ABB*S_ABinv + S_BBB*S_BBinv))],\n",
       "        [S_ABinv*(S_ABinv*(S_AAA*S_AAinv + S_AAB*S_ABinv) + S_BBinv*(S_AAB*S_AAinv + S_ABB*S_ABinv)) + S_BBinv*(S_ABinv*(S_AAB*S_AAinv + S_ABB*S_ABinv) + S_BBinv*(S_AAinv*S_ABB + S_ABinv*S_BBB)),\n",
       "         S_ABinv*(S_ABinv*(S_AAA*S_ABinv + S_AAB*S_BBinv) + S_BBinv*(S_AAB*S_ABinv + S_ABB*S_BBinv)) + S_BBinv*(S_ABinv*(S_AAB*S_ABinv + S_ABB*S_BBinv) + S_BBinv*(S_ABB*S_ABinv + S_BBB*S_BBinv))]]],\n",
       "      dtype=object)"
      ]
     },
     "execution_count": 259,
     "metadata": {},
     "output_type": "execute_result"
    }
   ],
   "source": [
    "#GAMMA 3 MATRIX RESULT\n",
    "S3np = np.array([[[S_AAA, S_AAB],[S_AAB, S_ABB]],[[S_AAB, S_ABB],[S_ABB, S_BBB]]])\n",
    "S2np = np.array([[S_AAinv, S_ABinv],[S_ABinv, S_BBinv]])\n",
    "front = np.matmul(S3np, S2np)\n",
    "top = np.swapaxes(front, 1, 2) #TOP!!\n",
    "top = np.matmul(top, S2np)\n",
    "front_again = np.swapaxes(top, 2, 1)\n",
    "side = np.rot90(front_again, 1, (0,2))\n",
    "final = np.matmul(side, S2np)\n",
    "final = np.rot90(final, 3, (0,2))\n",
    "\n",
    "final"
   ]
  },
  {
   "cell_type": "code",
   "execution_count": 260,
   "metadata": {},
   "outputs": [],
   "source": [
    "# expand(final[0][0][0])"
   ]
  },
  {
   "cell_type": "code",
   "execution_count": 251,
   "metadata": {},
   "outputs": [],
   "source": [
    "# for I0, I1, I2 in it.product([0,1], repeat=3):\n",
    "#     disp.display(expand(final[I0][I1][I2]))"
   ]
  },
  {
   "cell_type": "code",
   "execution_count": 261,
   "metadata": {},
   "outputs": [
    {
     "data": {
      "image/png": "[encoded data removed]",
      "text/latex": [
       "$\\displaystyle DEL_{A}^{3} S_{AAA} S_{AAinv}^{3} + 3 DEL_{A}^{3} S_{AAB} S_{AAinv}^{2} S_{ABinv} + 3 DEL_{A}^{3} S_{AAinv} S_{ABB} S_{ABinv}^{2} + DEL_{A}^{3} S_{ABinv}^{3} S_{BBB} + 3 DEL_{A}^{2} DEL_{B} S_{AAA} S_{AAinv}^{2} S_{ABinv} + 3 DEL_{A}^{2} DEL_{B} S_{AAB} S_{AAinv}^{2} S_{BBinv} + 6 DEL_{A}^{2} DEL_{B} S_{AAB} S_{AAinv} S_{ABinv}^{2} + 6 DEL_{A}^{2} DEL_{B} S_{AAinv} S_{ABB} S_{ABinv} S_{BBinv} + 3 DEL_{A}^{2} DEL_{B} S_{ABB} S_{ABinv}^{3} + 3 DEL_{A}^{2} DEL_{B} S_{ABinv}^{2} S_{BBB} S_{BBinv} + 3 DEL_{A} DEL_{B}^{2} S_{AAA} S_{AAinv} S_{ABinv}^{2} + 6 DEL_{A} DEL_{B}^{2} S_{AAB} S_{AAinv} S_{ABinv} S_{BBinv} + 3 DEL_{A} DEL_{B}^{2} S_{AAB} S_{ABinv}^{3} + 3 DEL_{A} DEL_{B}^{2} S_{AAinv} S_{ABB} S_{BBinv}^{2} + 6 DEL_{A} DEL_{B}^{2} S_{ABB} S_{ABinv}^{2} S_{BBinv} + 3 DEL_{A} DEL_{B}^{2} S_{ABinv} S_{BBB} S_{BBinv}^{2} + DEL_{B}^{3} S_{AAA} S_{ABinv}^{3} + 3 DEL_{B}^{3} S_{AAB} S_{ABinv}^{2} S_{BBinv} + 3 DEL_{B}^{3} S_{ABB} S_{ABinv} S_{BBinv}^{2} + DEL_{B}^{3} S_{BBB} S_{BBinv}^{3}$"
      ],
      "text/plain": [
       "     3              3          3              2                  3            \n",
       "DEL_A ⋅S_AAA⋅S_AAinv  + 3⋅DEL_A ⋅S_AAB⋅S_AAinv ⋅S_ABinv + 3⋅DEL_A ⋅S_AAinv⋅S_A\n",
       "\n",
       "          2        3        3                2                    2           \n",
       "BB⋅S_ABinv  + DEL_A ⋅S_ABinv ⋅S_BBB + 3⋅DEL_A ⋅DEL_B⋅S_AAA⋅S_AAinv ⋅S_ABinv + \n",
       "\n",
       "       2                    2                  2                            2 \n",
       "3⋅DEL_A ⋅DEL_B⋅S_AAB⋅S_AAinv ⋅S_BBinv + 6⋅DEL_A ⋅DEL_B⋅S_AAB⋅S_AAinv⋅S_ABinv  \n",
       "\n",
       "         2                                              2                    3\n",
       "+ 6⋅DEL_A ⋅DEL_B⋅S_AAinv⋅S_ABB⋅S_ABinv⋅S_BBinv + 3⋅DEL_A ⋅DEL_B⋅S_ABB⋅S_ABinv \n",
       "\n",
       "          2              2                              2                     \n",
       " + 3⋅DEL_A ⋅DEL_B⋅S_ABinv ⋅S_BBB⋅S_BBinv + 3⋅DEL_A⋅DEL_B ⋅S_AAA⋅S_AAinv⋅S_ABin\n",
       "\n",
       " 2                2                                              2            \n",
       "v  + 6⋅DEL_A⋅DEL_B ⋅S_AAB⋅S_AAinv⋅S_ABinv⋅S_BBinv + 3⋅DEL_A⋅DEL_B ⋅S_AAB⋅S_ABi\n",
       "\n",
       "  3                2                      2                2              2   \n",
       "nv  + 3⋅DEL_A⋅DEL_B ⋅S_AAinv⋅S_ABB⋅S_BBinv  + 6⋅DEL_A⋅DEL_B ⋅S_ABB⋅S_ABinv ⋅S_\n",
       "\n",
       "                     2                      2        3              3         \n",
       "BBinv + 3⋅DEL_A⋅DEL_B ⋅S_ABinv⋅S_BBB⋅S_BBinv  + DEL_B ⋅S_AAA⋅S_ABinv  + 3⋅DEL_\n",
       "\n",
       " 3              2                  3                      2        3          \n",
       "B ⋅S_AAB⋅S_ABinv ⋅S_BBinv + 3⋅DEL_B ⋅S_ABB⋅S_ABinv⋅S_BBinv  + DEL_B ⋅S_BBB⋅S_B\n",
       "\n",
       "    3\n",
       "Binv "
      ]
     },
     "execution_count": 261,
     "metadata": {},
     "output_type": "execute_result"
    }
   ],
   "source": [
    "one = np.matmul(final, DEL)\n",
    "two = np.matmul(one, DEL)\n",
    "three = np.matmul(two, DEL)\n",
    "expand(three)"
   ]
  },
  {
   "cell_type": "code",
   "execution_count": 262,
   "metadata": {},
   "outputs": [
    {
     "data": {
      "text/plain": [
       "array([DEL_A, -DEL_A], dtype=object)"
      ]
     },
     "execution_count": 262,
     "metadata": {},
     "output_type": "execute_result"
    }
   ],
   "source": [
    "DEL_incomp = np.array([DEL_A, -DEL_A])\n",
    "DEL_incomp"
   ]
  },
  {
   "cell_type": "code",
   "execution_count": 263,
   "metadata": {},
   "outputs": [
    {
     "data": {
      "image/png": "[encoded data removed]",
      "text/latex": [
       "$\\displaystyle DEL_{A}^{3} S_{AAA} S_{AAinv}^{3} - 3 DEL_{A}^{3} S_{AAA} S_{AAinv}^{2} S_{ABinv} + 3 DEL_{A}^{3} S_{AAA} S_{AAinv} S_{ABinv}^{2} - DEL_{A}^{3} S_{AAA} S_{ABinv}^{3} + 3 DEL_{A}^{3} S_{AAB} S_{AAinv}^{2} S_{ABinv} - 3 DEL_{A}^{3} S_{AAB} S_{AAinv}^{2} S_{BBinv} - 6 DEL_{A}^{3} S_{AAB} S_{AAinv} S_{ABinv}^{2} + 6 DEL_{A}^{3} S_{AAB} S_{AAinv} S_{ABinv} S_{BBinv} + 3 DEL_{A}^{3} S_{AAB} S_{ABinv}^{3} - 3 DEL_{A}^{3} S_{AAB} S_{ABinv}^{2} S_{BBinv} + 3 DEL_{A}^{3} S_{AAinv} S_{ABB} S_{ABinv}^{2} - 6 DEL_{A}^{3} S_{AAinv} S_{ABB} S_{ABinv} S_{BBinv} + 3 DEL_{A}^{3} S_{AAinv} S_{ABB} S_{BBinv}^{2} - 3 DEL_{A}^{3} S_{ABB} S_{ABinv}^{3} + 6 DEL_{A}^{3} S_{ABB} S_{ABinv}^{2} S_{BBinv} - 3 DEL_{A}^{3} S_{ABB} S_{ABinv} S_{BBinv}^{2} + DEL_{A}^{3} S_{ABinv}^{3} S_{BBB} - 3 DEL_{A}^{3} S_{ABinv}^{2} S_{BBB} S_{BBinv} + 3 DEL_{A}^{3} S_{ABinv} S_{BBB} S_{BBinv}^{2} - DEL_{A}^{3} S_{BBB} S_{BBinv}^{3}$"
      ],
      "text/plain": [
       "     3              3          3              2                  3            \n",
       "DEL_A ⋅S_AAA⋅S_AAinv  - 3⋅DEL_A ⋅S_AAA⋅S_AAinv ⋅S_ABinv + 3⋅DEL_A ⋅S_AAA⋅S_AAi\n",
       "\n",
       "          2        3              3          3              2                 \n",
       "nv⋅S_ABinv  - DEL_A ⋅S_AAA⋅S_ABinv  + 3⋅DEL_A ⋅S_AAB⋅S_AAinv ⋅S_ABinv - 3⋅DEL_\n",
       "\n",
       " 3              2                  3                      2          3        \n",
       "A ⋅S_AAB⋅S_AAinv ⋅S_BBinv - 6⋅DEL_A ⋅S_AAB⋅S_AAinv⋅S_ABinv  + 6⋅DEL_A ⋅S_AAB⋅S\n",
       "\n",
       "                                3              3          3              2    \n",
       "_AAinv⋅S_ABinv⋅S_BBinv + 3⋅DEL_A ⋅S_AAB⋅S_ABinv  - 3⋅DEL_A ⋅S_AAB⋅S_ABinv ⋅S_B\n",
       "\n",
       "              3                      2          3                             \n",
       "Binv + 3⋅DEL_A ⋅S_AAinv⋅S_ABB⋅S_ABinv  - 6⋅DEL_A ⋅S_AAinv⋅S_ABB⋅S_ABinv⋅S_BBin\n",
       "\n",
       "           3                      2          3              3          3      \n",
       "v + 3⋅DEL_A ⋅S_AAinv⋅S_ABB⋅S_BBinv  - 3⋅DEL_A ⋅S_ABB⋅S_ABinv  + 6⋅DEL_A ⋅S_ABB\n",
       "\n",
       "        2                  3                      2        3        3         \n",
       "⋅S_ABinv ⋅S_BBinv - 3⋅DEL_A ⋅S_ABB⋅S_ABinv⋅S_BBinv  + DEL_A ⋅S_ABinv ⋅S_BBB - \n",
       "\n",
       "       3        2                        3                      2        3    \n",
       "3⋅DEL_A ⋅S_ABinv ⋅S_BBB⋅S_BBinv + 3⋅DEL_A ⋅S_ABinv⋅S_BBB⋅S_BBinv  - DEL_A ⋅S_B\n",
       "\n",
       "          3\n",
       "BB⋅S_BBinv "
      ]
     },
     "execution_count": 263,
     "metadata": {},
     "output_type": "execute_result"
    }
   ],
   "source": [
    "one = np.matmul(final, DEL_incomp)\n",
    "two = np.matmul(one, DEL_incomp)\n",
    "three = np.matmul(two, DEL_incomp)\n",
    "expand(three)"
   ]
  },
  {
   "cell_type": "code",
   "execution_count": 264,
   "metadata": {},
   "outputs": [
    {
     "data": {
      "image/png": "[encoded data removed]",
      "text/latex": [
       "$\\displaystyle DEL_{A}^{3} \\left(S_{AAA} S_{AAinv}^{3} - 3 S_{AAA} S_{AAinv}^{2} S_{ABinv} + 3 S_{AAA} S_{AAinv} S_{ABinv}^{2} - S_{AAA} S_{ABinv}^{3} + 3 S_{AAB} S_{AAinv}^{2} S_{ABinv} - 3 S_{AAB} S_{AAinv}^{2} S_{BBinv} - 6 S_{AAB} S_{AAinv} S_{ABinv}^{2} + 6 S_{AAB} S_{AAinv} S_{ABinv} S_{BBinv} + 3 S_{AAB} S_{ABinv}^{3} - 3 S_{AAB} S_{ABinv}^{2} S_{BBinv} + 3 S_{AAinv} S_{ABB} S_{ABinv}^{2} - 6 S_{AAinv} S_{ABB} S_{ABinv} S_{BBinv} + 3 S_{AAinv} S_{ABB} S_{BBinv}^{2} - 3 S_{ABB} S_{ABinv}^{3} + 6 S_{ABB} S_{ABinv}^{2} S_{BBinv} - 3 S_{ABB} S_{ABinv} S_{BBinv}^{2} + S_{ABinv}^{3} S_{BBB} - 3 S_{ABinv}^{2} S_{BBB} S_{BBinv} + 3 S_{ABinv} S_{BBB} S_{BBinv}^{2} - S_{BBB} S_{BBinv}^{3}\\right)$"
      ],
      "text/plain": [
       "     3 ⎛             3                  2                                  2  \n",
       "DEL_A ⋅⎝S_AAA⋅S_AAinv  - 3⋅S_AAA⋅S_AAinv ⋅S_ABinv + 3⋅S_AAA⋅S_AAinv⋅S_ABinv  -\n",
       "\n",
       "              3                  2                          2                 \n",
       " S_AAA⋅S_ABinv  + 3⋅S_AAB⋅S_AAinv ⋅S_ABinv - 3⋅S_AAB⋅S_AAinv ⋅S_BBinv - 6⋅S_AA\n",
       "\n",
       "                 2                                                    3       \n",
       "B⋅S_AAinv⋅S_ABinv  + 6⋅S_AAB⋅S_AAinv⋅S_ABinv⋅S_BBinv + 3⋅S_AAB⋅S_ABinv  - 3⋅S_\n",
       "\n",
       "           2                                  2                               \n",
       "AAB⋅S_ABinv ⋅S_BBinv + 3⋅S_AAinv⋅S_ABB⋅S_ABinv  - 6⋅S_AAinv⋅S_ABB⋅S_ABinv⋅S_BB\n",
       "\n",
       "                             2                  3                  2          \n",
       "inv + 3⋅S_AAinv⋅S_ABB⋅S_BBinv  - 3⋅S_ABB⋅S_ABinv  + 6⋅S_ABB⋅S_ABinv ⋅S_BBinv -\n",
       "\n",
       "                        2          3                  2                       \n",
       " 3⋅S_ABB⋅S_ABinv⋅S_BBinv  + S_ABinv ⋅S_BBB - 3⋅S_ABinv ⋅S_BBB⋅S_BBinv + 3⋅S_AB\n",
       "\n",
       "                 2                3⎞\n",
       "inv⋅S_BBB⋅S_BBinv  - S_BBB⋅S_BBinv ⎠"
      ]
     },
     "execution_count": 264,
     "metadata": {},
     "output_type": "execute_result"
    }
   ],
   "source": [
    "factor(three)"
   ]
  },
  {
   "cell_type": "code",
   "execution_count": 258,
   "metadata": {},
   "outputs": [
    {
     "data": {
      "image/png": "[encoded data removed]",
      "text/latex": [
       "$\\displaystyle S_{AB}^{3} - 3 S_{AB}^{2} S_{BB} + 3 S_{AB} S_{BB}^{2} - S_{BB}^{3}$"
      ],
      "text/plain": [
       "    3         2                   2       3\n",
       "S_AB  - 3⋅S_AB ⋅S_BB + 3⋅S_AB⋅S_BB  - S_BB "
      ]
     },
     "execution_count": 258,
     "metadata": {},
     "output_type": "execute_result"
    }
   ],
   "source": [
    "expand((S_AB - S_BB)*(S_AB - S_BB)*(S_AB - S_BB))"
   ]
  },
  {
   "cell_type": "code",
   "execution_count": null,
   "metadata": {},
   "outputs": [],
   "source": []
  }
 ],
 "metadata": {
  "kernelspec": {
   "display_name": "Python 3",
   "language": "python",
   "name": "python3"
  },
  "language_info": {
   "codemirror_mode": {
    "name": "ipython",
    "version": 3
   },
   "file_extension": ".py",
   "mimetype": "text/x-python",
   "name": "python",
   "nbconvert_exporter": "python",
   "pygments_lexer": "ipython3",
   "version": "3.8.5"
  }
 },
 "nbformat": 4,
 "nbformat_minor": 4
}
