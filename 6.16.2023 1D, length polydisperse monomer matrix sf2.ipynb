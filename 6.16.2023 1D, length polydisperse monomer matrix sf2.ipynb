{
 "cells": [
  {
   "cell_type": "code",
   "execution_count": 6,
   "metadata": {},
   "outputs": [],
   "source": [
    "import numpy as np\n",
    "from scipy import optimize\n",
    "from itertools import product\n",
    "\n",
    "import matplotlib.pyplot as plt\n",
    "from matplotlib.collections import LineCollection\n",
    "from matplotlib.colors import ListedColormap, BoundaryNorm\n",
    "\n",
    "from gaus_vertex import *"
   ]
  },
  {
   "cell_type": "code",
   "execution_count": 64,
   "metadata": {},
   "outputs": [],
   "source": [
    "poly_mat = [0,1,1]\n",
    "dens = [1]\n",
    "N = 1000\n",
    "M = 3\n",
    "N_m = N/M\n",
    "b = 1\n",
    "\n",
    "k0 = 1e-2\n",
    "kf = 1e2\n",
    "nk = 50\n",
    "\n",
    "k_vec = np.logspace(np.log10(k0), np.log10(kf), nk)\n",
    "\n",
    "k1_vec = np.zeros((nk, 3))\n",
    "\n",
    "k1_vec[:, 0] += np.logspace(np.log10(k0), np.log10(kf), nk)"
   ]
  },
  {
   "cell_type": "code",
   "execution_count": 44,
   "metadata": {},
   "outputs": [
    {
     "name": "stdout",
     "output_type": "stream",
     "text": [
      "[1. 0.]\n",
      "[0. 1.]\n"
     ]
    }
   ],
   "source": [
    "# n_p = 1\n",
    "# M = len(poly_mat)\n",
    "# N = M*N_m\n",
    "\n",
    "# ind = np.arange(0, M, 1)\n",
    "# mon_pairs = np.array(np.meshgrid(poly_mat, poly_mat)).T.reshape(-1, 2) #list of all pairs of monomers\n",
    "# ind_mesh = np.array(np.meshgrid(ind, ind)).T.reshape(-1, 2)\n",
    "# dist = abs(ind_mesh[:,0] - ind_mesh[:, 1])\n",
    "\n",
    "# corr_arr = np.zeros(M)\n",
    "# alpha1 = 1\n",
    "# alpha2 = 1\n",
    "# alphas = np.array([alpha1,alpha2])\n",
    "# for d in range(M):\n",
    "#     pairs_d_apart = mon_pairs[np.where(dist==d)] #find all pairs d distance apart\n",
    "#     comp_arr = (pairs_d_apart == alphas) #compare first column to alpha1, second column to alpha 2\n",
    "#     sig12 = comp_arr[:,0] * comp_arr[:,1] #find pairs where both alphas are correct\n",
    "#     pairs_d_sig = pairs_d_apart[sig12] #list of pairs d apart, of type (alpha1, alpha2)\n",
    "#     corr_arr[d] = len(pairs_d_sig)*dens[0]#/len(pairs_d_apart)\n",
    "# print(corr_arr)\n",
    "# print(M2_BB)"
   ]
  },
  {
   "cell_type": "code",
   "execution_count": 65,
   "metadata": {},
   "outputs": [],
   "source": [
    "def calc_monomer_tensor(poly_mat, dens, alpha1, alpha2):\n",
    "    n_p = 1\n",
    "    M = len(poly_mat)\n",
    "    N = M*N_m\n",
    "    \n",
    "    ind = np.arange(0, M, 1)\n",
    "    mon_pairs = np.array(np.meshgrid(poly_mat, poly_mat)).T.reshape(-1, 2) #list of all pairs of monomers\n",
    "    ind_mesh = np.array(np.meshgrid(ind, ind)).T.reshape(-1, 2)\n",
    "    dist = abs(ind_mesh[:,0] - ind_mesh[:, 1])\n",
    "\n",
    "    corr_arr = np.zeros(M)\n",
    "#     alpha1 = 0\n",
    "#     alpha2 = 0\n",
    "    alphas = np.array([alpha1,alpha2])\n",
    "    for d in range(M):\n",
    "        pairs_d_apart = mon_pairs[np.where(dist==d)] #find all pairs d distance apart\n",
    "        comp_arr = (pairs_d_apart == alphas) #compare first column to alpha1, second column to alpha 2\n",
    "        sig12 = comp_arr[:,0] * comp_arr[:,1] #find pairs where both alphas are correct\n",
    "        pairs_d_sig = pairs_d_apart[sig12] #list of pairs d apart, of type (alpha1, alpha2)\n",
    "        corr_arr[d] = len(pairs_d_sig)*dens[0]#/len(pairs_d_apart)\n",
    "    return corr_arr\n",
    "\n",
    "def calc_sf2_tensor(poly_mat, dens, N_m, b, k_vec = np.logspace(-2, 2, 50)):\n",
    "    \n",
    "    # TODO: use relations instead of recalculating cross correlation tensor!\n",
    "    M2_AA = calc_monomer_tensor(poly_mat, dens, 0, 0)\n",
    "    M2_AB = calc_monomer_tensor(poly_mat, dens, 0, 1)\n",
    "    M2_BA = calc_monomer_tensor(poly_mat, dens, 1, 0)\n",
    "    M2_BB = calc_monomer_tensor(poly_mat, dens, 1, 1)\n",
    "#     M2_AB = M2_AA[j1, j1] - M2_AA\n",
    "#     M2_BA = M2_AA[j2, j2] - M2_AA\n",
    "#     M2_BB = 1 - M2_AA[j1, j1] - M2_AA[j2, j2] + M2_AA[j1, j2]\n",
    "\n",
    "    M = np.shape(M2_AA)[0]\n",
    "    nk = len(k_vec)\n",
    "    N = M*N_m\n",
    "    \n",
    "    S2_AA_arr = np.zeros(nk)\n",
    "    S2_AB_arr = np.zeros(nk)\n",
    "    S2_BA_arr = np.zeros(nk)\n",
    "    S2_BB_arr = np.zeros(nk)\n",
    "\n",
    "    for i, k in enumerate(k_vec):\n",
    "        C = np.zeros(M)\n",
    "        k = np.linalg.norm(k)\n",
    "        x_m = (1/6) * N_m * b**2 * k**2\n",
    "\n",
    "        #j1 = j2, s1 > s2\n",
    "        index = 0#(j1 == j2)\n",
    "        constant = 1\n",
    "        debye = (2/(x_m**2)) * (x_m + np.exp(-x_m) - 1) \n",
    "\n",
    "    #     C[np.where((index) != 0)] += debye\n",
    "        C[0] += debye\n",
    "\n",
    "        #j1 > j2, s1 s2 any\n",
    "        index = np.arange(0, M, 1)#(j1 > j2) #index = del!\n",
    "        constant = np.exp(-x_m*index)\n",
    "        integral = (1/(x_m**2)) * (np.exp(x_m) + np.exp(-x_m) - 2) #for off-diagonal terms\n",
    "\n",
    "        C[np.where((index) != 0)] += constant[np.where(index != 0)] \\\n",
    "                                    * integral\n",
    "\n",
    "        S2_AA_arr[i] = np.sum((1/M**2) * C * M2_AA)\n",
    "        S2_AB_arr[i] = np.sum((1/M**2) * C * M2_AB)\n",
    "        S2_BA_arr[i] = np.sum((1/M**2) * C * M2_BA)\n",
    "        S2_BB_arr[i] = np.sum((1/M**2) * C * M2_BB)\n",
    "    return S2_AA_arr*N**2, S2_AB_arr*N**2, S2_BA_arr*N**2, S2_BB_arr*N**2\n"
   ]
  },
  {
   "cell_type": "code",
   "execution_count": 66,
   "metadata": {},
   "outputs": [
    {
     "name": "stdout",
     "output_type": "stream",
     "text": [
      "Wall time: 11 ms\n"
     ]
    },
    {
     "name": "stderr",
     "output_type": "stream",
     "text": [
      "<ipython-input-65-acf6715758bd>:59: RuntimeWarning: overflow encountered in exp\n",
      "  integral = (1/(x_m**2)) * (np.exp(x_m) + np.exp(-x_m) - 2) #for off-diagonal terms\n",
      "<ipython-input-65-acf6715758bd>:61: RuntimeWarning: invalid value encountered in multiply\n",
      "  C[np.where((index) != 0)] += constant[np.where(index != 0)] \\\n"
     ]
    }
   ],
   "source": [
    "%%time\n",
    "s2_tensor_AA, s2_tensor_AB, s2_tensor_BA, s2_tensor_BB = calc_sf2_tensor(poly_mat, dens, N_m, b, k_vec)"
   ]
  },
  {
   "cell_type": "code",
   "execution_count": 67,
   "metadata": {},
   "outputs": [
    {
     "name": "stdout",
     "output_type": "stream",
     "text": [
      "Wall time: 20 ms\n"
     ]
    },
    {
     "name": "stderr",
     "output_type": "stream",
     "text": [
      "C:\\Users\\Thomas\\Desktop\\structure_factor\\structure_factor\\gaus_vertex.py:78: RuntimeWarning: overflow encountered in exp\n",
      "  constant = np.exp(-x_m*(j1-j2))\n",
      "C:\\Users\\Thomas\\Desktop\\structure_factor\\structure_factor\\gaus_vertex.py:86: RuntimeWarning: overflow encountered in exp\n",
      "  constant = np.exp(-x_m*(j2-j1))\n",
      "C:\\Users\\Thomas\\Desktop\\structure_factor\\structure_factor\\gaus_vertex.py:79: RuntimeWarning: overflow encountered in exp\n",
      "  integral = (1/(x_m**2)) * (np.exp(x_m) + np.exp(-x_m) - 2) #for off-diagonal terms\n",
      "C:\\Users\\Thomas\\Desktop\\structure_factor\\structure_factor\\gaus_vertex.py:81: RuntimeWarning: invalid value encountered in multiply\n",
      "  C[np.where((index) != 0)] += constant[np.where(index != 0)] \\\n",
      "C:\\Users\\Thomas\\Desktop\\structure_factor\\structure_factor\\gaus_vertex.py:89: RuntimeWarning: invalid value encountered in multiply\n",
      "  C[np.where((index) != 0)] += constant[np.where(index != 0)] \\\n"
     ]
    }
   ],
   "source": [
    "%%time\n",
    "s2_matrix_AA, s2_matrix_AB, s2_matrix_BA, s2_matrix_BB = calc_sf2(poly_mat, dens, N_m, b, k_vec)"
   ]
  },
  {
   "cell_type": "code",
   "execution_count": 71,
   "metadata": {},
   "outputs": [
    {
     "data": {
      "image/png": "[encoded data removed]",
      "text/plain": [
       "<Figure size 720x576 with 1 Axes>"
      ]
     },
     "metadata": {
      "needs_background": "light"
     },
     "output_type": "display_data"
    }
   ],
   "source": [
    "plt.figure(figsize=(10,8))\n",
    "font = {'family' : 'serif',\n",
    "        'weight':'normal',\n",
    "        'size': 18}\n",
    "plt.rc('font', **font)\n",
    "\n",
    "plt.plot(k_vec, s2_tensor_AA, label = \"tensor AA\")\n",
    "plt.plot(k_vec, s2_matrix_AA, label = \"matrix AA\", linestyle = \"--\")\n",
    "\n",
    "plt.plot(k_vec, s2_tensor_AB, label = \"tensor AB\")\n",
    "plt.plot(k_vec, s2_matrix_AB, label = \"matrix AB\", linestyle = \"--\")\n",
    "\n",
    "plt.plot(k_vec, s2_tensor_BA, label = \"tensor BA\")\n",
    "plt.plot(k_vec, s2_matrix_BA, label = \"matrix BA\", linestyle = \"--\")\n",
    "\n",
    "plt.plot(k_vec, s2_tensor_BB, label = \"tensor BB\")\n",
    "plt.plot(k_vec, s2_matrix_BB, label = \"matrix BB\", linestyle = \"--\")\n",
    "\n",
    "\n",
    "\n",
    "plt.xscale('log')\n",
    "plt.yscale('log')\n",
    "\n",
    "plt.title(\"S2 AA, N = \"+str(N))\n",
    "plt.xlabel(r'$K$')\n",
    "plt.ylabel(r'Structure Factor $S_{2}(K;N)$')\n",
    "plt.xlim((1e-2, 1e2))\n",
    "plt.tight_layout()\n",
    "plt.legend()\n",
    "plt.show()"
   ]
  },
  {
   "cell_type": "code",
   "execution_count": null,
   "metadata": {},
   "outputs": [],
   "source": [
    "def calc_monomer_matrix(poly_mat, dens):\n",
    "    # calculates the AA monomer identity cross correlation matrix\n",
    "    # assumes all polymers same length/ # of monomers, equal volume fraction of each\n",
    "    \n",
    "    #polymat - each row is a polymer\n",
    "    #dens is an array where each entry is rel vol frac of correponding polymer\n",
    "    \n",
    "    poly_mat = np.array(poly_mat)\n",
    "    \n",
    "    epsilon = 0.00001\n",
    "    if not ((np.sum(dens) + epsilon > 1) and (np.sum(dens) - epsilon < 1)):\n",
    "        raise Exception(\"polymer volumer fractions do not sum to one\")\n",
    "    if len(np.shape(poly_mat)) == 1: #single poly\n",
    "        n_p = 1\n",
    "        M = len(poly_mat)\n",
    "        alph1 =np.zeros(M)\n",
    "        alph2 =np.zeros(M)\n",
    "        sig1 = 1*(poly_mat == alph1)\n",
    "        sig2 = 1*(poly_mat == alph2)\n",
    "        M2_AA = np.outer(sig1, sig2)\n",
    "        return M2_AA\n",
    "    \n",
    "    n_p = poly_mat.shape[0]\n",
    "    M = poly_mat.shape[1]\n",
    "    alph1 =np.zeros((n_p, M))\n",
    "    alph2 =np.zeros((n_p, M))\n",
    "    \n",
    "    #extend dens into n_pxM matrix\n",
    "    poly_weights = (np.ones((n_p, M)).T * dens).T\n",
    "    \n",
    "    #multiply sigams by density of each polymer\n",
    "    sigma1 = 1*((poly_mat == alph1))#.sum(axis = 0) #sigma. could multiply each\n",
    "    sigma2 = 1*((poly_mat == alph2))#.sum(axis = 0)\n",
    "\n",
    "    #need to do each row outer product with corresponding row, get n_p MxM matrices, then sum the results\n",
    "    prods = np.einsum('bi,bo->bio', sigma1*poly_weights, sigma2) # performing row wise cross product (each poly contribution)\n",
    "    M2_AA = np.sum(prods, axis = 0)#           ^^^^ averaging each contribution\n",
    "    return M2_AA\n",
    "\n",
    "\n",
    "def calc_sf2(poly_mat, dens, N_m=1, b=1, k_vec = np.logspace(-2, 2, 50)):\n",
    "    M2_AA = calc_monomer_matrix(poly_mat, dens)\n",
    "    M = np.shape(M2_AA)[0]\n",
    "    nk = len(k_vec)\n",
    "    N = M*N_m\n",
    "\n",
    "    grid = np.indices((M, M))\n",
    "    j1 = grid[0]\n",
    "    j2 = grid[1]\n",
    "    \n",
    "    S2_AA_arr = np.zeros(nk)\n",
    "    S2_AB_arr = np.zeros(nk)\n",
    "    S2_BA_arr = np.zeros(nk)\n",
    "    S2_BB_arr = np.zeros(nk)\n",
    "    \n",
    "    M2_AB = M2_AA[j1, j1] - M2_AA\n",
    "    M2_BA = M2_AA[j2, j2] - M2_AA\n",
    "    M2_BB = 1 - M2_AA[j1, j1] - M2_AA[j2, j2] + M2_AA[j1, j2]\n",
    "#     print(M2_AA)\n",
    "    \n",
    "    for i, k in enumerate(k_vec):\n",
    "        C = np.zeros((M, M))\n",
    "        k = np.linalg.norm(k)\n",
    "        x_m = (1/6) * N_m * b**2 * k**2\n",
    "\n",
    "        #j1 = j2, s1 > s2\n",
    "        index = (j1 == j2)\n",
    "        constant = 1\n",
    "        debye = (2/(x_m**2)) * (x_m + np.exp(-x_m) - 1) \n",
    "        \n",
    "        C[np.where((index) != 0)] += debye\n",
    "        \n",
    "        #j1 > j2, s1 s2 any\n",
    "        index = (j1 > j2)\n",
    "        constant = np.exp(-x_m*(j1-j2))\n",
    "        integral = (1/(x_m**2)) * (np.exp(x_m) + np.exp(-x_m) - 2) #for off-diagonal terms\n",
    "\n",
    "        C[np.where((index) != 0)] += constant[np.where(index != 0)] \\\n",
    "                                    * integral\n",
    "        \n",
    "        #j2 > j1, s1 s2 any\n",
    "        index = (j2 > j1)\n",
    "        constant = np.exp(-x_m*(j2-j1))\n",
    "#         integral is the same\n",
    "\n",
    "        C[np.where((index) != 0)] += constant[np.where(index != 0)] \\\n",
    "                                    * integral   \n",
    "#         print(C/M**2)\n",
    "        S2_AA_arr[i] = np.sum((1/M**2) * C * M2_AA)\n",
    "        S2_AB_arr[i] = np.sum((1/M**2) * C * M2_AB)\n",
    "        S2_BA_arr[i] = np.sum((1/M**2) * C * M2_BA)\n",
    "        S2_BB_arr[i] = np.sum((1/M**2) * C * M2_BB)\n",
    "#         print(C)\n",
    "    return S2_AA_arr*N**2, S2_AB_arr*N**2, S2_BA_arr*N**2, S2_BB_arr*N**2\n"
   ]
  },
  {
   "cell_type": "code",
   "execution_count": null,
   "metadata": {},
   "outputs": [],
   "source": [
    "#generate cross correlation rank 1 tensor, DEL\n",
    "\n",
    "# find each pair del apart\n",
    "#of those, which fraction has coorect connectivity according to alpha values\n",
    "# this fraction is the value of the tensor at DEL\n",
    "\n",
    "# get monodisperse first, then deal with mix, length polydispersity"
   ]
  },
  {
   "cell_type": "code",
   "execution_count": null,
   "metadata": {},
   "outputs": [],
   "source": [
    "# option 1; O n**2\n",
    "# poly = [0]*50 + [1]*50\n",
    "# N_m = 100\n",
    "\n",
    "poly = [0,1]\n",
    "N_m = 2\n",
    "\n",
    "ind = np.arange(0, N_m, 1)\n",
    "points = np.array(np.meshgrid(poly, poly)).T.reshape(-1, 2)\n",
    "ind_mesh = np.array(np.meshgrid(ind, ind)).T.reshape(-1, 2)\n",
    "dist = abs(ind_mesh[:,0] - ind_mesh[:, 1])\n",
    "points"
   ]
  },
  {
   "cell_type": "code",
   "execution_count": null,
   "metadata": {},
   "outputs": [],
   "source": [
    "dist"
   ]
  },
  {
   "cell_type": "code",
   "execution_count": null,
   "metadata": {},
   "outputs": [],
   "source": [
    "#find all points DIST appart, of type alpha1, alpha2\n",
    "DIST = 1\n",
    "\n",
    "alpha1 = 0\n",
    "alpha2 = 1\n",
    "alphas = np.array([alpha1,alpha2])\n",
    "\n",
    "points_at_DIST = points[np.where(dist==DIST)] #find all points DIST away\n",
    "comp_arr = (points_at_DIST == alphas) #compare first column to alpha1, second column to alpha 2\n",
    "sig12 = comp_arr[:,0] * comp_arr[:,1] #find points where both alphas are correct\n",
    "pnts_DIST_sig = points_at_DIST[sig12]"
   ]
  },
  {
   "cell_type": "code",
   "execution_count": null,
   "metadata": {},
   "outputs": [],
   "source": [
    "len(pnts_DIST_sig)/len(points_at_DIST)"
   ]
  },
  {
   "cell_type": "code",
   "execution_count": null,
   "metadata": {},
   "outputs": [],
   "source": [
    "corr_arr"
   ]
  },
  {
   "cell_type": "code",
   "execution_count": null,
   "metadata": {},
   "outputs": [],
   "source": [
    "# option 2 not functional but faster\n",
    "# Function to perform merge sort\n",
    "# Time Complexity : O(N logN) (np.meshgri : O(N**2))\n",
    "# Space Complexity : O(N) + O(Number Of Pairs)\n",
    "def getPairsMerge(arr, l, r, mid, p, index):\n",
    "    b = [0 for _ in range(l + r + 1)]\n",
    "    i=l\n",
    "    k=l\n",
    "    j=mid+1;\n",
    "    while(i<=mid and j<=r):\n",
    "        d_ij = abs(index[i]-index[j]) #distance bw i and j\n",
    "        if(arr[i]>arr[j]):\n",
    "            b[k]=arr[j];\n",
    "            p.append([np.array([arr[i],arr[j]]), d_ij]);\n",
    "            p.append([np.array([arr[j],arr[i]]), d_ij]);\n",
    "            p.append([np.array([arr[j],arr[j]]), 0]);\n",
    "            k+= 1;\n",
    "            j+= 1;\n",
    "         \n",
    "        else:\n",
    "            p.append([np.array([arr[i],arr[j]]), d_ij]);\n",
    "            p.append([np.array([arr[j],arr[i]]), d_ij]);\n",
    "            p.append([np.array([arr[i],arr[i]]), 0]);\n",
    "            b[k]=arr[i];\n",
    "            i+= 1;\n",
    "            k+= 1;\n",
    "         \n",
    "     \n",
    "    while(i<=mid):\n",
    "        b[k]=arr[i];\n",
    "        p.append([np.array([arr[i],arr[i]]), 0]);\n",
    "        i+= 1;\n",
    "        k+= 1;\n",
    "     \n",
    "    while(j<=r):\n",
    "        b[k]=arr[j];\n",
    "        p.append([np.array([arr[j],arr[j]]), 0]);\n",
    "        j+= 1;\n",
    "        k+= 1;\n",
    "     \n",
    "    for x in range(l, r + 1):\n",
    "        arr[x]=b[x];\n",
    "     \n",
    " \n",
    " \n",
    "# Function to get all pairs\n",
    "def getAllPairs(arr, l, r, p, index):\n",
    " \n",
    "    if(l<r):\n",
    "#         mid=int((l+r)/2);\n",
    "#         getAllPairs(arr,l,mid,p, index[:mid+1]);\n",
    "#         getAllPairs(arr,mid+1,r,p, index[mid+1:]);\n",
    "#         getPairsMerge(arr,l,r,mid,p, index)\n",
    "        mid=int((l+r)/2);\n",
    "        getAllPairs(arr,l,mid,p, index);\n",
    "        getAllPairs(arr,mid+1,r,p, index);\n",
    "        getPairsMerge(arr,l,r,mid,p, index);\n",
    " \n",
    "\n"
   ]
  },
  {
   "cell_type": "code",
   "execution_count": null,
   "metadata": {},
   "outputs": [],
   "source": [
    "# Driver code\n",
    " \n",
    "n=4;\n",
    "arr = [0 for _ in range(n)]\n",
    "arr[0] = 1\n",
    "arr[1] = 2\n",
    "arr[2] = 3\n",
    "arr[3] = 4\n",
    "p = []\n",
    "getAllPairs(arr,0,n-1,p, np.arange(0,n, 1))\n",
    "# Displaying the sorted pairs\n",
    "for it in p:\n",
    "    print(it[0], it[1])"
   ]
  },
  {
   "cell_type": "code",
   "execution_count": null,
   "metadata": {},
   "outputs": [],
   "source": [
    "parr = np.array(p)\n",
    "parr[:,0]"
   ]
  },
  {
   "cell_type": "code",
   "execution_count": null,
   "metadata": {},
   "outputs": [],
   "source": [
    "parr[:,1]"
   ]
  },
  {
   "cell_type": "code",
   "execution_count": null,
   "metadata": {},
   "outputs": [],
   "source": [
    "np.where(parr[:, 0] == np.array([1,1]))"
   ]
  },
  {
   "cell_type": "code",
   "execution_count": null,
   "metadata": {},
   "outputs": [],
   "source": []
  }
 ],
 "metadata": {
  "kernelspec": {
   "display_name": "Python 3",
   "language": "python",
   "name": "python3"
  },
  "language_info": {
   "codemirror_mode": {
    "name": "ipython",
    "version": 3
   },
   "file_extension": ".py",
   "mimetype": "text/x-python",
   "name": "python",
   "nbconvert_exporter": "python",
   "pygments_lexer": "ipython3",
   "version": "3.8.5"
  }
 },
 "nbformat": 4,
 "nbformat_minor": 4
}
