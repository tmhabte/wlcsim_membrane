{
 "cells": [
  {
   "cell_type": "code",
   "execution_count": 1,
   "id": "feba0b7d-a2cf-4941-b4e9-3864e9bff003",
   "metadata": {},
   "outputs": [],
   "source": [
    "import sys\n",
    "# sys.path.append(\"./subroutines\")\n",
    "sys.path.append(\"./Vertex/subroutines\")\n",
    "\n",
    "from GAMcalc import *  # Code for calculating vertex functions\n",
    "import propagator  # propagator object used to store pre-calculated values\n",
    "import wignerD as wd # wigner D object used to store pre-calculated values\n",
    "\n",
    "pset=propagator.prop_set(nlam=10) \n",
    "wigset = wd.wigner_d_vals()"
   ]
  },
  {
   "cell_type": "code",
   "execution_count": 2,
   "id": "63971640-a494-4001-a83d-3623bf3f2344",
   "metadata": {},
   "outputs": [],
   "source": [
    "# import PABS_vertex_calc as PABS\n",
    "import AB_vertex_calc as bd"
   ]
  },
  {
   "cell_type": "code",
   "execution_count": 3,
   "id": "10675f27-f9cb-4769-9010-6cb145a55184",
   "metadata": {},
   "outputs": [],
   "source": [
    "# ID = 10001.04006\n",
    "\n",
    "# looping = \"full mark dens comp alt f_bind,\"\n",
    "\n",
    "# settings = np.load(r\"C:\\Users\\tmhab\\wlcsim_membrane\\binder_diblock\\ID=%s_settings.npy\" % (ID), allow_pickle = True)\n",
    "\n",
    "# [chrom, [klog_min, klog_max, klog_num]] = settings\n",
    "\n",
    "# [n_bind, v_int, Vol_int, e_m, rho_c, rho_s, poly_marks, M, mu_max, mu_min, del_mu, alpha, N, N_m, b] = chrom\n",
    "\n",
    "# [pa_vec, marks_2] = poly_marks\n",
    "\n",
    "# mu1_array = np.arange(mu_min, mu_max, del_mu)\n",
    "# mu2_array = np.arange(mu_min, mu_max, del_mu)\n",
    "\n",
    "# k_vec = np.logspace(klog_min-1, klog_max, klog_num) / b\n",
    "# nk = klog_num\n",
    "\n",
    "# # s2_mats = np.load(r\"C:\\Users\\tmhab\\wlcsim_membrane\\binder_diblock\\ID=%s_chrom_s2_mats_v_int=[[%s,%s],[%s,%s]],diblock,mu_max=%s.npy\"\\\n",
    "# #                  % (ID, v_int[0,0], v_int[0,1], v_int[1,0], v_int[1,1], mu_max), allow_pickle = True)\n",
    "\n",
    "# s_bind_A_arr = np.load(r\"ID=%s_s_bind_A.npy\" % ID, allow_pickle=True)\n",
    "# s_bind_B_arr = np.load(r\"ID=%s_s_bind_B.npy\" % ID, allow_pickle=True)\n",
    "\n",
    "# spacing = int(1 / del_mu)"
   ]
  },
  {
   "cell_type": "code",
   "execution_count": 4,
   "id": "732d116e-b1a4-4f9d-9bbe-d9b0149b9ed2",
   "metadata": {},
   "outputs": [
    {
     "name": "stdout",
     "output_type": "stream",
     "text": [
      "rho_p (# / nm^3):  3.0100000000000006e-09\n",
      "rho_s (# / nm^3):  63.99999980736\n",
      "M:  50\n",
      "N:  50000\n",
      "b:  1\n",
      "mu1 array: [-5.  -4.5 -4.  -3.5 -3.  -2.5 -2.  -1.5 -1.  -0.5]\n",
      "v_int:  [[-4  4]\n",
      " [ 4 -4]]\n",
      "k_vec array: [0.00316228 0.00356225 0.00401281 0.00452035 0.0050921  0.00573615\n",
      " 0.00646167 0.00727895 0.00819961 0.00923671 0.01040498 0.01172102\n",
      " 0.01320352 0.01487352 0.01675475 0.01887392 0.02126112 0.02395027\n",
      " 0.02697954 0.03039195 0.03423598 0.0385662  0.04344412 0.04893901\n",
      " 0.0551289  0.06210169 0.06995642 0.07880463 0.08877197 0.1       ]\n"
     ]
    }
   ],
   "source": [
    "ID = 23457.04\n",
    "\n",
    "# looping = \"full mark dens comp alt f_bind,\"\n",
    "\n",
    "settings = np.load(r\"C:\\Users\\tmhab\\wlcsim_membrane\\binder_diblock\\ID=%s_settings.npy\" % (ID), allow_pickle = True)\n",
    "\n",
    "[chrom, [klog_min, klog_max, klog_num]] = settings\n",
    "\n",
    "# [n_bind, v_int, Vol_int, e_m, rho_c, rho_s, poly_marks, M, mu_max, mu_min, del_mu, f_om, N, N_m, b] = chrom\n",
    "[n_bind, v_int, Vol_int, e_m, rho_p, rho_s, poly_marks, M, mu_max, mu_min, del_mu, alpha, N, N_m, b] = chrom\n",
    "\n",
    "[pa_vec, marks_2] = poly_marks\n",
    "\n",
    "mu1_array = np.arange(mu_min, mu_max, del_mu)\n",
    "mu2_array = np.arange(mu_min, mu_max, del_mu)\n",
    "\n",
    "k_vec = np.logspace(klog_min, klog_max, klog_num) / b\n",
    "  \n",
    "# s2_mats = np.load(r\"C:\\Users\\tmhab\\wlcsim_membrane\\binder_diblock\\ID=%s_chrom_s2_mats_v_int=[[%s,%s],[%s,%s]],diblock,mu_max=%s.npy\"\\\n",
    "#                  % (ID, v_int[0,0], v_int[0,1], v_int[1,0], v_int[1,1], mu_max), allow_pickle = True)\n",
    "\n",
    "s_bind_A_arr = np.load(r\"ID=%s_s_bind_A.npy\" % ID, allow_pickle=True)\n",
    "s_bind_B_arr = np.load(r\"ID=%s_s_bind_B.npy\" % ID, allow_pickle=True)\n",
    "spacing = int(1 / del_mu)\n",
    "\n",
    "\n",
    "print(\"rho_p (# / nm^3): \", rho_p)\n",
    "print(\"rho_s (# / nm^3): \", alpha * rho_p/ M)\n",
    "print(\"M: \", M)\n",
    "print(\"N: \", N)\n",
    "print(\"b: \", b)\n",
    "\n",
    "print(\"mu1 array:\", mu1_array)\n",
    "print(\"v_int: \", v_int)\n",
    "\n",
    "print(\"k_vec array:\", k_vec)"
   ]
  },
  {
   "cell_type": "code",
   "execution_count": 5,
   "id": "94fa2b6f-6107-45d5-9ce3-7b6d05d438e6",
   "metadata": {},
   "outputs": [],
   "source": [
    "q_star = 0.3\n",
    "lam_q = q_star*np.array([1, 0, 0])\n",
    "Ks = np.array([lam_q, -lam_q, lam_q, -lam_q])\n",
    "bind_A = np.zeros(len(poly_marks[0]))\n",
    "bind_A[0:len(bind_A)//2] = 1\n",
    "bind_B = 1-bind_A\n",
    "\n",
    "s_bnd_A = bind_A\n",
    "s_bnd_B = bind_B\n",
    "\n",
    "FA = 0.5"
   ]
  },
  {
   "cell_type": "code",
   "execution_count": 6,
   "id": "7fc23c02-13db-4869-a772-7e1d07d07067",
   "metadata": {},
   "outputs": [],
   "source": [
    "# np.arange(4*4*4).reshape((4,4,4))"
   ]
  },
  {
   "cell_type": "code",
   "execution_count": 7,
   "id": "549705f0-d35b-4814-b8ac-5779ab48a5d0",
   "metadata": {},
   "outputs": [],
   "source": [
    "# s3_old = np.arange(4*4*4).reshape((4,4,4))\n",
    "# s3_old[1:3,1:3,1:3]"
   ]
  },
  {
   "cell_type": "markdown",
   "id": "50162c40-6905-4468-a6be-121d0b2b0c41",
   "metadata": {},
   "source": [
    "# gamma4"
   ]
  },
  {
   "cell_type": "code",
   "execution_count": 8,
   "id": "9ac9914d-f44c-475f-ab63-5e7d744f9d2b",
   "metadata": {},
   "outputs": [
    {
     "name": "stderr",
     "output_type": "stream",
     "text": [
      "C:\\Users\\tmhab\\wlcsim_membrane\\binder_diblock\\./Vertex/subroutines\\MultiPoint.py:206: RuntimeWarning: invalid value encountered in scalar divide\n",
      "  if abs(out/(sum2+tol))<tol and l2>max(lam0_2,lam_2):\n",
      "C:\\Users\\tmhab\\wlcsim_membrane\\binder_diblock\\./Vertex/subroutines\\MultiPoint.py:209: RuntimeWarning: invalid value encountered in scalar divide\n",
      "  if abs(sum2/(sum1+tol))<tol and l1>max(lam0_1,lam_1):\n"
     ]
    },
    {
     "name": "stdout",
     "output_type": "stream",
     "text": [
      "Sfs:\n",
      "S4: [[[[2.20898930e+13+5.38346924e-03j 2.94379138e+10-1.72852955e-01j]\n",
      "   [2.94379138e+10-1.72852955e-01j 1.10964938e+13+2.71063005e-03j]]\n",
      "\n",
      "  [[2.94379138e+10-1.72852955e-01j 4.74091447e+06+2.32237829e-09j]\n",
      "   [1.10964938e+13+2.71063005e-03j 2.94379138e+10-1.72852955e-01j]]]\n",
      "\n",
      "\n",
      " [[[2.94379138e+10-1.72852955e-01j 1.10964938e+13+2.71063005e-03j]\n",
      "   [4.74091447e+06+2.32237829e-09j 2.94379138e+10-1.72852955e-01j]]\n",
      "\n",
      "  [[1.10964938e+13+2.71063005e-03j 2.94379138e+10-1.72852955e-01j]\n",
      "   [2.94379138e+10-1.72852955e-01j 2.20898930e+13+5.38346924e-03j]]]]\n",
      "s3s:\n",
      "s31: [[[8.32785003e+10+1.01715555e-05j 8.32785003e+10+1.01715555e-05j]\n",
      "  [1.10723079e+08+2.71193328e-08j 1.10723079e+08+2.71193328e-08j]]\n",
      "\n",
      " [[1.10723079e+08+2.71193328e-08j 1.10723079e+08+2.71193328e-08j]\n",
      "  [8.32785003e+10+1.01715555e-05j 8.32785003e+10+1.01715555e-05j]]]\n",
      "s32: [[[3.33780260e+08+6.80733426e-08j 3.60368566e+04+3.45797113e-06j]\n",
      "  [3.71373333e+05-1.72884251e-06j 3.71373333e+05-1.72884251e-06j]]\n",
      "\n",
      " [[3.71373333e+05-1.72884251e-06j 3.71373333e+05-1.72884251e-06j]\n",
      "  [3.60368566e+04+3.45797113e-06j 3.33780260e+08+6.80733426e-08j]]]\n",
      "s32: [[[8.32785003e+10+1.01715555e-05j 8.32785003e+10+1.01715555e-05j]\n",
      "  [1.10723079e+08+2.71193328e-08j 1.10723079e+08+2.71193328e-08j]]\n",
      "\n",
      " [[1.10723079e+08+2.71193328e-08j 1.10723079e+08+2.71193328e-08j]\n",
      "  [8.32785003e+10+1.01715555e-05j 8.32785003e+10+1.01715555e-05j]]]\n",
      "s2s:\n",
      "s2inv: [[ 3.00198060e-07-3.66657706e-23j -3.99128866e-10-2.60122919e-28j]\n",
      " [-3.99128866e-10-2.60122919e-28j  3.00198060e-07-3.66657706e-23j]]\n",
      "s21inv: [[4.e-10+0.j 4.e-10+0.j]\n",
      " [4.e-10+0.j 4.e-10+0.j]]\n",
      "s22inv: [[ 1.19126539e-06-1.45792693e-22j -3.88727809e-10-6.21476109e-29j]\n",
      " [-3.88727809e-10-6.21476109e-29j  1.19126539e-06-1.45792693e-22j]]\n",
      "s23inv: [[4.e-10+0.j 4.e-10+0.j]\n",
      " [4.e-10+0.j 4.e-10+0.j]]\n"
     ]
    }
   ],
   "source": [
    "G4_quinn = gamma4(pset, wigset, N, FA, Ks)"
   ]
  },
  {
   "cell_type": "code",
   "execution_count": 9,
   "id": "d486aa26-6298-417e-b6c6-b55074defc46",
   "metadata": {},
   "outputs": [
    {
     "data": {
      "text/plain": [
       "(0.4796888144292784-1.400260454643772e-12j)"
      ]
     },
     "execution_count": 9,
     "metadata": {},
     "output_type": "execute_result"
    }
   ],
   "source": [
    "G4_quinn"
   ]
  },
  {
   "cell_type": "code",
   "execution_count": 10,
   "id": "4fc93da7-7afd-467d-ae91-a36d092c5dc7",
   "metadata": {},
   "outputs": [
    {
     "name": "stderr",
     "output_type": "stream",
     "text": [
      "C:\\Users\\tmhab\\wlcsim_membrane\\binder_diblock\\PABS_corr_calc.py:495: RuntimeWarning: overflow encountered in exp\n",
      "  constant = np.exp(-xm_A*(jmax - jupp)- xm_B*(jupp - jlow) - xm_C*(jlow - jmin))\n",
      "C:\\Users\\tmhab\\wlcsim_membrane\\binder_diblock\\PABS_corr_calc.py:405: RuntimeWarning: overflow encountered in exp\n",
      "  constant = np.exp(-xm_A*(jmax - jmid)) * np.exp(-xm_B*(jmid - jmin))\n",
      "C:\\Users\\tmhab\\wlcsim_membrane\\binder_diblock\\PABS_corr_calc.py:405: RuntimeWarning: overflow encountered in multiply\n",
      "  constant = np.exp(-xm_A*(jmax - jmid)) * np.exp(-xm_B*(jmid - jmin))\n",
      "C:\\Users\\tmhab\\wlcsim_membrane\\binder_diblock\\PABS_corr_calc.py:405: RuntimeWarning: invalid value encountered in multiply\n",
      "  constant = np.exp(-xm_A*(jmax - jmid)) * np.exp(-xm_B*(jmid - jmin))\n"
     ]
    },
    {
     "name": "stdout",
     "output_type": "stream",
     "text": [
      "Sfs:\n",
      "S4: [[[[2.20008593e+13 2.94814815e+10]\n",
      "   [2.94814815e+10 1.10519309e+13]]\n",
      "\n",
      "  [[2.94814815e+10 4.93827160e+06]\n",
      "   [1.10519309e+13 2.94814815e+10]]]\n",
      "\n",
      "\n",
      " [[[2.94814815e+10 1.10519309e+13]\n",
      "   [4.93827160e+06 2.94814815e+10]]\n",
      "\n",
      "  [[1.10519309e+13 2.94814815e+10]\n",
      "   [2.94814815e+10 2.20008593e+13]]]]\n",
      "s3s:\n",
      "s31: [[[8.31111111e+10 8.31111111e+10]\n",
      "  [1.11111111e+08 1.11111111e+08]]\n",
      "\n",
      " [[1.11111111e+08 1.11111111e+08]\n",
      "  [8.31111111e+10 8.31111111e+10]]]\n",
      "s32: [[[3.30888889e+08 3.70370370e+04]\n",
      "  [3.70370370e+05 3.70370370e+05]]\n",
      "\n",
      " [[3.70370370e+05 3.70370370e+05]\n",
      "  [1.51062874e-02 3.30888889e+08]]]\n",
      "s33: [[[8.31111111e+10 8.31111111e+10]\n",
      "  [1.11111111e+08 1.11111111e+08]]\n",
      "\n",
      " [[1.11111111e+08 1.11111111e+08]\n",
      "  [8.31111111e+10 8.31111111e+10]]]\n",
      "s2s:\n",
      "s2inv: [[ 3.00802677e-07 -4.02142616e-10]\n",
      " [-4.02142616e-10  3.00802677e-07]]\n",
      "s21inv: [[4.e-10+0.j 4.e-10+0.j]\n",
      " [4.e-10+0.j 4.e-10+0.j]]\n",
      "s22inv: [[ 1.20080067e-06 -4.00533912e-10]\n",
      " [-4.00533912e-10  1.20080067e-06]]\n",
      "s23inv: [[4.e-10+0.j 4.e-10+0.j]\n",
      " [4.e-10+0.j 4.e-10+0.j]]\n"
     ]
    }
   ],
   "source": [
    "G4_thomas = bd.gamma4(chrom, s_bnd_A, s_bnd_B, np.array([lam_q, -lam_q, lam_q, -lam_q]))"
   ]
  },
  {
   "cell_type": "code",
   "execution_count": 11,
   "id": "3088e42e-1a04-45a7-92ba-f0cd12d6b3e7",
   "metadata": {},
   "outputs": [
    {
     "data": {
      "text/plain": [
       "50000"
      ]
     },
     "execution_count": 11,
     "metadata": {},
     "output_type": "execute_result"
    }
   ],
   "source": [
    "N"
   ]
  },
  {
   "cell_type": "code",
   "execution_count": 12,
   "id": "494a95a9-85ca-466b-8e66-e5b9f6d9e866",
   "metadata": {},
   "outputs": [
    {
     "data": {
      "text/plain": [
       "(0.48079945164301446+0j)"
      ]
     },
     "execution_count": 12,
     "metadata": {},
     "output_type": "execute_result"
    }
   ],
   "source": [
    "-G4_thomas*N**3"
   ]
  },
  {
   "cell_type": "code",
   "execution_count": 13,
   "id": "b68d6281-304d-4128-8172-a6877bc0dfe0",
   "metadata": {
    "scrolled": true
   },
   "outputs": [
    {
     "data": {
      "text/plain": [
       "(0.4796888144292784-1.400260454643772e-12j)"
      ]
     },
     "execution_count": 13,
     "metadata": {},
     "output_type": "execute_result"
    }
   ],
   "source": [
    "G4_quinn"
   ]
  },
  {
   "cell_type": "markdown",
   "id": "93d9e68c-bb4f-4de5-9348-1f23a118ea59",
   "metadata": {},
   "source": [
    "# gamma 2"
   ]
  },
  {
   "cell_type": "code",
   "execution_count": 14,
   "id": "bf953752-8b36-49a0-bac7-bd21a168045e",
   "metadata": {},
   "outputs": [],
   "source": [
    "CHI = 10"
   ]
  },
  {
   "cell_type": "code",
   "execution_count": 15,
   "id": "43249f85-67b3-4241-ad9e-31267a615a05",
   "metadata": {},
   "outputs": [],
   "source": [
    "G2_quinn = gamma2(pset, N, FA, [0.3], CHI)"
   ]
  },
  {
   "cell_type": "code",
   "execution_count": 16,
   "id": "4763f3da-c18e-4acd-a04f-dbd3b9c0c289",
   "metadata": {},
   "outputs": [
    {
     "name": "stdout",
     "output_type": "stream",
     "text": [
      "chi divided by N\n"
     ]
    }
   ],
   "source": [
    "G2_thomas = bd.gamma2(chrom, s_bnd_A, s_bnd_B, lam_q, CHI)"
   ]
  },
  {
   "cell_type": "code",
   "execution_count": 17,
   "id": "718ddd54-a4b5-4e47-b8fe-60658fb8f1ab",
   "metadata": {},
   "outputs": [
    {
     "data": {
      "text/plain": [
       "array([[-19.96987952]])"
      ]
     },
     "execution_count": 17,
     "metadata": {},
     "output_type": "execute_result"
    }
   ],
   "source": [
    "G2_thomas*N"
   ]
  },
  {
   "cell_type": "code",
   "execution_count": 18,
   "id": "cb9086de-3bf3-486e-8793-8c83efd82c9d",
   "metadata": {},
   "outputs": [
    {
     "data": {
      "text/plain": [
       "(-19.969940281155488-3.666551045619528e-18j)"
      ]
     },
     "execution_count": 18,
     "metadata": {},
     "output_type": "execute_result"
    }
   ],
   "source": [
    "G2_quinn"
   ]
  },
  {
   "cell_type": "code",
   "execution_count": null,
   "id": "47016cb6-fccf-4174-a368-c875580efb75",
   "metadata": {},
   "outputs": [],
   "source": []
  },
  {
   "cell_type": "markdown",
   "id": "cae0784c-89c1-46cc-8813-5d0658cac24d",
   "metadata": {},
   "source": [
    "# lam free E"
   ]
  },
  {
   "cell_type": "code",
   "execution_count": 20,
   "id": "83f0ffbc-3bea-42ec-a2a5-74ab21e41512",
   "metadata": {},
   "outputs": [
    {
     "data": {
      "text/plain": [
       "array([-831.36921862-2.42685147e-09j])"
      ]
     },
     "execution_count": 20,
     "metadata": {},
     "output_type": "execute_result"
    }
   ],
   "source": [
    "amp_l_quinn = optimize.fmin(lambda amps: np.real(amps**2 * G2_quinn + amps**4 * (1/24) * (6) * (1) * G4_quinn), \\\n",
    "                      1, disp=False)\n",
    "\n",
    "lamF_quinn = amp_l_quinn**2 * G2_quinn + amp_l_quinn**4 *  (1/24) * (6) * (1) *G4_quinn \n",
    "lamF_quinn"
   ]
  },
  {
   "cell_type": "code",
   "execution_count": 48,
   "id": "a8d1827a-2f4f-4b0d-b72c-b8aacf49015f",
   "metadata": {},
   "outputs": [
    {
     "data": {
      "text/plain": [
       "array([9.12480469])"
      ]
     },
     "execution_count": 48,
     "metadata": {},
     "output_type": "execute_result"
    }
   ],
   "source": [
    "amp_l_quinn"
   ]
  },
  {
   "cell_type": "code",
   "execution_count": 21,
   "id": "580fd061-05d0-4eaa-8d52-9bc04fdf3bb7",
   "metadata": {},
   "outputs": [
    {
     "data": {
      "text/plain": [
       "array([[-41472186.23102992+0.j]])"
      ]
     },
     "execution_count": 21,
     "metadata": {},
     "output_type": "execute_result"
    }
   ],
   "source": [
    "amp_l_thomas = optimize.fmin(lambda amps: np.real(amps**2 * G2_thomas - amps**4 * (1/24) * (6) * (1) * G4_thomas), \\\n",
    "                      1, disp=False)\n",
    "\n",
    "lamF_thomas = amp_l_thomas**2 * G2_thomas - amp_l_thomas**4 *  (1/24) * (6) * (1) *G4_thomas \n",
    "lamF_thomas"
   ]
  },
  {
   "cell_type": "code",
   "execution_count": 22,
   "id": "c012b5dc-704d-4759-add1-5c45d926ac45",
   "metadata": {},
   "outputs": [
    {
     "data": {
      "text/plain": [
       "array([455712.2921875])"
      ]
     },
     "execution_count": 22,
     "metadata": {},
     "output_type": "execute_result"
    }
   ],
   "source": [
    "amp_l_thomas"
   ]
  },
  {
   "cell_type": "code",
   "execution_count": 23,
   "id": "4670d79d-b223-485f-b4c3-d65a5c603201",
   "metadata": {},
   "outputs": [],
   "source": [
    "# CONCLUSION:\n",
    "# it is key to have chi/N term in gamma2 in order to get finite negative free energy\n",
    "# also key to make my gamma 4 negative"
   ]
  }
 ],
 "metadata": {
  "kernelspec": {
   "display_name": "Python 3 (ipykernel)",
   "language": "python",
   "name": "python3"
  },
  "language_info": {
   "codemirror_mode": {
    "name": "ipython",
    "version": 3
   },
   "file_extension": ".py",
   "mimetype": "text/x-python",
   "name": "python",
   "nbconvert_exporter": "python",
   "pygments_lexer": "ipython3",
   "version": "3.10.14"
  }
 },
 "nbformat": 4,
 "nbformat_minor": 5
}
