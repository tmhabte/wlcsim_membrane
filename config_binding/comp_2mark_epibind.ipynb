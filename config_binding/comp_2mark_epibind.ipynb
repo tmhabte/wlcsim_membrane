{
 "cells": [
  {
   "cell_type": "code",
   "execution_count": 3,
   "metadata": {},
   "outputs": [],
   "source": [
    "import numpy as np\n",
    "import sys\n",
    "import pandas as pd\n",
    "sys.path.append('../')\n",
    "import matplotlib.pyplot as plt\n",
    "from scipy import signal\n",
    "\n",
    "from ALT_F_BIND_chromo_vertex_nuclear_competitive_2_density import eval_f_bind_competitive_2, eval_f_bind_competitive_arr_2"
   ]
  },
  {
   "cell_type": "code",
   "execution_count": 5,
   "metadata": {},
   "outputs": [],
   "source": [
    "def calc_s_bind_comp(ws, mus, f_binds):\n",
    "    f_bind_10, f_bind_01, f_bind_20, f_bind_02, f_bind_11 = f_binds\n",
    "    mu_1, mu_2 = mus\n",
    "    sigma1, sigma2 = sigmas\n",
    "    w1, w2 = ws\n",
    "\n",
    "    # boltzmann probability of each binding state [s_HP1, s_PRC1]\n",
    "    p_00 = 1\n",
    "    p_10 = np.exp(-f_bind_10 + mu_1*1 - w_1*1) \n",
    "    p_01 = np.exp(-f_bind_01 + mu_2*1 - w_2*1)\n",
    "    p_20 = np.exp(-f_bind_20 + mu_1*2 - w_1*2)\n",
    "    p_02 = np.exp(-f_bind_02 + mu_2*2 - w_2*2)\n",
    "    p_11 = np.exp(-f_bind_10 + mu_1*1 - w_1*1  - f_bind_01 + mu_2*1 - w_2*1)\n",
    "    \n",
    "    q_bind = p_00 + p_01 + p_10 + p_02 + p_20 + p_11 #1. + np.exp(-eps * sigma + mu - w)\n",
    "    s_bind1 = (1*p_10 + 2*p_20 + 1*p_11) / q_bind #(f_bind_20 + mu_1 - w_1) + 1*(f_bind_11 + mu_1 - w_1 + mu_2 - w_2) / q_bind\n",
    "    s_bind2 = (1*p_01 + 2*p_02 + 1*p_11) / q_bind #np.exp(1*(f_bind_01 + mu_2 - w_2) + 2*(f_bind_02 + mu_2 - w_2) + 1(*f_bind_11 + mu_1 - w_1 + mu_2 - w_2) / q_bind\n",
    "\n",
    "    s_binds = [s_bind1, s_bind2]\n",
    "    return s_binds"
   ]
  },
  {
   "cell_type": "code",
   "execution_count": 7,
   "metadata": {},
   "outputs": [],
   "source": [
    "# x: genomic distance\n",
    "#a = 2.6065\n",
    "# a = 2.6075, mu = -4.8, v_int = -2 : get bridging\n",
    "def calc_p_loop(x, a = 2.6075):\n",
    "    \n",
    "    p_loop = a / np.abs(x) ** (1.5)\n",
    "    \n",
    "    return p_loop"
   ]
  },
  {
   "cell_type": "code",
   "execution_count": 9,
   "metadata": {},
   "outputs": [
    {
     "name": "stdout",
     "output_type": "stream",
     "text": [
      "CPU times: total: 1.5 s\n",
      "Wall time: 3.23 s\n"
     ]
    }
   ],
   "source": [
    "%%time\n",
    "# 2 marks competitive, no for loop\n",
    "\n",
    "n_nuc = 100000\n",
    "n_iter = 70\n",
    "\n",
    "w_1 = np.zeros(n_nuc)\n",
    "w_2 = np.zeros(n_nuc)\n",
    "ws = [w_1, w_2]\n",
    "\n",
    "# mus = [-4.8,-4.8]\n",
    "mus = [-4.8,-10]\n",
    "# eps = -2\n",
    "# j = -2\n",
    "\n",
    "sigma_1 = np.random.randint(1, size = n_nuc)\n",
    "sigma_1[20:40] = 2\n",
    "sigma_1[60:80] = 2\n",
    "\n",
    "sigma_2 = np.random.randint(1, size = n_nuc)\n",
    "sigma_2[40:60] = 2\n",
    "sigma_2[80:100] = 2\n",
    "\n",
    "sigmas = [sigma_1, sigma_2]\n",
    "\n",
    "# e_m = [1.52, 1.52]\n",
    "# v_int = np.array([[-4,0],[0,-4]])\n",
    "\n",
    "e_m = [2, 2]\n",
    "v_int = np.array([[-2,0],[0,-2]])\n",
    "\n",
    "f_bind_10 = eval_f_bind_competitive_arr_2([1,0], sigma_1, sigma_2, e_m, v_int[0, 0],v_int[0, 1],v_int[1, 1])\n",
    "f_bind_01 = eval_f_bind_competitive_arr_2([0,1], sigma_1, sigma_2, e_m, v_int[0, 0],v_int[0, 1],v_int[1, 1])\n",
    "f_bind_20 = eval_f_bind_competitive_arr_2([2,0], sigma_1, sigma_2, e_m, v_int[0, 0],v_int[0, 1],v_int[1, 1])\n",
    "f_bind_02 = eval_f_bind_competitive_arr_2([0,2], sigma_1, sigma_2, e_m, v_int[0, 0],v_int[0, 1],v_int[1, 1])\n",
    "f_bind_11 = eval_f_bind_competitive_arr_2([1,1], sigma_1, sigma_2, e_m, v_int[0, 0],v_int[0, 1],v_int[1, 1])\n",
    "f_binds_comp = [f_bind_10, f_bind_01, f_bind_20, f_bind_02, f_bind_11]\n",
    "\n",
    "for i in range(n_iter):\n",
    "    s_arr = calc_s_bind_comp(ws, mus, f_binds_comp) # binding state of HP1 and PRC1\n",
    "    # s = calc_s_bind(w, sigma, eps, mu)\n",
    "\n",
    "    i = 0\n",
    "    p_loop_ini = np.concatenate((calc_p_loop(np.arange(0,i)-i),np.array([0]),calc_p_loop(np.arange(i + 1, n_nuc)-i)))\n",
    "    p_loop_reflect = np.concatenate((p_loop_ini[1:][::-1], p_loop_ini))\n",
    "    \n",
    "    p_s_sum1 = signal.convolve(s_arr[0], p_loop_reflect, mode = \"valid\") # equivalent to [np.sum(p_loop * s_arr[0])] for i in range (n_nuc)\n",
    "    p_s_sum2 = signal.convolve(s_arr[1], p_loop_reflect, mode = \"valid\") # equivalent to [np.sum(p_loop * s_arr[1])] for i in range (n_nuc)\n",
    "    \n",
    "    w_1_fast = v_int[0,0] * p_s_sum1 +  v_int[0,1] * p_s_sum2\n",
    "    w_2_fast = v_int[1,1] * p_s_sum2 +  v_int[0,1] * p_s_sum1\n",
    "\n",
    "    w_s = [w_1_fast, w_2_fast]\n",
    "\n",
    "    # for i in range(n_nuc):\n",
    "    #     p_loop = np.concatenate((calc_p_loop(np.arange(0,i)-i),np.array([0]),calc_p_loop(np.arange(i + 1, n_nuc)-i))) \n",
    "    #     # gives array of looping probs centered at ith nucleosome (at which probability = 0) \n",
    "    #     w_1[i] = v_int[0,0] * np.sum(p_loop * s_arr[0]) +  v_int[0,1] * np.sum(p_loop * s_arr[1])\n",
    "    #     w_2[i] = v_int[1,1] * np.sum(p_loop * s_arr[1]) +  v_int[0,1] * np.sum(p_loop * s_arr[0])\n",
    "    #     w_s = [w_1, w_2]\n",
    "    #     # QUESTION: why is this the expression for w? saddle point equation?"
   ]
  },
  {
   "cell_type": "code",
   "execution_count": 12,
   "metadata": {},
   "outputs": [
    {
     "data": {
      "image/png": "[encoded data removed]",
      "text/plain": [
       "<Figure size 640x480 with 1 Axes>"
      ]
     },
     "metadata": {},
     "output_type": "display_data"
    }
   ],
   "source": [
    "# QUESTION: why is final s_bind (\"s\") this way? middle unmarked section has binding\n",
    "plt.figure()\n",
    "font = {'family' : 'serif',\n",
    "        'weight':'normal',\n",
    "        'size': 18}\n",
    "plt.rc('font', **font)\n",
    "\n",
    "plt.plot(s_arr[0], 'bo-', label = \"$s^{(1)HP1}_i$\")\n",
    "# plt.plot(s_arr[1], 'ro-', label = \"$s^{(2)PRC1}_i$\")\n",
    "\n",
    "plt.plot(sigma_1, 'ko-', label = \"$\\sigma^{(1)H3K9me3}_i$\")\n",
    "# plt.plot(sigma_2, 'go-', label = \"$\\sigma^{(2)H3K27me3}_i$\")\n",
    "plt.xlabel(\"nucleosome postition\")\n",
    "plt.ylabel(\"#\")\n",
    "plt.legend()\n",
    "\n",
    "plt.show()"
   ]
  },
  {
   "cell_type": "code",
   "execution_count": null,
   "metadata": {},
   "outputs": [],
   "source": [
    "# TODO\n",
    "# compare to andy result DONE\n",
    "# OPTIMIZE- change form of looping probabililty to only consider 200 nearest? DONE\n",
    "# look at different v_int systems - understand relationship between mu, v_int, and a (looping prob magnitude)\n",
    "# Co-occupancy map. compare to chromo? understand phase behavior?\n",
    "# generate 2d density maps vs mu? to compare with theory"
   ]
  },
  {
   "cell_type": "code",
   "execution_count": null,
   "metadata": {},
   "outputs": [],
   "source": []
  },
  {
   "cell_type": "code",
   "execution_count": null,
   "metadata": {},
   "outputs": [],
   "source": []
  },
  {
   "cell_type": "code",
   "execution_count": null,
   "metadata": {},
   "outputs": [],
   "source": []
  },
  {
   "cell_type": "code",
   "execution_count": null,
   "metadata": {},
   "outputs": [],
   "source": []
  },
  {
   "cell_type": "code",
   "execution_count": null,
   "metadata": {},
   "outputs": [],
   "source": []
  },
  {
   "cell_type": "code",
   "execution_count": null,
   "metadata": {},
   "outputs": [],
   "source": []
  },
  {
   "cell_type": "markdown",
   "metadata": {},
   "source": [
    "# Andys work"
   ]
  },
  {
   "cell_type": "code",
   "execution_count": 89,
   "metadata": {},
   "outputs": [],
   "source": [
    "# single nucleosome binding partition function\n",
    "def calc_q_bind(w, sigma, eps = 0, mu = 0):\n",
    "    q_bind = 1. + np.exp(-eps * sigma + mu - w)\n",
    "    \n",
    "    return q_bind"
   ]
  },
  {
   "cell_type": "code",
   "execution_count": 90,
   "metadata": {},
   "outputs": [],
   "source": [
    "# average s_bind\n",
    "# sigma: mark state!\n",
    "# QUESTION what is epsilon (binding param?)\n",
    "def calc_s_bind(w, sigma, eps = 0, mu = 0):\n",
    "    q_bind = 1. + np.exp(-eps * sigma + mu - w)\n",
    "    s_bind = np.exp(-eps * sigma + mu - w) / q_bind\n",
    "    \n",
    "    return s_bind\n",
    "\n"
   ]
  },
  {
   "cell_type": "code",
   "execution_count": 91,
   "metadata": {},
   "outputs": [],
   "source": [
    "# x: genomic distance\n",
    "def calc_p_loop(x, a = 1):\n",
    "    \n",
    "    p_loop = a / np.abs(x) ** (1.5)\n",
    "    \n",
    "    return p_loop"
   ]
  },
  {
   "cell_type": "code",
   "execution_count": 5,
   "metadata": {},
   "outputs": [
    {
     "data": {
      "text/plain": [
       "array([1, 2, 3, 4, 5])"
      ]
     },
     "execution_count": 5,
     "metadata": {},
     "output_type": "execute_result"
    }
   ],
   "source": [
    "np.arange(5, 10) - 4"
   ]
  },
  {
   "cell_type": "code",
   "execution_count": 105,
   "metadata": {},
   "outputs": [],
   "source": [
    "n_nuc = 100\n",
    "n_iter = 70\n",
    "\n",
    "w = np.zeros(n_nuc)\n",
    "\n",
    "mu = -4.8\n",
    "eps = -2\n",
    "sigma = np.random.randint(1, size = n_nuc)\n",
    "sigma[20:40] = 1\n",
    "sigma[60:80] = 1\n",
    "j = -2\n",
    "\n",
    "for i in range(n_iter):\n",
    "    s = calc_s_bind(w, sigma, eps, mu)\n",
    "    for i in range(n_nuc):\n",
    "        p_loop = np.concatenate((calc_p_loop(np.arange(0,i)-i),np.array([0]),calc_p_loop(np.arange(i + 1, n_nuc)-i))) \n",
    "        # gives array of looping probs centered at ith nucleosome (at which probability = 0) \n",
    "        w[i] = j * np.sum(p_loop * s)\n",
    "        # QUESTION: why is this the expression for w? saddle point equation?"
   ]
  },
  {
   "cell_type": "code",
   "execution_count": 106,
   "metadata": {},
   "outputs": [
    {
     "data": {
      "text/plain": [
       "array([0, 0, 0, 0, 0, 0, 0, 0, 0, 0, 0, 0, 0, 0, 0, 0, 0, 0, 0, 0, 1, 1,\n",
       "       1, 1, 1, 1, 1, 1, 1, 1, 1, 1, 1, 1, 1, 1, 1, 1, 1, 1, 0, 0, 0, 0,\n",
       "       0, 0, 0, 0, 0, 0, 0, 0, 0, 0, 0, 0, 0, 0, 0, 0, 1, 1, 1, 1, 1, 1,\n",
       "       1, 1, 1, 1, 1, 1, 1, 1, 1, 1, 1, 1, 1, 1, 0, 0, 0, 0, 0, 0, 0, 0,\n",
       "       0, 0, 0, 0, 0, 0, 0, 0, 0, 0, 0, 0])"
      ]
     },
     "execution_count": 106,
     "metadata": {},
     "output_type": "execute_result"
    }
   ],
   "source": [
    "sigma"
   ]
  },
  {
   "cell_type": "code",
   "execution_count": 107,
   "metadata": {},
   "outputs": [
    {
     "data": {
      "image/png": "[encoded data removed]",
      "text/plain": [
       "<Figure size 432x288 with 1 Axes>"
      ]
     },
     "metadata": {
      "needs_background": "light"
     },
     "output_type": "display_data"
    }
   ],
   "source": [
    "# QUESTION: why is final s_bind (\"s\") this way? middle unmarked section has binding\n",
    "plt.figure()\n",
    "font = {'family' : 'serif',\n",
    "        'weight':'normal',\n",
    "        'size': 18}\n",
    "plt.rc('font', **font)\n",
    "\n",
    "plt.plot(s, 'ko-')\n",
    "plt.plot(sigma, 'bo-')\n",
    "\n",
    "plt.show()"
   ]
  },
  {
   "cell_type": "code",
   "execution_count": 86,
   "metadata": {},
   "outputs": [],
   "source": [
    "n_nuc = 10000\n",
    "n_iter = 20\n",
    "\n",
    "w = np.zeros(n_nuc)\n",
    "\n",
    "mu = -4.5\n",
    "eps = -2\n",
    "sigma = np.random.randint(2, size = n_nuc)\n",
    "sigma[40:60] = 1\n",
    "j = -2\n",
    "\n",
    "for i in range(n_iter):\n",
    "    s = calc_s_bind(w, sigma, eps, mu)\n",
    "    for i in range(n_nuc):\n",
    "        p_loop = np.concatenate((calc_p_loop(np.arange(0,i)-i),np.array([0]),calc_p_loop(np.arange(i + 1, n_nuc)-i)))\n",
    "        w[i] = j * np.sum(p_loop * s)\n"
   ]
  },
  {
   "cell_type": "code",
   "execution_count": 87,
   "metadata": {},
   "outputs": [
    {
     "data": {
      "image/png": "[encoded data removed]",
      "text/plain": [
       "<Figure size 432x288 with 1 Axes>"
      ]
     },
     "metadata": {
      "needs_background": "light"
     },
     "output_type": "display_data"
    }
   ],
   "source": [
    "plt.figure()\n",
    "font = {'family' : 'serif',\n",
    "        'weight':'normal',\n",
    "        'size': 18}\n",
    "plt.rc('font', **font)\n",
    "\n",
    "plt.plot(s, 'ko-')\n",
    "plt.plot(sigma, 'bo-')\n",
    "\n",
    "plt.show()"
   ]
  },
  {
   "cell_type": "code",
   "execution_count": null,
   "metadata": {},
   "outputs": [],
   "source": []
  },
  {
   "cell_type": "code",
   "execution_count": null,
   "metadata": {},
   "outputs": [],
   "source": []
  },
  {
   "cell_type": "code",
   "execution_count": null,
   "metadata": {},
   "outputs": [],
   "source": []
  },
  {
   "cell_type": "code",
   "execution_count": null,
   "metadata": {},
   "outputs": [],
   "source": []
  },
  {
   "cell_type": "markdown",
   "metadata": {},
   "source": [
    "# Old efficiency testing code"
   ]
  },
  {
   "cell_type": "code",
   "execution_count": 393,
   "metadata": {},
   "outputs": [
    {
     "name": "stdout",
     "output_type": "stream",
     "text": [
      "-------------------------\n",
      "p_loop: [0.         2.6075     0.92189047 0.50181361]\n",
      "s_bind: [0.00224087 0.0171692  0.0093906  0.0171692 ]\n",
      "sum(s_bind*p_loop): 0.06204152046292194\n",
      "conv: [0.04143861]\n",
      "conv reflect: [0.06204152 0.04615718 0.09160319 0.04143861]\n",
      "-------------------------\n",
      "p_loop: [2.6075     0.         2.6075     0.92189047]\n",
      "s_bind: [0.00224087 0.0171692  0.0093906  0.0171692 ]\n",
      "sum(s_bind*p_loop): 0.04615717824651325\n",
      "conv: [0.09160319]\n",
      "conv reflect: [0.06204152 0.04615718 0.09160319 0.04143861]\n",
      "-------------------------\n",
      "p_loop: [0.92189047 2.6075     0.         2.6075    ]\n",
      "s_bind: [0.00224087 0.0171692  0.0093906  0.0171692 ]\n",
      "sum(s_bind*p_loop): 0.09160319458339453\n",
      "conv: [0.04615718]\n",
      "conv reflect: [0.06204152 0.04615718 0.09160319 0.04143861]\n",
      "-------------------------\n",
      "p_loop: [0.50181361 0.92189047 2.6075     0.        ]\n",
      "s_bind: [0.00224087 0.0171692  0.0093906  0.0171692 ]\n",
      "sum(s_bind*p_loop): 0.041438608668152466\n",
      "conv: [0.06204152]\n",
      "conv reflect: [0.06204152 0.04615718 0.09160319 0.04143861]\n",
      "w1: [-0.12408304 -0.09231436 -0.18320639 -0.08287722]\n",
      "w2: [-9.90383839e-05 -1.50814341e-04 -1.50767050e-04 -9.90619684e-05]\n",
      "new w1: [-0.12408304 -0.09231436 -0.18320639 -0.08287722]\n",
      "new w2: [-9.90383839e-05 -1.50814341e-04 -1.50767050e-04 -9.90619684e-05]\n"
     ]
    }
   ],
   "source": [
    "\n",
    "\n",
    "# # TESTING for efficiency\n",
    "\n",
    "\n",
    "# # 2 marks competitive\n",
    "\n",
    "# n_nuc = 4\n",
    "# n_iter = 1\n",
    "\n",
    "# w_1 = np.zeros(n_nuc)\n",
    "# w_2 = np.zeros(n_nuc)\n",
    "# ws = [w_1, w_2]\n",
    "\n",
    "# # mus = [-4.8,-4.8]\n",
    "# mus = [-4.8,-10]\n",
    "# # eps = -2\n",
    "# # j = -2\n",
    "\n",
    "# sigma_1 = [0,2,1,2]#np.random.randint(1, size = n_nuc)\n",
    "# # sigma_1[2:4] = 2\n",
    "# # sigma_1[60:80] = 2\n",
    "\n",
    "# sigma_2 = np.random.randint(1, size = n_nuc)\n",
    "# # sigma_2[40:60] = 2\n",
    "# # sigma_2[80:100] = 2\n",
    "\n",
    "# sigmas = [sigma_1, sigma_2]\n",
    "\n",
    "# # e_m = [1.52, 1.52]\n",
    "# # v_int = np.array([[-4,0],[0,-4]])\n",
    "\n",
    "# e_m = [2, 2]\n",
    "# v_int = np.array([[-2,0],[0,-2]])\n",
    "\n",
    "# f_bind_10 = eval_f_bind_competitive_arr_2([1,0], sigma_1, sigma_2, e_m, v_int[0, 0],v_int[0, 1],v_int[1, 1])\n",
    "# f_bind_01 = eval_f_bind_competitive_arr_2([0,1], sigma_1, sigma_2, e_m, v_int[0, 0],v_int[0, 1],v_int[1, 1])\n",
    "# f_bind_20 = eval_f_bind_competitive_arr_2([2,0], sigma_1, sigma_2, e_m, v_int[0, 0],v_int[0, 1],v_int[1, 1])\n",
    "# f_bind_02 = eval_f_bind_competitive_arr_2([0,2], sigma_1, sigma_2, e_m, v_int[0, 0],v_int[0, 1],v_int[1, 1])\n",
    "# f_bind_11 = eval_f_bind_competitive_arr_2([1,1], sigma_1, sigma_2, e_m, v_int[0, 0],v_int[0, 1],v_int[1, 1])\n",
    "# f_binds_comp = [f_bind_10, f_bind_01, f_bind_20, f_bind_02, f_bind_11]\n",
    "\n",
    "# p_loop_initial = None\n",
    "\n",
    "# for i in range(n_iter):\n",
    "#     s_arr = calc_s_bind_comp(ws, mus, f_binds_comp) # binding state of HP1 and PRC1\n",
    "#     # s = calc_s_bind(w, sigma, eps, mu)\n",
    "    \n",
    "#     n_nuc = 4\n",
    "#     for i in range(n_nuc):\n",
    "#         p_loop = np.concatenate((calc_p_loop(np.arange(0,i)-i),np.array([0]),calc_p_loop(np.arange(i + 1, n_nuc)-i)))\n",
    "#         if i == 0:\n",
    "#             p_loop_initial = p_loop\n",
    "#         print(\"-------------------------\")\n",
    "#         print(\"p_loop:\", p_loop)\n",
    "#         print(\"s_bind:\", s_arr[0])\n",
    "#         print(\"sum(s_bind*p_loop):\", np.sum(s_arr[0]*p_loop))\n",
    "#         print(\"conv:\", signal.convolve(s_arr[0], p_loop, mode = \"valid\"))\n",
    "#         w_1[i] = v_int[0,0] * np.sum(p_loop * s_arr[0]) +  v_int[0,1] * np.sum(p_loop * s_arr[1])\n",
    "#         w_2[i] = v_int[1,1] * np.sum(p_loop * s_arr[1]) +  v_int[0,1] * np.sum(p_loop * s_arr[0])\n",
    "#         w_s = [w_1, w_2]\n",
    "\n",
    "#         p_loop_reflect = np.concatenate((p_loop_initial[1:][::-1], p_loop_initial))\n",
    "#         print(\"conv reflect:\", signal.convolve(s_arr[0], p_loop_reflect, mode = \"valid\"))        \n",
    "#         # print(\"sum(s_bind*p_loop):\", np.sum(s_arr[0]*p_loop))\n",
    "# print(\"w1:\", w_1)\n",
    "# print(\"w2:\", w_2)\n",
    "\n",
    "# i = 0\n",
    "# p_loop_ini = np.concatenate((calc_p_loop(np.arange(0,i)-i),np.array([0]),calc_p_loop(np.arange(i + 1, n_nuc)-i)))\n",
    "# p_loop_reflect = np.concatenate((p_loop_ini[1:][::-1], p_loop_ini))\n",
    "\n",
    "# p_s_sum1 = signal.convolve(s_arr[0], p_loop_reflect, mode = \"valid\") # equivalent to [np.sum(p_loop * s_arr[0])] for i in range (n_nuc)\n",
    "# p_s_sum2 = signal.convolve(s_arr[1], p_loop_reflect, mode = \"valid\") # equivalent to [np.sum(p_loop * s_arr[1])] for i in range (n_nuc)\n",
    "# w_1_fast = v_int[0,0] * p_s_sum1 +  v_int[0,1] * p_s_sum2\n",
    "# w_2_fast = v_int[1,1] * p_s_sum2 +  v_int[0,1] * p_s_sum1\n",
    "\n",
    "# print(\"new w1:\", w_1_fast)\n",
    "# print(\"new w2:\", w_2_fast)\n"
   ]
  }
 ],
 "metadata": {
  "kernelspec": {
   "display_name": "Python 3 (ipykernel)",
   "language": "python",
   "name": "python3"
  },
  "language_info": {
   "codemirror_mode": {
    "name": "ipython",
    "version": 3
   },
   "file_extension": ".py",
   "mimetype": "text/x-python",
   "name": "python",
   "nbconvert_exporter": "python",
   "pygments_lexer": "ipython3",
   "version": "3.10.14"
  }
 },
 "nbformat": 4,
 "nbformat_minor": 4
}
