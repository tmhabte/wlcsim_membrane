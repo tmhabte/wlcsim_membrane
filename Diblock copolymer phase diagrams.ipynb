{
 "cells": [
  {
   "cell_type": "code",
   "execution_count": 1,
   "metadata": {},
   "outputs": [],
   "source": [
    "# only calculate strucutre factors for specific q* critical wavevectors"
   ]
  },
  {
   "cell_type": "markdown",
   "metadata": {},
   "source": [
    "### procedure: \n",
    "- find q*, \n",
    "- represent phases of interest in terms of q*\n",
    "- evaluate gammas at q*,\n",
    "- minimize wrt amplitude, \n",
    "- compare "
   ]
  },
  {
   "cell_type": "markdown",
   "metadata": {},
   "source": [
    "# Vertex (Greens functions)"
   ]
  },
  {
   "cell_type": "code",
   "execution_count": 1,
   "metadata": {},
   "outputs": [],
   "source": [
    "import sys\n",
    "sys.path.append(\"./vertex_subroutines\")\n",
    "from GAMcalc import *  # Code for calculating vertex functions\n",
    "import propagator  # propagator object used to store pre-calculated values\n",
    "import wignerD as wd # wigner D object used to store pre-calculated values"
   ]
  },
  {
   "cell_type": "code",
   "execution_count": 2,
   "metadata": {},
   "outputs": [],
   "source": [
    "N = 1 # Number of Khun lengths\n",
    "\n",
    "pset=propagator.prop_set(nlam=10) # nlam sepcifies number of angular eigenvalues\n",
    "wigset = wd.wigner_d_vals()"
   ]
  },
  {
   "cell_type": "code",
   "execution_count": 91,
   "metadata": {},
   "outputs": [
    {
     "name": "stdout",
     "output_type": "stream",
     "text": [
      "q*:  8.228370457340418\n"
     ]
    },
    {
     "name": "stderr",
     "output_type": "stream",
     "text": [
      "./vertex_subroutines\\MultiPoint.py:206: RuntimeWarning: invalid value encountered in cdouble_scalars\n",
      "  if abs(out/(sum2+tol))<tol and l2>max(lam0_2,lam_2):\n",
      "./vertex_subroutines\\MultiPoint.py:209: RuntimeWarning: invalid value encountered in cdouble_scalars\n",
      "  if abs(sum2/(sum1+tol))<tol and l1>max(lam0_1,lam_1):\n"
     ]
    },
    {
     "name": "stdout",
     "output_type": "stream",
     "text": [
      "cyl_g3:  -6.072654079766974e-31j\n",
      "lam_g4:  (112.68760347653914-1.244628099755402e-12j)\n",
      "cyl_g4:  (51.297018961071444+0.34553925945140557j)\n",
      "lam_g2:  (1.3434023915888673+1.6646282634082058e-15j)\n",
      "cyl_g2:  (0.7756137324138196+9.610735759793868e-16j)\n",
      "lam_g2:  (-0.6565976084111327+1.6646282634082058e-15j)\n",
      "cyl_g2:  (-0.37908680596543193+9.610735759793868e-16j)\n",
      "lam_g2:  (-3.6565976084111327+1.6646282634082058e-15j)\n",
      "cyl_g2:  (-2.111137613534309+9.610735759793868e-16j)\n",
      "lam_g2:  (-5.656597608411133+1.6646282634082058e-15j)\n",
      "cyl_g2:  (-3.2658381519135604+9.610735759793868e-16j)\n",
      "lam_g2:  (-8.656597608411133+1.6646282634082058e-15j)\n",
      "cyl_g2:  (-4.997888959482438+9.610735759793868e-16j)\n",
      "lam_g2:  (-10.656597608411133+1.6646282634082058e-15j)\n",
      "cyl_g2:  (-6.1525894978616895+9.610735759793868e-16j)\n",
      "lam_g2:  (-13.656597608411133+1.6646282634082058e-15j)\n",
      "cyl_g2:  (-7.884640305430566+9.610735759793868e-16j)\n",
      "one FA done!!\n",
      "Wall time: 5min 12s\n"
     ]
    }
   ],
   "source": [
    "%%time\n",
    "# 1 hr 2 minutes runtime\n",
    "fa_array = np.array([0.5])#np.arange(0.3, 0.51, .02)\n",
    "chi_array = np.array([5, 7, 10, 12, 15, 17, 20])\n",
    "cyl_pnts = np.array([])\n",
    "lam_pnts = np.array([])\n",
    "dis_pnts = np.array([])\n",
    "\n",
    "for FA in fa_array:\n",
    "    KS = spinodal(pset, N, FA)\n",
    "    q_star = KS[0]\n",
    "    print(\"q*: \", q_star)\n",
    "    cyl_q1 = q_star*np.array([1, 0, 0])\n",
    "    cyl_q2 = 0.5*q_star*np.array([-1, np.sqrt(3), 0])\n",
    "    cyl_q3 = 0.5*q_star*np.array([-1, -np.sqrt(3), 0])\n",
    "    cyl_qs = np.array([cyl_q1, cyl_q2, cyl_q3])\n",
    "\n",
    "    lam_q = q_star*np.array([1, 0, 0])\n",
    "    lam_g3 = 0\n",
    "    cyl_g3 = 2/(3*(np.sqrt(3))) * gamma3(pset, N, FA, cyl_qs)\n",
    "    print(\"cyl_g3: \", cyl_g3)\n",
    "    lam_g4 = gamma4(pset, wigset, N, FA, np.array([lam_q, -lam_q, lam_q, -lam_q]))\n",
    "    print(\"lam_g4: \", lam_g4)\n",
    "    cyl_g4 = (1/12)* (gamma4(pset, wigset, N, FA, np.array([cyl_q1 , -cyl_q1 , cyl_q1 , -cyl_q1 ])) + \\\n",
    "              4*gamma4(pset, wigset, N, FA, np.array([cyl_q1, -cyl_q1, q_star*np.array([-.5, .5*np.sqrt(3), 0]), -q_star*np.array([-.5, .5*np.sqrt(3), 0])])))\n",
    "    print(\"cyl_g4: \", cyl_g4)\n",
    "    for CHI in chi_array:\n",
    "        lam_g2 = 0.5 * gamma2(pset, N, FA, q_star, CHI)\n",
    "        print(\"lam_g2: \", lam_g2)\n",
    "        cyl_g2 = 0.5 * (1/(3*np.sqrt(3))) * 3 * gamma2(pset, N, FA, q_star, CHI)\n",
    "        print(\"cyl_g2: \", cyl_g2)\n",
    "        amp_l = optimize.fmin(lambda amp: np.real(amp**2 * lam_g2 + amp**3 * lam_g3 + amp**4 * lam_g4), 1,\\\n",
    "                      disp=False)\n",
    "        amp_c = optimize.fmin(lambda amp: np.real(amp**2 * cyl_g2 + amp**3 * cyl_g3 + amp**4 * cyl_g4), 1,\\\n",
    "                      disp=False)\n",
    "        lamF = amp_l**2 * lam_g2 + amp_l**3 * lam_g3 + amp_l**4 * lam_g4\n",
    "        cylF = amp_c**2 * cyl_g2 + amp_c**3 * cyl_g3 + amp_c**4 * cyl_g4\n",
    "        \n",
    "        point = np.array([FA, CHI])\n",
    "        if (lamF > 0 and cylF > 0):\n",
    "            #disordered stable\n",
    "            dis_pnts = np.append(dis_pnts, point)\n",
    "        elif (lamF < cylF):\n",
    "            lam_pnts = np.append(lam_pnts, point) \n",
    "        else:\n",
    "            cyl_pnts = np.append(cyl_pnts, point)\n",
    "    print(\"one FA done!!\")\n",
    "            "
   ]
  },
  {
   "cell_type": "code",
   "execution_count": 6,
   "metadata": {},
   "outputs": [
    {
     "name": "stderr",
     "output_type": "stream",
     "text": [
      "<timed exec>:10: ComplexWarning: Casting complex values to real discards the imaginary part\n"
     ]
    },
    {
     "name": "stdout",
     "output_type": "stream",
     "text": [
      "Wall time: 1min 4s\n"
     ]
    }
   ],
   "source": [
    "%%time\n",
    "f_as = fa_array = np.arange(0.3, 0.505, .01)#np.arange(0.1, 1, 0.1)\n",
    "spin_array_vertex = np.zeros(len(f_as))\n",
    "for i, FA in enumerate(f_as):\n",
    "    chis = np.arange(6, 10, 0.1) #np.arange(0, 40, 0.1) \n",
    "    min_G_vals = np.zeros(len(chis))\n",
    "    for j,CHI in enumerate(chis):\n",
    "        #evaluate gamma2 at the chi k_spinodal for appropriate length, find when equals zero\n",
    "        KS = spinodal(pset, N, FA)\n",
    "        G = gamma2(pset, N, FA, KS, CHI)\n",
    "        min_G_vals[j] = G # b/c g2 is 1x1 matrix, eigenvalue is the value of g2 itself. \n",
    "    spin_array_vertex[i] = chis[np.argmin((abs(min_G_vals)))]"
   ]
  },
  {
   "cell_type": "code",
   "execution_count": 7,
   "metadata": {},
   "outputs": [
    {
     "data": {
      "text/plain": [
       "Text(0.5, 0, '$f_A$')"
      ]
     },
     "execution_count": 7,
     "metadata": {},
     "output_type": "execute_result"
    },
    {
     "data": {
      "text/plain": [
       "<Figure size 432x288 with 0 Axes>"
      ]
     },
     "metadata": {},
     "output_type": "display_data"
    },
    {
     "data": {
      "image/png": "[encoded data removed]",
      "text/plain": [
       "<Figure size 720x576 with 1 Axes>"
      ]
     },
     "metadata": {
      "needs_background": "light"
     },
     "output_type": "display_data"
    }
   ],
   "source": [
    "fig = plt.figure()\n",
    "plt.figure(figsize=(10,8))\n",
    "font = {'family' : 'serif',\n",
    "        'weight':'normal',\n",
    "        'size': 18}\n",
    "plt.rc('font', **font)\n",
    "ax = plt.subplot(111)\n",
    "\n",
    "\n",
    "ax.plot(f_as, spin_array_vertex, label=\"spinodal\", color = \"black\")#, zorder = 0)\n",
    "ax.scatter(lam_pnts[::2], lam_pnts[1::2], label = \"lam\")\n",
    "ax.scatter(cyl_pnts[::2], cyl_pnts[1::2], label = \"cyl\")\n",
    "ax.scatter(dis_pnts[::2], dis_pnts[1::2], label = \"dis\")\n",
    "\n",
    "\n",
    "box = ax.get_position()\n",
    "ax.set_position([box.x0, box.y0, box.width * 0.8, box.height])\n",
    "ax.legend(loc='center left', bbox_to_anchor=(1, 0.5))\n",
    "ax.set_title(\"N = 1 (vertex)\")\n",
    "ax.set_ylabel(\"$\\chi N$\")\n",
    "ax.set_xlabel(\"$f_A$\")"
   ]
  },
  {
   "cell_type": "markdown",
   "metadata": {},
   "source": [
    "# Chain growth algorithm"
   ]
  },
  {
   "cell_type": "code",
   "execution_count": 176,
   "metadata": {},
   "outputs": [],
   "source": [
    "import importlib\n",
    "from cga import *"
   ]
  },
  {
   "cell_type": "code",
   "execution_count": 175,
   "metadata": {},
   "outputs": [
    {
     "data": {
      "text/plain": [
       "<module 'cga' from 'C:\\\\Users\\\\Thomas\\\\Desktop\\\\structure_factor\\\\structure_factor\\\\cga.py'>"
      ]
     },
     "execution_count": 175,
     "metadata": {},
     "output_type": "execute_result"
    }
   ],
   "source": [
    "#from cga import *\n",
    "#import cga\n",
    "importlib.reload(cga)"
   ]
  },
  {
   "cell_type": "code",
   "execution_count": 166,
   "metadata": {},
   "outputs": [
    {
     "name": "stdout",
     "output_type": "stream",
     "text": [
      "Wall time: 8.21 s\n"
     ]
    }
   ],
   "source": [
    "%%time\n",
    "N = 1\n",
    "FA = 0.5\n",
    "n_p = 15\n",
    "n_b = 20#0\n",
    "vec_otpt = wlc_cga_vect(N, n_p, n_b, FA, num_snapshots=10000)#00)"
   ]
  },
  {
   "cell_type": "code",
   "execution_count": 13,
   "metadata": {},
   "outputs": [
    {
     "name": "stdout",
     "output_type": "stream",
     "text": [
      "Wall time: 40.8 s\n"
     ]
    }
   ],
   "source": [
    "%%time\n",
    "n_p = 15\n",
    "n_b = 20#0\n",
    "it_otpt = wlc_cga(n_p, n_b, FA, num_snapshots=10000)"
   ]
  },
  {
   "cell_type": "code",
   "execution_count": 167,
   "metadata": {},
   "outputs": [
    {
     "ename": "TypeError",
     "evalue": "get_sf2_vect() missing 2 required positional arguments: 'FA' and 'N'",
     "output_type": "error",
     "traceback": [
      "\u001b[1;31m---------------------------------------------------------------------------\u001b[0m",
      "\u001b[1;31mTypeError\u001b[0m                                 Traceback (most recent call last)",
      "\u001b[1;32m<timed eval>\u001b[0m in \u001b[0;36m<module>\u001b[1;34m\u001b[0m\n",
      "\u001b[1;31mTypeError\u001b[0m: get_sf2_vect() missing 2 required positional arguments: 'FA' and 'N'"
     ]
    }
   ],
   "source": [
    "%%time\n",
    "get_sf2_vect(n_p, n_b, vec_otpt, [1, 0, 0])"
   ]
  },
  {
   "cell_type": "code",
   "execution_count": 168,
   "metadata": {},
   "outputs": [
    {
     "name": "stdout",
     "output_type": "stream",
     "text": [
      "Wall time: 3.16 s\n"
     ]
    },
    {
     "data": {
      "text/plain": [
       "array([[0.24858293+0.00000000e+00j, 0.24191549+3.48909522e-05j],\n",
       "       [0.24191549+3.48909522e-05j, 0.24857826+0.00000000e+00j]])"
      ]
     },
     "execution_count": 168,
     "metadata": {},
     "output_type": "execute_result"
    }
   ],
   "source": [
    "%%time\n",
    "get_sf2_vect(n_p, n_b, vec_otpt, [1, 0, 0], 0.5, 1)\n",
    "#200 beads"
   ]
  },
  {
   "cell_type": "code",
   "execution_count": 11,
   "metadata": {},
   "outputs": [
    {
     "data": {
      "text/plain": [
       "array([[0.24856624-1.13518027e-19j, 0.24179697+5.85906301e-19j],\n",
       "       [0.24179697+5.85906301e-19j, 0.24856624-1.13518027e-19j]])"
      ]
     },
     "execution_count": 11,
     "metadata": {},
     "output_type": "execute_result"
    }
   ],
   "source": [
    "s2wlc(pset, N, FA, K=1, sequence='all')"
   ]
  },
  {
   "cell_type": "code",
   "execution_count": 206,
   "metadata": {},
   "outputs": [
    {
     "name": "stdout",
     "output_type": "stream",
     "text": [
      "Wall time: 26 s\n"
     ]
    },
    {
     "data": {
      "text/plain": [
       "array([[[0.24998312+0.0000000e+00j],\n",
       "        [0.24988366-2.5887499e-05j]],\n",
       "\n",
       "       [[0.24988366-2.5887499e-05j],\n",
       "        [0.24998316+0.0000000e+00j]]])"
      ]
     },
     "execution_count": 206,
     "metadata": {},
     "output_type": "execute_result"
    }
   ],
   "source": [
    "%%time\n",
    "get_sf2(n_p, n_b, it_otpt, [1, 0, 0])"
   ]
  },
  {
   "cell_type": "code",
   "execution_count": null,
   "metadata": {
    "scrolled": true
   },
   "outputs": [
    {
     "name": "stdout",
     "output_type": "stream",
     "text": [
      "one FA done!!\n",
      "one FA done!!\n"
     ]
    }
   ],
   "source": [
    "%%time\n",
    "N = 1 #length in kuhn lengths\n",
    "n_p = 15\n",
    "n_b = 20#0\n",
    "fa_array = np.arange(0.3, 0.51, .02)\n",
    "chi_array = np.array([5, 7, 10, 12, 15, 17, 20])\n",
    "cyl_pnts_cga = np.array([])\n",
    "lam_pnts_cga = np.array([])\n",
    "dis_pnts_cga = np.array([])\n",
    "\n",
    "\n",
    "for FA in fa_array:\n",
    "    otpt = wlc_cga_vect(N, n_p, n_b, FA, num_snapshots=10000)\n",
    "    otpt_s2_spn = wlc_cga_vect(N, n_p, n_b, FA, num_snapshots=1000)\n",
    "    KS = spin(n_p, n_b, otpt_s2_spn, N, FA)\n",
    "    q_star = KS[0]\n",
    "    #print(\"q*: \", q_star)\n",
    "    \n",
    "    #KS = spinodal(pset, N, FA)\n",
    "    #q_star = KS[0]\n",
    "    \n",
    "    cyl_q1 = q_star*np.array([1, 0, 0])\n",
    "    cyl_q2 = 0.5*q_star*np.array([-1, np.sqrt(3), 0])\n",
    "    cyl_q3 = 0.5*q_star*np.array([-1, -np.sqrt(3), 0])\n",
    "    cyl_qs = np.array([cyl_q1, cyl_q2, cyl_q3])\n",
    "\n",
    "    lam_q = q_star*np.array([1, 0, 0])\n",
    "    lam_g3 = 0\n",
    "    cyl_g3 = 2/(3*(np.sqrt(3))) * gam3(n_p, n_b, otpt, N, cyl_qs, FA)\n",
    "    #print(\"cyl_g3: \", cyl_g3)\n",
    "    lam_g4 = gam4(n_p, n_b, otpt, N, np.array([lam_q, -lam_q, lam_q, -lam_q]), FA)\n",
    "    #print(\"lam_g4: \", lam_g4)\n",
    "    cyl_g4 = (1/12)* (gam4(n_p, n_b, otpt, N, np.array([cyl_q1 , -cyl_q1 , cyl_q1 , -cyl_q1 ]), FA) + \\\n",
    "              4*gam4(n_p, n_b, otpt, N, np.array([cyl_q1, -cyl_q1, q_star*np.array([-.5, .5*np.sqrt(3), 0]), -q_star*np.array([-.5, .5*np.sqrt(3), 0])]), FA))\n",
    "    for CHI in chi_array:\n",
    "        lam_g2 = 0.5 * gam2(n_p, n_b, otpt_s2_spn, N, lam_q, CHI, FA)\n",
    "        #print(\"lam_g2: \", lam_g2)\n",
    "        cyl_g2 = 0.5 * (1/(3*np.sqrt(3))) * 3 * gam2(n_p, n_b, otpt_s2_spn, N, cyl_q1, CHI, FA)\n",
    "        #print(\"cyl_g2: \", cyl_g2)\n",
    "        amp_l = optimize.fmin(lambda amp: np.real(amp**2 * lam_g2 + amp**3 * lam_g3 + amp**4 * lam_g4), 1,\\\n",
    "                      disp=False)\n",
    "        amp_c = optimize.fmin(lambda amp: np.real(amp**2 * cyl_g2 + amp**3 * cyl_g3 + amp**4 * cyl_g4), 1,\\\n",
    "                      disp=False)\n",
    "        lamF = amp_l**2 * lam_g2 + amp_l**3 * lam_g3 + amp_l**4 * lam_g4\n",
    "        cylF = amp_c**2 * cyl_g2 + amp_c**3 * cyl_g3 + amp_c**4 * cyl_g4\n",
    "        \n",
    "        point = np.array([FA, CHI])\n",
    "        if (lamF > 0 and cylF > 0):\n",
    "            #disordered stable\n",
    "            dis_pnts_cga = np.append(dis_pnts_cga, point)\n",
    "        elif (lamF < cylF):\n",
    "            lam_pnts_cga = np.append(lam_pnts_cga, point) \n",
    "        else:\n",
    "            cyl_pnts_cga = np.append(cyl_pnts_cga, point)\n",
    "    print(\"one FA done!!\")\n",
    "            "
   ]
  },
  {
   "cell_type": "code",
   "execution_count": 138,
   "metadata": {},
   "outputs": [
    {
     "data": {
      "text/plain": [
       "array([ 0.5,  5. ,  0.5,  7. ,  0.5, 10. ,  0.5, 12. ,  0.5, 15. ,  0.5,\n",
       "       17. ,  0.5, 20. ])"
      ]
     },
     "execution_count": 138,
     "metadata": {},
     "output_type": "execute_result"
    }
   ],
   "source": [
    "lam_pnts_cga"
   ]
  },
  {
   "cell_type": "code",
   "execution_count": 139,
   "metadata": {},
   "outputs": [
    {
     "data": {
      "text/plain": [
       "array([], dtype=float64)"
      ]
     },
     "execution_count": 139,
     "metadata": {},
     "output_type": "execute_result"
    }
   ],
   "source": [
    "cyl_pnts_cga"
   ]
  },
  {
   "cell_type": "code",
   "execution_count": 140,
   "metadata": {},
   "outputs": [
    {
     "data": {
      "text/plain": [
       "array([], dtype=float64)"
      ]
     },
     "execution_count": 140,
     "metadata": {},
     "output_type": "execute_result"
    }
   ],
   "source": [
    "dis_pnts_cga"
   ]
  },
  {
   "cell_type": "code",
   "execution_count": 146,
   "metadata": {
    "scrolled": true
   },
   "outputs": [
    {
     "data": {
      "text/plain": [
       "Text(0.5, 0, '$f_A$')"
      ]
     },
     "execution_count": 146,
     "metadata": {},
     "output_type": "execute_result"
    },
    {
     "data": {
      "text/plain": [
       "<Figure size 432x288 with 0 Axes>"
      ]
     },
     "metadata": {},
     "output_type": "display_data"
    },
    {
     "data": {
      "image/png": "[encoded data removed]",
      "text/plain": [
       "<Figure size 720x576 with 1 Axes>"
      ]
     },
     "metadata": {
      "needs_background": "light"
     },
     "output_type": "display_data"
    }
   ],
   "source": [
    "fig = plt.figure()\n",
    "plt.figure(figsize=(10,8))\n",
    "font = {'family' : 'serif',\n",
    "        'weight':'normal',\n",
    "        'size': 18}\n",
    "plt.rc('font', **font)\n",
    "ax = plt.subplot(111)\n",
    "\n",
    "\n",
    "#ax.plot(f_as, spin_array_vertex, label=\"spinodal\", color = \"black\")#, zorder = 0)\n",
    "ax.scatter(lam_pnts_cga[::2], lam_pnts_cga[1::2], label = \"lam\")\n",
    "ax.scatter(cyl_pnts_cga[::2], cyl_pnts_cga[1::2], label = \"cyl\")\n",
    "ax.scatter(dis_pnts_cga[::2], dis_pnts_cga[1::2], label = \"dis\")\n",
    "\n",
    "\n",
    "box = ax.get_position()\n",
    "ax.set_position([box.x0, box.y0, box.width * 0.8, box.height])\n",
    "ax.legend(loc='center left', bbox_to_anchor=(1, 0.5))\n",
    "ax.set_title(\"N = 1 (cga)\")\n",
    "ax.set_ylabel(\"$\\chi N$\")\n",
    "ax.set_xlabel(\"$f_A$\")"
   ]
  },
  {
   "cell_type": "code",
   "execution_count": 178,
   "metadata": {
    "scrolled": true
   },
   "outputs": [
    {
     "name": "stdout",
     "output_type": "stream",
     "text": [
      "got chains\n",
      "q_star from cga:  70.26931054687495\n"
     ]
    },
    {
     "ename": "TypeError",
     "evalue": "'float' object cannot be interpreted as an integer",
     "output_type": "error",
     "traceback": [
      "\u001b[1;31m---------------------------------------------------------------------------\u001b[0m",
      "\u001b[1;31mTypeError\u001b[0m                                 Traceback (most recent call last)",
      "\u001b[1;32m<timed exec>\u001b[0m in \u001b[0;36m<module>\u001b[1;34m\u001b[0m\n",
      "\u001b[1;32m~\\Desktop\\structure_factor\\structure_factor\\cga.py\u001b[0m in \u001b[0;36mget_sf3\u001b[1;34m(n_p, n_b, all_snaps_vect_copoly, k_vecs)\u001b[0m\n\u001b[0;32m    231\u001b[0m     \u001b[0ms3_sim_BBB\u001b[0m \u001b[1;33m=\u001b[0m \u001b[0mnp\u001b[0m\u001b[1;33m.\u001b[0m\u001b[0mzeros\u001b[0m\u001b[1;33m(\u001b[0m\u001b[1;36m1\u001b[0m\u001b[1;33m,\u001b[0m  \u001b[0mdtype\u001b[0m \u001b[1;33m=\u001b[0m \u001b[0mtype\u001b[0m\u001b[1;33m(\u001b[0m\u001b[1;36m1\u001b[0m \u001b[1;33m+\u001b[0m \u001b[1;36m1j\u001b[0m\u001b[1;33m)\u001b[0m\u001b[1;33m)\u001b[0m\u001b[1;33m\u001b[0m\u001b[1;33m\u001b[0m\u001b[0m\n\u001b[0;32m    232\u001b[0m \u001b[1;33m\u001b[0m\u001b[0m\n\u001b[1;32m--> 233\u001b[1;33m     \u001b[1;32mfor\u001b[0m \u001b[0mi_snap\u001b[0m \u001b[1;32min\u001b[0m \u001b[0mrange\u001b[0m\u001b[1;33m(\u001b[0m\u001b[0mnum_snapshots\u001b[0m\u001b[1;33m)\u001b[0m\u001b[1;33m:\u001b[0m\u001b[1;33m\u001b[0m\u001b[1;33m\u001b[0m\u001b[0m\n\u001b[0m\u001b[0;32m    234\u001b[0m         \u001b[0mr_snap\u001b[0m \u001b[1;33m=\u001b[0m \u001b[0mall_snaps_vect_copoly\u001b[0m\u001b[1;33m[\u001b[0m\u001b[0mi_snap\u001b[0m\u001b[1;33m]\u001b[0m\u001b[1;33m\u001b[0m\u001b[1;33m\u001b[0m\u001b[0m\n\u001b[0;32m    235\u001b[0m         \u001b[1;32mfor\u001b[0m \u001b[0mi_p\u001b[0m \u001b[1;32min\u001b[0m \u001b[0mrange\u001b[0m\u001b[1;33m(\u001b[0m\u001b[0mn_p\u001b[0m\u001b[1;33m)\u001b[0m\u001b[1;33m:\u001b[0m\u001b[1;33m\u001b[0m\u001b[1;33m\u001b[0m\u001b[0m\n",
      "\u001b[1;31mTypeError\u001b[0m: 'float' object cannot be interpreted as an integer"
     ]
    }
   ],
   "source": [
    "%%time\n",
    "#cga\n",
    "for FA in [0.5]:#fa_array:\n",
    "    otpt = wlc_cga_vect(n_p, n_b, FA, num_snapshots=1000)\n",
    "    print(\"got chains\")\n",
    "    KS = spin(n_p, n_b, otpt, N)\n",
    "    q_star = KS[0]\n",
    "    print(\"q_star from cga: \", q_star)\n",
    "    q_star = 8.228370457340418\n",
    "    \n",
    "    cyl_q1 = q_star*np.array([1, 0, 0])\n",
    "    cyl_q2 = 0.5*q_star*np.array([-1, np.sqrt(3), 0])\n",
    "    cyl_q3 = 0.5*q_star*np.array([-1, -np.sqrt(3), 0])\n",
    "    cyl_qs = np.array([cyl_q1, cyl_q2, cyl_q3])\n",
    "    #KS = spinodal(pset, N, FA)\n",
    "    #q_star = KS[0]\n",
    "    \n",
    "    s3cga = get_sf3(n_p, n_b, otpt, cyl_qs)\n",
    "    \n",
    "    print(\"q*: \", q_star)\n",
    "    print(s3cga)\n",
    "    \n",
    "    \n",
    "    #vv =gam2(n_p, n_b, otpt, N, np.array([q_star, 0, 0]), CHI)\n",
    "    #print(vv)\n",
    "    \n",
    "# spin taking so long! w initial guess = 1, takes 3 mins 10 sec"
   ]
  },
  {
   "cell_type": "code",
   "execution_count": 112,
   "metadata": {},
   "outputs": [
    {
     "name": "stdout",
     "output_type": "stream",
     "text": [
      "Wall time: 56.5 s\n"
     ]
    }
   ],
   "source": [
    "%%time\n",
    "\n",
    "otpt = wlc_cga(n_p, n_b, FA, num_snapshots=10000)"
   ]
  },
  {
   "cell_type": "code",
   "execution_count": null,
   "metadata": {},
   "outputs": [],
   "source": [
    "#work on sf2 and spin function (now wrong value)"
   ]
  },
  {
   "cell_type": "code",
   "execution_count": 170,
   "metadata": {},
   "outputs": [
    {
     "name": "stdout",
     "output_type": "stream",
     "text": [
      "Wall time: 1min 25s\n"
     ]
    }
   ],
   "source": [
    "%%time\n",
    "#cga\n",
    "KS = spin(n_p, n_b, vec_otpt, N, FA)\n",
    "#iterative- 3min 3 sec\n",
    "#vec 1 = 25.5s"
   ]
  },
  {
   "cell_type": "code",
   "execution_count": 171,
   "metadata": {},
   "outputs": [
    {
     "data": {
      "text/plain": [
       "array([8.28740234])"
      ]
     },
     "execution_count": 171,
     "metadata": {},
     "output_type": "execute_result"
    }
   ],
   "source": [
    "KS"
   ]
  },
  {
   "cell_type": "code",
   "execution_count": 197,
   "metadata": {},
   "outputs": [
    {
     "name": "stdout",
     "output_type": "stream",
     "text": [
      "Wall time: 62.5 ms\n"
     ]
    }
   ],
   "source": [
    "%%time\n",
    "#vertex\n",
    "KS = spinodal(pset, N, FA)"
   ]
  },
  {
   "cell_type": "code",
   "execution_count": 199,
   "metadata": {},
   "outputs": [
    {
     "data": {
      "text/plain": [
       "0.5"
      ]
     },
     "execution_count": 199,
     "metadata": {},
     "output_type": "execute_result"
    }
   ],
   "source": [
    "FA"
   ]
  },
  {
   "cell_type": "code",
   "execution_count": 198,
   "metadata": {},
   "outputs": [
    {
     "data": {
      "text/plain": [
       "array([8.22837046])"
      ]
     },
     "execution_count": 198,
     "metadata": {},
     "output_type": "execute_result"
    }
   ],
   "source": [
    "KS"
   ]
  },
  {
   "cell_type": "code",
   "execution_count": 191,
   "metadata": {},
   "outputs": [
    {
     "name": "stdout",
     "output_type": "stream",
     "text": [
      "Wall time: 9.97 s\n"
     ]
    },
    {
     "data": {
      "text/plain": [
       "array([12.22578797-0.01758502j])"
      ]
     },
     "execution_count": 191,
     "metadata": {},
     "output_type": "execute_result"
    }
   ],
   "source": [
    "%%time\n",
    "CHI = 0\n",
    "gam2(n_p, n_b, vec_otpt, N, lam_q, CHI)"
   ]
  },
  {
   "cell_type": "code",
   "execution_count": 192,
   "metadata": {},
   "outputs": [
    {
     "name": "stdout",
     "output_type": "stream",
     "text": [
      "Wall time: 9.63 s\n"
     ]
    },
    {
     "data": {
      "text/plain": [
       "array([[[0.24998307+0.00000000e+00j],\n",
       "        [0.24988331-2.02345706e-05j]],\n",
       "\n",
       "       [[0.24988331-2.02345706e-05j],\n",
       "        [0.2499831 +0.00000000e+00j]]])"
      ]
     },
     "execution_count": 192,
     "metadata": {},
     "output_type": "execute_result"
    }
   ],
   "source": [
    "%%time\n",
    "get_sf2_vect(n_p, n_b, vec_otpt, [1, 0, 0])"
   ]
  },
  {
   "cell_type": "code",
   "execution_count": 186,
   "metadata": {},
   "outputs": [
    {
     "name": "stdout",
     "output_type": "stream",
     "text": [
      "Wall time: 0 ns\n"
     ]
    },
    {
     "data": {
      "text/plain": [
       "(12.686804783177735+3.3292565268164116e-15j)"
      ]
     },
     "execution_count": 186,
     "metadata": {},
     "output_type": "execute_result"
    }
   ],
   "source": [
    "%%time\n",
    "gamma2(pset, N, FA, KS, CHI)"
   ]
  },
  {
   "cell_type": "code",
   "execution_count": 116,
   "metadata": {},
   "outputs": [
    {
     "name": "stdout",
     "output_type": "stream",
     "text": [
      "Wall time: 33.6 s\n"
     ]
    },
    {
     "data": {
      "text/plain": [
       "array([[[0.18429394+0.j        ],\n",
       "        [0.02101258+0.00076402j]],\n",
       "\n",
       "       [[0.02101258+0.00076402j],\n",
       "        [0.18432439+0.j        ]]])"
      ]
     },
     "execution_count": 116,
     "metadata": {},
     "output_type": "execute_result"
    }
   ],
   "source": [
    "%%time\n",
    "get_sf2(n_p, n_b, otpt, lam_q)"
   ]
  },
  {
   "cell_type": "code",
   "execution_count": 99,
   "metadata": {},
   "outputs": [
    {
     "name": "stdout",
     "output_type": "stream",
     "text": [
      "q*:  8.228370457340418\n",
      "[[[0.06927967-5.81997339e-17j 0.00119319+1.46865919e-17j]\n",
      "  [0.00119319+1.46865919e-17j 0.00119319+1.46865919e-17j]]\n",
      "\n",
      " [[0.00119319+1.46865919e-17j 0.00119319+1.46865919e-17j]\n",
      "  [0.00119319+1.46865919e-17j 0.06927967-5.81997339e-17j]]]\n"
     ]
    }
   ],
   "source": [
    "for FA in [0.5]:#fa_array:\n",
    "    KS = spinodal(pset, N, FA)\n",
    "    q_star = KS[0]\n",
    "    print(\"q*: \", q_star)\n",
    "    cyl_q1 = q_star*np.array([1, 0, 0])\n",
    "    cyl_q2 = 0.5*q_star*np.array([-1, np.sqrt(3), 0])\n",
    "    cyl_q3 = 0.5*q_star*np.array([-1, -np.sqrt(3), 0])\n",
    "    cyl_qs = np.array([cyl_q1, cyl_q2, cyl_q3])\n",
    "    \n",
    "    s3 = s3wlc(pset, N, FA, cyl_qs)\n",
    "    #vvv = gamma3(pset, N, FA, cyl_qs)\n",
    "    print(s3)"
   ]
  },
  {
   "cell_type": "code",
   "execution_count": null,
   "metadata": {},
   "outputs": [],
   "source": [
    "#compare s3 bw cga and vertex"
   ]
  },
  {
   "cell_type": "code",
   "execution_count": null,
   "metadata": {},
   "outputs": [],
   "source": [
    "FA"
   ]
  },
  {
   "cell_type": "code",
   "execution_count": 66,
   "metadata": {},
   "outputs": [
    {
     "data": {
      "text/plain": [
       "array([[[0.06927967-7.91230457e-18j, 0.00119319+1.90675352e-17j],\n",
       "        [0.00119319+1.90675352e-17j, 0.00119319+1.90675352e-17j]],\n",
       "\n",
       "       [[0.00119319+1.90675352e-17j, 0.00119319+1.90675352e-17j],\n",
       "        [0.00119319+1.90675352e-17j, 0.06927967-7.91230457e-18j]]])"
      ]
     },
     "execution_count": 66,
     "metadata": {},
     "output_type": "execute_result"
    }
   ],
   "source": [
    "q_star = 8.22837046\n",
    "cyl_q1 = q_star*np.array([1, 0, 0])\n",
    "cyl_q2 = 0.5*q_star*np.array([-1, np.sqrt(3), 0])\n",
    "cyl_q3 = 0.5*q_star*np.array([-1, -np.sqrt(3), 0])\n",
    "cyl_qs = np.array([cyl_q1, cyl_q2, cyl_q3])\n",
    "\n",
    "s3 = s3wlc(pset, N, FA, cyl_qs)\n",
    "s3"
   ]
  },
  {
   "cell_type": "code",
   "execution_count": 68,
   "metadata": {},
   "outputs": [
    {
     "data": {
      "text/plain": [
       "array([[[array([0.64859553+3.92485434e-07j]), array([0.+0.j])],\n",
       "        [array([0.+0.j]), array([0.+0.j])]],\n",
       "\n",
       "       [[array([0.+0.j]), array([0.+0.j])],\n",
       "        [array([0.+0.j]), array([0.324498-5.04404724e-07j])]]],\n",
       "      dtype=object)"
      ]
     },
     "execution_count": 68,
     "metadata": {},
     "output_type": "execute_result"
    }
   ],
   "source": [
    "\n",
    "get_sf3(n_p, n_b, it_otpt, cyl_qs)"
   ]
  },
  {
   "cell_type": "code",
   "execution_count": 73,
   "metadata": {},
   "outputs": [
    {
     "data": {
      "text/plain": [
       "array([[[array([0.06972015-3.91921524e-06j]),\n",
       "         array([0.00162481-0.00017692j])],\n",
       "        [array([0.00162481-0.00017692j]),\n",
       "         array([0.00160071+5.01065529e-05j])]],\n",
       "\n",
       "       [[array([0.00162481-0.00017692j]),\n",
       "         array([0.00160071+5.01065529e-05j])],\n",
       "        [array([0.00160071+5.01065529e-05j]),\n",
       "         array([0.06972008+8.39576466e-06j])]]], dtype=object)"
      ]
     },
     "execution_count": 73,
     "metadata": {},
     "output_type": "execute_result"
    }
   ],
   "source": [
    "get_sf3_vect(n_p, n_b, vec_otpt, cyl_qs)"
   ]
  },
  {
   "cell_type": "code",
   "execution_count": 76,
   "metadata": {},
   "outputs": [
    {
     "ename": "ValueError",
     "evalue": "not enough values to unpack (expected 4, got 3)",
     "output_type": "error",
     "traceback": [
      "\u001b[1;31m---------------------------------------------------------------------------\u001b[0m",
      "\u001b[1;31mValueError\u001b[0m                                Traceback (most recent call last)",
      "\u001b[1;32m<ipython-input-76-432bf854f3d3>\u001b[0m in \u001b[0;36m<module>\u001b[1;34m\u001b[0m\n\u001b[1;32m----> 1\u001b[1;33m \u001b[0mget_sf4_vect\u001b[0m\u001b[1;33m(\u001b[0m\u001b[0mn_p\u001b[0m\u001b[1;33m,\u001b[0m \u001b[0mn_b\u001b[0m\u001b[1;33m,\u001b[0m \u001b[0mvec_otpt\u001b[0m\u001b[1;33m,\u001b[0m \u001b[0mcyl_qs\u001b[0m\u001b[1;33m)\u001b[0m\u001b[1;33m\u001b[0m\u001b[1;33m\u001b[0m\u001b[0m\n\u001b[0m",
      "\u001b[1;32m~\\Desktop\\structure_factor\\structure_factor\\cga.py\u001b[0m in \u001b[0;36mget_sf4_vect\u001b[1;34m(n_p, n_b, all_snaps_vect_copoly, k_vecs)\u001b[0m\n\u001b[0;32m    302\u001b[0m \u001b[1;32mdef\u001b[0m \u001b[0mget_sf4_vect\u001b[0m\u001b[1;33m(\u001b[0m\u001b[0mn_p\u001b[0m\u001b[1;33m,\u001b[0m \u001b[0mn_b\u001b[0m\u001b[1;33m,\u001b[0m \u001b[0mall_snaps_vect_copoly\u001b[0m\u001b[1;33m,\u001b[0m \u001b[0mk_vecs\u001b[0m\u001b[1;33m)\u001b[0m\u001b[1;33m:\u001b[0m\u001b[1;33m\u001b[0m\u001b[1;33m\u001b[0m\u001b[0m\n\u001b[0;32m    303\u001b[0m     \u001b[0mnum_snapshots\u001b[0m \u001b[1;33m=\u001b[0m \u001b[0mint\u001b[0m\u001b[1;33m(\u001b[0m\u001b[0mlen\u001b[0m\u001b[1;33m(\u001b[0m\u001b[0mall_snaps_vect_copoly\u001b[0m\u001b[1;33m)\u001b[0m\u001b[1;33m/\u001b[0m\u001b[1;33m(\u001b[0m\u001b[0mn_p\u001b[0m \u001b[1;33m*\u001b[0m \u001b[0mn_b\u001b[0m\u001b[1;33m)\u001b[0m\u001b[1;33m)\u001b[0m\u001b[1;33m\u001b[0m\u001b[1;33m\u001b[0m\u001b[0m\n\u001b[1;32m--> 304\u001b[1;33m     \u001b[0mk1_vec\u001b[0m\u001b[1;33m,\u001b[0m \u001b[0mk2_vec\u001b[0m\u001b[1;33m,\u001b[0m \u001b[0mk3_vec\u001b[0m\u001b[1;33m,\u001b[0m \u001b[0mk4_vec\u001b[0m \u001b[1;33m=\u001b[0m \u001b[0mk_vecs\u001b[0m\u001b[1;33m\u001b[0m\u001b[1;33m\u001b[0m\u001b[0m\n\u001b[0m\u001b[0;32m    305\u001b[0m     \u001b[0mi_snap_f\u001b[0m \u001b[1;33m=\u001b[0m \u001b[0mnum_snapshots\u001b[0m\u001b[1;33m-\u001b[0m\u001b[1;36m1\u001b[0m\u001b[1;33m\u001b[0m\u001b[1;33m\u001b[0m\u001b[0m\n\u001b[0;32m    306\u001b[0m     \u001b[0mi_snap_0\u001b[0m \u001b[1;33m=\u001b[0m \u001b[1;36m0\u001b[0m\u001b[1;33m\u001b[0m\u001b[1;33m\u001b[0m\u001b[0m\n",
      "\u001b[1;31mValueError\u001b[0m: not enough values to unpack (expected 4, got 3)"
     ]
    }
   ],
   "source": [
    "get_sf4_vect(n_p, n_b, vec_otpt, cyl_qs)"
   ]
  },
  {
   "cell_type": "code",
   "execution_count": null,
   "metadata": {},
   "outputs": [],
   "source": [
    "lam_g4 = gam4(n_p, n_b, otpt, N, np.array([lam_q, -lam_q, lam_q, -lam_q]))"
   ]
  },
  {
   "cell_type": "code",
   "execution_count": null,
   "metadata": {},
   "outputs": [],
   "source": [
    "#fix gam3 and gam4 !! try high num snapshots\n",
    "\n",
    "#vectorize snapshots- grow all chains FOR ALL SNAPSHOTS simultaneously"
   ]
  }
 ],
 "metadata": {
  "kernelspec": {
   "display_name": "Python 3",
   "language": "python",
   "name": "python3"
  },
  "language_info": {
   "codemirror_mode": {
    "name": "ipython",
    "version": 3
   },
   "file_extension": ".py",
   "mimetype": "text/x-python",
   "name": "python",
   "nbconvert_exporter": "python",
   "pygments_lexer": "ipython3",
   "version": "3.8.5"
  }
 },
 "nbformat": 4,
 "nbformat_minor": 4
}
