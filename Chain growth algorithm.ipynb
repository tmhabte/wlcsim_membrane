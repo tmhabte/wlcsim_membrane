{
 "cells": [
  {
   "cell_type": "code",
   "execution_count": 1,
   "metadata": {},
   "outputs": [],
   "source": [
    "import numpy as np\n",
    "import matplotlib.pyplot as plt\n",
    "import random"
   ]
  },
  {
   "cell_type": "code",
   "execution_count": 16,
   "metadata": {},
   "outputs": [
    {
     "name": "stdout",
     "output_type": "stream",
     "text": [
      "Wall time: 44.6 s\n"
     ]
    }
   ],
   "source": [
    "%%time\n",
    "\n",
    "num_snapshots = 100#0\n",
    "n_p = 15\n",
    "n_b = 200\n",
    "l_0 = .1 #(length_kuhn = 10)\n",
    "l_p = 1\n",
    "kappa = l_p/l_0\n",
    "all_snaps = np.zeros(num_snapshots, dtype=object)\n",
    "for snap in range(num_snapshots):\n",
    "    output = np.zeros([n_p*n_b, 3])\n",
    "\n",
    "    for poly in range(n_p):\n",
    "        #first bead\n",
    "        r1 = np.array([0, 0, 0])\n",
    "        output[poly*n_b] = r1\n",
    "        \n",
    "        phi = 2*np.pi*random.uniform(0, 1)\n",
    "        theta = np.arccos(random.uniform(-1, 1))\n",
    "        u_2 = np.array([np.sin(theta)*np.cos(phi), np.sin(theta)*np.sin(phi), np.cos(theta)])\n",
    "        r2 = u_2 * l_0\n",
    "        output[poly*n_b + 1] = r2\n",
    "\n",
    "        prev_r = r2\n",
    "        for bead in range(n_b-2):\n",
    "            r = random.uniform(0, 1)\n",
    "            rho = (1/kappa)*np.log(np.exp(-kappa)+r*(np.exp(kappa)-np.exp(-kappa)))\n",
    "            theta = np.arccos(rho)\n",
    "            phi = 2*np.pi*random.uniform(0, 1)\n",
    "\n",
    "            #define z' as previous r\n",
    "            z_prime = output[poly*n_b + bead + 1]\n",
    "            z_prime = z_prime / np.linalg.norm(z_prime)\n",
    "            \n",
    "            \n",
    "#             #PATH A: rotation matrix\n",
    "\n",
    "#             #define x' and y' using rotation matrix wrt phi about z axis (random phi angle)\n",
    "            \n",
    "#             rot_mat = np.array([[np.cos(phi), -np.sin(phi), 0], [np.sin(phi), np.cos(phi), 0], [0, 0, 1]])\n",
    "#             x_prime = np.array([1, 2, 3], dtype = 'float64')\n",
    "#             x_prime -= np.dot(x_prime, z_prime) * z_prime      # make it orthogonal to z_prime\n",
    "#             x_prime /= np.linalg.norm(x_prime)\n",
    "\n",
    "#             y_prime = np.cross(z_prime, x_prime)\n",
    "            \n",
    "#             #calculate new r_prime in x'y'z' axes\n",
    "\n",
    "#             r_prime = np.array([l_0 * np.sin(theta), 0, l_0 * np.cos(theta)])\n",
    "\n",
    "#             #covert r_prime from x'y'z' to xyz\n",
    "\n",
    "#             axes_1 = np.array([[1, 0, 0], [0, 1, 0], [0, 0, 1]])\n",
    "#             origin_1 = np.array([0, 0, 0])\n",
    "\n",
    "#             axes_2 = np.dot(rot_mat, np.array([x_prime, y_prime, z_prime]))\n",
    "#             origin_2 = output[poly*n_b + bead + 1]\n",
    "\n",
    "#             r_bead = np.dot(np.transpose(axes_1), (origin_2 - origin_1 + np.dot(axes_2, r_prime)))\n",
    "            \n",
    "            \n",
    "            #PATH B: random x_prime; doesnt work?\n",
    "            #THIS MAY BE THE ISSUE -> random x vector does not ensure random phi!!\n",
    "            x_prime = np.random.randn(3)  # take a random vector (phi = random angle)\n",
    "            x_prime -= np.dot(x_prime, z_prime) * z_prime      # make it orthogonal to z_prime\n",
    "            x_prime /= np.linalg.norm(x_prime)\n",
    "\n",
    "            y_prime = np.cross(z_prime, x_prime)\n",
    "\n",
    "            #calculate new r_prime in x'y'z' axes\n",
    "\n",
    "            r_prime = np.array([l_0 * np.sin(theta)*np.cos(phi), 0+np.sin(theta)*np.sin(phi), l_0 * np.cos(theta)]) # u_bead where (phi = 0)\n",
    "            #even though should have random axes, adding more randomness to phi by including additional rotation.\n",
    "            #convert r_prime from x'y'z' to xyz\n",
    "\n",
    "            axes_1 = np.array([[1, 0, 0], [0, 1, 0], [0, 0, 1]])\n",
    "            origin_1 = np.array([0, 0, 0])\n",
    "\n",
    "            axes_2 = np.array([x_prime, y_prime, z_prime])\n",
    "            origin_2 = output[poly*n_b + bead + 1]\n",
    "\n",
    "            r_bead = np.dot(np.transpose(axes_1), (origin_2 - origin_1 + np.dot(axes_2, r_prime)))\n",
    "\n",
    "\n",
    "            #u_bead = np.array([np.sin(theta)*np.cos(phi), np.sin(theta)*np.sin(phi), np.cos(theta)])\n",
    "            #r_bead = u_bead * l_0\n",
    "            #print(r_bead)\n",
    "            #output[poly*n_b + bead + 2] = output[poly*n_b + bead + 1] + r_bead #how to find next x y z coordinates\n",
    "            output[poly*n_b + bead + 2] = r_bead\n",
    "    all_snaps[snap] = output"
   ]
  },
  {
   "cell_type": "code",
   "execution_count": 3,
   "metadata": {},
   "outputs": [],
   "source": [
    "# fig = plt.figure()\n",
    "# rng1 = 0\n",
    "# rng2 = 5\n",
    "# ax = plt.axes(projection='3d')\n",
    "# ax.scatter3D(otpt[rng1:rng2, 0], otpt[rng1:rng2, 1], otpt[rng1:rng2, 2] ,color='y')"
   ]
  },
  {
   "cell_type": "code",
   "execution_count": 4,
   "metadata": {},
   "outputs": [],
   "source": [
    "import sys\n",
    "sys.path.insert(1, '../wlcstat/')"
   ]
  },
  {
   "cell_type": "code",
   "execution_count": 5,
   "metadata": {},
   "outputs": [],
   "source": [
    "import numpy as np\n",
    "import scipy.special as sp\n",
    "import matplotlib.pyplot as plt\n",
    "import wlcstat.wlcave as wlcave\n",
    "import wlcstat.wlcgreen as wlcgreen\n",
    "import wlcstat.wlcstruc as wlcstruc\n",
    "import wlcstat.poly_dyn as poly_dyn\n",
    "import wlcstat.wlc_lcpoly as wlc_lcpoly\n",
    "import wlcstat.poly_confine as poly_confine\n",
    "import wlcstat.active_brown as active_brown\n",
    "import wlcstat.util.wlc_vertex as vertex\n",
    "import importlib"
   ]
  },
  {
   "cell_type": "code",
   "execution_count": 6,
   "metadata": {},
   "outputs": [
    {
     "data": {
      "text/plain": [
       "<module 'wlcstat.active_brown' from 'C:\\\\Users\\\\Thomas\\\\Desktop\\\\structure_factor\\\\structure_factor\\\\wlcstat\\\\active_brown.py'>"
      ]
     },
     "execution_count": 6,
     "metadata": {},
     "output_type": "execute_result"
    }
   ],
   "source": [
    "import importlib\n",
    "importlib.reload(wlcave)\n",
    "importlib.reload(wlcgreen)\n",
    "importlib.reload(wlcstruc)\n",
    "importlib.reload(poly_dyn)\n",
    "importlib.reload(poly_confine)\n",
    "importlib.reload(wlc_lcpoly)\n",
    "importlib.reload(active_brown)"
   ]
  },
  {
   "cell_type": "code",
   "execution_count": 7,
   "metadata": {},
   "outputs": [],
   "source": [
    "n_p = 15\n",
    "n_b = 200\n",
    "n_b_calc = 200 \n",
    "length_kuhn = 10\n",
    "i_snap_0 = 9000\n",
    "i_snap_f = 10000\n",
    "\n",
    "k0 = 1e-2\n",
    "kf = 1e2\n",
    "nk = 50\n",
    "k_vec = np.logspace(np.log10(k0), np.log10(kf), nk)\n",
    "\n",
    "s2_sim = np.zeros(nk)\n",
    "\n",
    "for i_snap in range(i_snap_0, i_snap_f + 1):\n",
    "    u_snap = np.loadtxt('sim_data/u' + str(i_snap))\n",
    "    r_snap = np.loadtxt('sim_data/r' + str(i_snap))\n",
    "    for i_p in range(n_p):\n",
    "        i_0 = n_b * i_p\n",
    "        i_f = i_0 + n_b_calc\n",
    "        u_i = u_snap[i_0:i_f, :]\n",
    "        r_i = r_snap[i_0:i_f, :]\n",
    "        \n",
    "        #why can you separate by x, y, z?\n",
    "        s_mat = np.exp(1j * np.outer(k_vec, r_i[:,0]) / 2)        \n",
    "        s2_sim += np.abs(np.sum(s_mat, axis = 1)) ** 2 / (n_b_calc ** 2 * (i_snap_f - i_snap_0 + 1) * n_p * 3)\n",
    "        s_mat = np.exp(1j * np.outer(k_vec, r_i[:,1]) / 2)        \n",
    "        s2_sim += np.abs(np.sum(s_mat, axis = 1)) ** 2 / (n_b_calc ** 2 * (i_snap_f - i_snap_0 + 1) * n_p * 3)\n",
    "        s_mat = np.exp(1j * np.outer(k_vec, r_i[:,2]) / 2)        \n",
    "        s2_sim += np.abs(np.sum(s_mat, axis = 1)) ** 2 / (n_b_calc ** 2 * (i_snap_f - i_snap_0 + 1) * n_p * 3)"
   ]
  },
  {
   "cell_type": "code",
   "execution_count": 17,
   "metadata": {},
   "outputs": [],
   "source": [
    "i_snap_f = num_snapshots-1\n",
    "i_snap_0 = 0\n",
    "\n",
    "s2_sim_cga = np.zeros(nk)\n",
    "for i_snap in range(num_snapshots):\n",
    "    r_snap = all_snaps[i_snap]\n",
    "    for i_p in range(n_p):\n",
    "        i_0 = n_b * i_p\n",
    "        i_f = i_0 + n_b_calc\n",
    "        #u_i = u_snap[i_0:i_f, :]\n",
    "        r_i = r_snap[i_0:i_f, :]\n",
    "\n",
    "        #why can you separate by x, y, z?\n",
    "        s_mat = np.exp(1j * np.outer(k_vec, r_i[:,0]) / 2)        \n",
    "        s2_sim_cga += np.abs(np.sum(s_mat, axis = 1)) ** 2 / (n_b_calc ** 2 * (i_snap_f - i_snap_0 + 1) * n_p * 3)\n",
    "        s_mat = np.exp(1j * np.outer(k_vec, r_i[:,1]) / 2)        \n",
    "        s2_sim_cga += np.abs(np.sum(s_mat, axis = 1)) ** 2 / (n_b_calc ** 2 * (i_snap_f - i_snap_0 + 1) * n_p * 3)\n",
    "        s_mat = np.exp(1j * np.outer(k_vec, r_i[:,2]) / 2)        \n",
    "        s2_sim_cga += np.abs(np.sum(s_mat, axis = 1)) ** 2 / (n_b_calc ** 2 * (i_snap_f - i_snap_0 + 1) * n_p * 3)"
   ]
  },
  {
   "cell_type": "code",
   "execution_count": 18,
   "metadata": {},
   "outputs": [
    {
     "data": {
      "image/png": "[encoded data removed]",
      "text/plain": [
       "<Figure size 720x576 with 1 Axes>"
      ]
     },
     "metadata": {
      "needs_background": "light"
     },
     "output_type": "display_data"
    }
   ],
   "source": [
    "plt.figure(figsize=(10,8))\n",
    "font = {'family' : 'serif',\n",
    "        'weight':'normal',\n",
    "        'size': 18}\n",
    "plt.rc('font', **font)\n",
    "    \n",
    "plt.plot(k_vec, s2_sim,'o')\n",
    "plt.plot(k_vec, s2_sim_cga)\n",
    "#plt.plot(k_vec, 1-s2_th,'-')    \n",
    "#plt.plot(k_vec, 1-s2_asymp,'--')    \n",
    "\n",
    "plt.xscale('log')\n",
    "plt.yscale('log')\n",
    "\n",
    "plt.xlabel(r'$K$')\n",
    "plt.ylabel(r'Structure Factor $S_{2}(K;N)$')\n",
    "#plt.xlim((1e-2, 1e2))\n",
    "plt.tight_layout()\n",
    "plt.show()"
   ]
  },
  {
   "cell_type": "code",
   "execution_count": null,
   "metadata": {},
   "outputs": [],
   "source": []
  }
 ],
 "metadata": {
  "kernelspec": {
   "display_name": "Python 3",
   "language": "python",
   "name": "python3"
  },
  "language_info": {
   "codemirror_mode": {
    "name": "ipython",
    "version": 3
   },
   "file_extension": ".py",
   "mimetype": "text/x-python",
   "name": "python",
   "nbconvert_exporter": "python",
   "pygments_lexer": "ipython3",
   "version": "3.8.5"
  }
 },
 "nbformat": 4,
 "nbformat_minor": 4
}
