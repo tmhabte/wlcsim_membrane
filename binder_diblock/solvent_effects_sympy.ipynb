{
 "cells": [
  {
   "cell_type": "code",
   "execution_count": null,
   "id": "ee932bb5-1913-4b0d-ba6d-d5e00b3e95b0",
   "metadata": {},
   "outputs": [],
   "source": [
    "import sympy as sm\n"
   ]
  },
  {
   "cell_type": "markdown",
   "id": "42e0a159-e652-4c5c-bf01-628f32b77c06",
   "metadata": {},
   "source": [
    "each polymer sf has prefactor $\\frac{n_p N^2 A^2}{V_{sys}} = \\phi_p N A $. Inverting leads to $ \\frac{1}{\\phi_p NA}$. unaffected by $S_SS$. equivalently, for $S_{SS}^{-1}$ have $\\frac{n_s v_s^2}{V_{sys}} = \\phi_s v_s; \\frac{1}{\\phi_Sv_S}$"
   ]
  },
  {
   "cell_type": "code",
   "execution_count": 109,
   "id": "1c927293-39e3-4d16-b0de-a70ff15848db",
   "metadata": {},
   "outputs": [],
   "source": [
    "S_AA, S_AB, S_BB, S_SS, chi= sm.symbols(r'\\frac{1}{\\phi_pN}S_{AA}^{-1} \\frac{1}{\\phi_pN}S_{AB}^{-1} \\frac{1}{\\phi_pN}S_{BB}^{-1} \\frac{1}{\\phi_sv_s}S_{SS}^{-1} \\chi')\n",
    "T1 = sm.symbols('\\phi_p')\n",
    "T2 = sm.symbols(\"-f_A\")\n",
    "T3 =  sm.symbols('\\phi_p')\n",
    "T4 = sm.symbols('f_B')\n",
    "T5 = 0\n",
    "T6 = sm.symbols('(2l_pA)^{0.5}')\n",
    "# T2, T3, T4, T5, T6 = sm.symbols('\\phi_p, -f, T_3, T_4, T_5, T_6')"
   ]
  },
  {
   "cell_type": "code",
   "execution_count": 111,
   "id": "fb448fd5-a8e2-4326-a6d6-88fc1308ef50",
   "metadata": {},
   "outputs": [
    {
     "data": {
      "text/latex": [
       "$\\displaystyle (2l_pA)^{0.5}$"
      ],
      "text/plain": [
       "(2l_pA)^{0.5}"
      ]
     },
     "execution_count": 111,
     "metadata": {},
     "output_type": "execute_result"
    }
   ],
   "source": [
    "T6"
   ]
  },
  {
   "cell_type": "code",
   "execution_count": 113,
   "id": "76ea9ae5-c428-4ce9-85ca-4153d5d49522",
   "metadata": {},
   "outputs": [
    {
     "data": {
      "text/latex": [
       "$\\displaystyle \\left[\\begin{matrix}\\frac{1}{\\phi_pN}S_{AA}^{-1} & \\chi - \\frac{1}{\\phi_pN}S_{AB}^{-1} & 0\\\\\\chi - \\frac{1}{\\phi_pN}S_{AB}^{-1} & \\frac{1}{\\phi_pN}S_{BB}^{-1} & 0\\\\0 & 0 & \\frac{1}{\\phi_sv_s}S_{SS}^{-1}\\end{matrix}\\right]$"
      ],
      "text/plain": [
       "Matrix([\n",
       "[       \\frac{1}{\\phi_pN}S_{AA}^{-1}, \\chi - \\frac{1}{\\phi_pN}S_{AB}^{-1},                              0],\n",
       "[\\chi - \\frac{1}{\\phi_pN}S_{AB}^{-1},        \\frac{1}{\\phi_pN}S_{BB}^{-1},                              0],\n",
       "[                                  0,                                   0, \\frac{1}{\\phi_sv_s}S_{SS}^{-1}]])"
      ]
     },
     "execution_count": 113,
     "metadata": {},
     "output_type": "execute_result"
    }
   ],
   "source": [
    "G2_unred = sm.Matrix(3,3,[S_AA, -S_AB + chi, 0, -S_AB + chi, S_BB, 0, 0,0, S_SS])\n",
    "G2_unred"
   ]
  },
  {
   "cell_type": "code",
   "execution_count": 115,
   "id": "f38f2712-aaf1-47bc-9533-94368e87653c",
   "metadata": {},
   "outputs": [
    {
     "data": {
      "text/latex": [
       "$\\displaystyle \\left[\\begin{matrix}\\phi_{p} & -f_{A}\\\\\\phi_{p} & f_{B}\\\\0 & (2l_pA)^{0.5}\\end{matrix}\\right]$"
      ],
      "text/plain": [
       "Matrix([\n",
       "[\\phi_p,          -f_A],\n",
       "[\\phi_p,           f_B],\n",
       "[     0, (2l_pA)^{0.5}]])"
      ]
     },
     "execution_count": 115,
     "metadata": {},
     "output_type": "execute_result"
    }
   ],
   "source": [
    "T = sm.Matrix(3,2, [T1, T2, T3, T4, T5, T6])\n",
    "T\n",
    "# first column is psi2, second column is psi 1"
   ]
  },
  {
   "cell_type": "code",
   "execution_count": 117,
   "id": "47f920a7-e90a-43de-9a7a-945d6f191751",
   "metadata": {},
   "outputs": [
    {
     "data": {
      "text/latex": [
       "$\\displaystyle \\left[\\begin{matrix}\\phi_{p} \\left(\\frac{1}{\\phi_pN}S_{AA}^{-1} \\phi_{p} + \\phi_{p} \\left(\\chi - \\frac{1}{\\phi_pN}S_{AB}^{-1}\\right)\\right) + \\phi_{p} \\left(\\frac{1}{\\phi_pN}S_{BB}^{-1} \\phi_{p} + \\phi_{p} \\left(\\chi - \\frac{1}{\\phi_pN}S_{AB}^{-1}\\right)\\right) & -f_{A} \\left(\\frac{1}{\\phi_pN}S_{AA}^{-1} \\phi_{p} + \\phi_{p} \\left(\\chi - \\frac{1}{\\phi_pN}S_{AB}^{-1}\\right)\\right) + f_{B} \\left(\\frac{1}{\\phi_pN}S_{BB}^{-1} \\phi_{p} + \\phi_{p} \\left(\\chi - \\frac{1}{\\phi_pN}S_{AB}^{-1}\\right)\\right)\\\\\\phi_{p} \\left(-f_{A} \\frac{1}{\\phi_pN}S_{AA}^{-1} + f_{B} \\left(\\chi - \\frac{1}{\\phi_pN}S_{AB}^{-1}\\right)\\right) + \\phi_{p} \\left(-f_{A} \\left(\\chi - \\frac{1}{\\phi_pN}S_{AB}^{-1}\\right) + \\frac{1}{\\phi_pN}S_{BB}^{-1} f_{B}\\right) & \\left((2l_pA)^{0.5}\\right)^{2} \\frac{1}{\\phi_sv_s}S_{SS}^{-1} + -f_{A} \\left(-f_{A} \\frac{1}{\\phi_pN}S_{AA}^{-1} + f_{B} \\left(\\chi - \\frac{1}{\\phi_pN}S_{AB}^{-1}\\right)\\right) + f_{B} \\left(-f_{A} \\left(\\chi - \\frac{1}{\\phi_pN}S_{AB}^{-1}\\right) + \\frac{1}{\\phi_pN}S_{BB}^{-1} f_{B}\\right)\\end{matrix}\\right]$"
      ],
      "text/plain": [
       "Matrix([\n",
       "[\\phi_p*(\\frac{1}{\\phi_pN}S_{AA}^{-1}*\\phi_p + \\phi_p*(\\chi - \\frac{1}{\\phi_pN}S_{AB}^{-1})) + \\phi_p*(\\frac{1}{\\phi_pN}S_{BB}^{-1}*\\phi_p + \\phi_p*(\\chi - \\frac{1}{\\phi_pN}S_{AB}^{-1})),                                        -f_A*(\\frac{1}{\\phi_pN}S_{AA}^{-1}*\\phi_p + \\phi_p*(\\chi - \\frac{1}{\\phi_pN}S_{AB}^{-1})) + f_B*(\\frac{1}{\\phi_pN}S_{BB}^{-1}*\\phi_p + \\phi_p*(\\chi - \\frac{1}{\\phi_pN}S_{AB}^{-1}))],\n",
       "[          \\phi_p*(-f_A*\\frac{1}{\\phi_pN}S_{AA}^{-1} + f_B*(\\chi - \\frac{1}{\\phi_pN}S_{AB}^{-1})) + \\phi_p*(-f_A*(\\chi - \\frac{1}{\\phi_pN}S_{AB}^{-1}) + \\frac{1}{\\phi_pN}S_{BB}^{-1}*f_B), (2l_pA)^{0.5}**2*\\frac{1}{\\phi_sv_s}S_{SS}^{-1} - f_A*(-f_A*\\frac{1}{\\phi_pN}S_{AA}^{-1} + f_B*(\\chi - \\frac{1}{\\phi_pN}S_{AB}^{-1})) + f_B*(-f_A*(\\chi - \\frac{1}{\\phi_pN}S_{AB}^{-1}) + \\frac{1}{\\phi_pN}S_{BB}^{-1}*f_B)]])"
      ]
     },
     "execution_count": 117,
     "metadata": {},
     "output_type": "execute_result"
    }
   ],
   "source": [
    "G2_red = T.T * G2_unred * T\n",
    "G2_red"
   ]
  },
  {
   "cell_type": "markdown",
   "id": "0a6e3483-bba0-4b45-9260-3336039e7a15",
   "metadata": {},
   "source": [
    "each polymer sf has prefactor $\\frac{n_p N^2 A^2}{V_{sys}} = \\phi_p N A $. Inverting leads to $ \\frac{1}{\\phi_p NA}$. unaffected by $S_SS$. equivalently, for sSS have $\\frac{1}{\\phi_Sv_S}$"
   ]
  },
  {
   "cell_type": "code",
   "execution_count": 120,
   "id": "cf5cd10e-44e4-41d8-9b69-0ab564dbfa22",
   "metadata": {},
   "outputs": [
    {
     "data": {
      "text/latex": [
       "$\\displaystyle \\phi_{p}^{2} \\cdot \\left(2 \\chi + \\frac{1}{\\phi_pN}S_{AA}^{-1} - 2 \\frac{1}{\\phi_pN}S_{AB}^{-1} + \\frac{1}{\\phi_pN}S_{BB}^{-1}\\right)$"
      ],
      "text/plain": [
       "\\phi_p**2*(2*\\chi + \\frac{1}{\\phi_pN}S_{AA}^{-1} - 2*\\frac{1}{\\phi_pN}S_{AB}^{-1} + \\frac{1}{\\phi_pN}S_{BB}^{-1})"
      ]
     },
     "execution_count": 120,
     "metadata": {},
     "output_type": "execute_result"
    }
   ],
   "source": [
    "sm.simplify(G2_red[0,0])"
   ]
  },
  {
   "cell_type": "code",
   "execution_count": 126,
   "id": "5bb56b0f-0875-458f-a3b8-9b47eabb1f25",
   "metadata": {},
   "outputs": [
    {
     "data": {
      "text/latex": [
       "$\\displaystyle \\phi_{p} \\left(-f_{A} \\left(\\chi + \\frac{1}{\\phi_pN}S_{AA}^{-1} - \\frac{1}{\\phi_pN}S_{AB}^{-1}\\right) + f_{B} \\left(\\chi - \\frac{1}{\\phi_pN}S_{AB}^{-1} + \\frac{1}{\\phi_pN}S_{BB}^{-1}\\right)\\right)$"
      ],
      "text/plain": [
       "\\phi_p*(-f_A*(\\chi + \\frac{1}{\\phi_pN}S_{AA}^{-1} - \\frac{1}{\\phi_pN}S_{AB}^{-1}) + f_B*(\\chi - \\frac{1}{\\phi_pN}S_{AB}^{-1} + \\frac{1}{\\phi_pN}S_{BB}^{-1}))"
      ]
     },
     "execution_count": 126,
     "metadata": {},
     "output_type": "execute_result"
    }
   ],
   "source": [
    "sm.simplify(G2_red[0,1])"
   ]
  },
  {
   "cell_type": "code",
   "execution_count": 130,
   "id": "1f0ac591-3820-455e-9152-0795d1b96457",
   "metadata": {},
   "outputs": [
    {
     "data": {
      "text/latex": [
       "$\\displaystyle \\left((2l_pA)^{0.5}\\right)^{2} \\frac{1}{\\phi_sv_s}S_{SS}^{-1} + -f_{A} \\left(-f_{A} \\frac{1}{\\phi_pN}S_{AA}^{-1} + f_{B} \\left(\\chi - \\frac{1}{\\phi_pN}S_{AB}^{-1}\\right)\\right) + f_{B} \\left(-f_{A} \\left(\\chi - \\frac{1}{\\phi_pN}S_{AB}^{-1}\\right) + \\frac{1}{\\phi_pN}S_{BB}^{-1} f_{B}\\right)$"
      ],
      "text/plain": [
       "(2l_pA)^{0.5}**2*\\frac{1}{\\phi_sv_s}S_{SS}^{-1} - f_A*(-f_A*\\frac{1}{\\phi_pN}S_{AA}^{-1} + f_B*(\\chi - \\frac{1}{\\phi_pN}S_{AB}^{-1})) + f_B*(-f_A*(\\chi - \\frac{1}{\\phi_pN}S_{AB}^{-1}) + \\frac{1}{\\phi_pN}S_{BB}^{-1}*f_B)"
      ]
     },
     "execution_count": 130,
     "metadata": {},
     "output_type": "execute_result"
    }
   ],
   "source": [
    "sm.simplify(G2_red[1,1])"
   ]
  },
  {
   "cell_type": "code",
   "execution_count": null,
   "id": "e4a6f813-1dbd-46c9-8535-a488b4ad547a",
   "metadata": {},
   "outputs": [],
   "source": [
    "#  FIX CHI SIGN!! is transformation matrix different?\n",
    "# i am arguing that psi1 defininto is incorrect- psi A should be multiplied with f_A, \n",
    "    # and solvent should be present!!"
   ]
  }
 ],
 "metadata": {
  "kernelspec": {
   "display_name": "Python 3 (ipykernel)",
   "language": "python",
   "name": "python3"
  },
  "language_info": {
   "codemirror_mode": {
    "name": "ipython",
    "version": 3
   },
   "file_extension": ".py",
   "mimetype": "text/x-python",
   "name": "python",
   "nbconvert_exporter": "python",
   "pygments_lexer": "ipython3",
   "version": "3.10.14"
  }
 },
 "nbformat": 4,
 "nbformat_minor": 5
}
