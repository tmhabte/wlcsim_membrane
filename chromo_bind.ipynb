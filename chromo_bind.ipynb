{
 "cells": [
  {
   "cell_type": "markdown",
   "metadata": {},
   "source": [
    "Epigenetic Reader Protein Binding  \n",
    "============================\n",
    "\n",
    "Self-consistent field theory for multiple marks\n",
    "------------------------------------------------------"
   ]
  },
  {
   "cell_type": "markdown",
   "metadata": {},
   "source": [
    "Questions:\n",
    "\n",
    "    -in eval_f_bind why introduce j_int. In theory had (0 marks 2 bound) = (0 marks 0 bound). Is it to take self-interaction into account? \n",
    "    - based on overleaf doc, only need <s> to get f bar, which can then use to get <s_i s_j>, correct? similar to what was done below with s2_bind\n",
    "    - how to verify <s_i s_j>, or (eventually) structure factor? simulation data to compare to?"
   ]
  },
  {
   "cell_type": "code",
   "execution_count": 1,
   "metadata": {},
   "outputs": [],
   "source": [
    "import sys\n",
    "sys.path.insert(1, './wlcstat/')"
   ]
  },
  {
   "cell_type": "code",
   "execution_count": 2,
   "metadata": {},
   "outputs": [],
   "source": [
    "import numpy as np\n",
    "import scipy.special as sp\n",
    "import scipy.optimize as opt\n",
    "import matplotlib.pyplot as plt"
   ]
  },
  {
   "cell_type": "code",
   "execution_count": 3,
   "metadata": {},
   "outputs": [],
   "source": [
    "def eval_f_bind(n_b, n_m, e_m = -1.5, j_int = -3.92):\n",
    "    r\"\"\"\n",
    "    eval_f_bind - Evaluate the binding free energy\n",
    "    \n",
    "    Parameters\n",
    "    ----------\n",
    "    n_b : integer\n",
    "        Number of reader proteins bound to the nucleosome\n",
    "    n_m : integer\n",
    "        Number of marked tails\n",
    "    e_me3 : float\n",
    "        Favorable binding free energy to tri-methylated tails\n",
    "        \n",
    "    Returns\n",
    "    -------\n",
    "    f_bind : float\n",
    "        Binding free energy\n",
    "    \n",
    "    \"\"\"\n",
    "    # Calculate the cases for the binding free energy\n",
    "    f_bind = 0\n",
    "\n",
    "    if n_b == 0:\n",
    "        f_bind = 0\n",
    "    elif n_b == 1:\n",
    "        if n_m == 0:\n",
    "            f_bind = -np.log(2)\n",
    "        elif n_m == 1:\n",
    "            f_bind = -np.log(1. + np.exp(-e_m))\n",
    "        elif n_m == 2:\n",
    "            f_bind = e_m - np.log(2)\n",
    "    elif n_b == 2:\n",
    "        if n_m == 0:\n",
    "            f_bind = j_int\n",
    "        elif n_m == 1:\n",
    "            f_bind = e_m + j_int\n",
    "        elif n_m == 2:\n",
    "            f_bind = 2 * e_m + j_int\n",
    "    \n",
    "    return f_bind"
   ]
  },
  {
   "cell_type": "code",
   "execution_count": 4,
   "metadata": {},
   "outputs": [],
   "source": [
    "def eval_opt_func(x, mu, e_m, v_int, f_om, phi_c):\n",
    "    r\"\"\"\n",
    "    eval_opt_func - Evaluate the binding state for \n",
    "    \n",
    "    \"\"\"\n",
    "\n",
    "    # Convert to average bound variable and phi variable\n",
    "    n_bind = len(mu) # number of reader protein types\n",
    "    s_bind = 2. * np.exp(x) / (1 + np.exp(x))\n",
    "    \n",
    "    phi_bind = np.zeros(n_bind)\n",
    "    for mark in range(n_bind):\n",
    "        ind0 = mark * 3 \n",
    "#         phi_bind[mark] = phi_c * np.sum(f_om[ind0:(ind0 + 2)] * s_bind[ind0:(ind0 + 2)]) # ORGINAL. OBOE\n",
    "        phi_bind[mark] = phi_c * np.sum(f_om[ind0:(ind0 + 3)] * s_bind[ind0:(ind0 + 3)]) # MINE\n",
    "    erg_int = np.matmul(v_int, phi_bind)\n",
    "    \n",
    "    # Evaluate the optimization function\n",
    "    opt_func = np.zeros(n_bind * 3)\n",
    "    \n",
    "    ind = 0\n",
    "    for mark in range(n_bind): # for each reader protein/ mark type\n",
    "        for om in range(3): # for each possible number of marked tails on nucl\n",
    "            f_bind_1 = eval_f_bind(1, om, e_m[mark], v_int[mark, mark])\n",
    "            f_bind_2 = eval_f_bind(2, om, e_m[mark], v_int[mark, mark])\n",
    "            q = 1 + np.exp(mu[mark] - f_bind_1 - erg_int[mark]) + np.exp(2 * mu[mark] - f_bind_2 - 2 * erg_int[mark])\n",
    "            #calculate the difference b/w new and previous avg binding state \n",
    "            opt_func[ind] = s_bind[ind] - (np.exp(mu[mark] - f_bind_1 - erg_int[mark]) + \n",
    "                                             2 * np.exp(2 * mu[mark] - f_bind_2 - 2 * erg_int[mark])) / q        \n",
    "            ind += 1\n",
    "    \n",
    "    return opt_func"
   ]
  },
  {
   "cell_type": "code",
   "execution_count": 5,
   "metadata": {},
   "outputs": [],
   "source": [
    "def eval_s_bind(mu, e_m, v_int, f_om, phi_c):\n",
    "    # Convert to average bound variable and phi variable\n",
    "    n_bind = len(mu)\n",
    "    for mark in range(n_bind):\n",
    "        ind0 = mark * 3\n",
    "        indf = ind0 + 3\n",
    "        f_om[ind0:indf] /= np.sum(f_om[ind0:indf])\n",
    "    \n",
    "    x = np.zeros(n_bind * 3)\n",
    "    x0 = np.zeros(n_bind * 3)\n",
    "    data = (mu, e_m, v_int, f_om, phi_c)\n",
    "    \n",
    "    #doing unbounded non-linear solver for x, then calc (bounded) var s_bind\n",
    "    x = opt.fsolve(eval_opt_func, x0=x0, args=tuple(data))\n",
    "    \n",
    "    s_bind = 2. * np.exp(x) / (1 + np.exp(x))\n",
    "    \n",
    "    return s_bind"
   ]
  },
  {
   "cell_type": "code",
   "execution_count": 6,
   "metadata": {},
   "outputs": [],
   "source": [
    "def eval_s2_bind(s_bind, mu, e_m, v_int, f_om, phi_c):\n",
    "    r\"\"\"\n",
    "    eval_s2_bind - Evaluate the binding state for \n",
    "    \n",
    "    \"\"\"\n",
    "\n",
    "    # Convert to average bound variable and phi variable\n",
    "    n_bind = len(mu)\n",
    "    s2_bind = np.zeros(n_bind * 3)\n",
    "    \n",
    "    phi_bind = np.zeros(n_bind)\n",
    "    for mark in range(n_bind):\n",
    "        ind0 = mark * 3\n",
    "        phi_bind[mark] = phi_c * np.sum(f_om[ind0:(ind0 + 3)] * s_bind[ind0:(ind0 + 3)]) \n",
    "    erg_int = np.matmul(v_int, phi_bind)\n",
    "    \n",
    "    \n",
    "    # Evaluate the optimization function\n",
    "    opt_func = np.zeros(n_bind * 3)\n",
    "    \n",
    "    ind = 0\n",
    "    for mark in range(n_bind):\n",
    "        for om in range(3):\n",
    "#            f_bind_1 = eval_f_bind(1, om, e_m[mark], v_int[mark, mark])\n",
    "#            f_bind_2 = eval_f_bind(2, om, e_m[mark], v_int[mark, mark])\n",
    "            f_bind_1 = eval_f_bind(1, om, e_m[mark], 0 * v_int[mark, mark])\n",
    "            f_bind_2 = eval_f_bind(2, om, e_m[mark], 0 * v_int[mark, mark])\n",
    "            q = 1 + np.exp(mu[mark] - f_bind_1 - erg_int[mark]) + np.exp(2 * mu[mark] - f_bind_2 - 2 * erg_int[mark])\n",
    "            s2_bind[ind] = (np.exp(mu[mark] - f_bind_1 - erg_int[mark]) + \n",
    "                                             4 * np.exp(2 * mu[mark] - f_bind_2 - 2 * erg_int[mark])) / q        \n",
    "            ind += 1\n",
    "    \n",
    "    return s2_bind"
   ]
  },
  {
   "cell_type": "markdown",
   "metadata": {},
   "source": [
    "Test the optimization procedure"
   ]
  },
  {
   "cell_type": "code",
   "execution_count": 7,
   "metadata": {},
   "outputs": [
    {
     "data": {
      "text/plain": [
       "array([0.9731654 , 0.91545365, 0.77805158, 0.94474312, 0.82268372,\n",
       "       0.52872238])"
      ]
     },
     "execution_count": 7,
     "metadata": {},
     "output_type": "execute_result"
    }
   ],
   "source": [
    "n_bind = 2 #types of proteins/marks\n",
    "\n",
    "mu = np.array([-4.5, -5]) #chemical potential in solution\n",
    "e_m = np.array([-1.5, -1.5]) #binding energy\n",
    "f_om = np.array([0.5, 0, 0.5, 0.75, 0, 0.25]) # fraction of nucleosomes with 0,1,2 marks per protein type\n",
    "v_int = np.array([[-3.92, 3.0],[3.0, -3.92]]) # protein-protein interaction param\n",
    "phi_c = 0.6 # avg amount of chromosome \n",
    "\n",
    "x = np.zeros(n_bind * 3)\n",
    "\n",
    "eval_opt_func(x, mu, e_m, v_int, f_om, phi_c)"
   ]
  },
  {
   "cell_type": "code",
   "execution_count": 8,
   "metadata": {},
   "outputs": [],
   "source": [
    "s_bind = eval_s_bind(mu, e_m, v_int, f_om, phi_c)\n",
    "s2_bind = eval_s2_bind(s_bind, mu, e_m, v_int, f_om, phi_c)"
   ]
  },
  {
   "cell_type": "code",
   "execution_count": 9,
   "metadata": {},
   "outputs": [
    {
     "data": {
      "text/plain": [
       "array([0.03444556, 0.10958987, 0.2921737 , 0.01778006, 0.05488237,\n",
       "       0.13774465])"
      ]
     },
     "execution_count": 9,
     "metadata": {},
     "output_type": "execute_result"
    }
   ],
   "source": [
    "s_bind\n",
    "#average binding state for protein 1 marks = 0,1,2 ; protein 2 marks = 0,1,2"
   ]
  },
  {
   "cell_type": "code",
   "execution_count": 10,
   "metadata": {},
   "outputs": [
    {
     "data": {
      "text/plain": [
       "array([0.0287417 , 0.06745299, 0.04826242, 0.01092154, 0.02741412,\n",
       "       0.03136135])"
      ]
     },
     "execution_count": 10,
     "metadata": {},
     "output_type": "execute_result"
    }
   ],
   "source": [
    "s2_bind - s_bind ** 2"
   ]
  },
  {
   "cell_type": "markdown",
   "metadata": {},
   "source": [
    "## Langmuir isotherm analysis"
   ]
  },
  {
   "cell_type": "code",
   "execution_count": 19,
   "metadata": {},
   "outputs": [],
   "source": [
    "n_bind = 1 #types of proteins/marks\n",
    "\n",
    "e_m = np.array([-1.5]) #binding energy\n",
    "# e_m = np.array([0]) #binding energy\n",
    "f_om = np.array([1/3, 1/3, 1/3]) # fraction of nucleosomes with 0,1,2 marks per protein type\n",
    "# v_int = np.array([[-3.92]]) # protein-protein interaction param\n",
    "v_int = np.array([[0]]) # protein-protein interaction param\n",
    "phi_c = 1# avg amount of chromosome \n",
    "\n",
    "x = np.zeros(n_bind * 3)\n",
    "\n",
    "# eval_opt_func(x, mu, e_m, v_int, f_om, phi_c)"
   ]
  },
  {
   "cell_type": "code",
   "execution_count": 20,
   "metadata": {},
   "outputs": [],
   "source": [
    "mu_array = np.arange(-10, 10, .1)\n",
    "# mu_array = np.arange(-6, -1, 2)\n",
    "f_bar_arr = np.zeros(len(mu_array))\n",
    "s_bind_0sig = np.zeros(len(mu_array))\n",
    "s_bind_1sig = np.zeros(len(mu_array))\n",
    "s_bind_2sig = np.zeros(len(mu_array))\n",
    "for i,mu in enumerate(mu_array):\n",
    "    s_bind = eval_s_bind([mu], e_m, v_int, f_om, phi_c)\n",
    "#     print(\"s_bind:\")\n",
    "#     print(s_bind)\n",
    "#     print(s_bind[0:(0 + 3)])\n",
    "#     f_bar = np.sum(f_om[0:(0 + 3)] * s_bind[0:(0 + 3)])\n",
    "    f_bar = np.sum(f_om * s_bind)\n",
    "    s_bind_0sig[i] = s_bind[0]\n",
    "    s_bind_1sig[i] = s_bind[1]\n",
    "    s_bind_2sig[i] = s_bind[2]\n",
    "    f_bar_arr[i] = f_bar\n",
    "# f_bar_arr"
   ]
  },
  {
   "cell_type": "code",
   "execution_count": 21,
   "metadata": {},
   "outputs": [
    {
     "data": {
      "text/plain": [
       "<matplotlib.legend.Legend at 0x218a0a109a0>"
      ]
     },
     "execution_count": 21,
     "metadata": {},
     "output_type": "execute_result"
    },
    {
     "data": {
      "text/plain": [
       "<Figure size 640x480 with 0 Axes>"
      ]
     },
     "metadata": {},
     "output_type": "display_data"
    },
    {
     "data": {
      "image/png": "[encoded data removed]",
      "text/plain": [
       "<Figure size 1000x800 with 1 Axes>"
      ]
     },
     "metadata": {},
     "output_type": "display_data"
    }
   ],
   "source": [
    "fig = plt.figure()\n",
    "plt.figure(figsize=(10,8))\n",
    "\n",
    "font = {'family' : 'serif',\n",
    "        'weight':'normal',\n",
    "        'size': 18}\n",
    "plt.rc('font', **font)\n",
    "\n",
    "plt.plot(mu_array, f_bar_arr, label = \"<$ f_{\\gamma} $>\", color = \"blue\")\n",
    "# plt.xlabel(\"$\\mu$\")\n",
    "# plt.ylabel(\"<$ f_{\\gamma} $>\")\n",
    "\n",
    "plt.plot(mu_array, s_bind_0sig, linestyle = \"--\", label = \"n = 0\", color = \"green\")\n",
    "# plt.xlabel(\"$\\mu$\")\n",
    "# plt.ylabel(\"<$ s_{bind}^{(\\sigma = 0)}$>\")\n",
    "\n",
    "plt.plot(mu_array, s_bind_1sig, linestyle = \"--\", label = \"n = 1\", color = \"red\")\n",
    "# plt.xlabel(\"$\\mu$\")\n",
    "# plt.ylabel(\"<$ s_{bind}^{(\\sigma = 1)}$>\")\n",
    "\n",
    "plt.plot(mu_array, s_bind_2sig, linestyle = \"--\", label = \"n = 2\", color = \"orange\")\n",
    "# plt.xlabel(\"$\\mu$\")\n",
    "# plt.ylabel(\"<$ s_{bind}^{(\\sigma = 2)}$>\")\n",
    "\n",
    "# LANGMUIR. Assumptions only valid when v_int = 0, and for sigma =0 or 2 (all sites identical)\n",
    "K = np.exp(-e_m)\n",
    "plt.plot(mu_array, 2*K*np.exp(mu_array) / (1+ K*np.exp(mu_array)), label = \"langmuir\", linestyle = \":\", color = \"black\")\n",
    "\n",
    "K = np.exp(-0)  # sigma = 0 - all binding energies are 0\n",
    "plt.plot(mu_array, 2*K*np.exp(mu_array) / (1+ K*np.exp(mu_array)), label = \"langmuir, e_b = 0\", linestyle = \"-.\", color = \"black\")\n",
    "\n",
    "plt.ylabel(\"<$ s_{bind}^{(\\sigma = n)}$> | <$ f_{\\gamma} $>\")\n",
    "plt.xlabel(\"$\\mu$\")\n",
    "plt.title(\"$v_{int} = $\" + str(v_int[0][0]) +  \" $e_B = $\" + str(e_m[0]))\n",
    "plt.hlines(1, -10, 10, color = \"black\", alpha = 0.3)\n",
    "# plt.vlines(-.75, 0,2, color = \"black\", alpha = 0.3, label = \"$\\mu = -0.75$\")\n",
    "plt.vlines(-0, 0,2, color = \"black\", alpha = 0.3, label = \"$\\mu = 0$\")\n",
    "plt.legend()\n",
    "\n",
    "# why is s_bind = 2 * (exp(x \\ (1 + exp)))? how did that realtion come about. it is to allow for unbounded minimizationq\n",
    "#check solver- intial conditions? "
   ]
  },
  {
   "cell_type": "markdown",
   "metadata": {},
   "source": [
    "## $\\langle s_{i}^{(\\gamma_1)} s_{j}^{(\\gamma_1')} \\rangle$ calculation"
   ]
  },
  {
   "cell_type": "code",
   "execution_count": null,
   "metadata": {},
   "outputs": [],
   "source": [
    "def eval_f_bind_vec(n_b, n_m_arr, e_m = -1.5, j_int = -3.92):\n",
    "    r\"\"\"\n",
    "    eval_f_bind - Evaluate the binding free energy\n",
    "    \n",
    "    Parameters\n",
    "    ----------\n",
    "    n_b : integer\n",
    "        array of Number of reader proteins bound to the nucleosome\n",
    "    n_m_arr : arr of integer\n",
    "        Number of marked tails\n",
    "    e_me3 : float\n",
    "        Favorable binding free energy to tri-methylated tails\n",
    "        \n",
    "    Returns\n",
    "    -------\n",
    "    f_bind : float\n",
    "        Binding free energy\n",
    "    \n",
    "    \"\"\"\n",
    "    # Calculate the cases for the binding free energy\n",
    "    f_bind_arr = np.zeros(len(n_m_arr))\n",
    "    for i,n_m in enumerate(n_m_arr):\n",
    "        f_bind = 0\n",
    "        if n_b == 0:\n",
    "            f_bind = 0\n",
    "        elif n_b == 1:\n",
    "            if n_m == 0:\n",
    "                f_bind = -np.log(2)\n",
    "            elif n_m == 1:\n",
    "                f_bind = -np.log(1. + np.exp(-e_m))\n",
    "            elif n_m == 2:\n",
    "                f_bind = e_m - np.log(2)\n",
    "        elif n_b == 2:\n",
    "            if n_m == 0:\n",
    "                f_bind = j_int\n",
    "            elif n_m == 1:\n",
    "                f_bind = e_m + j_int\n",
    "            elif n_m == 2:\n",
    "                f_bind = 2 * e_m + j_int\n",
    "        f_bind_arr[i] = f_bind\n",
    "    return f_bind_arr"
   ]
  },
  {
   "cell_type": "code",
   "execution_count": null,
   "metadata": {},
   "outputs": [],
   "source": [
    "# need to produce rank 2 tensor that, given two protein types, \n",
    "# find avg of product of s for index ij\n",
    "def eval_sisj_bind(s_bind, mu, e_m, v_int, f_om, phi_c, poly_marks, gam1_ind, gam2_ind):\n",
    "    '''\n",
    "    poly marks (array of arrays) contains an array of marks per nucleosome for each protein type\n",
    "    gam1_ind (int) is the index of first protein\n",
    "    gam2_ind (int) is the index of second protein\n",
    "    '''\n",
    "    \n",
    "    n_bind = len(mu)\n",
    "    # evaluate eqn 85 for each index ij\n",
    " \n",
    "    phi_bind = np.zeros(n_bind) #phi_c times f_gamma\n",
    "    for mark in range(n_bind):\n",
    "        ind0 = mark * 3             # VVV calc of bar{f}_\\gamma (eqn 86) VVV\n",
    "        phi_bind[mark] = phi_c * np.sum(f_om[ind0:(ind0 + 3)] * s_bind[ind0:(ind0 + 3)]) \n",
    "    erg_int = np.matmul(v_int, phi_bind) #sum over gamma 2 of int and phi and f\n",
    "    \n",
    "    coef1 = erg_int[gam1_ind] + mu[gam1_ind] \n",
    "    coef2 = erg_int[gam2_ind] + mu[gam2_ind]\n",
    "    \n",
    "    #make vector form of f_bind\n",
    "    f_bind_g1_s1 = eval_f_bind_vec(1, poly_marks[gam1_ind], e_m[gam1_ind])\n",
    "    f_bind_g1_s2 = eval_f_bind_vec(2, poly_marks[gam1_ind], e_m[gam1_ind])\n",
    "    f_bind_g2_s1 = eval_f_bind_vec(1, poly_marks[gam2_ind], e_m[gam2_ind])\n",
    "    f_bind_g2_s2 = eval_f_bind_vec(2, poly_marks[gam2_ind], e_m[gam2_ind])\n",
    "    \n",
    "    #combine coef and f_bind to create 4 dif energies needed\n",
    "#     - each should be rank 2 tensors\n",
    "    \n",
    "    exp_g1_s1 = np.exp(coef1 + f_bind_g1_s1)\n",
    "    exp_g1_s2 = np.exp(2*coef1 + f_bind_g1_s2)\n",
    "    exp_g2_s1 = np.exp(coef2 + f_bind_g2_s1)\n",
    "    exp_g2_s2 = np.exp(2*coef2 + f_bind_g2_s2)\n",
    "    \n",
    "    exp_11 = np.outer(exp_g1_s1, exp_g2_s1)\n",
    "    exp_12 = np.outer(exp_g1_s1, exp_g2_s2)\n",
    "    exp_21 = np.outer(exp_g1_s2, exp_g2_s1)\n",
    "    exp_22 = np.outer(exp_g1_s2, exp_g2_s2)\n",
    "    \n",
    "#     # calc q_0 (all probabilities)\n",
    "    q = 1 + np.outer(exp_g1_s1, exp_g1_s1) + np.outer(exp_g2_s1, exp_g2_s1)\\\n",
    "    + np.outer(exp_g1_s2, exp_g1_s2) + np.outer(exp_g2_s2, exp_g2_s2)\\\n",
    "    + exp_11 + exp_12 + exp_21 + exp_22\n",
    "    \n",
    "    #calculate average matrix (eq 85)\n",
    "    sisj_bind = (exp_11 + exp_12 + exp_21 + exp_22) / q\n",
    "    return sisj_bind "
   ]
  },
  {
   "cell_type": "code",
   "execution_count": null,
   "metadata": {},
   "outputs": [],
   "source": [
    "n_bind = 2 #types of proteins/marks\n",
    "\n",
    "mu = np.array([-4.5, -5]) #chemical potential in solution\n",
    "e_m = np.array([-1.5, -1.5]) #binding energy\n",
    "f_om = np.array([0.5, 0, 0.5, 0.75, 0, 0.25]) # fraction of nucleosomes with 0,1,2 marks per protein type\n",
    "v_int = np.array([[-3.92, 3.0],[3.0, -3.92]]) # protein-protein interaction param\n",
    "phi_c = 0.6 # avg amount of chromosome \n",
    "\n",
    "x = np.zeros(n_bind * 3)\n",
    "\n",
    "marks_1 = [0,2,0,2] # marks for protein 1\n",
    "marks_2 = [0,0,0,2] # marks for protein 2\n",
    "poly_marks = [marks_1, marks_2]\n",
    "eval_opt_func(x, mu, e_m, v_int, f_om, phi_c)"
   ]
  },
  {
   "cell_type": "code",
   "execution_count": null,
   "metadata": {},
   "outputs": [],
   "source": [
    "s_bind = eval_s_bind(mu, e_m, v_int, f_om, phi_c)\n",
    "s2_bind = eval_s2_bind(s_bind, mu, e_m, v_int, f_om, phi_c)"
   ]
  },
  {
   "cell_type": "code",
   "execution_count": null,
   "metadata": {
    "scrolled": true
   },
   "outputs": [],
   "source": [
    "eval_sisj_bind(s_bind, mu, e_m, v_int, f_om, phi_c, poly_marks, 0, 0)"
   ]
  },
  {
   "cell_type": "markdown",
   "metadata": {},
   "source": [
    "## Determine the effective $\\chi$-parameter matrix (andy)"
   ]
  },
  {
   "cell_type": "code",
   "execution_count": null,
   "metadata": {},
   "outputs": [],
   "source": [
    "def eval_chi_mat(mu, e_m, v_int, f_om, phi_c):\n",
    "    n_bind = len(mu)\n",
    "    chi_mat = np.zeros((3 * n_bind, 3 * n_bind))\n",
    "    \n",
    "    s_bind = eval_s_bind(mu, e_m, v_int, f_om, phi_c)\n",
    "    \n",
    "    for m1 in range(n_bind):\n",
    "        for s1 in range(3):\n",
    "            i1 = m1 * 3 + s1\n",
    "            for m2 in range(n_bind):\n",
    "                for s2 in range(3):\n",
    "                    i2 = m2 * 3 + s2\n",
    "                    e12 = 0.5 * s_bind[i1] * v_int[m1, m2] * s_bind[i2]\n",
    "                    e11 = 0.5 * s_bind[i1] * v_int[m1, m1] * s_bind[i1]\n",
    "                    e22 = 0.5 * s_bind[i2] * v_int[m2, m2] * s_bind[i2]\n",
    "                    chi_mat[i1, i2] = e12 - 0.5 * (e11 + e22)\n",
    "    \n",
    "    return chi_mat"
   ]
  },
  {
   "cell_type": "code",
   "execution_count": null,
   "metadata": {},
   "outputs": [],
   "source": [
    "n_bind = 2\n",
    "\n",
    "mu = np.array([-5, -5])\n",
    "e_m = np.array([-1.5, -1.5])\n",
    "f_om = np.array([0.5, 0, 0.5, 0.5, 0, 0.5])\n",
    "v_int = np.array([[-3.92, .0],[.0, -3.92]])\n",
    "phi_c = 0.6\n",
    "\n",
    "s_bind = eval_s_bind(mu, e_m, v_int, f_om, phi_c)\n",
    "chi_mat = eval_chi_mat(mu, e_m, v_int, f_om, phi_c)"
   ]
  },
  {
   "cell_type": "code",
   "execution_count": null,
   "metadata": {},
   "outputs": [],
   "source": [
    "print(chi_mat[0, 2])\n",
    "print(chi_mat[3, 5])\n",
    "print(chi_mat[2, 5])"
   ]
  },
  {
   "cell_type": "code",
   "execution_count": null,
   "metadata": {},
   "outputs": [],
   "source": [
    "s_bind"
   ]
  },
  {
   "cell_type": "code",
   "execution_count": null,
   "metadata": {},
   "outputs": [],
   "source": [
    "chi_mat"
   ]
  },
  {
   "cell_type": "code",
   "execution_count": null,
   "metadata": {},
   "outputs": [],
   "source": []
  }
 ],
 "metadata": {
  "kernelspec": {
   "display_name": "Python 3 (ipykernel)",
   "language": "python",
   "name": "python3"
  },
  "language_info": {
   "codemirror_mode": {
    "name": "ipython",
    "version": 3
   },
   "file_extension": ".py",
   "mimetype": "text/x-python",
   "name": "python",
   "nbconvert_exporter": "python",
   "pygments_lexer": "ipython3",
   "version": "3.10.9"
  }
 },
 "nbformat": 4,
 "nbformat_minor": 4
}
