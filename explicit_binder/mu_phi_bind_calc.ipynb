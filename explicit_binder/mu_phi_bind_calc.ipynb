{
 "cells": [
  {
   "cell_type": "markdown",
   "id": "beafdfbb-89c5-4537-beab-23c94b4d71af",
   "metadata": {},
   "source": [
    "# Intro\n",
    "Assuming:\n",
    "- no nearest neighbor interactios (mean field/ homogenous saddle point)\n",
    "- only non-zero chi is chi_AB\n",
    "\n",
    "Developing a binding state calculator that takes into account how the chemical potential impacts the volume fractions of bound and unbound guests, which is needed for sf prefactors.\n",
    "\n",
    "First set the unbound fraction of A and B\n",
    "Then calculate the binding state along the backbone polymer\n",
    "    currently have the p_A,j for an explicit backbone polymer. Need to incorporate probabilty distribution of marks\n",
    "Then calculate Phi_A bound using the binding states\n",
    "Finally calcualte chemical potential from phi bound and unbound"
   ]
  },
  {
   "cell_type": "code",
   "execution_count": 2,
   "id": "f8684c07-0117-45d8-accf-fd03935481d9",
   "metadata": {},
   "outputs": [],
   "source": [
    "import numpy as np\n",
    "import matplotlib.pyplot as plt\n",
    "from matplotlib.collections import LineCollection\n",
    "from matplotlib.colors import ListedColormap, BoundaryNorm\n"
   ]
  },
  {
   "cell_type": "markdown",
   "id": "514002b7-4b9b-401b-93e8-1866aa563e6b",
   "metadata": {},
   "source": [
    "## single $\\phi_{Au}, \\phi_{Bu}$ calc"
   ]
  },
  {
   "cell_type": "code",
   "execution_count": 3,
   "id": "2d97e235-3170-4cba-b8c7-3c354386a50a",
   "metadata": {},
   "outputs": [],
   "source": [
    "b_A = 1\n",
    "b_B = 1\n",
    "b_P = 1\n",
    "v_A = 1\n",
    "v_B = 1\n",
    "v_P = 1\n",
    "N_P = 1000\n",
    "N_A = 100\n",
    "N_B = N_A\n",
    "\n",
    "M = 51\n",
    "e_A = 1\n",
    "e_B = e_A\n",
    "\n",
    "phi_Au = 0.05\n",
    "phi_Bu = 0.05\n",
    "phi_P = 0.4\n",
    "\n",
    "chi_AB = 10/N_P"
   ]
  },
  {
   "cell_type": "code",
   "execution_count": 4,
   "id": "9fb5b378-654d-4491-95e7-cbaced0b8199",
   "metadata": {},
   "outputs": [],
   "source": [
    "# for a given phi_U\n",
    "\n",
    "\n",
    "\n",
    "\n",
    "p_markA = np.arange(0,1+1/M, 1/(M-1))  # probabilty of monomer j having mark A\n",
    "p_markB = 1 - p_markA\n",
    "\n",
    "p_AmAb = p_markA * phi_Au*np.exp(e_A) #A marked A bound\n",
    "p_BmAb = p_markB * phi_Au #B marked A bound\n",
    "p_AmBb = p_markA * phi_Bu #A marked B bound\n",
    "p_BmBb = p_markB * phi_Bu*np.exp(e_B) #B marked B bound\n",
    "\n",
    "q = 1 + p_AmAb + p_BmAb + p_AmBb + p_BmBb\n",
    "s_Aj = (1*p_AmAb + 1*p_BmAb) / q\n",
    "s_Bj = (1*p_AmBb + 1*p_BmBb) / q"
   ]
  },
  {
   "cell_type": "code",
   "execution_count": 5,
   "id": "96d2bc57-33cb-42ad-9560-8446733bca5f",
   "metadata": {},
   "outputs": [
    {
     "data": {
      "text/plain": [
       "Text(0, 0.5, 's')"
      ]
     },
     "execution_count": 5,
     "metadata": {},
     "output_type": "execute_result"
    },
    {
     "data": {
      "image/png": "[encoded data removed]",
      "text/plain": [
       "<Figure size 640x480 with 1 Axes>"
      ]
     },
     "metadata": {},
     "output_type": "display_data"
    }
   ],
   "source": [
    "plt.plot(np.arange(0, M, 1), s_Aj, color = \"red\")\n",
    "plt.plot(np.arange(0, M, 1), s_Bj, color = \"blue\")\n",
    "\n",
    "plt.plot(np.arange(0, M, 1), p_markA, linestyle = \"--\", color = \"pink\")\n",
    "plt.plot(np.arange(0, M, 1), p_markB, linestyle = \"--\", color = \"lightblue\")\n",
    "plt.xlabel(\"M\")\n",
    "plt.ylabel(\"s\")"
   ]
  },
  {
   "cell_type": "code",
   "execution_count": 10,
   "id": "31173b6d-070f-4048-96de-da967e18042a",
   "metadata": {},
   "outputs": [
    {
     "name": "stdout",
     "output_type": "stream",
     "text": [
      "$\\phi_A^{(B)}, \\phi_B^{(B)} $: 0.15990397164762213 0.15990397164762218\n"
     ]
    }
   ],
   "source": [
    "phi_Ab = ((N_A*v_A)/ (N_P*v_P)) * phi_P * np.sum(s_Aj)\n",
    "phi_Bb = ((N_B*v_B)/ (N_P*v_P)) * phi_P * np.sum(s_Bj)\n",
    "\n",
    "print(\"$\\phi_A^{(B)}, \\phi_B^{(B)} $:\", phi_Ab, phi_Bb)"
   ]
  },
  {
   "cell_type": "code",
   "execution_count": 12,
   "id": "10bedadc-5a95-401e-8524-1025644c6840",
   "metadata": {},
   "outputs": [
    {
     "name": "stdout",
     "output_type": "stream",
     "text": [
      "$\\mu_A, \\mu_B :$ -2.7858283019063688 -2.7858283019063688\n"
     ]
    }
   ],
   "source": [
    "mu_A = np.log(phi_Au) + v_A*N_A*chi_AB*(phi_Bb+phi_Bu)\n",
    "mu_B = np.log(phi_Bu) + v_B*N_B*chi_AB*(phi_Ab+phi_Au)\n",
    "\n",
    "print(\"$\\mu_A, \\mu_B :$\", mu_A, mu_B)"
   ]
  },
  {
   "cell_type": "markdown",
   "id": "122764f4-1080-42ab-85af-33931a5e0d0b",
   "metadata": {},
   "source": [
    "## array $\\phi_{Au}, \\phi_{Bu}$ calc"
   ]
  },
  {
   "cell_type": "code",
   "execution_count": 18,
   "id": "8f334598-9b3c-4172-a15d-918b60cc09be",
   "metadata": {},
   "outputs": [],
   "source": [
    "b_A = 1\n",
    "b_B = 1\n",
    "b_P = 1\n",
    "v_A = 1\n",
    "v_B = 1\n",
    "v_P = 1\n",
    "N_P = 1000\n",
    "N_A = 100\n",
    "N_B = N_A\n",
    "\n",
    "M = 51\n",
    "e_A = 1\n",
    "e_B = e_A\n",
    "\n",
    "phi_P = 0.4\n",
    "chi_AB = 10/N_P\n",
    "\n",
    "p_markA = np.arange(0,1+1/M, 1/(M-1))  # probabilty of monomer j having mark A\n",
    "p_markB = 1 - p_markA"
   ]
  },
  {
   "cell_type": "code",
   "execution_count": 20,
   "id": "ba75465b-f59d-4d0d-8bdd-36faaf9bd1d0",
   "metadata": {},
   "outputs": [],
   "source": [
    "def binding_state_calc(p_markA, p_markB, phi_Au, phi_Bu, e_A, e_B):\n",
    "    p_AmAb = p_markA * phi_Au*np.exp(e_A) #A marked A bound\n",
    "    p_BmAb = p_markB * phi_Au #B marked A bound\n",
    "    p_AmBb = p_markA * phi_Bu #A marked B bound\n",
    "    p_BmBb = p_markB * phi_Bu*np.exp(e_B) #B marked B bound\n",
    "    \n",
    "    q = 1 + p_AmAb + p_BmAb + p_AmBb + p_BmBb\n",
    "    s_Aj = (1*p_AmAb + 1*p_BmAb) / q\n",
    "    s_Bj = (1*p_AmBb + 1*p_BmBb) / q\n",
    "    return s_Aj, s_Bj\n",
    "\n",
    "def calc_fas(s_bnd_A, s_bnd_B):\n",
    "    # [sig_0, sig_A, sig_B, sig_AB] =  calc_sisjs(s_bnd_A, s_bnd_B) #[sig_0, sig_A, sig_B, sig_AB]\n",
    "    sig_A = s_bnd_A\n",
    "    sig_B = s_bnd_B\n",
    "    sig_0 = 1 - s_bnd_A - s_bnd_B\n",
    "\n",
    "    f_a = np.sum(sig_A) / (np.sum(np.ones(len(s_bnd_A))))\n",
    "    f_b = np.sum(sig_B) / (np.sum(np.ones(len(s_bnd_A))))\n",
    "    # f_ab = np.sum(sig_AB) / (np.sum(np.ones(len(s_bnd_A))))\n",
    "    f_o = np.sum(sig_0) / (np.sum(np.ones(len(s_bnd_A))))\n",
    "    return [f_a, f_b, f_o]"
   ]
  },
  {
   "cell_type": "code",
   "execution_count": 82,
   "id": "1888b52f-3c4b-490d-9745-61e0d3c7bb69",
   "metadata": {},
   "outputs": [],
   "source": [
    "# need phi_Au, phi_Ab, s for a range of mu\n",
    "\n",
    "phi_Au_arr = np.arange(0.001, 0.08, 0.01)\n",
    "phi_Bu_arr = phi_Au_arr#np.arange(0.001, 0.05, 0.01)\n",
    "\n",
    "num_pnts = len(phi_Au_arr)\n",
    "\n",
    "phi_Au_mat = np.zeros((num_pnts,num_pnts))\n",
    "phi_Bu_mat = np.zeros((num_pnts,num_pnts))\n",
    "sA_mat = np.zeros((num_pnts,num_pnts, M))\n",
    "sB_mat = np.zeros((num_pnts,num_pnts, M))\n",
    "fA_mat = np.zeros((num_pnts,num_pnts))\n",
    "fB_mat = np.zeros((num_pnts,num_pnts))\n",
    "muA_mat = np.zeros((num_pnts,num_pnts))\n",
    "muB_mat = np.zeros((num_pnts,num_pnts))\n",
    "phi_Ab_mat = np.zeros((num_pnts,num_pnts))\n",
    "phi_Bb_mat = np.zeros((num_pnts,num_pnts))\n",
    "for i in range(len(phi_Au_arr)):\n",
    "    for j in range(len(phi_Bu_arr)):\n",
    "        phi_Au = phi_Au_arr[i]\n",
    "        phi_Bu = phi_Bu_arr[j]\n",
    "        phi_Au_mat[i,j] = phi_Au\n",
    "        phi_Bu_mat[i,j] = phi_Bu   \n",
    "        \n",
    "        s_Aj, s_Bj = binding_state_calc(p_markA, p_markB, phi_Au, phi_Bu, e_A, e_B)   \n",
    "        sA_mat[i,j] = s_Aj\n",
    "        sB_mat[i,j] = s_Bj\n",
    "        fA, fB, f0 = calc_fas(s_Aj, s_Bj)\n",
    "        fA_mat[i,j] = fA\n",
    "        fB_mat[i,j] = fB\n",
    "\n",
    "        phi_Ab = ((N_A*v_A)/ (N_P*v_P)) * phi_P * np.sum(s_Aj)\n",
    "        phi_Bb = ((N_B*v_B)/ (N_P*v_P)) * phi_P * np.sum(s_Bj)\n",
    "        phi_Ab_mat[i,j] = phi_Ab\n",
    "        phi_Bb_mat[i,j] = phi_Bb \n",
    "\n",
    "        # print(\"$\\phi_A^{(B)}, \\phi_B^{(B)} $:\", phi_Ab, phi_Bb)\n",
    "        mu_A = np.log(phi_Au) + v_A*N_A*chi_AB*(phi_Bb+phi_Bu)\n",
    "        mu_B = np.log(phi_Bu) + v_B*N_B*chi_AB*(phi_Ab+phi_Au)\n",
    "        muA_mat[i,j] = mu_A\n",
    "        muB_mat[i,j] = mu_B\n",
    "\n",
    "        if (phi_Au + phi_Ab + phi_Bu + phi_Bb + phi_P > 1):\n",
    "            print(\"ERROR\")\n",
    "        # print(\"$\\mu_A, \\mu_B :$\", mu_A, mu_B)"
   ]
  },
  {
   "cell_type": "code",
   "execution_count": 48,
   "id": "e70b68cd-e54e-4ced-81a8-e221cd54ade5",
   "metadata": {},
   "outputs": [],
   "source": [
    "# visualize this"
   ]
  },
  {
   "cell_type": "code",
   "execution_count": 84,
   "id": "9318a2fa-94f1-48a3-b66c-e736ff531ca9",
   "metadata": {},
   "outputs": [
    {
     "data": {
      "text/plain": [
       "2.6768864287926197"
      ]
     },
     "execution_count": 84,
     "metadata": {},
     "output_type": "execute_result"
    }
   ],
   "source": [
    "np.sum(sA_mat[3,2])"
   ]
  },
  {
   "cell_type": "code",
   "execution_count": 86,
   "id": "84245165-8ff8-49ee-9d56-b05faed1f5e7",
   "metadata": {},
   "outputs": [
    {
     "data": {
      "text/plain": [
       "array([[0.001, 0.001, 0.001, 0.001, 0.001, 0.001, 0.001, 0.001],\n",
       "       [0.011, 0.011, 0.011, 0.011, 0.011, 0.011, 0.011, 0.011],\n",
       "       [0.021, 0.021, 0.021, 0.021, 0.021, 0.021, 0.021, 0.021],\n",
       "       [0.031, 0.031, 0.031, 0.031, 0.031, 0.031, 0.031, 0.031],\n",
       "       [0.041, 0.041, 0.041, 0.041, 0.041, 0.041, 0.041, 0.041],\n",
       "       [0.051, 0.051, 0.051, 0.051, 0.051, 0.051, 0.051, 0.051],\n",
       "       [0.061, 0.061, 0.061, 0.061, 0.061, 0.061, 0.061, 0.061],\n",
       "       [0.071, 0.071, 0.071, 0.071, 0.071, 0.071, 0.071, 0.071]])"
      ]
     },
     "execution_count": 86,
     "metadata": {},
     "output_type": "execute_result"
    }
   ],
   "source": [
    "phi_Au_mat"
   ]
  },
  {
   "cell_type": "code",
   "execution_count": 88,
   "id": "90842abf-f6ec-4350-87e2-17fbd2f3b017",
   "metadata": {},
   "outputs": [
    {
     "data": {
      "text/plain": [
       "array([[0.0037786 , 0.00371497, 0.0036536 , 0.00359437, 0.00353717,\n",
       "        0.00348188, 0.0034284 , 0.00337664],\n",
       "       [0.04075475, 0.04007981, 0.03942857, 0.0387997 , 0.03819202,\n",
       "        0.03760439, 0.03703579, 0.03648525],\n",
       "       [0.07632085, 0.0750774 , 0.07387699, 0.07271728, 0.07159611,\n",
       "        0.07051146, 0.06946148, 0.06844442],\n",
       "       [0.11056032, 0.10878762, 0.10707546, 0.10542058, 0.10381998,\n",
       "        0.10227085, 0.1007706 , 0.09931681],\n",
       "       [0.14354984, 0.14128399, 0.13909452, 0.13697735, 0.13492872,\n",
       "        0.13294515, 0.13102338, 0.12916038],\n",
       "       [0.17536008, 0.17263434, 0.16999929, 0.16745016, 0.16498252,\n",
       "        0.16259226, 0.16027557, 0.15802888],\n",
       "       [0.20605628, 0.20290132, 0.19985   , 0.19689693, 0.19403712,\n",
       "        0.19126589, 0.18857893, 0.18597219],\n",
       "       [0.23569876, 0.23214291, 0.22870243, 0.22537138, 0.22214424,\n",
       "        0.21901588, 0.21598152, 0.2130367 ]])"
      ]
     },
     "execution_count": 88,
     "metadata": {},
     "output_type": "execute_result"
    }
   ],
   "source": [
    "phi_Ab_mat"
   ]
  },
  {
   "cell_type": "code",
   "execution_count": 90,
   "id": "50b16a79-74bb-4fb4-b544-90c73b4b7f21",
   "metadata": {},
   "outputs": [
    {
     "data": {
      "text/plain": [
       "array([[0.00185225, 0.00182106, 0.00179098, 0.00176195, 0.00173391,\n",
       "        0.0017068 , 0.00168059, 0.00165522],\n",
       "       [0.01997782, 0.01964697, 0.01932773, 0.01901946, 0.01872158,\n",
       "        0.01843353, 0.0181548 , 0.01788493],\n",
       "       [0.03741218, 0.03680265, 0.03621421, 0.03564573, 0.03509613,\n",
       "        0.03456444, 0.03404974, 0.03355119],\n",
       "       [0.05419624, 0.05332726, 0.05248797, 0.05167676, 0.05089215,\n",
       "        0.05013277, 0.04939735, 0.04868471],\n",
       "       [0.07036757, 0.06925686, 0.06818359, 0.06714576, 0.06614153,\n",
       "        0.06516919, 0.06422715, 0.06331391],\n",
       "       [0.08596083, 0.08462468, 0.08333298, 0.08208341, 0.08087378,\n",
       "        0.07970209, 0.07856646, 0.07746514],\n",
       "       [0.10100798, 0.09946143, 0.09796569, 0.0965181 , 0.09511623,\n",
       "        0.09375779, 0.09244065, 0.09116284],\n",
       "       [0.11553861, 0.11379555, 0.11210904, 0.11047617, 0.10889424,\n",
       "        0.10736073, 0.1058733 , 0.10442976]])"
      ]
     },
     "execution_count": 90,
     "metadata": {},
     "output_type": "execute_result"
    }
   ],
   "source": [
    "fA_mat"
   ]
  },
  {
   "cell_type": "code",
   "execution_count": 92,
   "id": "bed92e60-d7c7-4571-809b-0ff4c7e400ba",
   "metadata": {},
   "outputs": [
    {
     "data": {
      "text/plain": [
       "array([[-6.90297668, -6.85600053, -6.81043443, -6.76619496, -6.72320544,\n",
       "        -6.6813952 , -6.640699  , -6.60105652],\n",
       "       [-4.50514504, -4.45878019, -4.41378261, -4.37007239, -4.32757601,\n",
       "        -4.28622567, -4.24595869, -4.20671709],\n",
       "       [-3.85857924, -3.81280427, -3.76835585, -3.72515738, -3.68313833,\n",
       "        -3.64223355, -3.60238284, -3.56353041],\n",
       "       [-3.4691737 , -3.42396837, -3.38005079, -3.33734749, -3.29579073,\n",
       "        -3.25531792, -3.21587114, -3.17739669],\n",
       "       [-3.18964604, -3.1449912 , -3.1015871 , -3.05936323, -3.01825449,\n",
       "        -2.9782007 , -2.9391461 , -2.90103897],\n",
       "       [-2.97144777, -2.92732526, -2.88441818, -2.84265879, -2.8019845 ,\n",
       "        -2.76233738, -2.72366376, -2.68591376],\n",
       "       [-2.79245301, -2.74884562, -2.70641994, -2.66511081, -2.62485804,\n",
       "        -2.58560584, -2.54730249, -2.50989989],\n",
       "       [-2.64069876, -2.59759015, -2.55563098, -2.5147586 , -2.47491502,\n",
       "        -2.43604652, -2.39810321, -2.3610387 ]])"
      ]
     },
     "execution_count": 92,
     "metadata": {},
     "output_type": "execute_result"
    }
   ],
   "source": [
    "muA_mat"
   ]
  },
  {
   "cell_type": "code",
   "execution_count": 94,
   "id": "e88bf12f-8ded-4326-b32b-e1ac8c0468cd",
   "metadata": {},
   "outputs": [
    {
     "data": {
      "text/plain": [
       "array([[-6.90297668, -4.50514504, -3.85857924, -3.4691737 , -3.18964604,\n",
       "        -2.97144777, -2.79245301, -2.64069876],\n",
       "       [-6.85600053, -4.45878019, -3.81280427, -3.42396837, -3.1449912 ,\n",
       "        -2.92732526, -2.74884562, -2.59759015],\n",
       "       [-6.81043443, -4.41378261, -3.76835585, -3.38005079, -3.1015871 ,\n",
       "        -2.88441818, -2.70641994, -2.55563098],\n",
       "       [-6.76619496, -4.37007239, -3.72515738, -3.33734749, -3.05936323,\n",
       "        -2.84265879, -2.66511081, -2.5147586 ],\n",
       "       [-6.72320544, -4.32757601, -3.68313833, -3.29579073, -3.01825449,\n",
       "        -2.8019845 , -2.62485804, -2.47491502],\n",
       "       [-6.6813952 , -4.28622567, -3.64223355, -3.25531792, -2.9782007 ,\n",
       "        -2.76233738, -2.58560584, -2.43604652],\n",
       "       [-6.640699  , -4.24595869, -3.60238284, -3.21587114, -2.9391461 ,\n",
       "        -2.72366376, -2.54730249, -2.39810321],\n",
       "       [-6.60105652, -4.20671709, -3.56353041, -3.17739669, -2.90103897,\n",
       "        -2.68591376, -2.50989989, -2.3610387 ]])"
      ]
     },
     "execution_count": 94,
     "metadata": {},
     "output_type": "execute_result"
    }
   ],
   "source": [
    "muB_mat"
   ]
  },
  {
   "cell_type": "code",
   "execution_count": null,
   "id": "2d6cf6cf-f8ae-4902-9ce5-1b10bb193ce0",
   "metadata": {},
   "outputs": [],
   "source": []
  }
 ],
 "metadata": {
  "kernelspec": {
   "display_name": "Python 3 (ipykernel)",
   "language": "python",
   "name": "python3"
  },
  "language_info": {
   "codemirror_mode": {
    "name": "ipython",
    "version": 3
   },
   "file_extension": ".py",
   "mimetype": "text/x-python",
   "name": "python",
   "nbconvert_exporter": "python",
   "pygments_lexer": "ipython3",
   "version": "3.10.14"
  }
 },
 "nbformat": 4,
 "nbformat_minor": 5
}
