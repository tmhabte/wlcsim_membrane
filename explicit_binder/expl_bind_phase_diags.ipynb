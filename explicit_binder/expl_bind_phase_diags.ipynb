{
 "cells": [
  {
   "cell_type": "code",
   "execution_count": 1,
   "id": "723a54c8-d337-4da3-bbb3-5955916bbfcc",
   "metadata": {},
   "outputs": [],
   "source": [
    "from expl_bind_vertex_calc import *\n",
    "import matplotlib.pyplot as plt\n",
    "import matplotlib.patches\n",
    "import seaborn as sns"
   ]
  },
  {
   "cell_type": "markdown",
   "id": "7b49b94d-3fad-4c19-b56c-588d7af74b6b",
   "metadata": {},
   "source": [
    "# ARC, only including points where $\\sum \\phi = 1$"
   ]
  },
  {
   "cell_type": "code",
   "execution_count": 3,
   "id": "4daefa6a-193f-4c7d-9c9a-0a475bc13cdd",
   "metadata": {},
   "outputs": [],
   "source": [
    "# Eigvect restircted minimization\n",
    "\n",
    "n_bind = 2 #types of proteins/marks\n",
    "# e_m = np.array([1.52, 1.52]) #binding energy FOR F_BIND_ALT\n",
    "# e_m = np.array([1.52, 1.52]) #binding energy FOR F_BIND_ALT\n",
    "e_m = np.array([2, 2]) #binding energy FOR F_BIND_ALT\n",
    "\n",
    "\n",
    "v_int =  np.array([[-4, 4], [4, -4]])\n",
    "phi_p = 0.6\n",
    "phi_s = 0.1\n",
    "M = 50\n",
    "nm = M\n",
    "pa_vec = np.arange(0, nm, 1) / (nm-1)\n",
    "pb_vec = 1-pa_vec\n",
    "poly_marks = [pa_vec, pb_vec]\n",
    "\n",
    "\n",
    "v_s = 1\n",
    "v_p = 1\n",
    "v_A = v_p\n",
    "v_B = v_p\n",
    "N_P = 5000\n",
    "N_A = 50\n",
    "N_B = N_A\n",
    "b_P = 1\n",
    "b_A = b_P\n",
    "b_B = b_P\n",
    "\n",
    "chi_AB = 100/(N_P*phi_p)\n",
    "\n",
    "psol = Polymer_soln(n_bind, v_int, e_m, phi_p, phi_s, \\\n",
    "                    poly_marks, v_s, v_p, v_A, v_B, N_P, N_A, N_B,\n",
    "                    b_P, b_A, b_B, chi_AB)\n",
    "\n",
    "\n",
    "# klog_min = -2.5\n",
    "# klog_max = -.1\n",
    "# klog_num = 30\n",
    "\n",
    "klog_min = -2.5\n",
    "klog_max = -1.69 # = np.log10(1/N_A)\n",
    "klog_num = 10\n",
    "\n",
    "k_vec = np.logspace(klog_min, klog_max, klog_num) / b_P"
   ]
  },
  {
   "cell_type": "code",
   "execution_count": 4,
   "id": "b5c99957-8df6-41dc-a196-272a1113410e",
   "metadata": {},
   "outputs": [
    {
     "name": "stdout",
     "output_type": "stream",
     "text": [
      "CPU times: total: 203 ms\n",
      "Wall time: 197 ms\n"
     ]
    }
   ],
   "source": [
    "%%time\n",
    "phi_Au_arr = np.arange(0.001, 1 - phi_p - phi_s, 0.01)\n",
    "phi_Bu_arr = phi_Au_arr\n",
    "\n",
    "muA_valid, muB_valid, sA_valid, sB_valid, \\\n",
    "fA_valid, fB_valid, phi_Au_valid, phi_Bu_valid, phi_Ab_valid,\\\n",
    "phi_Bb_valid = calc_mu_phi_bind_filter(psol, phi_Au_arr, phi_Bu_arr)"
   ]
  },
  {
   "cell_type": "markdown",
   "id": "6838e4d4-96f1-4ccc-b780-1bee103b908e",
   "metadata": {},
   "source": [
    "## spinodal"
   ]
  },
  {
   "cell_type": "code",
   "execution_count": 6,
   "id": "98a1f4fd-5e61-4836-b1c6-c0a72261efc4",
   "metadata": {},
   "outputs": [
    {
     "name": "stdout",
     "output_type": "stream",
     "text": [
      "CPU times: total: 359 ms\n",
      "Wall time: 471 ms\n"
     ]
    }
   ],
   "source": [
    "%%time\n",
    "# chi_AP = 0\n",
    "# chi_BP = 0\n",
    "# # chi_AB = 69.5 / (phi_p*N_P) \n",
    "# chi_PS = 0\n",
    "# chi_AS = 0\n",
    "# chi_BS = 0\n",
    "\n",
    "# chis = [chi_AP, chi_BP, chi_AB, chi_PS, chi_AS, chi_BS]\n",
    "\n",
    "\n",
    "min_eigval_arr = np.zeros((len(phi_Au_valid), len(k_vec)))\n",
    "\n",
    "min_eigval_arr_allk_DENS = np.zeros(len(phi_Au_valid))\n",
    "min_eigval_arr_allk_ps = np.zeros(len(phi_Au_valid))\n",
    "\n",
    "# min_eigvec_arr = np.zeros((len(phi_Au_arr[:]), len(phi_Bu_arr[:]), len(k_vec), 5))\n",
    "# min_eigvec_arr_allk_DENS = np.zeros((len(phi_Au_arr[:]), len(phi_Bu_arr[:]), 5))\n",
    "min_eigvec_arr = np.zeros((len(phi_Au_valid), len(k_vec), 3))\n",
    "min_eigvec_arr_allk_DENS = np.zeros((len(phi_Au_valid), 3))\n",
    "k_star_arr_DENS= np.zeros(len(phi_Au_valid))\n",
    "\n",
    "cond_num_arr = np.zeros((len(phi_Au_valid), len(k_vec)))\n",
    "max_cond_arr = np.zeros(len(phi_Au_valid))\n",
    "\n",
    "for i in range(len(phi_Au_valid)):\n",
    "#         if mu1 == mu2:\n",
    "#             continue\n",
    "        # mu = [mu1, mu2]\n",
    "        # print(\"mu: \", mu)\n",
    "        s_bnd_A = sA_valid[i]\n",
    "        s_bnd_B = sB_valid[i]\n",
    "\n",
    "        phi_Au = phi_Au_valid[i]\n",
    "        phi_Bu = phi_Bu_valid[i]\n",
    "\n",
    "        phius = [phi_Au, phi_Bu]\n",
    "        # if i == 0 and j == len(phi_Au_arr)-1:\n",
    "        #     print(\"SA: \", s_bnd_A)\n",
    "        #     print(\"SB: \", s_bnd_B)\n",
    "        for ik, k in enumerate(k_vec):\n",
    "\n",
    "            # print(k)\n",
    "\n",
    "            # s_bnd_A = s_bind_A_ALL[i, j]\n",
    "            # s_bnd_B = s_bind_B_ALL[i, j]\n",
    "\n",
    "            # M2s = calc_mon_mat_2(s_bnd_A, s_bnd_B, competitive)\n",
    "            # S2_mat = (phi_p / N) * calc_sf2(psol, M2s, [k], competitive)\n",
    "            # cond_num_arr[i][j][ik] = np.linalg.cond(S2_mat)\n",
    "\n",
    "            G2 = gamma2_chis(psol, s_bnd_A, s_bnd_B, phius, k)\n",
    "\n",
    "            \n",
    "            # s_bnd_A = s_bind_A_ar[i, j]\n",
    "            # s_bnd_B = s_bind_B_ar[i, j]\n",
    "\n",
    "            # G2 = gamma2(chrom, s_bnd_A, s_bnd_B, k, chi, competitive)\n",
    "\n",
    "            \n",
    "            val, vec = np.linalg.eigh(G2)\n",
    "            # print(val)\n",
    "            vec = vec.T\n",
    "#                 print(vec)\n",
    "#                 print(vec.T)\n",
    "#                 print(val)\n",
    "            min_val = np.min(val)            \n",
    "            min_eigval_arr[i][ik] = min_val\n",
    "            min_eigvec_arr[i][ik] = vec[np.where(val == min_val)]\n",
    "\n",
    "\n",
    "        # all-k analysis\n",
    "        # min eigvals, eigvecs at given mu1,mu2 for each k        \n",
    "        min_vals = min_eigval_arr[i][:][np.nonzero(min_eigval_arr[i][:])] \n",
    "        min_vecs = min_eigvec_arr[i][:][np.nonzero(min_eigval_arr[i][:])]\n",
    "\n",
    "        # minimum eigenvalue at given mu1,mu2 across all ks\n",
    "        minval_allk = np.min(min_vals) \n",
    "        \n",
    "        # store this eigenvalue and corresponding eigenvector\n",
    "        min_eigval_arr_allk_DENS[i] = minval_allk \n",
    "        min_eigvec_arr_allk_DENS[i] = min_vecs[np.where(min_vals==minval_allk)]\n",
    "\n",
    "        k_star = k_vec[np.where(min_vals==minval_allk)]\n",
    "        k_star_arr_DENS[i] = k_star\n",
    "\n",
    "        # max_cond_num = np.max(cond_num_arr[i][j][:])#[np.nonzero(min_eigval_arr[i][j][:])] \n",
    "        # max_cond_arr[i][j] = max_cond_num\n",
    "# setting all non-decomposed/ separated systems to 0 \n",
    "poly_fluc = min_eigvec_arr_allk_DENS[:,0]\n",
    "poly_fluc[np.where(np.sign(min_eigval_arr_allk_DENS) == 1) ] = 0\n",
    "\n",
    "prot1_fluc = min_eigvec_arr_allk_DENS[:,1]\n",
    "prot1_fluc[np.where(np.sign(min_eigval_arr_allk_DENS) == 1) ] = 0\n",
    "\n",
    "prot2_fluc = min_eigvec_arr_allk_DENS[:,2]\n",
    "prot2_fluc[np.where(np.sign(min_eigval_arr_allk_DENS) == 1) ] = 0\n",
    "\n",
    "k_star_arr_DENS[np.where(np.sign(min_eigval_arr_allk_DENS) == 1) ] = -1 # unphysical value, to indicate outside of spinodal"
   ]
  },
  {
   "cell_type": "code",
   "execution_count": 7,
   "id": "d7f59450-5f14-43bc-bf53-3785564983bc",
   "metadata": {},
   "outputs": [],
   "source": [
    "spinodal = np.copy(k_star_arr_DENS)\n",
    "spinodal[np.where(spinodal == k_vec[0])] = 0 # macro\n",
    "spinodal[np.where(spinodal > k_vec[0])] = 1 # micro"
   ]
  },
  {
   "cell_type": "code",
   "execution_count": 8,
   "id": "23e04e00-8fc0-4b39-bd5c-bf0f53b6c648",
   "metadata": {},
   "outputs": [
    {
     "data": {
      "text/plain": [
       "<matplotlib.colorbar.Colorbar at 0x20b86bfe050>"
      ]
     },
     "execution_count": 8,
     "metadata": {},
     "output_type": "execute_result"
    },
    {
     "data": {
      "image/png": "[encoded data removed]",
      "text/plain": [
       "<Figure size 640x480 with 2 Axes>"
      ]
     },
     "metadata": {},
     "output_type": "display_data"
    }
   ],
   "source": [
    "plt.scatter(muA_valid, muB_valid, c=spinodal, s=15, cmap='viridis')\n",
    "plt.xlabel(r'$\\mu_A$'); plt.ylabel(r'$\\mu_B$')\n",
    "plt.colorbar(label=r'$\\phi_A^{(U)}$')"
   ]
  },
  {
   "cell_type": "markdown",
   "id": "c024bf4a-189f-4d1e-97de-0715786754a2",
   "metadata": {},
   "source": [
    "## phases"
   ]
  },
  {
   "cell_type": "code",
   "execution_count": null,
   "id": "6b77ed15-2ba8-415b-9b1d-a9c66f557e9b",
   "metadata": {},
   "outputs": [
    {
     "name": "stdout",
     "output_type": "stream",
     "text": [
      "out of spinodal; no q_star\n"
     ]
    }
   ],
   "source": [
    "# %%time\n",
    "\n",
    "# mu1_i = 5\n",
    "# mu2_i = 6\n",
    "# mu1_array[mu1_i]\n",
    "# chi = 0\n",
    "# chis = [chi_AB, chi_AS]\n",
    "# mu1_i_min = 5\n",
    "# mu1_i_max = 15\n",
    "# mu2_i_min = 5\n",
    "# mu2_i_max = 15\n",
    "# phases = np.zeros((len(mu1_array[mu1_i_min:mu1_i_max]), len(mu2_array[mu2_i_min:mu2_i_max]))) - 1 \n",
    "# minF_arr = np.zeros((len(mu1_array[mu1_i_min:mu1_i_max]), len(mu2_array[mu2_i_min:mu2_i_max]))) \n",
    "\n",
    "# mu1_i = 0\n",
    "# mu2_j = 6\n",
    "\n",
    "k_star_arr_DENS[np.where(np.sign(min_eigval_arr_allk_DENS) == 1) ] = -1 # unphysical value, to indicate outside of spinodal\n",
    "# k_star_arr_DENS[np.where(k_star_arr_DENS == k_vec[0]) ] = -1 # unphysical value, to indicate macrophase separation\n",
    "\n",
    "\n",
    "phases = np.zeros(len(phi_Au_valid)) - 1 \n",
    "minF_arr = np.zeros_like(phases) \n",
    "for i in range(len(phi_Au_valid)):\n",
    "    # if i != mu1_i:\n",
    "    #     continue\n",
    "    # if j != mu2_j:\n",
    "    #     continue\n",
    "\n",
    "    # print(\"mu: \", mu1, mu2)\n",
    "    q_star = k_star_arr_DENS[i]\n",
    "    vec_star = min_eigvec_arr_allk_DENS[i]\n",
    "\n",
    "    \n",
    "    if q_star == -1:\n",
    "        print(\"out of spinodal; no q_star\")\n",
    "        phases[i] = 0 # disordered phase- outside of spinodal\n",
    "    elif q_star == k_vec[0]:\n",
    "    # elif q_star != k_vec[-1]:\n",
    "        print(\"macrophase sep\")\n",
    "        phases[i] = 1 # macrophase sep\n",
    "\n",
    "    else: #microphse sep\n",
    "    \n",
    "        s_bnd_A = sA_valid[i,:]#s_bind_A_ALL[i,j,:]\n",
    "        s_bnd_B = sB_valid[i,:]#s_bind_B_ALL[i,j,:]\n",
    "\n",
    "        pihus = [phi_Au, phi_Bu]\n",
    "        lam_q = q_star*np.array([1, 0, 0])\n",
    "        lam_q = np.linalg.norm(lam_q)\n",
    "\n",
    "        cyl_q1 = q_star*np.array([1, 0, 0])\n",
    "        # cyl_q1 = np.linalg.norm(cyl_q1)\n",
    "        cyl_q2 = 0.5*q_star*np.array([-1, np.sqrt(3), 0])\n",
    "        # cyl_q2 = np.linalg.norm(cyl_q2)\n",
    "        cyl_q3 = 0.5*q_star*np.array([-1, -np.sqrt(3), 0])\n",
    "        # cyl_q3 = np.linalg.norm(cyl_q3)\n",
    "        cyl_qs = np.array([cyl_q1, cyl_q2, cyl_q3])\n",
    "        \n",
    "        bcc_q1 = 2**(-0.5)*q_star*np.array([1,1,0])\n",
    "        bcc_q2 = 2**(-0.5)*q_star*np.array([-1,1,0])\n",
    "        bcc_q3 = 2**(-0.5)*q_star*np.array([0,1,1])\n",
    "        bcc_q4 = 2**(-0.5)*q_star*np.array([0,1,-1])\n",
    "        bcc_q5 = 2**(-0.5)*q_star*np.array([1,0,1])\n",
    "        bcc_q6 = 2**(-0.5)*q_star*np.array([1,0,-1])\n",
    "        \n",
    "        \n",
    "        lam_g3 = 0\n",
    "        G3 = gamma3(psol, s_bnd_A, s_bnd_B, phius, cyl_qs) # all g3s are eqivlaent\n",
    "        cyl_g3 = (1/6)  * (1/(3*np.sqrt(3))) * 12 * G3#\n",
    "        bcc_g3 = (4/(3*np.sqrt(6))) * G3\n",
    "        \n",
    "        G4_00 = gamma4(psol, s_bnd_A, s_bnd_B, phius, np.array([lam_q, -lam_q, lam_q, -lam_q]))\n",
    "        lam_g4 = (1/24) * (6) * (1) * G4_00#gamma4_E(poly_mat, dens, N_m, b, M, np.array([lam_q, -lam_q, lam_q, -lam_q]))        \n",
    "        \n",
    "        cyl_g4 = (1/24) * (1/9) *(18*G4_00 + \\\n",
    "          72*gamma4(psol, s_bnd_A, s_bnd_B, phius, np.array([cyl_q1, -cyl_q1, cyl_q2, -cyl_q2])))\n",
    "        \n",
    "        bcc_g4 = (1/24)* (G4_00 \\\n",
    "                 + 8*gamma4(psol, s_bnd_A, s_bnd_B, phius, np.array([bcc_q1, -bcc_q1, bcc_q3, -bcc_q3])) \\\n",
    "                 + 2*gamma4(psol, s_bnd_A, s_bnd_B, phius, np.array([bcc_q1, -bcc_q1, bcc_q2, -bcc_q2])) \\\n",
    "                 + 4*gamma4(psol, s_bnd_A, s_bnd_B, phius, np.array([bcc_q1, -bcc_q3, bcc_q2, -bcc_q4])) )\n",
    "\n",
    "        lam_g2 = (1/2) * 2 * (1) * gamma2_chis(psol, s_bnd_A, s_bnd_B, phius, q_star)\n",
    "        cyl_g2 = lam_g2\n",
    "        bcc_g2 = lam_g2\n",
    "\n",
    "        # # # PHYSICALLY BOUNDED AMPLITUDE\n",
    "        # # del_phi = phi - phi_0. phi goes from 0 to phi_p. therefore del_phi(max) = phi_p-phi_0 ; del_phi(min) = - phi_0\n",
    "        # # need to use a sigmoid (goes 0 to 1) then del_phi = phi_p * sigmoid(amps) - phi_0 ; phi_0 = [f_O, f_A, f_B]\n",
    "        # # raise Exception(\"NNED to implement phi right----- look below :D\")\n",
    "        # phi_0 = phi_p * np.array([fo_mat[0][0], fa_mat[0][0], fb_mat[0][0]])\n",
    "        # initial = [0, 0, 0] # poly, A, B\n",
    "        # res = sp.optimize.basinhopping(lambda amps: np.real(np.einsum(\"ij,i,j ->\", lam_g2, phi_p*sigmoid(amps)-phi_0, phi_p*sigmoid(amps)-phi_0) \\\n",
    "        #                                    +  np.einsum(\"ijkl,i,j,k,l ->\", -lam_g4, phi_p*sigmoid(amps)-phi_0, phi_p*sigmoid(amps)-phi_0, \\\n",
    "        #                                                 phi_p*sigmoid(amps)-phi_0, phi_p*sigmoid(amps)-phi_0)), initial)\n",
    "        # lamF_q = res.fun\n",
    "        \n",
    "        # res = 0#sp.optimize.basinhopping(lambda amps: np.real(np.einsum(\"ij,i,j ->\", cyl_g2, phi_p*sigmoid(amps)-phi_0, phi_p*sigmoid(amps)-phi_0) \\\n",
    "        #                                    #  + np.einsum(\"ijk,i,j,k ->\", cyl_g3, phi_p*sigmoid(amps)-phi_0, phi_p*sigmoid(amps)-phi_0, phi_p*sigmoid(amps)-phi_0) \\\n",
    "        #                                    # +  np.einsum(\"ijkl,i,j,k,l ->\", -cyl_g4,  phi_p*sigmoid(amps)-phi_0, phi_p*sigmoid(amps)-phi_0, \\\n",
    "        #                                    #              phi_p*sigmoid(amps)-phi_0, phi_p*sigmoid(amps)-phi_0)), initial)\n",
    "        # cylF_q = 1000000000#res.fun\n",
    "\n",
    "        # res = 0#sp.optimize.basinhopping(lambda amps: np.real(np.einsum(\"ij,i,j ->\", bcc_g2, phi_p*sigmoid(amps)-phi_0, phi_p*sigmoid(amps)-phi_0) \\\n",
    "        #                                    #  + np.einsum(\"ijk,i,j,k ->\", bcc_g3, phi_p*sigmoid(amps)-phi_0, phi_p*sigmoid(amps)-phi_0, phi_p*sigmoid(amps)-phi_0) \\\n",
    "        #                                    # +  np.einsum(\"ijkl,i,j,k,l ->\", -bcc_g4,  phi_p*sigmoid(amps)-phi_0, phi_p*sigmoid(amps)-phi_0, \\\n",
    "        #                                    #              phi_p*sigmoid(amps)-phi_0, phi_p*sigmoid(amps)-phi_0)), initial)\n",
    "        # bccF_q = 1000000000#res.fun          \n",
    "\n",
    "\n",
    "\n",
    "\n",
    "        print(\"made it to crit fluc\")            \n",
    "        # CRITICAL FLUCTIATION\n",
    "        # define a lambda scalar value for a given critica lfluctutaion, then use roots equation to find cirtical points, and eval F at each\n",
    "        lam_lambda_2 = np.einsum(\"ij,i,j ->\", lam_g2, vec_star, vec_star)\n",
    "        lam_lambda_4 = np.einsum(\"ijkl,i,j,k,l ->\", -lam_g4, vec_star, vec_star, vec_star, vec_star)\n",
    "\n",
    "        pos_l_amps = np.real(np.roots([4*lam_lambda_4,0,2*lam_lambda_2,0]))        \n",
    "        lamF = min(np.real( lam_lambda_2 * pos_l_amps**2 + lam_lambda_4 * pos_l_amps**4))\n",
    "\n",
    "        \n",
    "        cyl_lambda_2 = np.einsum(\"ij,i,j ->\", cyl_g2, vec_star, vec_star)\n",
    "        cyl_lambda_3 = np.einsum(\"ijk,i,j,k->\", cyl_g3, vec_star, vec_star, vec_star)\n",
    "        cyl_lambda_4 = np.einsum(\"ijkl,i,j,k,l ->\", -cyl_g4, vec_star, vec_star, vec_star, vec_star)\n",
    "\n",
    "        pos_c_amps = np.real(np.roots([4*cyl_lambda_4,3*cyl_lambda_3,2*cyl_lambda_2,0]))        \n",
    "        cylF = min(np.real( cyl_lambda_2 * pos_c_amps**2 + cyl_lambda_3*pos_c_amps**3 + cyl_lambda_4 * pos_c_amps**4))\n",
    "\n",
    "        \n",
    "        bcc_lambda_2 = np.einsum(\"ij,i,j ->\", bcc_g2, vec_star, vec_star)\n",
    "        bcc_lambda_3 = np.einsum(\"ijk,i,j,k->\", bcc_g3, vec_star, vec_star, vec_star)\n",
    "        bcc_lambda_4 = np.einsum(\"ijkl,i,j,k,l ->\", -bcc_g4, vec_star, vec_star, vec_star, vec_star)\n",
    "\n",
    "        pos_b_amps = np.real(np.roots([4*bcc_lambda_4,3*bcc_lambda_3,2*bcc_lambda_2,0]))        \n",
    "        bccF = min(np.real( bcc_lambda_2 * pos_b_amps**2 + bcc_lambda_3*pos_b_amps**3 + bcc_lambda_4 * pos_b_amps**4))        \n",
    "\n",
    "\n",
    "        \n",
    "\n",
    "        # # # BASINHOPPING UNRESTRICTED works at low chi\n",
    "    \n",
    "        # initial = [0, 0, 0] # poly, A, B\n",
    "        # res = sp.optimize.basinhopping(lambda amps: np.real(np.einsum(\"ij,i,j ->\", lam_g2, amps, amps) \\\n",
    "        #                                    +  np.einsum(\"ijkl,i,j,k,l ->\", -lam_g4, amps, amps, amps, amps)), initial)\n",
    "        # lamF_q = res.fun\n",
    "        # res = sp.optimize.basinhopping(lambda amps: np.real(np.einsum(\"ij,i,j ->\", cyl_g2, amps, amps) \\\n",
    "        #                                     + np.einsum(\"ijk,i,j,k ->\", cyl_g3, amps, amps, amps) \\\n",
    "        #                                    +  np.einsum(\"ijkl,i,j,k,l ->\", -cyl_g4, amps, amps, amps, amps)), initial)\n",
    "        # cylF_q = res.fun\n",
    "\n",
    "        # res = sp.optimize.basinhopping(lambda amps: np.real(np.einsum(\"ij,i,j ->\", bcc_g2, amps, amps) \\\n",
    "        #                                     + np.einsum(\"ijk,i,j,k ->\", bcc_g3, amps, amps, amps) \\\n",
    "        #                                    +  np.einsum(\"ijkl,i,j,k,l ->\", -bcc_g4, amps, amps, amps, amps)), initial)\n",
    "        # bccF_q = res.fun            \n",
    "\n",
    "\n",
    "        \n",
    "        minF = np.min([lamF, cylF, bccF, 0])\n",
    "        minF_arr[i] = minF\n",
    "        # print(\"--------------------------------------------------------------------\")\n",
    "        # print(\"energies:\")\n",
    "        print([lamF, cylF, bccF, 0])\n",
    "        # print(\"--------------------------------------------------------------------\")\n",
    "\n",
    "        # # print([lamF])\n",
    "        # # print([lamF, cylF])#, bccF])\n",
    "        if minF == 0:\n",
    "            # raise Exception(\"phase sep not stable in spinodal??\")\n",
    "            phases[i] = -2\n",
    "        elif minF == lamF:\n",
    "            phases[i] = 2\n",
    "        elif minF == cylF:\n",
    "            phases[i] = 3\n",
    "        elif minF == bccF:\n",
    "            phases[i] = 4\n",
    "\n",
    "    np.save(\"expl_bind_minF_valid_em=\"+str(e_m[0]), minF_arr)\n",
    "    np.save(\"expl_bind_phases_valid_em=\"+str(e_m[0]), phases)\n",
    "        "
   ]
  },
  {
   "cell_type": "code",
   "execution_count": null,
   "id": "c2e86819-93d0-434b-91e9-4ea6f85fe4ca",
   "metadata": {},
   "outputs": [],
   "source": [
    "plt.scatter(muA_valid, muB_valid, c=phases, s=15, cmap='viridis')\n",
    "plt.xlabel(r'$\\mu_A$'); plt.ylabel(r'$\\mu_B$')\n",
    "plt.colorbar(label=r'$\\phi_A^{(U)}$')"
   ]
  },
  {
   "cell_type": "markdown",
   "id": "49027af9-bb1e-4889-892a-563b91b0eb17",
   "metadata": {},
   "source": [
    "# GRID, including invalid points"
   ]
  },
  {
   "cell_type": "code",
   "execution_count": 13,
   "id": "5757f159-38ee-4dfd-a1e8-bf2884d2efff",
   "metadata": {},
   "outputs": [],
   "source": [
    "# Eigvect restircted minimization\n",
    "\n",
    "n_bind = 2 #types of proteins/marks\n",
    "# e_m = np.array([1.52, 1.52]) #binding energy FOR F_BIND_ALT\n",
    "# e_m = np.array([1.52, 1.52]) #binding energy FOR F_BIND_ALT\n",
    "e_m = np.array([2, 2]) #binding energy FOR F_BIND_ALT\n",
    "\n",
    "\n",
    "v_int =  np.array([[-4, 4], [4, -4]])\n",
    "phi_p = 0.6\n",
    "phi_s = 0.1\n",
    "M = 50\n",
    "nm = M\n",
    "pa_vec = np.arange(0, nm, 1) / (nm-1)\n",
    "pb_vec = 1-pa_vec\n",
    "poly_marks = [pa_vec, pb_vec]\n",
    "\n",
    "\n",
    "v_s = 1\n",
    "v_p = 1\n",
    "v_A = v_p\n",
    "v_B = v_p\n",
    "N_P = 5000\n",
    "N_A = 50\n",
    "N_B = N_A\n",
    "b_P = 1\n",
    "b_A = b_P\n",
    "b_B = b_P\n",
    "\n",
    "chi_AB = 100/(N_P*phi_p)\n",
    "\n",
    "psol = Polymer_soln(n_bind, v_int, e_m, phi_p, phi_s, \\\n",
    "                    poly_marks, v_s, v_p, v_A, v_B, N_P, N_A, N_B,\n",
    "                    b_P, b_A, b_B, chi_AB)\n",
    "\n",
    "\n",
    "# klog_min = -2.5\n",
    "# klog_max = -.1\n",
    "# klog_num = 30\n",
    "\n",
    "klog_min = -2.5\n",
    "klog_max = -1.69 # = np.log10(1/N_A)\n",
    "klog_num = 10\n",
    "\n",
    "k_vec = np.logspace(klog_min, klog_max, klog_num) / b_P"
   ]
  },
  {
   "cell_type": "code",
   "execution_count": 15,
   "id": "ecc51bba-146b-45b0-8931-710b44014dae",
   "metadata": {},
   "outputs": [
    {
     "data": {
      "text/plain": [
       "array([0.00316228, 0.00389045, 0.0047863 , 0.00588844, 0.00724436,\n",
       "       0.00891251, 0.01096478, 0.01348963, 0.01659587, 0.02041738])"
      ]
     },
     "execution_count": 15,
     "metadata": {},
     "output_type": "execute_result"
    }
   ],
   "source": [
    "k_vec"
   ]
  },
  {
   "cell_type": "code",
   "execution_count": 17,
   "id": "cd3182d6-a09d-4181-b8bd-7acacf664c5b",
   "metadata": {},
   "outputs": [
    {
     "data": {
      "text/plain": [
       "0.02"
      ]
     },
     "execution_count": 17,
     "metadata": {},
     "output_type": "execute_result"
    }
   ],
   "source": [
    "1/(N_P/M) # What the maximum wavevector should be (minimum lengthscale where microphassse separation can occur\n",
    "\n",
    "1/N_A # What the maximum wavevector should be (minimum lengthscale where microphassse separation can occur"
   ]
  },
  {
   "cell_type": "code",
   "execution_count": 19,
   "id": "30502d95-15c9-452b-a0bb-d692841f8c31",
   "metadata": {},
   "outputs": [
    {
     "data": {
      "text/plain": [
       "-1.6989700043360187"
      ]
     },
     "execution_count": 19,
     "metadata": {},
     "output_type": "execute_result"
    }
   ],
   "source": [
    "np.log10(1/N_A) "
   ]
  },
  {
   "cell_type": "code",
   "execution_count": 21,
   "id": "c6db0314-ad24-4cf1-85d3-d7edec1b8e98",
   "metadata": {},
   "outputs": [
    {
     "name": "stdout",
     "output_type": "stream",
     "text": [
      "phi_tot =  0.704495779594649\n",
      "phi_tot =  0.726284943040599\n",
      "phi_tot =  0.747018333992745\n",
      "phi_tot =  0.7668441188407721\n",
      "phi_tot =  0.7858826343387925\n",
      "phi_tot =  0.8042328201762989\n",
      "phi_tot =  0.8219769119208759\n",
      "phi_tot =  0.726284943040599\n",
      "phi_tot =  0.7473450533117791\n",
      "phi_tot =  0.7674293621627837\n",
      "phi_tot =  0.786673269382395\n",
      "phi_tot =  0.805186985329993\n",
      "phi_tot =  0.8230613039527835\n",
      "phi_tot =  0.8403718265920523\n",
      "phi_tot =  0.747018333992745\n",
      "phi_tot =  0.7674293621627837\n",
      "phi_tot =  0.786934869467315\n",
      "phi_tot =  0.8056591365388865\n",
      "phi_tot =  0.8237035372914265\n",
      "phi_tot =  0.8411517453793342\n",
      "phi_tot =  0.8580735540421734\n",
      "phi_tot =  0.7668441188407721\n",
      "phi_tot =  0.786673269382395\n",
      "phi_tot =  0.8056591365388865\n",
      "phi_tot =  0.8239162388773672\n",
      "phi_tot =  0.8415381781040194\n",
      "phi_tot =  0.8586023547870095\n",
      "phi_tot =  0.8751734374751131\n",
      "phi_tot =  0.7858826343387925\n",
      "phi_tot =  0.805186985329993\n",
      "phi_tot =  0.8237035372914265\n",
      "phi_tot =  0.8415381781040194\n",
      "phi_tot =  0.8587776258057381\n",
      "phi_tot =  0.8754937161618954\n",
      "phi_tot =  0.8917465650768999\n",
      "phi_tot =  0.8042328201762989\n",
      "phi_tot =  0.8230613039527835\n",
      "phi_tot =  0.8411517453793342\n",
      "phi_tot =  0.8586023547870095\n",
      "phi_tot =  0.8754937161618954\n",
      "phi_tot =  0.8918926987752407\n",
      "phi_tot =  0.9078553496776716\n",
      "phi_tot =  0.8219769119208759\n",
      "phi_tot =  0.8403718265920523\n",
      "phi_tot =  0.8580735540421734\n",
      "phi_tot =  0.8751734374751131\n",
      "phi_tot =  0.8917465650768999\n",
      "phi_tot =  0.9078553496776716\n",
      "phi_tot =  0.9235521823655773\n"
     ]
    }
   ],
   "source": [
    "phi_Au_arr = np.arange(0.001, 0.07, 0.01)\n",
    "# phi_Au_arr = np.arange(0.001, 0.1, 0.01)\n",
    "\n",
    "phi_Bu_arr = phi_Au_arr\n",
    "\n",
    "muA_mat, muB_mat, sA_mat, sB_mat, \\\n",
    "fA_mat, fB_mat, phi_Au_mat, phi_Bu_mat, phi_Ab_mat,\\\n",
    "phi_Bb_mat = calc_mu_phi_bind(psol, phi_Au_arr, phi_Bu_arr)"
   ]
  },
  {
   "cell_type": "code",
   "execution_count": 7,
   "id": "0f01dc4b-3aca-4cae-aa7a-7cfb7cfe3e2f",
   "metadata": {},
   "outputs": [],
   "source": [
    "\n",
    "chi_AP = 0\n",
    "chi_BP = 0\n",
    "# chi_AB = 69.5 / (phi_p*N_P) \n",
    "chi_PS = 0\n",
    "chi_AS = 0\n",
    "chi_BS = 0\n",
    "\n",
    "# chis = [chi_AP, chi_BP, chi_AB, chi_PS, chi_AS, chi_BS]\n",
    "\n",
    "\n",
    "min_eigval_arr = np.zeros((len(phi_Au_arr[:]), len(phi_Bu_arr[:]), len(k_vec)))\n",
    "\n",
    "min_eigval_arr_allk_DENS = np.zeros((len(phi_Au_arr[:]), len(phi_Bu_arr[:])))\n",
    "min_eigval_arr_allk_ps = np.zeros((len(phi_Au_arr[:]), len(phi_Bu_arr[:])))\n",
    "\n",
    "# min_eigvec_arr = np.zeros((len(phi_Au_arr[:]), len(phi_Bu_arr[:]), len(k_vec), 5))\n",
    "# min_eigvec_arr_allk_DENS = np.zeros((len(phi_Au_arr[:]), len(phi_Bu_arr[:]), 5))\n",
    "min_eigvec_arr = np.zeros((len(phi_Au_arr[:]), len(phi_Bu_arr[:]), len(k_vec), 3))\n",
    "min_eigvec_arr_allk_DENS = np.zeros((len(phi_Au_arr[:]), len(phi_Bu_arr[:]), 3))\n",
    "k_star_arr_DENS= np.zeros((len(phi_Au_arr[:]), len(phi_Bu_arr[:]))) \n",
    "\n",
    "cond_num_arr = np.zeros((len(phi_Au_arr[:]), len(phi_Bu_arr[:]), len(k_vec)))\n",
    "max_cond_arr = np.zeros((len(phi_Au_arr[:]), len(phi_Bu_arr[:])))\n",
    "\n",
    "for i in range(len(phi_Au_arr)):\n",
    "    for j in range(len(phi_Bu_arr)):\n",
    "#         if mu1 == mu2:\n",
    "#             continue\n",
    "        # mu = [mu1, mu2]\n",
    "        # print(\"mu: \", mu)\n",
    "        s_bnd_A = sA_mat[i,j]\n",
    "        s_bnd_B = sB_mat[i,j]\n",
    "\n",
    "        phi_Au = phi_Au_mat[i,j]\n",
    "        phi_Bu = phi_Bu_mat[i,j]\n",
    "\n",
    "        phius = [phi_Au, phi_Bu]\n",
    "        # if i == 0 and j == len(phi_Au_arr)-1:\n",
    "        #     print(\"SA: \", s_bnd_A)\n",
    "        #     print(\"SB: \", s_bnd_B)\n",
    "        for ik, k in enumerate(k_vec):\n",
    "\n",
    "            # print(k)\n",
    "\n",
    "            # s_bnd_A = s_bind_A_ALL[i, j]\n",
    "            # s_bnd_B = s_bind_B_ALL[i, j]\n",
    "\n",
    "            # M2s = calc_mon_mat_2(s_bnd_A, s_bnd_B, competitive)\n",
    "            # S2_mat = (phi_p / N) * calc_sf2(psol, M2s, [k], competitive)\n",
    "            # cond_num_arr[i][j][ik] = np.linalg.cond(S2_mat)\n",
    "\n",
    "            G2 = gamma2_chis(psol, s_bnd_A, s_bnd_B, phius, k)\n",
    "\n",
    "            \n",
    "            # s_bnd_A = s_bind_A_ar[i, j]\n",
    "            # s_bnd_B = s_bind_B_ar[i, j]\n",
    "\n",
    "            # G2 = gamma2(chrom, s_bnd_A, s_bnd_B, k, chi, competitive)\n",
    "\n",
    "            \n",
    "            val, vec = np.linalg.eigh(G2)\n",
    "            # print(val)\n",
    "            vec = vec.T\n",
    "#                 print(vec)\n",
    "#                 print(vec.T)\n",
    "#                 print(val)\n",
    "            min_val = np.min(val)            \n",
    "            min_eigval_arr[i][j][ik] = min_val\n",
    "            min_eigvec_arr[i][j][ik] = vec[np.where(val == min_val)]\n",
    "\n",
    "\n",
    "        # all-k analysis\n",
    "        # min eigvals, eigvecs at given mu1,mu2 for each k        \n",
    "        min_vals = min_eigval_arr[i][j][:][np.nonzero(min_eigval_arr[i][j][:])] \n",
    "        min_vecs = min_eigvec_arr[i][j][:][np.nonzero(min_eigval_arr[i][j][:])]\n",
    "\n",
    "        # minimum eigenvalue at given mu1,mu2 across all ks\n",
    "        minval_allk = np.min(min_vals) \n",
    "        \n",
    "        # store this eigenvalue and corresponding eigenvector\n",
    "        min_eigval_arr_allk_DENS[i][j] = minval_allk \n",
    "        min_eigvec_arr_allk_DENS[i][j] = min_vecs[np.where(min_vals==minval_allk)]\n",
    "\n",
    "        k_star = k_vec[np.where(min_vals==minval_allk)]\n",
    "        k_star_arr_DENS[i][j] = k_star\n",
    "\n",
    "        # max_cond_num = np.max(cond_num_arr[i][j][:])#[np.nonzero(min_eigval_arr[i][j][:])] \n",
    "        # max_cond_arr[i][j] = max_cond_num\n",
    "# setting all non-decomposed/ separated systems to 0 \n",
    "poly_fluc = min_eigvec_arr_allk_DENS[:,:,0]\n",
    "poly_fluc[np.where(np.sign(min_eigval_arr_allk_DENS) == 1) ] = 0\n",
    "\n",
    "prot1_fluc = min_eigvec_arr_allk_DENS[:,:,1]\n",
    "prot1_fluc[np.where(np.sign(min_eigval_arr_allk_DENS) == 1) ] = 0\n",
    "\n",
    "prot2_fluc = min_eigvec_arr_allk_DENS[:,:,2]\n",
    "prot2_fluc[np.where(np.sign(min_eigval_arr_allk_DENS) == 1) ] = 0\n",
    "\n",
    "k_star_arr_DENS[np.where(np.sign(min_eigval_arr_allk_DENS) == 1) ] = -1 # unphysical value, to indicate outside of spinodal"
   ]
  },
  {
   "cell_type": "code",
   "execution_count": 8,
   "id": "3d3b2972-a2b9-4ac4-8fe7-3803c6de81c1",
   "metadata": {},
   "outputs": [],
   "source": [
    "spinodal = np.copy(k_star_arr_DENS)\n",
    "spinodal[np.where(spinodal == k_vec[0])] = 0 # macro\n",
    "spinodal[np.where(spinodal > k_vec[0])] = 1 # micro"
   ]
  },
  {
   "cell_type": "code",
   "execution_count": 9,
   "id": "e2786630-aa9a-41a9-9de7-526175b1b199",
   "metadata": {},
   "outputs": [
    {
     "data": {
      "text/plain": [
       "Text(0.5, 1.0, '$with \\\\ unbound  \\\\ guests, \\\\ \\\\phi_{Ab}, \\\\phi_{Au}, etc \\\\ explicit $\\n$ N_P $= 5000,  $N_A = N_B$ = 1, \\n $N_p \\\\phi_p \\\\chi_{AB} = $100.0, $\\\\chi_{PS} = \\\\chi_{AS} = \\\\chi_{BS} =$0, $\\\\epsilon_b = $2')"
      ]
     },
     "execution_count": 9,
     "metadata": {},
     "output_type": "execute_result"
    },
    {
     "data": {
      "text/plain": [
       "<Figure size 640x480 with 0 Axes>"
      ]
     },
     "metadata": {},
     "output_type": "display_data"
    },
    {
     "data": {
      "image/png": "[encoded data removed]",
      "text/plain": [
       "<Figure size 1000x800 with 2 Axes>"
      ]
     },
     "metadata": {},
     "output_type": "display_data"
    }
   ],
   "source": [
    "# err = np.sum(phases < 0)\n",
    "# if err > 0 :\n",
    "#     raise Exception(\"IVALID!!\")\n",
    "    \n",
    "fig = plt.figure()\n",
    "plt.figure(figsize=(10,8))\n",
    "\n",
    "font = {'family' : 'serif',\n",
    "        'weight':'normal',\n",
    "        'size': 18}\n",
    "plt.rc('font', **font)\n",
    "\n",
    "ax = sns.heatmap(spinodal, linewidth=0.25, cmap = \"rainbow\", xticklabels=np.round(muB_mat[0,:],2), yticklabels=np.round(muA_mat[:,0],2),\\\n",
    "                 cbar_kws={'label':  r\"$phase$\"}, vmin=-1, vmax=1)\n",
    "\n",
    "spacing = 1\n",
    "ax.set_xticks(ax.get_xticks()[::spacing])\n",
    "ax.set_xticklabels(np.round(muB_mat[0,:],2)[::spacing])#.astype(np.int64))\n",
    "ax.set_yticks(ax.get_yticks()[::spacing])\n",
    "ax.set_yticklabels(np.round(muA_mat[:,0],2)[::spacing])#.astype(np.int64))\n",
    "ax.invert_yaxis()\n",
    "\n",
    "plt.ylabel(\"~$\\mu^{(1)}$\")\n",
    "plt.xlabel(\"~$\\mu^{(2)}$\")\n",
    "\n",
    "# plt.title(r\"$ignoring \\ unbound  \\ guests, \\ equal \\ prefactors \\ spinodal $\" +  \"\\n\" + \"$ N_P $= %s, \" % N_P + \" $N_A = N_B$ = %s, \" % N_A + \" $N_p \\phi_p \\chi_{AB} = $\" + \\\n",
    "#           str(chi_AB*N_P*phi_p) \\\n",
    "#           + \", $\\chi_{PS} = \\chi_{AS} = \\chi_{BS} =$\" + str(chi_AS)  \n",
    "#            +\\\n",
    "#           \"\\n\" + \"$\\epsilon_b = $\" + str(e_m[0]) + \", $v_{int} = $ [\" + str(v_int[0]) + \",\" + str(v_int[1]) + \"]\") \n",
    "plt.title(r\"$with \\ unbound  \\ guests, \\ \\phi_{Ab}, \\phi_{Au}, etc \\ explicit $\" +  \"\\n\" + \"$ N_P $= %s, \" % N_P + \" $N_A = N_B$ = %s, \" % N_A  \\\n",
    "          +  \"\\n\" +\" $N_p \\phi_p \\chi_{AB} = $\" + \\\n",
    "          str(np.round(chi_AB*N_P*phi_p,1)) +\", $\\chi_{PS} = \\chi_{AS} = \\chi_{BS} =$\" + str(chi_AS)  \n",
    "         + \", $\\epsilon_b = $\" + str(e_m[0])) \n",
    "\n",
    "# plt.savefig('OABS_phases.png')"
   ]
  },
  {
   "cell_type": "code",
   "execution_count": 10,
   "id": "78698cd2-d448-4325-b6e9-7c87c1ef612a",
   "metadata": {},
   "outputs": [
    {
     "data": {
      "text/plain": [
       "array([[-1., -1., -1., -1., -1., -1., -1.],\n",
       "       [-1., -1., -1., -1., -1., -1., -1.],\n",
       "       [-1., -1., -1., -1., -1., -1., -1.],\n",
       "       [-1., -1., -1., -1., -1., -1., -1.],\n",
       "       [-1., -1., -1., -1., -1., -1., -1.],\n",
       "       [-1., -1., -1., -1., -1., -1., -1.],\n",
       "       [-1., -1., -1., -1., -1., -1., -1.]])"
      ]
     },
     "execution_count": 10,
     "metadata": {},
     "output_type": "execute_result"
    }
   ],
   "source": [
    "k_star_arr_DENS"
   ]
  },
  {
   "cell_type": "code",
   "execution_count": 11,
   "id": "37a18fea-f3bf-4866-a418-4df1f5da8841",
   "metadata": {},
   "outputs": [
    {
     "data": {
      "text/plain": [
       "0.0031622776601683794"
      ]
     },
     "execution_count": 11,
     "metadata": {},
     "output_type": "execute_result"
    }
   ],
   "source": [
    "k_vec[0]"
   ]
  },
  {
   "cell_type": "code",
   "execution_count": 12,
   "id": "42c5f965-20a9-42b8-b0fc-4d1de35786d7",
   "metadata": {},
   "outputs": [
    {
     "data": {
      "text/plain": [
       "(7, 7, 50)"
      ]
     },
     "execution_count": 12,
     "metadata": {},
     "output_type": "execute_result"
    }
   ],
   "source": [
    "np.shape(sA_mat)"
   ]
  },
  {
   "cell_type": "code",
   "execution_count": 13,
   "id": "9a24147e-84df-4fa9-8b3f-5e4f0b39d546",
   "metadata": {},
   "outputs": [],
   "source": [
    "# np.save(\"testerrr\", sA_mat+1)"
   ]
  },
  {
   "cell_type": "code",
   "execution_count": null,
   "id": "a5d9ff72-dbe7-41c2-a72d-c320c89fb5b6",
   "metadata": {},
   "outputs": [],
   "source": []
  },
  {
   "cell_type": "code",
   "execution_count": 14,
   "id": "aae63818-49b2-4afe-99b9-0262ed403c39",
   "metadata": {},
   "outputs": [
    {
     "name": "stdout",
     "output_type": "stream",
     "text": [
      "out of spinodal; no q_star\n",
      "out of spinodal; no q_star\n",
      "out of spinodal; no q_star\n",
      "out of spinodal; no q_star\n",
      "out of spinodal; no q_star\n",
      "out of spinodal; no q_star\n",
      "out of spinodal; no q_star\n",
      "out of spinodal; no q_star\n",
      "out of spinodal; no q_star\n",
      "out of spinodal; no q_star\n",
      "out of spinodal; no q_star\n",
      "out of spinodal; no q_star\n",
      "out of spinodal; no q_star\n",
      "out of spinodal; no q_star\n",
      "out of spinodal; no q_star\n",
      "out of spinodal; no q_star\n",
      "out of spinodal; no q_star\n",
      "out of spinodal; no q_star\n",
      "out of spinodal; no q_star\n",
      "out of spinodal; no q_star\n",
      "out of spinodal; no q_star\n",
      "out of spinodal; no q_star\n",
      "out of spinodal; no q_star\n",
      "out of spinodal; no q_star\n",
      "out of spinodal; no q_star\n",
      "out of spinodal; no q_star\n",
      "out of spinodal; no q_star\n",
      "out of spinodal; no q_star\n",
      "out of spinodal; no q_star\n",
      "out of spinodal; no q_star\n",
      "out of spinodal; no q_star\n",
      "out of spinodal; no q_star\n",
      "out of spinodal; no q_star\n",
      "out of spinodal; no q_star\n",
      "out of spinodal; no q_star\n",
      "out of spinodal; no q_star\n",
      "out of spinodal; no q_star\n",
      "out of spinodal; no q_star\n",
      "out of spinodal; no q_star\n",
      "out of spinodal; no q_star\n",
      "out of spinodal; no q_star\n",
      "out of spinodal; no q_star\n",
      "out of spinodal; no q_star\n",
      "out of spinodal; no q_star\n",
      "out of spinodal; no q_star\n",
      "out of spinodal; no q_star\n",
      "out of spinodal; no q_star\n",
      "out of spinodal; no q_star\n",
      "out of spinodal; no q_star\n"
     ]
    }
   ],
   "source": [
    "# %%time\n",
    "\n",
    "# mu1_i = 5\n",
    "# mu2_i = 6\n",
    "# mu1_array[mu1_i]\n",
    "# chi = 0\n",
    "# chis = [chi_AB, chi_AS]\n",
    "# mu1_i_min = 5\n",
    "# mu1_i_max = 15\n",
    "# mu2_i_min = 5\n",
    "# mu2_i_max = 15\n",
    "# phases = np.zeros((len(mu1_array[mu1_i_min:mu1_i_max]), len(mu2_array[mu2_i_min:mu2_i_max]))) - 1 \n",
    "# minF_arr = np.zeros((len(mu1_array[mu1_i_min:mu1_i_max]), len(mu2_array[mu2_i_min:mu2_i_max]))) \n",
    "\n",
    "# mu1_i = 0\n",
    "# mu2_j = 6\n",
    "\n",
    "k_star_arr_DENS[np.where(np.sign(min_eigval_arr_allk_DENS) == 1) ] = -1 # unphysical value, to indicate outside of spinodal\n",
    "# k_star_arr_DENS[np.where(k_star_arr_DENS == k_vec[0]) ] = -1 # unphysical value, to indicate macrophase separation\n",
    "\n",
    "\n",
    "phases = np.zeros((len(phi_Au_arr), len(phi_Bu_arr))) - 1 \n",
    "minF_arr = np.zeros((len(phi_Au_arr), len(phi_Bu_arr))) \n",
    "for i, phi_Au in enumerate(phi_Au_arr):\n",
    "    for j, phi_Bu in enumerate(phi_Bu_arr):\n",
    "        # if i != mu1_i:\n",
    "        #     continue\n",
    "        # if j != mu2_j:\n",
    "        #     continue\n",
    "\n",
    "        # print(\"mu: \", mu1, mu2)\n",
    "        q_star = k_star_arr_DENS[i,j]\n",
    "        vec_star = min_eigvec_arr_allk_DENS[i,j]\n",
    "\n",
    "        \n",
    "        if q_star == -1:\n",
    "            print(\"out of spinodal; no q_star\")\n",
    "            phases[i,j] = 0 # disordered phase- outside of spinodal\n",
    "        elif q_star == k_vec[0]:\n",
    "        # elif q_star != k_vec[-1]:\n",
    "            print(\"macrophase sep\")\n",
    "            phases[i,j] = 1 # macrophase sep\n",
    "\n",
    "        else: #microphse sep\n",
    "        \n",
    "            s_bnd_A = sA_mat[i,j,:]#s_bind_A_ALL[i,j,:]\n",
    "            s_bnd_B = sB_mat[i,j,:]#s_bind_B_ALL[i,j,:]\n",
    "\n",
    "            pihus = [phi_Au, phi_Bu]\n",
    "            lam_q = q_star*np.array([1, 0, 0])\n",
    "            lam_q = np.linalg.norm(lam_q)\n",
    "    \n",
    "            cyl_q1 = q_star*np.array([1, 0, 0])\n",
    "            # cyl_q1 = np.linalg.norm(cyl_q1)\n",
    "            cyl_q2 = 0.5*q_star*np.array([-1, np.sqrt(3), 0])\n",
    "            # cyl_q2 = np.linalg.norm(cyl_q2)\n",
    "            cyl_q3 = 0.5*q_star*np.array([-1, -np.sqrt(3), 0])\n",
    "            # cyl_q3 = np.linalg.norm(cyl_q3)\n",
    "            cyl_qs = np.array([cyl_q1, cyl_q2, cyl_q3])\n",
    "            \n",
    "            bcc_q1 = 2**(-0.5)*q_star*np.array([1,1,0])\n",
    "            bcc_q2 = 2**(-0.5)*q_star*np.array([-1,1,0])\n",
    "            bcc_q3 = 2**(-0.5)*q_star*np.array([0,1,1])\n",
    "            bcc_q4 = 2**(-0.5)*q_star*np.array([0,1,-1])\n",
    "            bcc_q5 = 2**(-0.5)*q_star*np.array([1,0,1])\n",
    "            bcc_q6 = 2**(-0.5)*q_star*np.array([1,0,-1])\n",
    "            \n",
    "            \n",
    "            lam_g3 = 0\n",
    "            G3 = gamma3(psol, s_bnd_A, s_bnd_B, phius, cyl_qs) # all g3s are eqivlaent\n",
    "            cyl_g3 = (1/6)  * (1/(3*np.sqrt(3))) * 12 * G3#\n",
    "            bcc_g3 = (4/(3*np.sqrt(6))) * G3\n",
    "            \n",
    "            G4_00 = gamma4(psol, s_bnd_A, s_bnd_B, phius, np.array([lam_q, -lam_q, lam_q, -lam_q]))\n",
    "            lam_g4 = (1/24) * (6) * (1) * G4_00#gamma4_E(poly_mat, dens, N_m, b, M, np.array([lam_q, -lam_q, lam_q, -lam_q]))        \n",
    "            \n",
    "            cyl_g4 = (1/24) * (1/9) *(18*G4_00 + \\\n",
    "              72*gamma4(psol, s_bnd_A, s_bnd_B, phius, np.array([cyl_q1, -cyl_q1, cyl_q2, -cyl_q2])))\n",
    "            \n",
    "            bcc_g4 = (1/24)* (G4_00 \\\n",
    "                     + 8*gamma4(psol, s_bnd_A, s_bnd_B, phius, np.array([bcc_q1, -bcc_q1, bcc_q3, -bcc_q3])) \\\n",
    "                     + 2*gamma4(psol, s_bnd_A, s_bnd_B, phius, np.array([bcc_q1, -bcc_q1, bcc_q2, -bcc_q2])) \\\n",
    "                     + 4*gamma4(psol, s_bnd_A, s_bnd_B, phius, np.array([bcc_q1, -bcc_q3, bcc_q2, -bcc_q4])) )\n",
    "    \n",
    "            lam_g2 = (1/2) * 2 * (1) * gamma2_chis(psol, s_bnd_A, s_bnd_B, phius, q_star)\n",
    "            cyl_g2 = lam_g2\n",
    "            bcc_g2 = lam_g2\n",
    "\n",
    "            # # # PHYSICALLY BOUNDED AMPLITUDE\n",
    "            # # del_phi = phi - phi_0. phi goes from 0 to phi_p. therefore del_phi(max) = phi_p-phi_0 ; del_phi(min) = - phi_0\n",
    "            # # need to use a sigmoid (goes 0 to 1) then del_phi = phi_p * sigmoid(amps) - phi_0 ; phi_0 = [f_O, f_A, f_B]\n",
    "            # # raise Exception(\"NNED to implement phi right----- look below :D\")\n",
    "            # phi_0 = phi_p * np.array([fo_mat[0][0], fa_mat[0][0], fb_mat[0][0]])\n",
    "            # initial = [0, 0, 0] # poly, A, B\n",
    "            # res = sp.optimize.basinhopping(lambda amps: np.real(np.einsum(\"ij,i,j ->\", lam_g2, phi_p*sigmoid(amps)-phi_0, phi_p*sigmoid(amps)-phi_0) \\\n",
    "            #                                    +  np.einsum(\"ijkl,i,j,k,l ->\", -lam_g4, phi_p*sigmoid(amps)-phi_0, phi_p*sigmoid(amps)-phi_0, \\\n",
    "            #                                                 phi_p*sigmoid(amps)-phi_0, phi_p*sigmoid(amps)-phi_0)), initial)\n",
    "            # lamF_q = res.fun\n",
    "            \n",
    "            # res = 0#sp.optimize.basinhopping(lambda amps: np.real(np.einsum(\"ij,i,j ->\", cyl_g2, phi_p*sigmoid(amps)-phi_0, phi_p*sigmoid(amps)-phi_0) \\\n",
    "            #                                    #  + np.einsum(\"ijk,i,j,k ->\", cyl_g3, phi_p*sigmoid(amps)-phi_0, phi_p*sigmoid(amps)-phi_0, phi_p*sigmoid(amps)-phi_0) \\\n",
    "            #                                    # +  np.einsum(\"ijkl,i,j,k,l ->\", -cyl_g4,  phi_p*sigmoid(amps)-phi_0, phi_p*sigmoid(amps)-phi_0, \\\n",
    "            #                                    #              phi_p*sigmoid(amps)-phi_0, phi_p*sigmoid(amps)-phi_0)), initial)\n",
    "            # cylF_q = 1000000000#res.fun\n",
    "\n",
    "            # res = 0#sp.optimize.basinhopping(lambda amps: np.real(np.einsum(\"ij,i,j ->\", bcc_g2, phi_p*sigmoid(amps)-phi_0, phi_p*sigmoid(amps)-phi_0) \\\n",
    "            #                                    #  + np.einsum(\"ijk,i,j,k ->\", bcc_g3, phi_p*sigmoid(amps)-phi_0, phi_p*sigmoid(amps)-phi_0, phi_p*sigmoid(amps)-phi_0) \\\n",
    "            #                                    # +  np.einsum(\"ijkl,i,j,k,l ->\", -bcc_g4,  phi_p*sigmoid(amps)-phi_0, phi_p*sigmoid(amps)-phi_0, \\\n",
    "            #                                    #              phi_p*sigmoid(amps)-phi_0, phi_p*sigmoid(amps)-phi_0)), initial)\n",
    "            # bccF_q = 1000000000#res.fun          \n",
    "\n",
    "\n",
    "\n",
    "\n",
    "            print(\"made it to crit fluc\")            \n",
    "            # CRITICAL FLUCTIATION\n",
    "            # define a lambda scalar value for a given critica lfluctutaion, then use roots equation to find cirtical points, and eval F at each\n",
    "            lam_lambda_2 = np.einsum(\"ij,i,j ->\", lam_g2, vec_star, vec_star)\n",
    "            lam_lambda_4 = np.einsum(\"ijkl,i,j,k,l ->\", -lam_g4, vec_star, vec_star, vec_star, vec_star)\n",
    "    \n",
    "            pos_l_amps = np.real(np.roots([4*lam_lambda_4,0,2*lam_lambda_2,0]))        \n",
    "            lamF = min(np.real( lam_lambda_2 * pos_l_amps**2 + lam_lambda_4 * pos_l_amps**4))\n",
    "    \n",
    "            \n",
    "            cyl_lambda_2 = np.einsum(\"ij,i,j ->\", cyl_g2, vec_star, vec_star)\n",
    "            cyl_lambda_3 = np.einsum(\"ijk,i,j,k->\", cyl_g3, vec_star, vec_star, vec_star)\n",
    "            cyl_lambda_4 = np.einsum(\"ijkl,i,j,k,l ->\", -cyl_g4, vec_star, vec_star, vec_star, vec_star)\n",
    "    \n",
    "            pos_c_amps = np.real(np.roots([4*cyl_lambda_4,3*cyl_lambda_3,2*cyl_lambda_2,0]))        \n",
    "            cylF = min(np.real( cyl_lambda_2 * pos_c_amps**2 + cyl_lambda_3*pos_c_amps**3 + cyl_lambda_4 * pos_c_amps**4))\n",
    "    \n",
    "            \n",
    "            bcc_lambda_2 = np.einsum(\"ij,i,j ->\", bcc_g2, vec_star, vec_star)\n",
    "            bcc_lambda_3 = np.einsum(\"ijk,i,j,k->\", bcc_g3, vec_star, vec_star, vec_star)\n",
    "            bcc_lambda_4 = np.einsum(\"ijkl,i,j,k,l ->\", -bcc_g4, vec_star, vec_star, vec_star, vec_star)\n",
    "    \n",
    "            pos_b_amps = np.real(np.roots([4*bcc_lambda_4,3*bcc_lambda_3,2*bcc_lambda_2,0]))        \n",
    "            bccF = min(np.real( bcc_lambda_2 * pos_b_amps**2 + bcc_lambda_3*pos_b_amps**3 + bcc_lambda_4 * pos_b_amps**4))        \n",
    "\n",
    "\n",
    "            \n",
    "\n",
    "            # # # BASINHOPPING UNRESTRICTED works at low chi\n",
    "        \n",
    "            # initial = [0, 0, 0] # poly, A, B\n",
    "            # res = sp.optimize.basinhopping(lambda amps: np.real(np.einsum(\"ij,i,j ->\", lam_g2, amps, amps) \\\n",
    "            #                                    +  np.einsum(\"ijkl,i,j,k,l ->\", -lam_g4, amps, amps, amps, amps)), initial)\n",
    "            # lamF_q = res.fun\n",
    "            # res = sp.optimize.basinhopping(lambda amps: np.real(np.einsum(\"ij,i,j ->\", cyl_g2, amps, amps) \\\n",
    "            #                                     + np.einsum(\"ijk,i,j,k ->\", cyl_g3, amps, amps, amps) \\\n",
    "            #                                    +  np.einsum(\"ijkl,i,j,k,l ->\", -cyl_g4, amps, amps, amps, amps)), initial)\n",
    "            # cylF_q = res.fun\n",
    "    \n",
    "            # res = sp.optimize.basinhopping(lambda amps: np.real(np.einsum(\"ij,i,j ->\", bcc_g2, amps, amps) \\\n",
    "            #                                     + np.einsum(\"ijk,i,j,k ->\", bcc_g3, amps, amps, amps) \\\n",
    "            #                                    +  np.einsum(\"ijkl,i,j,k,l ->\", -bcc_g4, amps, amps, amps, amps)), initial)\n",
    "            # bccF_q = res.fun            \n",
    "\n",
    "\n",
    "            \n",
    "            minF = np.min([lamF, cylF, bccF, 0])\n",
    "            minF_arr[i,j] = minF\n",
    "            # print(\"--------------------------------------------------------------------\")\n",
    "            # print(\"energies:\")\n",
    "            print([lamF, cylF, bccF, 0])\n",
    "            # print(\"--------------------------------------------------------------------\")\n",
    "\n",
    "            # # print([lamF])\n",
    "            # # print([lamF, cylF])#, bccF])\n",
    "            if minF == 0:\n",
    "                # raise Exception(\"phase sep not stable in spinodal??\")\n",
    "                phases[i,j] = -2\n",
    "            elif minF == lamF:\n",
    "                phases[i,j] = 2\n",
    "            elif minF == cylF:\n",
    "                phases[i,j] = 3\n",
    "            elif minF == bccF:\n",
    "                phases[i,j] = 4\n",
    "\n",
    "        np.save(\"expl_bind_minF_test_all_phases_SMALLBINDER_em=\"+str(e_m[0]), minF_arr)\n",
    "        np.save(\"expl_bind_phases_test_all_phases_SMALLBINDER_em=\"+str(e_m[0]), phases)\n",
    "            "
   ]
  },
  {
   "cell_type": "code",
   "execution_count": null,
   "id": "9411c347-665c-4a53-a008-5e6e73035c04",
   "metadata": {},
   "outputs": [],
   "source": []
  },
  {
   "cell_type": "code",
   "execution_count": 58,
   "id": "588580ce-9742-464e-bf74-afc000928eb8",
   "metadata": {},
   "outputs": [
    {
     "data": {
      "text/plain": [
       "Text(0.5, 1.0, '$with \\\\ unbound  \\\\ guests, \\\\ \\\\phi_{Ab}, \\\\phi_{Au}, etc \\\\ explicit $\\n$ N_P $= 5000,  $N_A = N_B$ = 50, \\n $N_p \\\\phi_p \\\\chi_{AB} = $100.0, $\\\\chi_{PS} = \\\\chi_{AS} = \\\\chi_{BS} =$0, $\\\\epsilon_b = $2')"
      ]
     },
     "execution_count": 58,
     "metadata": {},
     "output_type": "execute_result"
    },
    {
     "data": {
      "text/plain": [
       "<Figure size 640x480 with 0 Axes>"
      ]
     },
     "metadata": {},
     "output_type": "display_data"
    },
    {
     "data": {
      "image/png": "[encoded data removed]",
      "text/plain": [
       "<Figure size 1000x800 with 2 Axes>"
      ]
     },
     "metadata": {},
     "output_type": "display_data"
    }
   ],
   "source": [
    "# err = np.sum(phases < 0)\n",
    "# if err > 0 :\n",
    "#     raise Exception(\"IVALID!!\")\n",
    "    \n",
    "fig = plt.figure()\n",
    "plt.figure(figsize=(10,8))\n",
    "\n",
    "font = {'family' : 'serif',\n",
    "        'weight':'normal',\n",
    "        'size': 18}\n",
    "plt.rc('font', **font)\n",
    "\n",
    "ax = sns.heatmap(phases, linewidth=0.25, cmap = \"rainbow\", xticklabels=np.round(muB_mat[0,:],2), yticklabels=np.round(muA_mat[:,0],2),\\\n",
    "                 cbar_kws={'label':  r\"$phase$\"}, vmin=0, vmax=4)\n",
    "\n",
    "spacing = 1\n",
    "ax.set_xticks(ax.get_xticks()[::spacing])\n",
    "ax.set_xticklabels(np.round(muB_mat[0,:],2)[::spacing])#.astype(np.int64))\n",
    "ax.set_yticks(ax.get_yticks()[::spacing])\n",
    "ax.set_yticklabels(np.round(muA_mat[:,0],2)[::spacing])#.astype(np.int64))\n",
    "ax.invert_yaxis()\n",
    "\n",
    "plt.ylabel(\"~$\\mu^{(1)}$\")\n",
    "plt.xlabel(\"~$\\mu^{(2)}$\")\n",
    "\n",
    "# plt.title(r\"$ignoring \\ unbound  \\ guests, \\ equal \\ prefactors \\ spinodal $\" +  \"\\n\" + \"$ N_P $= %s, \" % N_P + \" $N_A = N_B$ = %s, \" % N_A + \" $N_p \\phi_p \\chi_{AB} = $\" + \\\n",
    "#           str(chi_AB*N_P*phi_p) \\\n",
    "#           + \", $\\chi_{PS} = \\chi_{AS} = \\chi_{BS} =$\" + str(chi_AS)  \n",
    "#            +\\\n",
    "#           \"\\n\" + \"$\\epsilon_b = $\" + str(e_m[0]) + \", $v_{int} = $ [\" + str(v_int[0]) + \",\" + str(v_int[1]) + \"]\") \n",
    "plt.title(r\"$with \\ unbound  \\ guests, \\ \\phi_{Ab}, \\phi_{Au}, etc \\ explicit $\" +  \"\\n\" + \"$ N_P $= %s, \" % N_P + \" $N_A = N_B$ = %s, \" % N_A  \\\n",
    "          +  \"\\n\" +\" $N_p \\phi_p \\chi_{AB} = $\" + \\\n",
    "          str(np.round(chi_AB*N_P*phi_p,1)) +\", $\\chi_{PS} = \\chi_{AS} = \\chi_{BS} =$\" + str(chi_AS)  \n",
    "         + \", $\\epsilon_b = $\" + str(e_m[0])) \n",
    "\n",
    "# plt.savefig('OABS_phases.png')"
   ]
  },
  {
   "cell_type": "code",
   "execution_count": 60,
   "id": "500e53fd-d357-44aa-bdd0-32e8c48580a8",
   "metadata": {},
   "outputs": [
    {
     "data": {
      "text/plain": [
       "array([[ 0.,  0.,  0.,  0.,  0.,  0.,  0.],\n",
       "       [ 0.,  0.,  2.,  2.,  2.,  2.,  2.],\n",
       "       [ 0.,  2.,  2.,  2.,  2.,  2.,  2.],\n",
       "       [ 0.,  2.,  2.,  2.,  2., -1., -1.],\n",
       "       [-1., -1., -1., -1., -1., -1., -1.],\n",
       "       [-1., -1., -1., -1., -1., -1., -1.],\n",
       "       [-1., -1., -1., -1., -1., -1., -1.]])"
      ]
     },
     "execution_count": 60,
     "metadata": {},
     "output_type": "execute_result"
    }
   ],
   "source": [
    "phases"
   ]
  },
  {
   "cell_type": "code",
   "execution_count": 31,
   "id": "550bd4a8-bef0-4c27-a803-410bfefdc258",
   "metadata": {},
   "outputs": [
    {
     "data": {
      "text/plain": [
       "array([[ 0.00000000e+00,  0.00000000e+00,  0.00000000e+00,\n",
       "         0.00000000e+00,  0.00000000e+00,  0.00000000e+00,\n",
       "         0.00000000e+00],\n",
       "       [ 0.00000000e+00,  0.00000000e+00,  0.00000000e+00,\n",
       "         0.00000000e+00,  0.00000000e+00,  0.00000000e+00,\n",
       "         0.00000000e+00],\n",
       "       [ 0.00000000e+00,  0.00000000e+00,  0.00000000e+00,\n",
       "         0.00000000e+00,  0.00000000e+00,  0.00000000e+00,\n",
       "         0.00000000e+00],\n",
       "       [ 0.00000000e+00,  0.00000000e+00,  0.00000000e+00,\n",
       "         0.00000000e+00,  0.00000000e+00, -8.93829853e-22,\n",
       "        -2.09051542e-22],\n",
       "       [ 0.00000000e+00,  0.00000000e+00,  0.00000000e+00,\n",
       "         0.00000000e+00, -3.28864161e-11, -1.93869215e-20,\n",
       "        -1.47397423e-21],\n",
       "       [ 0.00000000e+00,  0.00000000e+00,  0.00000000e+00,\n",
       "        -8.93830115e-22, -1.93869334e-20, -2.98944381e-11,\n",
       "        -3.01202399e-20],\n",
       "       [ 0.00000000e+00,  0.00000000e+00,  0.00000000e+00,\n",
       "        -2.09051584e-22, -1.47397469e-21, -3.01202583e-20,\n",
       "        -2.72772743e-11]])"
      ]
     },
     "execution_count": 31,
     "metadata": {},
     "output_type": "execute_result"
    }
   ],
   "source": [
    "minF_arr"
   ]
  },
  {
   "cell_type": "code",
   "execution_count": 7,
   "id": "29ec64e0-d39e-410c-90c3-6a65c457ea1d",
   "metadata": {},
   "outputs": [],
   "source": [
    "# minF = np.load(\"expl_bind_minF_test_all_phases.npy\")\n",
    "# phases = np.load(\"expl_bind_phases_test_all_phases.npy\")"
   ]
  },
  {
   "cell_type": "code",
   "execution_count": 9,
   "id": "10d7cc81-8218-47ca-b5ea-94238bf70254",
   "metadata": {},
   "outputs": [],
   "source": [
    "# np.save(\"expl_bind_minF_test_all_phases_em=1.52\", minF)\n",
    "# np.save(\"expl_bind_phases_test_all_phases_em=1.52\", phases)"
   ]
  },
  {
   "cell_type": "code",
   "execution_count": 31,
   "id": "61b81b7e-8581-48c7-b194-e4f6aa144ec2",
   "metadata": {},
   "outputs": [],
   "source": [
    "# print(\"made it to crit fluc\")            \n",
    "# # CRITICAL FLUCTIATION\n",
    "# # define a lambda scalar value for a given critica lfluctutaion, then use roots equation to find cirtical points, and eval F at each\n",
    "# lam_lambda_2 = np.einsum(\"ij,i,j ->\", lam_g2, vec_star, vec_star)\n",
    "# lam_lambda_4 = np.einsum(\"ijkl,i,j,k,l ->\", -lam_g4, vec_star, vec_star, vec_star, vec_star)\n",
    "\n",
    "# pos_l_amps = np.real(np.roots([4*lam_lambda_4,0,2*lam_lambda_2,0]))        \n",
    "# lamF = min(np.real( lam_lambda_2 * pos_l_amps**2 + lam_lambda_4 * pos_l_amps**4))"
   ]
  },
  {
   "cell_type": "code",
   "execution_count": 32,
   "id": "98fd20ee-45a6-4b97-bb8c-e233f30603ff",
   "metadata": {},
   "outputs": [],
   "source": [
    "# K1, K2, K3, K4 = np.array([lam_q, -lam_q, lam_q, -lam_q])\n",
    "# if np.linalg.norm(K1+K2+K3+K4) >= 1e-10:\n",
    "#     raise Exception('Qs must add up to zero')    \n",
    "# K = np.linalg.norm(K1)\n",
    "# K12 = np.linalg.norm(K1+K2)\n",
    "# K13 = np.linalg.norm(K1+K3)\n",
    "# K14 = np.linalg.norm(K1+K4)\n",
    "\n",
    "# # [n_bind, v_int, Vol_int, e_m, rho_p, rho_s, poly_marks, M, mu_max, mu_min, del_mu, alpha, N, N_m, b] = chrom\n",
    "# # N = psol.N\n",
    "# corrs = [s_bnd_A, s_bnd_B]\n",
    "\n",
    "# # s4 = calc_sf4(psol, corrs, phius, K1, K2, K3, K4) \n",
    "# s3_12 = calc_sf3(psol, corrs, phius, K1, K2, -K1-K2) #NANS\n",
    "# s3_14 = calc_sf3(psol, corrs, phius, K1, K4, -K1-K4) #NANS\n",
    "# s3_23 = calc_sf3(psol, corrs, phius, K2, K3, -K2-K3) #NANS\n",
    "# s3_24 = calc_sf3(psol, corrs, phius, K2, K4, -K2-K4)\n",
    "# s3_34 = calc_sf3(psol, corrs, phius, K3, K4, -K3-K4) #NANS\n",
    "# s3_13 = calc_sf3(psol, corrs, phius, K1, K3, -K1-K3)\n",
    "\n",
    "\n",
    "# S2_inv_red = sf2_inv_raw(psol, corrs, phius, K)\n",
    "# S2_inv_red_12 = sf2_inv_raw(psol, corrs, phius, K12)\n",
    "# S2_inv_red_13 = sf2_inv_raw(psol, corrs, phius, K13)\n",
    "# S2_inv_red_14 = sf2_inv_raw(psol, corrs, phius, K14)\n",
    "\n",
    "# S2_inv_red_2 = sf2_inv_raw(psol, corrs, phius, K2)\n",
    "# S2_inv_red_3 = sf2_inv_raw(psol, corrs, phius, K3)\n",
    "# S2_inv_red_4 = sf2_inv_raw(psol, corrs, phius, K4)"
   ]
  },
  {
   "cell_type": "code",
   "execution_count": null,
   "id": "d2c0c99c-846f-40ca-b8d1-e64c9010bf42",
   "metadata": {},
   "outputs": [],
   "source": [
    "#PRINT all sfs, see where nan comes from"
   ]
  },
  {
   "cell_type": "code",
   "execution_count": null,
   "id": "a222da38-8c28-44ea-88f9-1c86d77bad6e",
   "metadata": {},
   "outputs": [],
   "source": []
  }
 ],
 "metadata": {
  "kernelspec": {
   "display_name": "Python 3 (ipykernel)",
   "language": "python",
   "name": "python3"
  },
  "language_info": {
   "codemirror_mode": {
    "name": "ipython",
    "version": 3
   },
   "file_extension": ".py",
   "mimetype": "text/x-python",
   "name": "python",
   "nbconvert_exporter": "python",
   "pygments_lexer": "ipython3",
   "version": "3.10.14"
  }
 },
 "nbformat": 4,
 "nbformat_minor": 5
}
