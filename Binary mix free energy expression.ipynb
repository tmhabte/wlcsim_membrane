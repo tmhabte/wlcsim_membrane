{
 "cells": [
  {
   "cell_type": "code",
   "execution_count": 1,
   "metadata": {},
   "outputs": [],
   "source": [
    "import numpy as np\n",
    "import sympy as sp\n",
    "import wlcstat.wlc_copoly as wlc_copoly\n",
    "from scipy.interpolate import interp1d\n",
    "\n",
    "#FOR VERTEX:\n",
    "import sys\n",
    "sys.path.append(\"./vertex_subroutines\")\n",
    "from GAMcalc import *  # Code for calculating vertex functions\n",
    "import propagator  # propagator object used to store pre-calculated values\n",
    "import wignerD as wd # wigner D object used to store pre-calculated values\n",
    "\n",
    "import matplotlib.pyplot as plt\n",
    "from matplotlib.collections import LineCollection\n",
    "from matplotlib.colors import ListedColormap, BoundaryNorm"
   ]
  },
  {
   "cell_type": "code",
   "execution_count": 2,
   "metadata": {},
   "outputs": [],
   "source": [
    "pset=propagator.prop_set(nlam=10) \n",
    "wigset = wd.wigner_d_vals()"
   ]
  },
  {
   "cell_type": "markdown",
   "metadata": {},
   "source": [
    "# TODO:\n",
    "\n",
    "do 0.9 / 0.1 phase diagrams; \n",
    "\n",
    "    - error! look at FA = 0.5 when dopant is FA = 0.5 as well. Should match monodisperse\n",
    "\n",
    "generalize all functions for n polymer, different lengths\n",
    "\n",
    "    - for k_star analysis, see if I dont need to apply incompressiblity. \n",
    "\n",
    "develop distribution discretization "
   ]
  },
  {
   "cell_type": "markdown",
   "metadata": {},
   "source": [
    "# Functions\n",
    "From the overleaf document \"Polydisperse Polymer Field Theory- no averaging\" we found that the free energy of a polydisperse system can be broken down into a sum of the contributions from each polymer type, but with $2*n_{poly}$ polymer field fluctutaion terms. This indicates that the free energy calculation procedure for a monodipserse system is highly relevant. \n",
    "\n",
    "These binary mix functions were adapted from Vertex codebase by Quinn\\Shifan. These functions were for a monodisperse system, where the incompressibility condition $\\Delta_A = - \\Delta_B$. In the finctions themselves this manifests as multiplying by a negative at certain points in the einstein sum. \n",
    "//\n",
    "\n",
    "For applications to polydisperse systems, this incompressiblity condition does not hold. Therefore, we must first undo this simple, monodisperse incompressiblity condition (apply additional negatives to counteract the condition), then multiply by an array of density fluctutations \"dlta\" which applies the correct incompressibility condition (the last entry is the negative sum of all previous entries, such that the sum of all entries = 0). "
   ]
  },
  {
   "cell_type": "code",
   "execution_count": 3,
   "metadata": {},
   "outputs": [],
   "source": [
    "def spinodal_binary(pset, poly_list, dlta, k_vec = np.logspace(np.log10(1e-1), np.log10(1e1), 100)):\n",
    "    #this code finds k_Star\n",
    "    \n",
    "    #generalized attempt:\n",
    "    \n",
    "    #for each polymer\n",
    "        #build the s2s\n",
    "        #make the gamma 2 matrix\n",
    "        #if NOT final polymer:\n",
    "            # append this matrix diagonally to existing G2\n",
    "        #if YES final polymer:\n",
    "\n",
    "            # append AA term diagonally\n",
    "            \n",
    "    #####\n",
    "    #attempt 2 BEST ONE IF DONT NEED TO APPLY INCOMPRESSIBILITY\n",
    "    \n",
    "    #for each polymer\n",
    "        #build the s2s\n",
    "        #make the gamma 2 matrix\n",
    "        # append this matrix diagonally to existing G2\n",
    "        #apply incompressiblity condt\n",
    "    \n",
    "    chi = 0\n",
    "    #Unpack poly_list. TODO: NEED TO GENERALIZE\n",
    "    FA_1 = poly_list[0][0]\n",
    "    N_1 = poly_list[0][1]\n",
    "    PHI_1 = poly_list[0][2]\n",
    "    \n",
    "    FA_2 = poly_list[1][0]\n",
    "    N_2 = poly_list[1][1]\n",
    "    PHI_2 = poly_list[1][2]\n",
    "    \n",
    "    # calculate sfs for a range of ks\n",
    "    s2_1 = wlc_copoly.s2_wlc_diblock(k_vec, N_1, FA_1, dimensions=3, alpha_max=25)\n",
    "\n",
    "    s2_AA_1 = s2_1[0]\n",
    "    s2_AB_1 = s2_1[1]\n",
    "    s2_BB_1 = s2_1[2]\n",
    "\n",
    "    s2_2 = wlc_copoly.s2_wlc_diblock(k_vec, N_2, FA_2, dimensions=3, alpha_max=25)\n",
    "\n",
    "    s2_AA_2 = s2_2[0]\n",
    "    s2_AB_2 = s2_2[1]\n",
    "    s2_BB_2 = s2_2[2]\n",
    "    \n",
    "    # invert sfs\n",
    "    det_1_arr = s2_AA_1 * s2_BB_1 - s2_AB_1**2\n",
    "    prefactor_1_arr = 1/(det_1_arr*2*PHI_1)\n",
    "\n",
    "    det_2_arr = s2_AA_2 * s2_BB_2 - s2_AB_2**2\n",
    "    prefactor_2_arr = 1/(det_2_arr*2*PHI_2)\n",
    "\n",
    "    s2inv_AA_1_arr = s2_AA_1*prefactor_1_arr\n",
    "    s2inv_AB_1_arr = s2_AB_1*prefactor_1_arr\n",
    "    s2inv_BB_1_arr = s2_BB_1*prefactor_1_arr\n",
    "\n",
    "    s2inv_AA_2_arr = s2_AA_2*prefactor_2_arr\n",
    "    s2inv_AB_2_arr = s2_AB_2*prefactor_2_arr\n",
    "    s2inv_BB_2_arr = s2_BB_2*prefactor_2_arr\n",
    "\n",
    "    # Construct 4x4 -> 3x3 binary G2 matrix, verctorized. name refers to matrix index TODO: need to generalize\n",
    "\n",
    "    zero_zero = s2inv_BB_1_arr - (chi*N_1) + s2inv_AA_2_arr\n",
    "    zero_one = -s2inv_AB_1_arr + s2inv_AA_2_arr\n",
    "    zero_two = -(chi*N_1) + s2inv_AB_2_arr + s2inv_AA_2_arr\n",
    "\n",
    "    one_zero = zero_one\n",
    "    one_one = s2inv_AA_1_arr + s2inv_AA_2_arr\n",
    "    one_two = s2inv_AB_2_arr + s2inv_AA_2_arr\n",
    "\n",
    "    two_zero = zero_two\n",
    "    two_one = one_two\n",
    "    two_two = s2inv_BB_2_arr + 2*s2inv_AB_2_arr - (chi*N_1) + s2inv_AA_2_arr\n",
    "\n",
    "    G2 = np.array([zero_zero, zero_one, zero_two, one_zero, one_one, one_two, two_zero, two_one, two_two]).T.reshape(len(k_vec), 3, 3)\n",
    "    # ^ G2 at a variety of k values\n",
    "    \n",
    "    eigvalues,eigvectors = np.linalg.eigh(G2)\n",
    "    eigvalues_lst = np.concatenate(eigvalues)\n",
    "    min_eig = np.min(eigvalues_lst)\n",
    "\n",
    "    k_star = k_vec[np.where(eigvalues_lst==min_eig)[0]//3][0]\n",
    "    \n",
    "    return k_star\n",
    "\n",
    "    #NON VECT- 2min 52 sec\n",
    "    # VECT - 1min 15 sec"
   ]
  },
  {
   "cell_type": "code",
   "execution_count": 4,
   "metadata": {},
   "outputs": [],
   "source": [
    "def gamma2binary(pset, K, poly_list, dlta, CHI):\n",
    "    G = 0\n",
    "    num_polys = len(poly_list)\n",
    "    for i, poly in enumerate(poly_list):\n",
    "        FA = poly[0]\n",
    "        N = poly[1]\n",
    "        phi_poly = poly[2]\n",
    "        \n",
    "        s2inv = s2inverse(pset, N, FA, K)\n",
    "        for I0, I1 in product([0,1], repeat=2):\n",
    "            G += (1/phi_poly)*N*s2inv[I0, I1]* dlta[I0+i*2]*dlta[I1+i*2]  #removed sign indicator -> pre-incompressible\n",
    "            \n",
    "    # chi contribution\n",
    "    i = 0\n",
    "    while i < num_polys*2:\n",
    "        j = 1\n",
    "        while j < num_polys*2:\n",
    "            G += 2*CHI*(dlta[i]*dlta[j])\n",
    "            j += 2\n",
    "        i += 2\n",
    "\n",
    "#     G += 2*CHI*(dlta[0]*dlta[1] + dlta[0]*dlta[3] + dlta[2]*dlta[1] + dlta[2]*dlta[3]) # hardcoded for binary\n",
    "\n",
    "    return G"
   ]
  },
  {
   "cell_type": "code",
   "execution_count": 5,
   "metadata": {},
   "outputs": [],
   "source": [
    "def gamma3binary(pset, Ks, poly_list, dlta):\n",
    "    #Assuming same N\n",
    "    #hardcoded DELTA\n",
    "    #need to return an obe=ejc tthat has 3 different amplitude variables which can be minimized over in scipy\n",
    "    \n",
    "    K1, K2, K3 = Ks\n",
    "    if norm(K1+K2+K3) >= 1e-10:\n",
    "        raise('Qs must add up to zero')\n",
    "        \n",
    "    if not (abs(norm(K1)-norm(K2)) < 1e-5 \\\n",
    "        and abs(norm(K2)-norm(K3)) < 1e-5):\n",
    "        raise('Qs must have same length')\n",
    "        \n",
    "    val = 0\n",
    "    for i, poly in enumerate(poly_list):\n",
    "        FA = poly[0]\n",
    "        N = poly[1]\n",
    "        phi_poly = poly[2]\n",
    "        \n",
    "        s3 = s3wlc(pset, N, FA, Ks)\n",
    "        s2inv = s2inverse(pset, N, FA, norm(K1))\n",
    "        for I0, I1, I2 in product([0,1], repeat=3):\n",
    "            val -= (phi_poly) * s3[I0][I1][I2]* (s2inv[I0][0] - s2inv[I0][1])*\\\n",
    "                                   (s2inv[I1][0] - s2inv[I1][1])*\\\n",
    "                                   (s2inv[I2][0] - s2inv[I2][1])*\\\n",
    "                                    ((-1)**(I0 + I1 + I2))*\\\n",
    "                                    dlta[I0+i*2]*dlta[I1+i*2]*dlta[I2+i*2] \n",
    "#     print(\"G3 N factor: \", N)\n",
    "    return val*(N**2) "
   ]
  },
  {
   "cell_type": "code",
   "execution_count": 6,
   "metadata": {},
   "outputs": [],
   "source": [
    "def gamma4binary(pset, wigset, Ks, poly_list, dlta):\n",
    "    #Assuming same N\n",
    "    #hardcoded DELTA\n",
    "    #need to return an obe=ejc tthat has 3 different amplitude variables which can be minimized over in scipy\n",
    "    K1, K2, K3, K4 = Ks\n",
    "    if not (abs(norm(K1)-norm(K2)) < 1e-5\n",
    "            and abs(norm(K2)-norm(K3)) < 1e-5\n",
    "            and abs(norm(K3)-norm(K4)) < 1e-5):\n",
    "        print(K1, K2, K3, K4)\n",
    "        raise('Qs must have same length')\n",
    "    \n",
    "    K = norm(K1)\n",
    "    K12 = norm(K1+K2)\n",
    "    K13 = norm(K1+K3)\n",
    "    K14 = norm(K1+K4)\n",
    "    \n",
    "    val = 0\n",
    "    for i, poly in enumerate(poly_list):\n",
    "        FA = poly[0]\n",
    "        N = poly[1]\n",
    "        phi_poly = poly[2]\n",
    "    \n",
    "        s4 = s4wlc(pset, wigset, N, FA, Ks)\n",
    "        s31 = s3wlc(pset, N, FA, [K1, K2, -K1-K2])\n",
    "        s32 = s3wlc(pset, N, FA, [K1, K3, -K1-K3])\n",
    "        s33 = s3wlc(pset, N, FA, [K1, K4, -K1-K4])\n",
    "\n",
    "        s2inv = s2inverse(pset, N, FA, K)\n",
    "        s21inv = s2inverse(pset, N, FA, K12)\n",
    "        s22inv = s2inverse(pset, N, FA, K13)\n",
    "        s23inv = s2inverse(pset, N, FA, K14)\n",
    "\n",
    "        G4 = np.zeros((2,2,2,2),dtype=type(1+1j))\n",
    "        for a1, a2, a3, a4 in product([0,1], repeat=4):\n",
    "            for I0, I1 in product([0,1], repeat=2):\n",
    "                G4[a1][a2][a3][a4] += \\\n",
    "                    s31[a1][a2][I0]*s31[a3][a4][I1]*s21inv[I0][I1] + \\\n",
    "                    s32[a1][a4][I0]*s32[a2][a3][I1]*s22inv[I0][I1] + \\\n",
    "                    s33[a1][a3][I0]*s33[a2][a4][I1]*s23inv[I0][I1]\n",
    "        G4 -= s4\n",
    "\n",
    "    #     val = 0\n",
    "        for I0, I1, I2, I3 in product([0,1], repeat=4):\n",
    "            val += (phi_poly)*G4[I0][I1][I2][I3] *\\\n",
    "                    (s2inv[I0][0] - s2inv[I0][1])*\\\n",
    "                    (s2inv[I1][0] - s2inv[I1][1])*\\\n",
    "                    (s2inv[I2][0] - s2inv[I2][1])*\\\n",
    "                    (s2inv[I3][0] - s2inv[I3][1])*\\\n",
    "                    (-1)**(I0 + I1 + I2 + I3)*\\\n",
    "                    dlta[I0+i*2]*dlta[I1+i*2]*dlta[I2+i*2]*dlta[I3+i*2]  \n",
    "\n",
    "#     print(\"G4 N factor: \", N)\n",
    "    return val*(N**3)"
   ]
  },
  {
   "cell_type": "markdown",
   "metadata": {},
   "source": [
    "# Phase diagram comparisons"
   ]
  },
  {
   "cell_type": "markdown",
   "metadata": {},
   "source": [
    "Want to study this:\n",
    "N = 10\n",
    "Fa 1 = 0.3\n",
    "Fa 2 = 0.5\n",
    "Phi2 = 0.00001 \n",
    "\n",
    "VS \n",
    "\n",
    "N = 10\n",
    "Fa 1 = 0.3\n",
    "Fa 2 = 0.9\n",
    "Phi2 = 0.00001 \n"
   ]
  },
  {
   "cell_type": "code",
   "execution_count": 7,
   "metadata": {},
   "outputs": [],
   "source": [
    "N_1 = 10.\n",
    "FA_1_arr = np.arange(0.3, 0.701, .1)#np.arange(0.3, 0.701, .025) #np.array([0.01, 0.02, 0.05, 0.1, 0.2, 0.3, 0.4, .5, 0.6, 0.7, 0.8]) #np.arange(0.1, 0.701, 0.05) #np.array([0.01, 0.02, 0.05, 0.1, 0.3, .5, 0.7])#\n",
    "\n",
    "PHI_1 = 0.99999#99999999\n",
    "\n",
    "N_2 = N_1\n",
    "FA_2 = 0.5\n",
    "PHI_2 = 0.00001#00000001\n",
    "\n",
    "if (PHI_1 + PHI_2 > 1.00001) or (PHI_1 + PHI_2 < 1 - .00001):\n",
    "    raise Exception(\"Phis dont add up to 1\")\n",
    "\n",
    "# if (PHI_1 < 0.001) or (PHI_2 < 0.001):\n",
    "#     raise Exception(\"Phi too low- gamma2 unstable\")\n",
    "chi_array = np.arange(7.5, 15, .1)/N_1"
   ]
  },
  {
   "cell_type": "markdown",
   "metadata": {},
   "source": [
    "## Free energy calculation"
   ]
  },
  {
   "cell_type": "markdown",
   "metadata": {},
   "source": [
    "### Monodisperse (Vertex codebase)"
   ]
  },
  {
   "cell_type": "code",
   "execution_count": 8,
   "metadata": {},
   "outputs": [
    {
     "data": {
      "text/plain": [
       "10.0"
      ]
     },
     "execution_count": 8,
     "metadata": {},
     "output_type": "execute_result"
    }
   ],
   "source": [
    "N_1"
   ]
  },
  {
   "cell_type": "code",
   "execution_count": 9,
   "metadata": {},
   "outputs": [
    {
     "name": "stderr",
     "output_type": "stream",
     "text": [
      "./vertex_subroutines\\MultiPoint.py:206: RuntimeWarning: invalid value encountered in cdouble_scalars\n",
      "  if abs(out/(sum2+tol))<tol and l2>max(lam0_2,lam_2):\n",
      "./vertex_subroutines\\MultiPoint.py:209: RuntimeWarning: invalid value encountered in cdouble_scalars\n",
      "  if abs(sum2/(sum1+tol))<tol and l1>max(lam0_1,lam_1):\n",
      "./vertex_subroutines\\MultiPoint.py:206: RuntimeWarning: invalid value encountered in cdouble_scalars\n",
      "  if abs(out/(sum2+tol))<tol and l2>max(lam0_2,lam_2):\n",
      "./vertex_subroutines\\MultiPoint.py:209: RuntimeWarning: invalid value encountered in cdouble_scalars\n",
      "  if abs(sum2/(sum1+tol))<tol and l1>max(lam0_1,lam_1):\n"
     ]
    },
    {
     "name": "stdout",
     "output_type": "stream",
     "text": [
      "one FA done!!\n",
      "one FA done!!\n",
      "one FA done!!\n",
      "one FA done!!\n",
      "one FA done!!\n",
      "Wall time: 10min 21s\n"
     ]
    }
   ],
   "source": [
    "%%time\n",
    "#SINGLE WAVEMODE PHASE DIAGRAM\n",
    "N = N_1\n",
    "fa_array = FA_1_arr\n",
    "\n",
    "cyl_pnts_vert = np.array([])\n",
    "lam_pnts_vert = np.array([])\n",
    "dis_pnts_vert = np.array([])\n",
    "\n",
    "for FA in fa_array:\n",
    "    KS = spinodal(pset, N, FA)\n",
    "    q_star = KS[0]\n",
    "\n",
    "    lam_q = q_star*np.array([1, 0, 0])\n",
    "    \n",
    "    cyl_q1 = q_star*np.array([1, 0, 0])\n",
    "    cyl_q2 = 0.5*q_star*np.array([-1, np.sqrt(3), 0])\n",
    "    cyl_q3 = 0.5*q_star*np.array([-1, -np.sqrt(3), 0])\n",
    "    cyl_qs = np.array([cyl_q1, cyl_q2, cyl_q3])\n",
    "    \n",
    "    lam_g3 = 0\n",
    "    \n",
    "    cyl_g3 = (1/6) * (1/(3*np.sqrt(3))) * 12 * gamma3(pset, N, FA, cyl_qs)\n",
    "    \n",
    "    lam_g4 = (1/24) * (6) * (1) * gamma4(pset, wigset, N, FA, np.array([lam_q, -lam_q, lam_q, -lam_q]))\n",
    "    \n",
    "    cyl_g4 = (1/12)* (gamma4(pset, wigset, N, FA, np.array([cyl_q1 , -cyl_q1 , cyl_q1 , -cyl_q1 ])) + \\\n",
    "              4*gamma4(pset, wigset, N, FA, np.array([cyl_q1, -cyl_q1, cyl_q2, -cyl_q2])))\n",
    "       \n",
    "    for CHI in chi_array:\n",
    "        lam_g2 = (1/2) * 2 * (1) * gamma2(pset, N, FA, q_star, CHI)                \n",
    "        \n",
    "        cyl_g2 = (1/2) * 6 * (1/3) * gamma2(pset, N, FA, q_star, CHI) \n",
    "        \n",
    "        amp_l1 = optimize.fmin(lambda amps: np.real(amps**2 * lam_g2 + amps**3 * lam_g3 + amps**4 * lam_g4), \\\n",
    "                              1, disp=False)\n",
    "        amp_c1 = optimize.fmin(lambda amps: np.real(amps**2 * cyl_g2 + amps**3 * cyl_g3 + amps**4 * cyl_g4), \\\n",
    "                              1, disp=False)\n",
    "        \n",
    "        lamF = amp_l1**2 * lam_g2 + amp_l1**3 * lam_g3 + amp_l1**4 * lam_g4 \n",
    "        \n",
    "        cylF = amp_c1**2 * cyl_g2 + amp_c1**3 * cyl_g3 + amp_c1**4 * cyl_g4 \n",
    "             \n",
    "        point = np.array([FA, CHI*N])\n",
    "        \n",
    "        if (lamF > 0 and cylF > 0):\n",
    "            #disordered stable\n",
    "            dis_pnts_vert = np.append(dis_pnts_vert, point)\n",
    "        elif (lamF < cylF):\n",
    "            lam_pnts_vert = np.append(lam_pnts_vert, point) \n",
    "        else:\n",
    "            cyl_pnts_vert = np.append(cyl_pnts_vert, point)\n",
    "        \n",
    "    print(\"one FA done!!\")\n",
    "            "
   ]
  },
  {
   "cell_type": "code",
   "execution_count": 10,
   "metadata": {},
   "outputs": [
    {
     "data": {
      "text/plain": [
       "10.0"
      ]
     },
     "execution_count": 10,
     "metadata": {},
     "output_type": "execute_result"
    }
   ],
   "source": [
    "N"
   ]
  },
  {
   "cell_type": "markdown",
   "metadata": {},
   "source": [
    "### Polydisperse"
   ]
  },
  {
   "cell_type": "code",
   "execution_count": 11,
   "metadata": {},
   "outputs": [],
   "source": [
    "# %%time\n",
    "# # KS comparison code\n",
    "# sp.var(\"DEL_A1 DEL_B1 DEL_A2\")\n",
    "# DEL_B2 = -DEL_A1 -DEL_B1 -DEL_A2\n",
    "# dlta = np.array([DEL_A1, DEL_B1, DEL_A2, DEL_B2])\n",
    "\n",
    "# for FA_1 in FA_1_arr:\n",
    "#     poly_list = [[FA_1, N_1, PHI_1], [FA_2, N_2, PHI_2]]\n",
    "#     KS_mono = spinodal(pset, N_1, FA_1) #TODO: WRONG b/c based on monodisperse gamma2 result .need to redo for polydisp\n",
    "    \n",
    "#     KS_poly = spinodal_binary(pset, poly_list, dlta, k_vec = np.logspace(np.log10(1e-1), np.log10(1e1), 200))\n",
    "    \n",
    "#     print(\"_________\")\n",
    "#     print(\"KS_mono: \")\n",
    "#     print(KS_mono)\n",
    "#     print(\"KS_poly: \")\n",
    "#     print(KS_poly)"
   ]
  },
  {
   "cell_type": "code",
   "execution_count": 12,
   "metadata": {},
   "outputs": [
    {
     "name": "stdout",
     "output_type": "stream",
     "text": [
      "one FA done!\n"
     ]
    },
    {
     "name": "stderr",
     "output_type": "stream",
     "text": [
      "./vertex_subroutines\\MultiPoint.py:206: RuntimeWarning: invalid value encountered in cdouble_scalars\n",
      "  if abs(out/(sum2+tol))<tol and l2>max(lam0_2,lam_2):\n",
      "./vertex_subroutines\\MultiPoint.py:209: RuntimeWarning: invalid value encountered in cdouble_scalars\n",
      "  if abs(sum2/(sum1+tol))<tol and l1>max(lam0_1,lam_1):\n"
     ]
    },
    {
     "name": "stdout",
     "output_type": "stream",
     "text": [
      "one FA done!\n"
     ]
    },
    {
     "name": "stderr",
     "output_type": "stream",
     "text": [
      "./vertex_subroutines\\MultiPoint.py:206: RuntimeWarning: invalid value encountered in cdouble_scalars\n",
      "  if abs(out/(sum2+tol))<tol and l2>max(lam0_2,lam_2):\n",
      "./vertex_subroutines\\MultiPoint.py:209: RuntimeWarning: invalid value encountered in cdouble_scalars\n",
      "  if abs(sum2/(sum1+tol))<tol and l1>max(lam0_1,lam_1):\n"
     ]
    },
    {
     "name": "stdout",
     "output_type": "stream",
     "text": [
      "one FA done!\n"
     ]
    },
    {
     "name": "stderr",
     "output_type": "stream",
     "text": [
      "./vertex_subroutines\\MultiPoint.py:206: RuntimeWarning: invalid value encountered in cdouble_scalars\n",
      "  if abs(out/(sum2+tol))<tol and l2>max(lam0_2,lam_2):\n",
      "./vertex_subroutines\\MultiPoint.py:209: RuntimeWarning: invalid value encountered in cdouble_scalars\n",
      "  if abs(sum2/(sum1+tol))<tol and l1>max(lam0_1,lam_1):\n"
     ]
    },
    {
     "name": "stdout",
     "output_type": "stream",
     "text": [
      "one FA done!\n"
     ]
    },
    {
     "name": "stderr",
     "output_type": "stream",
     "text": [
      "./vertex_subroutines\\MultiPoint.py:206: RuntimeWarning: invalid value encountered in cdouble_scalars\n",
      "  if abs(out/(sum2+tol))<tol and l2>max(lam0_2,lam_2):\n",
      "./vertex_subroutines\\MultiPoint.py:209: RuntimeWarning: invalid value encountered in cdouble_scalars\n",
      "  if abs(sum2/(sum1+tol))<tol and l1>max(lam0_1,lam_1):\n"
     ]
    },
    {
     "name": "stdout",
     "output_type": "stream",
     "text": [
      "one FA done!\n",
      "Wall time: 41min 37s\n"
     ]
    }
   ],
   "source": [
    "%%time\n",
    "cyl_pnts_poly = np.array([])\n",
    "lam_pnts_poly = np.array([])\n",
    "dis_pnts_poly = np.array([])\n",
    "\n",
    "\n",
    "sp.var(\"DEL_A1 DEL_B1 DEL_A2\")\n",
    "DEL_B2 = -DEL_A1 -DEL_B1 -DEL_A2\n",
    "dlta = np.array([DEL_A1, DEL_B1, DEL_A2, DEL_B2])\n",
    "\n",
    "for FA_1 in FA_1_arr:\n",
    "    poly_list = [[FA_1, N_1, PHI_1], [FA_2, N_2, PHI_2]]\n",
    "    KS = spinodal(pset, N_1, FA_1) #TODO: WRONG b/c based on monodisperse gamma2 result .need to redo for polydisp\n",
    "    \n",
    "#     KS = spinodal_binary(pset, poly_list, dlta)\n",
    "    q_star = KS[0]\n",
    "\n",
    "    lam_q = q_star*np.array([1, 0, 0])\n",
    "\n",
    "    cyl_q1 = q_star*np.array([1, 0, 0])\n",
    "    cyl_q2 = 0.5*q_star*np.array([-1, np.sqrt(3), 0])\n",
    "    cyl_q3 = 0.5*q_star*np.array([-1, -np.sqrt(3), 0])\n",
    "    cyl_qs = np.array([cyl_q1, cyl_q2, cyl_q3])  \n",
    "    \n",
    "    \n",
    "    G3_poly_cyl = (1/6) * (1/(3*np.sqrt(3))) * 12 * gamma3binary(pset, cyl_qs, poly_list, dlta)\n",
    "\n",
    "    G3_poly_lam = 0\n",
    "    \n",
    "    G3lambd_cyl = sp.lambdify([DEL_A1, DEL_B1, DEL_A2], G3_poly_cyl, 'numpy')\n",
    "\n",
    "    \n",
    "    G4p_lam = (1/24) * (6) *gamma4binary(pset, wigset, np.array([lam_q, -lam_q, lam_q, -lam_q]), poly_list, dlta)\n",
    "\n",
    "    G4p_cyl = (1/12) * (gamma4binary(pset, wigset, np.array([cyl_q1 , -cyl_q1 , cyl_q1 , -cyl_q1 ]), poly_list, dlta) + \\\n",
    "              4*gamma4binary(pset, wigset, np.array([cyl_q1, -cyl_q1, cyl_q2, -cyl_q2]), poly_list, dlta))\n",
    "\n",
    "    G4lambd_cyl = sp.lambdify([DEL_A1, DEL_B1, DEL_A2], G4p_cyl, 'numpy')\n",
    "\n",
    "    G4lambd_lam = sp.lambdify([DEL_A1, DEL_B1, DEL_A2], G4p_lam, 'numpy')\n",
    "    \n",
    "    for CHI in chi_array:\n",
    "        \n",
    "        G2poly = gamma2binary(pset, q_star, poly_list, dlta, CHI)\n",
    "\n",
    "        G2lambd = sp.lambdify([DEL_A1, DEL_B1, DEL_A2], G2poly, 'numpy')\n",
    "        \n",
    "        # amp = optimize.fmin(lambda amp: G3lambd(amp[0], amp[1], amp[2]), [1,1,1], disp=False)\n",
    "\n",
    "#         amp_poly_cyl = optimize.fmin(lambda amps: np.real(G2lambd(amps[0], amps[1], amps[2])+ G3lambd_cyl(amps[0], amps[1], amps[2])\\\n",
    "#                                                           + G4lambd_cyl(amps[0], amps[1], amps[2])), [0,0,0], disp=False)\n",
    "\n",
    "#         amp_poly_lam = optimize.fmin(lambda amps: np.real(G2lambd(amps[0], amps[1], amps[2])\\\n",
    "#                                                           + G4lambd_lam(amps[0], amps[1], amps[2])), [1,0,0], disp=False)\n",
    "\n",
    "\n",
    "#         polyF_cyl = G2lambd(amp_poly_cyl[0], amp_poly_cyl[1], amp_poly_cyl[2])+ G3lambd_cyl(amp_poly_cyl[0], amp_poly_cyl[1], amp_poly_cyl[2])\\\n",
    "#                                                       + G4lambd_cyl(amp_poly_cyl[0], amp_poly_cyl[1], amp_poly_cyl[2])\n",
    "\n",
    "#         polyF_lam = G2lambd(amp_poly_lam[0], amp_poly_lam[1], amp_poly_lam[2])+ G4lambd_lam(amp_poly_lam[0], amp_poly_lam[1], amp_poly_lam[2])\n",
    "        \n",
    "#         print(\"pre-optimization\")\n",
    "        polyF_cyl_obj = optimize.basinhopping(lambda amps: np.real(G2lambd(amps[0], amps[1], amps[2])+ G3lambd_cyl(amps[0], amps[1], amps[2])\\\n",
    "                                                  + G4lambd_cyl(amps[0], amps[1], amps[2])),[0,0,0],niter=100)\n",
    "        polyF_cyl = polyF_cyl_obj.fun\n",
    "        \n",
    "#         print(\"completed one optimization\")\n",
    "        polyF_lam_obj = optimize.basinhopping(lambda amps: np.real(G2lambd(amps[0], amps[1], amps[2])\\\n",
    "                                                           + G4lambd_lam(amps[0], amps[1], amps[2])),[0,0,0],niter=100)\n",
    "        polyF_lam = polyF_lam_obj.fun\n",
    "        \n",
    "        \n",
    "        point = np.array([FA_1, CHI*N_1])\n",
    "        \n",
    "        if (polyF_lam == 0 and polyF_cyl == 0):\n",
    "            #disordered stable\n",
    "            dis_pnts_poly = np.append(dis_pnts_poly, point)\n",
    "        elif (polyF_lam < polyF_cyl):\n",
    "            lam_pnts_poly = np.append(lam_pnts_poly, point) \n",
    "        else:\n",
    "            cyl_pnts_poly = np.append(cyl_pnts_poly, point)\n",
    "            \n",
    "    print(\"one FA done!\")"
   ]
  },
  {
   "cell_type": "markdown",
   "metadata": {},
   "source": [
    "## Generate interpolation functions"
   ]
  },
  {
   "cell_type": "code",
   "execution_count": 13,
   "metadata": {},
   "outputs": [
    {
     "name": "stderr",
     "output_type": "stream",
     "text": [
      "<ipython-input-13-20434113bbe5>:2: VisibleDeprecationWarning: Creating an ndarray from ragged nested sequences (which is a list-or-tuple of lists-or-tuples-or ndarrays with different lengths or shapes) is deprecated. If you meant to do this, you must specify 'dtype=object' when creating the ndarray\n",
      "  phase_list = np.array([dis_pnts_vert, lam_pnts_vert])\n"
     ]
    }
   ],
   "source": [
    "# phase_list = np.array([dis_pnts_vert, lam_pnts_vert, cyl_pnts, gyr_pnts, sq_cyl_pnts])\n",
    "phase_list = np.array([dis_pnts_vert, lam_pnts_vert])\n",
    "\n",
    "\n",
    "max_dis_pnts_vert = np.array([])\n",
    "min_dis_pnts_vert = np.array([])\n",
    "max_lam_pnts_vert = np.array([])\n",
    "min_lam_pnts_vert = np.array([])\n",
    "max_cyl_pnts = np.array([])\n",
    "min_cyl_pnts = np.array([])\n",
    "max_sq_cyl_pnts = np.array([])\n",
    "min_sq_cyl_pnts = np.array([])\n",
    "\n",
    "for i, phse in enumerate(phase_list):\n",
    "    phse_x = phse[::2]\n",
    "    phse_y = phse[1::2]\n",
    "    \n",
    "    new_phase_pnt_arr_maxs = np.array([])\n",
    "    new_phase_pnt_arr_mins = np.array([])\n",
    "\n",
    "    for fa_val in fa_array:\n",
    "        min_pnt = []\n",
    "        max_pnt = []\n",
    "        same_fa_y_vals = np.array([])\n",
    "        for j, phx in enumerate(phse_x):\n",
    "            \n",
    "            if phx == fa_val:\n",
    "#                 print(\"allowed fa\", fa_val)\n",
    "                same_fa_y_vals = np.append(same_fa_y_vals, phse_y[j])\n",
    "        \n",
    "        if len(same_fa_y_vals) != 0:\n",
    "            min_pnt = [fa_val, min(same_fa_y_vals)]\n",
    "            max_pnt = [fa_val, max(same_fa_y_vals)]\n",
    "        \n",
    "        new_phase_pnt_arr_mins = np.append(new_phase_pnt_arr_mins, min_pnt)\n",
    "        new_phase_pnt_arr_maxs = np.append(new_phase_pnt_arr_maxs, max_pnt)\n",
    "    \n",
    "    \n",
    "    if i == 0:\n",
    "        max_dis_pnts_vert = new_phase_pnt_arr_maxs\n",
    "        min_dis_pnts_vert = new_phase_pnt_arr_mins\n",
    "    elif i == 1:\n",
    "        max_lam_pnts_vert = new_phase_pnt_arr_maxs\n",
    "        min_lam_pnts_vert = new_phase_pnt_arr_mins\n",
    "    elif i == 2:\n",
    "        max_cyl_pnts = new_phase_pnt_arr_maxs\n",
    "        min_cyl_pnts = new_phase_pnt_arr_mins\n",
    "    elif i == 3:\n",
    "        max_min_gyr_pnts = np.append(new_phase_pnt_arr_mins, new_phase_pnt_arr_maxs)\n",
    "    elif i == 4:\n",
    "        max_sq_cyl_pnts = new_phase_pnt_arr_maxs\n",
    "        min_sq_cyl_pnts = new_phase_pnt_arr_mins\n",
    "\n",
    "    #get array of all XNs at that fa\n",
    "    #find max an min\n",
    "    #return those two points\n",
    "    #get all x values\n",
    "    #for all fas, see if present for each phase.\n",
    "    #if multple ponts in one fa for one phase, find min and max XN points"
   ]
  },
  {
   "cell_type": "code",
   "execution_count": 14,
   "metadata": {},
   "outputs": [
    {
     "name": "stderr",
     "output_type": "stream",
     "text": [
      "<ipython-input-14-f7a99da38b6e>:2: VisibleDeprecationWarning: Creating an ndarray from ragged nested sequences (which is a list-or-tuple of lists-or-tuples-or ndarrays with different lengths or shapes) is deprecated. If you meant to do this, you must specify 'dtype=object' when creating the ndarray\n",
      "  phase_list = np.array([dis_pnts_poly, lam_pnts_poly])\n"
     ]
    }
   ],
   "source": [
    "# phase_list = np.array([dis_pnts_poly, lam_pnts_poly, cyl_pnts, gyr_pnts, sq_cyl_pnts])\n",
    "phase_list = np.array([dis_pnts_poly, lam_pnts_poly])\n",
    "\n",
    "max_dis_pnts_poly = np.array([])\n",
    "min_dis_pnts_poly = np.array([])\n",
    "max_lam_pnts_poly = np.array([])\n",
    "min_lam_pnts_poly = np.array([])\n",
    "max_cyl_pnts = np.array([])\n",
    "min_cyl_pnts = np.array([])\n",
    "max_sq_cyl_pnts = np.array([])\n",
    "min_sq_cyl_pnts = np.array([])\n",
    "\n",
    "for i, phse in enumerate(phase_list):\n",
    "    phse_x = phse[::2]\n",
    "    phse_y = phse[1::2]\n",
    "    \n",
    "    new_phase_pnt_arr_maxs = np.array([])\n",
    "    new_phase_pnt_arr_mins = np.array([])\n",
    "\n",
    "    for fa_val in fa_array:\n",
    "        min_pnt = []\n",
    "        max_pnt = []\n",
    "        same_fa_y_vals = np.array([])\n",
    "        for j, phx in enumerate(phse_x):\n",
    "            \n",
    "            if phx == fa_val:\n",
    "#                 print(\"allowed fa\", fa_val)\n",
    "                same_fa_y_vals = np.append(same_fa_y_vals, phse_y[j])\n",
    "        \n",
    "        if len(same_fa_y_vals) != 0:\n",
    "            min_pnt = [fa_val, min(same_fa_y_vals)]\n",
    "            max_pnt = [fa_val, max(same_fa_y_vals)]\n",
    "        \n",
    "        new_phase_pnt_arr_mins = np.append(new_phase_pnt_arr_mins, min_pnt)\n",
    "        new_phase_pnt_arr_maxs = np.append(new_phase_pnt_arr_maxs, max_pnt)\n",
    "    \n",
    "    \n",
    "    if i == 0:\n",
    "        max_dis_pnts_poly = new_phase_pnt_arr_maxs\n",
    "        min_dis_pnts_poly = new_phase_pnt_arr_mins\n",
    "    elif i == 1:\n",
    "        max_lam_pnts_poly = new_phase_pnt_arr_maxs\n",
    "        min_lam_pnts_poly = new_phase_pnt_arr_mins\n",
    "    elif i == 2:\n",
    "        max_cyl_pnts = new_phase_pnt_arr_maxs\n",
    "        min_cyl_pnts = new_phase_pnt_arr_mins\n",
    "    elif i == 3:\n",
    "        max_min_gyr_pnts = np.append(new_phase_pnt_arr_mins, new_phase_pnt_arr_maxs)\n",
    "    elif i == 4:\n",
    "        max_sq_cyl_pnts = new_phase_pnt_arr_maxs\n",
    "        min_sq_cyl_pnts = new_phase_pnt_arr_mins\n",
    "    \n",
    "\n",
    "    #get array of all XNs at that fa\n",
    "    #find max an min\n",
    "    #return those two points\n",
    "    #get all x values\n",
    "    #for all fas, see if present for each phase.\n",
    "    #if multple ponts in one fa for one phase, find min and max XN points"
   ]
  },
  {
   "cell_type": "code",
   "execution_count": 15,
   "metadata": {},
   "outputs": [],
   "source": [
    "# #one for lamellar, one for disorderd. the lamellar minimum defines cylidnrical upper bound\n",
    "# laminterp_vert = interp1d(min_lam_pnts_vert[::2], min_lam_pnts_vert[1::2], kind=\"quadratic\") \n",
    "# disinterp_vert = interp1d(max_dis_pnts_vert[::2], max_dis_pnts_vert[1::2], kind=\"quadratic\") "
   ]
  },
  {
   "cell_type": "code",
   "execution_count": 16,
   "metadata": {},
   "outputs": [],
   "source": [
    "# #one for lamellar, one for disorderd\n",
    "# laminterp_poly = interp1d(min_lam_pnts_poly[::2], min_lam_pnts_poly[1::2], kind=\"quadratic\") \n",
    "# disinterp_poly = interp1d(max_dis_pnts_poly[::2], max_dis_pnts_poly[1::2], kind=\"quadratic\") "
   ]
  },
  {
   "cell_type": "markdown",
   "metadata": {},
   "source": [
    "## Plot"
   ]
  },
  {
   "cell_type": "code",
   "execution_count": 17,
   "metadata": {
    "scrolled": false
   },
   "outputs": [
    {
     "data": {
      "text/plain": [
       "Text(0.5, 1.0, 'Binary mix N = 10.0, $f_A^{\\\\ (2)}$ = 0.5, $\\\\phi_2$ = 1e-05 (exact result)')"
      ]
     },
     "execution_count": 17,
     "metadata": {},
     "output_type": "execute_result"
    },
    {
     "data": {
      "text/plain": [
       "<Figure size 432x288 with 0 Axes>"
      ]
     },
     "metadata": {},
     "output_type": "display_data"
    },
    {
     "data": {
      "image/png": "[encoded data removed]",
      "text/plain": [
       "<Figure size 720x576 with 1 Axes>"
      ]
     },
     "metadata": {
      "needs_background": "light"
     },
     "output_type": "display_data"
    }
   ],
   "source": [
    "fig = plt.figure()\n",
    "plt.figure(figsize=(10,8))\n",
    "\n",
    "font = {'family' : 'serif',\n",
    "        'weight':'normal',\n",
    "        'size': 18}\n",
    "plt.rc('font', **font)\n",
    "ax = plt.subplot(111)\n",
    "\n",
    "\n",
    "new_x = np.arange(0.301, 0.7, 0.001)\n",
    "new_x_lam = np.arange(0.4, 0.6, 0.001)\n",
    "\n",
    "fa_eff = PHI_1 * new_x + PHI_2 * FA_2\n",
    "fa_eff_lam = PHI_1 * new_x_lam + PHI_2 * FA_2\n",
    "\n",
    "\n",
    "ax.scatter(dis_pnts_poly[::2], dis_pnts_poly[1::2], label = \"dis\", color = \"grey\")\n",
    "ax.scatter(cyl_pnts_poly[::2], cyl_pnts_poly[1::2], label = \"cyl\", color = \"orange\")\n",
    "ax.scatter(lam_pnts_poly[::2], lam_pnts_poly[1::2], label = \"lam\", color = \"blue\")\n",
    "\n",
    "ax.scatter(max_dis_pnts_vert[::2], max_dis_pnts_vert[1::2], label = \"mono spinodal\", color = \"red\")\n",
    "ax.scatter(min_lam_pnts_vert[::2], min_lam_pnts_vert[1::2], label = \"mono cyl/lam boundary\", color = \"green\")\n",
    "\n",
    "# ax.scatter(dis_pnts_vert[::2], dis_pnts_vert[1::2], label = \"dis\", color = \"grey\")\n",
    "# ax.scatter(lam_pnts_vert[::2], lam_pnts_vert[1::2], label = \"mono lam\", color = \"purple\")\n",
    "# ax.scatter(cyl_pnts_vert[::2], cyl_pnts_vert[1::2], label = \"cyl\", color = \"yellow\")\n",
    "\n",
    "\n",
    "box = ax.get_position()\n",
    "ax.set_position([box.x0, box.y0, box.width * 0.8, box.height])\n",
    "ax.legend(loc='center left', bbox_to_anchor=(1, 0.5))\n",
    "\n",
    "ax.set_ylabel(\"$\\chi N$\")\n",
    "ax.set_xlabel(\"$f_A^{\\  eff}$\")\n",
    "ax.set_title(\"Binary mix N = \" + str(N_1) + \", $f_A^{\\ (2)}$ = \" +  str(np.round(FA_2, 2)) +  \", $\\phi_2$ = \" +str(np.round(1 - PHI_1, 8)) + \" (exact result)\")"
   ]
  },
  {
   "cell_type": "code",
   "execution_count": null,
   "metadata": {},
   "outputs": [],
   "source": [
    "\n",
    "# ax.plot(fa_eff_lam, laminterp_poly(new_x_lam), color = \"blue\",linewidth = 1, label = \"lam (mix)\")#, linestyle = \"dotted\")#\"lam, $\\phi^{(dop)}_P = 0.1$\")\n",
    "# ax.plot(fa_eff, disinterp_poly(new_x), color = \"orange\", linewidth = 1, label = \"cyl (mix)\")#), linestyle = \"dotted\")#\"cyl, $\\phi^{(dop)}_P = 0.1$\")\n",
    "\n",
    "# ax.plot(new_x_lam, laminterp_vert(new_x_lam), color = \"blue\",alpha =0.5 , linestyle = \"dashed\", label = \"lam (mono)\")#\"lam, $\\phi^{(dop)}_P = 0.0$\") #mono lam\n",
    "# ax.plot(new_x, disinterp_vert(new_x), color = \"orange\", alpha = 0.5, linestyle = \"dashed\", label = \"cyl (mono)\")#\"cyl, $\\phi^{(dop)}_P = 0.0$\") #mono cyl\n",
    "\n",
    "# ax.scatter(max_dis_pnts_poly[::2], max_dis_pnts_poly[1::2], label = \"dis\", color = \"orange\")\n",
    "# ax.scatter(min_lam_pnts_poly[::2], min_lam_pnts_poly[1::2],color = \"blue\")\n",
    "\n",
    "# ax.scatter(max_dis_pnts_vert[::2], max_dis_pnts_vert[1::2], label = \"dis\", color = \"red\")\n",
    "# ax.scatter(min_lam_pnts_vert[::2], min_lam_pnts_vert[1::2],color = \"purple\")"
   ]
  },
  {
   "cell_type": "markdown",
   "metadata": {},
   "source": [
    "### Alternative application of incompressiblity test; monodisperse\n",
    "\n",
    "Want to see if the alternative way of applying incompressibility affects the phase diagram of a monodisperse ensemble"
   ]
  },
  {
   "cell_type": "code",
   "execution_count": null,
   "metadata": {},
   "outputs": [],
   "source": [
    "#monodisperse alt ways of applying incompressibility:\n",
    "delta_mono = [DEL_A1, -DEL_A1]"
   ]
  },
  {
   "cell_type": "code",
   "execution_count": null,
   "metadata": {},
   "outputs": [],
   "source": [
    "%%time\n",
    "#SINGLE WAVEMODE PHASE DIAGRAM\n",
    "N = N_1\n",
    "fa_array = FA_1_arr\n",
    "\n",
    "cyl_pnts_altinc = np.array([])\n",
    "lam_pnts_altinc = np.array([])\n",
    "dis_pnts_altinc = np.array([])\n",
    "\n",
    "for FA in fa_array:\n",
    "    KS = spinodal(pset, N, FA)\n",
    "    q_star = KS[0]\n",
    "\n",
    "    lam_q = q_star*np.array([1, 0, 0])\n",
    "    \n",
    "    cyl_q1 = q_star*np.array([1, 0, 0])\n",
    "    cyl_q2 = 0.5*q_star*np.array([-1, np.sqrt(3), 0])\n",
    "    cyl_q3 = 0.5*q_star*np.array([-1, -np.sqrt(3), 0])\n",
    "    cyl_qs = np.array([cyl_q1, cyl_q2, cyl_q3])\n",
    "    \n",
    "\n",
    "    G3_mono_cyl = (1/6) * (1/(3*np.sqrt(3))) * 12 * gamma3_M(pset, N, FA, cyl_qs, delta_mono)\n",
    "\n",
    "    G3_mono_lam = 0\n",
    "    \n",
    "\n",
    "    G4m_lam = (1/24) * (6) *gamma4_M(pset, wigset, N, FA, np.array([lam_q, -lam_q, lam_q, -lam_q]), delta_mono)\n",
    "\n",
    "    G4m_cyl = (1/12) * (gamma4_M(pset, wigset, N, FA, np.array([cyl_q1 , -cyl_q1 , cyl_q1 , -cyl_q1 ]), delta_mono) + \\\n",
    "              4*gamma4_M(pset, wigset, N, FA, np.array([cyl_q1, -cyl_q1, cyl_q2, -cyl_q2]), delta_mono))\n",
    "    \n",
    "    G3lambd_cyl_M = sp.lambdify([DEL_A1], G3_mono_cyl, 'numpy')\n",
    "\n",
    "    G4lambd_cyl_M = sp.lambdify([DEL_A1], G4m_cyl, 'numpy')\n",
    "\n",
    "    G4lambd_lam_M = sp.lambdify([DEL_A1], G4m_lam, 'numpy')\n",
    "    \n",
    "    for CHI in chi_array:\n",
    "        \n",
    "        G2mono = gamma2_M(pset, N, FA, k_vec, CHI, delta_mono)\n",
    "        \n",
    "        G2lambd_M = sp.lambdify([DEL_A1], G2mono, 'numpy')\n",
    "\n",
    "        \n",
    "        \n",
    "        amp_cyl = optimize.fmin(lambda amps: np.real(G2lambd_M(amps)+ G3lambd_cyl_M(amps) + G4lambd_cyl_M(amps)), 1, disp=False)\n",
    "\n",
    "        amp_lam = optimize.fmin(lambda amps: np.real(G2lambd_M(amps[0]) + G4lambd_lam_M(amps[0])), [1], disp=False)\n",
    "\n",
    "\n",
    "        cylF = G2lambd_M(amp_cyl[0]) + G3lambd_cyl_M(amp_cyl[0]) + G4lambd_cyl_M(amp_cyl[0])\n",
    "\n",
    "        lamF = G2lambd_M(amp_lam[0]) + G4lambd_lam_M(amp_lam[0])\n",
    "             \n",
    "        point = np.array([FA, CHI*N])\n",
    "        \n",
    "        if (lamF > 0 and cylF > 0):\n",
    "            #disordered stable\n",
    "            dis_pnts_altinc = np.append(dis_pnts_altinc, point)\n",
    "        elif (lamF < cylF):\n",
    "            lam_pnts_altinc = np.append(lam_pnts_altinc, point) \n",
    "        else:\n",
    "            cyl_pnts_altinc = np.append(cyl_pnts_altinc, point)\n",
    "\n",
    "            \n",
    "    print(\"one FA done!!\")\n",
    "            "
   ]
  },
  {
   "cell_type": "code",
   "execution_count": null,
   "metadata": {
    "scrolled": false
   },
   "outputs": [],
   "source": [
    "fig = plt.figure()\n",
    "plt.figure(figsize=(10,8))\n",
    "\n",
    "font = {'family' : 'serif',\n",
    "        'weight':'normal',\n",
    "        'size': 18}\n",
    "plt.rc('font', **font)\n",
    "ax = plt.subplot(111)\n",
    "\n",
    "new_x = np.arange(0.301, 0.7, 0.001)\n",
    "new_x_lam = np.arange(0.4, 0.6, 0.001)\n",
    "\n",
    "fa_eff = PHI_1 * new_x + PHI_2 * FA_2\n",
    "fa_eff_lam = PHI_1 * new_x_lam + PHI_2 * FA_2\n",
    "\n",
    "\n",
    "ax.scatter(dis_pnts_altinc[::2], dis_pnts_altinc[1::2], label = \"dis\", color = \"grey\")\n",
    "ax.scatter(cyl_pnts_altinc[::2], cyl_pnts_altinc[1::2], label = \"cyl\", color = \"orange\")\n",
    "ax.scatter(lam_pnts_altinc[::2], lam_pnts_altinc[1::2], label = \"lam\", color = \"blue\")\n",
    "\n",
    "ax.plot(max_dis_pnts_vert[::2], max_dis_pnts_vert[1::2], label = \"mono spinodal\", color = \"red\")\n",
    "ax.plot(min_lam_pnts_vert[::2], min_lam_pnts_vert[1::2], label = \"mono cyl/lam boundary\", color = \"green\")\n",
    "\n",
    "\n",
    "box = ax.get_position()\n",
    "ax.set_position([box.x0, box.y0, box.width * 0.8, box.height])\n",
    "ax.legend(loc='center left', bbox_to_anchor=(1, 0.5))\n",
    "\n",
    "ax.set_ylabel(\"$\\chi N$\")\n",
    "ax.set_xlabel(\"$f_A^{\\  eff}$\")\n",
    "ax.set_title(\"Monodisperse alt incompressibility condition (adapted vertex)\")"
   ]
  },
  {
   "cell_type": "code",
   "execution_count": null,
   "metadata": {},
   "outputs": [],
   "source": []
  },
  {
   "cell_type": "markdown",
   "metadata": {},
   "source": [
    "### Incompressiblity test- importance for identifying kstar?"
   ]
  },
  {
   "cell_type": "code",
   "execution_count": null,
   "metadata": {},
   "outputs": [],
   "source": [
    "# test- is incompressibilty condition important for k_star analysis. If not, greatly simplifies k_star generalization!!\n",
    "# monodisperse 1x1 (vertex codebase) vs 2x2 analysis\n",
    "\n",
    "FA_arr = np.arange(0.3, 0.71, 0.1)\n",
    "\n",
    "def spinodal_nonincp(N_1, FA_1, k_vec = np.logspace(np.log10(1e-1), np.log10(1e1), 100)):\n",
    "    \n",
    "    #TODO: use vertex codebase functions\n",
    "    chi = 0\n",
    "\n",
    "    # calculate sfs for a range of ks\n",
    "    s2_1 = wlc_copoly.s2_wlc_diblock(k_vec, N_1, FA_1, dimensions=3, alpha_max=25)\n",
    "\n",
    "    s2_AA_1 = s2_1[0]\n",
    "    s2_AB_1 = s2_1[1]\n",
    "    s2_BB_1 = s2_1[2]\n",
    "\n",
    "    # invert sfs\n",
    "    det_1_arr = s2_AA_1 * s2_BB_1 - s2_AB_1**2\n",
    "    prefactor_1_arr = 1/(det_1_arr*2*PHI_1)\n",
    "    \n",
    "    s2inv_AA_1_arr = s2_AA_1*prefactor_1_arr\n",
    "    s2inv_AB_1_arr = s2_AB_1*prefactor_1_arr\n",
    "    s2inv_BB_1_arr = s2_BB_1*prefactor_1_arr\n",
    "    \n",
    "    G2 = (1/N_1)*np.array([[s2inv_BB_1_arr, -s2inv_AB_1_arr + 0.5*chi*N_1],[-s2inv_AB_1_arr + 0.5*chi*N_1, s2inv_AA_1_arr]]).T.reshape(len(k_vec), 2, 2)#single poly type\n",
    "    print(G2[0])\n",
    "    eigvalues,eigvectors = np.linalg.eigh(G2)\n",
    "    eigvalues_lst = np.concatenate(eigvalues)\n",
    "    min_eig = np.min(eigvalues_lst)\n",
    "\n",
    "    k_star = k_vec[np.where(eigvalues_lst==min_eig)[0]//2][0]\n",
    "    return k_star"
   ]
  },
  {
   "cell_type": "code",
   "execution_count": null,
   "metadata": {},
   "outputs": [],
   "source": [
    "FA = 0.5"
   ]
  },
  {
   "cell_type": "code",
   "execution_count": null,
   "metadata": {},
   "outputs": [],
   "source": [
    "%%time\n",
    "KS = spinodal(pset, N, FA)\n",
    "KS"
   ]
  },
  {
   "cell_type": "code",
   "execution_count": null,
   "metadata": {},
   "outputs": [],
   "source": [
    "%%time\n",
    "spinodal_nonincp(N, FA)"
   ]
  },
  {
   "cell_type": "markdown",
   "metadata": {},
   "source": [
    "## Single-point free energy calculations"
   ]
  },
  {
   "cell_type": "code",
   "execution_count": null,
   "metadata": {},
   "outputs": [],
   "source": [
    "N_1 = 10.\n",
    "# FA_1_arr = np.arange(0.3, 0.701, .1) #np.array([0.01, 0.02, 0.05, 0.1, 0.2, 0.3, 0.4, .5, 0.6, 0.7, 0.8]) #np.arange(0.1, 0.701, 0.05) #np.array([0.01, 0.02, 0.05, 0.1, 0.3, .5, 0.7])#\n",
    "FA_1 = 0.4\n",
    "PHI_1 = 0.99999\n",
    "\n",
    "N_2 = N_1\n",
    "FA_2 = 0.9\n",
    "PHI_2 = 0.00001\n",
    "\n",
    "poly_list = [[FA_1, N_1, PHI_1], [FA_2, N_2, PHI_2]]\n",
    "dlta = np.array([DEL_A1, DEL_B1, DEL_A2, DEL_B2])\n",
    "\n",
    "KS = spinodal(pset, N_1, FA_1) #TODO: WRONG b/c based on monodisperse gamma2 result .need to redo for polydisp\n",
    "q_star = KS[0]\n",
    "\n",
    "k_vec = KS\n",
    "k_ind = 0\n",
    "\n",
    "lam_q = q_star*np.array([1, 0, 0])\n",
    "\n",
    "cyl_q1 = q_star*np.array([1, 0, 0])\n",
    "cyl_q2 = 0.5*q_star*np.array([-1, np.sqrt(3), 0])\n",
    "cyl_q3 = 0.5*q_star*np.array([-1, -np.sqrt(3), 0])\n",
    "cyl_qs = np.array([cyl_q1, cyl_q2, cyl_q3])\n",
    "\n",
    "CHI = 10.40/N_1\n",
    "\n",
    "monodisp_FA_arr = np.arange(0.3, 0.701, 0.1)\n",
    "\n",
    "if (PHI_1 + PHI_2 > 1.00001) or (PHI_1 + PHI_2 < 1 - .00001):\n",
    "    raise Exception(\"Phis dont add up to 1\")"
   ]
  },
  {
   "cell_type": "code",
   "execution_count": null,
   "metadata": {},
   "outputs": [],
   "source": [
    "%%time\n",
    "G2poly = gamma2binary(pset, k_vec, poly_list, dlta, CHI)\n",
    "\n",
    "\n",
    "G3_poly_cyl = (1/6) * (1/(3*np.sqrt(3))) * 12 * gamma3binary(pset, cyl_qs, poly_list, dlta)\n",
    "\n",
    "G3_poly_lam = 0\n",
    "\n",
    "\n",
    "G4p_lam = (1/24) * (6) *gamma4binary(pset, wigset, np.array([lam_q, -lam_q, lam_q, -lam_q]), poly_list, dlta)\n",
    "\n",
    "G4p_cyl = (1/12) * (gamma4binary(pset, wigset, np.array([cyl_q1 , -cyl_q1 , cyl_q1 , -cyl_q1 ]), poly_list, dlta) + \\\n",
    "          4*gamma4binary(pset, wigset, np.array([cyl_q1, -cyl_q1, cyl_q2, -cyl_q2]), poly_list, dlta))\n",
    "\n",
    "\n",
    "G2lambd = sp.lambdify([DEL_A1, DEL_B1, DEL_A2], G2poly, 'numpy')\n",
    "\n",
    "G3lambd_cyl = sp.lambdify([DEL_A1, DEL_B1, DEL_A2], G3_poly_cyl, 'numpy')\n",
    "\n",
    "G4lambd_cyl = sp.lambdify([DEL_A1, DEL_B1, DEL_A2], G4p_cyl, 'numpy')\n",
    "\n",
    "G4lambd_lam = sp.lambdify([DEL_A1, DEL_B1, DEL_A2], G4p_lam, 'numpy')"
   ]
  },
  {
   "cell_type": "code",
   "execution_count": null,
   "metadata": {},
   "outputs": [],
   "source": [
    "%%time\n",
    "# amp = optimize.fmin(lambda amp: G3lambd(amp[0], amp[1], amp[2]), [1,1,1], disp=False)\n",
    "\n",
    "amp_poly_cyl = optimize.fmin(lambda amps: np.real(G2lambd(amps[0], amps[1], amps[2]) + G3lambd_cyl(amps[0], amps[1], amps[2])\\\n",
    "                                                  + G4lambd_cyl(amps[0], amps[1], amps[2])), [1,1,1], disp=False)\n",
    "\n",
    "amp_poly_lam = optimize.fmin(lambda amps: np.real(G2lambd(amps[0], amps[1], amps[2])\\\n",
    "                                                  + G4lambd_lam(amps[0], amps[1], amps[2])), [1,1,1], disp=False)\n",
    "\n",
    "\n",
    "polyF_cyl = G2lambd(amp_poly_cyl[0], amp_poly_cyl[1], amp_poly_cyl[2]) + G3lambd_cyl(amp_poly_cyl[0], amp_poly_cyl[1], amp_poly_cyl[2])\\\n",
    "                                              + G4lambd_cyl(amp_poly_cyl[0], amp_poly_cyl[1], amp_poly_cyl[2])\n",
    "\n",
    "polyF_lam = G2lambd(amp_poly_lam[0], amp_poly_lam[1], amp_poly_lam[2]) + G4lambd_lam(amp_poly_lam[0], amp_poly_lam[1], amp_poly_lam[2])"
   ]
  },
  {
   "cell_type": "code",
   "execution_count": null,
   "metadata": {},
   "outputs": [],
   "source": [
    "polyF_cyl"
   ]
  },
  {
   "cell_type": "code",
   "execution_count": null,
   "metadata": {},
   "outputs": [],
   "source": [
    "polyF_lam"
   ]
  },
  {
   "cell_type": "code",
   "execution_count": null,
   "metadata": {},
   "outputs": [],
   "source": [
    "polyF_lam < polyF_cyl"
   ]
  },
  {
   "cell_type": "markdown",
   "metadata": {},
   "source": [
    "### Re-applying incompressibility test on a Monodisperse system\n",
    "\n",
    "The goal here is to undo incompressibility in base Vertex functions (appliying -1s correctly), then re-apply it with a delta array that has the condition applied, ALL FOR A MONODISPERSE SYSTEM. Should get exact same results as original Vertex codebase."
   ]
  },
  {
   "cell_type": "code",
   "execution_count": null,
   "metadata": {},
   "outputs": [],
   "source": [
    "#check if approach works for monodisperse\n",
    "\n",
    "#for each func, need to remove incompressiblity condition and add dels which enforce incompressibilty\n",
    "def gamma2_M(pset, N, FA, K, CHI, dlta):\n",
    "    s2inv = s2inverse(pset, N, FA, K)\n",
    "\n",
    "#     D = [1,-1]    # sign indicator\n",
    "    G = 0\n",
    "    for I0, I1 in product([0,1], repeat=2):\n",
    "        G += N*s2inv[I0, I1]*dlta[I0]*dlta[I1] #removed sign indicator\n",
    "    \n",
    "    G += 2*CHI*(dlta[0]*dlta[1])\n",
    "    return G#-2*CHI + N*G\n",
    "\n",
    "def gamma3_M(pset, N, FA, Ks, dlta):\n",
    "    K1, K2, K3 = Ks\n",
    "    if norm(K1+K2+K3) >= 1e-10:\n",
    "        raise('Qs must add up to zero')\n",
    "        \n",
    "    if not (abs(norm(K1)-norm(K2)) < 1e-5 \\\n",
    "        and abs(norm(K2)-norm(K3)) < 1e-5):\n",
    "        raise('Qs must have same length')\n",
    "    \n",
    "    s3 = s3wlc(pset, N, FA, Ks)\n",
    "    s2inv = s2inverse(pset, N, FA, norm(K1))\n",
    "    \n",
    "    val = 0\n",
    "    for I0, I1, I2 in product([0,1], repeat=3):\n",
    "        #should always be positive del cubed\n",
    "#         print(\"---------\")\n",
    "#         print(\"I0 = \" + str(I0) + \" I1 = \" + str(I1) + \" I2 = \" + str(I2))\n",
    "#         print(\"delta1 = \" + str(dlta[I0]) + \"delta1 = \" + str(dlta[I1]) + \"delta1 = \" + str(dlta[I2]))\n",
    "#         print(((-1)**(I0 + I1 + I2))*dlta[I0]*dlta[I1]*dlta[I2])\n",
    "        val -= s3[I0][I1][I2]* (s2inv[I0][0] - s2inv[I0][1])*\\\n",
    "                               (s2inv[I1][0] - s2inv[I1][1])*\\\n",
    "                               (s2inv[I2][0] - s2inv[I2][1])*\\\n",
    "                                    ((-1)**(I0 + I1 + I2))*\\\n",
    "                                    dlta[I0]*dlta[I1]*dlta[I2] \n",
    "\n",
    "    return val*(N**2)\n",
    "\n",
    "def gamma4_M(pset, wigset, N, FA, Ks, dlta):\n",
    "    K1, K2, K3, K4 = Ks\n",
    "    if not (abs(norm(K1)-norm(K2)) < 1e-5\n",
    "            and abs(norm(K2)-norm(K3)) < 1e-5\n",
    "            and abs(norm(K3)-norm(K4)) < 1e-5):\n",
    "        print(K1, K2, K3, K4)\n",
    "        raise('Qs must have same length')\n",
    "    \n",
    "    K = norm(K1)\n",
    "    K12 = norm(K1+K2)\n",
    "    K13 = norm(K1+K3)\n",
    "    K14 = norm(K1+K4)\n",
    "    \n",
    "    s4 = s4wlc(pset, wigset, N, FA, Ks)\n",
    "    s31 = s3wlc(pset, N, FA, [K1, K2, -K1-K2])\n",
    "    s32 = s3wlc(pset, N, FA, [K1, K3, -K1-K3])\n",
    "    s33 = s3wlc(pset, N, FA, [K1, K4, -K1-K4])\n",
    "\n",
    "    s2inv = s2inverse(pset, N, FA, K)\n",
    "    s21inv = s2inverse(pset, N, FA, K12)\n",
    "    s22inv = s2inverse(pset, N, FA, K13)\n",
    "    s23inv = s2inverse(pset, N, FA, K14)\n",
    "\n",
    "    G4 = np.zeros((2,2,2,2),dtype=type(1+1j))\n",
    "    for a1, a2, a3, a4 in product([0,1], repeat=4):\n",
    "        for I0, I1 in product([0,1], repeat=2):\n",
    "            G4[a1][a2][a3][a4] += \\\n",
    "                s31[a1][a2][I0]*s31[a3][a4][I1]*s21inv[I0][I1] + \\\n",
    "                s32[a1][a4][I0]*s32[a2][a3][I1]*s22inv[I0][I1] + \\\n",
    "                s33[a1][a3][I0]*s33[a2][a4][I1]*s23inv[I0][I1]\n",
    "    G4 -= s4\n",
    "    \n",
    "    val = 0\n",
    "    for I0, I1, I2, I3 in product([0,1], repeat=4):\n",
    "        val += G4[I0][I1][I2][I3] *\\\n",
    "                (s2inv[I0][0] - s2inv[I0][1])*\\\n",
    "                (s2inv[I1][0] - s2inv[I1][1])*\\\n",
    "                (s2inv[I2][0] - s2inv[I2][1])*\\\n",
    "                (s2inv[I3][0] - s2inv[I3][1])*\\\n",
    "                ((-1)**(I0 + I1 + I2 + I3))*\\\n",
    "                dlta[I0]*dlta[I1]*dlta[I2]*dlta[I3]  \n",
    "                \n",
    "    return val*(N**3)"
   ]
  },
  {
   "cell_type": "code",
   "execution_count": null,
   "metadata": {},
   "outputs": [],
   "source": [
    "N_1 = 10.\n",
    "# FA_1_arr = p.arange(0.3, 0.701, .1) #np.array([0.01, 0.02, 0.05, 0.1, 0.2, 0.3, 0.4, .5, 0.6, 0.7, 0.8]) #np.arange(0.1, 0.701, 0.05) #np.array([0.01, 0.02, 0.05, 0.1, 0.3, .5, 0.7])#\n",
    "FA_1 = 0.3\n",
    "\n",
    "dlta = np.array([DEL_A1, DEL_B1, DEL_A2, DEL_B2])\n",
    "\n",
    "KS = spinodal(pset, N_1, FA_1) #TODO: WRONG b/c based on monodisperse gamma2 result .need to redo for polydisp\n",
    "q_star = KS[0]\n",
    "\n",
    "k_vec = KS\n",
    "k_ind = 0\n",
    "\n",
    "lam_q = q_star*np.array([1, 0, 0])\n",
    "\n",
    "cyl_q1 = q_star*np.array([1, 0, 0])\n",
    "cyl_q2 = 0.5*q_star*np.array([-1, np.sqrt(3), 0])\n",
    "cyl_q3 = 0.5*q_star*np.array([-1, -np.sqrt(3), 0])\n",
    "cyl_qs = np.array([cyl_q1, cyl_q2, cyl_q3])\n",
    "\n",
    "CHI = 25/N_1"
   ]
  },
  {
   "cell_type": "code",
   "execution_count": null,
   "metadata": {},
   "outputs": [],
   "source": [
    "delta_mono = [DEL_A1, -1 * DEL_A1]"
   ]
  },
  {
   "cell_type": "code",
   "execution_count": null,
   "metadata": {},
   "outputs": [],
   "source": [
    "G2mono = gamma2_M(pset, N_1, FA_1, k_vec, CHI, delta_mono)\n",
    "\n",
    "\n",
    "G3_mono_cyl = (1/6) * (1/(3*np.sqrt(3))) * 12 * gamma3_M(pset, N_1, FA_1, cyl_qs, delta_mono)\n",
    "\n",
    "G3_mono_lam = 0\n",
    "\n",
    "\n",
    "G4m_lam = (1/24) * (6) *gamma4_M(pset, wigset, N_1, FA_1, np.array([lam_q, -lam_q, lam_q, -lam_q]), delta_mono)\n",
    "\n",
    "G4m_cyl = (1/12) * (gamma4_M(pset, wigset, N_1, FA_1, np.array([cyl_q1 , -cyl_q1 , cyl_q1 , -cyl_q1 ]), delta_mono) + \\\n",
    "          4*gamma4_M(pset, wigset, N_1, FA_1, np.array([cyl_q1, -cyl_q1, cyl_q2, -cyl_q2]), delta_mono))\n",
    "\n",
    "\n",
    "G2lambd_M = sp.lambdify([DEL_A1], G2mono, 'numpy')\n",
    "\n",
    "G3lambd_cyl_M = sp.lambdify([DEL_A1], G3_mono_cyl, 'numpy')\n",
    "\n",
    "G4lambd_cyl_M = sp.lambdify([DEL_A1], G4m_cyl, 'numpy')\n",
    "\n",
    "G4lambd_lam_M = sp.lambdify([DEL_A1], G4m_lam, 'numpy')"
   ]
  },
  {
   "cell_type": "code",
   "execution_count": null,
   "metadata": {},
   "outputs": [],
   "source": [
    "# amp = optimize.fmin(lambda amp: G3lambd(amp[0], amp[1], amp[2]), [1,1,1], disp=False)\n",
    "\n",
    "amp_cyl = optimize.fmin(lambda amps: np.real(G2lambd_M(amps)+ G3lambd_cyl_M(amps) + G4lambd_cyl_M(amps)), 1, disp=False)\n",
    "\n",
    "amp_lam = optimize.fmin(lambda amps: np.real(G2lambd_M(amps[0]) + G4lambd_lam_M(amps[0])), [1], disp=False)\n",
    "\n",
    "\n",
    "mine_monoF_cyl = G2lambd_M(amp_cyl[0]) + G3lambd_cyl_M(amp_cyl[0]) + G4lambd_cyl_M(amp_cyl[0])\n",
    "\n",
    "mine_monoF_lam = G2lambd_M(amp_lam[0]) + G4lambd_lam_M(amp_lam[0])"
   ]
  },
  {
   "cell_type": "code",
   "execution_count": null,
   "metadata": {},
   "outputs": [],
   "source": []
  },
  {
   "cell_type": "code",
   "execution_count": null,
   "metadata": {},
   "outputs": [],
   "source": [
    "%%time\n",
    "#single component G2 matrix stability analysis, POST INCOMPRESSIBILITY \n",
    "\n",
    "G2vert = gamma2(pset, N_1, FA_1, q_star, CHI)\n",
    "\n",
    "G3vert_cyl = (1/6) * (1/(3*np.sqrt(3))) * 12 * gamma3(pset, N_1, FA_1, cyl_qs) \n",
    "G4vert_cyl = (1/12)* (gamma4(pset, wigset, N_1, FA_1, np.array([cyl_q1 , -cyl_q1 , cyl_q1 , -cyl_q1 ])) + \\\n",
    "          4*gamma4(pset, wigset, N_1, FA_1, np.array([cyl_q1, -cyl_q1, cyl_q2, -cyl_q2])))\n",
    "\n",
    "G3vert_lam = 0\n",
    "G4vert_lam = (1/24) * (6) * (1) * gamma4(pset, wigset, N_1, FA_1, np.array([lam_q, -lam_q, lam_q, -lam_q]))\n",
    "\n",
    "amp_c1 = optimize.fmin(lambda amps: np.real(amps**2 * G2vert + amps**3 * G3vert_cyl + amps**4 * G4vert_cyl), \\\n",
    "                      1, disp=False)\n",
    "\n",
    "amp_l1 = optimize.fmin(lambda amps: np.real(amps**2 * G2vert + amps**3 * G3vert_lam + amps**4 * G4vert_lam), \\\n",
    "                      1, disp=False)\n",
    "\n",
    "vert_cylF = amp_c1**2 * G2vert + amp_c1**3 * G3vert_cyl + amp_c1**4 * G4vert_cyl\n",
    "\n",
    "vert_lamF = amp_l1**2 * G2vert + amp_l1**3 * G3vert_lam + amp_l1**4 * G4vert_lam"
   ]
  },
  {
   "cell_type": "code",
   "execution_count": null,
   "metadata": {},
   "outputs": [],
   "source": [
    "vert_cylF"
   ]
  },
  {
   "cell_type": "code",
   "execution_count": null,
   "metadata": {},
   "outputs": [],
   "source": [
    "vert_lamF"
   ]
  },
  {
   "cell_type": "code",
   "execution_count": null,
   "metadata": {},
   "outputs": [],
   "source": []
  },
  {
   "cell_type": "code",
   "execution_count": null,
   "metadata": {},
   "outputs": [],
   "source": [
    "mine_monoF_lam"
   ]
  },
  {
   "cell_type": "code",
   "execution_count": null,
   "metadata": {},
   "outputs": [],
   "source": [
    "mine_monoF_cyl"
   ]
  },
  {
   "cell_type": "code",
   "execution_count": null,
   "metadata": {},
   "outputs": [],
   "source": []
  },
  {
   "cell_type": "code",
   "execution_count": null,
   "metadata": {},
   "outputs": [],
   "source": []
  },
  {
   "cell_type": "code",
   "execution_count": null,
   "metadata": {},
   "outputs": [],
   "source": []
  },
  {
   "cell_type": "code",
   "execution_count": null,
   "metadata": {},
   "outputs": [],
   "source": []
  },
  {
   "cell_type": "code",
   "execution_count": null,
   "metadata": {},
   "outputs": [],
   "source": [
    "# amp = optimize.fmin(lambda amp: G3lambd(amp[0], amp[1], amp[2]), [1,1,1], disp=False)\n",
    "\n",
    "G2mono = gamma2_M(pset, N_1, FA_1, k_vec, CHI, delta_mono)\n",
    "G2lambd_M = sp.lambdify([DEL_A1], G2mono, 'numpy')\n",
    "\n",
    "G3_mono_cyl = (1/6) * (1/(3*np.sqrt(3))) * 12 * gamma3_M(pset, N_1, FA_1, cyl_qs, delta_mono)\n",
    "G3lambd_cyl_M = sp.lambdify([DEL_A1], G3_mono_cyl, 'numpy')\n",
    "\n",
    "amp_mine = optimize.fmin(lambda amps: np.real(G2lambd_M(amps) + G3lambd_cyl_M(amps)), 1, disp=False)\n",
    "monoF_mine = G2lambd_M(amp_mine) + G3lambd_cyl_M(amp_mine)"
   ]
  },
  {
   "cell_type": "code",
   "execution_count": null,
   "metadata": {},
   "outputs": [],
   "source": [
    "G2vert = gamma2(pset, N_1, FA_1, k_vec, CHI)\n",
    "G3vert_cyl = (1/6) * (1/(3*np.sqrt(3))) * 12 * gamma3(pset, N_1, FA_1, cyl_qs)\n",
    "\n",
    "amp_vert = optimize.fmin(lambda amp: np.real(amp**2 * G2vert + amp**3 * G3vert_cyl), 1, disp=False)\n",
    "Fvert = amp_vert**2 * G2vert + amp_vert**3 * G3vert_cyl"
   ]
  },
  {
   "cell_type": "code",
   "execution_count": null,
   "metadata": {
    "scrolled": true
   },
   "outputs": [],
   "source": [
    "Fvert"
   ]
  },
  {
   "cell_type": "code",
   "execution_count": null,
   "metadata": {
    "scrolled": true
   },
   "outputs": [],
   "source": [
    "monoF_mine"
   ]
  },
  {
   "cell_type": "code",
   "execution_count": null,
   "metadata": {},
   "outputs": [],
   "source": [
    "G3quinn = gamma3(pset, N_1, FA_1, cyl_qs)"
   ]
  },
  {
   "cell_type": "code",
   "execution_count": null,
   "metadata": {},
   "outputs": [],
   "source": [
    "G3quinn"
   ]
  },
  {
   "cell_type": "code",
   "execution_count": null,
   "metadata": {},
   "outputs": [],
   "source": [
    "(-1)**0"
   ]
  },
  {
   "cell_type": "code",
   "execution_count": null,
   "metadata": {},
   "outputs": [],
   "source": [
    "G3mebaby = gamma3_M(pset, N_1, FA_1, cyl_qs, delta_mono)"
   ]
  },
  {
   "cell_type": "code",
   "execution_count": null,
   "metadata": {},
   "outputs": [],
   "source": [
    "sp.simplify(G3mebaby)"
   ]
  },
  {
   "cell_type": "code",
   "execution_count": null,
   "metadata": {},
   "outputs": [],
   "source": [
    "#G2 matches exactly!!\n",
    "#test g3, g4\n",
    "21.308914/4.7170954"
   ]
  },
  {
   "cell_type": "code",
   "execution_count": null,
   "metadata": {},
   "outputs": [],
   "source": []
  }
 ],
 "metadata": {
  "kernelspec": {
   "display_name": "Python 3",
   "language": "python",
   "name": "python3"
  },
  "language_info": {
   "codemirror_mode": {
    "name": "ipython",
    "version": 3
   },
   "file_extension": ".py",
   "mimetype": "text/x-python",
   "name": "python",
   "nbconvert_exporter": "python",
   "pygments_lexer": "ipython3",
   "version": "3.8.5"
  }
 },
 "nbformat": 4,
 "nbformat_minor": 4
}
